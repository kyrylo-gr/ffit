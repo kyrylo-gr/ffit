{
 "cells": [
  {
   "cell_type": "code",
   "execution_count": 1,
   "metadata": {
    "metadata": {}
   },
   "outputs": [],
   "source": [
    "from scipy.optimize import leastsq, minimize\n",
    "import jax\n",
    "import jax.numpy as jnp\n",
    "from jax import grad, jit\n",
    "from numba import njit\n",
    "import numpy as np"
   ]
  },
  {
   "cell_type": "code",
   "execution_count": null,
   "metadata": {},
   "outputs": [],
   "source": [
    "import jax\n",
    "from jax import Array, jit, numpy as jnp\n",
    "from typing import Callable\n",
    "\n",
    "\n",
    "@jit\n",
    "def func(a: Array, arg2: int) -> Array:\n",
    "    return a + arg2\n",
    "\n",
    "\n",
    "@jit\n",
    "def myjittedfun(f: Callable, a) -> Array:\n",
    "    return f(a)\n",
    "\n",
    "\n",
    "closure = jax.tree_util.Partial(func, arg2=0)\n",
    "a = jnp.array([3, 4])\n",
    "print(myjittedfun(closure, a))"
   ]
  },
  {
   "cell_type": "markdown",
   "metadata": {},
   "source": [
    "## Linear fit. A*x+b"
   ]
  },
  {
   "cell_type": "code",
   "execution_count": 2,
   "metadata": {
    "metadata": {}
   },
   "outputs": [
    {
     "name": "stdout",
     "output_type": "stream",
     "text": [
      "Success to fit. Right parameters: [50, 30, 60, -100] Fitted parameters: [ 50.00270706  29.99870055  59.99915987 -99.99993824]\n",
      "235 ms ± 5.17 ms per loop (mean ± std. dev. of 7 runs, 1 loop each)\n"
     ]
    }
   ],
   "source": [
    "def func_to_fit(x, a):\n",
    "    return a[0] * x + a[1]+a[2]*x**2+a[3]*x**3\n",
    "\n",
    "\n",
    "x = np.linspace(0, 10, 1_000_000)\n",
    "x_right = [50, 30, 60, -100]\n",
    "x0 = [1.0, 1.0, 1.0, 1.0]\n",
    "\n",
    "data = func_to_fit(x, x_right) + np.random.randn(len(x))\n",
    "\n",
    "def to_minimize(args):\n",
    "    return func_to_fit(x, args) - data\n",
    "\n",
    "\n",
    "\n",
    "res, _ = leastsq(to_minimize, x0,)\n",
    "if np.abs(np.sum(res - x_right))>0.5:\n",
    "    print(\"Failed to fit. Right parameters:\", x_right, \"Fitted parameters:\", res)\n",
    "else:\n",
    "    print(\"Success to fit. Right parameters:\", x_right, \"Fitted parameters:\", res)\n",
    "    \n",
    "%timeit leastsq(to_minimize, x0)\n"
   ]
  },
  {
   "cell_type": "markdown",
   "metadata": {},
   "source": [
    "## Fit Sin"
   ]
  },
  {
   "cell_type": "code",
   "execution_count": 15,
   "metadata": {
    "metadata": {}
   },
   "outputs": [
    {
     "name": "stdout",
     "output_type": "stream",
     "text": [
      "Success to fit. Right parameters: [5, 2, 6] Fitted parameters: [5.00248733 1.9999943  5.99942826]\n",
      "156 ms ± 1.89 ms per loop (mean ± std. dev. of 7 runs, 10 loops each)\n"
     ]
    }
   ],
   "source": [
    "def func_to_fit(x, a):\n",
    "    return a[0]*np.sin(a[1] * x) + a[2]\n",
    "\n",
    "\n",
    "x = np.linspace(0, 10, 1_000_000)\n",
    "x_right = [5, 2, 6]\n",
    "x0 = [1,2,2]\n",
    "\n",
    "data = func_to_fit(x, x_right) + np.random.randn(len(x))\n",
    "\n",
    "def to_minimize(args):\n",
    "    return func_to_fit(x, args) - data\n",
    "\n",
    "\n",
    "\n",
    "res, _ = leastsq(to_minimize, x0,)\n",
    "if np.abs(np.sum(res - x_right))>0.5:\n",
    "    print(\"Failed to fit. Right parameters:\", x_right, \"Fitted parameters:\", res)\n",
    "else:\n",
    "    print(\"Success to fit. Right parameters:\", x_right, \"Fitted parameters:\", res)\n",
    "    \n",
    "%timeit leastsq(to_minimize, x0)\n"
   ]
  },
  {
   "cell_type": "code",
   "execution_count": 14,
   "metadata": {
    "metadata": {}
   },
   "outputs": [
    {
     "name": "stdout",
     "output_type": "stream",
     "text": [
      "Success to fit. Right parameters: [5, 2, 6] Fitted parameters: [4.999143   1.99997798 5.99919216]\n",
      "117 ms ± 1.56 ms per loop (mean ± std. dev. of 7 runs, 10 loops each)\n"
     ]
    }
   ],
   "source": [
    "from jax import jit as jax_jit\n",
    "import jax.numpy as jnp\n",
    "\n",
    "@jax_jit\n",
    "def func_to_fit(x, a):\n",
    "    return a[0]*jnp.sin(a[1] * x) + a[2]\n",
    "\n",
    "x = np.linspace(0, 10, 1_000_000)\n",
    "x_right = [5, 2, 6]\n",
    "x0 = [1,2,2]\n",
    "\n",
    "data = func_to_fit(x, x_right) + np.random.randn(len(x))\n",
    "\n",
    "def to_minimize(args):\n",
    "    return func_to_fit(x, args) - data\n",
    "\n",
    "\n",
    "\n",
    "res, _ = leastsq(to_minimize, x0,)\n",
    "if np.abs(np.sum(res - x_right))>0.5:\n",
    "    print(\"Failed to fit. Right parameters:\", x_right, \"Fitted parameters:\", res)\n",
    "else:\n",
    "    print(\"Success to fit. Right parameters:\", x_right, \"Fitted parameters:\", res)\n",
    "    \n",
    "%timeit leastsq(to_minimize, x0)\n"
   ]
  },
  {
   "cell_type": "code",
   "execution_count": 72,
   "metadata": {},
   "outputs": [
    {
     "data": {
      "text/plain": [
       "(array([  49.99922858,   30.00203631,   60.00004841, -100.00000127]),\n",
       " array([[ 1.19999225e-05, -1.19999045e-05, -2.69998300e-06,\n",
       "          1.67998915e-07],\n",
       "        [-1.19999045e-05,  1.59998805e-05,  2.39997969e-06,\n",
       "         -1.39998746e-07],\n",
       "        [-2.69998300e-06,  2.39997969e-06,  6.47996168e-07,\n",
       "         -4.19997494e-08],\n",
       "        [ 1.67998915e-07, -1.39998746e-07, -4.19997494e-08,\n",
       "          2.79998330e-09]]),\n",
       " {'fvec': array([-0.57746262,  0.706797  , -0.96950354, ..., -0.26087287,\n",
       "         -0.42506463, -0.01513807]),\n",
       "  'nfev': 11,\n",
       "  'fjac': array([[-3.77964944e+05,  0.00000000e+00,  0.00000000e+00, ...,\n",
       "           2.64573211e-03,  2.64574005e-03,  2.64574800e-03],\n",
       "         [-4.40958883e+04, -7.45356553e+03,  5.33119314e-13, ...,\n",
       "          -2.23601695e-03, -2.23603767e-03, -2.23605854e-03],\n",
       "         [-5.29150395e+03, -2.23606854e+03, -5.77350411e+02, ...,\n",
       "           1.73198846e-03,  1.73202985e-03,  1.73203776e-03],\n",
       "         [-6.61437669e+02, -5.59016865e+02, -4.33012597e+02, ...,\n",
       "          -1.00852865e-03, -1.00857510e-03, -1.00856317e-03]]),\n",
       "  'ipvt': array([4, 3, 1, 2], dtype=int32),\n",
       "  'qtf': array([ 0.01632679, -0.00113626, -0.00031764, -0.00101372])},\n",
       " 'Both actual and predicted relative reductions in the sum of squares\\n  are at most 0.000000 and the relative error between two consecutive iterates is at \\n  most 0.000000',\n",
       " 3)"
      ]
     },
     "execution_count": 72,
     "metadata": {},
     "output_type": "execute_result"
    }
   ],
   "source": [
    "leastsq(to_minimize, x0, full_output=True)"
   ]
  },
  {
   "cell_type": "code",
   "execution_count": null,
   "metadata": {},
   "outputs": [
    {
     "name": "stdout",
     "output_type": "stream",
     "text": [
      "2.03 s ± 372 ms per loop (mean ± std. dev. of 7 runs, 1 loop each)\n",
      "26.4 ms ± 3.57 ms per loop (mean ± std. dev. of 7 runs, 10 loops each)\n"
     ]
    }
   ],
   "source": [
    "import jax.numpy as jnp\n",
    "from numba import njit\n",
    "import numpy as np\n",
    "from jax import jit as jax_jit\n",
    "\n",
    "def jax_function_nocc(x):\n",
    "    res = jnp.copy(x)\n",
    "    for _ in range(100):\n",
    "        res += jnp.sin(x) @ jnp.cos(x)\n",
    "    return res\n",
    "\n",
    "@jax_jit\n",
    "def jax_function_compile(x):\n",
    "    res = jnp.copy(x)\n",
    "    for _ in range(100):\n",
    "        res += jnp.sin(x) @ jnp.cos(x)\n",
    "    return res\n",
    "\n",
    "# Compile functions\n",
    "jax_function_nocc(x_jax)\n",
    "jax_function_compile(x_jax)\n",
    "\n",
    "# time the functions\n",
    "%timeit jax_function_nocc(x_jax)\n",
    "%timeit jax_function_compile(x_jax)"
   ]
  }
 ],
 "metadata": {
  "kernelspec": {
   "display_name": "phd-main",
   "language": "python",
   "name": "python3"
  },
  "language_info": {
   "codemirror_mode": {
    "name": "ipython",
    "version": 3
   },
   "file_extension": ".py",
   "mimetype": "text/x-python",
   "name": "python",
   "nbconvert_exporter": "python",
   "pygments_lexer": "ipython3",
   "version": "3.10.11"
  }
 },
 "nbformat": 4,
 "nbformat_minor": 2
}
