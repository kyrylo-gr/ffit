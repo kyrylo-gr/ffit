{
 "cells": [
  {
   "cell_type": "code",
   "execution_count": 7,
   "metadata": {},
   "outputs": [],
   "source": [
    "import numpy as np\n",
    "import scipy.optimize as optimize\n",
    "import matplotlib.pyplot as plt"
   ]
  },
  {
   "cell_type": "code",
   "execution_count": 8,
   "metadata": {},
   "outputs": [
    {
     "data": {
      "text/plain": [
       "[<matplotlib.lines.Line2D at 0x7f7b4945ab30>]"
      ]
     },
     "execution_count": 8,
     "metadata": {},
     "output_type": "execute_result"
    },
    {
     "data": {
      "image/png": "[encoded data removed]",
      "text/plain": [
       "<Figure size 432x288 with 1 Axes>"
      ]
     },
     "metadata": {
      "needs_background": "light"
     },
     "output_type": "display_data"
    }
   ],
   "source": [
    "x = np.arange(0, 2*np.pi, .1)\n",
    "y = np.sin(x)\n",
    "plt.plot(x, y)"
   ]
  },
  {
   "cell_type": "code",
   "execution_count": 1,
   "metadata": {},
   "outputs": [],
   "source": [
    "%load_ext cython\n"
   ]
  },
  {
   "cell_type": "code",
   "execution_count": 2,
   "metadata": {},
   "outputs": [],
   "source": [
    "import numpy as np\n",
    "import scipy.optimize as optimize\n",
    "def chisq_py(func, x, data, params) -> np.ndarray:\n",
    "    return np.sum((func(x, params) - data)**2)\n",
    "\n",
    "def sin_func_py(x, params):\n",
    "    return params[0]*np.sin(params[1]*x + params[2]) + params[3]\n",
    "\n",
    "def fit(func, chisq, x, y, guess):\n",
    "    fit_params = optimize.minimize(\n",
    "                fun = lambda params: chisq_py(func, x, y, params),\n",
    "                x0 = guess,\n",
    "                jac = \"3-point\",\n",
    "                method=\"SLSQP\").x\n",
    "    return fit_params\n",
    "\n",
    "def fit_min(chisq, x, y, guess):\n",
    "    fit_params = optimize.minimize(\n",
    "                fun = lambda params: chisq(x, y, params),\n",
    "                x0 = guess,\n",
    "                jac = \"3-point\",\n",
    "                method=\"SLSQP\").x\n",
    "    return fit_params\n",
    "\n",
    "\n",
    "def sfit(func, chisq, x, y, guess):\n",
    "    return optimize.basinhopping(\n",
    "                func = lambda params: chisq_py(func, x, y, params),\n",
    "                x0 = guess,\n",
    "                T = 1,\n",
    "                # minimizer_kwargs={\"jac\": lambda params: chisq_jac(sin_jac, x, y_data, params)}\n",
    "        ).x\n",
    "\n",
    "def sfit_2(chisqf, x, y, guess):\n",
    "    return optimize.basinhopping(\n",
    "                func = lambda params: chisqf(x, y, params),\n",
    "                x0 = guess,\n",
    "                T = 1,\n",
    "                # minimizer_kwargs={\"jac\": lambda params: chisq_jac(sin_jac, x, y_data, params)}\n",
    "        ).x\n",
    "    \n",
    "    \n",
    "def predict(func, x, params):\n",
    "    return func(x, *params)\n"
   ]
  },
  {
   "cell_type": "code",
   "execution_count": 26,
   "metadata": {},
   "outputs": [
    {
     "name": "stdout",
     "output_type": "stream",
     "text": [
      "4.05 ms ± 31.9 µs per loop (mean ± std. dev. of 7 runs, 100 loops each)\n"
     ]
    }
   ],
   "source": [
    "guess = [.5, .5, 0, 0]\n",
    "%timeit fit(sin_func_py, chisq_py, x, y, guess)"
   ]
  },
  {
   "cell_type": "code",
   "execution_count": 36,
   "metadata": {
    "metadata": {}
   },
   "outputs": [
    {
     "data": {
      "text/html": [
       "<!DOCTYPE html>\n",
       "<!-- Generated by Cython 0.29.36 -->\n",
       "<html>\n",
       "<head>\n",
       "    <meta http-equiv=\"Content-Type\" content=\"text/html; charset=utf-8\" />\n",
       "    <title>Cython: _cython_magic_6d1de161bb0ed66e7cfd765921783d2e.pyx</title>\n",
       "    <style type=\"text/css\">\n",
       "    \n",
       "body.cython { font-family: courier; font-size: 12; }\n",
       "\n",
       ".cython.tag  {  }\n",
       ".cython.line { margin: 0em }\n",
       ".cython.code { font-size: 9; color: #444444; display: none; margin: 0px 0px 0px 8px; border-left: 8px none; }\n",
       "\n",
       ".cython.line .run { background-color: #B0FFB0; }\n",
       ".cython.line .mis { background-color: #FFB0B0; }\n",
       ".cython.code.run  { border-left: 8px solid #B0FFB0; }\n",
       ".cython.code.mis  { border-left: 8px solid #FFB0B0; }\n",
       "\n",
       ".cython.code .py_c_api  { color: red; }\n",
       ".cython.code .py_macro_api  { color: #FF7000; }\n",
       ".cython.code .pyx_c_api  { color: #FF3000; }\n",
       ".cython.code .pyx_macro_api  { color: #FF7000; }\n",
       ".cython.code .refnanny  { color: #FFA000; }\n",
       ".cython.code .trace  { color: #FFA000; }\n",
       ".cython.code .error_goto  { color: #FFA000; }\n",
       "\n",
       ".cython.code .coerce  { color: #008000; border: 1px dotted #008000 }\n",
       ".cython.code .py_attr { color: #FF0000; font-weight: bold; }\n",
       ".cython.code .c_attr  { color: #0000FF; }\n",
       ".cython.code .py_call { color: #FF0000; font-weight: bold; }\n",
       ".cython.code .c_call  { color: #0000FF; }\n",
       "\n",
       ".cython.score-0 {background-color: #FFFFff;}\n",
       ".cython.score-1 {background-color: #FFFFe7;}\n",
       ".cython.score-2 {background-color: #FFFFd4;}\n",
       ".cython.score-3 {background-color: #FFFFc4;}\n",
       ".cython.score-4 {background-color: #FFFFb6;}\n",
       ".cython.score-5 {background-color: #FFFFaa;}\n",
       ".cython.score-6 {background-color: #FFFF9f;}\n",
       ".cython.score-7 {background-color: #FFFF96;}\n",
       ".cython.score-8 {background-color: #FFFF8d;}\n",
       ".cython.score-9 {background-color: #FFFF86;}\n",
       ".cython.score-10 {background-color: #FFFF7f;}\n",
       ".cython.score-11 {background-color: #FFFF79;}\n",
       ".cython.score-12 {background-color: #FFFF73;}\n",
       ".cython.score-13 {background-color: #FFFF6e;}\n",
       ".cython.score-14 {background-color: #FFFF6a;}\n",
       ".cython.score-15 {background-color: #FFFF66;}\n",
       ".cython.score-16 {background-color: #FFFF62;}\n",
       ".cython.score-17 {background-color: #FFFF5e;}\n",
       ".cython.score-18 {background-color: #FFFF5b;}\n",
       ".cython.score-19 {background-color: #FFFF57;}\n",
       ".cython.score-20 {background-color: #FFFF55;}\n",
       ".cython.score-21 {background-color: #FFFF52;}\n",
       ".cython.score-22 {background-color: #FFFF4f;}\n",
       ".cython.score-23 {background-color: #FFFF4d;}\n",
       ".cython.score-24 {background-color: #FFFF4b;}\n",
       ".cython.score-25 {background-color: #FFFF48;}\n",
       ".cython.score-26 {background-color: #FFFF46;}\n",
       ".cython.score-27 {background-color: #FFFF44;}\n",
       ".cython.score-28 {background-color: #FFFF43;}\n",
       ".cython.score-29 {background-color: #FFFF41;}\n",
       ".cython.score-30 {background-color: #FFFF3f;}\n",
       ".cython.score-31 {background-color: #FFFF3e;}\n",
       ".cython.score-32 {background-color: #FFFF3c;}\n",
       ".cython.score-33 {background-color: #FFFF3b;}\n",
       ".cython.score-34 {background-color: #FFFF39;}\n",
       ".cython.score-35 {background-color: #FFFF38;}\n",
       ".cython.score-36 {background-color: #FFFF37;}\n",
       ".cython.score-37 {background-color: #FFFF36;}\n",
       ".cython.score-38 {background-color: #FFFF35;}\n",
       ".cython.score-39 {background-color: #FFFF34;}\n",
       ".cython.score-40 {background-color: #FFFF33;}\n",
       ".cython.score-41 {background-color: #FFFF32;}\n",
       ".cython.score-42 {background-color: #FFFF31;}\n",
       ".cython.score-43 {background-color: #FFFF30;}\n",
       ".cython.score-44 {background-color: #FFFF2f;}\n",
       ".cython.score-45 {background-color: #FFFF2e;}\n",
       ".cython.score-46 {background-color: #FFFF2d;}\n",
       ".cython.score-47 {background-color: #FFFF2c;}\n",
       ".cython.score-48 {background-color: #FFFF2b;}\n",
       ".cython.score-49 {background-color: #FFFF2b;}\n",
       ".cython.score-50 {background-color: #FFFF2a;}\n",
       ".cython.score-51 {background-color: #FFFF29;}\n",
       ".cython.score-52 {background-color: #FFFF29;}\n",
       ".cython.score-53 {background-color: #FFFF28;}\n",
       ".cython.score-54 {background-color: #FFFF27;}\n",
       ".cython.score-55 {background-color: #FFFF27;}\n",
       ".cython.score-56 {background-color: #FFFF26;}\n",
       ".cython.score-57 {background-color: #FFFF26;}\n",
       ".cython.score-58 {background-color: #FFFF25;}\n",
       ".cython.score-59 {background-color: #FFFF24;}\n",
       ".cython.score-60 {background-color: #FFFF24;}\n",
       ".cython.score-61 {background-color: #FFFF23;}\n",
       ".cython.score-62 {background-color: #FFFF23;}\n",
       ".cython.score-63 {background-color: #FFFF22;}\n",
       ".cython.score-64 {background-color: #FFFF22;}\n",
       ".cython.score-65 {background-color: #FFFF22;}\n",
       ".cython.score-66 {background-color: #FFFF21;}\n",
       ".cython.score-67 {background-color: #FFFF21;}\n",
       ".cython.score-68 {background-color: #FFFF20;}\n",
       ".cython.score-69 {background-color: #FFFF20;}\n",
       ".cython.score-70 {background-color: #FFFF1f;}\n",
       ".cython.score-71 {background-color: #FFFF1f;}\n",
       ".cython.score-72 {background-color: #FFFF1f;}\n",
       ".cython.score-73 {background-color: #FFFF1e;}\n",
       ".cython.score-74 {background-color: #FFFF1e;}\n",
       ".cython.score-75 {background-color: #FFFF1e;}\n",
       ".cython.score-76 {background-color: #FFFF1d;}\n",
       ".cython.score-77 {background-color: #FFFF1d;}\n",
       ".cython.score-78 {background-color: #FFFF1c;}\n",
       ".cython.score-79 {background-color: #FFFF1c;}\n",
       ".cython.score-80 {background-color: #FFFF1c;}\n",
       ".cython.score-81 {background-color: #FFFF1c;}\n",
       ".cython.score-82 {background-color: #FFFF1b;}\n",
       ".cython.score-83 {background-color: #FFFF1b;}\n",
       ".cython.score-84 {background-color: #FFFF1b;}\n",
       ".cython.score-85 {background-color: #FFFF1a;}\n",
       ".cython.score-86 {background-color: #FFFF1a;}\n",
       ".cython.score-87 {background-color: #FFFF1a;}\n",
       ".cython.score-88 {background-color: #FFFF1a;}\n",
       ".cython.score-89 {background-color: #FFFF19;}\n",
       ".cython.score-90 {background-color: #FFFF19;}\n",
       ".cython.score-91 {background-color: #FFFF19;}\n",
       ".cython.score-92 {background-color: #FFFF19;}\n",
       ".cython.score-93 {background-color: #FFFF18;}\n",
       ".cython.score-94 {background-color: #FFFF18;}\n",
       ".cython.score-95 {background-color: #FFFF18;}\n",
       ".cython.score-96 {background-color: #FFFF18;}\n",
       ".cython.score-97 {background-color: #FFFF17;}\n",
       ".cython.score-98 {background-color: #FFFF17;}\n",
       ".cython.score-99 {background-color: #FFFF17;}\n",
       ".cython.score-100 {background-color: #FFFF17;}\n",
       ".cython.score-101 {background-color: #FFFF16;}\n",
       ".cython.score-102 {background-color: #FFFF16;}\n",
       ".cython.score-103 {background-color: #FFFF16;}\n",
       ".cython.score-104 {background-color: #FFFF16;}\n",
       ".cython.score-105 {background-color: #FFFF16;}\n",
       ".cython.score-106 {background-color: #FFFF15;}\n",
       ".cython.score-107 {background-color: #FFFF15;}\n",
       ".cython.score-108 {background-color: #FFFF15;}\n",
       ".cython.score-109 {background-color: #FFFF15;}\n",
       ".cython.score-110 {background-color: #FFFF15;}\n",
       ".cython.score-111 {background-color: #FFFF15;}\n",
       ".cython.score-112 {background-color: #FFFF14;}\n",
       ".cython.score-113 {background-color: #FFFF14;}\n",
       ".cython.score-114 {background-color: #FFFF14;}\n",
       ".cython.score-115 {background-color: #FFFF14;}\n",
       ".cython.score-116 {background-color: #FFFF14;}\n",
       ".cython.score-117 {background-color: #FFFF14;}\n",
       ".cython.score-118 {background-color: #FFFF13;}\n",
       ".cython.score-119 {background-color: #FFFF13;}\n",
       ".cython.score-120 {background-color: #FFFF13;}\n",
       ".cython.score-121 {background-color: #FFFF13;}\n",
       ".cython.score-122 {background-color: #FFFF13;}\n",
       ".cython.score-123 {background-color: #FFFF13;}\n",
       ".cython.score-124 {background-color: #FFFF13;}\n",
       ".cython.score-125 {background-color: #FFFF12;}\n",
       ".cython.score-126 {background-color: #FFFF12;}\n",
       ".cython.score-127 {background-color: #FFFF12;}\n",
       ".cython.score-128 {background-color: #FFFF12;}\n",
       ".cython.score-129 {background-color: #FFFF12;}\n",
       ".cython.score-130 {background-color: #FFFF12;}\n",
       ".cython.score-131 {background-color: #FFFF12;}\n",
       ".cython.score-132 {background-color: #FFFF11;}\n",
       ".cython.score-133 {background-color: #FFFF11;}\n",
       ".cython.score-134 {background-color: #FFFF11;}\n",
       ".cython.score-135 {background-color: #FFFF11;}\n",
       ".cython.score-136 {background-color: #FFFF11;}\n",
       ".cython.score-137 {background-color: #FFFF11;}\n",
       ".cython.score-138 {background-color: #FFFF11;}\n",
       ".cython.score-139 {background-color: #FFFF11;}\n",
       ".cython.score-140 {background-color: #FFFF11;}\n",
       ".cython.score-141 {background-color: #FFFF10;}\n",
       ".cython.score-142 {background-color: #FFFF10;}\n",
       ".cython.score-143 {background-color: #FFFF10;}\n",
       ".cython.score-144 {background-color: #FFFF10;}\n",
       ".cython.score-145 {background-color: #FFFF10;}\n",
       ".cython.score-146 {background-color: #FFFF10;}\n",
       ".cython.score-147 {background-color: #FFFF10;}\n",
       ".cython.score-148 {background-color: #FFFF10;}\n",
       ".cython.score-149 {background-color: #FFFF10;}\n",
       ".cython.score-150 {background-color: #FFFF0f;}\n",
       ".cython.score-151 {background-color: #FFFF0f;}\n",
       ".cython.score-152 {background-color: #FFFF0f;}\n",
       ".cython.score-153 {background-color: #FFFF0f;}\n",
       ".cython.score-154 {background-color: #FFFF0f;}\n",
       ".cython.score-155 {background-color: #FFFF0f;}\n",
       ".cython.score-156 {background-color: #FFFF0f;}\n",
       ".cython.score-157 {background-color: #FFFF0f;}\n",
       ".cython.score-158 {background-color: #FFFF0f;}\n",
       ".cython.score-159 {background-color: #FFFF0f;}\n",
       ".cython.score-160 {background-color: #FFFF0f;}\n",
       ".cython.score-161 {background-color: #FFFF0e;}\n",
       ".cython.score-162 {background-color: #FFFF0e;}\n",
       ".cython.score-163 {background-color: #FFFF0e;}\n",
       ".cython.score-164 {background-color: #FFFF0e;}\n",
       ".cython.score-165 {background-color: #FFFF0e;}\n",
       ".cython.score-166 {background-color: #FFFF0e;}\n",
       ".cython.score-167 {background-color: #FFFF0e;}\n",
       ".cython.score-168 {background-color: #FFFF0e;}\n",
       ".cython.score-169 {background-color: #FFFF0e;}\n",
       ".cython.score-170 {background-color: #FFFF0e;}\n",
       ".cython.score-171 {background-color: #FFFF0e;}\n",
       ".cython.score-172 {background-color: #FFFF0e;}\n",
       ".cython.score-173 {background-color: #FFFF0d;}\n",
       ".cython.score-174 {background-color: #FFFF0d;}\n",
       ".cython.score-175 {background-color: #FFFF0d;}\n",
       ".cython.score-176 {background-color: #FFFF0d;}\n",
       ".cython.score-177 {background-color: #FFFF0d;}\n",
       ".cython.score-178 {background-color: #FFFF0d;}\n",
       ".cython.score-179 {background-color: #FFFF0d;}\n",
       ".cython.score-180 {background-color: #FFFF0d;}\n",
       ".cython.score-181 {background-color: #FFFF0d;}\n",
       ".cython.score-182 {background-color: #FFFF0d;}\n",
       ".cython.score-183 {background-color: #FFFF0d;}\n",
       ".cython.score-184 {background-color: #FFFF0d;}\n",
       ".cython.score-185 {background-color: #FFFF0d;}\n",
       ".cython.score-186 {background-color: #FFFF0d;}\n",
       ".cython.score-187 {background-color: #FFFF0c;}\n",
       ".cython.score-188 {background-color: #FFFF0c;}\n",
       ".cython.score-189 {background-color: #FFFF0c;}\n",
       ".cython.score-190 {background-color: #FFFF0c;}\n",
       ".cython.score-191 {background-color: #FFFF0c;}\n",
       ".cython.score-192 {background-color: #FFFF0c;}\n",
       ".cython.score-193 {background-color: #FFFF0c;}\n",
       ".cython.score-194 {background-color: #FFFF0c;}\n",
       ".cython.score-195 {background-color: #FFFF0c;}\n",
       ".cython.score-196 {background-color: #FFFF0c;}\n",
       ".cython.score-197 {background-color: #FFFF0c;}\n",
       ".cython.score-198 {background-color: #FFFF0c;}\n",
       ".cython.score-199 {background-color: #FFFF0c;}\n",
       ".cython.score-200 {background-color: #FFFF0c;}\n",
       ".cython.score-201 {background-color: #FFFF0c;}\n",
       ".cython.score-202 {background-color: #FFFF0c;}\n",
       ".cython.score-203 {background-color: #FFFF0b;}\n",
       ".cython.score-204 {background-color: #FFFF0b;}\n",
       ".cython.score-205 {background-color: #FFFF0b;}\n",
       ".cython.score-206 {background-color: #FFFF0b;}\n",
       ".cython.score-207 {background-color: #FFFF0b;}\n",
       ".cython.score-208 {background-color: #FFFF0b;}\n",
       ".cython.score-209 {background-color: #FFFF0b;}\n",
       ".cython.score-210 {background-color: #FFFF0b;}\n",
       ".cython.score-211 {background-color: #FFFF0b;}\n",
       ".cython.score-212 {background-color: #FFFF0b;}\n",
       ".cython.score-213 {background-color: #FFFF0b;}\n",
       ".cython.score-214 {background-color: #FFFF0b;}\n",
       ".cython.score-215 {background-color: #FFFF0b;}\n",
       ".cython.score-216 {background-color: #FFFF0b;}\n",
       ".cython.score-217 {background-color: #FFFF0b;}\n",
       ".cython.score-218 {background-color: #FFFF0b;}\n",
       ".cython.score-219 {background-color: #FFFF0b;}\n",
       ".cython.score-220 {background-color: #FFFF0b;}\n",
       ".cython.score-221 {background-color: #FFFF0b;}\n",
       ".cython.score-222 {background-color: #FFFF0a;}\n",
       ".cython.score-223 {background-color: #FFFF0a;}\n",
       ".cython.score-224 {background-color: #FFFF0a;}\n",
       ".cython.score-225 {background-color: #FFFF0a;}\n",
       ".cython.score-226 {background-color: #FFFF0a;}\n",
       ".cython.score-227 {background-color: #FFFF0a;}\n",
       ".cython.score-228 {background-color: #FFFF0a;}\n",
       ".cython.score-229 {background-color: #FFFF0a;}\n",
       ".cython.score-230 {background-color: #FFFF0a;}\n",
       ".cython.score-231 {background-color: #FFFF0a;}\n",
       ".cython.score-232 {background-color: #FFFF0a;}\n",
       ".cython.score-233 {background-color: #FFFF0a;}\n",
       ".cython.score-234 {background-color: #FFFF0a;}\n",
       ".cython.score-235 {background-color: #FFFF0a;}\n",
       ".cython.score-236 {background-color: #FFFF0a;}\n",
       ".cython.score-237 {background-color: #FFFF0a;}\n",
       ".cython.score-238 {background-color: #FFFF0a;}\n",
       ".cython.score-239 {background-color: #FFFF0a;}\n",
       ".cython.score-240 {background-color: #FFFF0a;}\n",
       ".cython.score-241 {background-color: #FFFF0a;}\n",
       ".cython.score-242 {background-color: #FFFF0a;}\n",
       ".cython.score-243 {background-color: #FFFF0a;}\n",
       ".cython.score-244 {background-color: #FFFF0a;}\n",
       ".cython.score-245 {background-color: #FFFF0a;}\n",
       ".cython.score-246 {background-color: #FFFF09;}\n",
       ".cython.score-247 {background-color: #FFFF09;}\n",
       ".cython.score-248 {background-color: #FFFF09;}\n",
       ".cython.score-249 {background-color: #FFFF09;}\n",
       ".cython.score-250 {background-color: #FFFF09;}\n",
       ".cython.score-251 {background-color: #FFFF09;}\n",
       ".cython.score-252 {background-color: #FFFF09;}\n",
       ".cython.score-253 {background-color: #FFFF09;}\n",
       ".cython.score-254 {background-color: #FFFF09;}\n",
       "pre { line-height: 125%; }\n",
       "td.linenos .normal { color: inherit; background-color: transparent; padding-left: 5px; padding-right: 5px; }\n",
       "span.linenos { color: inherit; background-color: transparent; padding-left: 5px; padding-right: 5px; }\n",
       "td.linenos .special { color: #000000; background-color: #ffffc0; padding-left: 5px; padding-right: 5px; }\n",
       "span.linenos.special { color: #000000; background-color: #ffffc0; padding-left: 5px; padding-right: 5px; }\n",
       ".cython .hll { background-color: #ffffcc }\n",
       ".cython { background: #f8f8f8; }\n",
       ".cython .c { color: #3D7B7B; font-style: italic } /* Comment */\n",
       ".cython .err { border: 1px solid #FF0000 } /* Error */\n",
       ".cython .k { color: #008000; font-weight: bold } /* Keyword */\n",
       ".cython .o { color: #666666 } /* Operator */\n",
       ".cython .ch { color: #3D7B7B; font-style: italic } /* Comment.Hashbang */\n",
       ".cython .cm { color: #3D7B7B; font-style: italic } /* Comment.Multiline */\n",
       ".cython .cp { color: #9C6500 } /* Comment.Preproc */\n",
       ".cython .cpf { color: #3D7B7B; font-style: italic } /* Comment.PreprocFile */\n",
       ".cython .c1 { color: #3D7B7B; font-style: italic } /* Comment.Single */\n",
       ".cython .cs { color: #3D7B7B; font-style: italic } /* Comment.Special */\n",
       ".cython .gd { color: #A00000 } /* Generic.Deleted */\n",
       ".cython .ge { font-style: italic } /* Generic.Emph */\n",
       ".cython .ges { font-weight: bold; font-style: italic } /* Generic.EmphStrong */\n",
       ".cython .gr { color: #E40000 } /* Generic.Error */\n",
       ".cython .gh { color: #000080; font-weight: bold } /* Generic.Heading */\n",
       ".cython .gi { color: #008400 } /* Generic.Inserted */\n",
       ".cython .go { color: #717171 } /* Generic.Output */\n",
       ".cython .gp { color: #000080; font-weight: bold } /* Generic.Prompt */\n",
       ".cython .gs { font-weight: bold } /* Generic.Strong */\n",
       ".cython .gu { color: #800080; font-weight: bold } /* Generic.Subheading */\n",
       ".cython .gt { color: #0044DD } /* Generic.Traceback */\n",
       ".cython .kc { color: #008000; font-weight: bold } /* Keyword.Constant */\n",
       ".cython .kd { color: #008000; font-weight: bold } /* Keyword.Declaration */\n",
       ".cython .kn { color: #008000; font-weight: bold } /* Keyword.Namespace */\n",
       ".cython .kp { color: #008000 } /* Keyword.Pseudo */\n",
       ".cython .kr { color: #008000; font-weight: bold } /* Keyword.Reserved */\n",
       ".cython .kt { color: #B00040 } /* Keyword.Type */\n",
       ".cython .m { color: #666666 } /* Literal.Number */\n",
       ".cython .s { color: #BA2121 } /* Literal.String */\n",
       ".cython .na { color: #687822 } /* Name.Attribute */\n",
       ".cython .nb { color: #008000 } /* Name.Builtin */\n",
       ".cython .nc { color: #0000FF; font-weight: bold } /* Name.Class */\n",
       ".cython .no { color: #880000 } /* Name.Constant */\n",
       ".cython .nd { color: #AA22FF } /* Name.Decorator */\n",
       ".cython .ni { color: #717171; font-weight: bold } /* Name.Entity */\n",
       ".cython .ne { color: #CB3F38; font-weight: bold } /* Name.Exception */\n",
       ".cython .nf { color: #0000FF } /* Name.Function */\n",
       ".cython .nl { color: #767600 } /* Name.Label */\n",
       ".cython .nn { color: #0000FF; font-weight: bold } /* Name.Namespace */\n",
       ".cython .nt { color: #008000; font-weight: bold } /* Name.Tag */\n",
       ".cython .nv { color: #19177C } /* Name.Variable */\n",
       ".cython .ow { color: #AA22FF; font-weight: bold } /* Operator.Word */\n",
       ".cython .w { color: #bbbbbb } /* Text.Whitespace */\n",
       ".cython .mb { color: #666666 } /* Literal.Number.Bin */\n",
       ".cython .mf { color: #666666 } /* Literal.Number.Float */\n",
       ".cython .mh { color: #666666 } /* Literal.Number.Hex */\n",
       ".cython .mi { color: #666666 } /* Literal.Number.Integer */\n",
       ".cython .mo { color: #666666 } /* Literal.Number.Oct */\n",
       ".cython .sa { color: #BA2121 } /* Literal.String.Affix */\n",
       ".cython .sb { color: #BA2121 } /* Literal.String.Backtick */\n",
       ".cython .sc { color: #BA2121 } /* Literal.String.Char */\n",
       ".cython .dl { color: #BA2121 } /* Literal.String.Delimiter */\n",
       ".cython .sd { color: #BA2121; font-style: italic } /* Literal.String.Doc */\n",
       ".cython .s2 { color: #BA2121 } /* Literal.String.Double */\n",
       ".cython .se { color: #AA5D1F; font-weight: bold } /* Literal.String.Escape */\n",
       ".cython .sh { color: #BA2121 } /* Literal.String.Heredoc */\n",
       ".cython .si { color: #A45A77; font-weight: bold } /* Literal.String.Interpol */\n",
       ".cython .sx { color: #008000 } /* Literal.String.Other */\n",
       ".cython .sr { color: #A45A77 } /* Literal.String.Regex */\n",
       ".cython .s1 { color: #BA2121 } /* Literal.String.Single */\n",
       ".cython .ss { color: #19177C } /* Literal.String.Symbol */\n",
       ".cython .bp { color: #008000 } /* Name.Builtin.Pseudo */\n",
       ".cython .fm { color: #0000FF } /* Name.Function.Magic */\n",
       ".cython .vc { color: #19177C } /* Name.Variable.Class */\n",
       ".cython .vg { color: #19177C } /* Name.Variable.Global */\n",
       ".cython .vi { color: #19177C } /* Name.Variable.Instance */\n",
       ".cython .vm { color: #19177C } /* Name.Variable.Magic */\n",
       ".cython .il { color: #666666 } /* Literal.Number.Integer.Long */\n",
       "    </style>\n",
       "</head>\n",
       "<body class=\"cython\">\n",
       "<p><span style=\"border-bottom: solid 1px grey;\">Generated by Cython 0.29.36</span></p>\n",
       "<p>\n",
       "    <span style=\"background-color: #FFFF00\">Yellow lines</span> hint at Python interaction.<br />\n",
       "    Click on a line that starts with a \"<code>+</code>\" to see the C code that Cython generated for it.\n",
       "</p>\n",
       "<div class=\"cython\"><pre class=\"cython line score-16\" onclick=\"(function(s){s.display=s.display==='block'?'none':'block'})(this.nextElementSibling.style)\">+<span class=\"\">01</span>: <span class=\"k\">import</span> <span class=\"nn\">time</span></pre>\n",
       "<pre class='cython code score-16 '>  __pyx_t_1 = <span class='pyx_c_api'>__Pyx_Import</span>(__pyx_n_s_time, 0, 0);<span class='error_goto'> if (unlikely(!__pyx_t_1)) __PYX_ERR(0, 1, __pyx_L1_error)</span>\n",
       "  <span class='refnanny'>__Pyx_GOTREF</span>(__pyx_t_1);\n",
       "  if (<span class='py_c_api'>PyDict_SetItem</span>(__pyx_d, __pyx_n_s_time, __pyx_t_1) &lt; 0) <span class='error_goto'>__PYX_ERR(0, 1, __pyx_L1_error)</span>\n",
       "  <span class='pyx_macro_api'>__Pyx_DECREF</span>(__pyx_t_1); __pyx_t_1 = 0;\n",
       "/* … */\n",
       "  __pyx_t_1 = <span class='pyx_c_api'>__Pyx_PyDict_NewPresized</span>(0);<span class='error_goto'> if (unlikely(!__pyx_t_1)) __PYX_ERR(0, 1, __pyx_L1_error)</span>\n",
       "  <span class='refnanny'>__Pyx_GOTREF</span>(__pyx_t_1);\n",
       "  if (<span class='py_c_api'>PyDict_SetItem</span>(__pyx_d, __pyx_n_s_test, __pyx_t_1) &lt; 0) <span class='error_goto'>__PYX_ERR(0, 1, __pyx_L1_error)</span>\n",
       "  <span class='pyx_macro_api'>__Pyx_DECREF</span>(__pyx_t_1); __pyx_t_1 = 0;\n",
       "</pre><pre class=\"cython line score-8\" onclick=\"(function(s){s.display=s.display==='block'?'none':'block'})(this.nextElementSibling.style)\">+<span class=\"\">02</span>: <span class=\"k\">import</span> <span class=\"nn\">numpy</span> <span class=\"k\">as</span> <span class=\"nn\">np</span></pre>\n",
       "<pre class='cython code score-8 '>  __pyx_t_1 = <span class='pyx_c_api'>__Pyx_Import</span>(__pyx_n_s_numpy, 0, 0);<span class='error_goto'> if (unlikely(!__pyx_t_1)) __PYX_ERR(0, 2, __pyx_L1_error)</span>\n",
       "  <span class='refnanny'>__Pyx_GOTREF</span>(__pyx_t_1);\n",
       "  if (<span class='py_c_api'>PyDict_SetItem</span>(__pyx_d, __pyx_n_s_np, __pyx_t_1) &lt; 0) <span class='error_goto'>__PYX_ERR(0, 2, __pyx_L1_error)</span>\n",
       "  <span class='pyx_macro_api'>__Pyx_DECREF</span>(__pyx_t_1); __pyx_t_1 = 0;\n",
       "</pre><pre class=\"cython line score-0\">&#xA0;<span class=\"\">03</span>: <span class=\"k\">cimport</span> <span class=\"nn\">numpy</span> <span class=\"k\">as</span> <span class=\"nn\">np</span></pre>\n",
       "<pre class=\"cython line score-0\">&#xA0;<span class=\"\">04</span>: <span class=\"k\">cimport</span> <span class=\"nn\">cython</span></pre>\n",
       "<pre class=\"cython line score-0\" onclick=\"(function(s){s.display=s.display==='block'?'none':'block'})(this.nextElementSibling.style)\">+<span class=\"\">05</span>: <span class=\"n\">np</span><span class=\"o\">.</span><span class=\"n\">import_array</span><span class=\"p\">()</span></pre>\n",
       "<pre class='cython code score-0 '>  __pyx_t_2 = __pyx_f_5numpy_import_array();<span class='error_goto'> if (unlikely(__pyx_t_2 == ((int)-1))) __PYX_ERR(0, 5, __pyx_L1_error)</span>\n",
       "</pre><pre class=\"cython line score-0\">&#xA0;<span class=\"\">06</span>: </pre>\n",
       "<pre class=\"cython line score-0\">&#xA0;<span class=\"\">07</span>: </pre>\n",
       "<pre class=\"cython line score-0\">&#xA0;<span class=\"\">08</span>: <span class=\"k\">ctypedef</span> <span class=\"n\">np</span><span class=\"o\">.</span><span class=\"n\">float_t</span> <span class=\"n\">DTYPE_t</span></pre>\n",
       "<pre class=\"cython line score-0\">&#xA0;<span class=\"\">09</span>: </pre>\n",
       "<pre class=\"cython line score-0\">&#xA0;<span class=\"\">10</span>: <span class=\"k\">cdef</span> <span class=\"kr\">extern</span> <span class=\"k\">from</span> <span class=\"s\">&quot;math.h&quot;</span><span class=\"p\">:</span></pre>\n",
       "<pre class=\"cython line score-0\">&#xA0;<span class=\"\">11</span>:     <span class=\"k\">cpdef</span> <span class=\"kt\">double</span> <span class=\"nf\">sin</span><span class=\"p\">(</span><span class=\"n\">double</span> <span class=\"n\">x</span><span class=\"p\">)</span></pre>\n",
       "<pre class=\"cython line score-0\">&#xA0;<span class=\"\">12</span>: </pre>\n",
       "<pre class=\"cython line score-0\">&#xA0;<span class=\"\">13</span>: <span class=\"nd\">@cython</span><span class=\"o\">.</span><span class=\"n\">boundscheck</span><span class=\"p\">(</span><span class=\"bp\">False</span><span class=\"p\">)</span></pre>\n",
       "<pre class=\"cython line score-0\">&#xA0;<span class=\"\">14</span>: <span class=\"nd\">@cython</span><span class=\"o\">.</span><span class=\"n\">wraparound</span><span class=\"p\">(</span><span class=\"bp\">False</span><span class=\"p\">)</span></pre>\n",
       "<pre class=\"cython line score-75\" onclick=\"(function(s){s.display=s.display==='block'?'none':'block'})(this.nextElementSibling.style)\">+<span class=\"\">15</span>: <span class=\"k\">cpdef</span> <span class=\"kt\">np</span>.<span class=\"kt\">ndarray</span>[<span class=\"nf\">double</span><span class=\"p\">,</span> <span class=\"nf\">ndim</span><span class=\"o\">=</span><span class=\"mf\">1</span><span class=\"p\">]</span> <span class=\"n\">sin_func</span><span class=\"p\">(</span><span class=\"n\">np</span><span class=\"o\">.</span><span class=\"n\">ndarray</span><span class=\"p\">[</span><span class=\"n\">double</span><span class=\"p\">,</span> <span class=\"n\">ndim</span><span class=\"o\">=</span><span class=\"mf\">1</span><span class=\"p\">]</span> <span class=\"n\">arr</span><span class=\"p\">,</span> <span class=\"n\">np</span><span class=\"o\">.</span><span class=\"n\">ndarray</span><span class=\"p\">[</span><span class=\"n\">double</span><span class=\"p\">,</span> <span class=\"n\">ndim</span><span class=\"o\">=</span><span class=\"mf\">1</span><span class=\"p\">]</span> <span class=\"n\">params</span><span class=\"p\">):</span></pre>\n",
       "<pre class='cython code score-75 '>static PyObject *__pyx_pw_46_cython_magic_6d1de161bb0ed66e7cfd765921783d2e_1sin_func(PyObject *__pyx_self, PyObject *__pyx_args, PyObject *__pyx_kwds); /*proto*/\n",
       "static PyArrayObject *__pyx_f_46_cython_magic_6d1de161bb0ed66e7cfd765921783d2e_sin_func(PyArrayObject *__pyx_v_arr, PyArrayObject *__pyx_v_params, CYTHON_UNUSED int __pyx_skip_dispatch) {\n",
       "  int __pyx_v_shape;\n",
       "  PyArrayObject *__pyx_v_y = 0;\n",
       "  int __pyx_v_k;\n",
       "  __Pyx_LocalBuf_ND __pyx_pybuffernd_arr;\n",
       "  __Pyx_Buffer __pyx_pybuffer_arr;\n",
       "  __Pyx_LocalBuf_ND __pyx_pybuffernd_params;\n",
       "  __Pyx_Buffer __pyx_pybuffer_params;\n",
       "  __Pyx_LocalBuf_ND __pyx_pybuffernd_y;\n",
       "  __Pyx_Buffer __pyx_pybuffer_y;\n",
       "  PyArrayObject *__pyx_r = NULL;\n",
       "  <span class='refnanny'>__Pyx_RefNannyDeclarations</span>\n",
       "  <span class='refnanny'>__Pyx_RefNannySetupContext</span>(\"sin_func\", 0);\n",
       "  __pyx_pybuffer_y.pybuffer.buf = NULL;\n",
       "  __pyx_pybuffer_y.refcount = 0;\n",
       "  __pyx_pybuffernd_y.data = NULL;\n",
       "  __pyx_pybuffernd_y.rcbuffer = &amp;__pyx_pybuffer_y;\n",
       "  __pyx_pybuffer_arr.pybuffer.buf = NULL;\n",
       "  __pyx_pybuffer_arr.refcount = 0;\n",
       "  __pyx_pybuffernd_arr.data = NULL;\n",
       "  __pyx_pybuffernd_arr.rcbuffer = &amp;__pyx_pybuffer_arr;\n",
       "  __pyx_pybuffer_params.pybuffer.buf = NULL;\n",
       "  __pyx_pybuffer_params.refcount = 0;\n",
       "  __pyx_pybuffernd_params.data = NULL;\n",
       "  __pyx_pybuffernd_params.rcbuffer = &amp;__pyx_pybuffer_params;\n",
       "  {\n",
       "    __Pyx_BufFmt_StackElem __pyx_stack[1];\n",
       "    if (unlikely(<span class='pyx_c_api'>__Pyx_GetBufferAndValidate</span>(&amp;__pyx_pybuffernd_arr.rcbuffer-&gt;pybuffer, (PyObject*)__pyx_v_arr, &amp;__Pyx_TypeInfo_double, PyBUF_FORMAT| PyBUF_STRIDES, 1, 0, __pyx_stack) == -1)) <span class='error_goto'>__PYX_ERR(0, 15, __pyx_L1_error)</span>\n",
       "  }\n",
       "  __pyx_pybuffernd_arr.diminfo[0].strides = __pyx_pybuffernd_arr.rcbuffer-&gt;pybuffer.strides[0]; __pyx_pybuffernd_arr.diminfo[0].shape = __pyx_pybuffernd_arr.rcbuffer-&gt;pybuffer.shape[0];\n",
       "  {\n",
       "    __Pyx_BufFmt_StackElem __pyx_stack[1];\n",
       "    if (unlikely(<span class='pyx_c_api'>__Pyx_GetBufferAndValidate</span>(&amp;__pyx_pybuffernd_params.rcbuffer-&gt;pybuffer, (PyObject*)__pyx_v_params, &amp;__Pyx_TypeInfo_double, PyBUF_FORMAT| PyBUF_STRIDES, 1, 0, __pyx_stack) == -1)) <span class='error_goto'>__PYX_ERR(0, 15, __pyx_L1_error)</span>\n",
       "  }\n",
       "  __pyx_pybuffernd_params.diminfo[0].strides = __pyx_pybuffernd_params.rcbuffer-&gt;pybuffer.strides[0]; __pyx_pybuffernd_params.diminfo[0].shape = __pyx_pybuffernd_params.rcbuffer-&gt;pybuffer.shape[0];\n",
       "/* … */\n",
       "  /* function exit code */\n",
       "  __pyx_L1_error:;\n",
       "  <span class='pyx_macro_api'>__Pyx_XDECREF</span>(__pyx_t_2);\n",
       "  <span class='pyx_macro_api'>__Pyx_XDECREF</span>(__pyx_t_3);\n",
       "  <span class='pyx_macro_api'>__Pyx_XDECREF</span>(__pyx_t_4);\n",
       "  <span class='pyx_macro_api'>__Pyx_XDECREF</span>(__pyx_t_5);\n",
       "  { PyObject *__pyx_type, *__pyx_value, *__pyx_tb;\n",
       "    __Pyx_PyThreadState_declare\n",
       "    __Pyx_PyThreadState_assign\n",
       "    <span class='pyx_c_api'>__Pyx_ErrFetch</span>(&amp;__pyx_type, &amp;__pyx_value, &amp;__pyx_tb);\n",
       "    <span class='pyx_c_api'>__Pyx_SafeReleaseBuffer</span>(&amp;__pyx_pybuffernd_arr.rcbuffer-&gt;pybuffer);\n",
       "    <span class='pyx_c_api'>__Pyx_SafeReleaseBuffer</span>(&amp;__pyx_pybuffernd_params.rcbuffer-&gt;pybuffer);\n",
       "    <span class='pyx_c_api'>__Pyx_SafeReleaseBuffer</span>(&amp;__pyx_pybuffernd_y.rcbuffer-&gt;pybuffer);\n",
       "  <span class='pyx_c_api'>__Pyx_ErrRestore</span>(__pyx_type, __pyx_value, __pyx_tb);}\n",
       "  <span class='pyx_c_api'>__Pyx_AddTraceback</span>(\"_cython_magic_6d1de161bb0ed66e7cfd765921783d2e.sin_func\", __pyx_clineno, __pyx_lineno, __pyx_filename);\n",
       "  __pyx_r = 0;\n",
       "  goto __pyx_L2;\n",
       "  __pyx_L0:;\n",
       "  <span class='pyx_c_api'>__Pyx_SafeReleaseBuffer</span>(&amp;__pyx_pybuffernd_arr.rcbuffer-&gt;pybuffer);\n",
       "  <span class='pyx_c_api'>__Pyx_SafeReleaseBuffer</span>(&amp;__pyx_pybuffernd_params.rcbuffer-&gt;pybuffer);\n",
       "  <span class='pyx_c_api'>__Pyx_SafeReleaseBuffer</span>(&amp;__pyx_pybuffernd_y.rcbuffer-&gt;pybuffer);\n",
       "  __pyx_L2:;\n",
       "  <span class='pyx_macro_api'>__Pyx_XDECREF</span>((PyObject *)__pyx_v_y);\n",
       "  <span class='refnanny'>__Pyx_XGIVEREF</span>((PyObject *)__pyx_r);\n",
       "  <span class='refnanny'>__Pyx_RefNannyFinishContext</span>();\n",
       "  return __pyx_r;\n",
       "}\n",
       "\n",
       "/* Python wrapper */\n",
       "static PyObject *__pyx_pw_46_cython_magic_6d1de161bb0ed66e7cfd765921783d2e_1sin_func(PyObject *__pyx_self, PyObject *__pyx_args, PyObject *__pyx_kwds); /*proto*/\n",
       "static PyObject *__pyx_pw_46_cython_magic_6d1de161bb0ed66e7cfd765921783d2e_1sin_func(PyObject *__pyx_self, PyObject *__pyx_args, PyObject *__pyx_kwds) {\n",
       "  PyArrayObject *__pyx_v_arr = 0;\n",
       "  PyArrayObject *__pyx_v_params = 0;\n",
       "  PyObject *__pyx_r = 0;\n",
       "  <span class='refnanny'>__Pyx_RefNannyDeclarations</span>\n",
       "  <span class='refnanny'>__Pyx_RefNannySetupContext</span>(\"sin_func (wrapper)\", 0);\n",
       "  {\n",
       "    static PyObject **__pyx_pyargnames[] = {&amp;__pyx_n_s_arr,&amp;__pyx_n_s_params,0};\n",
       "    PyObject* values[2] = {0,0};\n",
       "    if (unlikely(__pyx_kwds)) {\n",
       "      Py_ssize_t kw_args;\n",
       "      const Py_ssize_t pos_args = <span class='py_macro_api'>PyTuple_GET_SIZE</span>(__pyx_args);\n",
       "      switch (pos_args) {\n",
       "        case  2: values[1] = <span class='py_macro_api'>PyTuple_GET_ITEM</span>(__pyx_args, 1);\n",
       "        CYTHON_FALLTHROUGH;\n",
       "        case  1: values[0] = <span class='py_macro_api'>PyTuple_GET_ITEM</span>(__pyx_args, 0);\n",
       "        CYTHON_FALLTHROUGH;\n",
       "        case  0: break;\n",
       "        default: goto __pyx_L5_argtuple_error;\n",
       "      }\n",
       "      kw_args = <span class='py_c_api'>PyDict_Size</span>(__pyx_kwds);\n",
       "      switch (pos_args) {\n",
       "        case  0:\n",
       "        if (likely((values[0] = <span class='pyx_c_api'>__Pyx_PyDict_GetItemStr</span>(__pyx_kwds, __pyx_n_s_arr)) != 0)) kw_args--;\n",
       "        else goto __pyx_L5_argtuple_error;\n",
       "        CYTHON_FALLTHROUGH;\n",
       "        case  1:\n",
       "        if (likely((values[1] = <span class='pyx_c_api'>__Pyx_PyDict_GetItemStr</span>(__pyx_kwds, __pyx_n_s_params)) != 0)) kw_args--;\n",
       "        else {\n",
       "          <span class='pyx_c_api'>__Pyx_RaiseArgtupleInvalid</span>(\"sin_func\", 1, 2, 2, 1); <span class='error_goto'>__PYX_ERR(0, 15, __pyx_L3_error)</span>\n",
       "        }\n",
       "      }\n",
       "      if (unlikely(kw_args &gt; 0)) {\n",
       "        if (unlikely(<span class='pyx_c_api'>__Pyx_ParseOptionalKeywords</span>(__pyx_kwds, __pyx_pyargnames, 0, values, pos_args, \"sin_func\") &lt; 0)) <span class='error_goto'>__PYX_ERR(0, 15, __pyx_L3_error)</span>\n",
       "      }\n",
       "    } else if (<span class='py_macro_api'>PyTuple_GET_SIZE</span>(__pyx_args) != 2) {\n",
       "      goto __pyx_L5_argtuple_error;\n",
       "    } else {\n",
       "      values[0] = <span class='py_macro_api'>PyTuple_GET_ITEM</span>(__pyx_args, 0);\n",
       "      values[1] = <span class='py_macro_api'>PyTuple_GET_ITEM</span>(__pyx_args, 1);\n",
       "    }\n",
       "    __pyx_v_arr = ((PyArrayObject *)values[0]);\n",
       "    __pyx_v_params = ((PyArrayObject *)values[1]);\n",
       "  }\n",
       "  goto __pyx_L4_argument_unpacking_done;\n",
       "  __pyx_L5_argtuple_error:;\n",
       "  <span class='pyx_c_api'>__Pyx_RaiseArgtupleInvalid</span>(\"sin_func\", 1, 2, 2, <span class='py_macro_api'>PyTuple_GET_SIZE</span>(__pyx_args)); <span class='error_goto'>__PYX_ERR(0, 15, __pyx_L3_error)</span>\n",
       "  __pyx_L3_error:;\n",
       "  <span class='pyx_c_api'>__Pyx_AddTraceback</span>(\"_cython_magic_6d1de161bb0ed66e7cfd765921783d2e.sin_func\", __pyx_clineno, __pyx_lineno, __pyx_filename);\n",
       "  <span class='refnanny'>__Pyx_RefNannyFinishContext</span>();\n",
       "  return NULL;\n",
       "  __pyx_L4_argument_unpacking_done:;\n",
       "  if (unlikely(!<span class='pyx_c_api'>__Pyx_ArgTypeTest</span>(((PyObject *)__pyx_v_arr), __pyx_ptype_5numpy_ndarray, 1, \"arr\", 0))) <span class='error_goto'>__PYX_ERR(0, 15, __pyx_L1_error)</span>\n",
       "  if (unlikely(!<span class='pyx_c_api'>__Pyx_ArgTypeTest</span>(((PyObject *)__pyx_v_params), __pyx_ptype_5numpy_ndarray, 1, \"params\", 0))) <span class='error_goto'>__PYX_ERR(0, 15, __pyx_L1_error)</span>\n",
       "  __pyx_r = __pyx_pf_46_cython_magic_6d1de161bb0ed66e7cfd765921783d2e_sin_func(__pyx_self, __pyx_v_arr, __pyx_v_params);\n",
       "  int __pyx_lineno = 0;\n",
       "  const char *__pyx_filename = NULL;\n",
       "  int __pyx_clineno = 0;\n",
       "\n",
       "  /* function exit code */\n",
       "  goto __pyx_L0;\n",
       "  __pyx_L1_error:;\n",
       "  __pyx_r = NULL;\n",
       "  __pyx_L0:;\n",
       "  <span class='refnanny'>__Pyx_RefNannyFinishContext</span>();\n",
       "  return __pyx_r;\n",
       "}\n",
       "\n",
       "static PyObject *__pyx_pf_46_cython_magic_6d1de161bb0ed66e7cfd765921783d2e_sin_func(CYTHON_UNUSED PyObject *__pyx_self, PyArrayObject *__pyx_v_arr, PyArrayObject *__pyx_v_params) {\n",
       "  __Pyx_LocalBuf_ND __pyx_pybuffernd_arr;\n",
       "  __Pyx_Buffer __pyx_pybuffer_arr;\n",
       "  __Pyx_LocalBuf_ND __pyx_pybuffernd_params;\n",
       "  __Pyx_Buffer __pyx_pybuffer_params;\n",
       "  PyObject *__pyx_r = NULL;\n",
       "  <span class='refnanny'>__Pyx_RefNannyDeclarations</span>\n",
       "  <span class='refnanny'>__Pyx_RefNannySetupContext</span>(\"sin_func\", 0);\n",
       "  __pyx_pybuffer_arr.pybuffer.buf = NULL;\n",
       "  __pyx_pybuffer_arr.refcount = 0;\n",
       "  __pyx_pybuffernd_arr.data = NULL;\n",
       "  __pyx_pybuffernd_arr.rcbuffer = &amp;__pyx_pybuffer_arr;\n",
       "  __pyx_pybuffer_params.pybuffer.buf = NULL;\n",
       "  __pyx_pybuffer_params.refcount = 0;\n",
       "  __pyx_pybuffernd_params.data = NULL;\n",
       "  __pyx_pybuffernd_params.rcbuffer = &amp;__pyx_pybuffer_params;\n",
       "  {\n",
       "    __Pyx_BufFmt_StackElem __pyx_stack[1];\n",
       "    if (unlikely(<span class='pyx_c_api'>__Pyx_GetBufferAndValidate</span>(&amp;__pyx_pybuffernd_arr.rcbuffer-&gt;pybuffer, (PyObject*)__pyx_v_arr, &amp;__Pyx_TypeInfo_double, PyBUF_FORMAT| PyBUF_STRIDES, 1, 0, __pyx_stack) == -1)) <span class='error_goto'>__PYX_ERR(0, 15, __pyx_L1_error)</span>\n",
       "  }\n",
       "  __pyx_pybuffernd_arr.diminfo[0].strides = __pyx_pybuffernd_arr.rcbuffer-&gt;pybuffer.strides[0]; __pyx_pybuffernd_arr.diminfo[0].shape = __pyx_pybuffernd_arr.rcbuffer-&gt;pybuffer.shape[0];\n",
       "  {\n",
       "    __Pyx_BufFmt_StackElem __pyx_stack[1];\n",
       "    if (unlikely(<span class='pyx_c_api'>__Pyx_GetBufferAndValidate</span>(&amp;__pyx_pybuffernd_params.rcbuffer-&gt;pybuffer, (PyObject*)__pyx_v_params, &amp;__Pyx_TypeInfo_double, PyBUF_FORMAT| PyBUF_STRIDES, 1, 0, __pyx_stack) == -1)) <span class='error_goto'>__PYX_ERR(0, 15, __pyx_L1_error)</span>\n",
       "  }\n",
       "  __pyx_pybuffernd_params.diminfo[0].strides = __pyx_pybuffernd_params.rcbuffer-&gt;pybuffer.strides[0]; __pyx_pybuffernd_params.diminfo[0].shape = __pyx_pybuffernd_params.rcbuffer-&gt;pybuffer.shape[0];\n",
       "  <span class='pyx_macro_api'>__Pyx_XDECREF</span>(__pyx_r);\n",
       "  __pyx_t_1 = ((PyObject *)__pyx_f_46_cython_magic_6d1de161bb0ed66e7cfd765921783d2e_sin_func(__pyx_v_arr, __pyx_v_params, 0));<span class='error_goto'> if (unlikely(!__pyx_t_1)) __PYX_ERR(0, 15, __pyx_L1_error)</span>\n",
       "  <span class='refnanny'>__Pyx_GOTREF</span>(__pyx_t_1);\n",
       "  __pyx_r = __pyx_t_1;\n",
       "  __pyx_t_1 = 0;\n",
       "  goto __pyx_L0;\n",
       "\n",
       "  /* function exit code */\n",
       "  __pyx_L1_error:;\n",
       "  <span class='pyx_macro_api'>__Pyx_XDECREF</span>(__pyx_t_1);\n",
       "  { PyObject *__pyx_type, *__pyx_value, *__pyx_tb;\n",
       "    __Pyx_PyThreadState_declare\n",
       "    __Pyx_PyThreadState_assign\n",
       "    <span class='pyx_c_api'>__Pyx_ErrFetch</span>(&amp;__pyx_type, &amp;__pyx_value, &amp;__pyx_tb);\n",
       "    <span class='pyx_c_api'>__Pyx_SafeReleaseBuffer</span>(&amp;__pyx_pybuffernd_arr.rcbuffer-&gt;pybuffer);\n",
       "    <span class='pyx_c_api'>__Pyx_SafeReleaseBuffer</span>(&amp;__pyx_pybuffernd_params.rcbuffer-&gt;pybuffer);\n",
       "  <span class='pyx_c_api'>__Pyx_ErrRestore</span>(__pyx_type, __pyx_value, __pyx_tb);}\n",
       "  <span class='pyx_c_api'>__Pyx_AddTraceback</span>(\"_cython_magic_6d1de161bb0ed66e7cfd765921783d2e.sin_func\", __pyx_clineno, __pyx_lineno, __pyx_filename);\n",
       "  __pyx_r = NULL;\n",
       "  goto __pyx_L2;\n",
       "  __pyx_L0:;\n",
       "  <span class='pyx_c_api'>__Pyx_SafeReleaseBuffer</span>(&amp;__pyx_pybuffernd_arr.rcbuffer-&gt;pybuffer);\n",
       "  <span class='pyx_c_api'>__Pyx_SafeReleaseBuffer</span>(&amp;__pyx_pybuffernd_params.rcbuffer-&gt;pybuffer);\n",
       "  __pyx_L2:;\n",
       "  <span class='refnanny'>__Pyx_XGIVEREF</span>(__pyx_r);\n",
       "  <span class='refnanny'>__Pyx_RefNannyFinishContext</span>();\n",
       "  return __pyx_r;\n",
       "}\n",
       "</pre><pre class=\"cython line score-5\" onclick=\"(function(s){s.display=s.display==='block'?'none':'block'})(this.nextElementSibling.style)\">+<span class=\"\">16</span>:     <span class=\"k\">cdef</span> <span class=\"kt\">int</span> <span class=\"nf\">shape</span> <span class=\"o\">=</span> <span class=\"nb\">len</span><span class=\"p\">(</span><span class=\"n\">arr</span><span class=\"p\">)</span></pre>\n",
       "<pre class='cython code score-5 '>  __pyx_t_1 = <span class='py_c_api'>PyObject_Length</span>(((PyObject *)__pyx_v_arr));<span class='error_goto'> if (unlikely(__pyx_t_1 == ((Py_ssize_t)-1))) __PYX_ERR(0, 16, __pyx_L1_error)</span>\n",
       "  __pyx_v_shape = __pyx_t_1;\n",
       "</pre><pre class=\"cython line score-27\" onclick=\"(function(s){s.display=s.display==='block'?'none':'block'})(this.nextElementSibling.style)\">+<span class=\"\">17</span>:     <span class=\"k\">cdef</span> <span class=\"kt\">np</span>.<span class=\"kt\">ndarray</span>[<span class=\"nf\">double</span><span class=\"p\">,</span> <span class=\"nf\">ndim</span><span class=\"o\">=</span><span class=\"mf\">1</span><span class=\"p\">]</span> <span class=\"n\">y</span> <span class=\"o\">=</span> <span class=\"n\">np</span><span class=\"o\">.</span><span class=\"n\">zeros</span><span class=\"p\">(</span><span class=\"n\">shape</span><span class=\"p\">)</span></pre>\n",
       "<pre class='cython code score-27 '>  <span class='pyx_c_api'>__Pyx_GetModuleGlobalName</span>(__pyx_t_3, __pyx_n_s_np);<span class='error_goto'> if (unlikely(!__pyx_t_3)) __PYX_ERR(0, 17, __pyx_L1_error)</span>\n",
       "  <span class='refnanny'>__Pyx_GOTREF</span>(__pyx_t_3);\n",
       "  __pyx_t_4 = <span class='pyx_c_api'>__Pyx_PyObject_GetAttrStr</span>(__pyx_t_3, __pyx_n_s_zeros);<span class='error_goto'> if (unlikely(!__pyx_t_4)) __PYX_ERR(0, 17, __pyx_L1_error)</span>\n",
       "  <span class='refnanny'>__Pyx_GOTREF</span>(__pyx_t_4);\n",
       "  <span class='pyx_macro_api'>__Pyx_DECREF</span>(__pyx_t_3); __pyx_t_3 = 0;\n",
       "  __pyx_t_3 = <span class='pyx_c_api'>__Pyx_PyInt_From_int</span>(__pyx_v_shape);<span class='error_goto'> if (unlikely(!__pyx_t_3)) __PYX_ERR(0, 17, __pyx_L1_error)</span>\n",
       "  <span class='refnanny'>__Pyx_GOTREF</span>(__pyx_t_3);\n",
       "  __pyx_t_5 = NULL;\n",
       "  if (CYTHON_UNPACK_METHODS &amp;&amp; unlikely(<span class='py_c_api'>PyMethod_Check</span>(__pyx_t_4))) {\n",
       "    __pyx_t_5 = <span class='py_macro_api'>PyMethod_GET_SELF</span>(__pyx_t_4);\n",
       "    if (likely(__pyx_t_5)) {\n",
       "      PyObject* function = <span class='py_macro_api'>PyMethod_GET_FUNCTION</span>(__pyx_t_4);\n",
       "      <span class='pyx_macro_api'>__Pyx_INCREF</span>(__pyx_t_5);\n",
       "      <span class='pyx_macro_api'>__Pyx_INCREF</span>(function);\n",
       "      <span class='pyx_macro_api'>__Pyx_DECREF_SET</span>(__pyx_t_4, function);\n",
       "    }\n",
       "  }\n",
       "  __pyx_t_2 = (__pyx_t_5) ? __Pyx_PyObject_Call2Args(__pyx_t_4, __pyx_t_5, __pyx_t_3) : <span class='pyx_c_api'>__Pyx_PyObject_CallOneArg</span>(__pyx_t_4, __pyx_t_3);\n",
       "  <span class='pyx_macro_api'>__Pyx_XDECREF</span>(__pyx_t_5); __pyx_t_5 = 0;\n",
       "  <span class='pyx_macro_api'>__Pyx_DECREF</span>(__pyx_t_3); __pyx_t_3 = 0;\n",
       "  if (unlikely(!__pyx_t_2)) <span class='error_goto'>__PYX_ERR(0, 17, __pyx_L1_error)</span>\n",
       "  <span class='refnanny'>__Pyx_GOTREF</span>(__pyx_t_2);\n",
       "  <span class='pyx_macro_api'>__Pyx_DECREF</span>(__pyx_t_4); __pyx_t_4 = 0;\n",
       "  if (!(likely(((__pyx_t_2) == Py_None) || likely(<span class='pyx_c_api'>__Pyx_TypeTest</span>(__pyx_t_2, __pyx_ptype_5numpy_ndarray))))) <span class='error_goto'>__PYX_ERR(0, 17, __pyx_L1_error)</span>\n",
       "  __pyx_t_6 = ((PyArrayObject *)__pyx_t_2);\n",
       "  {\n",
       "    __Pyx_BufFmt_StackElem __pyx_stack[1];\n",
       "    if (unlikely(<span class='pyx_c_api'>__Pyx_GetBufferAndValidate</span>(&amp;__pyx_pybuffernd_y.rcbuffer-&gt;pybuffer, (PyObject*)__pyx_t_6, &amp;__Pyx_TypeInfo_double, PyBUF_FORMAT| PyBUF_STRIDES| PyBUF_WRITABLE, 1, 0, __pyx_stack) == -1)) {\n",
       "      __pyx_v_y = ((PyArrayObject *)Py_None); <span class='pyx_macro_api'>__Pyx_INCREF</span>(Py_None); __pyx_pybuffernd_y.rcbuffer-&gt;pybuffer.buf = NULL;\n",
       "      <span class='error_goto'>__PYX_ERR(0, 17, __pyx_L1_error)</span>\n",
       "    } else {__pyx_pybuffernd_y.diminfo[0].strides = __pyx_pybuffernd_y.rcbuffer-&gt;pybuffer.strides[0]; __pyx_pybuffernd_y.diminfo[0].shape = __pyx_pybuffernd_y.rcbuffer-&gt;pybuffer.shape[0];\n",
       "    }\n",
       "  }\n",
       "  __pyx_t_6 = 0;\n",
       "  __pyx_v_y = ((PyArrayObject *)__pyx_t_2);\n",
       "  __pyx_t_2 = 0;\n",
       "</pre><pre class=\"cython line score-0\" onclick=\"(function(s){s.display=s.display==='block'?'none':'block'})(this.nextElementSibling.style)\">+<span class=\"\">18</span>:     <span class=\"k\">for</span> <span class=\"n\">k</span> <span class=\"ow\">in</span> <span class=\"nb\">range</span><span class=\"p\">(</span><span class=\"n\">shape</span><span class=\"p\">):</span></pre>\n",
       "<pre class='cython code score-0 '>  __pyx_t_7 = __pyx_v_shape;\n",
       "  __pyx_t_8 = __pyx_t_7;\n",
       "  for (__pyx_t_9 = 0; __pyx_t_9 &lt; __pyx_t_8; __pyx_t_9+=1) {\n",
       "    __pyx_v_k = __pyx_t_9;\n",
       "</pre><pre class=\"cython line score-0\" onclick=\"(function(s){s.display=s.display==='block'?'none':'block'})(this.nextElementSibling.style)\">+<span class=\"\">19</span>:         <span class=\"n\">y</span><span class=\"p\">[</span><span class=\"n\">k</span><span class=\"p\">]</span> <span class=\"o\">=</span> <span class=\"n\">params</span><span class=\"p\">[</span><span class=\"mf\">0</span><span class=\"p\">]</span><span class=\"o\">*</span><span class=\"n\">sin</span><span class=\"p\">(</span><span class=\"n\">params</span><span class=\"p\">[</span><span class=\"mf\">1</span><span class=\"p\">]</span><span class=\"o\">*</span><span class=\"n\">arr</span><span class=\"p\">[</span><span class=\"n\">k</span><span class=\"p\">]</span><span class=\"o\">+</span><span class=\"n\">params</span><span class=\"p\">[</span><span class=\"mf\">2</span><span class=\"p\">])</span> <span class=\"o\">+</span> <span class=\"n\">params</span><span class=\"p\">[</span><span class=\"mf\">3</span><span class=\"p\">]</span></pre>\n",
       "<pre class='cython code score-0 '>    __pyx_t_10 = 0;\n",
       "    __pyx_t_11 = 1;\n",
       "    __pyx_t_12 = __pyx_v_k;\n",
       "    __pyx_t_13 = 2;\n",
       "    __pyx_t_14 = 3;\n",
       "    __pyx_t_15 = __pyx_v_k;\n",
       "    *__Pyx_BufPtrStrided1d(double *, __pyx_pybuffernd_y.rcbuffer-&gt;pybuffer.buf, __pyx_t_15, __pyx_pybuffernd_y.diminfo[0].strides) = (((*__Pyx_BufPtrStrided1d(double *, __pyx_pybuffernd_params.rcbuffer-&gt;pybuffer.buf, __pyx_t_10, __pyx_pybuffernd_params.diminfo[0].strides)) * sin((((*__Pyx_BufPtrStrided1d(double *, __pyx_pybuffernd_params.rcbuffer-&gt;pybuffer.buf, __pyx_t_11, __pyx_pybuffernd_params.diminfo[0].strides)) * (*__Pyx_BufPtrStrided1d(double *, __pyx_pybuffernd_arr.rcbuffer-&gt;pybuffer.buf, __pyx_t_12, __pyx_pybuffernd_arr.diminfo[0].strides))) + (*__Pyx_BufPtrStrided1d(double *, __pyx_pybuffernd_params.rcbuffer-&gt;pybuffer.buf, __pyx_t_13, __pyx_pybuffernd_params.diminfo[0].strides))))) + (*__Pyx_BufPtrStrided1d(double *, __pyx_pybuffernd_params.rcbuffer-&gt;pybuffer.buf, __pyx_t_14, __pyx_pybuffernd_params.diminfo[0].strides)));\n",
       "  }\n",
       "</pre><pre class=\"cython line score-2\" onclick=\"(function(s){s.display=s.display==='block'?'none':'block'})(this.nextElementSibling.style)\">+<span class=\"\">20</span>:     <span class=\"k\">return</span> <span class=\"n\">y</span></pre>\n",
       "<pre class='cython code score-2 '>  <span class='pyx_macro_api'>__Pyx_XDECREF</span>(((PyObject *)__pyx_r));\n",
       "  <span class='pyx_macro_api'>__Pyx_INCREF</span>(((PyObject *)__pyx_v_y));\n",
       "  __pyx_r = ((PyArrayObject *)__pyx_v_y);\n",
       "  goto __pyx_L0;\n",
       "</pre></div></body></html>"
      ],
      "text/plain": [
       "<IPython.core.display.HTML object>"
      ]
     },
     "execution_count": 36,
     "metadata": {},
     "output_type": "execute_result"
    }
   ],
   "source": [
    "%%cython -a\n",
    "import time\n",
    "import numpy as np\n",
    "cimport numpy as np\n",
    "cimport cython\n",
    "np.import_array()\n",
    "\n",
    "\n",
    "ctypedef np.float_t DTYPE_t\n",
    "\n",
    "cdef extern from \"math.h\":\n",
    "    cpdef double sin(double x)\n",
    "\n",
    "@cython.boundscheck(False)\n",
    "@cython.wraparound(False)\n",
    "cpdef np.ndarray[double, ndim=1] sin_func(np.ndarray[double, ndim=1] arr, np.ndarray[double, ndim=1] params):\n",
    "    cdef int shape = len(arr)\n",
    "    cdef np.ndarray[double, ndim=1] y = np.zeros(shape)\n",
    "    for k in range(shape):\n",
    "        y[k] = params[0]*sin(params[1]*arr[k]+params[2]) + params[3]\n",
    "    return y"
   ]
  },
  {
   "cell_type": "code",
   "execution_count": 37,
   "metadata": {
    "metadata": {}
   },
   "outputs": [
    {
     "name": "stdout",
     "output_type": "stream",
     "text": [
      "4.03 ms ± 84.1 µs per loop (mean ± std. dev. of 7 runs, 100 loops each)\n"
     ]
    }
   ],
   "source": [
    "x = np.linspace(0, 10, 1_000_000).astype(np.float64)\n",
    "x0 = np.array([5, 2, 6]).astype(np.float64)\n",
    "\n",
    "sin_func(x, x0)\n",
    "\n",
    "%timeit sin_func(x, x0)"
   ]
  },
  {
   "cell_type": "code",
   "execution_count": 31,
   "metadata": {
    "metadata": {}
   },
   "outputs": [
    {
     "name": "stdout",
     "output_type": "stream",
     "text": [
      "4.28 ms ± 349 µs per loop (mean ± std. dev. of 7 runs, 100 loops each)\n"
     ]
    }
   ],
   "source": []
  },
  {
   "cell_type": "code",
   "execution_count": 16,
   "metadata": {},
   "outputs": [
    {
     "name": "stderr",
     "output_type": "stream",
     "text": [
      "In file included from /Users/4cd87a/.ipython/cython/_cython_magic_b206d0719b80e8aa0853b12fcf5f8149.c:706:\n",
      "In file included from /Users/4cd87a/opt/anaconda3/envs/phd_mask/lib/python3.10/site-packages/numpy/core/include/numpy/arrayobject.h:4:\n",
      "In file included from /Users/4cd87a/opt/anaconda3/envs/phd_mask/lib/python3.10/site-packages/numpy/core/include/numpy/ndarrayobject.h:12:\n",
      "In file included from /Users/4cd87a/opt/anaconda3/envs/phd_mask/lib/python3.10/site-packages/numpy/core/include/numpy/ndarraytypes.h:1969:\n",
      "/Users/4cd87a/opt/anaconda3/envs/phd_mask/lib/python3.10/site-packages/numpy/core/include/numpy/npy_1_7_deprecated_api.h:17:2: warning: \"Using deprecated NumPy API, disable it with \"          \"#define NPY_NO_DEPRECATED_API NPY_1_7_API_VERSION\" [-W#warnings]\n",
      "#warning \"Using deprecated NumPy API, disable it with \" \\\n",
      " ^\n",
      "/Users/4cd87a/.ipython/cython/_cython_magic_b206d0719b80e8aa0853b12fcf5f8149.c:2264:15: warning: unused function '__pyx_f_46_cython_magic_b206d0719b80e8aa0853b12fcf5f8149_chisq2' [-Wunused-function]\n",
      "static double __pyx_f_46_cython_magic_b206d0719b80e8aa0853b12fcf5f8149_chisq2(__pyx_t_46_cython_magic_b206d0719b80e8aa0853b12fcf5f8149_f_type __pyx_v_func, PyArrayObject *__pyx_v_x, PyArrayObject *__pyx_v_data, PyArrayObject *__pyx_v_params) {\n",
      "              ^\n",
      "2 warnings generated.\n"
     ]
    },
    {
     "data": {
      "text/html": [
       "<!DOCTYPE html>\n",
       "<!-- Generated by Cython 0.29.26 -->\n",
       "<html>\n",
       "<head>\n",
       "    <meta http-equiv=\"Content-Type\" content=\"text/html; charset=utf-8\" />\n",
       "    <title>Cython: _cython_magic_b206d0719b80e8aa0853b12fcf5f8149.pyx</title>\n",
       "    <style type=\"text/css\">\n",
       "    \n",
       "body.cython { font-family: courier; font-size: 12; }\n",
       "\n",
       ".cython.tag  {  }\n",
       ".cython.line { margin: 0em }\n",
       ".cython.code { font-size: 9; color: #444444; display: none; margin: 0px 0px 0px 8px; border-left: 8px none; }\n",
       "\n",
       ".cython.line .run { background-color: #B0FFB0; }\n",
       ".cython.line .mis { background-color: #FFB0B0; }\n",
       ".cython.code.run  { border-left: 8px solid #B0FFB0; }\n",
       ".cython.code.mis  { border-left: 8px solid #FFB0B0; }\n",
       "\n",
       ".cython.code .py_c_api  { color: red; }\n",
       ".cython.code .py_macro_api  { color: #FF7000; }\n",
       ".cython.code .pyx_c_api  { color: #FF3000; }\n",
       ".cython.code .pyx_macro_api  { color: #FF7000; }\n",
       ".cython.code .refnanny  { color: #FFA000; }\n",
       ".cython.code .trace  { color: #FFA000; }\n",
       ".cython.code .error_goto  { color: #FFA000; }\n",
       "\n",
       ".cython.code .coerce  { color: #008000; border: 1px dotted #008000 }\n",
       ".cython.code .py_attr { color: #FF0000; font-weight: bold; }\n",
       ".cython.code .c_attr  { color: #0000FF; }\n",
       ".cython.code .py_call { color: #FF0000; font-weight: bold; }\n",
       ".cython.code .c_call  { color: #0000FF; }\n",
       "\n",
       ".cython.score-0 {background-color: #FFFFff;}\n",
       ".cython.score-1 {background-color: #FFFFe7;}\n",
       ".cython.score-2 {background-color: #FFFFd4;}\n",
       ".cython.score-3 {background-color: #FFFFc4;}\n",
       ".cython.score-4 {background-color: #FFFFb6;}\n",
       ".cython.score-5 {background-color: #FFFFaa;}\n",
       ".cython.score-6 {background-color: #FFFF9f;}\n",
       ".cython.score-7 {background-color: #FFFF96;}\n",
       ".cython.score-8 {background-color: #FFFF8d;}\n",
       ".cython.score-9 {background-color: #FFFF86;}\n",
       ".cython.score-10 {background-color: #FFFF7f;}\n",
       ".cython.score-11 {background-color: #FFFF79;}\n",
       ".cython.score-12 {background-color: #FFFF73;}\n",
       ".cython.score-13 {background-color: #FFFF6e;}\n",
       ".cython.score-14 {background-color: #FFFF6a;}\n",
       ".cython.score-15 {background-color: #FFFF66;}\n",
       ".cython.score-16 {background-color: #FFFF62;}\n",
       ".cython.score-17 {background-color: #FFFF5e;}\n",
       ".cython.score-18 {background-color: #FFFF5b;}\n",
       ".cython.score-19 {background-color: #FFFF57;}\n",
       ".cython.score-20 {background-color: #FFFF55;}\n",
       ".cython.score-21 {background-color: #FFFF52;}\n",
       ".cython.score-22 {background-color: #FFFF4f;}\n",
       ".cython.score-23 {background-color: #FFFF4d;}\n",
       ".cython.score-24 {background-color: #FFFF4b;}\n",
       ".cython.score-25 {background-color: #FFFF48;}\n",
       ".cython.score-26 {background-color: #FFFF46;}\n",
       ".cython.score-27 {background-color: #FFFF44;}\n",
       ".cython.score-28 {background-color: #FFFF43;}\n",
       ".cython.score-29 {background-color: #FFFF41;}\n",
       ".cython.score-30 {background-color: #FFFF3f;}\n",
       ".cython.score-31 {background-color: #FFFF3e;}\n",
       ".cython.score-32 {background-color: #FFFF3c;}\n",
       ".cython.score-33 {background-color: #FFFF3b;}\n",
       ".cython.score-34 {background-color: #FFFF39;}\n",
       ".cython.score-35 {background-color: #FFFF38;}\n",
       ".cython.score-36 {background-color: #FFFF37;}\n",
       ".cython.score-37 {background-color: #FFFF36;}\n",
       ".cython.score-38 {background-color: #FFFF35;}\n",
       ".cython.score-39 {background-color: #FFFF34;}\n",
       ".cython.score-40 {background-color: #FFFF33;}\n",
       ".cython.score-41 {background-color: #FFFF32;}\n",
       ".cython.score-42 {background-color: #FFFF31;}\n",
       ".cython.score-43 {background-color: #FFFF30;}\n",
       ".cython.score-44 {background-color: #FFFF2f;}\n",
       ".cython.score-45 {background-color: #FFFF2e;}\n",
       ".cython.score-46 {background-color: #FFFF2d;}\n",
       ".cython.score-47 {background-color: #FFFF2c;}\n",
       ".cython.score-48 {background-color: #FFFF2b;}\n",
       ".cython.score-49 {background-color: #FFFF2b;}\n",
       ".cython.score-50 {background-color: #FFFF2a;}\n",
       ".cython.score-51 {background-color: #FFFF29;}\n",
       ".cython.score-52 {background-color: #FFFF29;}\n",
       ".cython.score-53 {background-color: #FFFF28;}\n",
       ".cython.score-54 {background-color: #FFFF27;}\n",
       ".cython.score-55 {background-color: #FFFF27;}\n",
       ".cython.score-56 {background-color: #FFFF26;}\n",
       ".cython.score-57 {background-color: #FFFF26;}\n",
       ".cython.score-58 {background-color: #FFFF25;}\n",
       ".cython.score-59 {background-color: #FFFF24;}\n",
       ".cython.score-60 {background-color: #FFFF24;}\n",
       ".cython.score-61 {background-color: #FFFF23;}\n",
       ".cython.score-62 {background-color: #FFFF23;}\n",
       ".cython.score-63 {background-color: #FFFF22;}\n",
       ".cython.score-64 {background-color: #FFFF22;}\n",
       ".cython.score-65 {background-color: #FFFF22;}\n",
       ".cython.score-66 {background-color: #FFFF21;}\n",
       ".cython.score-67 {background-color: #FFFF21;}\n",
       ".cython.score-68 {background-color: #FFFF20;}\n",
       ".cython.score-69 {background-color: #FFFF20;}\n",
       ".cython.score-70 {background-color: #FFFF1f;}\n",
       ".cython.score-71 {background-color: #FFFF1f;}\n",
       ".cython.score-72 {background-color: #FFFF1f;}\n",
       ".cython.score-73 {background-color: #FFFF1e;}\n",
       ".cython.score-74 {background-color: #FFFF1e;}\n",
       ".cython.score-75 {background-color: #FFFF1e;}\n",
       ".cython.score-76 {background-color: #FFFF1d;}\n",
       ".cython.score-77 {background-color: #FFFF1d;}\n",
       ".cython.score-78 {background-color: #FFFF1c;}\n",
       ".cython.score-79 {background-color: #FFFF1c;}\n",
       ".cython.score-80 {background-color: #FFFF1c;}\n",
       ".cython.score-81 {background-color: #FFFF1c;}\n",
       ".cython.score-82 {background-color: #FFFF1b;}\n",
       ".cython.score-83 {background-color: #FFFF1b;}\n",
       ".cython.score-84 {background-color: #FFFF1b;}\n",
       ".cython.score-85 {background-color: #FFFF1a;}\n",
       ".cython.score-86 {background-color: #FFFF1a;}\n",
       ".cython.score-87 {background-color: #FFFF1a;}\n",
       ".cython.score-88 {background-color: #FFFF1a;}\n",
       ".cython.score-89 {background-color: #FFFF19;}\n",
       ".cython.score-90 {background-color: #FFFF19;}\n",
       ".cython.score-91 {background-color: #FFFF19;}\n",
       ".cython.score-92 {background-color: #FFFF19;}\n",
       ".cython.score-93 {background-color: #FFFF18;}\n",
       ".cython.score-94 {background-color: #FFFF18;}\n",
       ".cython.score-95 {background-color: #FFFF18;}\n",
       ".cython.score-96 {background-color: #FFFF18;}\n",
       ".cython.score-97 {background-color: #FFFF17;}\n",
       ".cython.score-98 {background-color: #FFFF17;}\n",
       ".cython.score-99 {background-color: #FFFF17;}\n",
       ".cython.score-100 {background-color: #FFFF17;}\n",
       ".cython.score-101 {background-color: #FFFF16;}\n",
       ".cython.score-102 {background-color: #FFFF16;}\n",
       ".cython.score-103 {background-color: #FFFF16;}\n",
       ".cython.score-104 {background-color: #FFFF16;}\n",
       ".cython.score-105 {background-color: #FFFF16;}\n",
       ".cython.score-106 {background-color: #FFFF15;}\n",
       ".cython.score-107 {background-color: #FFFF15;}\n",
       ".cython.score-108 {background-color: #FFFF15;}\n",
       ".cython.score-109 {background-color: #FFFF15;}\n",
       ".cython.score-110 {background-color: #FFFF15;}\n",
       ".cython.score-111 {background-color: #FFFF15;}\n",
       ".cython.score-112 {background-color: #FFFF14;}\n",
       ".cython.score-113 {background-color: #FFFF14;}\n",
       ".cython.score-114 {background-color: #FFFF14;}\n",
       ".cython.score-115 {background-color: #FFFF14;}\n",
       ".cython.score-116 {background-color: #FFFF14;}\n",
       ".cython.score-117 {background-color: #FFFF14;}\n",
       ".cython.score-118 {background-color: #FFFF13;}\n",
       ".cython.score-119 {background-color: #FFFF13;}\n",
       ".cython.score-120 {background-color: #FFFF13;}\n",
       ".cython.score-121 {background-color: #FFFF13;}\n",
       ".cython.score-122 {background-color: #FFFF13;}\n",
       ".cython.score-123 {background-color: #FFFF13;}\n",
       ".cython.score-124 {background-color: #FFFF13;}\n",
       ".cython.score-125 {background-color: #FFFF12;}\n",
       ".cython.score-126 {background-color: #FFFF12;}\n",
       ".cython.score-127 {background-color: #FFFF12;}\n",
       ".cython.score-128 {background-color: #FFFF12;}\n",
       ".cython.score-129 {background-color: #FFFF12;}\n",
       ".cython.score-130 {background-color: #FFFF12;}\n",
       ".cython.score-131 {background-color: #FFFF12;}\n",
       ".cython.score-132 {background-color: #FFFF11;}\n",
       ".cython.score-133 {background-color: #FFFF11;}\n",
       ".cython.score-134 {background-color: #FFFF11;}\n",
       ".cython.score-135 {background-color: #FFFF11;}\n",
       ".cython.score-136 {background-color: #FFFF11;}\n",
       ".cython.score-137 {background-color: #FFFF11;}\n",
       ".cython.score-138 {background-color: #FFFF11;}\n",
       ".cython.score-139 {background-color: #FFFF11;}\n",
       ".cython.score-140 {background-color: #FFFF11;}\n",
       ".cython.score-141 {background-color: #FFFF10;}\n",
       ".cython.score-142 {background-color: #FFFF10;}\n",
       ".cython.score-143 {background-color: #FFFF10;}\n",
       ".cython.score-144 {background-color: #FFFF10;}\n",
       ".cython.score-145 {background-color: #FFFF10;}\n",
       ".cython.score-146 {background-color: #FFFF10;}\n",
       ".cython.score-147 {background-color: #FFFF10;}\n",
       ".cython.score-148 {background-color: #FFFF10;}\n",
       ".cython.score-149 {background-color: #FFFF10;}\n",
       ".cython.score-150 {background-color: #FFFF0f;}\n",
       ".cython.score-151 {background-color: #FFFF0f;}\n",
       ".cython.score-152 {background-color: #FFFF0f;}\n",
       ".cython.score-153 {background-color: #FFFF0f;}\n",
       ".cython.score-154 {background-color: #FFFF0f;}\n",
       ".cython.score-155 {background-color: #FFFF0f;}\n",
       ".cython.score-156 {background-color: #FFFF0f;}\n",
       ".cython.score-157 {background-color: #FFFF0f;}\n",
       ".cython.score-158 {background-color: #FFFF0f;}\n",
       ".cython.score-159 {background-color: #FFFF0f;}\n",
       ".cython.score-160 {background-color: #FFFF0f;}\n",
       ".cython.score-161 {background-color: #FFFF0e;}\n",
       ".cython.score-162 {background-color: #FFFF0e;}\n",
       ".cython.score-163 {background-color: #FFFF0e;}\n",
       ".cython.score-164 {background-color: #FFFF0e;}\n",
       ".cython.score-165 {background-color: #FFFF0e;}\n",
       ".cython.score-166 {background-color: #FFFF0e;}\n",
       ".cython.score-167 {background-color: #FFFF0e;}\n",
       ".cython.score-168 {background-color: #FFFF0e;}\n",
       ".cython.score-169 {background-color: #FFFF0e;}\n",
       ".cython.score-170 {background-color: #FFFF0e;}\n",
       ".cython.score-171 {background-color: #FFFF0e;}\n",
       ".cython.score-172 {background-color: #FFFF0e;}\n",
       ".cython.score-173 {background-color: #FFFF0d;}\n",
       ".cython.score-174 {background-color: #FFFF0d;}\n",
       ".cython.score-175 {background-color: #FFFF0d;}\n",
       ".cython.score-176 {background-color: #FFFF0d;}\n",
       ".cython.score-177 {background-color: #FFFF0d;}\n",
       ".cython.score-178 {background-color: #FFFF0d;}\n",
       ".cython.score-179 {background-color: #FFFF0d;}\n",
       ".cython.score-180 {background-color: #FFFF0d;}\n",
       ".cython.score-181 {background-color: #FFFF0d;}\n",
       ".cython.score-182 {background-color: #FFFF0d;}\n",
       ".cython.score-183 {background-color: #FFFF0d;}\n",
       ".cython.score-184 {background-color: #FFFF0d;}\n",
       ".cython.score-185 {background-color: #FFFF0d;}\n",
       ".cython.score-186 {background-color: #FFFF0d;}\n",
       ".cython.score-187 {background-color: #FFFF0c;}\n",
       ".cython.score-188 {background-color: #FFFF0c;}\n",
       ".cython.score-189 {background-color: #FFFF0c;}\n",
       ".cython.score-190 {background-color: #FFFF0c;}\n",
       ".cython.score-191 {background-color: #FFFF0c;}\n",
       ".cython.score-192 {background-color: #FFFF0c;}\n",
       ".cython.score-193 {background-color: #FFFF0c;}\n",
       ".cython.score-194 {background-color: #FFFF0c;}\n",
       ".cython.score-195 {background-color: #FFFF0c;}\n",
       ".cython.score-196 {background-color: #FFFF0c;}\n",
       ".cython.score-197 {background-color: #FFFF0c;}\n",
       ".cython.score-198 {background-color: #FFFF0c;}\n",
       ".cython.score-199 {background-color: #FFFF0c;}\n",
       ".cython.score-200 {background-color: #FFFF0c;}\n",
       ".cython.score-201 {background-color: #FFFF0c;}\n",
       ".cython.score-202 {background-color: #FFFF0c;}\n",
       ".cython.score-203 {background-color: #FFFF0b;}\n",
       ".cython.score-204 {background-color: #FFFF0b;}\n",
       ".cython.score-205 {background-color: #FFFF0b;}\n",
       ".cython.score-206 {background-color: #FFFF0b;}\n",
       ".cython.score-207 {background-color: #FFFF0b;}\n",
       ".cython.score-208 {background-color: #FFFF0b;}\n",
       ".cython.score-209 {background-color: #FFFF0b;}\n",
       ".cython.score-210 {background-color: #FFFF0b;}\n",
       ".cython.score-211 {background-color: #FFFF0b;}\n",
       ".cython.score-212 {background-color: #FFFF0b;}\n",
       ".cython.score-213 {background-color: #FFFF0b;}\n",
       ".cython.score-214 {background-color: #FFFF0b;}\n",
       ".cython.score-215 {background-color: #FFFF0b;}\n",
       ".cython.score-216 {background-color: #FFFF0b;}\n",
       ".cython.score-217 {background-color: #FFFF0b;}\n",
       ".cython.score-218 {background-color: #FFFF0b;}\n",
       ".cython.score-219 {background-color: #FFFF0b;}\n",
       ".cython.score-220 {background-color: #FFFF0b;}\n",
       ".cython.score-221 {background-color: #FFFF0b;}\n",
       ".cython.score-222 {background-color: #FFFF0a;}\n",
       ".cython.score-223 {background-color: #FFFF0a;}\n",
       ".cython.score-224 {background-color: #FFFF0a;}\n",
       ".cython.score-225 {background-color: #FFFF0a;}\n",
       ".cython.score-226 {background-color: #FFFF0a;}\n",
       ".cython.score-227 {background-color: #FFFF0a;}\n",
       ".cython.score-228 {background-color: #FFFF0a;}\n",
       ".cython.score-229 {background-color: #FFFF0a;}\n",
       ".cython.score-230 {background-color: #FFFF0a;}\n",
       ".cython.score-231 {background-color: #FFFF0a;}\n",
       ".cython.score-232 {background-color: #FFFF0a;}\n",
       ".cython.score-233 {background-color: #FFFF0a;}\n",
       ".cython.score-234 {background-color: #FFFF0a;}\n",
       ".cython.score-235 {background-color: #FFFF0a;}\n",
       ".cython.score-236 {background-color: #FFFF0a;}\n",
       ".cython.score-237 {background-color: #FFFF0a;}\n",
       ".cython.score-238 {background-color: #FFFF0a;}\n",
       ".cython.score-239 {background-color: #FFFF0a;}\n",
       ".cython.score-240 {background-color: #FFFF0a;}\n",
       ".cython.score-241 {background-color: #FFFF0a;}\n",
       ".cython.score-242 {background-color: #FFFF0a;}\n",
       ".cython.score-243 {background-color: #FFFF0a;}\n",
       ".cython.score-244 {background-color: #FFFF0a;}\n",
       ".cython.score-245 {background-color: #FFFF0a;}\n",
       ".cython.score-246 {background-color: #FFFF09;}\n",
       ".cython.score-247 {background-color: #FFFF09;}\n",
       ".cython.score-248 {background-color: #FFFF09;}\n",
       ".cython.score-249 {background-color: #FFFF09;}\n",
       ".cython.score-250 {background-color: #FFFF09;}\n",
       ".cython.score-251 {background-color: #FFFF09;}\n",
       ".cython.score-252 {background-color: #FFFF09;}\n",
       ".cython.score-253 {background-color: #FFFF09;}\n",
       ".cython.score-254 {background-color: #FFFF09;}\n",
       "pre { line-height: 125%; }\n",
       "td.linenos .normal { color: inherit; background-color: transparent; padding-left: 5px; padding-right: 5px; }\n",
       "span.linenos { color: inherit; background-color: transparent; padding-left: 5px; padding-right: 5px; }\n",
       "td.linenos .special { color: #000000; background-color: #ffffc0; padding-left: 5px; padding-right: 5px; }\n",
       "span.linenos.special { color: #000000; background-color: #ffffc0; padding-left: 5px; padding-right: 5px; }\n",
       ".cython .hll { background-color: #ffffcc }\n",
       ".cython { background: #f8f8f8; }\n",
       ".cython .c { color: #3D7B7B; font-style: italic } /* Comment */\n",
       ".cython .err { border: 1px solid #FF0000 } /* Error */\n",
       ".cython .k { color: #008000; font-weight: bold } /* Keyword */\n",
       ".cython .o { color: #666666 } /* Operator */\n",
       ".cython .ch { color: #3D7B7B; font-style: italic } /* Comment.Hashbang */\n",
       ".cython .cm { color: #3D7B7B; font-style: italic } /* Comment.Multiline */\n",
       ".cython .cp { color: #9C6500 } /* Comment.Preproc */\n",
       ".cython .cpf { color: #3D7B7B; font-style: italic } /* Comment.PreprocFile */\n",
       ".cython .c1 { color: #3D7B7B; font-style: italic } /* Comment.Single */\n",
       ".cython .cs { color: #3D7B7B; font-style: italic } /* Comment.Special */\n",
       ".cython .gd { color: #A00000 } /* Generic.Deleted */\n",
       ".cython .ge { font-style: italic } /* Generic.Emph */\n",
       ".cython .gr { color: #E40000 } /* Generic.Error */\n",
       ".cython .gh { color: #000080; font-weight: bold } /* Generic.Heading */\n",
       ".cython .gi { color: #008400 } /* Generic.Inserted */\n",
       ".cython .go { color: #717171 } /* Generic.Output */\n",
       ".cython .gp { color: #000080; font-weight: bold } /* Generic.Prompt */\n",
       ".cython .gs { font-weight: bold } /* Generic.Strong */\n",
       ".cython .gu { color: #800080; font-weight: bold } /* Generic.Subheading */\n",
       ".cython .gt { color: #0044DD } /* Generic.Traceback */\n",
       ".cython .kc { color: #008000; font-weight: bold } /* Keyword.Constant */\n",
       ".cython .kd { color: #008000; font-weight: bold } /* Keyword.Declaration */\n",
       ".cython .kn { color: #008000; font-weight: bold } /* Keyword.Namespace */\n",
       ".cython .kp { color: #008000 } /* Keyword.Pseudo */\n",
       ".cython .kr { color: #008000; font-weight: bold } /* Keyword.Reserved */\n",
       ".cython .kt { color: #B00040 } /* Keyword.Type */\n",
       ".cython .m { color: #666666 } /* Literal.Number */\n",
       ".cython .s { color: #BA2121 } /* Literal.String */\n",
       ".cython .na { color: #687822 } /* Name.Attribute */\n",
       ".cython .nb { color: #008000 } /* Name.Builtin */\n",
       ".cython .nc { color: #0000FF; font-weight: bold } /* Name.Class */\n",
       ".cython .no { color: #880000 } /* Name.Constant */\n",
       ".cython .nd { color: #AA22FF } /* Name.Decorator */\n",
       ".cython .ni { color: #717171; font-weight: bold } /* Name.Entity */\n",
       ".cython .ne { color: #CB3F38; font-weight: bold } /* Name.Exception */\n",
       ".cython .nf { color: #0000FF } /* Name.Function */\n",
       ".cython .nl { color: #767600 } /* Name.Label */\n",
       ".cython .nn { color: #0000FF; font-weight: bold } /* Name.Namespace */\n",
       ".cython .nt { color: #008000; font-weight: bold } /* Name.Tag */\n",
       ".cython .nv { color: #19177C } /* Name.Variable */\n",
       ".cython .ow { color: #AA22FF; font-weight: bold } /* Operator.Word */\n",
       ".cython .w { color: #bbbbbb } /* Text.Whitespace */\n",
       ".cython .mb { color: #666666 } /* Literal.Number.Bin */\n",
       ".cython .mf { color: #666666 } /* Literal.Number.Float */\n",
       ".cython .mh { color: #666666 } /* Literal.Number.Hex */\n",
       ".cython .mi { color: #666666 } /* Literal.Number.Integer */\n",
       ".cython .mo { color: #666666 } /* Literal.Number.Oct */\n",
       ".cython .sa { color: #BA2121 } /* Literal.String.Affix */\n",
       ".cython .sb { color: #BA2121 } /* Literal.String.Backtick */\n",
       ".cython .sc { color: #BA2121 } /* Literal.String.Char */\n",
       ".cython .dl { color: #BA2121 } /* Literal.String.Delimiter */\n",
       ".cython .sd { color: #BA2121; font-style: italic } /* Literal.String.Doc */\n",
       ".cython .s2 { color: #BA2121 } /* Literal.String.Double */\n",
       ".cython .se { color: #AA5D1F; font-weight: bold } /* Literal.String.Escape */\n",
       ".cython .sh { color: #BA2121 } /* Literal.String.Heredoc */\n",
       ".cython .si { color: #A45A77; font-weight: bold } /* Literal.String.Interpol */\n",
       ".cython .sx { color: #008000 } /* Literal.String.Other */\n",
       ".cython .sr { color: #A45A77 } /* Literal.String.Regex */\n",
       ".cython .s1 { color: #BA2121 } /* Literal.String.Single */\n",
       ".cython .ss { color: #19177C } /* Literal.String.Symbol */\n",
       ".cython .bp { color: #008000 } /* Name.Builtin.Pseudo */\n",
       ".cython .fm { color: #0000FF } /* Name.Function.Magic */\n",
       ".cython .vc { color: #19177C } /* Name.Variable.Class */\n",
       ".cython .vg { color: #19177C } /* Name.Variable.Global */\n",
       ".cython .vi { color: #19177C } /* Name.Variable.Instance */\n",
       ".cython .vm { color: #19177C } /* Name.Variable.Magic */\n",
       ".cython .il { color: #666666 } /* Literal.Number.Integer.Long */\n",
       "    </style>\n",
       "</head>\n",
       "<body class=\"cython\">\n",
       "<p><span style=\"border-bottom: solid 1px grey;\">Generated by Cython 0.29.26</span></p>\n",
       "<p>\n",
       "    <span style=\"background-color: #FFFF00\">Yellow lines</span> hint at Python interaction.<br />\n",
       "    Click on a line that starts with a \"<code>+</code>\" to see the C code that Cython generated for it.\n",
       "</p>\n",
       "<div class=\"cython\"><pre class=\"cython line score-16\" onclick=\"(function(s){s.display=s.display==='block'?'none':'block'})(this.nextElementSibling.style)\">+<span class=\"\">01</span>: <span class=\"k\">import</span> <span class=\"nn\">time</span></pre>\n",
       "<pre class='cython code score-16 '>  __pyx_t_1 = <span class='pyx_c_api'>__Pyx_Import</span>(__pyx_n_s_time, 0, 0);<span class='error_goto'> if (unlikely(!__pyx_t_1)) __PYX_ERR(0, 1, __pyx_L1_error)</span>\n",
       "  <span class='refnanny'>__Pyx_GOTREF</span>(__pyx_t_1);\n",
       "  if (<span class='py_c_api'>PyDict_SetItem</span>(__pyx_d, __pyx_n_s_time, __pyx_t_1) &lt; 0) <span class='error_goto'>__PYX_ERR(0, 1, __pyx_L1_error)</span>\n",
       "  <span class='pyx_macro_api'>__Pyx_DECREF</span>(__pyx_t_1); __pyx_t_1 = 0;\n",
       "/* … */\n",
       "  __pyx_t_1 = <span class='pyx_c_api'>__Pyx_PyDict_NewPresized</span>(0);<span class='error_goto'> if (unlikely(!__pyx_t_1)) __PYX_ERR(0, 1, __pyx_L1_error)</span>\n",
       "  <span class='refnanny'>__Pyx_GOTREF</span>(__pyx_t_1);\n",
       "  if (<span class='py_c_api'>PyDict_SetItem</span>(__pyx_d, __pyx_n_s_test, __pyx_t_1) &lt; 0) <span class='error_goto'>__PYX_ERR(0, 1, __pyx_L1_error)</span>\n",
       "  <span class='pyx_macro_api'>__Pyx_DECREF</span>(__pyx_t_1); __pyx_t_1 = 0;\n",
       "</pre><pre class=\"cython line score-8\" onclick=\"(function(s){s.display=s.display==='block'?'none':'block'})(this.nextElementSibling.style)\">+<span class=\"\">02</span>: <span class=\"k\">import</span> <span class=\"nn\">numpy</span> <span class=\"k\">as</span> <span class=\"nn\">np</span></pre>\n",
       "<pre class='cython code score-8 '>  __pyx_t_1 = <span class='pyx_c_api'>__Pyx_Import</span>(__pyx_n_s_numpy, 0, 0);<span class='error_goto'> if (unlikely(!__pyx_t_1)) __PYX_ERR(0, 2, __pyx_L1_error)</span>\n",
       "  <span class='refnanny'>__Pyx_GOTREF</span>(__pyx_t_1);\n",
       "  if (<span class='py_c_api'>PyDict_SetItem</span>(__pyx_d, __pyx_n_s_np, __pyx_t_1) &lt; 0) <span class='error_goto'>__PYX_ERR(0, 2, __pyx_L1_error)</span>\n",
       "  <span class='pyx_macro_api'>__Pyx_DECREF</span>(__pyx_t_1); __pyx_t_1 = 0;\n",
       "</pre><pre class=\"cython line score-0\">&#xA0;<span class=\"\">03</span>: <span class=\"k\">cimport</span> <span class=\"nn\">numpy</span> <span class=\"k\">as</span> <span class=\"nn\">np</span></pre>\n",
       "<pre class=\"cython line score-0\">&#xA0;<span class=\"\">04</span>: <span class=\"k\">cimport</span> <span class=\"nn\">cython</span></pre>\n",
       "<pre class=\"cython line score-0\" onclick=\"(function(s){s.display=s.display==='block'?'none':'block'})(this.nextElementSibling.style)\">+<span class=\"\">05</span>: <span class=\"n\">np</span><span class=\"o\">.</span><span class=\"n\">import_array</span><span class=\"p\">()</span></pre>\n",
       "<pre class='cython code score-0 '>  __pyx_t_2 = __pyx_f_5numpy_import_array();<span class='error_goto'> if (unlikely(__pyx_t_2 == ((int)-1))) __PYX_ERR(0, 5, __pyx_L1_error)</span>\n",
       "</pre><pre class=\"cython line score-0\">&#xA0;<span class=\"\">06</span>: </pre>\n",
       "<pre class=\"cython line score-0\">&#xA0;<span class=\"\">07</span>: </pre>\n",
       "<pre class=\"cython line score-0\">&#xA0;<span class=\"\">08</span>: <span class=\"k\">ctypedef</span> <span class=\"n\">np</span><span class=\"o\">.</span><span class=\"n\">float_t</span> <span class=\"n\">DTYPE_t</span></pre>\n",
       "<pre class=\"cython line score-0\">&#xA0;<span class=\"\">09</span>: </pre>\n",
       "<pre class=\"cython line score-0\">&#xA0;<span class=\"\">10</span>: <span class=\"k\">cdef</span> <span class=\"kr\">extern</span> <span class=\"k\">from</span> <span class=\"s\">&quot;math.h&quot;</span><span class=\"p\">:</span></pre>\n",
       "<pre class=\"cython line score-0\">&#xA0;<span class=\"\">11</span>:     <span class=\"k\">cpdef</span> <span class=\"kt\">double</span> <span class=\"nf\">sin</span><span class=\"p\">(</span><span class=\"n\">double</span> <span class=\"n\">x</span><span class=\"p\">)</span></pre>\n",
       "<pre class=\"cython line score-0\">&#xA0;<span class=\"\">12</span>: </pre>\n",
       "<pre class=\"cython line score-0\">&#xA0;<span class=\"\">13</span>: <span class=\"nd\">@cython</span><span class=\"o\">.</span><span class=\"n\">boundscheck</span><span class=\"p\">(</span><span class=\"bp\">False</span><span class=\"p\">)</span></pre>\n",
       "<pre class=\"cython line score-0\">&#xA0;<span class=\"\">14</span>: <span class=\"nd\">@cython</span><span class=\"o\">.</span><span class=\"n\">wraparound</span><span class=\"p\">(</span><span class=\"bp\">False</span><span class=\"p\">)</span></pre>\n",
       "<pre class=\"cython line score-75\" onclick=\"(function(s){s.display=s.display==='block'?'none':'block'})(this.nextElementSibling.style)\">+<span class=\"\">15</span>: <span class=\"k\">cpdef</span> <span class=\"kt\">np</span>.<span class=\"kt\">ndarray</span>[<span class=\"nf\">DTYPE_t</span><span class=\"p\">,</span> <span class=\"nf\">ndim</span><span class=\"o\">=</span><span class=\"mf\">1</span><span class=\"p\">]</span> <span class=\"n\">sin_func</span><span class=\"p\">(</span><span class=\"n\">np</span><span class=\"o\">.</span><span class=\"n\">ndarray</span><span class=\"p\">[</span><span class=\"n\">DTYPE_t</span><span class=\"p\">,</span> <span class=\"n\">ndim</span><span class=\"o\">=</span><span class=\"mf\">1</span><span class=\"p\">]</span> <span class=\"n\">arr</span><span class=\"p\">,</span> <span class=\"n\">np</span><span class=\"o\">.</span><span class=\"n\">ndarray</span><span class=\"p\">[</span><span class=\"n\">DTYPE_t</span><span class=\"p\">,</span> <span class=\"n\">ndim</span><span class=\"o\">=</span><span class=\"mf\">1</span><span class=\"p\">]</span> <span class=\"n\">params</span><span class=\"p\">):</span></pre>\n",
       "<pre class='cython code score-75 '>static PyObject *__pyx_pw_46_cython_magic_b206d0719b80e8aa0853b12fcf5f8149_1sin_func(PyObject *__pyx_self, PyObject *__pyx_args, PyObject *__pyx_kwds); /*proto*/\n",
       "static PyArrayObject *__pyx_f_46_cython_magic_b206d0719b80e8aa0853b12fcf5f8149_sin_func(PyArrayObject *__pyx_v_arr, PyArrayObject *__pyx_v_params, CYTHON_UNUSED int __pyx_skip_dispatch) {\n",
       "  int __pyx_v_shape;\n",
       "  PyArrayObject *__pyx_v_y = 0;\n",
       "  int __pyx_v_k;\n",
       "  __Pyx_LocalBuf_ND __pyx_pybuffernd_arr;\n",
       "  __Pyx_Buffer __pyx_pybuffer_arr;\n",
       "  __Pyx_LocalBuf_ND __pyx_pybuffernd_params;\n",
       "  __Pyx_Buffer __pyx_pybuffer_params;\n",
       "  __Pyx_LocalBuf_ND __pyx_pybuffernd_y;\n",
       "  __Pyx_Buffer __pyx_pybuffer_y;\n",
       "  PyArrayObject *__pyx_r = NULL;\n",
       "  <span class='refnanny'>__Pyx_RefNannyDeclarations</span>\n",
       "  <span class='refnanny'>__Pyx_RefNannySetupContext</span>(\"sin_func\", 0);\n",
       "  __pyx_pybuffer_y.pybuffer.buf = NULL;\n",
       "  __pyx_pybuffer_y.refcount = 0;\n",
       "  __pyx_pybuffernd_y.data = NULL;\n",
       "  __pyx_pybuffernd_y.rcbuffer = &amp;__pyx_pybuffer_y;\n",
       "  __pyx_pybuffer_arr.pybuffer.buf = NULL;\n",
       "  __pyx_pybuffer_arr.refcount = 0;\n",
       "  __pyx_pybuffernd_arr.data = NULL;\n",
       "  __pyx_pybuffernd_arr.rcbuffer = &amp;__pyx_pybuffer_arr;\n",
       "  __pyx_pybuffer_params.pybuffer.buf = NULL;\n",
       "  __pyx_pybuffer_params.refcount = 0;\n",
       "  __pyx_pybuffernd_params.data = NULL;\n",
       "  __pyx_pybuffernd_params.rcbuffer = &amp;__pyx_pybuffer_params;\n",
       "  {\n",
       "    __Pyx_BufFmt_StackElem __pyx_stack[1];\n",
       "    if (unlikely(<span class='pyx_c_api'>__Pyx_GetBufferAndValidate</span>(&amp;__pyx_pybuffernd_arr.rcbuffer-&gt;pybuffer, (PyObject*)__pyx_v_arr, &amp;__Pyx_TypeInfo_nn___pyx_t_46_cython_magic_b206d0719b80e8aa0853b12fcf5f8149_DTYPE_t, PyBUF_FORMAT| PyBUF_STRIDES, 1, 0, __pyx_stack) == -1)) <span class='error_goto'>__PYX_ERR(0, 15, __pyx_L1_error)</span>\n",
       "  }\n",
       "  __pyx_pybuffernd_arr.diminfo[0].strides = __pyx_pybuffernd_arr.rcbuffer-&gt;pybuffer.strides[0]; __pyx_pybuffernd_arr.diminfo[0].shape = __pyx_pybuffernd_arr.rcbuffer-&gt;pybuffer.shape[0];\n",
       "  {\n",
       "    __Pyx_BufFmt_StackElem __pyx_stack[1];\n",
       "    if (unlikely(<span class='pyx_c_api'>__Pyx_GetBufferAndValidate</span>(&amp;__pyx_pybuffernd_params.rcbuffer-&gt;pybuffer, (PyObject*)__pyx_v_params, &amp;__Pyx_TypeInfo_nn___pyx_t_46_cython_magic_b206d0719b80e8aa0853b12fcf5f8149_DTYPE_t, PyBUF_FORMAT| PyBUF_STRIDES, 1, 0, __pyx_stack) == -1)) <span class='error_goto'>__PYX_ERR(0, 15, __pyx_L1_error)</span>\n",
       "  }\n",
       "  __pyx_pybuffernd_params.diminfo[0].strides = __pyx_pybuffernd_params.rcbuffer-&gt;pybuffer.strides[0]; __pyx_pybuffernd_params.diminfo[0].shape = __pyx_pybuffernd_params.rcbuffer-&gt;pybuffer.shape[0];\n",
       "/* … */\n",
       "  /* function exit code */\n",
       "  __pyx_L1_error:;\n",
       "  <span class='pyx_macro_api'>__Pyx_XDECREF</span>(__pyx_t_2);\n",
       "  <span class='pyx_macro_api'>__Pyx_XDECREF</span>(__pyx_t_3);\n",
       "  <span class='pyx_macro_api'>__Pyx_XDECREF</span>(__pyx_t_4);\n",
       "  <span class='pyx_macro_api'>__Pyx_XDECREF</span>(__pyx_t_5);\n",
       "  { PyObject *__pyx_type, *__pyx_value, *__pyx_tb;\n",
       "    __Pyx_PyThreadState_declare\n",
       "    __Pyx_PyThreadState_assign\n",
       "    <span class='pyx_c_api'>__Pyx_ErrFetch</span>(&amp;__pyx_type, &amp;__pyx_value, &amp;__pyx_tb);\n",
       "    <span class='pyx_c_api'>__Pyx_SafeReleaseBuffer</span>(&amp;__pyx_pybuffernd_arr.rcbuffer-&gt;pybuffer);\n",
       "    <span class='pyx_c_api'>__Pyx_SafeReleaseBuffer</span>(&amp;__pyx_pybuffernd_params.rcbuffer-&gt;pybuffer);\n",
       "    <span class='pyx_c_api'>__Pyx_SafeReleaseBuffer</span>(&amp;__pyx_pybuffernd_y.rcbuffer-&gt;pybuffer);\n",
       "  <span class='pyx_c_api'>__Pyx_ErrRestore</span>(__pyx_type, __pyx_value, __pyx_tb);}\n",
       "  <span class='pyx_c_api'>__Pyx_AddTraceback</span>(\"_cython_magic_b206d0719b80e8aa0853b12fcf5f8149.sin_func\", __pyx_clineno, __pyx_lineno, __pyx_filename);\n",
       "  __pyx_r = 0;\n",
       "  goto __pyx_L2;\n",
       "  __pyx_L0:;\n",
       "  <span class='pyx_c_api'>__Pyx_SafeReleaseBuffer</span>(&amp;__pyx_pybuffernd_arr.rcbuffer-&gt;pybuffer);\n",
       "  <span class='pyx_c_api'>__Pyx_SafeReleaseBuffer</span>(&amp;__pyx_pybuffernd_params.rcbuffer-&gt;pybuffer);\n",
       "  <span class='pyx_c_api'>__Pyx_SafeReleaseBuffer</span>(&amp;__pyx_pybuffernd_y.rcbuffer-&gt;pybuffer);\n",
       "  __pyx_L2:;\n",
       "  <span class='pyx_macro_api'>__Pyx_XDECREF</span>((PyObject *)__pyx_v_y);\n",
       "  <span class='refnanny'>__Pyx_XGIVEREF</span>((PyObject *)__pyx_r);\n",
       "  <span class='refnanny'>__Pyx_RefNannyFinishContext</span>();\n",
       "  return __pyx_r;\n",
       "}\n",
       "\n",
       "/* Python wrapper */\n",
       "static PyObject *__pyx_pw_46_cython_magic_b206d0719b80e8aa0853b12fcf5f8149_1sin_func(PyObject *__pyx_self, PyObject *__pyx_args, PyObject *__pyx_kwds); /*proto*/\n",
       "static PyObject *__pyx_pw_46_cython_magic_b206d0719b80e8aa0853b12fcf5f8149_1sin_func(PyObject *__pyx_self, PyObject *__pyx_args, PyObject *__pyx_kwds) {\n",
       "  PyArrayObject *__pyx_v_arr = 0;\n",
       "  PyArrayObject *__pyx_v_params = 0;\n",
       "  PyObject *__pyx_r = 0;\n",
       "  <span class='refnanny'>__Pyx_RefNannyDeclarations</span>\n",
       "  <span class='refnanny'>__Pyx_RefNannySetupContext</span>(\"sin_func (wrapper)\", 0);\n",
       "  {\n",
       "    static PyObject **__pyx_pyargnames[] = {&amp;__pyx_n_s_arr,&amp;__pyx_n_s_params,0};\n",
       "    PyObject* values[2] = {0,0};\n",
       "    if (unlikely(__pyx_kwds)) {\n",
       "      Py_ssize_t kw_args;\n",
       "      const Py_ssize_t pos_args = <span class='py_macro_api'>PyTuple_GET_SIZE</span>(__pyx_args);\n",
       "      switch (pos_args) {\n",
       "        case  2: values[1] = <span class='py_macro_api'>PyTuple_GET_ITEM</span>(__pyx_args, 1);\n",
       "        CYTHON_FALLTHROUGH;\n",
       "        case  1: values[0] = <span class='py_macro_api'>PyTuple_GET_ITEM</span>(__pyx_args, 0);\n",
       "        CYTHON_FALLTHROUGH;\n",
       "        case  0: break;\n",
       "        default: goto __pyx_L5_argtuple_error;\n",
       "      }\n",
       "      kw_args = <span class='py_c_api'>PyDict_Size</span>(__pyx_kwds);\n",
       "      switch (pos_args) {\n",
       "        case  0:\n",
       "        if (likely((values[0] = <span class='pyx_c_api'>__Pyx_PyDict_GetItemStr</span>(__pyx_kwds, __pyx_n_s_arr)) != 0)) kw_args--;\n",
       "        else goto __pyx_L5_argtuple_error;\n",
       "        CYTHON_FALLTHROUGH;\n",
       "        case  1:\n",
       "        if (likely((values[1] = <span class='pyx_c_api'>__Pyx_PyDict_GetItemStr</span>(__pyx_kwds, __pyx_n_s_params)) != 0)) kw_args--;\n",
       "        else {\n",
       "          <span class='pyx_c_api'>__Pyx_RaiseArgtupleInvalid</span>(\"sin_func\", 1, 2, 2, 1); <span class='error_goto'>__PYX_ERR(0, 15, __pyx_L3_error)</span>\n",
       "        }\n",
       "      }\n",
       "      if (unlikely(kw_args &gt; 0)) {\n",
       "        if (unlikely(<span class='pyx_c_api'>__Pyx_ParseOptionalKeywords</span>(__pyx_kwds, __pyx_pyargnames, 0, values, pos_args, \"sin_func\") &lt; 0)) <span class='error_goto'>__PYX_ERR(0, 15, __pyx_L3_error)</span>\n",
       "      }\n",
       "    } else if (<span class='py_macro_api'>PyTuple_GET_SIZE</span>(__pyx_args) != 2) {\n",
       "      goto __pyx_L5_argtuple_error;\n",
       "    } else {\n",
       "      values[0] = <span class='py_macro_api'>PyTuple_GET_ITEM</span>(__pyx_args, 0);\n",
       "      values[1] = <span class='py_macro_api'>PyTuple_GET_ITEM</span>(__pyx_args, 1);\n",
       "    }\n",
       "    __pyx_v_arr = ((PyArrayObject *)values[0]);\n",
       "    __pyx_v_params = ((PyArrayObject *)values[1]);\n",
       "  }\n",
       "  goto __pyx_L4_argument_unpacking_done;\n",
       "  __pyx_L5_argtuple_error:;\n",
       "  <span class='pyx_c_api'>__Pyx_RaiseArgtupleInvalid</span>(\"sin_func\", 1, 2, 2, <span class='py_macro_api'>PyTuple_GET_SIZE</span>(__pyx_args)); <span class='error_goto'>__PYX_ERR(0, 15, __pyx_L3_error)</span>\n",
       "  __pyx_L3_error:;\n",
       "  <span class='pyx_c_api'>__Pyx_AddTraceback</span>(\"_cython_magic_b206d0719b80e8aa0853b12fcf5f8149.sin_func\", __pyx_clineno, __pyx_lineno, __pyx_filename);\n",
       "  <span class='refnanny'>__Pyx_RefNannyFinishContext</span>();\n",
       "  return NULL;\n",
       "  __pyx_L4_argument_unpacking_done:;\n",
       "  if (unlikely(!<span class='pyx_c_api'>__Pyx_ArgTypeTest</span>(((PyObject *)__pyx_v_arr), __pyx_ptype_5numpy_ndarray, 1, \"arr\", 0))) <span class='error_goto'>__PYX_ERR(0, 15, __pyx_L1_error)</span>\n",
       "  if (unlikely(!<span class='pyx_c_api'>__Pyx_ArgTypeTest</span>(((PyObject *)__pyx_v_params), __pyx_ptype_5numpy_ndarray, 1, \"params\", 0))) <span class='error_goto'>__PYX_ERR(0, 15, __pyx_L1_error)</span>\n",
       "  __pyx_r = __pyx_pf_46_cython_magic_b206d0719b80e8aa0853b12fcf5f8149_sin_func(__pyx_self, __pyx_v_arr, __pyx_v_params);\n",
       "  int __pyx_lineno = 0;\n",
       "  const char *__pyx_filename = NULL;\n",
       "  int __pyx_clineno = 0;\n",
       "\n",
       "  /* function exit code */\n",
       "  goto __pyx_L0;\n",
       "  __pyx_L1_error:;\n",
       "  __pyx_r = NULL;\n",
       "  __pyx_L0:;\n",
       "  <span class='refnanny'>__Pyx_RefNannyFinishContext</span>();\n",
       "  return __pyx_r;\n",
       "}\n",
       "\n",
       "static PyObject *__pyx_pf_46_cython_magic_b206d0719b80e8aa0853b12fcf5f8149_sin_func(CYTHON_UNUSED PyObject *__pyx_self, PyArrayObject *__pyx_v_arr, PyArrayObject *__pyx_v_params) {\n",
       "  __Pyx_LocalBuf_ND __pyx_pybuffernd_arr;\n",
       "  __Pyx_Buffer __pyx_pybuffer_arr;\n",
       "  __Pyx_LocalBuf_ND __pyx_pybuffernd_params;\n",
       "  __Pyx_Buffer __pyx_pybuffer_params;\n",
       "  PyObject *__pyx_r = NULL;\n",
       "  <span class='refnanny'>__Pyx_RefNannyDeclarations</span>\n",
       "  <span class='refnanny'>__Pyx_RefNannySetupContext</span>(\"sin_func\", 0);\n",
       "  __pyx_pybuffer_arr.pybuffer.buf = NULL;\n",
       "  __pyx_pybuffer_arr.refcount = 0;\n",
       "  __pyx_pybuffernd_arr.data = NULL;\n",
       "  __pyx_pybuffernd_arr.rcbuffer = &amp;__pyx_pybuffer_arr;\n",
       "  __pyx_pybuffer_params.pybuffer.buf = NULL;\n",
       "  __pyx_pybuffer_params.refcount = 0;\n",
       "  __pyx_pybuffernd_params.data = NULL;\n",
       "  __pyx_pybuffernd_params.rcbuffer = &amp;__pyx_pybuffer_params;\n",
       "  {\n",
       "    __Pyx_BufFmt_StackElem __pyx_stack[1];\n",
       "    if (unlikely(<span class='pyx_c_api'>__Pyx_GetBufferAndValidate</span>(&amp;__pyx_pybuffernd_arr.rcbuffer-&gt;pybuffer, (PyObject*)__pyx_v_arr, &amp;__Pyx_TypeInfo_nn___pyx_t_46_cython_magic_b206d0719b80e8aa0853b12fcf5f8149_DTYPE_t, PyBUF_FORMAT| PyBUF_STRIDES, 1, 0, __pyx_stack) == -1)) <span class='error_goto'>__PYX_ERR(0, 15, __pyx_L1_error)</span>\n",
       "  }\n",
       "  __pyx_pybuffernd_arr.diminfo[0].strides = __pyx_pybuffernd_arr.rcbuffer-&gt;pybuffer.strides[0]; __pyx_pybuffernd_arr.diminfo[0].shape = __pyx_pybuffernd_arr.rcbuffer-&gt;pybuffer.shape[0];\n",
       "  {\n",
       "    __Pyx_BufFmt_StackElem __pyx_stack[1];\n",
       "    if (unlikely(<span class='pyx_c_api'>__Pyx_GetBufferAndValidate</span>(&amp;__pyx_pybuffernd_params.rcbuffer-&gt;pybuffer, (PyObject*)__pyx_v_params, &amp;__Pyx_TypeInfo_nn___pyx_t_46_cython_magic_b206d0719b80e8aa0853b12fcf5f8149_DTYPE_t, PyBUF_FORMAT| PyBUF_STRIDES, 1, 0, __pyx_stack) == -1)) <span class='error_goto'>__PYX_ERR(0, 15, __pyx_L1_error)</span>\n",
       "  }\n",
       "  __pyx_pybuffernd_params.diminfo[0].strides = __pyx_pybuffernd_params.rcbuffer-&gt;pybuffer.strides[0]; __pyx_pybuffernd_params.diminfo[0].shape = __pyx_pybuffernd_params.rcbuffer-&gt;pybuffer.shape[0];\n",
       "  <span class='pyx_macro_api'>__Pyx_XDECREF</span>(__pyx_r);\n",
       "  __pyx_t_1 = ((PyObject *)__pyx_f_46_cython_magic_b206d0719b80e8aa0853b12fcf5f8149_sin_func(__pyx_v_arr, __pyx_v_params, 0));<span class='error_goto'> if (unlikely(!__pyx_t_1)) __PYX_ERR(0, 15, __pyx_L1_error)</span>\n",
       "  <span class='refnanny'>__Pyx_GOTREF</span>(__pyx_t_1);\n",
       "  __pyx_r = __pyx_t_1;\n",
       "  __pyx_t_1 = 0;\n",
       "  goto __pyx_L0;\n",
       "\n",
       "  /* function exit code */\n",
       "  __pyx_L1_error:;\n",
       "  <span class='pyx_macro_api'>__Pyx_XDECREF</span>(__pyx_t_1);\n",
       "  { PyObject *__pyx_type, *__pyx_value, *__pyx_tb;\n",
       "    __Pyx_PyThreadState_declare\n",
       "    __Pyx_PyThreadState_assign\n",
       "    <span class='pyx_c_api'>__Pyx_ErrFetch</span>(&amp;__pyx_type, &amp;__pyx_value, &amp;__pyx_tb);\n",
       "    <span class='pyx_c_api'>__Pyx_SafeReleaseBuffer</span>(&amp;__pyx_pybuffernd_arr.rcbuffer-&gt;pybuffer);\n",
       "    <span class='pyx_c_api'>__Pyx_SafeReleaseBuffer</span>(&amp;__pyx_pybuffernd_params.rcbuffer-&gt;pybuffer);\n",
       "  <span class='pyx_c_api'>__Pyx_ErrRestore</span>(__pyx_type, __pyx_value, __pyx_tb);}\n",
       "  <span class='pyx_c_api'>__Pyx_AddTraceback</span>(\"_cython_magic_b206d0719b80e8aa0853b12fcf5f8149.sin_func\", __pyx_clineno, __pyx_lineno, __pyx_filename);\n",
       "  __pyx_r = NULL;\n",
       "  goto __pyx_L2;\n",
       "  __pyx_L0:;\n",
       "  <span class='pyx_c_api'>__Pyx_SafeReleaseBuffer</span>(&amp;__pyx_pybuffernd_arr.rcbuffer-&gt;pybuffer);\n",
       "  <span class='pyx_c_api'>__Pyx_SafeReleaseBuffer</span>(&amp;__pyx_pybuffernd_params.rcbuffer-&gt;pybuffer);\n",
       "  __pyx_L2:;\n",
       "  <span class='refnanny'>__Pyx_XGIVEREF</span>(__pyx_r);\n",
       "  <span class='refnanny'>__Pyx_RefNannyFinishContext</span>();\n",
       "  return __pyx_r;\n",
       "}\n",
       "</pre><pre class=\"cython line score-5\" onclick=\"(function(s){s.display=s.display==='block'?'none':'block'})(this.nextElementSibling.style)\">+<span class=\"\">16</span>:     <span class=\"k\">cdef</span> <span class=\"kt\">int</span> <span class=\"nf\">shape</span> <span class=\"o\">=</span> <span class=\"nb\">len</span><span class=\"p\">(</span><span class=\"n\">arr</span><span class=\"p\">)</span></pre>\n",
       "<pre class='cython code score-5 '>  __pyx_t_1 = <span class='py_c_api'>PyObject_Length</span>(((PyObject *)__pyx_v_arr));<span class='error_goto'> if (unlikely(__pyx_t_1 == ((Py_ssize_t)-1))) __PYX_ERR(0, 16, __pyx_L1_error)</span>\n",
       "  __pyx_v_shape = __pyx_t_1;\n",
       "</pre><pre class=\"cython line score-27\" onclick=\"(function(s){s.display=s.display==='block'?'none':'block'})(this.nextElementSibling.style)\">+<span class=\"\">17</span>:     <span class=\"k\">cdef</span> <span class=\"kt\">np</span>.<span class=\"kt\">ndarray</span>[<span class=\"nf\">DTYPE_t</span><span class=\"p\">,</span> <span class=\"nf\">ndim</span><span class=\"o\">=</span><span class=\"mf\">1</span><span class=\"p\">]</span> <span class=\"n\">y</span> <span class=\"o\">=</span> <span class=\"n\">np</span><span class=\"o\">.</span><span class=\"n\">array</span><span class=\"p\">(</span><span class=\"n\">shape</span><span class=\"p\">)</span></pre>\n",
       "<pre class='cython code score-27 '>  <span class='pyx_c_api'>__Pyx_GetModuleGlobalName</span>(__pyx_t_3, __pyx_n_s_np);<span class='error_goto'> if (unlikely(!__pyx_t_3)) __PYX_ERR(0, 17, __pyx_L1_error)</span>\n",
       "  <span class='refnanny'>__Pyx_GOTREF</span>(__pyx_t_3);\n",
       "  __pyx_t_4 = <span class='pyx_c_api'>__Pyx_PyObject_GetAttrStr</span>(__pyx_t_3, __pyx_n_s_array);<span class='error_goto'> if (unlikely(!__pyx_t_4)) __PYX_ERR(0, 17, __pyx_L1_error)</span>\n",
       "  <span class='refnanny'>__Pyx_GOTREF</span>(__pyx_t_4);\n",
       "  <span class='pyx_macro_api'>__Pyx_DECREF</span>(__pyx_t_3); __pyx_t_3 = 0;\n",
       "  __pyx_t_3 = <span class='pyx_c_api'>__Pyx_PyInt_From_int</span>(__pyx_v_shape);<span class='error_goto'> if (unlikely(!__pyx_t_3)) __PYX_ERR(0, 17, __pyx_L1_error)</span>\n",
       "  <span class='refnanny'>__Pyx_GOTREF</span>(__pyx_t_3);\n",
       "  __pyx_t_5 = NULL;\n",
       "  if (CYTHON_UNPACK_METHODS &amp;&amp; unlikely(<span class='py_c_api'>PyMethod_Check</span>(__pyx_t_4))) {\n",
       "    __pyx_t_5 = <span class='py_macro_api'>PyMethod_GET_SELF</span>(__pyx_t_4);\n",
       "    if (likely(__pyx_t_5)) {\n",
       "      PyObject* function = <span class='py_macro_api'>PyMethod_GET_FUNCTION</span>(__pyx_t_4);\n",
       "      <span class='pyx_macro_api'>__Pyx_INCREF</span>(__pyx_t_5);\n",
       "      <span class='pyx_macro_api'>__Pyx_INCREF</span>(function);\n",
       "      <span class='pyx_macro_api'>__Pyx_DECREF_SET</span>(__pyx_t_4, function);\n",
       "    }\n",
       "  }\n",
       "  __pyx_t_2 = (__pyx_t_5) ? __Pyx_PyObject_Call2Args(__pyx_t_4, __pyx_t_5, __pyx_t_3) : <span class='pyx_c_api'>__Pyx_PyObject_CallOneArg</span>(__pyx_t_4, __pyx_t_3);\n",
       "  <span class='pyx_macro_api'>__Pyx_XDECREF</span>(__pyx_t_5); __pyx_t_5 = 0;\n",
       "  <span class='pyx_macro_api'>__Pyx_DECREF</span>(__pyx_t_3); __pyx_t_3 = 0;\n",
       "  if (unlikely(!__pyx_t_2)) <span class='error_goto'>__PYX_ERR(0, 17, __pyx_L1_error)</span>\n",
       "  <span class='refnanny'>__Pyx_GOTREF</span>(__pyx_t_2);\n",
       "  <span class='pyx_macro_api'>__Pyx_DECREF</span>(__pyx_t_4); __pyx_t_4 = 0;\n",
       "  if (!(likely(((__pyx_t_2) == Py_None) || likely(<span class='pyx_c_api'>__Pyx_TypeTest</span>(__pyx_t_2, __pyx_ptype_5numpy_ndarray))))) <span class='error_goto'>__PYX_ERR(0, 17, __pyx_L1_error)</span>\n",
       "  __pyx_t_6 = ((PyArrayObject *)__pyx_t_2);\n",
       "  {\n",
       "    __Pyx_BufFmt_StackElem __pyx_stack[1];\n",
       "    if (unlikely(<span class='pyx_c_api'>__Pyx_GetBufferAndValidate</span>(&amp;__pyx_pybuffernd_y.rcbuffer-&gt;pybuffer, (PyObject*)__pyx_t_6, &amp;__Pyx_TypeInfo_nn___pyx_t_46_cython_magic_b206d0719b80e8aa0853b12fcf5f8149_DTYPE_t, PyBUF_FORMAT| PyBUF_STRIDES| PyBUF_WRITABLE, 1, 0, __pyx_stack) == -1)) {\n",
       "      __pyx_v_y = ((PyArrayObject *)Py_None); <span class='pyx_macro_api'>__Pyx_INCREF</span>(Py_None); __pyx_pybuffernd_y.rcbuffer-&gt;pybuffer.buf = NULL;\n",
       "      <span class='error_goto'>__PYX_ERR(0, 17, __pyx_L1_error)</span>\n",
       "    } else {__pyx_pybuffernd_y.diminfo[0].strides = __pyx_pybuffernd_y.rcbuffer-&gt;pybuffer.strides[0]; __pyx_pybuffernd_y.diminfo[0].shape = __pyx_pybuffernd_y.rcbuffer-&gt;pybuffer.shape[0];\n",
       "    }\n",
       "  }\n",
       "  __pyx_t_6 = 0;\n",
       "  __pyx_v_y = ((PyArrayObject *)__pyx_t_2);\n",
       "  __pyx_t_2 = 0;\n",
       "</pre><pre class=\"cython line score-0\" onclick=\"(function(s){s.display=s.display==='block'?'none':'block'})(this.nextElementSibling.style)\">+<span class=\"\">18</span>:     <span class=\"k\">for</span> <span class=\"n\">k</span> <span class=\"ow\">in</span> <span class=\"nb\">range</span><span class=\"p\">(</span><span class=\"n\">shape</span><span class=\"p\">):</span></pre>\n",
       "<pre class='cython code score-0 '>  __pyx_t_7 = __pyx_v_shape;\n",
       "  __pyx_t_8 = __pyx_t_7;\n",
       "  for (__pyx_t_9 = 0; __pyx_t_9 &lt; __pyx_t_8; __pyx_t_9+=1) {\n",
       "    __pyx_v_k = __pyx_t_9;\n",
       "</pre><pre class=\"cython line score-0\" onclick=\"(function(s){s.display=s.display==='block'?'none':'block'})(this.nextElementSibling.style)\">+<span class=\"\">19</span>:         <span class=\"n\">y</span><span class=\"p\">[</span><span class=\"n\">k</span><span class=\"p\">]</span> <span class=\"o\">=</span> <span class=\"n\">params</span><span class=\"p\">[</span><span class=\"mf\">0</span><span class=\"p\">]</span><span class=\"o\">*</span><span class=\"n\">sin</span><span class=\"p\">(</span><span class=\"n\">params</span><span class=\"p\">[</span><span class=\"mf\">1</span><span class=\"p\">]</span><span class=\"o\">*</span><span class=\"n\">arr</span><span class=\"p\">[</span><span class=\"n\">k</span><span class=\"p\">]</span><span class=\"o\">+</span><span class=\"n\">params</span><span class=\"p\">[</span><span class=\"mf\">2</span><span class=\"p\">])</span> <span class=\"o\">+</span> <span class=\"n\">params</span><span class=\"p\">[</span><span class=\"mf\">3</span><span class=\"p\">]</span></pre>\n",
       "<pre class='cython code score-0 '>    __pyx_t_10 = 0;\n",
       "    __pyx_t_11 = 1;\n",
       "    __pyx_t_12 = __pyx_v_k;\n",
       "    __pyx_t_13 = 2;\n",
       "    __pyx_t_14 = 3;\n",
       "    __pyx_t_15 = __pyx_v_k;\n",
       "    *__Pyx_BufPtrStrided1d(__pyx_t_46_cython_magic_b206d0719b80e8aa0853b12fcf5f8149_DTYPE_t *, __pyx_pybuffernd_y.rcbuffer-&gt;pybuffer.buf, __pyx_t_15, __pyx_pybuffernd_y.diminfo[0].strides) = (((*__Pyx_BufPtrStrided1d(__pyx_t_46_cython_magic_b206d0719b80e8aa0853b12fcf5f8149_DTYPE_t *, __pyx_pybuffernd_params.rcbuffer-&gt;pybuffer.buf, __pyx_t_10, __pyx_pybuffernd_params.diminfo[0].strides)) * sin((((*__Pyx_BufPtrStrided1d(__pyx_t_46_cython_magic_b206d0719b80e8aa0853b12fcf5f8149_DTYPE_t *, __pyx_pybuffernd_params.rcbuffer-&gt;pybuffer.buf, __pyx_t_11, __pyx_pybuffernd_params.diminfo[0].strides)) * (*__Pyx_BufPtrStrided1d(__pyx_t_46_cython_magic_b206d0719b80e8aa0853b12fcf5f8149_DTYPE_t *, __pyx_pybuffernd_arr.rcbuffer-&gt;pybuffer.buf, __pyx_t_12, __pyx_pybuffernd_arr.diminfo[0].strides))) + (*__Pyx_BufPtrStrided1d(__pyx_t_46_cython_magic_b206d0719b80e8aa0853b12fcf5f8149_DTYPE_t *, __pyx_pybuffernd_params.rcbuffer-&gt;pybuffer.buf, __pyx_t_13, __pyx_pybuffernd_params.diminfo[0].strides))))) + (*__Pyx_BufPtrStrided1d(__pyx_t_46_cython_magic_b206d0719b80e8aa0853b12fcf5f8149_DTYPE_t *, __pyx_pybuffernd_params.rcbuffer-&gt;pybuffer.buf, __pyx_t_14, __pyx_pybuffernd_params.diminfo[0].strides)));\n",
       "  }\n",
       "</pre><pre class=\"cython line score-2\" onclick=\"(function(s){s.display=s.display==='block'?'none':'block'})(this.nextElementSibling.style)\">+<span class=\"\">20</span>:     <span class=\"k\">return</span> <span class=\"n\">y</span></pre>\n",
       "<pre class='cython code score-2 '>  <span class='pyx_macro_api'>__Pyx_XDECREF</span>(((PyObject *)__pyx_r));\n",
       "  <span class='pyx_macro_api'>__Pyx_INCREF</span>(((PyObject *)__pyx_v_y));\n",
       "  __pyx_r = ((PyArrayObject *)__pyx_v_y);\n",
       "  goto __pyx_L0;\n",
       "</pre><pre class=\"cython line score-0\">&#xA0;<span class=\"\">21</span>: </pre>\n",
       "<pre class=\"cython line score-0\">&#xA0;<span class=\"\">22</span>: <span class=\"c\"># @cython.boundscheck(False)</span></pre>\n",
       "<pre class=\"cython line score-0\">&#xA0;<span class=\"\">23</span>: <span class=\"c\"># @cython.wraparound(False)</span></pre>\n",
       "<pre class=\"cython line score-0\">&#xA0;<span class=\"\">24</span>: <span class=\"c\"># cpdef inline double chisq(func, np.ndarray[DTYPE_t, ndim=1] x, np.ndarray[DTYPE_t, ndim=1] data, np.ndarray[DTYPE_t, ndim=1] params):</span></pre>\n",
       "<pre class=\"cython line score-0\">&#xA0;<span class=\"\">25</span>: <span class=\"c\">#     return sum((func(x, params) - data)**2)</span></pre>\n",
       "<pre class=\"cython line score-0\">&#xA0;<span class=\"\">26</span>: </pre>\n",
       "<pre class=\"cython line score-0\" onclick=\"(function(s){s.display=s.display==='block'?'none':'block'})(this.nextElementSibling.style)\">+<span class=\"\">27</span>: <span class=\"k\">ctypedef</span> <span class=\"n\">np</span><span class=\"o\">.</span><span class=\"n\">ndarray</span><span class=\"p\">[</span><span class=\"n\">DTYPE_t</span><span class=\"p\">,</span> <span class=\"n\">ndim</span><span class=\"o\">=</span><span class=\"mf\">1</span><span class=\"p\">]</span> <span class=\"p\">(</span><span class=\"o\">*</span><span class=\"n\">f_type</span><span class=\"p\">)(</span><span class=\"n\">np</span><span class=\"o\">.</span><span class=\"n\">ndarray</span><span class=\"p\">[</span><span class=\"n\">DTYPE_t</span><span class=\"p\">,</span> <span class=\"n\">ndim</span><span class=\"o\">=</span><span class=\"mf\">1</span><span class=\"p\">],</span> <span class=\"n\">np</span><span class=\"o\">.</span><span class=\"n\">ndarray</span><span class=\"p\">[</span><span class=\"n\">DTYPE_t</span><span class=\"p\">,</span> <span class=\"n\">ndim</span><span class=\"o\">=</span><span class=\"mf\">1</span><span class=\"p\">])</span></pre>\n",
       "<pre class='cython code score-0 '>typedef PyArrayObject *(*__pyx_t_46_cython_magic_b206d0719b80e8aa0853b12fcf5f8149_f_type)(PyArrayObject *, PyArrayObject *);\n",
       "</pre><pre class=\"cython line score-0\">&#xA0;<span class=\"\">28</span>: </pre>\n",
       "<pre class=\"cython line score-0\">&#xA0;<span class=\"\">29</span>: <span class=\"nd\">@cython</span><span class=\"o\">.</span><span class=\"n\">boundscheck</span><span class=\"p\">(</span><span class=\"bp\">False</span><span class=\"p\">)</span></pre>\n",
       "<pre class=\"cython line score-0\">&#xA0;<span class=\"\">30</span>: <span class=\"nd\">@cython</span><span class=\"o\">.</span><span class=\"n\">wraparound</span><span class=\"p\">(</span><span class=\"bp\">False</span><span class=\"p\">)</span></pre>\n",
       "<pre class=\"cython line score-30\" onclick=\"(function(s){s.display=s.display==='block'?'none':'block'})(this.nextElementSibling.style)\">+<span class=\"\">31</span>: <span class=\"k\">cdef</span> <span class=\"kt\">double</span> <span class=\"nf\">chisq2</span><span class=\"p\">(</span><span class=\"n\">f_type</span> <span class=\"n\">func</span><span class=\"p\">,</span> <span class=\"n\">np</span><span class=\"o\">.</span><span class=\"n\">ndarray</span><span class=\"p\">[</span><span class=\"n\">DTYPE_t</span><span class=\"p\">,</span> <span class=\"n\">ndim</span><span class=\"o\">=</span><span class=\"mf\">1</span><span class=\"p\">]</span> <span class=\"n\">x</span><span class=\"p\">,</span> <span class=\"n\">np</span><span class=\"o\">.</span><span class=\"n\">ndarray</span><span class=\"p\">[</span><span class=\"n\">DTYPE_t</span><span class=\"p\">,</span> <span class=\"n\">ndim</span><span class=\"o\">=</span><span class=\"mf\">1</span><span class=\"p\">]</span> <span class=\"n\">data</span><span class=\"p\">,</span> <span class=\"n\">np</span><span class=\"o\">.</span><span class=\"n\">ndarray</span><span class=\"p\">[</span><span class=\"n\">DTYPE_t</span><span class=\"p\">,</span> <span class=\"n\">ndim</span><span class=\"o\">=</span><span class=\"mf\">1</span><span class=\"p\">]</span> <span class=\"n\">params</span><span class=\"p\">):</span></pre>\n",
       "<pre class='cython code score-30 '>static double __pyx_f_46_cython_magic_b206d0719b80e8aa0853b12fcf5f8149_chisq2(__pyx_t_46_cython_magic_b206d0719b80e8aa0853b12fcf5f8149_f_type __pyx_v_func, PyArrayObject *__pyx_v_x, PyArrayObject *__pyx_v_data, PyArrayObject *__pyx_v_params) {\n",
       "  double __pyx_v_s;\n",
       "  PyArrayObject *__pyx_v_y = 0;\n",
       "  Py_ssize_t __pyx_v_i;\n",
       "  __Pyx_LocalBuf_ND __pyx_pybuffernd_data;\n",
       "  __Pyx_Buffer __pyx_pybuffer_data;\n",
       "  __Pyx_LocalBuf_ND __pyx_pybuffernd_params;\n",
       "  __Pyx_Buffer __pyx_pybuffer_params;\n",
       "  __Pyx_LocalBuf_ND __pyx_pybuffernd_x;\n",
       "  __Pyx_Buffer __pyx_pybuffer_x;\n",
       "  __Pyx_LocalBuf_ND __pyx_pybuffernd_y;\n",
       "  __Pyx_Buffer __pyx_pybuffer_y;\n",
       "  double __pyx_r;\n",
       "  <span class='refnanny'>__Pyx_RefNannyDeclarations</span>\n",
       "  <span class='refnanny'>__Pyx_RefNannySetupContext</span>(\"chisq2\", 0);\n",
       "  __pyx_pybuffer_y.pybuffer.buf = NULL;\n",
       "  __pyx_pybuffer_y.refcount = 0;\n",
       "  __pyx_pybuffernd_y.data = NULL;\n",
       "  __pyx_pybuffernd_y.rcbuffer = &amp;__pyx_pybuffer_y;\n",
       "  __pyx_pybuffer_x.pybuffer.buf = NULL;\n",
       "  __pyx_pybuffer_x.refcount = 0;\n",
       "  __pyx_pybuffernd_x.data = NULL;\n",
       "  __pyx_pybuffernd_x.rcbuffer = &amp;__pyx_pybuffer_x;\n",
       "  __pyx_pybuffer_data.pybuffer.buf = NULL;\n",
       "  __pyx_pybuffer_data.refcount = 0;\n",
       "  __pyx_pybuffernd_data.data = NULL;\n",
       "  __pyx_pybuffernd_data.rcbuffer = &amp;__pyx_pybuffer_data;\n",
       "  __pyx_pybuffer_params.pybuffer.buf = NULL;\n",
       "  __pyx_pybuffer_params.refcount = 0;\n",
       "  __pyx_pybuffernd_params.data = NULL;\n",
       "  __pyx_pybuffernd_params.rcbuffer = &amp;__pyx_pybuffer_params;\n",
       "  {\n",
       "    __Pyx_BufFmt_StackElem __pyx_stack[1];\n",
       "    if (unlikely(<span class='pyx_c_api'>__Pyx_GetBufferAndValidate</span>(&amp;__pyx_pybuffernd_x.rcbuffer-&gt;pybuffer, (PyObject*)__pyx_v_x, &amp;__Pyx_TypeInfo_nn___pyx_t_46_cython_magic_b206d0719b80e8aa0853b12fcf5f8149_DTYPE_t, PyBUF_FORMAT| PyBUF_STRIDES, 1, 0, __pyx_stack) == -1)) <span class='error_goto'>__PYX_ERR(0, 31, __pyx_L1_error)</span>\n",
       "  }\n",
       "  __pyx_pybuffernd_x.diminfo[0].strides = __pyx_pybuffernd_x.rcbuffer-&gt;pybuffer.strides[0]; __pyx_pybuffernd_x.diminfo[0].shape = __pyx_pybuffernd_x.rcbuffer-&gt;pybuffer.shape[0];\n",
       "  {\n",
       "    __Pyx_BufFmt_StackElem __pyx_stack[1];\n",
       "    if (unlikely(<span class='pyx_c_api'>__Pyx_GetBufferAndValidate</span>(&amp;__pyx_pybuffernd_data.rcbuffer-&gt;pybuffer, (PyObject*)__pyx_v_data, &amp;__Pyx_TypeInfo_nn___pyx_t_46_cython_magic_b206d0719b80e8aa0853b12fcf5f8149_DTYPE_t, PyBUF_FORMAT| PyBUF_STRIDES, 1, 0, __pyx_stack) == -1)) <span class='error_goto'>__PYX_ERR(0, 31, __pyx_L1_error)</span>\n",
       "  }\n",
       "  __pyx_pybuffernd_data.diminfo[0].strides = __pyx_pybuffernd_data.rcbuffer-&gt;pybuffer.strides[0]; __pyx_pybuffernd_data.diminfo[0].shape = __pyx_pybuffernd_data.rcbuffer-&gt;pybuffer.shape[0];\n",
       "  {\n",
       "    __Pyx_BufFmt_StackElem __pyx_stack[1];\n",
       "    if (unlikely(<span class='pyx_c_api'>__Pyx_GetBufferAndValidate</span>(&amp;__pyx_pybuffernd_params.rcbuffer-&gt;pybuffer, (PyObject*)__pyx_v_params, &amp;__Pyx_TypeInfo_nn___pyx_t_46_cython_magic_b206d0719b80e8aa0853b12fcf5f8149_DTYPE_t, PyBUF_FORMAT| PyBUF_STRIDES, 1, 0, __pyx_stack) == -1)) <span class='error_goto'>__PYX_ERR(0, 31, __pyx_L1_error)</span>\n",
       "  }\n",
       "  __pyx_pybuffernd_params.diminfo[0].strides = __pyx_pybuffernd_params.rcbuffer-&gt;pybuffer.strides[0]; __pyx_pybuffernd_params.diminfo[0].shape = __pyx_pybuffernd_params.rcbuffer-&gt;pybuffer.shape[0];\n",
       "/* … */\n",
       "  /* function exit code */\n",
       "  __pyx_L1_error:;\n",
       "  <span class='pyx_macro_api'>__Pyx_XDECREF</span>(__pyx_t_1);\n",
       "  { PyObject *__pyx_type, *__pyx_value, *__pyx_tb;\n",
       "    __Pyx_PyThreadState_declare\n",
       "    __Pyx_PyThreadState_assign\n",
       "    <span class='pyx_c_api'>__Pyx_ErrFetch</span>(&amp;__pyx_type, &amp;__pyx_value, &amp;__pyx_tb);\n",
       "    <span class='pyx_c_api'>__Pyx_SafeReleaseBuffer</span>(&amp;__pyx_pybuffernd_data.rcbuffer-&gt;pybuffer);\n",
       "    <span class='pyx_c_api'>__Pyx_SafeReleaseBuffer</span>(&amp;__pyx_pybuffernd_params.rcbuffer-&gt;pybuffer);\n",
       "    <span class='pyx_c_api'>__Pyx_SafeReleaseBuffer</span>(&amp;__pyx_pybuffernd_x.rcbuffer-&gt;pybuffer);\n",
       "    <span class='pyx_c_api'>__Pyx_SafeReleaseBuffer</span>(&amp;__pyx_pybuffernd_y.rcbuffer-&gt;pybuffer);\n",
       "  <span class='pyx_c_api'>__Pyx_ErrRestore</span>(__pyx_type, __pyx_value, __pyx_tb);}\n",
       "  <span class='pyx_c_api'>__Pyx_WriteUnraisable</span>(\"_cython_magic_b206d0719b80e8aa0853b12fcf5f8149.chisq2\", __pyx_clineno, __pyx_lineno, __pyx_filename, 1, 0);\n",
       "  __pyx_r = 0;\n",
       "  goto __pyx_L2;\n",
       "  __pyx_L0:;\n",
       "  <span class='pyx_c_api'>__Pyx_SafeReleaseBuffer</span>(&amp;__pyx_pybuffernd_data.rcbuffer-&gt;pybuffer);\n",
       "  <span class='pyx_c_api'>__Pyx_SafeReleaseBuffer</span>(&amp;__pyx_pybuffernd_params.rcbuffer-&gt;pybuffer);\n",
       "  <span class='pyx_c_api'>__Pyx_SafeReleaseBuffer</span>(&amp;__pyx_pybuffernd_x.rcbuffer-&gt;pybuffer);\n",
       "  <span class='pyx_c_api'>__Pyx_SafeReleaseBuffer</span>(&amp;__pyx_pybuffernd_y.rcbuffer-&gt;pybuffer);\n",
       "  __pyx_L2:;\n",
       "  <span class='pyx_macro_api'>__Pyx_XDECREF</span>((PyObject *)__pyx_v_y);\n",
       "  <span class='refnanny'>__Pyx_RefNannyFinishContext</span>();\n",
       "  return __pyx_r;\n",
       "}\n",
       "</pre><pre class=\"cython line score-0\" onclick=\"(function(s){s.display=s.display==='block'?'none':'block'})(this.nextElementSibling.style)\">+<span class=\"\">32</span>:     <span class=\"k\">cdef</span> <span class=\"kt\">double</span> <span class=\"nf\">s</span> <span class=\"o\">=</span> <span class=\"mf\">0</span></pre>\n",
       "<pre class='cython code score-0 '>  __pyx_v_s = 0.0;\n",
       "</pre><pre class=\"cython line score-3\" onclick=\"(function(s){s.display=s.display==='block'?'none':'block'})(this.nextElementSibling.style)\">+<span class=\"\">33</span>:     <span class=\"k\">cdef</span> <span class=\"kt\">np</span>.<span class=\"kt\">ndarray</span>[<span class=\"nf\">DTYPE_t</span><span class=\"p\">,</span> <span class=\"nf\">ndim</span><span class=\"o\">=</span><span class=\"mf\">1</span><span class=\"p\">]</span> <span class=\"n\">y</span> <span class=\"o\">=</span> <span class=\"n\">func</span><span class=\"p\">(</span><span class=\"n\">x</span><span class=\"p\">,</span> <span class=\"n\">params</span><span class=\"p\">)</span></pre>\n",
       "<pre class='cython code score-3 '>  __pyx_t_1 = ((PyObject *)__pyx_v_func(((PyArrayObject *)__pyx_v_x), ((PyArrayObject *)__pyx_v_params)));<span class='error_goto'> if (unlikely(!__pyx_t_1)) __PYX_ERR(0, 33, __pyx_L1_error)</span>\n",
       "  <span class='refnanny'>__Pyx_GOTREF</span>(__pyx_t_1);\n",
       "  {\n",
       "    __Pyx_BufFmt_StackElem __pyx_stack[1];\n",
       "    if (unlikely(<span class='pyx_c_api'>__Pyx_GetBufferAndValidate</span>(&amp;__pyx_pybuffernd_y.rcbuffer-&gt;pybuffer, (PyObject*)((PyArrayObject *)__pyx_t_1), &amp;__Pyx_TypeInfo_nn___pyx_t_46_cython_magic_b206d0719b80e8aa0853b12fcf5f8149_DTYPE_t, PyBUF_FORMAT| PyBUF_STRIDES, 1, 0, __pyx_stack) == -1)) {\n",
       "      __pyx_v_y = ((PyArrayObject *)Py_None); <span class='pyx_macro_api'>__Pyx_INCREF</span>(Py_None); __pyx_pybuffernd_y.rcbuffer-&gt;pybuffer.buf = NULL;\n",
       "      <span class='error_goto'>__PYX_ERR(0, 33, __pyx_L1_error)</span>\n",
       "    } else {__pyx_pybuffernd_y.diminfo[0].strides = __pyx_pybuffernd_y.rcbuffer-&gt;pybuffer.strides[0]; __pyx_pybuffernd_y.diminfo[0].shape = __pyx_pybuffernd_y.rcbuffer-&gt;pybuffer.shape[0];\n",
       "    }\n",
       "  }\n",
       "  __pyx_v_y = ((PyArrayObject *)__pyx_t_1);\n",
       "  __pyx_t_1 = 0;\n",
       "</pre><pre class=\"cython line score-5\" onclick=\"(function(s){s.display=s.display==='block'?'none':'block'})(this.nextElementSibling.style)\">+<span class=\"\">34</span>:     <span class=\"k\">for</span> <span class=\"n\">i</span> <span class=\"ow\">in</span> <span class=\"nb\">range</span><span class=\"p\">(</span><span class=\"nb\">len</span><span class=\"p\">(</span><span class=\"n\">x</span><span class=\"p\">)):</span></pre>\n",
       "<pre class='cython code score-5 '>  __pyx_t_2 = <span class='py_c_api'>PyObject_Length</span>(((PyObject *)__pyx_v_x));<span class='error_goto'> if (unlikely(__pyx_t_2 == ((Py_ssize_t)-1))) __PYX_ERR(0, 34, __pyx_L1_error)</span>\n",
       "  __pyx_t_3 = __pyx_t_2;\n",
       "  for (__pyx_t_4 = 0; __pyx_t_4 &lt; __pyx_t_3; __pyx_t_4+=1) {\n",
       "    __pyx_v_i = __pyx_t_4;\n",
       "</pre><pre class=\"cython line score-0\" onclick=\"(function(s){s.display=s.display==='block'?'none':'block'})(this.nextElementSibling.style)\">+<span class=\"\">35</span>:         <span class=\"n\">s</span> <span class=\"o\">+=</span> <span class=\"p\">(</span><span class=\"n\">y</span><span class=\"p\">[</span><span class=\"n\">i</span><span class=\"p\">]</span> <span class=\"o\">-</span> <span class=\"n\">data</span><span class=\"p\">[</span><span class=\"n\">i</span><span class=\"p\">])</span><span class=\"o\">**</span><span class=\"mf\">2</span></pre>\n",
       "<pre class='cython code score-0 '>    __pyx_t_5 = __pyx_v_i;\n",
       "    __pyx_t_6 = __pyx_v_i;\n",
       "    __pyx_v_s = (__pyx_v_s + pow(((*__Pyx_BufPtrStrided1d(__pyx_t_46_cython_magic_b206d0719b80e8aa0853b12fcf5f8149_DTYPE_t *, __pyx_pybuffernd_y.rcbuffer-&gt;pybuffer.buf, __pyx_t_5, __pyx_pybuffernd_y.diminfo[0].strides)) - (*__Pyx_BufPtrStrided1d(__pyx_t_46_cython_magic_b206d0719b80e8aa0853b12fcf5f8149_DTYPE_t *, __pyx_pybuffernd_data.rcbuffer-&gt;pybuffer.buf, __pyx_t_6, __pyx_pybuffernd_data.diminfo[0].strides))), 2.0));\n",
       "  }\n",
       "</pre><pre class=\"cython line score-0\" onclick=\"(function(s){s.display=s.display==='block'?'none':'block'})(this.nextElementSibling.style)\">+<span class=\"\">36</span>:     <span class=\"k\">return</span> <span class=\"n\">s</span></pre>\n",
       "<pre class='cython code score-0 '>  __pyx_r = __pyx_v_s;\n",
       "  goto __pyx_L0;\n",
       "</pre><pre class=\"cython line score-0\">&#xA0;<span class=\"\">37</span>: </pre>\n",
       "<pre class=\"cython line score-0\">&#xA0;<span class=\"\">38</span>: <span class=\"c\"># @cython.boundscheck(False)</span></pre>\n",
       "<pre class=\"cython line score-0\">&#xA0;<span class=\"\">39</span>: <span class=\"c\"># @cython.wraparound(False)</span></pre>\n",
       "<pre class=\"cython line score-0\">&#xA0;<span class=\"\">40</span>: <span class=\"c\"># cpdef double sin_func_min(np.ndarray[DTYPE_t, ndim=1] x, np.ndarray[DTYPE_t, ndim=1] data, np.ndarray[DTYPE_t, ndim=1] params):</span></pre>\n",
       "<pre class=\"cython line score-0\">&#xA0;<span class=\"\">41</span>: <span class=\"c\">#     return chisq2(sin_func, x, data, params)</span></pre>\n",
       "</div></body></html>"
      ],
      "text/plain": [
       "<IPython.core.display.HTML object>"
      ]
     },
     "execution_count": 16,
     "metadata": {},
     "output_type": "execute_result"
    }
   ],
   "source": [
    "%%cython -a\n",
    "import time\n",
    "import numpy as np\n",
    "cimport numpy as np\n",
    "cimport cython\n",
    "np.import_array()\n",
    "\n",
    "\n",
    "ctypedef np.float_t DTYPE_t\n",
    "\n",
    "cdef extern from \"math.h\":\n",
    "    cpdef double sin(double x)\n",
    "\n",
    "@cython.boundscheck(False)\n",
    "@cython.wraparound(False)\n",
    "cpdef np.ndarray[DTYPE_t, ndim=1] sin_func(np.ndarray[DTYPE_t, ndim=1] arr, np.ndarray[DTYPE_t, ndim=1] params):\n",
    "    cdef int shape = len(arr)\n",
    "    cdef np.ndarray[DTYPE_t, ndim=1] y = np.array(shape)\n",
    "    for k in range(shape):\n",
    "        y[k] = params[0]*sin(params[1]*arr[k]+params[2]) + params[3]\n",
    "    return y\n",
    "\n",
    "# @cython.boundscheck(False)\n",
    "# @cython.wraparound(False)\n",
    "# cpdef inline double chisq(func, np.ndarray[DTYPE_t, ndim=1] x, np.ndarray[DTYPE_t, ndim=1] data, np.ndarray[DTYPE_t, ndim=1] params):\n",
    "#     return sum((func(x, params) - data)**2)\n",
    "\n",
    "ctypedef np.ndarray[DTYPE_t, ndim=1] (*f_type)(np.ndarray[DTYPE_t, ndim=1], np.ndarray[DTYPE_t, ndim=1])\n",
    "\n",
    "@cython.boundscheck(False)\n",
    "@cython.wraparound(False)\n",
    "cdef double chisq2(f_type func, np.ndarray[DTYPE_t, ndim=1] x, np.ndarray[DTYPE_t, ndim=1] data, np.ndarray[DTYPE_t, ndim=1] params):\n",
    "    cdef double s = 0\n",
    "    cdef np.ndarray[DTYPE_t, ndim=1] y = func(x, params)\n",
    "    for i in range(len(x)):\n",
    "        s += (y[i] - data[i])**2\n",
    "    return s\n",
    "\n",
    "# @cython.boundscheck(False)\n",
    "# @cython.wraparound(False)\n",
    "# cpdef double sin_func_min(np.ndarray[DTYPE_t, ndim=1] x, np.ndarray[DTYPE_t, ndim=1] data, np.ndarray[DTYPE_t, ndim=1] params):\n",
    "#     return chisq2(sin_func, x, data, params)"
   ]
  },
  {
   "cell_type": "code",
   "execution_count": 10,
   "metadata": {},
   "outputs": [
    {
     "name": "stdout",
     "output_type": "stream",
     "text": [
      "405 ms ± 24 ms per loop (mean ± std. dev. of 7 runs, 1 loop each)\n"
     ]
    }
   ],
   "source": [
    "guess = np.array([.5, .5, 0, 0])\n",
    "\n",
    "%timeit sfit(sin_func_py, chisq_py, x, y, guess)"
   ]
  },
  {
   "cell_type": "code",
   "execution_count": 25,
   "metadata": {},
   "outputs": [],
   "source": [
    "def sin_func_min_py(x, y, param):\n",
    "    return chisq_py(sin_func_py, x, y, param)\n",
    "\n",
    "def sin_func_min(x, y, param):\n",
    "    return chisq_py(sin_func, x, y, param)"
   ]
  },
  {
   "cell_type": "code",
   "execution_count": 20,
   "metadata": {},
   "outputs": [
    {
     "name": "stdout",
     "output_type": "stream",
     "text": [
      "4.7 ms ± 706 µs per loop (mean ± std. dev. of 7 runs, 100 loops each)\n"
     ]
    }
   ],
   "source": [
    "%timeit fit_min(sin_func_min_py, x, y, guess)"
   ]
  },
  {
   "cell_type": "code",
   "execution_count": 17,
   "metadata": {},
   "outputs": [
    {
     "ename": "ValueError",
     "evalue": "Buffer has wrong number of dimensions (expected 1, got 0)",
     "output_type": "error",
     "traceback": [
      "\u001b[0;31m---------------------------------------------------------------------------\u001b[0m",
      "\u001b[0;31mValueError\u001b[0m                                Traceback (most recent call last)",
      "\u001b[1;32m/Users/4cd87a/Documents/Projects/PhD/codes/scifit/tests/speed_test.ipynb Cell 10\u001b[0m in \u001b[0;36m<cell line: 1>\u001b[0;34m()\u001b[0m\n\u001b[0;32m----> <a href='vscode-notebook-cell:/Users/4cd87a/Documents/Projects/PhD/codes/scifit/tests/speed_test.ipynb#X65sZmlsZQ%3D%3D?line=0'>1</a>\u001b[0m sin_func(x, guess)\n",
      "File \u001b[0;32m_cython_magic_b206d0719b80e8aa0853b12fcf5f8149.pyx:15\u001b[0m, in \u001b[0;36m_cython_magic_b206d0719b80e8aa0853b12fcf5f8149.sin_func\u001b[0;34m()\u001b[0m\n",
      "File \u001b[0;32m_cython_magic_b206d0719b80e8aa0853b12fcf5f8149.pyx:17\u001b[0m, in \u001b[0;36m_cython_magic_b206d0719b80e8aa0853b12fcf5f8149.sin_func\u001b[0;34m()\u001b[0m\n",
      "\u001b[0;31mValueError\u001b[0m: Buffer has wrong number of dimensions (expected 1, got 0)"
     ]
    }
   ],
   "source": [
    "sin_func(x, guess)"
   ]
  },
  {
   "cell_type": "code",
   "execution_count": 26,
   "metadata": {},
   "outputs": [
    {
     "ename": "ValueError",
     "evalue": "Buffer has wrong number of dimensions (expected 1, got 0)",
     "output_type": "error",
     "traceback": [
      "\u001b[0;31m---------------------------------------------------------------------------\u001b[0m",
      "\u001b[0;31mValueError\u001b[0m                                Traceback (most recent call last)",
      "\u001b[1;32m/Users/4cd87a/Documents/Projects/PhD/codes/scifit/tests/speed_test.ipynb Cell 10\u001b[0m in \u001b[0;36m<cell line: 1>\u001b[0;34m()\u001b[0m\n\u001b[0;32m----> <a href='vscode-notebook-cell:/Users/4cd87a/Documents/Projects/PhD/codes/scifit/tests/speed_test.ipynb#X64sZmlsZQ%3D%3D?line=0'>1</a>\u001b[0m fit_min(sin_func_min, x, y, guess)\n",
      "\u001b[1;32m/Users/4cd87a/Documents/Projects/PhD/codes/scifit/tests/speed_test.ipynb Cell 10\u001b[0m in \u001b[0;36mfit_min\u001b[0;34m(chisq, x, y, guess)\u001b[0m\n\u001b[1;32m     <a href='vscode-notebook-cell:/Users/4cd87a/Documents/Projects/PhD/codes/scifit/tests/speed_test.ipynb#X64sZmlsZQ%3D%3D?line=16'>17</a>\u001b[0m \u001b[39mdef\u001b[39;00m \u001b[39mfit_min\u001b[39m(chisq, x, y, guess):\n\u001b[0;32m---> <a href='vscode-notebook-cell:/Users/4cd87a/Documents/Projects/PhD/codes/scifit/tests/speed_test.ipynb#X64sZmlsZQ%3D%3D?line=17'>18</a>\u001b[0m     fit_params \u001b[39m=\u001b[39m optimize\u001b[39m.\u001b[39;49mminimize(\n\u001b[1;32m     <a href='vscode-notebook-cell:/Users/4cd87a/Documents/Projects/PhD/codes/scifit/tests/speed_test.ipynb#X64sZmlsZQ%3D%3D?line=18'>19</a>\u001b[0m                 fun \u001b[39m=\u001b[39;49m \u001b[39mlambda\u001b[39;49;00m params: chisq(x, y, params),\n\u001b[1;32m     <a href='vscode-notebook-cell:/Users/4cd87a/Documents/Projects/PhD/codes/scifit/tests/speed_test.ipynb#X64sZmlsZQ%3D%3D?line=19'>20</a>\u001b[0m                 x0 \u001b[39m=\u001b[39;49m guess,\n\u001b[1;32m     <a href='vscode-notebook-cell:/Users/4cd87a/Documents/Projects/PhD/codes/scifit/tests/speed_test.ipynb#X64sZmlsZQ%3D%3D?line=20'>21</a>\u001b[0m                 jac \u001b[39m=\u001b[39;49m \u001b[39m\"\u001b[39;49m\u001b[39m3-point\u001b[39;49m\u001b[39m\"\u001b[39;49m,\n\u001b[1;32m     <a href='vscode-notebook-cell:/Users/4cd87a/Documents/Projects/PhD/codes/scifit/tests/speed_test.ipynb#X64sZmlsZQ%3D%3D?line=21'>22</a>\u001b[0m                 method\u001b[39m=\u001b[39;49m\u001b[39m\"\u001b[39;49m\u001b[39mSLSQP\u001b[39;49m\u001b[39m\"\u001b[39;49m)\u001b[39m.\u001b[39mx\n\u001b[1;32m     <a href='vscode-notebook-cell:/Users/4cd87a/Documents/Projects/PhD/codes/scifit/tests/speed_test.ipynb#X64sZmlsZQ%3D%3D?line=22'>23</a>\u001b[0m     \u001b[39mreturn\u001b[39;00m fit_params\n",
      "File \u001b[0;32m~/opt/anaconda3/envs/phd_mask/lib/python3.10/site-packages/scipy/optimize/_minimize.py:631\u001b[0m, in \u001b[0;36mminimize\u001b[0;34m(fun, x0, args, method, jac, hess, hessp, bounds, constraints, tol, callback, options)\u001b[0m\n\u001b[1;32m    629\u001b[0m     \u001b[39mreturn\u001b[39;00m _minimize_cobyla(fun, x0, args, constraints, \u001b[39m*\u001b[39m\u001b[39m*\u001b[39moptions)\n\u001b[1;32m    630\u001b[0m \u001b[39melif\u001b[39;00m meth \u001b[39m==\u001b[39m \u001b[39m'\u001b[39m\u001b[39mslsqp\u001b[39m\u001b[39m'\u001b[39m:\n\u001b[0;32m--> 631\u001b[0m     \u001b[39mreturn\u001b[39;00m _minimize_slsqp(fun, x0, args, jac, bounds,\n\u001b[1;32m    632\u001b[0m                            constraints, callback\u001b[39m=\u001b[39;49mcallback, \u001b[39m*\u001b[39;49m\u001b[39m*\u001b[39;49moptions)\n\u001b[1;32m    633\u001b[0m \u001b[39melif\u001b[39;00m meth \u001b[39m==\u001b[39m \u001b[39m'\u001b[39m\u001b[39mtrust-constr\u001b[39m\u001b[39m'\u001b[39m:\n\u001b[1;32m    634\u001b[0m     \u001b[39mreturn\u001b[39;00m _minimize_trustregion_constr(fun, x0, args, jac, hess, hessp,\n\u001b[1;32m    635\u001b[0m                                         bounds, constraints,\n\u001b[1;32m    636\u001b[0m                                         callback\u001b[39m=\u001b[39mcallback, \u001b[39m*\u001b[39m\u001b[39m*\u001b[39moptions)\n",
      "File \u001b[0;32m~/opt/anaconda3/envs/phd_mask/lib/python3.10/site-packages/scipy/optimize/slsqp.py:375\u001b[0m, in \u001b[0;36m_minimize_slsqp\u001b[0;34m(func, x0, args, jac, bounds, constraints, maxiter, ftol, iprint, disp, eps, callback, finite_diff_rel_step, **unknown_options)\u001b[0m\n\u001b[1;32m    372\u001b[0m     xu[infbnd[:, \u001b[39m1\u001b[39m]] \u001b[39m=\u001b[39m np\u001b[39m.\u001b[39mnan\n\u001b[1;32m    374\u001b[0m \u001b[39m# ScalarFunction provides function and gradient evaluation\u001b[39;00m\n\u001b[0;32m--> 375\u001b[0m sf \u001b[39m=\u001b[39m _prepare_scalar_function(func, x, jac\u001b[39m=\u001b[39;49mjac, args\u001b[39m=\u001b[39;49margs, epsilon\u001b[39m=\u001b[39;49meps,\n\u001b[1;32m    376\u001b[0m                               finite_diff_rel_step\u001b[39m=\u001b[39;49mfinite_diff_rel_step,\n\u001b[1;32m    377\u001b[0m                               bounds\u001b[39m=\u001b[39;49mnew_bounds)\n\u001b[1;32m    378\u001b[0m \u001b[39m# gh11403 SLSQP sometimes exceeds bounds by 1 or 2 ULP, make sure this\u001b[39;00m\n\u001b[1;32m    379\u001b[0m \u001b[39m# doesn't get sent to the func/grad evaluator.\u001b[39;00m\n\u001b[1;32m    380\u001b[0m wrapped_fun \u001b[39m=\u001b[39m _clip_x_for_func(sf\u001b[39m.\u001b[39mfun, new_bounds)\n",
      "File \u001b[0;32m~/opt/anaconda3/envs/phd_mask/lib/python3.10/site-packages/scipy/optimize/optimize.py:261\u001b[0m, in \u001b[0;36m_prepare_scalar_function\u001b[0;34m(fun, x0, jac, args, bounds, epsilon, finite_diff_rel_step, hess)\u001b[0m\n\u001b[1;32m    257\u001b[0m     bounds \u001b[39m=\u001b[39m (\u001b[39m-\u001b[39mnp\u001b[39m.\u001b[39minf, np\u001b[39m.\u001b[39minf)\n\u001b[1;32m    259\u001b[0m \u001b[39m# ScalarFunction caches. Reuse of fun(x) during grad\u001b[39;00m\n\u001b[1;32m    260\u001b[0m \u001b[39m# calculation reduces overall function evaluations.\u001b[39;00m\n\u001b[0;32m--> 261\u001b[0m sf \u001b[39m=\u001b[39m ScalarFunction(fun, x0, args, grad, hess,\n\u001b[1;32m    262\u001b[0m                     finite_diff_rel_step, bounds, epsilon\u001b[39m=\u001b[39;49mepsilon)\n\u001b[1;32m    264\u001b[0m \u001b[39mreturn\u001b[39;00m sf\n",
      "File \u001b[0;32m~/opt/anaconda3/envs/phd_mask/lib/python3.10/site-packages/scipy/optimize/_differentiable_functions.py:140\u001b[0m, in \u001b[0;36mScalarFunction.__init__\u001b[0;34m(self, fun, x0, args, grad, hess, finite_diff_rel_step, finite_diff_bounds, epsilon)\u001b[0m\n\u001b[1;32m    137\u001b[0m     \u001b[39mself\u001b[39m\u001b[39m.\u001b[39mf \u001b[39m=\u001b[39m fun_wrapped(\u001b[39mself\u001b[39m\u001b[39m.\u001b[39mx)\n\u001b[1;32m    139\u001b[0m \u001b[39mself\u001b[39m\u001b[39m.\u001b[39m_update_fun_impl \u001b[39m=\u001b[39m update_fun\n\u001b[0;32m--> 140\u001b[0m \u001b[39mself\u001b[39;49m\u001b[39m.\u001b[39;49m_update_fun()\n\u001b[1;32m    142\u001b[0m \u001b[39m# Gradient evaluation\u001b[39;00m\n\u001b[1;32m    143\u001b[0m \u001b[39mif\u001b[39;00m callable(grad):\n",
      "File \u001b[0;32m~/opt/anaconda3/envs/phd_mask/lib/python3.10/site-packages/scipy/optimize/_differentiable_functions.py:233\u001b[0m, in \u001b[0;36mScalarFunction._update_fun\u001b[0;34m(self)\u001b[0m\n\u001b[1;32m    231\u001b[0m \u001b[39mdef\u001b[39;00m \u001b[39m_update_fun\u001b[39m(\u001b[39mself\u001b[39m):\n\u001b[1;32m    232\u001b[0m     \u001b[39mif\u001b[39;00m \u001b[39mnot\u001b[39;00m \u001b[39mself\u001b[39m\u001b[39m.\u001b[39mf_updated:\n\u001b[0;32m--> 233\u001b[0m         \u001b[39mself\u001b[39;49m\u001b[39m.\u001b[39;49m_update_fun_impl()\n\u001b[1;32m    234\u001b[0m         \u001b[39mself\u001b[39m\u001b[39m.\u001b[39mf_updated \u001b[39m=\u001b[39m \u001b[39mTrue\u001b[39;00m\n",
      "File \u001b[0;32m~/opt/anaconda3/envs/phd_mask/lib/python3.10/site-packages/scipy/optimize/_differentiable_functions.py:137\u001b[0m, in \u001b[0;36mScalarFunction.__init__.<locals>.update_fun\u001b[0;34m()\u001b[0m\n\u001b[1;32m    136\u001b[0m \u001b[39mdef\u001b[39;00m \u001b[39mupdate_fun\u001b[39m():\n\u001b[0;32m--> 137\u001b[0m     \u001b[39mself\u001b[39m\u001b[39m.\u001b[39mf \u001b[39m=\u001b[39m fun_wrapped(\u001b[39mself\u001b[39;49m\u001b[39m.\u001b[39;49mx)\n",
      "File \u001b[0;32m~/opt/anaconda3/envs/phd_mask/lib/python3.10/site-packages/scipy/optimize/_differentiable_functions.py:134\u001b[0m, in \u001b[0;36mScalarFunction.__init__.<locals>.fun_wrapped\u001b[0;34m(x)\u001b[0m\n\u001b[1;32m    130\u001b[0m \u001b[39mself\u001b[39m\u001b[39m.\u001b[39mnfev \u001b[39m+\u001b[39m\u001b[39m=\u001b[39m \u001b[39m1\u001b[39m\n\u001b[1;32m    131\u001b[0m \u001b[39m# Send a copy because the user may overwrite it.\u001b[39;00m\n\u001b[1;32m    132\u001b[0m \u001b[39m# Overwriting results in undefined behaviour because\u001b[39;00m\n\u001b[1;32m    133\u001b[0m \u001b[39m# fun(self.x) will change self.x, with the two no longer linked.\u001b[39;00m\n\u001b[0;32m--> 134\u001b[0m \u001b[39mreturn\u001b[39;00m fun(np\u001b[39m.\u001b[39;49mcopy(x), \u001b[39m*\u001b[39;49margs)\n",
      "\u001b[1;32m/Users/4cd87a/Documents/Projects/PhD/codes/scifit/tests/speed_test.ipynb Cell 10\u001b[0m in \u001b[0;36mfit_min.<locals>.<lambda>\u001b[0;34m(params)\u001b[0m\n\u001b[1;32m     <a href='vscode-notebook-cell:/Users/4cd87a/Documents/Projects/PhD/codes/scifit/tests/speed_test.ipynb#X64sZmlsZQ%3D%3D?line=16'>17</a>\u001b[0m \u001b[39mdef\u001b[39;00m \u001b[39mfit_min\u001b[39m(chisq, x, y, guess):\n\u001b[1;32m     <a href='vscode-notebook-cell:/Users/4cd87a/Documents/Projects/PhD/codes/scifit/tests/speed_test.ipynb#X64sZmlsZQ%3D%3D?line=17'>18</a>\u001b[0m     fit_params \u001b[39m=\u001b[39m optimize\u001b[39m.\u001b[39mminimize(\n\u001b[0;32m---> <a href='vscode-notebook-cell:/Users/4cd87a/Documents/Projects/PhD/codes/scifit/tests/speed_test.ipynb#X64sZmlsZQ%3D%3D?line=18'>19</a>\u001b[0m                 fun \u001b[39m=\u001b[39m \u001b[39mlambda\u001b[39;00m params: chisq(x, y, params),\n\u001b[1;32m     <a href='vscode-notebook-cell:/Users/4cd87a/Documents/Projects/PhD/codes/scifit/tests/speed_test.ipynb#X64sZmlsZQ%3D%3D?line=19'>20</a>\u001b[0m                 x0 \u001b[39m=\u001b[39m guess,\n\u001b[1;32m     <a href='vscode-notebook-cell:/Users/4cd87a/Documents/Projects/PhD/codes/scifit/tests/speed_test.ipynb#X64sZmlsZQ%3D%3D?line=20'>21</a>\u001b[0m                 jac \u001b[39m=\u001b[39m \u001b[39m\"\u001b[39m\u001b[39m3-point\u001b[39m\u001b[39m\"\u001b[39m,\n\u001b[1;32m     <a href='vscode-notebook-cell:/Users/4cd87a/Documents/Projects/PhD/codes/scifit/tests/speed_test.ipynb#X64sZmlsZQ%3D%3D?line=21'>22</a>\u001b[0m                 method\u001b[39m=\u001b[39m\u001b[39m\"\u001b[39m\u001b[39mSLSQP\u001b[39m\u001b[39m\"\u001b[39m)\u001b[39m.\u001b[39mx\n\u001b[1;32m     <a href='vscode-notebook-cell:/Users/4cd87a/Documents/Projects/PhD/codes/scifit/tests/speed_test.ipynb#X64sZmlsZQ%3D%3D?line=22'>23</a>\u001b[0m     \u001b[39mreturn\u001b[39;00m fit_params\n",
      "\u001b[1;32m/Users/4cd87a/Documents/Projects/PhD/codes/scifit/tests/speed_test.ipynb Cell 10\u001b[0m in \u001b[0;36msin_func_min\u001b[0;34m(x, y, param)\u001b[0m\n\u001b[1;32m      <a href='vscode-notebook-cell:/Users/4cd87a/Documents/Projects/PhD/codes/scifit/tests/speed_test.ipynb#X64sZmlsZQ%3D%3D?line=3'>4</a>\u001b[0m \u001b[39mdef\u001b[39;00m \u001b[39msin_func_min\u001b[39m(x, y, param):\n\u001b[0;32m----> <a href='vscode-notebook-cell:/Users/4cd87a/Documents/Projects/PhD/codes/scifit/tests/speed_test.ipynb#X64sZmlsZQ%3D%3D?line=4'>5</a>\u001b[0m     \u001b[39mreturn\u001b[39;00m chisq_py(sin_func, x, y, param)\n",
      "\u001b[1;32m/Users/4cd87a/Documents/Projects/PhD/codes/scifit/tests/speed_test.ipynb Cell 10\u001b[0m in \u001b[0;36mchisq_py\u001b[0;34m(func, x, data, params)\u001b[0m\n\u001b[1;32m      <a href='vscode-notebook-cell:/Users/4cd87a/Documents/Projects/PhD/codes/scifit/tests/speed_test.ipynb#X64sZmlsZQ%3D%3D?line=2'>3</a>\u001b[0m \u001b[39mdef\u001b[39;00m \u001b[39mchisq_py\u001b[39m(func, x, data, params) \u001b[39m-\u001b[39m\u001b[39m>\u001b[39m np\u001b[39m.\u001b[39mndarray:\n\u001b[0;32m----> <a href='vscode-notebook-cell:/Users/4cd87a/Documents/Projects/PhD/codes/scifit/tests/speed_test.ipynb#X64sZmlsZQ%3D%3D?line=3'>4</a>\u001b[0m     \u001b[39mreturn\u001b[39;00m np\u001b[39m.\u001b[39msum((func(x, params) \u001b[39m-\u001b[39m data)\u001b[39m*\u001b[39m\u001b[39m*\u001b[39m\u001b[39m2\u001b[39m)\n",
      "File \u001b[0;32m_cython_magic_ddfa9c4ae68d23febf46c60d59fe66c1.pyx:15\u001b[0m, in \u001b[0;36m_cython_magic_ddfa9c4ae68d23febf46c60d59fe66c1.sin_func\u001b[0;34m()\u001b[0m\n",
      "File \u001b[0;32m_cython_magic_ddfa9c4ae68d23febf46c60d59fe66c1.pyx:17\u001b[0m, in \u001b[0;36m_cython_magic_ddfa9c4ae68d23febf46c60d59fe66c1.sin_func\u001b[0;34m()\u001b[0m\n",
      "\u001b[0;31mValueError\u001b[0m: Buffer has wrong number of dimensions (expected 1, got 0)"
     ]
    }
   ],
   "source": [
    "fit_min(sin_func_min, x, y, guess)"
   ]
  },
  {
   "cell_type": "code",
   "execution_count": 22,
   "metadata": {},
   "outputs": [
    {
     "ename": "ValueError",
     "evalue": "Buffer has wrong number of dimensions (expected 1, got 0)",
     "output_type": "error",
     "traceback": [
      "\u001b[0;31m---------------------------------------------------------------------------\u001b[0m",
      "\u001b[0;31mValueError\u001b[0m                                Traceback (most recent call last)",
      "File \u001b[0;32m_cython_magic_788a54b41b54ddcb78e6885e7aee8e79.pyx:17\u001b[0m, in \u001b[0;36m_cython_magic_788a54b41b54ddcb78e6885e7aee8e79.sin_func\u001b[0;34m()\u001b[0m\n",
      "\u001b[0;31mValueError\u001b[0m: Buffer has wrong number of dimensions (expected 1, got 0)"
     ]
    },
    {
     "name": "stderr",
     "output_type": "stream",
     "text": [
      "Exception ignored in: '_cython_magic_788a54b41b54ddcb78e6885e7aee8e79.chisq2'\n",
      "Traceback (most recent call last):\n",
      "  File \"_cython_magic_788a54b41b54ddcb78e6885e7aee8e79.pyx\", line 17, in _cython_magic_788a54b41b54ddcb78e6885e7aee8e79.sin_func\n",
      "ValueError: Buffer has wrong number of dimensions (expected 1, got 0)\n"
     ]
    },
    {
     "ename": "ValueError",
     "evalue": "Buffer has wrong number of dimensions (expected 1, got 0)",
     "output_type": "error",
     "traceback": [
      "\u001b[0;31m---------------------------------------------------------------------------\u001b[0m",
      "\u001b[0;31mValueError\u001b[0m                                Traceback (most recent call last)",
      "File \u001b[0;32m_cython_magic_788a54b41b54ddcb78e6885e7aee8e79.pyx:17\u001b[0m, in \u001b[0;36m_cython_magic_788a54b41b54ddcb78e6885e7aee8e79.sin_func\u001b[0;34m()\u001b[0m\n",
      "\u001b[0;31mValueError\u001b[0m: Buffer has wrong number of dimensions (expected 1, got 0)"
     ]
    },
    {
     "name": "stderr",
     "output_type": "stream",
     "text": [
      "Exception ignored in: '_cython_magic_788a54b41b54ddcb78e6885e7aee8e79.chisq2'\n",
      "Traceback (most recent call last):\n",
      "  File \"_cython_magic_788a54b41b54ddcb78e6885e7aee8e79.pyx\", line 17, in _cython_magic_788a54b41b54ddcb78e6885e7aee8e79.sin_func\n",
      "ValueError: Buffer has wrong number of dimensions (expected 1, got 0)\n"
     ]
    },
    {
     "ename": "ValueError",
     "evalue": "Buffer has wrong number of dimensions (expected 1, got 0)",
     "output_type": "error",
     "traceback": [
      "\u001b[0;31m---------------------------------------------------------------------------\u001b[0m",
      "\u001b[0;31mValueError\u001b[0m                                Traceback (most recent call last)",
      "File \u001b[0;32m_cython_magic_788a54b41b54ddcb78e6885e7aee8e79.pyx:17\u001b[0m, in \u001b[0;36m_cython_magic_788a54b41b54ddcb78e6885e7aee8e79.sin_func\u001b[0;34m()\u001b[0m\n",
      "\u001b[0;31mValueError\u001b[0m: Buffer has wrong number of dimensions (expected 1, got 0)"
     ]
    },
    {
     "name": "stderr",
     "output_type": "stream",
     "text": [
      "Exception ignored in: '_cython_magic_788a54b41b54ddcb78e6885e7aee8e79.chisq2'\n",
      "Traceback (most recent call last):\n",
      "  File \"_cython_magic_788a54b41b54ddcb78e6885e7aee8e79.pyx\", line 17, in _cython_magic_788a54b41b54ddcb78e6885e7aee8e79.sin_func\n",
      "ValueError: Buffer has wrong number of dimensions (expected 1, got 0)\n"
     ]
    },
    {
     "ename": "ValueError",
     "evalue": "Buffer has wrong number of dimensions (expected 1, got 0)",
     "output_type": "error",
     "traceback": [
      "\u001b[0;31m---------------------------------------------------------------------------\u001b[0m",
      "\u001b[0;31mValueError\u001b[0m                                Traceback (most recent call last)",
      "File \u001b[0;32m_cython_magic_788a54b41b54ddcb78e6885e7aee8e79.pyx:17\u001b[0m, in \u001b[0;36m_cython_magic_788a54b41b54ddcb78e6885e7aee8e79.sin_func\u001b[0;34m()\u001b[0m\n",
      "\u001b[0;31mValueError\u001b[0m: Buffer has wrong number of dimensions (expected 1, got 0)"
     ]
    },
    {
     "name": "stderr",
     "output_type": "stream",
     "text": [
      "Exception ignored in: '_cython_magic_788a54b41b54ddcb78e6885e7aee8e79.chisq2'\n",
      "Traceback (most recent call last):\n",
      "  File \"_cython_magic_788a54b41b54ddcb78e6885e7aee8e79.pyx\", line 17, in _cython_magic_788a54b41b54ddcb78e6885e7aee8e79.sin_func\n",
      "ValueError: Buffer has wrong number of dimensions (expected 1, got 0)\n"
     ]
    },
    {
     "ename": "ValueError",
     "evalue": "Buffer has wrong number of dimensions (expected 1, got 0)",
     "output_type": "error",
     "traceback": [
      "\u001b[0;31m---------------------------------------------------------------------------\u001b[0m",
      "\u001b[0;31mValueError\u001b[0m                                Traceback (most recent call last)",
      "File \u001b[0;32m_cython_magic_788a54b41b54ddcb78e6885e7aee8e79.pyx:17\u001b[0m, in \u001b[0;36m_cython_magic_788a54b41b54ddcb78e6885e7aee8e79.sin_func\u001b[0;34m()\u001b[0m\n",
      "\u001b[0;31mValueError\u001b[0m: Buffer has wrong number of dimensions (expected 1, got 0)"
     ]
    },
    {
     "name": "stderr",
     "output_type": "stream",
     "text": [
      "Exception ignored in: '_cython_magic_788a54b41b54ddcb78e6885e7aee8e79.chisq2'\n",
      "Traceback (most recent call last):\n",
      "  File \"_cython_magic_788a54b41b54ddcb78e6885e7aee8e79.pyx\", line 17, in _cython_magic_788a54b41b54ddcb78e6885e7aee8e79.sin_func\n",
      "ValueError: Buffer has wrong number of dimensions (expected 1, got 0)\n"
     ]
    },
    {
     "ename": "ValueError",
     "evalue": "Buffer has wrong number of dimensions (expected 1, got 0)",
     "output_type": "error",
     "traceback": [
      "\u001b[0;31m---------------------------------------------------------------------------\u001b[0m",
      "\u001b[0;31mValueError\u001b[0m                                Traceback (most recent call last)",
      "File \u001b[0;32m_cython_magic_788a54b41b54ddcb78e6885e7aee8e79.pyx:17\u001b[0m, in \u001b[0;36m_cython_magic_788a54b41b54ddcb78e6885e7aee8e79.sin_func\u001b[0;34m()\u001b[0m\n",
      "\u001b[0;31mValueError\u001b[0m: Buffer has wrong number of dimensions (expected 1, got 0)"
     ]
    },
    {
     "name": "stderr",
     "output_type": "stream",
     "text": [
      "Exception ignored in: '_cython_magic_788a54b41b54ddcb78e6885e7aee8e79.chisq2'\n",
      "Traceback (most recent call last):\n",
      "  File \"_cython_magic_788a54b41b54ddcb78e6885e7aee8e79.pyx\", line 17, in _cython_magic_788a54b41b54ddcb78e6885e7aee8e79.sin_func\n",
      "ValueError: Buffer has wrong number of dimensions (expected 1, got 0)\n"
     ]
    },
    {
     "ename": "ValueError",
     "evalue": "Buffer has wrong number of dimensions (expected 1, got 0)",
     "output_type": "error",
     "traceback": [
      "\u001b[0;31m---------------------------------------------------------------------------\u001b[0m",
      "\u001b[0;31mValueError\u001b[0m                                Traceback (most recent call last)",
      "File \u001b[0;32m_cython_magic_788a54b41b54ddcb78e6885e7aee8e79.pyx:17\u001b[0m, in \u001b[0;36m_cython_magic_788a54b41b54ddcb78e6885e7aee8e79.sin_func\u001b[0;34m()\u001b[0m\n",
      "\u001b[0;31mValueError\u001b[0m: Buffer has wrong number of dimensions (expected 1, got 0)"
     ]
    },
    {
     "name": "stderr",
     "output_type": "stream",
     "text": [
      "Exception ignored in: '_cython_magic_788a54b41b54ddcb78e6885e7aee8e79.chisq2'\n",
      "Traceback (most recent call last):\n",
      "  File \"_cython_magic_788a54b41b54ddcb78e6885e7aee8e79.pyx\", line 17, in _cython_magic_788a54b41b54ddcb78e6885e7aee8e79.sin_func\n",
      "ValueError: Buffer has wrong number of dimensions (expected 1, got 0)\n"
     ]
    },
    {
     "ename": "ValueError",
     "evalue": "Buffer has wrong number of dimensions (expected 1, got 0)",
     "output_type": "error",
     "traceback": [
      "\u001b[0;31m---------------------------------------------------------------------------\u001b[0m",
      "\u001b[0;31mValueError\u001b[0m                                Traceback (most recent call last)",
      "File \u001b[0;32m_cython_magic_788a54b41b54ddcb78e6885e7aee8e79.pyx:17\u001b[0m, in \u001b[0;36m_cython_magic_788a54b41b54ddcb78e6885e7aee8e79.sin_func\u001b[0;34m()\u001b[0m\n",
      "\u001b[0;31mValueError\u001b[0m: Buffer has wrong number of dimensions (expected 1, got 0)"
     ]
    },
    {
     "name": "stderr",
     "output_type": "stream",
     "text": [
      "Exception ignored in: '_cython_magic_788a54b41b54ddcb78e6885e7aee8e79.chisq2'\n",
      "Traceback (most recent call last):\n",
      "  File \"_cython_magic_788a54b41b54ddcb78e6885e7aee8e79.pyx\", line 17, in _cython_magic_788a54b41b54ddcb78e6885e7aee8e79.sin_func\n",
      "ValueError: Buffer has wrong number of dimensions (expected 1, got 0)\n"
     ]
    },
    {
     "ename": "ValueError",
     "evalue": "Buffer has wrong number of dimensions (expected 1, got 0)",
     "output_type": "error",
     "traceback": [
      "\u001b[0;31m---------------------------------------------------------------------------\u001b[0m",
      "\u001b[0;31mValueError\u001b[0m                                Traceback (most recent call last)",
      "File \u001b[0;32m_cython_magic_788a54b41b54ddcb78e6885e7aee8e79.pyx:17\u001b[0m, in \u001b[0;36m_cython_magic_788a54b41b54ddcb78e6885e7aee8e79.sin_func\u001b[0;34m()\u001b[0m\n",
      "\u001b[0;31mValueError\u001b[0m: Buffer has wrong number of dimensions (expected 1, got 0)"
     ]
    },
    {
     "name": "stderr",
     "output_type": "stream",
     "text": [
      "Exception ignored in: '_cython_magic_788a54b41b54ddcb78e6885e7aee8e79.chisq2'\n",
      "Traceback (most recent call last):\n",
      "  File \"_cython_magic_788a54b41b54ddcb78e6885e7aee8e79.pyx\", line 17, in _cython_magic_788a54b41b54ddcb78e6885e7aee8e79.sin_func\n",
      "ValueError: Buffer has wrong number of dimensions (expected 1, got 0)\n"
     ]
    },
    {
     "data": {
      "text/plain": [
       "array([0.5, 0.5, 0. , 0. ])"
      ]
     },
     "execution_count": 22,
     "metadata": {},
     "output_type": "execute_result"
    }
   ],
   "source": [
    "fit_min(sin_func_min, x, y, guess)"
   ]
  },
  {
   "cell_type": "code",
   "execution_count": null,
   "metadata": {},
   "outputs": [],
   "source": [
    "from scipy.optimize.cython_optimize import "
   ]
  },
  {
   "cell_type": "code",
   "execution_count": 52,
   "metadata": {},
   "outputs": [
    {
     "name": "stdout",
     "output_type": "stream",
     "text": [
      "323 ms ± 21 ms per loop (mean ± std. dev. of 7 runs, 1 loop each)\n"
     ]
    }
   ],
   "source": [
    "guess = np.array([.5, .5, 0, 0])\n",
    "%timeit sfit(sin_func, chisq_py, x, y, guess)"
   ]
  },
  {
   "cell_type": "code",
   "execution_count": 55,
   "metadata": {},
   "outputs": [
    {
     "name": "stdout",
     "output_type": "stream",
     "text": [
      "379 ms ± 67.5 ms per loop (mean ± std. dev. of 7 runs, 1 loop each)\n"
     ]
    }
   ],
   "source": [
    "guess = np.array([.5, .5, 0, 0])\n",
    "%timeit sfit(sin_func, chisq, x, y, guess)"
   ]
  },
  {
   "cell_type": "code",
   "execution_count": 48,
   "metadata": {},
   "outputs": [
    {
     "name": "stdout",
     "output_type": "stream",
     "text": [
      "5.88 µs ± 25.9 ns per loop (mean ± std. dev. of 7 runs, 100,000 loops each)\n"
     ]
    }
   ],
   "source": [
    "%timeit sin_func_py(x, guess)"
   ]
  },
  {
   "cell_type": "code",
   "execution_count": 49,
   "metadata": {},
   "outputs": [
    {
     "name": "stdout",
     "output_type": "stream",
     "text": [
      "1.38 µs ± 11.7 ns per loop (mean ± std. dev. of 7 runs, 1,000,000 loops each)\n"
     ]
    }
   ],
   "source": [
    "%timeit sin_func(x, guess)"
   ]
  },
  {
   "cell_type": "code",
   "execution_count": 60,
   "metadata": {},
   "outputs": [
    {
     "ename": "ValueError",
     "evalue": "Buffer has wrong number of dimensions (expected 1, got 0)",
     "output_type": "error",
     "traceback": [
      "\u001b[0;31m---------------------------------------------------------------------------\u001b[0m",
      "\u001b[0;31mValueError\u001b[0m                                Traceback (most recent call last)",
      "\u001b[1;32m/Users/4cd87a/Documents/Projects/PhD/codes/scifit/tests/speed_test.ipynb Cell 13\u001b[0m in \u001b[0;36m<cell line: 2>\u001b[0;34m()\u001b[0m\n\u001b[1;32m      <a href='vscode-notebook-cell:/Users/4cd87a/Documents/Projects/PhD/codes/scifit/tests/speed_test.ipynb#X45sZmlsZQ%3D%3D?line=0'>1</a>\u001b[0m x \u001b[39m=\u001b[39m np\u001b[39m.\u001b[39marange(\u001b[39m0\u001b[39m, \u001b[39m2\u001b[39m\u001b[39m*\u001b[39mnp\u001b[39m.\u001b[39mpi, \u001b[39m.1\u001b[39m)\n\u001b[0;32m----> <a href='vscode-notebook-cell:/Users/4cd87a/Documents/Projects/PhD/codes/scifit/tests/speed_test.ipynb#X45sZmlsZQ%3D%3D?line=1'>2</a>\u001b[0m plt\u001b[39m.\u001b[39mplot(x, sin_func(x, guess))\n",
      "File \u001b[0;32m_cython_magic_c7870ac44643760e5aae1ea69a6b1596.pyx:15\u001b[0m, in \u001b[0;36m_cython_magic_c7870ac44643760e5aae1ea69a6b1596.sin_func\u001b[0;34m()\u001b[0m\n",
      "File \u001b[0;32m_cython_magic_c7870ac44643760e5aae1ea69a6b1596.pyx:17\u001b[0m, in \u001b[0;36m_cython_magic_c7870ac44643760e5aae1ea69a6b1596.sin_func\u001b[0;34m()\u001b[0m\n",
      "\u001b[0;31mValueError\u001b[0m: Buffer has wrong number of dimensions (expected 1, got 0)"
     ]
    }
   ],
   "source": [
    "x = np.arange(0, 2*np.pi, .1)\n",
    "plt.plot(x, sin_func(x, guess))"
   ]
  },
  {
   "cell_type": "code",
   "execution_count": 56,
   "metadata": {},
   "outputs": [
    {
     "name": "stderr",
     "output_type": "stream",
     "text": [
      "In file included from /Users/4cd87a/.ipython/cython/_cython_magic_b038c79b9784391dea814c931072503e.c:719:\n",
      "In file included from /Users/4cd87a/opt/anaconda3/envs/phd_mask/lib/python3.10/site-packages/numpy/core/include/numpy/arrayobject.h:4:\n",
      "In file included from /Users/4cd87a/opt/anaconda3/envs/phd_mask/lib/python3.10/site-packages/numpy/core/include/numpy/ndarrayobject.h:12:\n",
      "In file included from /Users/4cd87a/opt/anaconda3/envs/phd_mask/lib/python3.10/site-packages/numpy/core/include/numpy/ndarraytypes.h:1969:\n",
      "/Users/4cd87a/opt/anaconda3/envs/phd_mask/lib/python3.10/site-packages/numpy/core/include/numpy/npy_1_7_deprecated_api.h:17:2: warning: \"Using deprecated NumPy API, disable it with \"          \"#define NPY_NO_DEPRECATED_API NPY_1_7_API_VERSION\" [-W#warnings]\n",
      "#warning \"Using deprecated NumPy API, disable it with \" \\\n",
      " ^\n",
      "/Users/4cd87a/.ipython/cython/_cython_magic_b038c79b9784391dea814c931072503e.c:1794:23: warning: unused function '__pyx_f_46_cython_magic_b038c79b9784391dea814c931072503e_sin_func' [-Wunused-function]\n",
      "static PyArrayObject *__pyx_f_46_cython_magic_b038c79b9784391dea814c931072503e_sin_func(PyArrayObject *__pyx_v_x, float __pyx_v_amp, float __pyx_v_freq, float __pyx_v_phase, float __pyx_v_offset) {\n",
      "                      ^\n",
      "2 warnings generated.\n"
     ]
    }
   ],
   "source": [
    "%%cython\n",
    "cimport cython\n",
    "import numpy as np\n",
    "cimport numpy as np\n",
    "np.import_array()\n",
    "\n",
    "@cython.boundscheck(False)\n",
    "@cython.wraparound(False)\n",
    "cdef np.ndarray[np.float_t, ndim=1] sin_func(np.ndarray[np.float_t, ndim=1] x, float amp, float freq, float phase, float offset):\n",
    "    return amp*np.sin(freq*x + phase) + offset\n",
    "\n",
    "\n"
   ]
  },
  {
   "cell_type": "code",
   "execution_count": 55,
   "metadata": {},
   "outputs": [
    {
     "name": "stdout",
     "output_type": "stream",
     "text": [
      "4.92 µs ± 130 ns per loop (mean ± std. dev. of 7 runs, 100,000 loops each)\n"
     ]
    }
   ],
   "source": [
    "%timeit sin_func(x, *guess)"
   ]
  },
  {
   "cell_type": "code",
   "execution_count": 9,
   "metadata": {},
   "outputs": [
    {
     "ename": "TypeError",
     "evalue": "fit() missing 1 required positional argument: 'guess'",
     "output_type": "error",
     "traceback": [
      "\u001b[0;31m---------------------------------------------------------------------------\u001b[0m",
      "\u001b[0;31mTypeError\u001b[0m                                 Traceback (most recent call last)",
      "\u001b[1;32m/Users/4cd87a/Documents/Projects/PhD/codes/scifit/tests/speed_test.ipynb Cell 7\u001b[0m in \u001b[0;36m<cell line: 2>\u001b[0;34m()\u001b[0m\n\u001b[1;32m      <a href='vscode-notebook-cell:/Users/4cd87a/Documents/Projects/PhD/codes/scifit/tests/speed_test.ipynb#W5sZmlsZQ%3D%3D?line=0'>1</a>\u001b[0m guess \u001b[39m=\u001b[39m [\u001b[39m.5\u001b[39m, \u001b[39m.5\u001b[39m, \u001b[39m0\u001b[39m, \u001b[39m0\u001b[39m]\n\u001b[0;32m----> <a href='vscode-notebook-cell:/Users/4cd87a/Documents/Projects/PhD/codes/scifit/tests/speed_test.ipynb#W5sZmlsZQ%3D%3D?line=1'>2</a>\u001b[0m get_ipython()\u001b[39m.\u001b[39;49mrun_line_magic(\u001b[39m'\u001b[39;49m\u001b[39mtimeit\u001b[39;49m\u001b[39m'\u001b[39;49m, \u001b[39m'\u001b[39;49m\u001b[39mfit(sin_func, x, y, guess)\u001b[39;49m\u001b[39m'\u001b[39;49m)\n",
      "File \u001b[0;32m~/opt/anaconda3/envs/phd_mask/lib/python3.10/site-packages/IPython/core/interactiveshell.py:2304\u001b[0m, in \u001b[0;36mInteractiveShell.run_line_magic\u001b[0;34m(self, magic_name, line, _stack_depth)\u001b[0m\n\u001b[1;32m   2302\u001b[0m     kwargs[\u001b[39m'\u001b[39m\u001b[39mlocal_ns\u001b[39m\u001b[39m'\u001b[39m] \u001b[39m=\u001b[39m \u001b[39mself\u001b[39m\u001b[39m.\u001b[39mget_local_scope(stack_depth)\n\u001b[1;32m   2303\u001b[0m \u001b[39mwith\u001b[39;00m \u001b[39mself\u001b[39m\u001b[39m.\u001b[39mbuiltin_trap:\n\u001b[0;32m-> 2304\u001b[0m     result \u001b[39m=\u001b[39m fn(\u001b[39m*\u001b[39;49margs, \u001b[39m*\u001b[39;49m\u001b[39m*\u001b[39;49mkwargs)\n\u001b[1;32m   2305\u001b[0m \u001b[39mreturn\u001b[39;00m result\n",
      "File \u001b[0;32m~/opt/anaconda3/envs/phd_mask/lib/python3.10/site-packages/IPython/core/magics/execution.py:1162\u001b[0m, in \u001b[0;36mExecutionMagics.timeit\u001b[0;34m(self, line, cell, local_ns)\u001b[0m\n\u001b[1;32m   1160\u001b[0m \u001b[39mfor\u001b[39;00m index \u001b[39min\u001b[39;00m \u001b[39mrange\u001b[39m(\u001b[39m0\u001b[39m, \u001b[39m10\u001b[39m):\n\u001b[1;32m   1161\u001b[0m     number \u001b[39m=\u001b[39m \u001b[39m10\u001b[39m \u001b[39m*\u001b[39m\u001b[39m*\u001b[39m index\n\u001b[0;32m-> 1162\u001b[0m     time_number \u001b[39m=\u001b[39m timer\u001b[39m.\u001b[39;49mtimeit(number)\n\u001b[1;32m   1163\u001b[0m     \u001b[39mif\u001b[39;00m time_number \u001b[39m>\u001b[39m\u001b[39m=\u001b[39m \u001b[39m0.2\u001b[39m:\n\u001b[1;32m   1164\u001b[0m         \u001b[39mbreak\u001b[39;00m\n",
      "File \u001b[0;32m~/opt/anaconda3/envs/phd_mask/lib/python3.10/site-packages/IPython/core/magics/execution.py:156\u001b[0m, in \u001b[0;36mTimer.timeit\u001b[0;34m(self, number)\u001b[0m\n\u001b[1;32m    154\u001b[0m gc\u001b[39m.\u001b[39mdisable()\n\u001b[1;32m    155\u001b[0m \u001b[39mtry\u001b[39;00m:\n\u001b[0;32m--> 156\u001b[0m     timing \u001b[39m=\u001b[39m \u001b[39mself\u001b[39;49m\u001b[39m.\u001b[39;49minner(it, \u001b[39mself\u001b[39;49m\u001b[39m.\u001b[39;49mtimer)\n\u001b[1;32m    157\u001b[0m \u001b[39mfinally\u001b[39;00m:\n\u001b[1;32m    158\u001b[0m     \u001b[39mif\u001b[39;00m gcold:\n",
      "File \u001b[0;32m<magic-timeit>:1\u001b[0m, in \u001b[0;36minner\u001b[0;34m(_it, _timer)\u001b[0m\n",
      "\u001b[0;31mTypeError\u001b[0m: fit() missing 1 required positional argument: 'guess'"
     ]
    }
   ],
   "source": [
    "guess = [.5, .5, 0, 0]\n",
    "%timeit fit(sin_func, x, y, guess)"
   ]
  },
  {
   "cell_type": "code",
   "execution_count": 28,
   "metadata": {},
   "outputs": [
    {
     "name": "stdout",
     "output_type": "stream",
     "text": [
      "4.45 ms ± 734 µs per loop (mean ± std. dev. of 7 runs, 100 loops each)\n"
     ]
    }
   ],
   "source": [
    "guess = [.5, .5, 0, 0]\n",
    "%timeit fit(sin_func, x, y, guess)"
   ]
  },
  {
   "cell_type": "code",
   "execution_count": 38,
   "metadata": {},
   "outputs": [
    {
     "name": "stdout",
     "output_type": "stream",
     "text": [
      "4.91 µs ± 202 ns per loop (mean ± std. dev. of 7 runs, 100,000 loops each)\n"
     ]
    }
   ],
   "source": [
    "%timeit sin_func_py(x, *guess)"
   ]
  },
  {
   "cell_type": "code",
   "execution_count": 24,
   "metadata": {},
   "outputs": [
    {
     "name": "stderr",
     "output_type": "stream",
     "text": [
      "In file included from /Users/4cd87a/.ipython/cython/_cython_magic_5a1d5cd713c3aaad08e8bce1e2190613.c:707:\n",
      "In file included from /Users/4cd87a/opt/anaconda3/envs/phd_mask/lib/python3.10/site-packages/numpy/core/include/numpy/arrayobject.h:4:\n",
      "In file included from /Users/4cd87a/opt/anaconda3/envs/phd_mask/lib/python3.10/site-packages/numpy/core/include/numpy/ndarrayobject.h:12:\n",
      "In file included from /Users/4cd87a/opt/anaconda3/envs/phd_mask/lib/python3.10/site-packages/numpy/core/include/numpy/ndarraytypes.h:1969:\n",
      "/Users/4cd87a/opt/anaconda3/envs/phd_mask/lib/python3.10/site-packages/numpy/core/include/numpy/npy_1_7_deprecated_api.h:17:2: warning: \"Using deprecated NumPy API, disable it with \"          \"#define NPY_NO_DEPRECATED_API NPY_1_7_API_VERSION\" [-W#warnings]\n",
      "#warning \"Using deprecated NumPy API, disable it with \" \\\n",
      " ^\n",
      "1 warning generated.\n"
     ]
    }
   ],
   "source": [
    "%%cython\n",
    "import time\n",
    "import numpy\n",
    "cimport numpy\n",
    "cimport cython\n",
    "\n",
    "ctypedef numpy.float_t DTYPE_t\n",
    "\n",
    "cdef extern from \"math.h\":\n",
    "    cpdef double sin(double x)\n",
    "    \n",
    "# @cython.boundscheck(False)\n",
    "# @cython.wraparound(False)\n",
    "# cpdef numpy.ndarray[DTYPE_t, ndim=1] sin_func(numpy.ndarray[DTYPE_t, ndim=1] arr, float* params amp, float freq, float phase, float offset):\n",
    "#     for k in range(len(arr)):\n",
    "#         arr[k] =amp*sin(freq*arr[k]+phase) + offset\n",
    "    \n",
    "#     return arr\n",
    "\n",
    "ctypedef numpy.ndarray[DTYPE_t, ndim=1] (*f_type)(numpy.ndarray[DTYPE_t, ndim=1], numpy.ndarray[DTYPE_t, ndim=1])\n",
    "\n",
    "@cython.boundscheck(False)\n",
    "@cython.wraparound(False)\n",
    "cpdef numpy.ndarray[DTYPE_t, ndim=1] sin_func(numpy.ndarray[DTYPE_t, ndim=1] arr, double amp, double freq, double phase, double offset):\n",
    "    for k in range(len(arr)):\n",
    "        arr[k] = amp*sin(freq*arr[k]+phase) + offset\n",
    "    return arr\n",
    "\n",
    "# @cython.boundscheck(False)\n",
    "# @cython.wraparound(False)\n",
    "# cpdef numpy.ndarray[DTYPE_t, ndim=1] sin_func(numpy.ndarray[DTYPE_t, ndim=1] arr, numpy.ndarray[DTYPE_t, ndim=1] params):\n",
    "#     for k in range(len(arr)):\n",
    "#         arr[k] = params[0]*sin(params[1]*arr[k]+params[2]) + params[3]\n",
    "    # return arr\n",
    "\n",
    "# def sin_func_py(x, params):\n",
    "#     return params[0]*numpy.sin(params[1]*x + params[2]) + params[3]\n",
    "\n",
    "def sin_func_py(x, amp, freq, phase, offset):\n",
    "    return amp*numpy.sin(freq*x + phase) + offset\n",
    "\n",
    "@cython.boundscheck(False)\n",
    "@cython.wraparound(False)\n",
    "cpdef double chisq(func, numpy.ndarray[DTYPE_t, ndim=1] x, numpy.ndarray[DTYPE_t, ndim=1] data, numpy.ndarray[DTYPE_t, ndim=1] params):\n",
    "    return numpy.sum((func(x, params) - data)**2)\n",
    "\n",
    "import scipy.optimize as optimize\n",
    "\n",
    "def chisq_py(func, x, data, params):\n",
    "    return sum((func(x, *params) - data)**2)\n",
    "\n",
    "def sfit(func, x, y, guess):\n",
    "    return optimize.basinhopping(\n",
    "                func = lambda params: chisq_py(func, x, y, params),\n",
    "                x0 = guess,\n",
    "                T = 1,\n",
    "                # minimizer_kwargs={\"jac\": lambda params: chisq_jac(sin_jac, x, y_data, params)}\n",
    "        ).x\n",
    "\n",
    "def fit(func, x, y, guess):\n",
    "    fit_params = optimize.minimize(\n",
    "                fun = lambda params: chisq_py(func, x, y, params),\n",
    "                x0 = guess,\n",
    "                jac = \"3-point\",\n",
    "                method=\"SLSQP\").x\n",
    "    return fit_params\n",
    "\n",
    "    \n",
    "@cython.boundscheck(False)\n",
    "@cython.wraparound(False)\n",
    "cpdef double chisq_f(numpy.ndarray[DTYPE_t, ndim=1] x, numpy.ndarray[DTYPE_t, ndim=1] data, numpy.ndarray[DTYPE_t, ndim=1] params):\n",
    "    for k in range(len(data)):\n",
    "        x[k] = params[0]*sin(params[1]*x[k]+params[2]) + params[3]\n",
    "\n",
    "    return sum((x - data)**2)"
   ]
  },
  {
   "cell_type": "code",
   "execution_count": 16,
   "metadata": {},
   "outputs": [],
   "source": [
    "guess = np.array([.5, .5, 0, 0])\n",
    "guess = [.5, .5, 0, 0]"
   ]
  },
  {
   "cell_type": "code",
   "execution_count": 38,
   "metadata": {},
   "outputs": [
    {
     "name": "stdout",
     "output_type": "stream",
     "text": [
      "572 ns ± 11.7 ns per loop (mean ± std. dev. of 7 runs, 1,000,000 loops each)\n"
     ]
    }
   ],
   "source": [
    "%timeit sin_func(x, guess)"
   ]
  },
  {
   "cell_type": "code",
   "execution_count": 39,
   "metadata": {},
   "outputs": [
    {
     "name": "stdout",
     "output_type": "stream",
     "text": [
      "5.58 µs ± 50.2 ns per loop (mean ± std. dev. of 7 runs, 100,000 loops each)\n"
     ]
    }
   ],
   "source": [
    "%timeit sin_func_py(x, guess)"
   ]
  },
  {
   "cell_type": "code",
   "execution_count": 93,
   "metadata": {},
   "outputs": [
    {
     "name": "stdout",
     "output_type": "stream",
     "text": [
      "4.89 µs ± 350 ns per loop (mean ± std. dev. of 7 runs, 100,000 loops each)\n"
     ]
    }
   ],
   "source": [
    "def sin_func_py(x, amp, freq, phase, offset):\n",
    "    return amp*np.sin(freq*x + phase) + offset\n",
    "\n",
    "%timeit sin_func_py(x, *guess)"
   ]
  },
  {
   "cell_type": "code",
   "execution_count": 88,
   "metadata": {},
   "outputs": [
    {
     "name": "stdout",
     "output_type": "stream",
     "text": [
      "1.34 ms ± 168 µs per loop (mean ± std. dev. of 7 runs, 1,000 loops each)\n"
     ]
    }
   ],
   "source": [
    "%timeit fit(sin_func_py, x, y, guess)"
   ]
  },
  {
   "cell_type": "code",
   "execution_count": 23,
   "metadata": {},
   "outputs": [
    {
     "name": "stdout",
     "output_type": "stream",
     "text": [
      "434 µs ± 15.2 µs per loop (mean ± std. dev. of 7 runs, 1,000 loops each)\n"
     ]
    }
   ],
   "source": [
    "%timeit fit(sin_func, x, y, guess)"
   ]
  },
  {
   "cell_type": "code",
   "execution_count": 25,
   "metadata": {},
   "outputs": [
    {
     "name": "stdout",
     "output_type": "stream",
     "text": [
      "450 µs ± 21.6 µs per loop (mean ± std. dev. of 7 runs, 1,000 loops each)\n"
     ]
    }
   ],
   "source": [
    "%timeit fit(sin_func_py, x, y, guess)"
   ]
  },
  {
   "cell_type": "code",
   "execution_count": 26,
   "metadata": {},
   "outputs": [
    {
     "name": "stdout",
     "output_type": "stream",
     "text": [
      "443 µs ± 9.2 µs per loop (mean ± std. dev. of 7 runs, 1,000 loops each)\n"
     ]
    }
   ],
   "source": [
    "%timeit fit(sin_func, x, y, guess)"
   ]
  },
  {
   "cell_type": "code",
   "execution_count": 29,
   "metadata": {},
   "outputs": [
    {
     "data": {
      "text/plain": [
       "array([ 6.58063209,  2.95088511,  0.0532956 , -0.34882249])"
      ]
     },
     "execution_count": 29,
     "metadata": {},
     "output_type": "execute_result"
    }
   ],
   "source": [
    "sfit(sin_func_py, x, y, guess)"
   ]
  },
  {
   "cell_type": "code",
   "execution_count": 34,
   "metadata": {},
   "outputs": [
    {
     "name": "stdout",
     "output_type": "stream",
     "text": [
      "478 ms ± 32.6 ms per loop (mean ± std. dev. of 7 runs, 1 loop each)\n"
     ]
    }
   ],
   "source": [
    "%timeit sfit_2(chisq_f, x, y, guess)"
   ]
  },
  {
   "cell_type": "code",
   "execution_count": null,
   "metadata": {},
   "outputs": [],
   "source": [
    "guess = [.5, .5, 0, 0]\n",
    "%timeit fit(sin_func, x, y, guess)"
   ]
  },
  {
   "cell_type": "code",
   "execution_count": 1,
   "metadata": {},
   "outputs": [],
   "source": [
    "def f_score_py(x):\n",
    "    return (x-1)**2\n",
    "\n",
    "def simple_fit_py(x0):\n",
    "    step = 1\n",
    "    direct = 1\n",
    "    score = 1\n",
    "    old_score = 1e6\n",
    "    \n",
    "    while score>1e-5:\n",
    "        x = x0 + step*direct\n",
    "        score = f_score_py(x)\n",
    "        # print(x, score)\n",
    "        if score<old_score:\n",
    "            x0 = x\n",
    "        else:\n",
    "            direct = -1*direct\n",
    "            step = step/2\n",
    "    \n",
    "    return x0"
   ]
  },
  {
   "cell_type": "code",
   "execution_count": 77,
   "metadata": {},
   "outputs": [
    {
     "name": "stdout",
     "output_type": "stream",
     "text": [
      "51.2 ms ± 7.64 ms per loop (mean ± std. dev. of 7 runs, 10 loops each)\n"
     ]
    }
   ],
   "source": [
    "%timeit simple_fit_py(-13.55)"
   ]
  },
  {
   "cell_type": "code",
   "execution_count": 9,
   "metadata": {},
   "outputs": [],
   "source": [
    "%%cython\n",
    "\n",
    "cpdef double f_score(double x):\n",
    "    return (x-1)**2\n",
    "\n",
    "cpdef double simple_fit(double x0):\n",
    "    cdef double step = 1.0\n",
    "    cdef double direct = 1\n",
    "    cdef double old_score = f_score(x0+step)\n",
    "    cdef double score = old_score\n",
    "    cdef double x = x0 + step\n",
    "    cdef double dx = 1\n",
    "    cdef int j = 10\n",
    "    while score>1e-5 and j>0:\n",
    "        j = j - 1\n",
    "        x = x0 + direct*dx\n",
    "        score = f_score(x)\n",
    "        print(x, score)\n",
    "        if score<old_score:\n",
    "            if score-old_score==0:\n",
    "                return x\n",
    "            dx = step#*abs(dx)#/(score-old_score)\n",
    "            x0 = x\n",
    "        else:\n",
    "            direct = -1*direct\n",
    "            step = step/2\n",
    "            dx = dx/2\n",
    "    \n",
    "    return x0"
   ]
  },
  {
   "cell_type": "code",
   "execution_count": 10,
   "metadata": {},
   "outputs": [
    {
     "name": "stdout",
     "output_type": "stream",
     "text": [
      "-12.55 183.60250000000002\n",
      "-14.05 226.50250000000003\n",
      "-13.3 204.49\n",
      "-13.675 215.35562500000003\n",
      "-13.4875 209.88765625000002\n",
      "-13.58125 212.61285156250003\n",
      "-13.534375 211.248056640625\n",
      "-13.5578125 211.92990478515628\n",
      "-13.54609375 211.58884338378908\n",
      "-13.551953125 211.7593397521973\n"
     ]
    },
    {
     "data": {
      "text/plain": [
       "-13.55"
      ]
     },
     "execution_count": 10,
     "metadata": {},
     "output_type": "execute_result"
    }
   ],
   "source": [
    "simple_fit(-13.55)"
   ]
  },
  {
   "cell_type": "code",
   "execution_count": 95,
   "metadata": {},
   "outputs": [
    {
     "ename": "ZeroDivisionError",
     "evalue": "float division",
     "output_type": "error",
     "traceback": [
      "\u001b[0;31m---------------------------------------------------------------------------\u001b[0m",
      "\u001b[0;31mZeroDivisionError\u001b[0m                         Traceback (most recent call last)",
      "\u001b[0;31mZeroDivisionError\u001b[0m: float division"
     ]
    },
    {
     "name": "stderr",
     "output_type": "stream",
     "text": [
      "Exception ignored in: '_cython_magic_d33e5aada1040c975bde92b13d65fed9.simple_fit'\n",
      "Traceback (most recent call last):\n",
      "  File \"<magic-timeit>\", line 1, in inner\n",
      "ZeroDivisionError: float division\n"
     ]
    },
    {
     "ename": "ZeroDivisionError",
     "evalue": "float division",
     "output_type": "error",
     "traceback": [
      "\u001b[0;31m---------------------------------------------------------------------------\u001b[0m",
      "\u001b[0;31mZeroDivisionError\u001b[0m                         Traceback (most recent call last)",
      "\u001b[0;31mZeroDivisionError\u001b[0m: float division"
     ]
    },
    {
     "name": "stderr",
     "output_type": "stream",
     "text": [
      "Exception ignored in: '_cython_magic_d33e5aada1040c975bde92b13d65fed9.simple_fit'\n",
      "Traceback (most recent call last):\n",
      "  File \"<magic-timeit>\", line 1, in inner\n",
      "ZeroDivisionError: float division\n"
     ]
    },
    {
     "ename": "ZeroDivisionError",
     "evalue": "float division",
     "output_type": "error",
     "traceback": [
      "\u001b[0;31m---------------------------------------------------------------------------\u001b[0m",
      "\u001b[0;31mZeroDivisionError\u001b[0m                         Traceback (most recent call last)",
      "\u001b[0;31mZeroDivisionError\u001b[0m: float division"
     ]
    },
    {
     "name": "stderr",
     "output_type": "stream",
     "text": [
      "Exception ignored in: '_cython_magic_d33e5aada1040c975bde92b13d65fed9.simple_fit'\n",
      "Traceback (most recent call last):\n",
      "  File \"<magic-timeit>\", line 1, in inner\n",
      "ZeroDivisionError: float division\n"
     ]
    },
    {
     "ename": "ZeroDivisionError",
     "evalue": "float division",
     "output_type": "error",
     "traceback": [
      "\u001b[0;31m---------------------------------------------------------------------------\u001b[0m",
      "\u001b[0;31mZeroDivisionError\u001b[0m                         Traceback (most recent call last)",
      "\u001b[0;31mZeroDivisionError\u001b[0m: float division"
     ]
    },
    {
     "name": "stderr",
     "output_type": "stream",
     "text": [
      "Exception ignored in: '_cython_magic_d33e5aada1040c975bde92b13d65fed9.simple_fit'\n",
      "Traceback (most recent call last):\n",
      "  File \"<magic-timeit>\", line 1, in inner\n",
      "ZeroDivisionError: float division\n"
     ]
    },
    {
     "ename": "ZeroDivisionError",
     "evalue": "float division",
     "output_type": "error",
     "traceback": [
      "\u001b[0;31m---------------------------------------------------------------------------\u001b[0m",
      "\u001b[0;31mZeroDivisionError\u001b[0m                         Traceback (most recent call last)",
      "\u001b[0;31mZeroDivisionError\u001b[0m: float division"
     ]
    },
    {
     "name": "stderr",
     "output_type": "stream",
     "text": [
      "Exception ignored in: '_cython_magic_d33e5aada1040c975bde92b13d65fed9.simple_fit'\n",
      "Traceback (most recent call last):\n",
      "  File \"<magic-timeit>\", line 1, in inner\n",
      "ZeroDivisionError: float division\n"
     ]
    },
    {
     "ename": "ZeroDivisionError",
     "evalue": "float division",
     "output_type": "error",
     "traceback": [
      "\u001b[0;31m---------------------------------------------------------------------------\u001b[0m",
      "\u001b[0;31mZeroDivisionError\u001b[0m                         Traceback (most recent call last)",
      "\u001b[0;31mZeroDivisionError\u001b[0m: float division"
     ]
    },
    {
     "name": "stderr",
     "output_type": "stream",
     "text": [
      "Exception ignored in: '_cython_magic_d33e5aada1040c975bde92b13d65fed9.simple_fit'\n",
      "Traceback (most recent call last):\n",
      "  File \"<magic-timeit>\", line 1, in inner\n",
      "ZeroDivisionError: float division\n"
     ]
    },
    {
     "ename": "ZeroDivisionError",
     "evalue": "float division",
     "output_type": "error",
     "traceback": [
      "\u001b[0;31m---------------------------------------------------------------------------\u001b[0m",
      "\u001b[0;31mZeroDivisionError\u001b[0m                         Traceback (most recent call last)",
      "\u001b[0;31mZeroDivisionError\u001b[0m: float division"
     ]
    },
    {
     "name": "stderr",
     "output_type": "stream",
     "text": [
      "Exception ignored in: '_cython_magic_d33e5aada1040c975bde92b13d65fed9.simple_fit'\n",
      "Traceback (most recent call last):\n",
      "  File \"<magic-timeit>\", line 1, in inner\n",
      "ZeroDivisionError: float division\n"
     ]
    },
    {
     "ename": "ZeroDivisionError",
     "evalue": "float division",
     "output_type": "error",
     "traceback": [
      "\u001b[0;31m---------------------------------------------------------------------------\u001b[0m",
      "\u001b[0;31mZeroDivisionError\u001b[0m                         Traceback (most recent call last)",
      "\u001b[0;31mZeroDivisionError\u001b[0m: float division"
     ]
    },
    {
     "name": "stderr",
     "output_type": "stream",
     "text": [
      "Exception ignored in: '_cython_magic_d33e5aada1040c975bde92b13d65fed9.simple_fit'\n",
      "Traceback (most recent call last):\n",
      "  File \"<magic-timeit>\", line 1, in inner\n",
      "ZeroDivisionError: float division\n"
     ]
    },
    {
     "ename": "ZeroDivisionError",
     "evalue": "float division",
     "output_type": "error",
     "traceback": [
      "\u001b[0;31m---------------------------------------------------------------------------\u001b[0m",
      "\u001b[0;31mZeroDivisionError\u001b[0m                         Traceback (most recent call last)",
      "\u001b[0;31mZeroDivisionError\u001b[0m: float division"
     ]
    },
    {
     "name": "stderr",
     "output_type": "stream",
     "text": [
      "Exception ignored in: '_cython_magic_d33e5aada1040c975bde92b13d65fed9.simple_fit'\n",
      "Traceback (most recent call last):\n",
      "  File \"<magic-timeit>\", line 1, in inner\n",
      "ZeroDivisionError: float division\n"
     ]
    },
    {
     "ename": "ZeroDivisionError",
     "evalue": "float division",
     "output_type": "error",
     "traceback": [
      "\u001b[0;31m---------------------------------------------------------------------------\u001b[0m",
      "\u001b[0;31mZeroDivisionError\u001b[0m                         Traceback (most recent call last)",
      "\u001b[0;31mZeroDivisionError\u001b[0m: float division"
     ]
    },
    {
     "name": "stderr",
     "output_type": "stream",
     "text": [
      "Exception ignored in: '_cython_magic_d33e5aada1040c975bde92b13d65fed9.simple_fit'\n",
      "Traceback (most recent call last):\n",
      "  File \"<magic-timeit>\", line 1, in inner\n",
      "ZeroDivisionError: float division\n"
     ]
    },
    {
     "ename": "ZeroDivisionError",
     "evalue": "float division",
     "output_type": "error",
     "traceback": [
      "\u001b[0;31m---------------------------------------------------------------------------\u001b[0m",
      "\u001b[0;31mZeroDivisionError\u001b[0m                         Traceback (most recent call last)",
      "\u001b[0;31mZeroDivisionError\u001b[0m: float division"
     ]
    },
    {
     "name": "stderr",
     "output_type": "stream",
     "text": [
      "Exception ignored in: '_cython_magic_d33e5aada1040c975bde92b13d65fed9.simple_fit'\n",
      "Traceback (most recent call last):\n",
      "  File \"<magic-timeit>\", line 1, in inner\n",
      "ZeroDivisionError: float division\n"
     ]
    },
    {
     "ename": "ZeroDivisionError",
     "evalue": "float division",
     "output_type": "error",
     "traceback": [
      "\u001b[0;31m---------------------------------------------------------------------------\u001b[0m",
      "\u001b[0;31mZeroDivisionError\u001b[0m                         Traceback (most recent call last)",
      "\u001b[0;31mZeroDivisionError\u001b[0m: float division"
     ]
    },
    {
     "name": "stderr",
     "output_type": "stream",
     "text": [
      "Exception ignored in: '_cython_magic_d33e5aada1040c975bde92b13d65fed9.simple_fit'\n",
      "Traceback (most recent call last):\n",
      "  File \"<magic-timeit>\", line 1, in inner\n",
      "ZeroDivisionError: float division\n"
     ]
    },
    {
     "ename": "ZeroDivisionError",
     "evalue": "float division",
     "output_type": "error",
     "traceback": [
      "\u001b[0;31m---------------------------------------------------------------------------\u001b[0m",
      "\u001b[0;31mZeroDivisionError\u001b[0m                         Traceback (most recent call last)",
      "\u001b[0;31mZeroDivisionError\u001b[0m: float division"
     ]
    },
    {
     "name": "stderr",
     "output_type": "stream",
     "text": [
      "Exception ignored in: '_cython_magic_d33e5aada1040c975bde92b13d65fed9.simple_fit'\n",
      "Traceback (most recent call last):\n",
      "  File \"<magic-timeit>\", line 1, in inner\n",
      "ZeroDivisionError: float division\n"
     ]
    },
    {
     "ename": "ZeroDivisionError",
     "evalue": "float division",
     "output_type": "error",
     "traceback": [
      "\u001b[0;31m---------------------------------------------------------------------------\u001b[0m",
      "\u001b[0;31mZeroDivisionError\u001b[0m                         Traceback (most recent call last)",
      "\u001b[0;31mZeroDivisionError\u001b[0m: float division"
     ]
    },
    {
     "name": "stderr",
     "output_type": "stream",
     "text": [
      "Exception ignored in: '_cython_magic_d33e5aada1040c975bde92b13d65fed9.simple_fit'\n",
      "Traceback (most recent call last):\n",
      "  File \"<magic-timeit>\", line 1, in inner\n",
      "ZeroDivisionError: float division\n"
     ]
    },
    {
     "ename": "ZeroDivisionError",
     "evalue": "float division",
     "output_type": "error",
     "traceback": [
      "\u001b[0;31m---------------------------------------------------------------------------\u001b[0m",
      "\u001b[0;31mZeroDivisionError\u001b[0m                         Traceback (most recent call last)",
      "\u001b[0;31mZeroDivisionError\u001b[0m: float division"
     ]
    },
    {
     "name": "stderr",
     "output_type": "stream",
     "text": [
      "Exception ignored in: '_cython_magic_d33e5aada1040c975bde92b13d65fed9.simple_fit'\n",
      "Traceback (most recent call last):\n",
      "  File \"<magic-timeit>\", line 1, in inner\n",
      "ZeroDivisionError: float division\n"
     ]
    },
    {
     "ename": "ZeroDivisionError",
     "evalue": "float division",
     "output_type": "error",
     "traceback": [
      "\u001b[0;31m---------------------------------------------------------------------------\u001b[0m",
      "\u001b[0;31mZeroDivisionError\u001b[0m                         Traceback (most recent call last)",
      "\u001b[0;31mZeroDivisionError\u001b[0m: float division"
     ]
    },
    {
     "name": "stderr",
     "output_type": "stream",
     "text": [
      "Exception ignored in: '_cython_magic_d33e5aada1040c975bde92b13d65fed9.simple_fit'\n",
      "Traceback (most recent call last):\n",
      "  File \"<magic-timeit>\", line 1, in inner\n",
      "ZeroDivisionError: float division\n"
     ]
    },
    {
     "ename": "ZeroDivisionError",
     "evalue": "float division",
     "output_type": "error",
     "traceback": [
      "\u001b[0;31m---------------------------------------------------------------------------\u001b[0m",
      "\u001b[0;31mZeroDivisionError\u001b[0m                         Traceback (most recent call last)",
      "\u001b[0;31mZeroDivisionError\u001b[0m: float division"
     ]
    },
    {
     "name": "stderr",
     "output_type": "stream",
     "text": [
      "Exception ignored in: '_cython_magic_d33e5aada1040c975bde92b13d65fed9.simple_fit'\n",
      "Traceback (most recent call last):\n",
      "  File \"<magic-timeit>\", line 1, in inner\n",
      "ZeroDivisionError: float division\n"
     ]
    },
    {
     "ename": "ZeroDivisionError",
     "evalue": "float division",
     "output_type": "error",
     "traceback": [
      "\u001b[0;31m---------------------------------------------------------------------------\u001b[0m",
      "\u001b[0;31mZeroDivisionError\u001b[0m                         Traceback (most recent call last)",
      "\u001b[0;31mZeroDivisionError\u001b[0m: float division"
     ]
    },
    {
     "name": "stderr",
     "output_type": "stream",
     "text": [
      "Exception ignored in: '_cython_magic_d33e5aada1040c975bde92b13d65fed9.simple_fit'\n",
      "Traceback (most recent call last):\n",
      "  File \"<magic-timeit>\", line 1, in inner\n",
      "ZeroDivisionError: float division\n"
     ]
    },
    {
     "ename": "ZeroDivisionError",
     "evalue": "float division",
     "output_type": "error",
     "traceback": [
      "\u001b[0;31m---------------------------------------------------------------------------\u001b[0m",
      "\u001b[0;31mZeroDivisionError\u001b[0m                         Traceback (most recent call last)",
      "\u001b[0;31mZeroDivisionError\u001b[0m: float division"
     ]
    },
    {
     "name": "stderr",
     "output_type": "stream",
     "text": [
      "Exception ignored in: '_cython_magic_d33e5aada1040c975bde92b13d65fed9.simple_fit'\n",
      "Traceback (most recent call last):\n",
      "  File \"<magic-timeit>\", line 1, in inner\n",
      "ZeroDivisionError: float division\n"
     ]
    },
    {
     "ename": "ZeroDivisionError",
     "evalue": "float division",
     "output_type": "error",
     "traceback": [
      "\u001b[0;31m---------------------------------------------------------------------------\u001b[0m",
      "\u001b[0;31mZeroDivisionError\u001b[0m                         Traceback (most recent call last)",
      "\u001b[0;31mZeroDivisionError\u001b[0m: float division"
     ]
    },
    {
     "name": "stderr",
     "output_type": "stream",
     "text": [
      "Exception ignored in: '_cython_magic_d33e5aada1040c975bde92b13d65fed9.simple_fit'\n",
      "Traceback (most recent call last):\n",
      "  File \"<magic-timeit>\", line 1, in inner\n",
      "ZeroDivisionError: float division\n"
     ]
    },
    {
     "ename": "ZeroDivisionError",
     "evalue": "float division",
     "output_type": "error",
     "traceback": [
      "\u001b[0;31m---------------------------------------------------------------------------\u001b[0m",
      "\u001b[0;31mZeroDivisionError\u001b[0m                         Traceback (most recent call last)",
      "\u001b[0;31mZeroDivisionError\u001b[0m: float division"
     ]
    },
    {
     "name": "stderr",
     "output_type": "stream",
     "text": [
      "Exception ignored in: '_cython_magic_d33e5aada1040c975bde92b13d65fed9.simple_fit'\n",
      "Traceback (most recent call last):\n",
      "  File \"<magic-timeit>\", line 1, in inner\n",
      "ZeroDivisionError: float division\n"
     ]
    },
    {
     "ename": "ZeroDivisionError",
     "evalue": "float division",
     "output_type": "error",
     "traceback": [
      "\u001b[0;31m---------------------------------------------------------------------------\u001b[0m",
      "\u001b[0;31mZeroDivisionError\u001b[0m                         Traceback (most recent call last)",
      "\u001b[0;31mZeroDivisionError\u001b[0m: float division"
     ]
    },
    {
     "name": "stderr",
     "output_type": "stream",
     "text": [
      "Exception ignored in: '_cython_magic_d33e5aada1040c975bde92b13d65fed9.simple_fit'\n",
      "Traceback (most recent call last):\n",
      "  File \"<magic-timeit>\", line 1, in inner\n",
      "ZeroDivisionError: float division\n"
     ]
    },
    {
     "ename": "ZeroDivisionError",
     "evalue": "float division",
     "output_type": "error",
     "traceback": [
      "\u001b[0;31m---------------------------------------------------------------------------\u001b[0m",
      "\u001b[0;31mZeroDivisionError\u001b[0m                         Traceback (most recent call last)",
      "\u001b[0;31mZeroDivisionError\u001b[0m: float division"
     ]
    },
    {
     "name": "stderr",
     "output_type": "stream",
     "text": [
      "Exception ignored in: '_cython_magic_d33e5aada1040c975bde92b13d65fed9.simple_fit'\n",
      "Traceback (most recent call last):\n",
      "  File \"<magic-timeit>\", line 1, in inner\n",
      "ZeroDivisionError: float division\n"
     ]
    },
    {
     "ename": "ZeroDivisionError",
     "evalue": "float division",
     "output_type": "error",
     "traceback": [
      "\u001b[0;31m---------------------------------------------------------------------------\u001b[0m",
      "\u001b[0;31mZeroDivisionError\u001b[0m                         Traceback (most recent call last)",
      "\u001b[0;31mZeroDivisionError\u001b[0m: float division"
     ]
    },
    {
     "name": "stderr",
     "output_type": "stream",
     "text": [
      "Exception ignored in: '_cython_magic_d33e5aada1040c975bde92b13d65fed9.simple_fit'\n",
      "Traceback (most recent call last):\n",
      "  File \"<magic-timeit>\", line 1, in inner\n",
      "ZeroDivisionError: float division\n"
     ]
    },
    {
     "ename": "ZeroDivisionError",
     "evalue": "float division",
     "output_type": "error",
     "traceback": [
      "\u001b[0;31m---------------------------------------------------------------------------\u001b[0m",
      "\u001b[0;31mZeroDivisionError\u001b[0m                         Traceback (most recent call last)",
      "\u001b[0;31mZeroDivisionError\u001b[0m: float division"
     ]
    },
    {
     "name": "stderr",
     "output_type": "stream",
     "text": [
      "Exception ignored in: '_cython_magic_d33e5aada1040c975bde92b13d65fed9.simple_fit'\n",
      "Traceback (most recent call last):\n",
      "  File \"<magic-timeit>\", line 1, in inner\n",
      "ZeroDivisionError: float division\n"
     ]
    },
    {
     "ename": "ZeroDivisionError",
     "evalue": "float division",
     "output_type": "error",
     "traceback": [
      "\u001b[0;31m---------------------------------------------------------------------------\u001b[0m",
      "\u001b[0;31mZeroDivisionError\u001b[0m                         Traceback (most recent call last)",
      "\u001b[0;31mZeroDivisionError\u001b[0m: float division"
     ]
    },
    {
     "name": "stderr",
     "output_type": "stream",
     "text": [
      "Exception ignored in: '_cython_magic_d33e5aada1040c975bde92b13d65fed9.simple_fit'\n",
      "Traceback (most recent call last):\n",
      "  File \"<magic-timeit>\", line 1, in inner\n",
      "ZeroDivisionError: float division\n"
     ]
    },
    {
     "ename": "ZeroDivisionError",
     "evalue": "float division",
     "output_type": "error",
     "traceback": [
      "\u001b[0;31m---------------------------------------------------------------------------\u001b[0m",
      "\u001b[0;31mZeroDivisionError\u001b[0m                         Traceback (most recent call last)",
      "\u001b[0;31mZeroDivisionError\u001b[0m: float division"
     ]
    },
    {
     "name": "stderr",
     "output_type": "stream",
     "text": [
      "Exception ignored in: '_cython_magic_d33e5aada1040c975bde92b13d65fed9.simple_fit'\n",
      "Traceback (most recent call last):\n",
      "  File \"<magic-timeit>\", line 1, in inner\n",
      "ZeroDivisionError: float division\n"
     ]
    },
    {
     "ename": "ZeroDivisionError",
     "evalue": "float division",
     "output_type": "error",
     "traceback": [
      "\u001b[0;31m---------------------------------------------------------------------------\u001b[0m",
      "\u001b[0;31mZeroDivisionError\u001b[0m                         Traceback (most recent call last)",
      "\u001b[0;31mZeroDivisionError\u001b[0m: float division"
     ]
    },
    {
     "name": "stderr",
     "output_type": "stream",
     "text": [
      "Exception ignored in: '_cython_magic_d33e5aada1040c975bde92b13d65fed9.simple_fit'\n",
      "Traceback (most recent call last):\n",
      "  File \"<magic-timeit>\", line 1, in inner\n",
      "ZeroDivisionError: float division\n"
     ]
    },
    {
     "ename": "ZeroDivisionError",
     "evalue": "float division",
     "output_type": "error",
     "traceback": [
      "\u001b[0;31m---------------------------------------------------------------------------\u001b[0m",
      "\u001b[0;31mZeroDivisionError\u001b[0m                         Traceback (most recent call last)",
      "\u001b[0;31mZeroDivisionError\u001b[0m: float division"
     ]
    },
    {
     "name": "stderr",
     "output_type": "stream",
     "text": [
      "Exception ignored in: '_cython_magic_d33e5aada1040c975bde92b13d65fed9.simple_fit'\n",
      "Traceback (most recent call last):\n",
      "  File \"<magic-timeit>\", line 1, in inner\n",
      "ZeroDivisionError: float division\n"
     ]
    },
    {
     "ename": "ZeroDivisionError",
     "evalue": "float division",
     "output_type": "error",
     "traceback": [
      "\u001b[0;31m---------------------------------------------------------------------------\u001b[0m",
      "\u001b[0;31mZeroDivisionError\u001b[0m                         Traceback (most recent call last)",
      "\u001b[0;31mZeroDivisionError\u001b[0m: float division"
     ]
    },
    {
     "name": "stderr",
     "output_type": "stream",
     "text": [
      "Exception ignored in: '_cython_magic_d33e5aada1040c975bde92b13d65fed9.simple_fit'\n",
      "Traceback (most recent call last):\n",
      "  File \"<magic-timeit>\", line 1, in inner\n",
      "ZeroDivisionError: float division\n"
     ]
    },
    {
     "ename": "ZeroDivisionError",
     "evalue": "float division",
     "output_type": "error",
     "traceback": [
      "\u001b[0;31m---------------------------------------------------------------------------\u001b[0m",
      "\u001b[0;31mZeroDivisionError\u001b[0m                         Traceback (most recent call last)",
      "\u001b[0;31mZeroDivisionError\u001b[0m: float division"
     ]
    },
    {
     "name": "stderr",
     "output_type": "stream",
     "text": [
      "Exception ignored in: '_cython_magic_d33e5aada1040c975bde92b13d65fed9.simple_fit'\n",
      "Traceback (most recent call last):\n",
      "  File \"<magic-timeit>\", line 1, in inner\n",
      "ZeroDivisionError: float division\n"
     ]
    },
    {
     "ename": "ZeroDivisionError",
     "evalue": "float division",
     "output_type": "error",
     "traceback": [
      "\u001b[0;31m---------------------------------------------------------------------------\u001b[0m",
      "\u001b[0;31mZeroDivisionError\u001b[0m                         Traceback (most recent call last)",
      "\u001b[0;31mZeroDivisionError\u001b[0m: float division"
     ]
    },
    {
     "name": "stderr",
     "output_type": "stream",
     "text": [
      "Exception ignored in: '_cython_magic_d33e5aada1040c975bde92b13d65fed9.simple_fit'\n",
      "Traceback (most recent call last):\n",
      "  File \"<magic-timeit>\", line 1, in inner\n",
      "ZeroDivisionError: float division\n"
     ]
    },
    {
     "ename": "ZeroDivisionError",
     "evalue": "float division",
     "output_type": "error",
     "traceback": [
      "\u001b[0;31m---------------------------------------------------------------------------\u001b[0m",
      "\u001b[0;31mZeroDivisionError\u001b[0m                         Traceback (most recent call last)",
      "\u001b[0;31mZeroDivisionError\u001b[0m: float division"
     ]
    },
    {
     "name": "stderr",
     "output_type": "stream",
     "text": [
      "Exception ignored in: '_cython_magic_d33e5aada1040c975bde92b13d65fed9.simple_fit'\n",
      "Traceback (most recent call last):\n",
      "  File \"<magic-timeit>\", line 1, in inner\n",
      "ZeroDivisionError: float division\n"
     ]
    },
    {
     "ename": "ZeroDivisionError",
     "evalue": "float division",
     "output_type": "error",
     "traceback": [
      "\u001b[0;31m---------------------------------------------------------------------------\u001b[0m",
      "\u001b[0;31mZeroDivisionError\u001b[0m                         Traceback (most recent call last)",
      "\u001b[0;31mZeroDivisionError\u001b[0m: float division"
     ]
    },
    {
     "name": "stderr",
     "output_type": "stream",
     "text": [
      "Exception ignored in: '_cython_magic_d33e5aada1040c975bde92b13d65fed9.simple_fit'\n",
      "Traceback (most recent call last):\n",
      "  File \"<magic-timeit>\", line 1, in inner\n",
      "ZeroDivisionError: float division\n"
     ]
    },
    {
     "ename": "ZeroDivisionError",
     "evalue": "float division",
     "output_type": "error",
     "traceback": [
      "\u001b[0;31m---------------------------------------------------------------------------\u001b[0m",
      "\u001b[0;31mZeroDivisionError\u001b[0m                         Traceback (most recent call last)",
      "\u001b[0;31mZeroDivisionError\u001b[0m: float division"
     ]
    },
    {
     "name": "stderr",
     "output_type": "stream",
     "text": [
      "Exception ignored in: '_cython_magic_d33e5aada1040c975bde92b13d65fed9.simple_fit'\n",
      "Traceback (most recent call last):\n",
      "  File \"<magic-timeit>\", line 1, in inner\n",
      "ZeroDivisionError: float division\n"
     ]
    },
    {
     "ename": "ZeroDivisionError",
     "evalue": "float division",
     "output_type": "error",
     "traceback": [
      "\u001b[0;31m---------------------------------------------------------------------------\u001b[0m",
      "\u001b[0;31mZeroDivisionError\u001b[0m                         Traceback (most recent call last)",
      "\u001b[0;31mZeroDivisionError\u001b[0m: float division"
     ]
    },
    {
     "name": "stderr",
     "output_type": "stream",
     "text": [
      "Exception ignored in: '_cython_magic_d33e5aada1040c975bde92b13d65fed9.simple_fit'\n",
      "Traceback (most recent call last):\n",
      "  File \"<magic-timeit>\", line 1, in inner\n",
      "ZeroDivisionError: float division\n"
     ]
    },
    {
     "ename": "ZeroDivisionError",
     "evalue": "float division",
     "output_type": "error",
     "traceback": [
      "\u001b[0;31m---------------------------------------------------------------------------\u001b[0m",
      "\u001b[0;31mZeroDivisionError\u001b[0m                         Traceback (most recent call last)",
      "\u001b[0;31mZeroDivisionError\u001b[0m: float division"
     ]
    },
    {
     "name": "stderr",
     "output_type": "stream",
     "text": [
      "Exception ignored in: '_cython_magic_d33e5aada1040c975bde92b13d65fed9.simple_fit'\n",
      "Traceback (most recent call last):\n",
      "  File \"<magic-timeit>\", line 1, in inner\n",
      "ZeroDivisionError: float division\n"
     ]
    },
    {
     "ename": "ZeroDivisionError",
     "evalue": "float division",
     "output_type": "error",
     "traceback": [
      "\u001b[0;31m---------------------------------------------------------------------------\u001b[0m",
      "\u001b[0;31mZeroDivisionError\u001b[0m                         Traceback (most recent call last)",
      "\u001b[0;31mZeroDivisionError\u001b[0m: float division"
     ]
    },
    {
     "name": "stderr",
     "output_type": "stream",
     "text": [
      "Exception ignored in: '_cython_magic_d33e5aada1040c975bde92b13d65fed9.simple_fit'\n",
      "Traceback (most recent call last):\n",
      "  File \"<magic-timeit>\", line 1, in inner\n",
      "ZeroDivisionError: float division\n"
     ]
    },
    {
     "ename": "ZeroDivisionError",
     "evalue": "float division",
     "output_type": "error",
     "traceback": [
      "\u001b[0;31m---------------------------------------------------------------------------\u001b[0m",
      "\u001b[0;31mZeroDivisionError\u001b[0m                         Traceback (most recent call last)",
      "\u001b[0;31mZeroDivisionError\u001b[0m: float division"
     ]
    },
    {
     "name": "stderr",
     "output_type": "stream",
     "text": [
      "Exception ignored in: '_cython_magic_d33e5aada1040c975bde92b13d65fed9.simple_fit'\n",
      "Traceback (most recent call last):\n",
      "  File \"<magic-timeit>\", line 1, in inner\n",
      "ZeroDivisionError: float division\n"
     ]
    },
    {
     "ename": "ZeroDivisionError",
     "evalue": "float division",
     "output_type": "error",
     "traceback": [
      "\u001b[0;31m---------------------------------------------------------------------------\u001b[0m",
      "\u001b[0;31mZeroDivisionError\u001b[0m                         Traceback (most recent call last)",
      "\u001b[0;31mZeroDivisionError\u001b[0m: float division"
     ]
    },
    {
     "name": "stderr",
     "output_type": "stream",
     "text": [
      "Exception ignored in: '_cython_magic_d33e5aada1040c975bde92b13d65fed9.simple_fit'\n",
      "Traceback (most recent call last):\n",
      "  File \"<magic-timeit>\", line 1, in inner\n",
      "ZeroDivisionError: float division\n"
     ]
    },
    {
     "ename": "ZeroDivisionError",
     "evalue": "float division",
     "output_type": "error",
     "traceback": [
      "\u001b[0;31m---------------------------------------------------------------------------\u001b[0m",
      "\u001b[0;31mZeroDivisionError\u001b[0m                         Traceback (most recent call last)",
      "\u001b[0;31mZeroDivisionError\u001b[0m: float division"
     ]
    },
    {
     "name": "stderr",
     "output_type": "stream",
     "text": [
      "Exception ignored in: '_cython_magic_d33e5aada1040c975bde92b13d65fed9.simple_fit'\n",
      "Traceback (most recent call last):\n",
      "  File \"<magic-timeit>\", line 1, in inner\n",
      "ZeroDivisionError: float division\n"
     ]
    },
    {
     "ename": "ZeroDivisionError",
     "evalue": "float division",
     "output_type": "error",
     "traceback": [
      "\u001b[0;31m---------------------------------------------------------------------------\u001b[0m",
      "\u001b[0;31mZeroDivisionError\u001b[0m                         Traceback (most recent call last)",
      "\u001b[0;31mZeroDivisionError\u001b[0m: float division"
     ]
    },
    {
     "name": "stderr",
     "output_type": "stream",
     "text": [
      "Exception ignored in: '_cython_magic_d33e5aada1040c975bde92b13d65fed9.simple_fit'\n",
      "Traceback (most recent call last):\n",
      "  File \"<magic-timeit>\", line 1, in inner\n",
      "ZeroDivisionError: float division\n"
     ]
    },
    {
     "ename": "ZeroDivisionError",
     "evalue": "float division",
     "output_type": "error",
     "traceback": [
      "\u001b[0;31m---------------------------------------------------------------------------\u001b[0m",
      "\u001b[0;31mZeroDivisionError\u001b[0m                         Traceback (most recent call last)",
      "\u001b[0;31mZeroDivisionError\u001b[0m: float division"
     ]
    },
    {
     "name": "stderr",
     "output_type": "stream",
     "text": [
      "Exception ignored in: '_cython_magic_d33e5aada1040c975bde92b13d65fed9.simple_fit'\n",
      "Traceback (most recent call last):\n",
      "  File \"<magic-timeit>\", line 1, in inner\n",
      "ZeroDivisionError: float division\n"
     ]
    },
    {
     "ename": "ZeroDivisionError",
     "evalue": "float division",
     "output_type": "error",
     "traceback": [
      "\u001b[0;31m---------------------------------------------------------------------------\u001b[0m",
      "\u001b[0;31mZeroDivisionError\u001b[0m                         Traceback (most recent call last)",
      "\u001b[0;31mZeroDivisionError\u001b[0m: float division"
     ]
    },
    {
     "name": "stderr",
     "output_type": "stream",
     "text": [
      "Exception ignored in: '_cython_magic_d33e5aada1040c975bde92b13d65fed9.simple_fit'\n",
      "Traceback (most recent call last):\n",
      "  File \"<magic-timeit>\", line 1, in inner\n",
      "ZeroDivisionError: float division\n"
     ]
    },
    {
     "ename": "ZeroDivisionError",
     "evalue": "float division",
     "output_type": "error",
     "traceback": [
      "\u001b[0;31m---------------------------------------------------------------------------\u001b[0m",
      "\u001b[0;31mZeroDivisionError\u001b[0m                         Traceback (most recent call last)",
      "\u001b[0;31mZeroDivisionError\u001b[0m: float division"
     ]
    },
    {
     "name": "stderr",
     "output_type": "stream",
     "text": [
      "Exception ignored in: '_cython_magic_d33e5aada1040c975bde92b13d65fed9.simple_fit'\n",
      "Traceback (most recent call last):\n",
      "  File \"<magic-timeit>\", line 1, in inner\n",
      "ZeroDivisionError: float division\n"
     ]
    },
    {
     "ename": "ZeroDivisionError",
     "evalue": "float division",
     "output_type": "error",
     "traceback": [
      "\u001b[0;31m---------------------------------------------------------------------------\u001b[0m",
      "\u001b[0;31mZeroDivisionError\u001b[0m                         Traceback (most recent call last)",
      "\u001b[0;31mZeroDivisionError\u001b[0m: float division"
     ]
    },
    {
     "name": "stderr",
     "output_type": "stream",
     "text": [
      "Exception ignored in: '_cython_magic_d33e5aada1040c975bde92b13d65fed9.simple_fit'\n",
      "Traceback (most recent call last):\n",
      "  File \"<magic-timeit>\", line 1, in inner\n",
      "ZeroDivisionError: float division\n"
     ]
    },
    {
     "ename": "ZeroDivisionError",
     "evalue": "float division",
     "output_type": "error",
     "traceback": [
      "\u001b[0;31m---------------------------------------------------------------------------\u001b[0m",
      "\u001b[0;31mZeroDivisionError\u001b[0m                         Traceback (most recent call last)",
      "\u001b[0;31mZeroDivisionError\u001b[0m: float division"
     ]
    },
    {
     "name": "stderr",
     "output_type": "stream",
     "text": [
      "Exception ignored in: '_cython_magic_d33e5aada1040c975bde92b13d65fed9.simple_fit'\n",
      "Traceback (most recent call last):\n",
      "  File \"<magic-timeit>\", line 1, in inner\n",
      "ZeroDivisionError: float division\n"
     ]
    },
    {
     "ename": "ZeroDivisionError",
     "evalue": "float division",
     "output_type": "error",
     "traceback": [
      "\u001b[0;31m---------------------------------------------------------------------------\u001b[0m",
      "\u001b[0;31mZeroDivisionError\u001b[0m                         Traceback (most recent call last)",
      "\u001b[0;31mZeroDivisionError\u001b[0m: float division"
     ]
    },
    {
     "name": "stderr",
     "output_type": "stream",
     "text": [
      "Exception ignored in: '_cython_magic_d33e5aada1040c975bde92b13d65fed9.simple_fit'\n",
      "Traceback (most recent call last):\n",
      "  File \"<magic-timeit>\", line 1, in inner\n",
      "ZeroDivisionError: float division\n"
     ]
    },
    {
     "ename": "ZeroDivisionError",
     "evalue": "float division",
     "output_type": "error",
     "traceback": [
      "\u001b[0;31m---------------------------------------------------------------------------\u001b[0m",
      "\u001b[0;31mZeroDivisionError\u001b[0m                         Traceback (most recent call last)",
      "\u001b[0;31mZeroDivisionError\u001b[0m: float division"
     ]
    },
    {
     "name": "stderr",
     "output_type": "stream",
     "text": [
      "Exception ignored in: '_cython_magic_d33e5aada1040c975bde92b13d65fed9.simple_fit'\n",
      "Traceback (most recent call last):\n",
      "  File \"<magic-timeit>\", line 1, in inner\n",
      "ZeroDivisionError: float division\n"
     ]
    },
    {
     "ename": "ZeroDivisionError",
     "evalue": "float division",
     "output_type": "error",
     "traceback": [
      "\u001b[0;31m---------------------------------------------------------------------------\u001b[0m",
      "\u001b[0;31mZeroDivisionError\u001b[0m                         Traceback (most recent call last)",
      "\u001b[0;31mZeroDivisionError\u001b[0m: float division"
     ]
    },
    {
     "name": "stderr",
     "output_type": "stream",
     "text": [
      "Exception ignored in: '_cython_magic_d33e5aada1040c975bde92b13d65fed9.simple_fit'\n",
      "Traceback (most recent call last):\n",
      "  File \"<magic-timeit>\", line 1, in inner\n",
      "ZeroDivisionError: float division\n"
     ]
    },
    {
     "ename": "ZeroDivisionError",
     "evalue": "float division",
     "output_type": "error",
     "traceback": [
      "\u001b[0;31m---------------------------------------------------------------------------\u001b[0m",
      "\u001b[0;31mZeroDivisionError\u001b[0m                         Traceback (most recent call last)",
      "\u001b[0;31mZeroDivisionError\u001b[0m: float division"
     ]
    },
    {
     "name": "stderr",
     "output_type": "stream",
     "text": [
      "Exception ignored in: '_cython_magic_d33e5aada1040c975bde92b13d65fed9.simple_fit'\n",
      "Traceback (most recent call last):\n",
      "  File \"<magic-timeit>\", line 1, in inner\n",
      "ZeroDivisionError: float division\n"
     ]
    },
    {
     "ename": "ZeroDivisionError",
     "evalue": "float division",
     "output_type": "error",
     "traceback": [
      "\u001b[0;31m---------------------------------------------------------------------------\u001b[0m",
      "\u001b[0;31mZeroDivisionError\u001b[0m                         Traceback (most recent call last)",
      "\u001b[0;31mZeroDivisionError\u001b[0m: float division"
     ]
    },
    {
     "name": "stderr",
     "output_type": "stream",
     "text": [
      "Exception ignored in: '_cython_magic_d33e5aada1040c975bde92b13d65fed9.simple_fit'\n",
      "Traceback (most recent call last):\n",
      "  File \"<magic-timeit>\", line 1, in inner\n",
      "ZeroDivisionError: float division\n"
     ]
    },
    {
     "ename": "ZeroDivisionError",
     "evalue": "float division",
     "output_type": "error",
     "traceback": [
      "\u001b[0;31m---------------------------------------------------------------------------\u001b[0m",
      "\u001b[0;31mZeroDivisionError\u001b[0m                         Traceback (most recent call last)",
      "\u001b[0;31mZeroDivisionError\u001b[0m: float division"
     ]
    },
    {
     "name": "stderr",
     "output_type": "stream",
     "text": [
      "Exception ignored in: '_cython_magic_d33e5aada1040c975bde92b13d65fed9.simple_fit'\n",
      "Traceback (most recent call last):\n",
      "  File \"<magic-timeit>\", line 1, in inner\n",
      "ZeroDivisionError: float division\n"
     ]
    },
    {
     "ename": "ZeroDivisionError",
     "evalue": "float division",
     "output_type": "error",
     "traceback": [
      "\u001b[0;31m---------------------------------------------------------------------------\u001b[0m",
      "\u001b[0;31mZeroDivisionError\u001b[0m                         Traceback (most recent call last)",
      "\u001b[0;31mZeroDivisionError\u001b[0m: float division"
     ]
    },
    {
     "name": "stderr",
     "output_type": "stream",
     "text": [
      "Exception ignored in: '_cython_magic_d33e5aada1040c975bde92b13d65fed9.simple_fit'\n",
      "Traceback (most recent call last):\n",
      "  File \"<magic-timeit>\", line 1, in inner\n",
      "ZeroDivisionError: float division\n"
     ]
    },
    {
     "ename": "ZeroDivisionError",
     "evalue": "float division",
     "output_type": "error",
     "traceback": [
      "\u001b[0;31m---------------------------------------------------------------------------\u001b[0m",
      "\u001b[0;31mZeroDivisionError\u001b[0m                         Traceback (most recent call last)",
      "\u001b[0;31mZeroDivisionError\u001b[0m: float division"
     ]
    },
    {
     "name": "stderr",
     "output_type": "stream",
     "text": [
      "Exception ignored in: '_cython_magic_d33e5aada1040c975bde92b13d65fed9.simple_fit'\n",
      "Traceback (most recent call last):\n",
      "  File \"<magic-timeit>\", line 1, in inner\n",
      "ZeroDivisionError: float division\n"
     ]
    },
    {
     "ename": "ZeroDivisionError",
     "evalue": "float division",
     "output_type": "error",
     "traceback": [
      "\u001b[0;31m---------------------------------------------------------------------------\u001b[0m",
      "\u001b[0;31mZeroDivisionError\u001b[0m                         Traceback (most recent call last)",
      "\u001b[0;31mZeroDivisionError\u001b[0m: float division"
     ]
    },
    {
     "name": "stderr",
     "output_type": "stream",
     "text": [
      "Exception ignored in: '_cython_magic_d33e5aada1040c975bde92b13d65fed9.simple_fit'\n",
      "Traceback (most recent call last):\n",
      "  File \"<magic-timeit>\", line 1, in inner\n",
      "ZeroDivisionError: float division\n"
     ]
    },
    {
     "ename": "ZeroDivisionError",
     "evalue": "float division",
     "output_type": "error",
     "traceback": [
      "\u001b[0;31m---------------------------------------------------------------------------\u001b[0m",
      "\u001b[0;31mZeroDivisionError\u001b[0m                         Traceback (most recent call last)",
      "\u001b[0;31mZeroDivisionError\u001b[0m: float division"
     ]
    },
    {
     "name": "stderr",
     "output_type": "stream",
     "text": [
      "Exception ignored in: '_cython_magic_d33e5aada1040c975bde92b13d65fed9.simple_fit'\n",
      "Traceback (most recent call last):\n",
      "  File \"<magic-timeit>\", line 1, in inner\n",
      "ZeroDivisionError: float division\n"
     ]
    },
    {
     "ename": "ZeroDivisionError",
     "evalue": "float division",
     "output_type": "error",
     "traceback": [
      "\u001b[0;31m---------------------------------------------------------------------------\u001b[0m",
      "\u001b[0;31mZeroDivisionError\u001b[0m                         Traceback (most recent call last)",
      "\u001b[0;31mZeroDivisionError\u001b[0m: float division"
     ]
    },
    {
     "name": "stderr",
     "output_type": "stream",
     "text": [
      "Exception ignored in: '_cython_magic_d33e5aada1040c975bde92b13d65fed9.simple_fit'\n",
      "Traceback (most recent call last):\n",
      "  File \"<magic-timeit>\", line 1, in inner\n",
      "ZeroDivisionError: float division\n"
     ]
    },
    {
     "ename": "ZeroDivisionError",
     "evalue": "float division",
     "output_type": "error",
     "traceback": [
      "\u001b[0;31m---------------------------------------------------------------------------\u001b[0m",
      "\u001b[0;31mZeroDivisionError\u001b[0m                         Traceback (most recent call last)",
      "\u001b[0;31mZeroDivisionError\u001b[0m: float division"
     ]
    },
    {
     "name": "stderr",
     "output_type": "stream",
     "text": [
      "Exception ignored in: '_cython_magic_d33e5aada1040c975bde92b13d65fed9.simple_fit'\n",
      "Traceback (most recent call last):\n",
      "  File \"<magic-timeit>\", line 1, in inner\n",
      "ZeroDivisionError: float division\n"
     ]
    },
    {
     "ename": "ZeroDivisionError",
     "evalue": "float division",
     "output_type": "error",
     "traceback": [
      "\u001b[0;31m---------------------------------------------------------------------------\u001b[0m",
      "\u001b[0;31mZeroDivisionError\u001b[0m                         Traceback (most recent call last)",
      "\u001b[0;31mZeroDivisionError\u001b[0m: float division"
     ]
    },
    {
     "name": "stderr",
     "output_type": "stream",
     "text": [
      "Exception ignored in: '_cython_magic_d33e5aada1040c975bde92b13d65fed9.simple_fit'\n",
      "Traceback (most recent call last):\n",
      "  File \"<magic-timeit>\", line 1, in inner\n",
      "ZeroDivisionError: float division\n"
     ]
    },
    {
     "ename": "ZeroDivisionError",
     "evalue": "float division",
     "output_type": "error",
     "traceback": [
      "\u001b[0;31m---------------------------------------------------------------------------\u001b[0m",
      "\u001b[0;31mZeroDivisionError\u001b[0m                         Traceback (most recent call last)",
      "\u001b[0;31mZeroDivisionError\u001b[0m: float division"
     ]
    },
    {
     "name": "stderr",
     "output_type": "stream",
     "text": [
      "Exception ignored in: '_cython_magic_d33e5aada1040c975bde92b13d65fed9.simple_fit'\n",
      "Traceback (most recent call last):\n",
      "  File \"<magic-timeit>\", line 1, in inner\n",
      "ZeroDivisionError: float division\n"
     ]
    },
    {
     "ename": "ZeroDivisionError",
     "evalue": "float division",
     "output_type": "error",
     "traceback": [
      "\u001b[0;31m---------------------------------------------------------------------------\u001b[0m",
      "\u001b[0;31mZeroDivisionError\u001b[0m                         Traceback (most recent call last)",
      "\u001b[0;31mZeroDivisionError\u001b[0m: float division"
     ]
    },
    {
     "name": "stderr",
     "output_type": "stream",
     "text": [
      "Exception ignored in: '_cython_magic_d33e5aada1040c975bde92b13d65fed9.simple_fit'\n",
      "Traceback (most recent call last):\n",
      "  File \"<magic-timeit>\", line 1, in inner\n",
      "ZeroDivisionError: float division\n"
     ]
    },
    {
     "ename": "ZeroDivisionError",
     "evalue": "float division",
     "output_type": "error",
     "traceback": [
      "\u001b[0;31m---------------------------------------------------------------------------\u001b[0m",
      "\u001b[0;31mZeroDivisionError\u001b[0m                         Traceback (most recent call last)",
      "\u001b[0;31mZeroDivisionError\u001b[0m: float division"
     ]
    },
    {
     "name": "stderr",
     "output_type": "stream",
     "text": [
      "Exception ignored in: '_cython_magic_d33e5aada1040c975bde92b13d65fed9.simple_fit'\n",
      "Traceback (most recent call last):\n",
      "  File \"<magic-timeit>\", line 1, in inner\n",
      "ZeroDivisionError: float division\n"
     ]
    },
    {
     "ename": "ZeroDivisionError",
     "evalue": "float division",
     "output_type": "error",
     "traceback": [
      "\u001b[0;31m---------------------------------------------------------------------------\u001b[0m",
      "\u001b[0;31mZeroDivisionError\u001b[0m                         Traceback (most recent call last)",
      "\u001b[0;31mZeroDivisionError\u001b[0m: float division"
     ]
    },
    {
     "name": "stderr",
     "output_type": "stream",
     "text": [
      "Exception ignored in: '_cython_magic_d33e5aada1040c975bde92b13d65fed9.simple_fit'\n",
      "Traceback (most recent call last):\n",
      "  File \"<magic-timeit>\", line 1, in inner\n",
      "ZeroDivisionError: float division\n"
     ]
    },
    {
     "ename": "ZeroDivisionError",
     "evalue": "float division",
     "output_type": "error",
     "traceback": [
      "\u001b[0;31m---------------------------------------------------------------------------\u001b[0m",
      "\u001b[0;31mZeroDivisionError\u001b[0m                         Traceback (most recent call last)",
      "\u001b[0;31mZeroDivisionError\u001b[0m: float division"
     ]
    },
    {
     "name": "stderr",
     "output_type": "stream",
     "text": [
      "Exception ignored in: '_cython_magic_d33e5aada1040c975bde92b13d65fed9.simple_fit'\n",
      "Traceback (most recent call last):\n",
      "  File \"<magic-timeit>\", line 1, in inner\n",
      "ZeroDivisionError: float division\n"
     ]
    },
    {
     "ename": "ZeroDivisionError",
     "evalue": "float division",
     "output_type": "error",
     "traceback": [
      "\u001b[0;31m---------------------------------------------------------------------------\u001b[0m",
      "\u001b[0;31mZeroDivisionError\u001b[0m                         Traceback (most recent call last)",
      "\u001b[0;31mZeroDivisionError\u001b[0m: float division"
     ]
    },
    {
     "name": "stderr",
     "output_type": "stream",
     "text": [
      "Exception ignored in: '_cython_magic_d33e5aada1040c975bde92b13d65fed9.simple_fit'\n",
      "Traceback (most recent call last):\n",
      "  File \"<magic-timeit>\", line 1, in inner\n",
      "ZeroDivisionError: float division\n"
     ]
    },
    {
     "ename": "ZeroDivisionError",
     "evalue": "float division",
     "output_type": "error",
     "traceback": [
      "\u001b[0;31m---------------------------------------------------------------------------\u001b[0m",
      "\u001b[0;31mZeroDivisionError\u001b[0m                         Traceback (most recent call last)",
      "\u001b[0;31mZeroDivisionError\u001b[0m: float division"
     ]
    },
    {
     "name": "stderr",
     "output_type": "stream",
     "text": [
      "Exception ignored in: '_cython_magic_d33e5aada1040c975bde92b13d65fed9.simple_fit'\n",
      "Traceback (most recent call last):\n",
      "  File \"<magic-timeit>\", line 1, in inner\n",
      "ZeroDivisionError: float division\n"
     ]
    },
    {
     "ename": "ZeroDivisionError",
     "evalue": "float division",
     "output_type": "error",
     "traceback": [
      "\u001b[0;31m---------------------------------------------------------------------------\u001b[0m",
      "\u001b[0;31mZeroDivisionError\u001b[0m                         Traceback (most recent call last)",
      "\u001b[0;31mZeroDivisionError\u001b[0m: float division"
     ]
    },
    {
     "name": "stderr",
     "output_type": "stream",
     "text": [
      "Exception ignored in: '_cython_magic_d33e5aada1040c975bde92b13d65fed9.simple_fit'\n",
      "Traceback (most recent call last):\n",
      "  File \"<magic-timeit>\", line 1, in inner\n",
      "ZeroDivisionError: float division\n"
     ]
    },
    {
     "ename": "ZeroDivisionError",
     "evalue": "float division",
     "output_type": "error",
     "traceback": [
      "\u001b[0;31m---------------------------------------------------------------------------\u001b[0m",
      "\u001b[0;31mZeroDivisionError\u001b[0m                         Traceback (most recent call last)",
      "\u001b[0;31mZeroDivisionError\u001b[0m: float division"
     ]
    },
    {
     "name": "stderr",
     "output_type": "stream",
     "text": [
      "Exception ignored in: '_cython_magic_d33e5aada1040c975bde92b13d65fed9.simple_fit'\n",
      "Traceback (most recent call last):\n",
      "  File \"<magic-timeit>\", line 1, in inner\n",
      "ZeroDivisionError: float division\n"
     ]
    },
    {
     "ename": "ZeroDivisionError",
     "evalue": "float division",
     "output_type": "error",
     "traceback": [
      "\u001b[0;31m---------------------------------------------------------------------------\u001b[0m",
      "\u001b[0;31mZeroDivisionError\u001b[0m                         Traceback (most recent call last)",
      "\u001b[0;31mZeroDivisionError\u001b[0m: float division"
     ]
    },
    {
     "name": "stderr",
     "output_type": "stream",
     "text": [
      "Exception ignored in: '_cython_magic_d33e5aada1040c975bde92b13d65fed9.simple_fit'\n",
      "Traceback (most recent call last):\n",
      "  File \"<magic-timeit>\", line 1, in inner\n",
      "ZeroDivisionError: float division\n"
     ]
    },
    {
     "ename": "ZeroDivisionError",
     "evalue": "float division",
     "output_type": "error",
     "traceback": [
      "\u001b[0;31m---------------------------------------------------------------------------\u001b[0m",
      "\u001b[0;31mZeroDivisionError\u001b[0m                         Traceback (most recent call last)",
      "\u001b[0;31mZeroDivisionError\u001b[0m: float division"
     ]
    },
    {
     "name": "stderr",
     "output_type": "stream",
     "text": [
      "Exception ignored in: '_cython_magic_d33e5aada1040c975bde92b13d65fed9.simple_fit'\n",
      "Traceback (most recent call last):\n",
      "  File \"<magic-timeit>\", line 1, in inner\n",
      "ZeroDivisionError: float division\n"
     ]
    },
    {
     "ename": "ZeroDivisionError",
     "evalue": "float division",
     "output_type": "error",
     "traceback": [
      "\u001b[0;31m---------------------------------------------------------------------------\u001b[0m",
      "\u001b[0;31mZeroDivisionError\u001b[0m                         Traceback (most recent call last)",
      "\u001b[0;31mZeroDivisionError\u001b[0m: float division"
     ]
    },
    {
     "name": "stderr",
     "output_type": "stream",
     "text": [
      "Exception ignored in: '_cython_magic_d33e5aada1040c975bde92b13d65fed9.simple_fit'\n",
      "Traceback (most recent call last):\n",
      "  File \"<magic-timeit>\", line 1, in inner\n",
      "ZeroDivisionError: float division\n"
     ]
    },
    {
     "ename": "ZeroDivisionError",
     "evalue": "float division",
     "output_type": "error",
     "traceback": [
      "\u001b[0;31m---------------------------------------------------------------------------\u001b[0m",
      "\u001b[0;31mZeroDivisionError\u001b[0m                         Traceback (most recent call last)",
      "\u001b[0;31mZeroDivisionError\u001b[0m: float division"
     ]
    },
    {
     "name": "stderr",
     "output_type": "stream",
     "text": [
      "Exception ignored in: '_cython_magic_d33e5aada1040c975bde92b13d65fed9.simple_fit'\n",
      "Traceback (most recent call last):\n",
      "  File \"<magic-timeit>\", line 1, in inner\n",
      "ZeroDivisionError: float division\n"
     ]
    },
    {
     "ename": "ZeroDivisionError",
     "evalue": "float division",
     "output_type": "error",
     "traceback": [
      "\u001b[0;31m---------------------------------------------------------------------------\u001b[0m",
      "\u001b[0;31mZeroDivisionError\u001b[0m                         Traceback (most recent call last)",
      "\u001b[0;31mZeroDivisionError\u001b[0m: float division"
     ]
    },
    {
     "name": "stderr",
     "output_type": "stream",
     "text": [
      "Exception ignored in: '_cython_magic_d33e5aada1040c975bde92b13d65fed9.simple_fit'\n",
      "Traceback (most recent call last):\n",
      "  File \"<magic-timeit>\", line 1, in inner\n",
      "ZeroDivisionError: float division\n"
     ]
    },
    {
     "ename": "ZeroDivisionError",
     "evalue": "float division",
     "output_type": "error",
     "traceback": [
      "\u001b[0;31m---------------------------------------------------------------------------\u001b[0m",
      "\u001b[0;31mZeroDivisionError\u001b[0m                         Traceback (most recent call last)",
      "\u001b[0;31mZeroDivisionError\u001b[0m: float division"
     ]
    },
    {
     "name": "stderr",
     "output_type": "stream",
     "text": [
      "Exception ignored in: '_cython_magic_d33e5aada1040c975bde92b13d65fed9.simple_fit'\n",
      "Traceback (most recent call last):\n",
      "  File \"<magic-timeit>\", line 1, in inner\n",
      "ZeroDivisionError: float division\n"
     ]
    },
    {
     "ename": "ZeroDivisionError",
     "evalue": "float division",
     "output_type": "error",
     "traceback": [
      "\u001b[0;31m---------------------------------------------------------------------------\u001b[0m",
      "\u001b[0;31mZeroDivisionError\u001b[0m                         Traceback (most recent call last)",
      "\u001b[0;31mZeroDivisionError\u001b[0m: float division"
     ]
    },
    {
     "name": "stderr",
     "output_type": "stream",
     "text": [
      "Exception ignored in: '_cython_magic_d33e5aada1040c975bde92b13d65fed9.simple_fit'\n",
      "Traceback (most recent call last):\n",
      "  File \"<magic-timeit>\", line 1, in inner\n",
      "ZeroDivisionError: float division\n"
     ]
    },
    {
     "ename": "ZeroDivisionError",
     "evalue": "float division",
     "output_type": "error",
     "traceback": [
      "\u001b[0;31m---------------------------------------------------------------------------\u001b[0m",
      "\u001b[0;31mZeroDivisionError\u001b[0m                         Traceback (most recent call last)",
      "\u001b[0;31mZeroDivisionError\u001b[0m: float division"
     ]
    },
    {
     "name": "stderr",
     "output_type": "stream",
     "text": [
      "Exception ignored in: '_cython_magic_d33e5aada1040c975bde92b13d65fed9.simple_fit'\n",
      "Traceback (most recent call last):\n",
      "  File \"<magic-timeit>\", line 1, in inner\n",
      "ZeroDivisionError: float division\n"
     ]
    },
    {
     "ename": "ZeroDivisionError",
     "evalue": "float division",
     "output_type": "error",
     "traceback": [
      "\u001b[0;31m---------------------------------------------------------------------------\u001b[0m",
      "\u001b[0;31mZeroDivisionError\u001b[0m                         Traceback (most recent call last)",
      "\u001b[0;31mZeroDivisionError\u001b[0m: float division"
     ]
    },
    {
     "name": "stderr",
     "output_type": "stream",
     "text": [
      "Exception ignored in: '_cython_magic_d33e5aada1040c975bde92b13d65fed9.simple_fit'\n",
      "Traceback (most recent call last):\n",
      "  File \"<magic-timeit>\", line 1, in inner\n",
      "ZeroDivisionError: float division\n"
     ]
    },
    {
     "ename": "ZeroDivisionError",
     "evalue": "float division",
     "output_type": "error",
     "traceback": [
      "\u001b[0;31m---------------------------------------------------------------------------\u001b[0m",
      "\u001b[0;31mZeroDivisionError\u001b[0m                         Traceback (most recent call last)",
      "\u001b[0;31mZeroDivisionError\u001b[0m: float division"
     ]
    },
    {
     "name": "stderr",
     "output_type": "stream",
     "text": [
      "Exception ignored in: '_cython_magic_d33e5aada1040c975bde92b13d65fed9.simple_fit'\n",
      "Traceback (most recent call last):\n",
      "  File \"<magic-timeit>\", line 1, in inner\n",
      "ZeroDivisionError: float division\n"
     ]
    },
    {
     "ename": "ZeroDivisionError",
     "evalue": "float division",
     "output_type": "error",
     "traceback": [
      "\u001b[0;31m---------------------------------------------------------------------------\u001b[0m",
      "\u001b[0;31mZeroDivisionError\u001b[0m                         Traceback (most recent call last)",
      "\u001b[0;31mZeroDivisionError\u001b[0m: float division"
     ]
    },
    {
     "name": "stderr",
     "output_type": "stream",
     "text": [
      "Exception ignored in: '_cython_magic_d33e5aada1040c975bde92b13d65fed9.simple_fit'\n",
      "Traceback (most recent call last):\n",
      "  File \"<magic-timeit>\", line 1, in inner\n",
      "ZeroDivisionError: float division\n"
     ]
    },
    {
     "ename": "ZeroDivisionError",
     "evalue": "float division",
     "output_type": "error",
     "traceback": [
      "\u001b[0;31m---------------------------------------------------------------------------\u001b[0m",
      "\u001b[0;31mZeroDivisionError\u001b[0m                         Traceback (most recent call last)",
      "\u001b[0;31mZeroDivisionError\u001b[0m: float division"
     ]
    },
    {
     "name": "stderr",
     "output_type": "stream",
     "text": [
      "Exception ignored in: '_cython_magic_d33e5aada1040c975bde92b13d65fed9.simple_fit'\n",
      "Traceback (most recent call last):\n",
      "  File \"<magic-timeit>\", line 1, in inner\n",
      "ZeroDivisionError: float division\n"
     ]
    },
    {
     "ename": "ZeroDivisionError",
     "evalue": "float division",
     "output_type": "error",
     "traceback": [
      "\u001b[0;31m---------------------------------------------------------------------------\u001b[0m",
      "\u001b[0;31mZeroDivisionError\u001b[0m                         Traceback (most recent call last)",
      "\u001b[0;31mZeroDivisionError\u001b[0m: float division"
     ]
    },
    {
     "name": "stderr",
     "output_type": "stream",
     "text": [
      "Exception ignored in: '_cython_magic_d33e5aada1040c975bde92b13d65fed9.simple_fit'\n",
      "Traceback (most recent call last):\n",
      "  File \"<magic-timeit>\", line 1, in inner\n",
      "ZeroDivisionError: float division\n"
     ]
    },
    {
     "ename": "ZeroDivisionError",
     "evalue": "float division",
     "output_type": "error",
     "traceback": [
      "\u001b[0;31m---------------------------------------------------------------------------\u001b[0m",
      "\u001b[0;31mZeroDivisionError\u001b[0m                         Traceback (most recent call last)",
      "\u001b[0;31mZeroDivisionError\u001b[0m: float division"
     ]
    },
    {
     "name": "stderr",
     "output_type": "stream",
     "text": [
      "Exception ignored in: '_cython_magic_d33e5aada1040c975bde92b13d65fed9.simple_fit'\n",
      "Traceback (most recent call last):\n",
      "  File \"<magic-timeit>\", line 1, in inner\n",
      "ZeroDivisionError: float division\n"
     ]
    },
    {
     "ename": "ZeroDivisionError",
     "evalue": "float division",
     "output_type": "error",
     "traceback": [
      "\u001b[0;31m---------------------------------------------------------------------------\u001b[0m",
      "\u001b[0;31mZeroDivisionError\u001b[0m                         Traceback (most recent call last)",
      "\u001b[0;31mZeroDivisionError\u001b[0m: float division"
     ]
    },
    {
     "name": "stderr",
     "output_type": "stream",
     "text": [
      "Exception ignored in: '_cython_magic_d33e5aada1040c975bde92b13d65fed9.simple_fit'\n",
      "Traceback (most recent call last):\n",
      "  File \"<magic-timeit>\", line 1, in inner\n",
      "ZeroDivisionError: float division\n"
     ]
    },
    {
     "ename": "ZeroDivisionError",
     "evalue": "float division",
     "output_type": "error",
     "traceback": [
      "\u001b[0;31m---------------------------------------------------------------------------\u001b[0m",
      "\u001b[0;31mZeroDivisionError\u001b[0m                         Traceback (most recent call last)",
      "\u001b[0;31mZeroDivisionError\u001b[0m: float division"
     ]
    },
    {
     "name": "stderr",
     "output_type": "stream",
     "text": [
      "Exception ignored in: '_cython_magic_d33e5aada1040c975bde92b13d65fed9.simple_fit'\n",
      "Traceback (most recent call last):\n",
      "  File \"<magic-timeit>\", line 1, in inner\n",
      "ZeroDivisionError: float division\n"
     ]
    },
    {
     "ename": "ZeroDivisionError",
     "evalue": "float division",
     "output_type": "error",
     "traceback": [
      "\u001b[0;31m---------------------------------------------------------------------------\u001b[0m",
      "\u001b[0;31mZeroDivisionError\u001b[0m                         Traceback (most recent call last)",
      "\u001b[0;31mZeroDivisionError\u001b[0m: float division"
     ]
    },
    {
     "name": "stderr",
     "output_type": "stream",
     "text": [
      "Exception ignored in: '_cython_magic_d33e5aada1040c975bde92b13d65fed9.simple_fit'\n",
      "Traceback (most recent call last):\n",
      "  File \"<magic-timeit>\", line 1, in inner\n",
      "ZeroDivisionError: float division\n"
     ]
    },
    {
     "ename": "ZeroDivisionError",
     "evalue": "float division",
     "output_type": "error",
     "traceback": [
      "\u001b[0;31m---------------------------------------------------------------------------\u001b[0m",
      "\u001b[0;31mZeroDivisionError\u001b[0m                         Traceback (most recent call last)",
      "\u001b[0;31mZeroDivisionError\u001b[0m: float division"
     ]
    },
    {
     "name": "stderr",
     "output_type": "stream",
     "text": [
      "Exception ignored in: '_cython_magic_d33e5aada1040c975bde92b13d65fed9.simple_fit'\n",
      "Traceback (most recent call last):\n",
      "  File \"<magic-timeit>\", line 1, in inner\n",
      "ZeroDivisionError: float division\n"
     ]
    },
    {
     "ename": "ZeroDivisionError",
     "evalue": "float division",
     "output_type": "error",
     "traceback": [
      "\u001b[0;31m---------------------------------------------------------------------------\u001b[0m",
      "\u001b[0;31mZeroDivisionError\u001b[0m                         Traceback (most recent call last)",
      "\u001b[0;31mZeroDivisionError\u001b[0m: float division"
     ]
    },
    {
     "name": "stderr",
     "output_type": "stream",
     "text": [
      "Exception ignored in: '_cython_magic_d33e5aada1040c975bde92b13d65fed9.simple_fit'\n",
      "Traceback (most recent call last):\n",
      "  File \"<magic-timeit>\", line 1, in inner\n",
      "ZeroDivisionError: float division\n"
     ]
    },
    {
     "ename": "ZeroDivisionError",
     "evalue": "float division",
     "output_type": "error",
     "traceback": [
      "\u001b[0;31m---------------------------------------------------------------------------\u001b[0m",
      "\u001b[0;31mZeroDivisionError\u001b[0m                         Traceback (most recent call last)",
      "\u001b[0;31mZeroDivisionError\u001b[0m: float division"
     ]
    },
    {
     "name": "stderr",
     "output_type": "stream",
     "text": [
      "Exception ignored in: '_cython_magic_d33e5aada1040c975bde92b13d65fed9.simple_fit'\n",
      "Traceback (most recent call last):\n",
      "  File \"<magic-timeit>\", line 1, in inner\n",
      "ZeroDivisionError: float division\n"
     ]
    },
    {
     "ename": "ZeroDivisionError",
     "evalue": "float division",
     "output_type": "error",
     "traceback": [
      "\u001b[0;31m---------------------------------------------------------------------------\u001b[0m",
      "\u001b[0;31mZeroDivisionError\u001b[0m                         Traceback (most recent call last)",
      "\u001b[0;31mZeroDivisionError\u001b[0m: float division"
     ]
    },
    {
     "name": "stderr",
     "output_type": "stream",
     "text": [
      "Exception ignored in: '_cython_magic_d33e5aada1040c975bde92b13d65fed9.simple_fit'\n",
      "Traceback (most recent call last):\n",
      "  File \"<magic-timeit>\", line 1, in inner\n",
      "ZeroDivisionError: float division\n"
     ]
    },
    {
     "ename": "ZeroDivisionError",
     "evalue": "float division",
     "output_type": "error",
     "traceback": [
      "\u001b[0;31m---------------------------------------------------------------------------\u001b[0m",
      "\u001b[0;31mZeroDivisionError\u001b[0m                         Traceback (most recent call last)",
      "\u001b[0;31mZeroDivisionError\u001b[0m: float division"
     ]
    },
    {
     "name": "stderr",
     "output_type": "stream",
     "text": [
      "Exception ignored in: '_cython_magic_d33e5aada1040c975bde92b13d65fed9.simple_fit'\n",
      "Traceback (most recent call last):\n",
      "  File \"<magic-timeit>\", line 1, in inner\n",
      "ZeroDivisionError: float division\n"
     ]
    },
    {
     "ename": "ZeroDivisionError",
     "evalue": "float division",
     "output_type": "error",
     "traceback": [
      "\u001b[0;31m---------------------------------------------------------------------------\u001b[0m",
      "\u001b[0;31mZeroDivisionError\u001b[0m                         Traceback (most recent call last)",
      "\u001b[0;31mZeroDivisionError\u001b[0m: float division"
     ]
    },
    {
     "name": "stderr",
     "output_type": "stream",
     "text": [
      "Exception ignored in: '_cython_magic_d33e5aada1040c975bde92b13d65fed9.simple_fit'\n",
      "Traceback (most recent call last):\n",
      "  File \"<magic-timeit>\", line 1, in inner\n",
      "ZeroDivisionError: float division\n"
     ]
    },
    {
     "ename": "ZeroDivisionError",
     "evalue": "float division",
     "output_type": "error",
     "traceback": [
      "\u001b[0;31m---------------------------------------------------------------------------\u001b[0m",
      "\u001b[0;31mZeroDivisionError\u001b[0m                         Traceback (most recent call last)",
      "\u001b[0;31mZeroDivisionError\u001b[0m: float division"
     ]
    },
    {
     "name": "stderr",
     "output_type": "stream",
     "text": [
      "Exception ignored in: '_cython_magic_d33e5aada1040c975bde92b13d65fed9.simple_fit'\n",
      "Traceback (most recent call last):\n",
      "  File \"<magic-timeit>\", line 1, in inner\n",
      "ZeroDivisionError: float division\n"
     ]
    },
    {
     "ename": "ZeroDivisionError",
     "evalue": "float division",
     "output_type": "error",
     "traceback": [
      "\u001b[0;31m---------------------------------------------------------------------------\u001b[0m",
      "\u001b[0;31mZeroDivisionError\u001b[0m                         Traceback (most recent call last)",
      "\u001b[0;31mZeroDivisionError\u001b[0m: float division"
     ]
    },
    {
     "name": "stderr",
     "output_type": "stream",
     "text": [
      "Exception ignored in: '_cython_magic_d33e5aada1040c975bde92b13d65fed9.simple_fit'\n",
      "Traceback (most recent call last):\n",
      "  File \"<magic-timeit>\", line 1, in inner\n",
      "ZeroDivisionError: float division\n"
     ]
    },
    {
     "ename": "ZeroDivisionError",
     "evalue": "float division",
     "output_type": "error",
     "traceback": [
      "\u001b[0;31m---------------------------------------------------------------------------\u001b[0m",
      "\u001b[0;31mZeroDivisionError\u001b[0m                         Traceback (most recent call last)",
      "\u001b[0;31mZeroDivisionError\u001b[0m: float division"
     ]
    },
    {
     "name": "stderr",
     "output_type": "stream",
     "text": [
      "Exception ignored in: '_cython_magic_d33e5aada1040c975bde92b13d65fed9.simple_fit'\n",
      "Traceback (most recent call last):\n",
      "  File \"<magic-timeit>\", line 1, in inner\n",
      "ZeroDivisionError: float division\n"
     ]
    },
    {
     "ename": "ZeroDivisionError",
     "evalue": "float division",
     "output_type": "error",
     "traceback": [
      "\u001b[0;31m---------------------------------------------------------------------------\u001b[0m",
      "\u001b[0;31mZeroDivisionError\u001b[0m                         Traceback (most recent call last)",
      "\u001b[0;31mZeroDivisionError\u001b[0m: float division"
     ]
    },
    {
     "name": "stderr",
     "output_type": "stream",
     "text": [
      "Exception ignored in: '_cython_magic_d33e5aada1040c975bde92b13d65fed9.simple_fit'\n",
      "Traceback (most recent call last):\n",
      "  File \"<magic-timeit>\", line 1, in inner\n",
      "ZeroDivisionError: float division\n"
     ]
    },
    {
     "ename": "ZeroDivisionError",
     "evalue": "float division",
     "output_type": "error",
     "traceback": [
      "\u001b[0;31m---------------------------------------------------------------------------\u001b[0m",
      "\u001b[0;31mZeroDivisionError\u001b[0m                         Traceback (most recent call last)",
      "\u001b[0;31mZeroDivisionError\u001b[0m: float division"
     ]
    },
    {
     "name": "stderr",
     "output_type": "stream",
     "text": [
      "Exception ignored in: '_cython_magic_d33e5aada1040c975bde92b13d65fed9.simple_fit'\n",
      "Traceback (most recent call last):\n",
      "  File \"<magic-timeit>\", line 1, in inner\n",
      "ZeroDivisionError: float division\n"
     ]
    },
    {
     "ename": "ZeroDivisionError",
     "evalue": "float division",
     "output_type": "error",
     "traceback": [
      "\u001b[0;31m---------------------------------------------------------------------------\u001b[0m",
      "\u001b[0;31mZeroDivisionError\u001b[0m                         Traceback (most recent call last)",
      "\u001b[0;31mZeroDivisionError\u001b[0m: float division"
     ]
    },
    {
     "name": "stderr",
     "output_type": "stream",
     "text": [
      "Exception ignored in: '_cython_magic_d33e5aada1040c975bde92b13d65fed9.simple_fit'\n",
      "Traceback (most recent call last):\n",
      "  File \"<magic-timeit>\", line 1, in inner\n",
      "ZeroDivisionError: float division\n"
     ]
    },
    {
     "ename": "ZeroDivisionError",
     "evalue": "float division",
     "output_type": "error",
     "traceback": [
      "\u001b[0;31m---------------------------------------------------------------------------\u001b[0m",
      "\u001b[0;31mZeroDivisionError\u001b[0m                         Traceback (most recent call last)",
      "\u001b[0;31mZeroDivisionError\u001b[0m: float division"
     ]
    },
    {
     "name": "stderr",
     "output_type": "stream",
     "text": [
      "Exception ignored in: '_cython_magic_d33e5aada1040c975bde92b13d65fed9.simple_fit'\n",
      "Traceback (most recent call last):\n",
      "  File \"<magic-timeit>\", line 1, in inner\n",
      "ZeroDivisionError: float division\n"
     ]
    },
    {
     "ename": "ZeroDivisionError",
     "evalue": "float division",
     "output_type": "error",
     "traceback": [
      "\u001b[0;31m---------------------------------------------------------------------------\u001b[0m",
      "\u001b[0;31mZeroDivisionError\u001b[0m                         Traceback (most recent call last)",
      "\u001b[0;31mZeroDivisionError\u001b[0m: float division"
     ]
    },
    {
     "name": "stderr",
     "output_type": "stream",
     "text": [
      "Exception ignored in: '_cython_magic_d33e5aada1040c975bde92b13d65fed9.simple_fit'\n",
      "Traceback (most recent call last):\n",
      "  File \"<magic-timeit>\", line 1, in inner\n",
      "ZeroDivisionError: float division\n"
     ]
    },
    {
     "ename": "ZeroDivisionError",
     "evalue": "float division",
     "output_type": "error",
     "traceback": [
      "\u001b[0;31m---------------------------------------------------------------------------\u001b[0m",
      "\u001b[0;31mZeroDivisionError\u001b[0m                         Traceback (most recent call last)",
      "\u001b[0;31mZeroDivisionError\u001b[0m: float division"
     ]
    },
    {
     "name": "stderr",
     "output_type": "stream",
     "text": [
      "Exception ignored in: '_cython_magic_d33e5aada1040c975bde92b13d65fed9.simple_fit'\n",
      "Traceback (most recent call last):\n",
      "  File \"<magic-timeit>\", line 1, in inner\n",
      "ZeroDivisionError: float division\n"
     ]
    },
    {
     "ename": "ZeroDivisionError",
     "evalue": "float division",
     "output_type": "error",
     "traceback": [
      "\u001b[0;31m---------------------------------------------------------------------------\u001b[0m",
      "\u001b[0;31mZeroDivisionError\u001b[0m                         Traceback (most recent call last)",
      "\u001b[0;31mZeroDivisionError\u001b[0m: float division"
     ]
    },
    {
     "name": "stderr",
     "output_type": "stream",
     "text": [
      "Exception ignored in: '_cython_magic_d33e5aada1040c975bde92b13d65fed9.simple_fit'\n",
      "Traceback (most recent call last):\n",
      "  File \"<magic-timeit>\", line 1, in inner\n",
      "ZeroDivisionError: float division\n"
     ]
    },
    {
     "ename": "ZeroDivisionError",
     "evalue": "float division",
     "output_type": "error",
     "traceback": [
      "\u001b[0;31m---------------------------------------------------------------------------\u001b[0m",
      "\u001b[0;31mZeroDivisionError\u001b[0m                         Traceback (most recent call last)",
      "\u001b[0;31mZeroDivisionError\u001b[0m: float division"
     ]
    },
    {
     "name": "stderr",
     "output_type": "stream",
     "text": [
      "Exception ignored in: '_cython_magic_d33e5aada1040c975bde92b13d65fed9.simple_fit'\n",
      "Traceback (most recent call last):\n",
      "  File \"<magic-timeit>\", line 1, in inner\n",
      "ZeroDivisionError: float division\n"
     ]
    },
    {
     "ename": "ZeroDivisionError",
     "evalue": "float division",
     "output_type": "error",
     "traceback": [
      "\u001b[0;31m---------------------------------------------------------------------------\u001b[0m",
      "\u001b[0;31mZeroDivisionError\u001b[0m                         Traceback (most recent call last)",
      "\u001b[0;31mZeroDivisionError\u001b[0m: float division"
     ]
    },
    {
     "name": "stderr",
     "output_type": "stream",
     "text": [
      "Exception ignored in: '_cython_magic_d33e5aada1040c975bde92b13d65fed9.simple_fit'\n",
      "Traceback (most recent call last):\n",
      "  File \"<magic-timeit>\", line 1, in inner\n",
      "ZeroDivisionError: float division\n"
     ]
    },
    {
     "ename": "ZeroDivisionError",
     "evalue": "float division",
     "output_type": "error",
     "traceback": [
      "\u001b[0;31m---------------------------------------------------------------------------\u001b[0m",
      "\u001b[0;31mZeroDivisionError\u001b[0m                         Traceback (most recent call last)",
      "\u001b[0;31mZeroDivisionError\u001b[0m: float division"
     ]
    },
    {
     "name": "stderr",
     "output_type": "stream",
     "text": [
      "Exception ignored in: '_cython_magic_d33e5aada1040c975bde92b13d65fed9.simple_fit'\n",
      "Traceback (most recent call last):\n",
      "  File \"<magic-timeit>\", line 1, in inner\n",
      "ZeroDivisionError: float division\n"
     ]
    },
    {
     "ename": "ZeroDivisionError",
     "evalue": "float division",
     "output_type": "error",
     "traceback": [
      "\u001b[0;31m---------------------------------------------------------------------------\u001b[0m",
      "\u001b[0;31mZeroDivisionError\u001b[0m                         Traceback (most recent call last)",
      "\u001b[0;31mZeroDivisionError\u001b[0m: float division"
     ]
    },
    {
     "name": "stderr",
     "output_type": "stream",
     "text": [
      "Exception ignored in: '_cython_magic_d33e5aada1040c975bde92b13d65fed9.simple_fit'\n",
      "Traceback (most recent call last):\n",
      "  File \"<magic-timeit>\", line 1, in inner\n",
      "ZeroDivisionError: float division\n"
     ]
    },
    {
     "ename": "ZeroDivisionError",
     "evalue": "float division",
     "output_type": "error",
     "traceback": [
      "\u001b[0;31m---------------------------------------------------------------------------\u001b[0m",
      "\u001b[0;31mZeroDivisionError\u001b[0m                         Traceback (most recent call last)",
      "\u001b[0;31mZeroDivisionError\u001b[0m: float division"
     ]
    },
    {
     "name": "stderr",
     "output_type": "stream",
     "text": [
      "Exception ignored in: '_cython_magic_d33e5aada1040c975bde92b13d65fed9.simple_fit'\n",
      "Traceback (most recent call last):\n",
      "  File \"<magic-timeit>\", line 1, in inner\n",
      "ZeroDivisionError: float division\n"
     ]
    },
    {
     "ename": "ZeroDivisionError",
     "evalue": "float division",
     "output_type": "error",
     "traceback": [
      "\u001b[0;31m---------------------------------------------------------------------------\u001b[0m",
      "\u001b[0;31mZeroDivisionError\u001b[0m                         Traceback (most recent call last)",
      "\u001b[0;31mZeroDivisionError\u001b[0m: float division"
     ]
    },
    {
     "name": "stderr",
     "output_type": "stream",
     "text": [
      "Exception ignored in: '_cython_magic_d33e5aada1040c975bde92b13d65fed9.simple_fit'\n",
      "Traceback (most recent call last):\n",
      "  File \"<magic-timeit>\", line 1, in inner\n",
      "ZeroDivisionError: float division\n"
     ]
    },
    {
     "ename": "ZeroDivisionError",
     "evalue": "float division",
     "output_type": "error",
     "traceback": [
      "\u001b[0;31m---------------------------------------------------------------------------\u001b[0m",
      "\u001b[0;31mZeroDivisionError\u001b[0m                         Traceback (most recent call last)",
      "\u001b[0;31mZeroDivisionError\u001b[0m: float division"
     ]
    },
    {
     "name": "stderr",
     "output_type": "stream",
     "text": [
      "Exception ignored in: '_cython_magic_d33e5aada1040c975bde92b13d65fed9.simple_fit'\n",
      "Traceback (most recent call last):\n",
      "  File \"<magic-timeit>\", line 1, in inner\n",
      "ZeroDivisionError: float division\n"
     ]
    },
    {
     "ename": "ZeroDivisionError",
     "evalue": "float division",
     "output_type": "error",
     "traceback": [
      "\u001b[0;31m---------------------------------------------------------------------------\u001b[0m",
      "\u001b[0;31mZeroDivisionError\u001b[0m                         Traceback (most recent call last)",
      "\u001b[0;31mZeroDivisionError\u001b[0m: float division"
     ]
    },
    {
     "name": "stderr",
     "output_type": "stream",
     "text": [
      "Exception ignored in: '_cython_magic_d33e5aada1040c975bde92b13d65fed9.simple_fit'\n",
      "Traceback (most recent call last):\n",
      "  File \"<magic-timeit>\", line 1, in inner\n",
      "ZeroDivisionError: float division\n"
     ]
    },
    {
     "ename": "ZeroDivisionError",
     "evalue": "float division",
     "output_type": "error",
     "traceback": [
      "\u001b[0;31m---------------------------------------------------------------------------\u001b[0m",
      "\u001b[0;31mZeroDivisionError\u001b[0m                         Traceback (most recent call last)",
      "\u001b[0;31mZeroDivisionError\u001b[0m: float division"
     ]
    },
    {
     "name": "stderr",
     "output_type": "stream",
     "text": [
      "Exception ignored in: '_cython_magic_d33e5aada1040c975bde92b13d65fed9.simple_fit'\n",
      "Traceback (most recent call last):\n",
      "  File \"<magic-timeit>\", line 1, in inner\n",
      "ZeroDivisionError: float division\n"
     ]
    },
    {
     "ename": "ZeroDivisionError",
     "evalue": "float division",
     "output_type": "error",
     "traceback": [
      "\u001b[0;31m---------------------------------------------------------------------------\u001b[0m",
      "\u001b[0;31mZeroDivisionError\u001b[0m                         Traceback (most recent call last)",
      "\u001b[0;31mZeroDivisionError\u001b[0m: float division"
     ]
    },
    {
     "name": "stderr",
     "output_type": "stream",
     "text": [
      "Exception ignored in: '_cython_magic_d33e5aada1040c975bde92b13d65fed9.simple_fit'\n",
      "Traceback (most recent call last):\n",
      "  File \"<magic-timeit>\", line 1, in inner\n",
      "ZeroDivisionError: float division\n"
     ]
    },
    {
     "ename": "ZeroDivisionError",
     "evalue": "float division",
     "output_type": "error",
     "traceback": [
      "\u001b[0;31m---------------------------------------------------------------------------\u001b[0m",
      "\u001b[0;31mZeroDivisionError\u001b[0m                         Traceback (most recent call last)",
      "\u001b[0;31mZeroDivisionError\u001b[0m: float division"
     ]
    },
    {
     "name": "stderr",
     "output_type": "stream",
     "text": [
      "Exception ignored in: '_cython_magic_d33e5aada1040c975bde92b13d65fed9.simple_fit'\n",
      "Traceback (most recent call last):\n",
      "  File \"<magic-timeit>\", line 1, in inner\n",
      "ZeroDivisionError: float division\n"
     ]
    },
    {
     "ename": "ZeroDivisionError",
     "evalue": "float division",
     "output_type": "error",
     "traceback": [
      "\u001b[0;31m---------------------------------------------------------------------------\u001b[0m",
      "\u001b[0;31mZeroDivisionError\u001b[0m                         Traceback (most recent call last)",
      "\u001b[0;31mZeroDivisionError\u001b[0m: float division"
     ]
    },
    {
     "name": "stderr",
     "output_type": "stream",
     "text": [
      "Exception ignored in: '_cython_magic_d33e5aada1040c975bde92b13d65fed9.simple_fit'\n",
      "Traceback (most recent call last):\n",
      "  File \"<magic-timeit>\", line 1, in inner\n",
      "ZeroDivisionError: float division\n"
     ]
    },
    {
     "ename": "ZeroDivisionError",
     "evalue": "float division",
     "output_type": "error",
     "traceback": [
      "\u001b[0;31m---------------------------------------------------------------------------\u001b[0m",
      "\u001b[0;31mZeroDivisionError\u001b[0m                         Traceback (most recent call last)",
      "\u001b[0;31mZeroDivisionError\u001b[0m: float division"
     ]
    },
    {
     "name": "stderr",
     "output_type": "stream",
     "text": [
      "Exception ignored in: '_cython_magic_d33e5aada1040c975bde92b13d65fed9.simple_fit'\n",
      "Traceback (most recent call last):\n",
      "  File \"<magic-timeit>\", line 1, in inner\n",
      "ZeroDivisionError: float division\n"
     ]
    },
    {
     "ename": "ZeroDivisionError",
     "evalue": "float division",
     "output_type": "error",
     "traceback": [
      "\u001b[0;31m---------------------------------------------------------------------------\u001b[0m",
      "\u001b[0;31mZeroDivisionError\u001b[0m                         Traceback (most recent call last)",
      "\u001b[0;31mZeroDivisionError\u001b[0m: float division"
     ]
    },
    {
     "name": "stderr",
     "output_type": "stream",
     "text": [
      "Exception ignored in: '_cython_magic_d33e5aada1040c975bde92b13d65fed9.simple_fit'\n",
      "Traceback (most recent call last):\n",
      "  File \"<magic-timeit>\", line 1, in inner\n",
      "ZeroDivisionError: float division\n"
     ]
    },
    {
     "ename": "ZeroDivisionError",
     "evalue": "float division",
     "output_type": "error",
     "traceback": [
      "\u001b[0;31m---------------------------------------------------------------------------\u001b[0m",
      "\u001b[0;31mZeroDivisionError\u001b[0m                         Traceback (most recent call last)",
      "\u001b[0;31mZeroDivisionError\u001b[0m: float division"
     ]
    },
    {
     "name": "stderr",
     "output_type": "stream",
     "text": [
      "Exception ignored in: '_cython_magic_d33e5aada1040c975bde92b13d65fed9.simple_fit'\n",
      "Traceback (most recent call last):\n",
      "  File \"<magic-timeit>\", line 1, in inner\n",
      "ZeroDivisionError: float division\n"
     ]
    },
    {
     "ename": "ZeroDivisionError",
     "evalue": "float division",
     "output_type": "error",
     "traceback": [
      "\u001b[0;31m---------------------------------------------------------------------------\u001b[0m",
      "\u001b[0;31mZeroDivisionError\u001b[0m                         Traceback (most recent call last)",
      "\u001b[0;31mZeroDivisionError\u001b[0m: float division"
     ]
    },
    {
     "name": "stderr",
     "output_type": "stream",
     "text": [
      "Exception ignored in: '_cython_magic_d33e5aada1040c975bde92b13d65fed9.simple_fit'\n",
      "Traceback (most recent call last):\n",
      "  File \"<magic-timeit>\", line 1, in inner\n",
      "ZeroDivisionError: float division\n"
     ]
    },
    {
     "ename": "ZeroDivisionError",
     "evalue": "float division",
     "output_type": "error",
     "traceback": [
      "\u001b[0;31m---------------------------------------------------------------------------\u001b[0m",
      "\u001b[0;31mZeroDivisionError\u001b[0m                         Traceback (most recent call last)",
      "\u001b[0;31mZeroDivisionError\u001b[0m: float division"
     ]
    },
    {
     "name": "stderr",
     "output_type": "stream",
     "text": [
      "Exception ignored in: '_cython_magic_d33e5aada1040c975bde92b13d65fed9.simple_fit'\n",
      "Traceback (most recent call last):\n",
      "  File \"<magic-timeit>\", line 1, in inner\n",
      "ZeroDivisionError: float division\n"
     ]
    },
    {
     "ename": "ZeroDivisionError",
     "evalue": "float division",
     "output_type": "error",
     "traceback": [
      "\u001b[0;31m---------------------------------------------------------------------------\u001b[0m",
      "\u001b[0;31mZeroDivisionError\u001b[0m                         Traceback (most recent call last)",
      "\u001b[0;31mZeroDivisionError\u001b[0m: float division"
     ]
    },
    {
     "name": "stderr",
     "output_type": "stream",
     "text": [
      "Exception ignored in: '_cython_magic_d33e5aada1040c975bde92b13d65fed9.simple_fit'\n",
      "Traceback (most recent call last):\n",
      "  File \"<magic-timeit>\", line 1, in inner\n",
      "ZeroDivisionError: float division\n"
     ]
    },
    {
     "ename": "ZeroDivisionError",
     "evalue": "float division",
     "output_type": "error",
     "traceback": [
      "\u001b[0;31m---------------------------------------------------------------------------\u001b[0m",
      "\u001b[0;31mZeroDivisionError\u001b[0m                         Traceback (most recent call last)",
      "\u001b[0;31mZeroDivisionError\u001b[0m: float division"
     ]
    },
    {
     "name": "stderr",
     "output_type": "stream",
     "text": [
      "Exception ignored in: '_cython_magic_d33e5aada1040c975bde92b13d65fed9.simple_fit'\n",
      "Traceback (most recent call last):\n",
      "  File \"<magic-timeit>\", line 1, in inner\n",
      "ZeroDivisionError: float division\n"
     ]
    },
    {
     "ename": "ZeroDivisionError",
     "evalue": "float division",
     "output_type": "error",
     "traceback": [
      "\u001b[0;31m---------------------------------------------------------------------------\u001b[0m",
      "\u001b[0;31mZeroDivisionError\u001b[0m                         Traceback (most recent call last)",
      "\u001b[0;31mZeroDivisionError\u001b[0m: float division"
     ]
    },
    {
     "name": "stderr",
     "output_type": "stream",
     "text": [
      "Exception ignored in: '_cython_magic_d33e5aada1040c975bde92b13d65fed9.simple_fit'\n",
      "Traceback (most recent call last):\n",
      "  File \"<magic-timeit>\", line 1, in inner\n",
      "ZeroDivisionError: float division\n"
     ]
    },
    {
     "ename": "ZeroDivisionError",
     "evalue": "float division",
     "output_type": "error",
     "traceback": [
      "\u001b[0;31m---------------------------------------------------------------------------\u001b[0m",
      "\u001b[0;31mZeroDivisionError\u001b[0m                         Traceback (most recent call last)",
      "\u001b[0;31mZeroDivisionError\u001b[0m: float division"
     ]
    },
    {
     "name": "stderr",
     "output_type": "stream",
     "text": [
      "Exception ignored in: '_cython_magic_d33e5aada1040c975bde92b13d65fed9.simple_fit'\n",
      "Traceback (most recent call last):\n",
      "  File \"<magic-timeit>\", line 1, in inner\n",
      "ZeroDivisionError: float division\n"
     ]
    },
    {
     "ename": "ZeroDivisionError",
     "evalue": "float division",
     "output_type": "error",
     "traceback": [
      "\u001b[0;31m---------------------------------------------------------------------------\u001b[0m",
      "\u001b[0;31mZeroDivisionError\u001b[0m                         Traceback (most recent call last)",
      "\u001b[0;31mZeroDivisionError\u001b[0m: float division"
     ]
    },
    {
     "name": "stderr",
     "output_type": "stream",
     "text": [
      "Exception ignored in: '_cython_magic_d33e5aada1040c975bde92b13d65fed9.simple_fit'\n",
      "Traceback (most recent call last):\n",
      "  File \"<magic-timeit>\", line 1, in inner\n",
      "ZeroDivisionError: float division\n"
     ]
    },
    {
     "ename": "ZeroDivisionError",
     "evalue": "float division",
     "output_type": "error",
     "traceback": [
      "\u001b[0;31m---------------------------------------------------------------------------\u001b[0m",
      "\u001b[0;31mZeroDivisionError\u001b[0m                         Traceback (most recent call last)",
      "\u001b[0;31mZeroDivisionError\u001b[0m: float division"
     ]
    },
    {
     "name": "stderr",
     "output_type": "stream",
     "text": [
      "Exception ignored in: '_cython_magic_d33e5aada1040c975bde92b13d65fed9.simple_fit'\n",
      "Traceback (most recent call last):\n",
      "  File \"<magic-timeit>\", line 1, in inner\n",
      "ZeroDivisionError: float division\n"
     ]
    },
    {
     "ename": "ZeroDivisionError",
     "evalue": "float division",
     "output_type": "error",
     "traceback": [
      "\u001b[0;31m---------------------------------------------------------------------------\u001b[0m",
      "\u001b[0;31mZeroDivisionError\u001b[0m                         Traceback (most recent call last)",
      "\u001b[0;31mZeroDivisionError\u001b[0m: float division"
     ]
    },
    {
     "name": "stderr",
     "output_type": "stream",
     "text": [
      "Exception ignored in: '_cython_magic_d33e5aada1040c975bde92b13d65fed9.simple_fit'\n",
      "Traceback (most recent call last):\n",
      "  File \"<magic-timeit>\", line 1, in inner\n",
      "ZeroDivisionError: float division\n"
     ]
    },
    {
     "ename": "ZeroDivisionError",
     "evalue": "float division",
     "output_type": "error",
     "traceback": [
      "\u001b[0;31m---------------------------------------------------------------------------\u001b[0m",
      "\u001b[0;31mZeroDivisionError\u001b[0m                         Traceback (most recent call last)",
      "\u001b[0;31mZeroDivisionError\u001b[0m: float division"
     ]
    },
    {
     "name": "stderr",
     "output_type": "stream",
     "text": [
      "Exception ignored in: '_cython_magic_d33e5aada1040c975bde92b13d65fed9.simple_fit'\n",
      "Traceback (most recent call last):\n",
      "  File \"<magic-timeit>\", line 1, in inner\n",
      "ZeroDivisionError: float division\n"
     ]
    },
    {
     "ename": "ZeroDivisionError",
     "evalue": "float division",
     "output_type": "error",
     "traceback": [
      "\u001b[0;31m---------------------------------------------------------------------------\u001b[0m",
      "\u001b[0;31mZeroDivisionError\u001b[0m                         Traceback (most recent call last)",
      "\u001b[0;31mZeroDivisionError\u001b[0m: float division"
     ]
    },
    {
     "name": "stderr",
     "output_type": "stream",
     "text": [
      "Exception ignored in: '_cython_magic_d33e5aada1040c975bde92b13d65fed9.simple_fit'\n",
      "Traceback (most recent call last):\n",
      "  File \"<magic-timeit>\", line 1, in inner\n",
      "ZeroDivisionError: float division\n"
     ]
    },
    {
     "ename": "ZeroDivisionError",
     "evalue": "float division",
     "output_type": "error",
     "traceback": [
      "\u001b[0;31m---------------------------------------------------------------------------\u001b[0m",
      "\u001b[0;31mZeroDivisionError\u001b[0m                         Traceback (most recent call last)",
      "\u001b[0;31mZeroDivisionError\u001b[0m: float division"
     ]
    },
    {
     "name": "stderr",
     "output_type": "stream",
     "text": [
      "Exception ignored in: '_cython_magic_d33e5aada1040c975bde92b13d65fed9.simple_fit'\n",
      "Traceback (most recent call last):\n",
      "  File \"<magic-timeit>\", line 1, in inner\n",
      "ZeroDivisionError: float division\n"
     ]
    },
    {
     "ename": "ZeroDivisionError",
     "evalue": "float division",
     "output_type": "error",
     "traceback": [
      "\u001b[0;31m---------------------------------------------------------------------------\u001b[0m",
      "\u001b[0;31mZeroDivisionError\u001b[0m                         Traceback (most recent call last)",
      "\u001b[0;31mZeroDivisionError\u001b[0m: float division"
     ]
    },
    {
     "name": "stderr",
     "output_type": "stream",
     "text": [
      "Exception ignored in: '_cython_magic_d33e5aada1040c975bde92b13d65fed9.simple_fit'\n",
      "Traceback (most recent call last):\n",
      "  File \"<magic-timeit>\", line 1, in inner\n",
      "ZeroDivisionError: float division\n"
     ]
    },
    {
     "ename": "ZeroDivisionError",
     "evalue": "float division",
     "output_type": "error",
     "traceback": [
      "\u001b[0;31m---------------------------------------------------------------------------\u001b[0m",
      "\u001b[0;31mZeroDivisionError\u001b[0m                         Traceback (most recent call last)",
      "\u001b[0;31mZeroDivisionError\u001b[0m: float division"
     ]
    },
    {
     "name": "stderr",
     "output_type": "stream",
     "text": [
      "Exception ignored in: '_cython_magic_d33e5aada1040c975bde92b13d65fed9.simple_fit'\n",
      "Traceback (most recent call last):\n",
      "  File \"<magic-timeit>\", line 1, in inner\n",
      "ZeroDivisionError: float division\n"
     ]
    },
    {
     "ename": "ZeroDivisionError",
     "evalue": "float division",
     "output_type": "error",
     "traceback": [
      "\u001b[0;31m---------------------------------------------------------------------------\u001b[0m",
      "\u001b[0;31mZeroDivisionError\u001b[0m                         Traceback (most recent call last)",
      "\u001b[0;31mZeroDivisionError\u001b[0m: float division"
     ]
    },
    {
     "name": "stderr",
     "output_type": "stream",
     "text": [
      "Exception ignored in: '_cython_magic_d33e5aada1040c975bde92b13d65fed9.simple_fit'\n",
      "Traceback (most recent call last):\n",
      "  File \"<magic-timeit>\", line 1, in inner\n",
      "ZeroDivisionError: float division\n"
     ]
    },
    {
     "ename": "ZeroDivisionError",
     "evalue": "float division",
     "output_type": "error",
     "traceback": [
      "\u001b[0;31m---------------------------------------------------------------------------\u001b[0m",
      "\u001b[0;31mZeroDivisionError\u001b[0m                         Traceback (most recent call last)",
      "\u001b[0;31mZeroDivisionError\u001b[0m: float division"
     ]
    },
    {
     "name": "stderr",
     "output_type": "stream",
     "text": [
      "Exception ignored in: '_cython_magic_d33e5aada1040c975bde92b13d65fed9.simple_fit'\n",
      "Traceback (most recent call last):\n",
      "  File \"<magic-timeit>\", line 1, in inner\n",
      "ZeroDivisionError: float division\n"
     ]
    },
    {
     "ename": "ZeroDivisionError",
     "evalue": "float division",
     "output_type": "error",
     "traceback": [
      "\u001b[0;31m---------------------------------------------------------------------------\u001b[0m",
      "\u001b[0;31mZeroDivisionError\u001b[0m                         Traceback (most recent call last)",
      "\u001b[0;31mZeroDivisionError\u001b[0m: float division"
     ]
    },
    {
     "name": "stderr",
     "output_type": "stream",
     "text": [
      "Exception ignored in: '_cython_magic_d33e5aada1040c975bde92b13d65fed9.simple_fit'\n",
      "Traceback (most recent call last):\n",
      "  File \"<magic-timeit>\", line 1, in inner\n",
      "ZeroDivisionError: float division\n"
     ]
    },
    {
     "ename": "ZeroDivisionError",
     "evalue": "float division",
     "output_type": "error",
     "traceback": [
      "\u001b[0;31m---------------------------------------------------------------------------\u001b[0m",
      "\u001b[0;31mZeroDivisionError\u001b[0m                         Traceback (most recent call last)",
      "\u001b[0;31mZeroDivisionError\u001b[0m: float division"
     ]
    },
    {
     "name": "stderr",
     "output_type": "stream",
     "text": [
      "Exception ignored in: '_cython_magic_d33e5aada1040c975bde92b13d65fed9.simple_fit'\n",
      "Traceback (most recent call last):\n",
      "  File \"<magic-timeit>\", line 1, in inner\n",
      "ZeroDivisionError: float division\n"
     ]
    },
    {
     "ename": "ZeroDivisionError",
     "evalue": "float division",
     "output_type": "error",
     "traceback": [
      "\u001b[0;31m---------------------------------------------------------------------------\u001b[0m",
      "\u001b[0;31mZeroDivisionError\u001b[0m                         Traceback (most recent call last)",
      "\u001b[0;31mZeroDivisionError\u001b[0m: float division"
     ]
    },
    {
     "name": "stderr",
     "output_type": "stream",
     "text": [
      "Exception ignored in: '_cython_magic_d33e5aada1040c975bde92b13d65fed9.simple_fit'\n",
      "Traceback (most recent call last):\n",
      "  File \"<magic-timeit>\", line 1, in inner\n",
      "ZeroDivisionError: float division\n"
     ]
    },
    {
     "ename": "ZeroDivisionError",
     "evalue": "float division",
     "output_type": "error",
     "traceback": [
      "\u001b[0;31m---------------------------------------------------------------------------\u001b[0m",
      "\u001b[0;31mZeroDivisionError\u001b[0m                         Traceback (most recent call last)",
      "\u001b[0;31mZeroDivisionError\u001b[0m: float division"
     ]
    },
    {
     "name": "stderr",
     "output_type": "stream",
     "text": [
      "Exception ignored in: '_cython_magic_d33e5aada1040c975bde92b13d65fed9.simple_fit'\n",
      "Traceback (most recent call last):\n",
      "  File \"<magic-timeit>\", line 1, in inner\n",
      "ZeroDivisionError: float division\n"
     ]
    },
    {
     "ename": "ZeroDivisionError",
     "evalue": "float division",
     "output_type": "error",
     "traceback": [
      "\u001b[0;31m---------------------------------------------------------------------------\u001b[0m",
      "\u001b[0;31mZeroDivisionError\u001b[0m                         Traceback (most recent call last)",
      "\u001b[0;31mZeroDivisionError\u001b[0m: float division"
     ]
    },
    {
     "name": "stderr",
     "output_type": "stream",
     "text": [
      "Exception ignored in: '_cython_magic_d33e5aada1040c975bde92b13d65fed9.simple_fit'\n",
      "Traceback (most recent call last):\n",
      "  File \"<magic-timeit>\", line 1, in inner\n",
      "ZeroDivisionError: float division\n"
     ]
    },
    {
     "ename": "ZeroDivisionError",
     "evalue": "float division",
     "output_type": "error",
     "traceback": [
      "\u001b[0;31m---------------------------------------------------------------------------\u001b[0m",
      "\u001b[0;31mZeroDivisionError\u001b[0m                         Traceback (most recent call last)",
      "\u001b[0;31mZeroDivisionError\u001b[0m: float division"
     ]
    },
    {
     "name": "stderr",
     "output_type": "stream",
     "text": [
      "Exception ignored in: '_cython_magic_d33e5aada1040c975bde92b13d65fed9.simple_fit'\n",
      "Traceback (most recent call last):\n",
      "  File \"<magic-timeit>\", line 1, in inner\n",
      "ZeroDivisionError: float division\n"
     ]
    },
    {
     "ename": "ZeroDivisionError",
     "evalue": "float division",
     "output_type": "error",
     "traceback": [
      "\u001b[0;31m---------------------------------------------------------------------------\u001b[0m",
      "\u001b[0;31mZeroDivisionError\u001b[0m                         Traceback (most recent call last)",
      "\u001b[0;31mZeroDivisionError\u001b[0m: float division"
     ]
    },
    {
     "name": "stderr",
     "output_type": "stream",
     "text": [
      "Exception ignored in: '_cython_magic_d33e5aada1040c975bde92b13d65fed9.simple_fit'\n",
      "Traceback (most recent call last):\n",
      "  File \"<magic-timeit>\", line 1, in inner\n",
      "ZeroDivisionError: float division\n"
     ]
    },
    {
     "ename": "ZeroDivisionError",
     "evalue": "float division",
     "output_type": "error",
     "traceback": [
      "\u001b[0;31m---------------------------------------------------------------------------\u001b[0m",
      "\u001b[0;31mZeroDivisionError\u001b[0m                         Traceback (most recent call last)",
      "\u001b[0;31mZeroDivisionError\u001b[0m: float division"
     ]
    },
    {
     "name": "stderr",
     "output_type": "stream",
     "text": [
      "Exception ignored in: '_cython_magic_d33e5aada1040c975bde92b13d65fed9.simple_fit'\n",
      "Traceback (most recent call last):\n",
      "  File \"<magic-timeit>\", line 1, in inner\n",
      "ZeroDivisionError: float division\n"
     ]
    },
    {
     "ename": "ZeroDivisionError",
     "evalue": "float division",
     "output_type": "error",
     "traceback": [
      "\u001b[0;31m---------------------------------------------------------------------------\u001b[0m",
      "\u001b[0;31mZeroDivisionError\u001b[0m                         Traceback (most recent call last)",
      "\u001b[0;31mZeroDivisionError\u001b[0m: float division"
     ]
    },
    {
     "name": "stderr",
     "output_type": "stream",
     "text": [
      "Exception ignored in: '_cython_magic_d33e5aada1040c975bde92b13d65fed9.simple_fit'\n",
      "Traceback (most recent call last):\n",
      "  File \"<magic-timeit>\", line 1, in inner\n",
      "ZeroDivisionError: float division\n"
     ]
    },
    {
     "ename": "ZeroDivisionError",
     "evalue": "float division",
     "output_type": "error",
     "traceback": [
      "\u001b[0;31m---------------------------------------------------------------------------\u001b[0m",
      "\u001b[0;31mZeroDivisionError\u001b[0m                         Traceback (most recent call last)",
      "\u001b[0;31mZeroDivisionError\u001b[0m: float division"
     ]
    },
    {
     "name": "stderr",
     "output_type": "stream",
     "text": [
      "Exception ignored in: '_cython_magic_d33e5aada1040c975bde92b13d65fed9.simple_fit'\n",
      "Traceback (most recent call last):\n",
      "  File \"<magic-timeit>\", line 1, in inner\n",
      "ZeroDivisionError: float division\n"
     ]
    },
    {
     "ename": "ZeroDivisionError",
     "evalue": "float division",
     "output_type": "error",
     "traceback": [
      "\u001b[0;31m---------------------------------------------------------------------------\u001b[0m",
      "\u001b[0;31mZeroDivisionError\u001b[0m                         Traceback (most recent call last)",
      "\u001b[0;31mZeroDivisionError\u001b[0m: float division"
     ]
    },
    {
     "name": "stderr",
     "output_type": "stream",
     "text": [
      "Exception ignored in: '_cython_magic_d33e5aada1040c975bde92b13d65fed9.simple_fit'\n",
      "Traceback (most recent call last):\n",
      "  File \"<magic-timeit>\", line 1, in inner\n",
      "ZeroDivisionError: float division\n"
     ]
    },
    {
     "ename": "ZeroDivisionError",
     "evalue": "float division",
     "output_type": "error",
     "traceback": [
      "\u001b[0;31m---------------------------------------------------------------------------\u001b[0m",
      "\u001b[0;31mZeroDivisionError\u001b[0m                         Traceback (most recent call last)",
      "\u001b[0;31mZeroDivisionError\u001b[0m: float division"
     ]
    },
    {
     "name": "stderr",
     "output_type": "stream",
     "text": [
      "Exception ignored in: '_cython_magic_d33e5aada1040c975bde92b13d65fed9.simple_fit'\n",
      "Traceback (most recent call last):\n",
      "  File \"<magic-timeit>\", line 1, in inner\n",
      "ZeroDivisionError: float division\n"
     ]
    },
    {
     "ename": "ZeroDivisionError",
     "evalue": "float division",
     "output_type": "error",
     "traceback": [
      "\u001b[0;31m---------------------------------------------------------------------------\u001b[0m",
      "\u001b[0;31mZeroDivisionError\u001b[0m                         Traceback (most recent call last)",
      "\u001b[0;31mZeroDivisionError\u001b[0m: float division"
     ]
    },
    {
     "name": "stderr",
     "output_type": "stream",
     "text": [
      "Exception ignored in: '_cython_magic_d33e5aada1040c975bde92b13d65fed9.simple_fit'\n",
      "Traceback (most recent call last):\n",
      "  File \"<magic-timeit>\", line 1, in inner\n",
      "ZeroDivisionError: float division\n"
     ]
    },
    {
     "ename": "ZeroDivisionError",
     "evalue": "float division",
     "output_type": "error",
     "traceback": [
      "\u001b[0;31m---------------------------------------------------------------------------\u001b[0m",
      "\u001b[0;31mZeroDivisionError\u001b[0m                         Traceback (most recent call last)",
      "\u001b[0;31mZeroDivisionError\u001b[0m: float division"
     ]
    },
    {
     "name": "stderr",
     "output_type": "stream",
     "text": [
      "Exception ignored in: '_cython_magic_d33e5aada1040c975bde92b13d65fed9.simple_fit'\n",
      "Traceback (most recent call last):\n",
      "  File \"<magic-timeit>\", line 1, in inner\n",
      "ZeroDivisionError: float division\n"
     ]
    },
    {
     "ename": "ZeroDivisionError",
     "evalue": "float division",
     "output_type": "error",
     "traceback": [
      "\u001b[0;31m---------------------------------------------------------------------------\u001b[0m",
      "\u001b[0;31mZeroDivisionError\u001b[0m                         Traceback (most recent call last)",
      "\u001b[0;31mZeroDivisionError\u001b[0m: float division"
     ]
    },
    {
     "name": "stderr",
     "output_type": "stream",
     "text": [
      "Exception ignored in: '_cython_magic_d33e5aada1040c975bde92b13d65fed9.simple_fit'\n",
      "Traceback (most recent call last):\n",
      "  File \"<magic-timeit>\", line 1, in inner\n",
      "ZeroDivisionError: float division\n"
     ]
    },
    {
     "ename": "ZeroDivisionError",
     "evalue": "float division",
     "output_type": "error",
     "traceback": [
      "\u001b[0;31m---------------------------------------------------------------------------\u001b[0m",
      "\u001b[0;31mZeroDivisionError\u001b[0m                         Traceback (most recent call last)",
      "\u001b[0;31mZeroDivisionError\u001b[0m: float division"
     ]
    },
    {
     "name": "stderr",
     "output_type": "stream",
     "text": [
      "Exception ignored in: '_cython_magic_d33e5aada1040c975bde92b13d65fed9.simple_fit'\n",
      "Traceback (most recent call last):\n",
      "  File \"<magic-timeit>\", line 1, in inner\n",
      "ZeroDivisionError: float division\n"
     ]
    },
    {
     "ename": "ZeroDivisionError",
     "evalue": "float division",
     "output_type": "error",
     "traceback": [
      "\u001b[0;31m---------------------------------------------------------------------------\u001b[0m",
      "\u001b[0;31mZeroDivisionError\u001b[0m                         Traceback (most recent call last)",
      "\u001b[0;31mZeroDivisionError\u001b[0m: float division"
     ]
    },
    {
     "name": "stderr",
     "output_type": "stream",
     "text": [
      "Exception ignored in: '_cython_magic_d33e5aada1040c975bde92b13d65fed9.simple_fit'\n",
      "Traceback (most recent call last):\n",
      "  File \"<magic-timeit>\", line 1, in inner\n",
      "ZeroDivisionError: float division\n"
     ]
    },
    {
     "ename": "ZeroDivisionError",
     "evalue": "float division",
     "output_type": "error",
     "traceback": [
      "\u001b[0;31m---------------------------------------------------------------------------\u001b[0m",
      "\u001b[0;31mZeroDivisionError\u001b[0m                         Traceback (most recent call last)",
      "\u001b[0;31mZeroDivisionError\u001b[0m: float division"
     ]
    },
    {
     "name": "stderr",
     "output_type": "stream",
     "text": [
      "Exception ignored in: '_cython_magic_d33e5aada1040c975bde92b13d65fed9.simple_fit'\n",
      "Traceback (most recent call last):\n",
      "  File \"<magic-timeit>\", line 1, in inner\n",
      "ZeroDivisionError: float division\n"
     ]
    },
    {
     "ename": "ZeroDivisionError",
     "evalue": "float division",
     "output_type": "error",
     "traceback": [
      "\u001b[0;31m---------------------------------------------------------------------------\u001b[0m",
      "\u001b[0;31mZeroDivisionError\u001b[0m                         Traceback (most recent call last)",
      "\u001b[0;31mZeroDivisionError\u001b[0m: float division"
     ]
    },
    {
     "name": "stderr",
     "output_type": "stream",
     "text": [
      "Exception ignored in: '_cython_magic_d33e5aada1040c975bde92b13d65fed9.simple_fit'\n",
      "Traceback (most recent call last):\n",
      "  File \"<magic-timeit>\", line 1, in inner\n",
      "ZeroDivisionError: float division\n"
     ]
    },
    {
     "ename": "ZeroDivisionError",
     "evalue": "float division",
     "output_type": "error",
     "traceback": [
      "\u001b[0;31m---------------------------------------------------------------------------\u001b[0m",
      "\u001b[0;31mZeroDivisionError\u001b[0m                         Traceback (most recent call last)",
      "\u001b[0;31mZeroDivisionError\u001b[0m: float division"
     ]
    },
    {
     "name": "stderr",
     "output_type": "stream",
     "text": [
      "Exception ignored in: '_cython_magic_d33e5aada1040c975bde92b13d65fed9.simple_fit'\n",
      "Traceback (most recent call last):\n",
      "  File \"<magic-timeit>\", line 1, in inner\n",
      "ZeroDivisionError: float division\n"
     ]
    },
    {
     "ename": "ZeroDivisionError",
     "evalue": "float division",
     "output_type": "error",
     "traceback": [
      "\u001b[0;31m---------------------------------------------------------------------------\u001b[0m",
      "\u001b[0;31mZeroDivisionError\u001b[0m                         Traceback (most recent call last)",
      "\u001b[0;31mZeroDivisionError\u001b[0m: float division"
     ]
    },
    {
     "name": "stderr",
     "output_type": "stream",
     "text": [
      "Exception ignored in: '_cython_magic_d33e5aada1040c975bde92b13d65fed9.simple_fit'\n",
      "Traceback (most recent call last):\n",
      "  File \"<magic-timeit>\", line 1, in inner\n",
      "ZeroDivisionError: float division\n"
     ]
    },
    {
     "ename": "ZeroDivisionError",
     "evalue": "float division",
     "output_type": "error",
     "traceback": [
      "\u001b[0;31m---------------------------------------------------------------------------\u001b[0m",
      "\u001b[0;31mZeroDivisionError\u001b[0m                         Traceback (most recent call last)",
      "\u001b[0;31mZeroDivisionError\u001b[0m: float division"
     ]
    },
    {
     "name": "stderr",
     "output_type": "stream",
     "text": [
      "Exception ignored in: '_cython_magic_d33e5aada1040c975bde92b13d65fed9.simple_fit'\n",
      "Traceback (most recent call last):\n",
      "  File \"<magic-timeit>\", line 1, in inner\n",
      "ZeroDivisionError: float division\n"
     ]
    },
    {
     "ename": "ZeroDivisionError",
     "evalue": "float division",
     "output_type": "error",
     "traceback": [
      "\u001b[0;31m---------------------------------------------------------------------------\u001b[0m",
      "\u001b[0;31mZeroDivisionError\u001b[0m                         Traceback (most recent call last)",
      "\u001b[0;31mZeroDivisionError\u001b[0m: float division"
     ]
    },
    {
     "name": "stderr",
     "output_type": "stream",
     "text": [
      "Exception ignored in: '_cython_magic_d33e5aada1040c975bde92b13d65fed9.simple_fit'\n",
      "Traceback (most recent call last):\n",
      "  File \"<magic-timeit>\", line 1, in inner\n",
      "ZeroDivisionError: float division\n"
     ]
    },
    {
     "ename": "ZeroDivisionError",
     "evalue": "float division",
     "output_type": "error",
     "traceback": [
      "\u001b[0;31m---------------------------------------------------------------------------\u001b[0m",
      "\u001b[0;31mZeroDivisionError\u001b[0m                         Traceback (most recent call last)",
      "\u001b[0;31mZeroDivisionError\u001b[0m: float division"
     ]
    },
    {
     "name": "stderr",
     "output_type": "stream",
     "text": [
      "Exception ignored in: '_cython_magic_d33e5aada1040c975bde92b13d65fed9.simple_fit'\n",
      "Traceback (most recent call last):\n",
      "  File \"<magic-timeit>\", line 1, in inner\n",
      "ZeroDivisionError: float division\n"
     ]
    },
    {
     "ename": "ZeroDivisionError",
     "evalue": "float division",
     "output_type": "error",
     "traceback": [
      "\u001b[0;31m---------------------------------------------------------------------------\u001b[0m",
      "\u001b[0;31mZeroDivisionError\u001b[0m                         Traceback (most recent call last)",
      "\u001b[0;31mZeroDivisionError\u001b[0m: float division"
     ]
    },
    {
     "name": "stderr",
     "output_type": "stream",
     "text": [
      "Exception ignored in: '_cython_magic_d33e5aada1040c975bde92b13d65fed9.simple_fit'\n",
      "Traceback (most recent call last):\n",
      "  File \"<magic-timeit>\", line 1, in inner\n",
      "ZeroDivisionError: float division\n"
     ]
    },
    {
     "ename": "ZeroDivisionError",
     "evalue": "float division",
     "output_type": "error",
     "traceback": [
      "\u001b[0;31m---------------------------------------------------------------------------\u001b[0m",
      "\u001b[0;31mZeroDivisionError\u001b[0m                         Traceback (most recent call last)",
      "\u001b[0;31mZeroDivisionError\u001b[0m: float division"
     ]
    },
    {
     "name": "stderr",
     "output_type": "stream",
     "text": [
      "Exception ignored in: '_cython_magic_d33e5aada1040c975bde92b13d65fed9.simple_fit'\n",
      "Traceback (most recent call last):\n",
      "  File \"<magic-timeit>\", line 1, in inner\n",
      "ZeroDivisionError: float division\n"
     ]
    },
    {
     "ename": "ZeroDivisionError",
     "evalue": "float division",
     "output_type": "error",
     "traceback": [
      "\u001b[0;31m---------------------------------------------------------------------------\u001b[0m",
      "\u001b[0;31mZeroDivisionError\u001b[0m                         Traceback (most recent call last)",
      "\u001b[0;31mZeroDivisionError\u001b[0m: float division"
     ]
    },
    {
     "name": "stderr",
     "output_type": "stream",
     "text": [
      "Exception ignored in: '_cython_magic_d33e5aada1040c975bde92b13d65fed9.simple_fit'\n",
      "Traceback (most recent call last):\n",
      "  File \"<magic-timeit>\", line 1, in inner\n",
      "ZeroDivisionError: float division\n"
     ]
    },
    {
     "ename": "ZeroDivisionError",
     "evalue": "float division",
     "output_type": "error",
     "traceback": [
      "\u001b[0;31m---------------------------------------------------------------------------\u001b[0m",
      "\u001b[0;31mZeroDivisionError\u001b[0m                         Traceback (most recent call last)",
      "\u001b[0;31mZeroDivisionError\u001b[0m: float division"
     ]
    },
    {
     "name": "stderr",
     "output_type": "stream",
     "text": [
      "Exception ignored in: '_cython_magic_d33e5aada1040c975bde92b13d65fed9.simple_fit'\n",
      "Traceback (most recent call last):\n",
      "  File \"<magic-timeit>\", line 1, in inner\n",
      "ZeroDivisionError: float division\n"
     ]
    },
    {
     "ename": "ZeroDivisionError",
     "evalue": "float division",
     "output_type": "error",
     "traceback": [
      "\u001b[0;31m---------------------------------------------------------------------------\u001b[0m",
      "\u001b[0;31mZeroDivisionError\u001b[0m                         Traceback (most recent call last)",
      "\u001b[0;31mZeroDivisionError\u001b[0m: float division"
     ]
    },
    {
     "name": "stderr",
     "output_type": "stream",
     "text": [
      "Exception ignored in: '_cython_magic_d33e5aada1040c975bde92b13d65fed9.simple_fit'\n",
      "Traceback (most recent call last):\n",
      "  File \"<magic-timeit>\", line 1, in inner\n",
      "ZeroDivisionError: float division\n"
     ]
    },
    {
     "ename": "ZeroDivisionError",
     "evalue": "float division",
     "output_type": "error",
     "traceback": [
      "\u001b[0;31m---------------------------------------------------------------------------\u001b[0m",
      "\u001b[0;31mZeroDivisionError\u001b[0m                         Traceback (most recent call last)",
      "\u001b[0;31mZeroDivisionError\u001b[0m: float division"
     ]
    },
    {
     "name": "stderr",
     "output_type": "stream",
     "text": [
      "Exception ignored in: '_cython_magic_d33e5aada1040c975bde92b13d65fed9.simple_fit'\n",
      "Traceback (most recent call last):\n",
      "  File \"<magic-timeit>\", line 1, in inner\n",
      "ZeroDivisionError: float division\n"
     ]
    },
    {
     "ename": "ZeroDivisionError",
     "evalue": "float division",
     "output_type": "error",
     "traceback": [
      "\u001b[0;31m---------------------------------------------------------------------------\u001b[0m",
      "\u001b[0;31mZeroDivisionError\u001b[0m                         Traceback (most recent call last)",
      "\u001b[0;31mZeroDivisionError\u001b[0m: float division"
     ]
    },
    {
     "name": "stderr",
     "output_type": "stream",
     "text": [
      "Exception ignored in: '_cython_magic_d33e5aada1040c975bde92b13d65fed9.simple_fit'\n",
      "Traceback (most recent call last):\n",
      "  File \"<magic-timeit>\", line 1, in inner\n",
      "ZeroDivisionError: float division\n"
     ]
    },
    {
     "ename": "ZeroDivisionError",
     "evalue": "float division",
     "output_type": "error",
     "traceback": [
      "\u001b[0;31m---------------------------------------------------------------------------\u001b[0m",
      "\u001b[0;31mZeroDivisionError\u001b[0m                         Traceback (most recent call last)",
      "\u001b[0;31mZeroDivisionError\u001b[0m: float division"
     ]
    },
    {
     "name": "stderr",
     "output_type": "stream",
     "text": [
      "Exception ignored in: '_cython_magic_d33e5aada1040c975bde92b13d65fed9.simple_fit'\n",
      "Traceback (most recent call last):\n",
      "  File \"<magic-timeit>\", line 1, in inner\n",
      "ZeroDivisionError: float division\n"
     ]
    },
    {
     "ename": "ZeroDivisionError",
     "evalue": "float division",
     "output_type": "error",
     "traceback": [
      "\u001b[0;31m---------------------------------------------------------------------------\u001b[0m",
      "\u001b[0;31mZeroDivisionError\u001b[0m                         Traceback (most recent call last)",
      "\u001b[0;31mZeroDivisionError\u001b[0m: float division"
     ]
    },
    {
     "name": "stderr",
     "output_type": "stream",
     "text": [
      "Exception ignored in: '_cython_magic_d33e5aada1040c975bde92b13d65fed9.simple_fit'\n",
      "Traceback (most recent call last):\n",
      "  File \"<magic-timeit>\", line 1, in inner\n",
      "ZeroDivisionError: float division\n"
     ]
    },
    {
     "ename": "ZeroDivisionError",
     "evalue": "float division",
     "output_type": "error",
     "traceback": [
      "\u001b[0;31m---------------------------------------------------------------------------\u001b[0m",
      "\u001b[0;31mZeroDivisionError\u001b[0m                         Traceback (most recent call last)",
      "\u001b[0;31mZeroDivisionError\u001b[0m: float division"
     ]
    },
    {
     "name": "stderr",
     "output_type": "stream",
     "text": [
      "Exception ignored in: '_cython_magic_d33e5aada1040c975bde92b13d65fed9.simple_fit'\n",
      "Traceback (most recent call last):\n",
      "  File \"<magic-timeit>\", line 1, in inner\n",
      "ZeroDivisionError: float division\n"
     ]
    },
    {
     "ename": "ZeroDivisionError",
     "evalue": "float division",
     "output_type": "error",
     "traceback": [
      "\u001b[0;31m---------------------------------------------------------------------------\u001b[0m",
      "\u001b[0;31mZeroDivisionError\u001b[0m                         Traceback (most recent call last)",
      "\u001b[0;31mZeroDivisionError\u001b[0m: float division"
     ]
    },
    {
     "name": "stderr",
     "output_type": "stream",
     "text": [
      "Exception ignored in: '_cython_magic_d33e5aada1040c975bde92b13d65fed9.simple_fit'\n",
      "Traceback (most recent call last):\n",
      "  File \"<magic-timeit>\", line 1, in inner\n",
      "ZeroDivisionError: float division\n"
     ]
    },
    {
     "ename": "ZeroDivisionError",
     "evalue": "float division",
     "output_type": "error",
     "traceback": [
      "\u001b[0;31m---------------------------------------------------------------------------\u001b[0m",
      "\u001b[0;31mZeroDivisionError\u001b[0m                         Traceback (most recent call last)",
      "\u001b[0;31mZeroDivisionError\u001b[0m: float division"
     ]
    },
    {
     "name": "stderr",
     "output_type": "stream",
     "text": [
      "Exception ignored in: '_cython_magic_d33e5aada1040c975bde92b13d65fed9.simple_fit'\n",
      "Traceback (most recent call last):\n",
      "  File \"<magic-timeit>\", line 1, in inner\n",
      "ZeroDivisionError: float division\n"
     ]
    },
    {
     "ename": "ZeroDivisionError",
     "evalue": "float division",
     "output_type": "error",
     "traceback": [
      "\u001b[0;31m---------------------------------------------------------------------------\u001b[0m",
      "\u001b[0;31mZeroDivisionError\u001b[0m                         Traceback (most recent call last)",
      "\u001b[0;31mZeroDivisionError\u001b[0m: float division"
     ]
    },
    {
     "name": "stderr",
     "output_type": "stream",
     "text": [
      "Exception ignored in: '_cython_magic_d33e5aada1040c975bde92b13d65fed9.simple_fit'\n",
      "Traceback (most recent call last):\n",
      "  File \"<magic-timeit>\", line 1, in inner\n",
      "ZeroDivisionError: float division\n"
     ]
    },
    {
     "ename": "ZeroDivisionError",
     "evalue": "float division",
     "output_type": "error",
     "traceback": [
      "\u001b[0;31m---------------------------------------------------------------------------\u001b[0m",
      "\u001b[0;31mZeroDivisionError\u001b[0m                         Traceback (most recent call last)",
      "\u001b[0;31mZeroDivisionError\u001b[0m: float division"
     ]
    },
    {
     "name": "stderr",
     "output_type": "stream",
     "text": [
      "Exception ignored in: '_cython_magic_d33e5aada1040c975bde92b13d65fed9.simple_fit'\n",
      "Traceback (most recent call last):\n",
      "  File \"<magic-timeit>\", line 1, in inner\n",
      "ZeroDivisionError: float division\n"
     ]
    },
    {
     "ename": "ZeroDivisionError",
     "evalue": "float division",
     "output_type": "error",
     "traceback": [
      "\u001b[0;31m---------------------------------------------------------------------------\u001b[0m",
      "\u001b[0;31mZeroDivisionError\u001b[0m                         Traceback (most recent call last)",
      "\u001b[0;31mZeroDivisionError\u001b[0m: float division"
     ]
    },
    {
     "name": "stderr",
     "output_type": "stream",
     "text": [
      "Exception ignored in: '_cython_magic_d33e5aada1040c975bde92b13d65fed9.simple_fit'\n",
      "Traceback (most recent call last):\n",
      "  File \"<magic-timeit>\", line 1, in inner\n",
      "ZeroDivisionError: float division\n"
     ]
    },
    {
     "ename": "ZeroDivisionError",
     "evalue": "float division",
     "output_type": "error",
     "traceback": [
      "\u001b[0;31m---------------------------------------------------------------------------\u001b[0m",
      "\u001b[0;31mZeroDivisionError\u001b[0m                         Traceback (most recent call last)",
      "\u001b[0;31mZeroDivisionError\u001b[0m: float division"
     ]
    },
    {
     "name": "stderr",
     "output_type": "stream",
     "text": [
      "Exception ignored in: '_cython_magic_d33e5aada1040c975bde92b13d65fed9.simple_fit'\n",
      "Traceback (most recent call last):\n",
      "  File \"<magic-timeit>\", line 1, in inner\n",
      "ZeroDivisionError: float division\n"
     ]
    },
    {
     "ename": "ZeroDivisionError",
     "evalue": "float division",
     "output_type": "error",
     "traceback": [
      "\u001b[0;31m---------------------------------------------------------------------------\u001b[0m",
      "\u001b[0;31mZeroDivisionError\u001b[0m                         Traceback (most recent call last)",
      "\u001b[0;31mZeroDivisionError\u001b[0m: float division"
     ]
    },
    {
     "name": "stderr",
     "output_type": "stream",
     "text": [
      "Exception ignored in: '_cython_magic_d33e5aada1040c975bde92b13d65fed9.simple_fit'\n",
      "Traceback (most recent call last):\n",
      "  File \"<magic-timeit>\", line 1, in inner\n",
      "ZeroDivisionError: float division\n"
     ]
    },
    {
     "ename": "ZeroDivisionError",
     "evalue": "float division",
     "output_type": "error",
     "traceback": [
      "\u001b[0;31m---------------------------------------------------------------------------\u001b[0m",
      "\u001b[0;31mZeroDivisionError\u001b[0m                         Traceback (most recent call last)",
      "\u001b[0;31mZeroDivisionError\u001b[0m: float division"
     ]
    },
    {
     "name": "stderr",
     "output_type": "stream",
     "text": [
      "Exception ignored in: '_cython_magic_d33e5aada1040c975bde92b13d65fed9.simple_fit'\n",
      "Traceback (most recent call last):\n",
      "  File \"<magic-timeit>\", line 1, in inner\n",
      "ZeroDivisionError: float division\n"
     ]
    },
    {
     "ename": "ZeroDivisionError",
     "evalue": "float division",
     "output_type": "error",
     "traceback": [
      "\u001b[0;31m---------------------------------------------------------------------------\u001b[0m",
      "\u001b[0;31mZeroDivisionError\u001b[0m                         Traceback (most recent call last)",
      "\u001b[0;31mZeroDivisionError\u001b[0m: float division"
     ]
    },
    {
     "name": "stderr",
     "output_type": "stream",
     "text": [
      "Exception ignored in: '_cython_magic_d33e5aada1040c975bde92b13d65fed9.simple_fit'\n",
      "Traceback (most recent call last):\n",
      "  File \"<magic-timeit>\", line 1, in inner\n",
      "ZeroDivisionError: float division\n"
     ]
    },
    {
     "ename": "ZeroDivisionError",
     "evalue": "float division",
     "output_type": "error",
     "traceback": [
      "\u001b[0;31m---------------------------------------------------------------------------\u001b[0m",
      "\u001b[0;31mZeroDivisionError\u001b[0m                         Traceback (most recent call last)",
      "\u001b[0;31mZeroDivisionError\u001b[0m: float division"
     ]
    },
    {
     "name": "stderr",
     "output_type": "stream",
     "text": [
      "Exception ignored in: '_cython_magic_d33e5aada1040c975bde92b13d65fed9.simple_fit'\n",
      "Traceback (most recent call last):\n",
      "  File \"<magic-timeit>\", line 1, in inner\n",
      "ZeroDivisionError: float division\n"
     ]
    },
    {
     "ename": "ZeroDivisionError",
     "evalue": "float division",
     "output_type": "error",
     "traceback": [
      "\u001b[0;31m---------------------------------------------------------------------------\u001b[0m",
      "\u001b[0;31mZeroDivisionError\u001b[0m                         Traceback (most recent call last)",
      "\u001b[0;31mZeroDivisionError\u001b[0m: float division"
     ]
    },
    {
     "name": "stderr",
     "output_type": "stream",
     "text": [
      "Exception ignored in: '_cython_magic_d33e5aada1040c975bde92b13d65fed9.simple_fit'\n",
      "Traceback (most recent call last):\n",
      "  File \"<magic-timeit>\", line 1, in inner\n",
      "ZeroDivisionError: float division\n"
     ]
    },
    {
     "ename": "ZeroDivisionError",
     "evalue": "float division",
     "output_type": "error",
     "traceback": [
      "\u001b[0;31m---------------------------------------------------------------------------\u001b[0m",
      "\u001b[0;31mZeroDivisionError\u001b[0m                         Traceback (most recent call last)",
      "\u001b[0;31mZeroDivisionError\u001b[0m: float division"
     ]
    },
    {
     "name": "stderr",
     "output_type": "stream",
     "text": [
      "Exception ignored in: '_cython_magic_d33e5aada1040c975bde92b13d65fed9.simple_fit'\n",
      "Traceback (most recent call last):\n",
      "  File \"<magic-timeit>\", line 1, in inner\n",
      "ZeroDivisionError: float division\n"
     ]
    },
    {
     "ename": "ZeroDivisionError",
     "evalue": "float division",
     "output_type": "error",
     "traceback": [
      "\u001b[0;31m---------------------------------------------------------------------------\u001b[0m",
      "\u001b[0;31mZeroDivisionError\u001b[0m                         Traceback (most recent call last)",
      "\u001b[0;31mZeroDivisionError\u001b[0m: float division"
     ]
    },
    {
     "name": "stderr",
     "output_type": "stream",
     "text": [
      "Exception ignored in: '_cython_magic_d33e5aada1040c975bde92b13d65fed9.simple_fit'\n",
      "Traceback (most recent call last):\n",
      "  File \"<magic-timeit>\", line 1, in inner\n",
      "ZeroDivisionError: float division\n"
     ]
    },
    {
     "ename": "ZeroDivisionError",
     "evalue": "float division",
     "output_type": "error",
     "traceback": [
      "\u001b[0;31m---------------------------------------------------------------------------\u001b[0m",
      "\u001b[0;31mZeroDivisionError\u001b[0m                         Traceback (most recent call last)",
      "\u001b[0;31mZeroDivisionError\u001b[0m: float division"
     ]
    },
    {
     "name": "stderr",
     "output_type": "stream",
     "text": [
      "Exception ignored in: '_cython_magic_d33e5aada1040c975bde92b13d65fed9.simple_fit'\n",
      "Traceback (most recent call last):\n",
      "  File \"<magic-timeit>\", line 1, in inner\n",
      "ZeroDivisionError: float division\n"
     ]
    },
    {
     "ename": "ZeroDivisionError",
     "evalue": "float division",
     "output_type": "error",
     "traceback": [
      "\u001b[0;31m---------------------------------------------------------------------------\u001b[0m",
      "\u001b[0;31mZeroDivisionError\u001b[0m                         Traceback (most recent call last)",
      "\u001b[0;31mZeroDivisionError\u001b[0m: float division"
     ]
    },
    {
     "name": "stderr",
     "output_type": "stream",
     "text": [
      "Exception ignored in: '_cython_magic_d33e5aada1040c975bde92b13d65fed9.simple_fit'\n",
      "Traceback (most recent call last):\n",
      "  File \"<magic-timeit>\", line 1, in inner\n",
      "ZeroDivisionError: float division\n"
     ]
    },
    {
     "ename": "ZeroDivisionError",
     "evalue": "float division",
     "output_type": "error",
     "traceback": [
      "\u001b[0;31m---------------------------------------------------------------------------\u001b[0m",
      "\u001b[0;31mZeroDivisionError\u001b[0m                         Traceback (most recent call last)",
      "\u001b[0;31mZeroDivisionError\u001b[0m: float division"
     ]
    },
    {
     "name": "stderr",
     "output_type": "stream",
     "text": [
      "Exception ignored in: '_cython_magic_d33e5aada1040c975bde92b13d65fed9.simple_fit'\n",
      "Traceback (most recent call last):\n",
      "  File \"<magic-timeit>\", line 1, in inner\n",
      "ZeroDivisionError: float division\n"
     ]
    },
    {
     "ename": "ZeroDivisionError",
     "evalue": "float division",
     "output_type": "error",
     "traceback": [
      "\u001b[0;31m---------------------------------------------------------------------------\u001b[0m",
      "\u001b[0;31mZeroDivisionError\u001b[0m                         Traceback (most recent call last)",
      "\u001b[0;31mZeroDivisionError\u001b[0m: float division"
     ]
    },
    {
     "name": "stderr",
     "output_type": "stream",
     "text": [
      "Exception ignored in: '_cython_magic_d33e5aada1040c975bde92b13d65fed9.simple_fit'\n",
      "Traceback (most recent call last):\n",
      "  File \"<magic-timeit>\", line 1, in inner\n",
      "ZeroDivisionError: float division\n"
     ]
    },
    {
     "ename": "ZeroDivisionError",
     "evalue": "float division",
     "output_type": "error",
     "traceback": [
      "\u001b[0;31m---------------------------------------------------------------------------\u001b[0m",
      "\u001b[0;31mZeroDivisionError\u001b[0m                         Traceback (most recent call last)",
      "\u001b[0;31mZeroDivisionError\u001b[0m: float division"
     ]
    },
    {
     "name": "stderr",
     "output_type": "stream",
     "text": [
      "Exception ignored in: '_cython_magic_d33e5aada1040c975bde92b13d65fed9.simple_fit'\n",
      "Traceback (most recent call last):\n",
      "  File \"<magic-timeit>\", line 1, in inner\n",
      "ZeroDivisionError: float division\n"
     ]
    },
    {
     "ename": "ZeroDivisionError",
     "evalue": "float division",
     "output_type": "error",
     "traceback": [
      "\u001b[0;31m---------------------------------------------------------------------------\u001b[0m",
      "\u001b[0;31mZeroDivisionError\u001b[0m                         Traceback (most recent call last)",
      "\u001b[0;31mZeroDivisionError\u001b[0m: float division"
     ]
    },
    {
     "name": "stderr",
     "output_type": "stream",
     "text": [
      "Exception ignored in: '_cython_magic_d33e5aada1040c975bde92b13d65fed9.simple_fit'\n",
      "Traceback (most recent call last):\n",
      "  File \"<magic-timeit>\", line 1, in inner\n",
      "ZeroDivisionError: float division\n"
     ]
    },
    {
     "ename": "ZeroDivisionError",
     "evalue": "float division",
     "output_type": "error",
     "traceback": [
      "\u001b[0;31m---------------------------------------------------------------------------\u001b[0m",
      "\u001b[0;31mZeroDivisionError\u001b[0m                         Traceback (most recent call last)",
      "\u001b[0;31mZeroDivisionError\u001b[0m: float division"
     ]
    },
    {
     "name": "stderr",
     "output_type": "stream",
     "text": [
      "Exception ignored in: '_cython_magic_d33e5aada1040c975bde92b13d65fed9.simple_fit'\n",
      "Traceback (most recent call last):\n",
      "  File \"<magic-timeit>\", line 1, in inner\n",
      "ZeroDivisionError: float division\n"
     ]
    },
    {
     "ename": "ZeroDivisionError",
     "evalue": "float division",
     "output_type": "error",
     "traceback": [
      "\u001b[0;31m---------------------------------------------------------------------------\u001b[0m",
      "\u001b[0;31mZeroDivisionError\u001b[0m                         Traceback (most recent call last)",
      "\u001b[0;31mZeroDivisionError\u001b[0m: float division"
     ]
    },
    {
     "name": "stderr",
     "output_type": "stream",
     "text": [
      "Exception ignored in: '_cython_magic_d33e5aada1040c975bde92b13d65fed9.simple_fit'\n",
      "Traceback (most recent call last):\n",
      "  File \"<magic-timeit>\", line 1, in inner\n",
      "ZeroDivisionError: float division\n"
     ]
    },
    {
     "ename": "ZeroDivisionError",
     "evalue": "float division",
     "output_type": "error",
     "traceback": [
      "\u001b[0;31m---------------------------------------------------------------------------\u001b[0m",
      "\u001b[0;31mZeroDivisionError\u001b[0m                         Traceback (most recent call last)",
      "\u001b[0;31mZeroDivisionError\u001b[0m: float division"
     ]
    },
    {
     "name": "stderr",
     "output_type": "stream",
     "text": [
      "Exception ignored in: '_cython_magic_d33e5aada1040c975bde92b13d65fed9.simple_fit'\n",
      "Traceback (most recent call last):\n",
      "  File \"<magic-timeit>\", line 1, in inner\n",
      "ZeroDivisionError: float division\n"
     ]
    },
    {
     "ename": "ZeroDivisionError",
     "evalue": "float division",
     "output_type": "error",
     "traceback": [
      "\u001b[0;31m---------------------------------------------------------------------------\u001b[0m",
      "\u001b[0;31mZeroDivisionError\u001b[0m                         Traceback (most recent call last)",
      "\u001b[0;31mZeroDivisionError\u001b[0m: float division"
     ]
    },
    {
     "name": "stderr",
     "output_type": "stream",
     "text": [
      "Exception ignored in: '_cython_magic_d33e5aada1040c975bde92b13d65fed9.simple_fit'\n",
      "Traceback (most recent call last):\n",
      "  File \"<magic-timeit>\", line 1, in inner\n",
      "ZeroDivisionError: float division\n"
     ]
    },
    {
     "ename": "ZeroDivisionError",
     "evalue": "float division",
     "output_type": "error",
     "traceback": [
      "\u001b[0;31m---------------------------------------------------------------------------\u001b[0m",
      "\u001b[0;31mZeroDivisionError\u001b[0m                         Traceback (most recent call last)",
      "\u001b[0;31mZeroDivisionError\u001b[0m: float division"
     ]
    },
    {
     "name": "stderr",
     "output_type": "stream",
     "text": [
      "Exception ignored in: '_cython_magic_d33e5aada1040c975bde92b13d65fed9.simple_fit'\n",
      "Traceback (most recent call last):\n",
      "  File \"<magic-timeit>\", line 1, in inner\n",
      "ZeroDivisionError: float division\n"
     ]
    },
    {
     "ename": "ZeroDivisionError",
     "evalue": "float division",
     "output_type": "error",
     "traceback": [
      "\u001b[0;31m---------------------------------------------------------------------------\u001b[0m",
      "\u001b[0;31mZeroDivisionError\u001b[0m                         Traceback (most recent call last)",
      "\u001b[0;31mZeroDivisionError\u001b[0m: float division"
     ]
    },
    {
     "name": "stderr",
     "output_type": "stream",
     "text": [
      "Exception ignored in: '_cython_magic_d33e5aada1040c975bde92b13d65fed9.simple_fit'\n",
      "Traceback (most recent call last):\n",
      "  File \"<magic-timeit>\", line 1, in inner\n",
      "ZeroDivisionError: float division\n"
     ]
    },
    {
     "ename": "ZeroDivisionError",
     "evalue": "float division",
     "output_type": "error",
     "traceback": [
      "\u001b[0;31m---------------------------------------------------------------------------\u001b[0m",
      "\u001b[0;31mZeroDivisionError\u001b[0m                         Traceback (most recent call last)",
      "\u001b[0;31mZeroDivisionError\u001b[0m: float division"
     ]
    },
    {
     "name": "stderr",
     "output_type": "stream",
     "text": [
      "Exception ignored in: '_cython_magic_d33e5aada1040c975bde92b13d65fed9.simple_fit'\n",
      "Traceback (most recent call last):\n",
      "  File \"<magic-timeit>\", line 1, in inner\n",
      "ZeroDivisionError: float division\n"
     ]
    },
    {
     "ename": "ZeroDivisionError",
     "evalue": "float division",
     "output_type": "error",
     "traceback": [
      "\u001b[0;31m---------------------------------------------------------------------------\u001b[0m",
      "\u001b[0;31mZeroDivisionError\u001b[0m                         Traceback (most recent call last)",
      "\u001b[0;31mZeroDivisionError\u001b[0m: float division"
     ]
    },
    {
     "name": "stderr",
     "output_type": "stream",
     "text": [
      "Exception ignored in: '_cython_magic_d33e5aada1040c975bde92b13d65fed9.simple_fit'\n",
      "Traceback (most recent call last):\n",
      "  File \"<magic-timeit>\", line 1, in inner\n",
      "ZeroDivisionError: float division\n"
     ]
    },
    {
     "ename": "ZeroDivisionError",
     "evalue": "float division",
     "output_type": "error",
     "traceback": [
      "\u001b[0;31m---------------------------------------------------------------------------\u001b[0m",
      "\u001b[0;31mZeroDivisionError\u001b[0m                         Traceback (most recent call last)",
      "\u001b[0;31mZeroDivisionError\u001b[0m: float division"
     ]
    },
    {
     "name": "stderr",
     "output_type": "stream",
     "text": [
      "Exception ignored in: '_cython_magic_d33e5aada1040c975bde92b13d65fed9.simple_fit'\n",
      "Traceback (most recent call last):\n",
      "  File \"<magic-timeit>\", line 1, in inner\n",
      "ZeroDivisionError: float division\n"
     ]
    },
    {
     "ename": "ZeroDivisionError",
     "evalue": "float division",
     "output_type": "error",
     "traceback": [
      "\u001b[0;31m---------------------------------------------------------------------------\u001b[0m",
      "\u001b[0;31mZeroDivisionError\u001b[0m                         Traceback (most recent call last)",
      "\u001b[0;31mZeroDivisionError\u001b[0m: float division"
     ]
    },
    {
     "name": "stderr",
     "output_type": "stream",
     "text": [
      "Exception ignored in: '_cython_magic_d33e5aada1040c975bde92b13d65fed9.simple_fit'\n",
      "Traceback (most recent call last):\n",
      "  File \"<magic-timeit>\", line 1, in inner\n",
      "ZeroDivisionError: float division\n"
     ]
    },
    {
     "ename": "ZeroDivisionError",
     "evalue": "float division",
     "output_type": "error",
     "traceback": [
      "\u001b[0;31m---------------------------------------------------------------------------\u001b[0m",
      "\u001b[0;31mZeroDivisionError\u001b[0m                         Traceback (most recent call last)",
      "\u001b[0;31mZeroDivisionError\u001b[0m: float division"
     ]
    },
    {
     "name": "stderr",
     "output_type": "stream",
     "text": [
      "Exception ignored in: '_cython_magic_d33e5aada1040c975bde92b13d65fed9.simple_fit'\n",
      "Traceback (most recent call last):\n",
      "  File \"<magic-timeit>\", line 1, in inner\n",
      "ZeroDivisionError: float division\n"
     ]
    },
    {
     "ename": "ZeroDivisionError",
     "evalue": "float division",
     "output_type": "error",
     "traceback": [
      "\u001b[0;31m---------------------------------------------------------------------------\u001b[0m",
      "\u001b[0;31mZeroDivisionError\u001b[0m                         Traceback (most recent call last)",
      "\u001b[0;31mZeroDivisionError\u001b[0m: float division"
     ]
    },
    {
     "name": "stderr",
     "output_type": "stream",
     "text": [
      "Exception ignored in: '_cython_magic_d33e5aada1040c975bde92b13d65fed9.simple_fit'\n",
      "Traceback (most recent call last):\n",
      "  File \"<magic-timeit>\", line 1, in inner\n",
      "ZeroDivisionError: float division\n"
     ]
    },
    {
     "ename": "ZeroDivisionError",
     "evalue": "float division",
     "output_type": "error",
     "traceback": [
      "\u001b[0;31m---------------------------------------------------------------------------\u001b[0m",
      "\u001b[0;31mZeroDivisionError\u001b[0m                         Traceback (most recent call last)",
      "\u001b[0;31mZeroDivisionError\u001b[0m: float division"
     ]
    },
    {
     "name": "stderr",
     "output_type": "stream",
     "text": [
      "Exception ignored in: '_cython_magic_d33e5aada1040c975bde92b13d65fed9.simple_fit'\n",
      "Traceback (most recent call last):\n",
      "  File \"<magic-timeit>\", line 1, in inner\n",
      "ZeroDivisionError: float division\n"
     ]
    },
    {
     "ename": "ZeroDivisionError",
     "evalue": "float division",
     "output_type": "error",
     "traceback": [
      "\u001b[0;31m---------------------------------------------------------------------------\u001b[0m",
      "\u001b[0;31mZeroDivisionError\u001b[0m                         Traceback (most recent call last)",
      "\u001b[0;31mZeroDivisionError\u001b[0m: float division"
     ]
    },
    {
     "name": "stderr",
     "output_type": "stream",
     "text": [
      "Exception ignored in: '_cython_magic_d33e5aada1040c975bde92b13d65fed9.simple_fit'\n",
      "Traceback (most recent call last):\n",
      "  File \"<magic-timeit>\", line 1, in inner\n",
      "ZeroDivisionError: float division\n"
     ]
    },
    {
     "ename": "ZeroDivisionError",
     "evalue": "float division",
     "output_type": "error",
     "traceback": [
      "\u001b[0;31m---------------------------------------------------------------------------\u001b[0m",
      "\u001b[0;31mZeroDivisionError\u001b[0m                         Traceback (most recent call last)",
      "\u001b[0;31mZeroDivisionError\u001b[0m: float division"
     ]
    },
    {
     "name": "stderr",
     "output_type": "stream",
     "text": [
      "Exception ignored in: '_cython_magic_d33e5aada1040c975bde92b13d65fed9.simple_fit'\n",
      "Traceback (most recent call last):\n",
      "  File \"<magic-timeit>\", line 1, in inner\n",
      "ZeroDivisionError: float division\n"
     ]
    },
    {
     "ename": "ZeroDivisionError",
     "evalue": "float division",
     "output_type": "error",
     "traceback": [
      "\u001b[0;31m---------------------------------------------------------------------------\u001b[0m",
      "\u001b[0;31mZeroDivisionError\u001b[0m                         Traceback (most recent call last)",
      "\u001b[0;31mZeroDivisionError\u001b[0m: float division"
     ]
    },
    {
     "name": "stderr",
     "output_type": "stream",
     "text": [
      "Exception ignored in: '_cython_magic_d33e5aada1040c975bde92b13d65fed9.simple_fit'\n",
      "Traceback (most recent call last):\n",
      "  File \"<magic-timeit>\", line 1, in inner\n",
      "ZeroDivisionError: float division\n"
     ]
    },
    {
     "ename": "ZeroDivisionError",
     "evalue": "float division",
     "output_type": "error",
     "traceback": [
      "\u001b[0;31m---------------------------------------------------------------------------\u001b[0m",
      "\u001b[0;31mZeroDivisionError\u001b[0m                         Traceback (most recent call last)",
      "\u001b[0;31mZeroDivisionError\u001b[0m: float division"
     ]
    },
    {
     "name": "stderr",
     "output_type": "stream",
     "text": [
      "Exception ignored in: '_cython_magic_d33e5aada1040c975bde92b13d65fed9.simple_fit'\n",
      "Traceback (most recent call last):\n",
      "  File \"<magic-timeit>\", line 1, in inner\n",
      "ZeroDivisionError: float division\n"
     ]
    },
    {
     "ename": "ZeroDivisionError",
     "evalue": "float division",
     "output_type": "error",
     "traceback": [
      "\u001b[0;31m---------------------------------------------------------------------------\u001b[0m",
      "\u001b[0;31mZeroDivisionError\u001b[0m                         Traceback (most recent call last)",
      "\u001b[0;31mZeroDivisionError\u001b[0m: float division"
     ]
    },
    {
     "name": "stderr",
     "output_type": "stream",
     "text": [
      "Exception ignored in: '_cython_magic_d33e5aada1040c975bde92b13d65fed9.simple_fit'\n",
      "Traceback (most recent call last):\n",
      "  File \"<magic-timeit>\", line 1, in inner\n",
      "ZeroDivisionError: float division\n"
     ]
    },
    {
     "ename": "ZeroDivisionError",
     "evalue": "float division",
     "output_type": "error",
     "traceback": [
      "\u001b[0;31m---------------------------------------------------------------------------\u001b[0m",
      "\u001b[0;31mZeroDivisionError\u001b[0m                         Traceback (most recent call last)",
      "\u001b[0;31mZeroDivisionError\u001b[0m: float division"
     ]
    },
    {
     "name": "stderr",
     "output_type": "stream",
     "text": [
      "Exception ignored in: '_cython_magic_d33e5aada1040c975bde92b13d65fed9.simple_fit'\n",
      "Traceback (most recent call last):\n",
      "  File \"<magic-timeit>\", line 1, in inner\n",
      "ZeroDivisionError: float division\n"
     ]
    },
    {
     "ename": "ZeroDivisionError",
     "evalue": "float division",
     "output_type": "error",
     "traceback": [
      "\u001b[0;31m---------------------------------------------------------------------------\u001b[0m",
      "\u001b[0;31mZeroDivisionError\u001b[0m                         Traceback (most recent call last)",
      "\u001b[0;31mZeroDivisionError\u001b[0m: float division"
     ]
    },
    {
     "name": "stderr",
     "output_type": "stream",
     "text": [
      "Exception ignored in: '_cython_magic_d33e5aada1040c975bde92b13d65fed9.simple_fit'\n",
      "Traceback (most recent call last):\n",
      "  File \"<magic-timeit>\", line 1, in inner\n",
      "ZeroDivisionError: float division\n"
     ]
    },
    {
     "ename": "ZeroDivisionError",
     "evalue": "float division",
     "output_type": "error",
     "traceback": [
      "\u001b[0;31m---------------------------------------------------------------------------\u001b[0m",
      "\u001b[0;31mZeroDivisionError\u001b[0m                         Traceback (most recent call last)",
      "\u001b[0;31mZeroDivisionError\u001b[0m: float division"
     ]
    },
    {
     "name": "stderr",
     "output_type": "stream",
     "text": [
      "Exception ignored in: '_cython_magic_d33e5aada1040c975bde92b13d65fed9.simple_fit'\n",
      "Traceback (most recent call last):\n",
      "  File \"<magic-timeit>\", line 1, in inner\n",
      "ZeroDivisionError: float division\n"
     ]
    },
    {
     "ename": "ZeroDivisionError",
     "evalue": "float division",
     "output_type": "error",
     "traceback": [
      "\u001b[0;31m---------------------------------------------------------------------------\u001b[0m",
      "\u001b[0;31mZeroDivisionError\u001b[0m                         Traceback (most recent call last)",
      "\u001b[0;31mZeroDivisionError\u001b[0m: float division"
     ]
    },
    {
     "name": "stderr",
     "output_type": "stream",
     "text": [
      "Exception ignored in: '_cython_magic_d33e5aada1040c975bde92b13d65fed9.simple_fit'\n",
      "Traceback (most recent call last):\n",
      "  File \"<magic-timeit>\", line 1, in inner\n",
      "ZeroDivisionError: float division\n"
     ]
    },
    {
     "ename": "ZeroDivisionError",
     "evalue": "float division",
     "output_type": "error",
     "traceback": [
      "\u001b[0;31m---------------------------------------------------------------------------\u001b[0m",
      "\u001b[0;31mZeroDivisionError\u001b[0m                         Traceback (most recent call last)",
      "\u001b[0;31mZeroDivisionError\u001b[0m: float division"
     ]
    },
    {
     "name": "stderr",
     "output_type": "stream",
     "text": [
      "Exception ignored in: '_cython_magic_d33e5aada1040c975bde92b13d65fed9.simple_fit'\n",
      "Traceback (most recent call last):\n",
      "  File \"<magic-timeit>\", line 1, in inner\n",
      "ZeroDivisionError: float division\n"
     ]
    },
    {
     "ename": "ZeroDivisionError",
     "evalue": "float division",
     "output_type": "error",
     "traceback": [
      "\u001b[0;31m---------------------------------------------------------------------------\u001b[0m",
      "\u001b[0;31mZeroDivisionError\u001b[0m                         Traceback (most recent call last)",
      "\u001b[0;31mZeroDivisionError\u001b[0m: float division"
     ]
    },
    {
     "name": "stderr",
     "output_type": "stream",
     "text": [
      "Exception ignored in: '_cython_magic_d33e5aada1040c975bde92b13d65fed9.simple_fit'\n",
      "Traceback (most recent call last):\n",
      "  File \"<magic-timeit>\", line 1, in inner\n",
      "ZeroDivisionError: float division\n"
     ]
    },
    {
     "ename": "ZeroDivisionError",
     "evalue": "float division",
     "output_type": "error",
     "traceback": [
      "\u001b[0;31m---------------------------------------------------------------------------\u001b[0m",
      "\u001b[0;31mZeroDivisionError\u001b[0m                         Traceback (most recent call last)",
      "\u001b[0;31mZeroDivisionError\u001b[0m: float division"
     ]
    },
    {
     "name": "stderr",
     "output_type": "stream",
     "text": [
      "Exception ignored in: '_cython_magic_d33e5aada1040c975bde92b13d65fed9.simple_fit'\n",
      "Traceback (most recent call last):\n",
      "  File \"<magic-timeit>\", line 1, in inner\n",
      "ZeroDivisionError: float division\n"
     ]
    },
    {
     "ename": "ZeroDivisionError",
     "evalue": "float division",
     "output_type": "error",
     "traceback": [
      "\u001b[0;31m---------------------------------------------------------------------------\u001b[0m",
      "\u001b[0;31mZeroDivisionError\u001b[0m                         Traceback (most recent call last)",
      "\u001b[0;31mZeroDivisionError\u001b[0m: float division"
     ]
    },
    {
     "name": "stderr",
     "output_type": "stream",
     "text": [
      "Exception ignored in: '_cython_magic_d33e5aada1040c975bde92b13d65fed9.simple_fit'\n",
      "Traceback (most recent call last):\n",
      "  File \"<magic-timeit>\", line 1, in inner\n",
      "ZeroDivisionError: float division\n"
     ]
    },
    {
     "ename": "ZeroDivisionError",
     "evalue": "float division",
     "output_type": "error",
     "traceback": [
      "\u001b[0;31m---------------------------------------------------------------------------\u001b[0m",
      "\u001b[0;31mZeroDivisionError\u001b[0m                         Traceback (most recent call last)",
      "\u001b[0;31mZeroDivisionError\u001b[0m: float division"
     ]
    },
    {
     "name": "stderr",
     "output_type": "stream",
     "text": [
      "Exception ignored in: '_cython_magic_d33e5aada1040c975bde92b13d65fed9.simple_fit'\n",
      "Traceback (most recent call last):\n",
      "  File \"<magic-timeit>\", line 1, in inner\n",
      "ZeroDivisionError: float division\n"
     ]
    },
    {
     "ename": "ZeroDivisionError",
     "evalue": "float division",
     "output_type": "error",
     "traceback": [
      "\u001b[0;31m---------------------------------------------------------------------------\u001b[0m",
      "\u001b[0;31mZeroDivisionError\u001b[0m                         Traceback (most recent call last)",
      "\u001b[0;31mZeroDivisionError\u001b[0m: float division"
     ]
    },
    {
     "name": "stderr",
     "output_type": "stream",
     "text": [
      "Exception ignored in: '_cython_magic_d33e5aada1040c975bde92b13d65fed9.simple_fit'\n",
      "Traceback (most recent call last):\n",
      "  File \"<magic-timeit>\", line 1, in inner\n",
      "ZeroDivisionError: float division\n"
     ]
    },
    {
     "ename": "ZeroDivisionError",
     "evalue": "float division",
     "output_type": "error",
     "traceback": [
      "\u001b[0;31m---------------------------------------------------------------------------\u001b[0m",
      "\u001b[0;31mZeroDivisionError\u001b[0m                         Traceback (most recent call last)",
      "\u001b[0;31mZeroDivisionError\u001b[0m: float division"
     ]
    },
    {
     "name": "stderr",
     "output_type": "stream",
     "text": [
      "Exception ignored in: '_cython_magic_d33e5aada1040c975bde92b13d65fed9.simple_fit'\n",
      "Traceback (most recent call last):\n",
      "  File \"<magic-timeit>\", line 1, in inner\n",
      "ZeroDivisionError: float division\n"
     ]
    },
    {
     "ename": "ZeroDivisionError",
     "evalue": "float division",
     "output_type": "error",
     "traceback": [
      "\u001b[0;31m---------------------------------------------------------------------------\u001b[0m",
      "\u001b[0;31mZeroDivisionError\u001b[0m                         Traceback (most recent call last)",
      "\u001b[0;31mZeroDivisionError\u001b[0m: float division"
     ]
    },
    {
     "name": "stderr",
     "output_type": "stream",
     "text": [
      "Exception ignored in: '_cython_magic_d33e5aada1040c975bde92b13d65fed9.simple_fit'\n",
      "Traceback (most recent call last):\n",
      "  File \"<magic-timeit>\", line 1, in inner\n",
      "ZeroDivisionError: float division\n"
     ]
    },
    {
     "ename": "ZeroDivisionError",
     "evalue": "float division",
     "output_type": "error",
     "traceback": [
      "\u001b[0;31m---------------------------------------------------------------------------\u001b[0m",
      "\u001b[0;31mZeroDivisionError\u001b[0m                         Traceback (most recent call last)",
      "\u001b[0;31mZeroDivisionError\u001b[0m: float division"
     ]
    },
    {
     "name": "stderr",
     "output_type": "stream",
     "text": [
      "Exception ignored in: '_cython_magic_d33e5aada1040c975bde92b13d65fed9.simple_fit'\n",
      "Traceback (most recent call last):\n",
      "  File \"<magic-timeit>\", line 1, in inner\n",
      "ZeroDivisionError: float division\n"
     ]
    },
    {
     "ename": "ZeroDivisionError",
     "evalue": "float division",
     "output_type": "error",
     "traceback": [
      "\u001b[0;31m---------------------------------------------------------------------------\u001b[0m",
      "\u001b[0;31mZeroDivisionError\u001b[0m                         Traceback (most recent call last)",
      "\u001b[0;31mZeroDivisionError\u001b[0m: float division"
     ]
    },
    {
     "name": "stderr",
     "output_type": "stream",
     "text": [
      "Exception ignored in: '_cython_magic_d33e5aada1040c975bde92b13d65fed9.simple_fit'\n",
      "Traceback (most recent call last):\n",
      "  File \"<magic-timeit>\", line 1, in inner\n",
      "ZeroDivisionError: float division\n"
     ]
    },
    {
     "ename": "ZeroDivisionError",
     "evalue": "float division",
     "output_type": "error",
     "traceback": [
      "\u001b[0;31m---------------------------------------------------------------------------\u001b[0m",
      "\u001b[0;31mZeroDivisionError\u001b[0m                         Traceback (most recent call last)",
      "\u001b[0;31mZeroDivisionError\u001b[0m: float division"
     ]
    },
    {
     "name": "stderr",
     "output_type": "stream",
     "text": [
      "Exception ignored in: '_cython_magic_d33e5aada1040c975bde92b13d65fed9.simple_fit'\n",
      "Traceback (most recent call last):\n",
      "  File \"<magic-timeit>\", line 1, in inner\n",
      "ZeroDivisionError: float division\n"
     ]
    },
    {
     "ename": "ZeroDivisionError",
     "evalue": "float division",
     "output_type": "error",
     "traceback": [
      "\u001b[0;31m---------------------------------------------------------------------------\u001b[0m",
      "\u001b[0;31mZeroDivisionError\u001b[0m                         Traceback (most recent call last)",
      "\u001b[0;31mZeroDivisionError\u001b[0m: float division"
     ]
    },
    {
     "name": "stderr",
     "output_type": "stream",
     "text": [
      "Exception ignored in: '_cython_magic_d33e5aada1040c975bde92b13d65fed9.simple_fit'\n",
      "Traceback (most recent call last):\n",
      "  File \"<magic-timeit>\", line 1, in inner\n",
      "ZeroDivisionError: float division\n"
     ]
    },
    {
     "ename": "ZeroDivisionError",
     "evalue": "float division",
     "output_type": "error",
     "traceback": [
      "\u001b[0;31m---------------------------------------------------------------------------\u001b[0m",
      "\u001b[0;31mZeroDivisionError\u001b[0m                         Traceback (most recent call last)",
      "\u001b[0;31mZeroDivisionError\u001b[0m: float division"
     ]
    },
    {
     "name": "stderr",
     "output_type": "stream",
     "text": [
      "Exception ignored in: '_cython_magic_d33e5aada1040c975bde92b13d65fed9.simple_fit'\n",
      "Traceback (most recent call last):\n",
      "  File \"<magic-timeit>\", line 1, in inner\n",
      "ZeroDivisionError: float division\n"
     ]
    },
    {
     "ename": "ZeroDivisionError",
     "evalue": "float division",
     "output_type": "error",
     "traceback": [
      "\u001b[0;31m---------------------------------------------------------------------------\u001b[0m",
      "\u001b[0;31mZeroDivisionError\u001b[0m                         Traceback (most recent call last)",
      "\u001b[0;31mZeroDivisionError\u001b[0m: float division"
     ]
    },
    {
     "name": "stderr",
     "output_type": "stream",
     "text": [
      "Exception ignored in: '_cython_magic_d33e5aada1040c975bde92b13d65fed9.simple_fit'\n",
      "Traceback (most recent call last):\n",
      "  File \"<magic-timeit>\", line 1, in inner\n",
      "ZeroDivisionError: float division\n"
     ]
    },
    {
     "ename": "ZeroDivisionError",
     "evalue": "float division",
     "output_type": "error",
     "traceback": [
      "\u001b[0;31m---------------------------------------------------------------------------\u001b[0m",
      "\u001b[0;31mZeroDivisionError\u001b[0m                         Traceback (most recent call last)",
      "\u001b[0;31mZeroDivisionError\u001b[0m: float division"
     ]
    },
    {
     "name": "stderr",
     "output_type": "stream",
     "text": [
      "Exception ignored in: '_cython_magic_d33e5aada1040c975bde92b13d65fed9.simple_fit'\n",
      "Traceback (most recent call last):\n",
      "  File \"<magic-timeit>\", line 1, in inner\n",
      "ZeroDivisionError: float division\n"
     ]
    },
    {
     "ename": "ZeroDivisionError",
     "evalue": "float division",
     "output_type": "error",
     "traceback": [
      "\u001b[0;31m---------------------------------------------------------------------------\u001b[0m",
      "\u001b[0;31mZeroDivisionError\u001b[0m                         Traceback (most recent call last)",
      "\u001b[0;31mZeroDivisionError\u001b[0m: float division"
     ]
    },
    {
     "name": "stderr",
     "output_type": "stream",
     "text": [
      "Exception ignored in: '_cython_magic_d33e5aada1040c975bde92b13d65fed9.simple_fit'\n",
      "Traceback (most recent call last):\n",
      "  File \"<magic-timeit>\", line 1, in inner\n",
      "ZeroDivisionError: float division\n"
     ]
    },
    {
     "ename": "ZeroDivisionError",
     "evalue": "float division",
     "output_type": "error",
     "traceback": [
      "\u001b[0;31m---------------------------------------------------------------------------\u001b[0m",
      "\u001b[0;31mZeroDivisionError\u001b[0m                         Traceback (most recent call last)",
      "\u001b[0;31mZeroDivisionError\u001b[0m: float division"
     ]
    },
    {
     "name": "stderr",
     "output_type": "stream",
     "text": [
      "Exception ignored in: '_cython_magic_d33e5aada1040c975bde92b13d65fed9.simple_fit'\n",
      "Traceback (most recent call last):\n",
      "  File \"<magic-timeit>\", line 1, in inner\n",
      "ZeroDivisionError: float division\n"
     ]
    },
    {
     "ename": "ZeroDivisionError",
     "evalue": "float division",
     "output_type": "error",
     "traceback": [
      "\u001b[0;31m---------------------------------------------------------------------------\u001b[0m",
      "\u001b[0;31mZeroDivisionError\u001b[0m                         Traceback (most recent call last)",
      "\u001b[0;31mZeroDivisionError\u001b[0m: float division"
     ]
    },
    {
     "name": "stderr",
     "output_type": "stream",
     "text": [
      "Exception ignored in: '_cython_magic_d33e5aada1040c975bde92b13d65fed9.simple_fit'\n",
      "Traceback (most recent call last):\n",
      "  File \"<magic-timeit>\", line 1, in inner\n",
      "ZeroDivisionError: float division\n"
     ]
    },
    {
     "ename": "ZeroDivisionError",
     "evalue": "float division",
     "output_type": "error",
     "traceback": [
      "\u001b[0;31m---------------------------------------------------------------------------\u001b[0m",
      "\u001b[0;31mZeroDivisionError\u001b[0m                         Traceback (most recent call last)",
      "\u001b[0;31mZeroDivisionError\u001b[0m: float division"
     ]
    },
    {
     "name": "stderr",
     "output_type": "stream",
     "text": [
      "Exception ignored in: '_cython_magic_d33e5aada1040c975bde92b13d65fed9.simple_fit'\n",
      "Traceback (most recent call last):\n",
      "  File \"<magic-timeit>\", line 1, in inner\n",
      "ZeroDivisionError: float division\n"
     ]
    },
    {
     "ename": "ZeroDivisionError",
     "evalue": "float division",
     "output_type": "error",
     "traceback": [
      "\u001b[0;31m---------------------------------------------------------------------------\u001b[0m",
      "\u001b[0;31mZeroDivisionError\u001b[0m                         Traceback (most recent call last)",
      "\u001b[0;31mZeroDivisionError\u001b[0m: float division"
     ]
    },
    {
     "name": "stderr",
     "output_type": "stream",
     "text": [
      "Exception ignored in: '_cython_magic_d33e5aada1040c975bde92b13d65fed9.simple_fit'\n",
      "Traceback (most recent call last):\n",
      "  File \"<magic-timeit>\", line 1, in inner\n",
      "ZeroDivisionError: float division\n"
     ]
    },
    {
     "ename": "ZeroDivisionError",
     "evalue": "float division",
     "output_type": "error",
     "traceback": [
      "\u001b[0;31m---------------------------------------------------------------------------\u001b[0m",
      "\u001b[0;31mZeroDivisionError\u001b[0m                         Traceback (most recent call last)",
      "\u001b[0;31mZeroDivisionError\u001b[0m: float division"
     ]
    },
    {
     "name": "stderr",
     "output_type": "stream",
     "text": [
      "Exception ignored in: '_cython_magic_d33e5aada1040c975bde92b13d65fed9.simple_fit'\n",
      "Traceback (most recent call last):\n",
      "  File \"<magic-timeit>\", line 1, in inner\n",
      "ZeroDivisionError: float division\n"
     ]
    },
    {
     "ename": "ZeroDivisionError",
     "evalue": "float division",
     "output_type": "error",
     "traceback": [
      "\u001b[0;31m---------------------------------------------------------------------------\u001b[0m",
      "\u001b[0;31mZeroDivisionError\u001b[0m                         Traceback (most recent call last)",
      "\u001b[0;31mZeroDivisionError\u001b[0m: float division"
     ]
    },
    {
     "name": "stderr",
     "output_type": "stream",
     "text": [
      "Exception ignored in: '_cython_magic_d33e5aada1040c975bde92b13d65fed9.simple_fit'\n",
      "Traceback (most recent call last):\n",
      "  File \"<magic-timeit>\", line 1, in inner\n",
      "ZeroDivisionError: float division\n"
     ]
    },
    {
     "ename": "ZeroDivisionError",
     "evalue": "float division",
     "output_type": "error",
     "traceback": [
      "\u001b[0;31m---------------------------------------------------------------------------\u001b[0m",
      "\u001b[0;31mZeroDivisionError\u001b[0m                         Traceback (most recent call last)",
      "\u001b[0;31mZeroDivisionError\u001b[0m: float division"
     ]
    },
    {
     "name": "stderr",
     "output_type": "stream",
     "text": [
      "Exception ignored in: '_cython_magic_d33e5aada1040c975bde92b13d65fed9.simple_fit'\n",
      "Traceback (most recent call last):\n",
      "  File \"<magic-timeit>\", line 1, in inner\n",
      "ZeroDivisionError: float division\n"
     ]
    },
    {
     "ename": "ZeroDivisionError",
     "evalue": "float division",
     "output_type": "error",
     "traceback": [
      "\u001b[0;31m---------------------------------------------------------------------------\u001b[0m",
      "\u001b[0;31mZeroDivisionError\u001b[0m                         Traceback (most recent call last)",
      "\u001b[0;31mZeroDivisionError\u001b[0m: float division"
     ]
    },
    {
     "name": "stderr",
     "output_type": "stream",
     "text": [
      "Exception ignored in: '_cython_magic_d33e5aada1040c975bde92b13d65fed9.simple_fit'\n",
      "Traceback (most recent call last):\n",
      "  File \"<magic-timeit>\", line 1, in inner\n",
      "ZeroDivisionError: float division\n"
     ]
    },
    {
     "ename": "ZeroDivisionError",
     "evalue": "float division",
     "output_type": "error",
     "traceback": [
      "\u001b[0;31m---------------------------------------------------------------------------\u001b[0m",
      "\u001b[0;31mZeroDivisionError\u001b[0m                         Traceback (most recent call last)",
      "\u001b[0;31mZeroDivisionError\u001b[0m: float division"
     ]
    },
    {
     "name": "stderr",
     "output_type": "stream",
     "text": [
      "Exception ignored in: '_cython_magic_d33e5aada1040c975bde92b13d65fed9.simple_fit'\n",
      "Traceback (most recent call last):\n",
      "  File \"<magic-timeit>\", line 1, in inner\n",
      "ZeroDivisionError: float division\n"
     ]
    },
    {
     "ename": "ZeroDivisionError",
     "evalue": "float division",
     "output_type": "error",
     "traceback": [
      "\u001b[0;31m---------------------------------------------------------------------------\u001b[0m",
      "\u001b[0;31mZeroDivisionError\u001b[0m                         Traceback (most recent call last)",
      "\u001b[0;31mZeroDivisionError\u001b[0m: float division"
     ]
    },
    {
     "name": "stderr",
     "output_type": "stream",
     "text": [
      "Exception ignored in: '_cython_magic_d33e5aada1040c975bde92b13d65fed9.simple_fit'\n",
      "Traceback (most recent call last):\n",
      "  File \"<magic-timeit>\", line 1, in inner\n",
      "ZeroDivisionError: float division\n"
     ]
    },
    {
     "ename": "ZeroDivisionError",
     "evalue": "float division",
     "output_type": "error",
     "traceback": [
      "\u001b[0;31m---------------------------------------------------------------------------\u001b[0m",
      "\u001b[0;31mZeroDivisionError\u001b[0m                         Traceback (most recent call last)",
      "\u001b[0;31mZeroDivisionError\u001b[0m: float division"
     ]
    },
    {
     "name": "stderr",
     "output_type": "stream",
     "text": [
      "Exception ignored in: '_cython_magic_d33e5aada1040c975bde92b13d65fed9.simple_fit'\n",
      "Traceback (most recent call last):\n",
      "  File \"<magic-timeit>\", line 1, in inner\n",
      "ZeroDivisionError: float division\n"
     ]
    },
    {
     "ename": "ZeroDivisionError",
     "evalue": "float division",
     "output_type": "error",
     "traceback": [
      "\u001b[0;31m---------------------------------------------------------------------------\u001b[0m",
      "\u001b[0;31mZeroDivisionError\u001b[0m                         Traceback (most recent call last)",
      "\u001b[0;31mZeroDivisionError\u001b[0m: float division"
     ]
    },
    {
     "name": "stderr",
     "output_type": "stream",
     "text": [
      "Exception ignored in: '_cython_magic_d33e5aada1040c975bde92b13d65fed9.simple_fit'\n",
      "Traceback (most recent call last):\n",
      "  File \"<magic-timeit>\", line 1, in inner\n",
      "ZeroDivisionError: float division\n"
     ]
    },
    {
     "ename": "ZeroDivisionError",
     "evalue": "float division",
     "output_type": "error",
     "traceback": [
      "\u001b[0;31m---------------------------------------------------------------------------\u001b[0m",
      "\u001b[0;31mZeroDivisionError\u001b[0m                         Traceback (most recent call last)",
      "\u001b[0;31mZeroDivisionError\u001b[0m: float division"
     ]
    },
    {
     "name": "stderr",
     "output_type": "stream",
     "text": [
      "Exception ignored in: '_cython_magic_d33e5aada1040c975bde92b13d65fed9.simple_fit'\n",
      "Traceback (most recent call last):\n",
      "  File \"<magic-timeit>\", line 1, in inner\n",
      "ZeroDivisionError: float division\n"
     ]
    },
    {
     "ename": "ZeroDivisionError",
     "evalue": "float division",
     "output_type": "error",
     "traceback": [
      "\u001b[0;31m---------------------------------------------------------------------------\u001b[0m",
      "\u001b[0;31mZeroDivisionError\u001b[0m                         Traceback (most recent call last)",
      "\u001b[0;31mZeroDivisionError\u001b[0m: float division"
     ]
    },
    {
     "name": "stderr",
     "output_type": "stream",
     "text": [
      "Exception ignored in: '_cython_magic_d33e5aada1040c975bde92b13d65fed9.simple_fit'\n",
      "Traceback (most recent call last):\n",
      "  File \"<magic-timeit>\", line 1, in inner\n",
      "ZeroDivisionError: float division\n"
     ]
    },
    {
     "ename": "ZeroDivisionError",
     "evalue": "float division",
     "output_type": "error",
     "traceback": [
      "\u001b[0;31m---------------------------------------------------------------------------\u001b[0m",
      "\u001b[0;31mZeroDivisionError\u001b[0m                         Traceback (most recent call last)",
      "\u001b[0;31mZeroDivisionError\u001b[0m: float division"
     ]
    },
    {
     "name": "stderr",
     "output_type": "stream",
     "text": [
      "Exception ignored in: '_cython_magic_d33e5aada1040c975bde92b13d65fed9.simple_fit'\n",
      "Traceback (most recent call last):\n",
      "  File \"<magic-timeit>\", line 1, in inner\n",
      "ZeroDivisionError: float division\n"
     ]
    },
    {
     "ename": "ZeroDivisionError",
     "evalue": "float division",
     "output_type": "error",
     "traceback": [
      "\u001b[0;31m---------------------------------------------------------------------------\u001b[0m",
      "\u001b[0;31mZeroDivisionError\u001b[0m                         Traceback (most recent call last)",
      "\u001b[0;31mZeroDivisionError\u001b[0m: float division"
     ]
    },
    {
     "name": "stderr",
     "output_type": "stream",
     "text": [
      "Exception ignored in: '_cython_magic_d33e5aada1040c975bde92b13d65fed9.simple_fit'\n",
      "Traceback (most recent call last):\n",
      "  File \"<magic-timeit>\", line 1, in inner\n",
      "ZeroDivisionError: float division\n"
     ]
    },
    {
     "ename": "ZeroDivisionError",
     "evalue": "float division",
     "output_type": "error",
     "traceback": [
      "\u001b[0;31m---------------------------------------------------------------------------\u001b[0m",
      "\u001b[0;31mZeroDivisionError\u001b[0m                         Traceback (most recent call last)",
      "\u001b[0;31mZeroDivisionError\u001b[0m: float division"
     ]
    },
    {
     "name": "stderr",
     "output_type": "stream",
     "text": [
      "Exception ignored in: '_cython_magic_d33e5aada1040c975bde92b13d65fed9.simple_fit'\n",
      "Traceback (most recent call last):\n",
      "  File \"<magic-timeit>\", line 1, in inner\n",
      "ZeroDivisionError: float division\n"
     ]
    },
    {
     "ename": "ZeroDivisionError",
     "evalue": "float division",
     "output_type": "error",
     "traceback": [
      "\u001b[0;31m---------------------------------------------------------------------------\u001b[0m",
      "\u001b[0;31mZeroDivisionError\u001b[0m                         Traceback (most recent call last)",
      "\u001b[0;31mZeroDivisionError\u001b[0m: float division"
     ]
    },
    {
     "name": "stderr",
     "output_type": "stream",
     "text": [
      "Exception ignored in: '_cython_magic_d33e5aada1040c975bde92b13d65fed9.simple_fit'\n",
      "Traceback (most recent call last):\n",
      "  File \"<magic-timeit>\", line 1, in inner\n",
      "ZeroDivisionError: float division\n"
     ]
    },
    {
     "ename": "ZeroDivisionError",
     "evalue": "float division",
     "output_type": "error",
     "traceback": [
      "\u001b[0;31m---------------------------------------------------------------------------\u001b[0m",
      "\u001b[0;31mZeroDivisionError\u001b[0m                         Traceback (most recent call last)",
      "\u001b[0;31mZeroDivisionError\u001b[0m: float division"
     ]
    },
    {
     "name": "stderr",
     "output_type": "stream",
     "text": [
      "Exception ignored in: '_cython_magic_d33e5aada1040c975bde92b13d65fed9.simple_fit'\n",
      "Traceback (most recent call last):\n",
      "  File \"<magic-timeit>\", line 1, in inner\n",
      "ZeroDivisionError: float division\n"
     ]
    },
    {
     "ename": "ZeroDivisionError",
     "evalue": "float division",
     "output_type": "error",
     "traceback": [
      "\u001b[0;31m---------------------------------------------------------------------------\u001b[0m",
      "\u001b[0;31mZeroDivisionError\u001b[0m                         Traceback (most recent call last)",
      "\u001b[0;31mZeroDivisionError\u001b[0m: float division"
     ]
    },
    {
     "name": "stderr",
     "output_type": "stream",
     "text": [
      "Exception ignored in: '_cython_magic_d33e5aada1040c975bde92b13d65fed9.simple_fit'\n",
      "Traceback (most recent call last):\n",
      "  File \"<magic-timeit>\", line 1, in inner\n",
      "ZeroDivisionError: float division\n"
     ]
    },
    {
     "ename": "ZeroDivisionError",
     "evalue": "float division",
     "output_type": "error",
     "traceback": [
      "\u001b[0;31m---------------------------------------------------------------------------\u001b[0m",
      "\u001b[0;31mZeroDivisionError\u001b[0m                         Traceback (most recent call last)",
      "\u001b[0;31mZeroDivisionError\u001b[0m: float division"
     ]
    },
    {
     "name": "stderr",
     "output_type": "stream",
     "text": [
      "Exception ignored in: '_cython_magic_d33e5aada1040c975bde92b13d65fed9.simple_fit'\n",
      "Traceback (most recent call last):\n",
      "  File \"<magic-timeit>\", line 1, in inner\n",
      "ZeroDivisionError: float division\n"
     ]
    },
    {
     "ename": "ZeroDivisionError",
     "evalue": "float division",
     "output_type": "error",
     "traceback": [
      "\u001b[0;31m---------------------------------------------------------------------------\u001b[0m",
      "\u001b[0;31mZeroDivisionError\u001b[0m                         Traceback (most recent call last)",
      "\u001b[0;31mZeroDivisionError\u001b[0m: float division"
     ]
    },
    {
     "name": "stderr",
     "output_type": "stream",
     "text": [
      "Exception ignored in: '_cython_magic_d33e5aada1040c975bde92b13d65fed9.simple_fit'\n",
      "Traceback (most recent call last):\n",
      "  File \"<magic-timeit>\", line 1, in inner\n",
      "ZeroDivisionError: float division\n"
     ]
    },
    {
     "ename": "ZeroDivisionError",
     "evalue": "float division",
     "output_type": "error",
     "traceback": [
      "\u001b[0;31m---------------------------------------------------------------------------\u001b[0m",
      "\u001b[0;31mZeroDivisionError\u001b[0m                         Traceback (most recent call last)",
      "\u001b[0;31mZeroDivisionError\u001b[0m: float division"
     ]
    },
    {
     "name": "stderr",
     "output_type": "stream",
     "text": [
      "Exception ignored in: '_cython_magic_d33e5aada1040c975bde92b13d65fed9.simple_fit'\n",
      "Traceback (most recent call last):\n",
      "  File \"<magic-timeit>\", line 1, in inner\n",
      "ZeroDivisionError: float division\n"
     ]
    },
    {
     "ename": "ZeroDivisionError",
     "evalue": "float division",
     "output_type": "error",
     "traceback": [
      "\u001b[0;31m---------------------------------------------------------------------------\u001b[0m",
      "\u001b[0;31mZeroDivisionError\u001b[0m                         Traceback (most recent call last)",
      "\u001b[0;31mZeroDivisionError\u001b[0m: float division"
     ]
    },
    {
     "name": "stderr",
     "output_type": "stream",
     "text": [
      "Exception ignored in: '_cython_magic_d33e5aada1040c975bde92b13d65fed9.simple_fit'\n",
      "Traceback (most recent call last):\n",
      "  File \"<magic-timeit>\", line 1, in inner\n",
      "ZeroDivisionError: float division\n"
     ]
    },
    {
     "ename": "ZeroDivisionError",
     "evalue": "float division",
     "output_type": "error",
     "traceback": [
      "\u001b[0;31m---------------------------------------------------------------------------\u001b[0m",
      "\u001b[0;31mZeroDivisionError\u001b[0m                         Traceback (most recent call last)",
      "\u001b[0;31mZeroDivisionError\u001b[0m: float division"
     ]
    },
    {
     "name": "stderr",
     "output_type": "stream",
     "text": [
      "Exception ignored in: '_cython_magic_d33e5aada1040c975bde92b13d65fed9.simple_fit'\n",
      "Traceback (most recent call last):\n",
      "  File \"<magic-timeit>\", line 1, in inner\n",
      "ZeroDivisionError: float division\n"
     ]
    },
    {
     "ename": "ZeroDivisionError",
     "evalue": "float division",
     "output_type": "error",
     "traceback": [
      "\u001b[0;31m---------------------------------------------------------------------------\u001b[0m",
      "\u001b[0;31mZeroDivisionError\u001b[0m                         Traceback (most recent call last)",
      "\u001b[0;31mZeroDivisionError\u001b[0m: float division"
     ]
    },
    {
     "name": "stderr",
     "output_type": "stream",
     "text": [
      "Exception ignored in: '_cython_magic_d33e5aada1040c975bde92b13d65fed9.simple_fit'\n",
      "Traceback (most recent call last):\n",
      "  File \"<magic-timeit>\", line 1, in inner\n",
      "ZeroDivisionError: float division\n"
     ]
    },
    {
     "ename": "ZeroDivisionError",
     "evalue": "float division",
     "output_type": "error",
     "traceback": [
      "\u001b[0;31m---------------------------------------------------------------------------\u001b[0m",
      "\u001b[0;31mZeroDivisionError\u001b[0m                         Traceback (most recent call last)",
      "\u001b[0;31mZeroDivisionError\u001b[0m: float division"
     ]
    },
    {
     "name": "stderr",
     "output_type": "stream",
     "text": [
      "Exception ignored in: '_cython_magic_d33e5aada1040c975bde92b13d65fed9.simple_fit'\n",
      "Traceback (most recent call last):\n",
      "  File \"<magic-timeit>\", line 1, in inner\n",
      "ZeroDivisionError: float division\n"
     ]
    },
    {
     "ename": "ZeroDivisionError",
     "evalue": "float division",
     "output_type": "error",
     "traceback": [
      "\u001b[0;31m---------------------------------------------------------------------------\u001b[0m",
      "\u001b[0;31mZeroDivisionError\u001b[0m                         Traceback (most recent call last)",
      "\u001b[0;31mZeroDivisionError\u001b[0m: float division"
     ]
    },
    {
     "name": "stderr",
     "output_type": "stream",
     "text": [
      "Exception ignored in: '_cython_magic_d33e5aada1040c975bde92b13d65fed9.simple_fit'\n",
      "Traceback (most recent call last):\n",
      "  File \"<magic-timeit>\", line 1, in inner\n",
      "ZeroDivisionError: float division\n"
     ]
    },
    {
     "ename": "ZeroDivisionError",
     "evalue": "float division",
     "output_type": "error",
     "traceback": [
      "\u001b[0;31m---------------------------------------------------------------------------\u001b[0m",
      "\u001b[0;31mZeroDivisionError\u001b[0m                         Traceback (most recent call last)",
      "\u001b[0;31mZeroDivisionError\u001b[0m: float division"
     ]
    },
    {
     "name": "stderr",
     "output_type": "stream",
     "text": [
      "Exception ignored in: '_cython_magic_d33e5aada1040c975bde92b13d65fed9.simple_fit'\n",
      "Traceback (most recent call last):\n",
      "  File \"<magic-timeit>\", line 1, in inner\n",
      "ZeroDivisionError: float division\n"
     ]
    },
    {
     "ename": "ZeroDivisionError",
     "evalue": "float division",
     "output_type": "error",
     "traceback": [
      "\u001b[0;31m---------------------------------------------------------------------------\u001b[0m",
      "\u001b[0;31mZeroDivisionError\u001b[0m                         Traceback (most recent call last)",
      "\u001b[0;31mZeroDivisionError\u001b[0m: float division"
     ]
    },
    {
     "name": "stderr",
     "output_type": "stream",
     "text": [
      "Exception ignored in: '_cython_magic_d33e5aada1040c975bde92b13d65fed9.simple_fit'\n",
      "Traceback (most recent call last):\n",
      "  File \"<magic-timeit>\", line 1, in inner\n",
      "ZeroDivisionError: float division\n"
     ]
    },
    {
     "ename": "ZeroDivisionError",
     "evalue": "float division",
     "output_type": "error",
     "traceback": [
      "\u001b[0;31m---------------------------------------------------------------------------\u001b[0m",
      "\u001b[0;31mZeroDivisionError\u001b[0m                         Traceback (most recent call last)",
      "\u001b[0;31mZeroDivisionError\u001b[0m: float division"
     ]
    },
    {
     "name": "stderr",
     "output_type": "stream",
     "text": [
      "Exception ignored in: '_cython_magic_d33e5aada1040c975bde92b13d65fed9.simple_fit'\n",
      "Traceback (most recent call last):\n",
      "  File \"<magic-timeit>\", line 1, in inner\n",
      "ZeroDivisionError: float division\n"
     ]
    },
    {
     "ename": "ZeroDivisionError",
     "evalue": "float division",
     "output_type": "error",
     "traceback": [
      "\u001b[0;31m---------------------------------------------------------------------------\u001b[0m",
      "\u001b[0;31mZeroDivisionError\u001b[0m                         Traceback (most recent call last)",
      "\u001b[0;31mZeroDivisionError\u001b[0m: float division"
     ]
    },
    {
     "name": "stderr",
     "output_type": "stream",
     "text": [
      "Exception ignored in: '_cython_magic_d33e5aada1040c975bde92b13d65fed9.simple_fit'\n",
      "Traceback (most recent call last):\n",
      "  File \"<magic-timeit>\", line 1, in inner\n",
      "ZeroDivisionError: float division\n"
     ]
    },
    {
     "ename": "ZeroDivisionError",
     "evalue": "float division",
     "output_type": "error",
     "traceback": [
      "\u001b[0;31m---------------------------------------------------------------------------\u001b[0m",
      "\u001b[0;31mZeroDivisionError\u001b[0m                         Traceback (most recent call last)",
      "\u001b[0;31mZeroDivisionError\u001b[0m: float division"
     ]
    },
    {
     "name": "stderr",
     "output_type": "stream",
     "text": [
      "Exception ignored in: '_cython_magic_d33e5aada1040c975bde92b13d65fed9.simple_fit'\n",
      "Traceback (most recent call last):\n",
      "  File \"<magic-timeit>\", line 1, in inner\n",
      "ZeroDivisionError: float division\n"
     ]
    },
    {
     "ename": "ZeroDivisionError",
     "evalue": "float division",
     "output_type": "error",
     "traceback": [
      "\u001b[0;31m---------------------------------------------------------------------------\u001b[0m",
      "\u001b[0;31mZeroDivisionError\u001b[0m                         Traceback (most recent call last)",
      "\u001b[0;31mZeroDivisionError\u001b[0m: float division"
     ]
    },
    {
     "name": "stderr",
     "output_type": "stream",
     "text": [
      "Exception ignored in: '_cython_magic_d33e5aada1040c975bde92b13d65fed9.simple_fit'\n",
      "Traceback (most recent call last):\n",
      "  File \"<magic-timeit>\", line 1, in inner\n",
      "ZeroDivisionError: float division\n"
     ]
    },
    {
     "ename": "ZeroDivisionError",
     "evalue": "float division",
     "output_type": "error",
     "traceback": [
      "\u001b[0;31m---------------------------------------------------------------------------\u001b[0m",
      "\u001b[0;31mZeroDivisionError\u001b[0m                         Traceback (most recent call last)",
      "\u001b[0;31mZeroDivisionError\u001b[0m: float division"
     ]
    },
    {
     "name": "stderr",
     "output_type": "stream",
     "text": [
      "Exception ignored in: '_cython_magic_d33e5aada1040c975bde92b13d65fed9.simple_fit'\n",
      "Traceback (most recent call last):\n",
      "  File \"<magic-timeit>\", line 1, in inner\n",
      "ZeroDivisionError: float division\n"
     ]
    },
    {
     "ename": "ZeroDivisionError",
     "evalue": "float division",
     "output_type": "error",
     "traceback": [
      "\u001b[0;31m---------------------------------------------------------------------------\u001b[0m",
      "\u001b[0;31mZeroDivisionError\u001b[0m                         Traceback (most recent call last)",
      "\u001b[0;31mZeroDivisionError\u001b[0m: float division"
     ]
    },
    {
     "name": "stderr",
     "output_type": "stream",
     "text": [
      "Exception ignored in: '_cython_magic_d33e5aada1040c975bde92b13d65fed9.simple_fit'\n",
      "Traceback (most recent call last):\n",
      "  File \"<magic-timeit>\", line 1, in inner\n",
      "ZeroDivisionError: float division\n"
     ]
    },
    {
     "ename": "ZeroDivisionError",
     "evalue": "float division",
     "output_type": "error",
     "traceback": [
      "\u001b[0;31m---------------------------------------------------------------------------\u001b[0m",
      "\u001b[0;31mZeroDivisionError\u001b[0m                         Traceback (most recent call last)",
      "\u001b[0;31mZeroDivisionError\u001b[0m: float division"
     ]
    },
    {
     "name": "stderr",
     "output_type": "stream",
     "text": [
      "Exception ignored in: '_cython_magic_d33e5aada1040c975bde92b13d65fed9.simple_fit'\n",
      "Traceback (most recent call last):\n",
      "  File \"<magic-timeit>\", line 1, in inner\n",
      "ZeroDivisionError: float division\n"
     ]
    },
    {
     "ename": "ZeroDivisionError",
     "evalue": "float division",
     "output_type": "error",
     "traceback": [
      "\u001b[0;31m---------------------------------------------------------------------------\u001b[0m",
      "\u001b[0;31mZeroDivisionError\u001b[0m                         Traceback (most recent call last)",
      "\u001b[0;31mZeroDivisionError\u001b[0m: float division"
     ]
    },
    {
     "name": "stderr",
     "output_type": "stream",
     "text": [
      "Exception ignored in: '_cython_magic_d33e5aada1040c975bde92b13d65fed9.simple_fit'\n",
      "Traceback (most recent call last):\n",
      "  File \"<magic-timeit>\", line 1, in inner\n",
      "ZeroDivisionError: float division\n"
     ]
    },
    {
     "ename": "ZeroDivisionError",
     "evalue": "float division",
     "output_type": "error",
     "traceback": [
      "\u001b[0;31m---------------------------------------------------------------------------\u001b[0m",
      "\u001b[0;31mZeroDivisionError\u001b[0m                         Traceback (most recent call last)",
      "\u001b[0;31mZeroDivisionError\u001b[0m: float division"
     ]
    },
    {
     "name": "stderr",
     "output_type": "stream",
     "text": [
      "Exception ignored in: '_cython_magic_d33e5aada1040c975bde92b13d65fed9.simple_fit'\n",
      "Traceback (most recent call last):\n",
      "  File \"<magic-timeit>\", line 1, in inner\n",
      "ZeroDivisionError: float division\n"
     ]
    },
    {
     "ename": "ZeroDivisionError",
     "evalue": "float division",
     "output_type": "error",
     "traceback": [
      "\u001b[0;31m---------------------------------------------------------------------------\u001b[0m",
      "\u001b[0;31mZeroDivisionError\u001b[0m                         Traceback (most recent call last)",
      "\u001b[0;31mZeroDivisionError\u001b[0m: float division"
     ]
    },
    {
     "name": "stderr",
     "output_type": "stream",
     "text": [
      "Exception ignored in: '_cython_magic_d33e5aada1040c975bde92b13d65fed9.simple_fit'\n",
      "Traceback (most recent call last):\n",
      "  File \"<magic-timeit>\", line 1, in inner\n",
      "ZeroDivisionError: float division\n"
     ]
    },
    {
     "ename": "ZeroDivisionError",
     "evalue": "float division",
     "output_type": "error",
     "traceback": [
      "\u001b[0;31m---------------------------------------------------------------------------\u001b[0m",
      "\u001b[0;31mZeroDivisionError\u001b[0m                         Traceback (most recent call last)",
      "\u001b[0;31mZeroDivisionError\u001b[0m: float division"
     ]
    },
    {
     "name": "stderr",
     "output_type": "stream",
     "text": [
      "Exception ignored in: '_cython_magic_d33e5aada1040c975bde92b13d65fed9.simple_fit'\n",
      "Traceback (most recent call last):\n",
      "  File \"<magic-timeit>\", line 1, in inner\n",
      "ZeroDivisionError: float division\n"
     ]
    },
    {
     "ename": "ZeroDivisionError",
     "evalue": "float division",
     "output_type": "error",
     "traceback": [
      "\u001b[0;31m---------------------------------------------------------------------------\u001b[0m",
      "\u001b[0;31mZeroDivisionError\u001b[0m                         Traceback (most recent call last)",
      "\u001b[0;31mZeroDivisionError\u001b[0m: float division"
     ]
    },
    {
     "name": "stderr",
     "output_type": "stream",
     "text": [
      "Exception ignored in: '_cython_magic_d33e5aada1040c975bde92b13d65fed9.simple_fit'\n",
      "Traceback (most recent call last):\n",
      "  File \"<magic-timeit>\", line 1, in inner\n",
      "ZeroDivisionError: float division\n"
     ]
    },
    {
     "ename": "ZeroDivisionError",
     "evalue": "float division",
     "output_type": "error",
     "traceback": [
      "\u001b[0;31m---------------------------------------------------------------------------\u001b[0m",
      "\u001b[0;31mZeroDivisionError\u001b[0m                         Traceback (most recent call last)",
      "\u001b[0;31mZeroDivisionError\u001b[0m: float division"
     ]
    },
    {
     "name": "stderr",
     "output_type": "stream",
     "text": [
      "Exception ignored in: '_cython_magic_d33e5aada1040c975bde92b13d65fed9.simple_fit'\n",
      "Traceback (most recent call last):\n",
      "  File \"<magic-timeit>\", line 1, in inner\n",
      "ZeroDivisionError: float division\n"
     ]
    },
    {
     "ename": "ZeroDivisionError",
     "evalue": "float division",
     "output_type": "error",
     "traceback": [
      "\u001b[0;31m---------------------------------------------------------------------------\u001b[0m",
      "\u001b[0;31mZeroDivisionError\u001b[0m                         Traceback (most recent call last)",
      "\u001b[0;31mZeroDivisionError\u001b[0m: float division"
     ]
    },
    {
     "name": "stderr",
     "output_type": "stream",
     "text": [
      "Exception ignored in: '_cython_magic_d33e5aada1040c975bde92b13d65fed9.simple_fit'\n",
      "Traceback (most recent call last):\n",
      "  File \"<magic-timeit>\", line 1, in inner\n",
      "ZeroDivisionError: float division\n"
     ]
    },
    {
     "ename": "ZeroDivisionError",
     "evalue": "float division",
     "output_type": "error",
     "traceback": [
      "\u001b[0;31m---------------------------------------------------------------------------\u001b[0m",
      "\u001b[0;31mZeroDivisionError\u001b[0m                         Traceback (most recent call last)",
      "\u001b[0;31mZeroDivisionError\u001b[0m: float division"
     ]
    },
    {
     "name": "stderr",
     "output_type": "stream",
     "text": [
      "Exception ignored in: '_cython_magic_d33e5aada1040c975bde92b13d65fed9.simple_fit'\n",
      "Traceback (most recent call last):\n",
      "  File \"<magic-timeit>\", line 1, in inner\n",
      "ZeroDivisionError: float division\n"
     ]
    },
    {
     "ename": "ZeroDivisionError",
     "evalue": "float division",
     "output_type": "error",
     "traceback": [
      "\u001b[0;31m---------------------------------------------------------------------------\u001b[0m",
      "\u001b[0;31mZeroDivisionError\u001b[0m                         Traceback (most recent call last)",
      "\u001b[0;31mZeroDivisionError\u001b[0m: float division"
     ]
    },
    {
     "name": "stderr",
     "output_type": "stream",
     "text": [
      "Exception ignored in: '_cython_magic_d33e5aada1040c975bde92b13d65fed9.simple_fit'\n",
      "Traceback (most recent call last):\n",
      "  File \"<magic-timeit>\", line 1, in inner\n",
      "ZeroDivisionError: float division\n"
     ]
    },
    {
     "ename": "ZeroDivisionError",
     "evalue": "float division",
     "output_type": "error",
     "traceback": [
      "\u001b[0;31m---------------------------------------------------------------------------\u001b[0m",
      "\u001b[0;31mZeroDivisionError\u001b[0m                         Traceback (most recent call last)",
      "\u001b[0;31mZeroDivisionError\u001b[0m: float division"
     ]
    },
    {
     "name": "stderr",
     "output_type": "stream",
     "text": [
      "Exception ignored in: '_cython_magic_d33e5aada1040c975bde92b13d65fed9.simple_fit'\n",
      "Traceback (most recent call last):\n",
      "  File \"<magic-timeit>\", line 1, in inner\n",
      "ZeroDivisionError: float division\n"
     ]
    },
    {
     "ename": "ZeroDivisionError",
     "evalue": "float division",
     "output_type": "error",
     "traceback": [
      "\u001b[0;31m---------------------------------------------------------------------------\u001b[0m",
      "\u001b[0;31mZeroDivisionError\u001b[0m                         Traceback (most recent call last)",
      "\u001b[0;31mZeroDivisionError\u001b[0m: float division"
     ]
    },
    {
     "name": "stderr",
     "output_type": "stream",
     "text": [
      "Exception ignored in: '_cython_magic_d33e5aada1040c975bde92b13d65fed9.simple_fit'\n",
      "Traceback (most recent call last):\n",
      "  File \"<magic-timeit>\", line 1, in inner\n",
      "ZeroDivisionError: float division\n"
     ]
    },
    {
     "ename": "ZeroDivisionError",
     "evalue": "float division",
     "output_type": "error",
     "traceback": [
      "\u001b[0;31m---------------------------------------------------------------------------\u001b[0m",
      "\u001b[0;31mZeroDivisionError\u001b[0m                         Traceback (most recent call last)",
      "\u001b[0;31mZeroDivisionError\u001b[0m: float division"
     ]
    },
    {
     "name": "stderr",
     "output_type": "stream",
     "text": [
      "Exception ignored in: '_cython_magic_d33e5aada1040c975bde92b13d65fed9.simple_fit'\n",
      "Traceback (most recent call last):\n",
      "  File \"<magic-timeit>\", line 1, in inner\n",
      "ZeroDivisionError: float division\n"
     ]
    },
    {
     "ename": "ZeroDivisionError",
     "evalue": "float division",
     "output_type": "error",
     "traceback": [
      "\u001b[0;31m---------------------------------------------------------------------------\u001b[0m",
      "\u001b[0;31mZeroDivisionError\u001b[0m                         Traceback (most recent call last)",
      "\u001b[0;31mZeroDivisionError\u001b[0m: float division"
     ]
    },
    {
     "name": "stderr",
     "output_type": "stream",
     "text": [
      "Exception ignored in: '_cython_magic_d33e5aada1040c975bde92b13d65fed9.simple_fit'\n",
      "Traceback (most recent call last):\n",
      "  File \"<magic-timeit>\", line 1, in inner\n",
      "ZeroDivisionError: float division\n"
     ]
    },
    {
     "ename": "ZeroDivisionError",
     "evalue": "float division",
     "output_type": "error",
     "traceback": [
      "\u001b[0;31m---------------------------------------------------------------------------\u001b[0m",
      "\u001b[0;31mZeroDivisionError\u001b[0m                         Traceback (most recent call last)",
      "\u001b[0;31mZeroDivisionError\u001b[0m: float division"
     ]
    },
    {
     "name": "stderr",
     "output_type": "stream",
     "text": [
      "Exception ignored in: '_cython_magic_d33e5aada1040c975bde92b13d65fed9.simple_fit'\n",
      "Traceback (most recent call last):\n",
      "  File \"<magic-timeit>\", line 1, in inner\n",
      "ZeroDivisionError: float division\n"
     ]
    },
    {
     "ename": "ZeroDivisionError",
     "evalue": "float division",
     "output_type": "error",
     "traceback": [
      "\u001b[0;31m---------------------------------------------------------------------------\u001b[0m",
      "\u001b[0;31mZeroDivisionError\u001b[0m                         Traceback (most recent call last)",
      "\u001b[0;31mZeroDivisionError\u001b[0m: float division"
     ]
    },
    {
     "name": "stderr",
     "output_type": "stream",
     "text": [
      "Exception ignored in: '_cython_magic_d33e5aada1040c975bde92b13d65fed9.simple_fit'\n",
      "Traceback (most recent call last):\n",
      "  File \"<magic-timeit>\", line 1, in inner\n",
      "ZeroDivisionError: float division\n"
     ]
    },
    {
     "ename": "ZeroDivisionError",
     "evalue": "float division",
     "output_type": "error",
     "traceback": [
      "\u001b[0;31m---------------------------------------------------------------------------\u001b[0m",
      "\u001b[0;31mZeroDivisionError\u001b[0m                         Traceback (most recent call last)",
      "\u001b[0;31mZeroDivisionError\u001b[0m: float division"
     ]
    },
    {
     "name": "stderr",
     "output_type": "stream",
     "text": [
      "Exception ignored in: '_cython_magic_d33e5aada1040c975bde92b13d65fed9.simple_fit'\n",
      "Traceback (most recent call last):\n",
      "  File \"<magic-timeit>\", line 1, in inner\n",
      "ZeroDivisionError: float division\n"
     ]
    },
    {
     "ename": "ZeroDivisionError",
     "evalue": "float division",
     "output_type": "error",
     "traceback": [
      "\u001b[0;31m---------------------------------------------------------------------------\u001b[0m",
      "\u001b[0;31mZeroDivisionError\u001b[0m                         Traceback (most recent call last)",
      "\u001b[0;31mZeroDivisionError\u001b[0m: float division"
     ]
    },
    {
     "name": "stderr",
     "output_type": "stream",
     "text": [
      "Exception ignored in: '_cython_magic_d33e5aada1040c975bde92b13d65fed9.simple_fit'\n",
      "Traceback (most recent call last):\n",
      "  File \"<magic-timeit>\", line 1, in inner\n",
      "ZeroDivisionError: float division\n"
     ]
    },
    {
     "ename": "ZeroDivisionError",
     "evalue": "float division",
     "output_type": "error",
     "traceback": [
      "\u001b[0;31m---------------------------------------------------------------------------\u001b[0m",
      "\u001b[0;31mZeroDivisionError\u001b[0m                         Traceback (most recent call last)",
      "\u001b[0;31mZeroDivisionError\u001b[0m: float division"
     ]
    },
    {
     "name": "stderr",
     "output_type": "stream",
     "text": [
      "Exception ignored in: '_cython_magic_d33e5aada1040c975bde92b13d65fed9.simple_fit'\n",
      "Traceback (most recent call last):\n",
      "  File \"<magic-timeit>\", line 1, in inner\n",
      "ZeroDivisionError: float division\n"
     ]
    },
    {
     "ename": "ZeroDivisionError",
     "evalue": "float division",
     "output_type": "error",
     "traceback": [
      "\u001b[0;31m---------------------------------------------------------------------------\u001b[0m",
      "\u001b[0;31mZeroDivisionError\u001b[0m                         Traceback (most recent call last)",
      "\u001b[0;31mZeroDivisionError\u001b[0m: float division"
     ]
    },
    {
     "name": "stderr",
     "output_type": "stream",
     "text": [
      "Exception ignored in: '_cython_magic_d33e5aada1040c975bde92b13d65fed9.simple_fit'\n",
      "Traceback (most recent call last):\n",
      "  File \"<magic-timeit>\", line 1, in inner\n",
      "ZeroDivisionError: float division\n"
     ]
    },
    {
     "ename": "ZeroDivisionError",
     "evalue": "float division",
     "output_type": "error",
     "traceback": [
      "\u001b[0;31m---------------------------------------------------------------------------\u001b[0m",
      "\u001b[0;31mZeroDivisionError\u001b[0m                         Traceback (most recent call last)",
      "\u001b[0;31mZeroDivisionError\u001b[0m: float division"
     ]
    },
    {
     "name": "stderr",
     "output_type": "stream",
     "text": [
      "Exception ignored in: '_cython_magic_d33e5aada1040c975bde92b13d65fed9.simple_fit'\n",
      "Traceback (most recent call last):\n",
      "  File \"<magic-timeit>\", line 1, in inner\n",
      "ZeroDivisionError: float division\n"
     ]
    },
    {
     "ename": "ZeroDivisionError",
     "evalue": "float division",
     "output_type": "error",
     "traceback": [
      "\u001b[0;31m---------------------------------------------------------------------------\u001b[0m",
      "\u001b[0;31mZeroDivisionError\u001b[0m                         Traceback (most recent call last)",
      "\u001b[0;31mZeroDivisionError\u001b[0m: float division"
     ]
    },
    {
     "name": "stderr",
     "output_type": "stream",
     "text": [
      "Exception ignored in: '_cython_magic_d33e5aada1040c975bde92b13d65fed9.simple_fit'\n",
      "Traceback (most recent call last):\n",
      "  File \"<magic-timeit>\", line 1, in inner\n",
      "ZeroDivisionError: float division\n"
     ]
    },
    {
     "ename": "ZeroDivisionError",
     "evalue": "float division",
     "output_type": "error",
     "traceback": [
      "\u001b[0;31m---------------------------------------------------------------------------\u001b[0m",
      "\u001b[0;31mZeroDivisionError\u001b[0m                         Traceback (most recent call last)",
      "\u001b[0;31mZeroDivisionError\u001b[0m: float division"
     ]
    },
    {
     "name": "stderr",
     "output_type": "stream",
     "text": [
      "Exception ignored in: '_cython_magic_d33e5aada1040c975bde92b13d65fed9.simple_fit'\n",
      "Traceback (most recent call last):\n",
      "  File \"<magic-timeit>\", line 1, in inner\n",
      "ZeroDivisionError: float division\n"
     ]
    },
    {
     "ename": "ZeroDivisionError",
     "evalue": "float division",
     "output_type": "error",
     "traceback": [
      "\u001b[0;31m---------------------------------------------------------------------------\u001b[0m",
      "\u001b[0;31mZeroDivisionError\u001b[0m                         Traceback (most recent call last)",
      "\u001b[0;31mZeroDivisionError\u001b[0m: float division"
     ]
    },
    {
     "name": "stderr",
     "output_type": "stream",
     "text": [
      "Exception ignored in: '_cython_magic_d33e5aada1040c975bde92b13d65fed9.simple_fit'\n",
      "Traceback (most recent call last):\n",
      "  File \"<magic-timeit>\", line 1, in inner\n",
      "ZeroDivisionError: float division\n"
     ]
    },
    {
     "ename": "ZeroDivisionError",
     "evalue": "float division",
     "output_type": "error",
     "traceback": [
      "\u001b[0;31m---------------------------------------------------------------------------\u001b[0m",
      "\u001b[0;31mZeroDivisionError\u001b[0m                         Traceback (most recent call last)",
      "\u001b[0;31mZeroDivisionError\u001b[0m: float division"
     ]
    },
    {
     "name": "stderr",
     "output_type": "stream",
     "text": [
      "Exception ignored in: '_cython_magic_d33e5aada1040c975bde92b13d65fed9.simple_fit'\n",
      "Traceback (most recent call last):\n",
      "  File \"<magic-timeit>\", line 1, in inner\n",
      "ZeroDivisionError: float division\n"
     ]
    },
    {
     "ename": "ZeroDivisionError",
     "evalue": "float division",
     "output_type": "error",
     "traceback": [
      "\u001b[0;31m---------------------------------------------------------------------------\u001b[0m",
      "\u001b[0;31mZeroDivisionError\u001b[0m                         Traceback (most recent call last)",
      "\u001b[0;31mZeroDivisionError\u001b[0m: float division"
     ]
    },
    {
     "name": "stderr",
     "output_type": "stream",
     "text": [
      "Exception ignored in: '_cython_magic_d33e5aada1040c975bde92b13d65fed9.simple_fit'\n",
      "Traceback (most recent call last):\n",
      "  File \"<magic-timeit>\", line 1, in inner\n",
      "ZeroDivisionError: float division\n"
     ]
    },
    {
     "ename": "ZeroDivisionError",
     "evalue": "float division",
     "output_type": "error",
     "traceback": [
      "\u001b[0;31m---------------------------------------------------------------------------\u001b[0m",
      "\u001b[0;31mZeroDivisionError\u001b[0m                         Traceback (most recent call last)",
      "\u001b[0;31mZeroDivisionError\u001b[0m: float division"
     ]
    },
    {
     "name": "stderr",
     "output_type": "stream",
     "text": [
      "Exception ignored in: '_cython_magic_d33e5aada1040c975bde92b13d65fed9.simple_fit'\n",
      "Traceback (most recent call last):\n",
      "  File \"<magic-timeit>\", line 1, in inner\n",
      "ZeroDivisionError: float division\n"
     ]
    },
    {
     "ename": "ZeroDivisionError",
     "evalue": "float division",
     "output_type": "error",
     "traceback": [
      "\u001b[0;31m---------------------------------------------------------------------------\u001b[0m",
      "\u001b[0;31mZeroDivisionError\u001b[0m                         Traceback (most recent call last)",
      "\u001b[0;31mZeroDivisionError\u001b[0m: float division"
     ]
    },
    {
     "name": "stderr",
     "output_type": "stream",
     "text": [
      "Exception ignored in: '_cython_magic_d33e5aada1040c975bde92b13d65fed9.simple_fit'\n",
      "Traceback (most recent call last):\n",
      "  File \"<magic-timeit>\", line 1, in inner\n",
      "ZeroDivisionError: float division\n"
     ]
    },
    {
     "ename": "ZeroDivisionError",
     "evalue": "float division",
     "output_type": "error",
     "traceback": [
      "\u001b[0;31m---------------------------------------------------------------------------\u001b[0m",
      "\u001b[0;31mZeroDivisionError\u001b[0m                         Traceback (most recent call last)",
      "\u001b[0;31mZeroDivisionError\u001b[0m: float division"
     ]
    },
    {
     "name": "stderr",
     "output_type": "stream",
     "text": [
      "Exception ignored in: '_cython_magic_d33e5aada1040c975bde92b13d65fed9.simple_fit'\n",
      "Traceback (most recent call last):\n",
      "  File \"<magic-timeit>\", line 1, in inner\n",
      "ZeroDivisionError: float division\n"
     ]
    },
    {
     "ename": "ZeroDivisionError",
     "evalue": "float division",
     "output_type": "error",
     "traceback": [
      "\u001b[0;31m---------------------------------------------------------------------------\u001b[0m",
      "\u001b[0;31mZeroDivisionError\u001b[0m                         Traceback (most recent call last)",
      "\u001b[0;31mZeroDivisionError\u001b[0m: float division"
     ]
    },
    {
     "name": "stderr",
     "output_type": "stream",
     "text": [
      "Exception ignored in: '_cython_magic_d33e5aada1040c975bde92b13d65fed9.simple_fit'\n",
      "Traceback (most recent call last):\n",
      "  File \"<magic-timeit>\", line 1, in inner\n",
      "ZeroDivisionError: float division\n"
     ]
    },
    {
     "ename": "ZeroDivisionError",
     "evalue": "float division",
     "output_type": "error",
     "traceback": [
      "\u001b[0;31m---------------------------------------------------------------------------\u001b[0m",
      "\u001b[0;31mZeroDivisionError\u001b[0m                         Traceback (most recent call last)",
      "\u001b[0;31mZeroDivisionError\u001b[0m: float division"
     ]
    },
    {
     "name": "stderr",
     "output_type": "stream",
     "text": [
      "Exception ignored in: '_cython_magic_d33e5aada1040c975bde92b13d65fed9.simple_fit'\n",
      "Traceback (most recent call last):\n",
      "  File \"<magic-timeit>\", line 1, in inner\n",
      "ZeroDivisionError: float division\n"
     ]
    },
    {
     "ename": "ZeroDivisionError",
     "evalue": "float division",
     "output_type": "error",
     "traceback": [
      "\u001b[0;31m---------------------------------------------------------------------------\u001b[0m",
      "\u001b[0;31mZeroDivisionError\u001b[0m                         Traceback (most recent call last)",
      "\u001b[0;31mZeroDivisionError\u001b[0m: float division"
     ]
    },
    {
     "name": "stderr",
     "output_type": "stream",
     "text": [
      "Exception ignored in: '_cython_magic_d33e5aada1040c975bde92b13d65fed9.simple_fit'\n",
      "Traceback (most recent call last):\n",
      "  File \"<magic-timeit>\", line 1, in inner\n",
      "ZeroDivisionError: float division\n"
     ]
    },
    {
     "ename": "ZeroDivisionError",
     "evalue": "float division",
     "output_type": "error",
     "traceback": [
      "\u001b[0;31m---------------------------------------------------------------------------\u001b[0m",
      "\u001b[0;31mZeroDivisionError\u001b[0m                         Traceback (most recent call last)",
      "\u001b[0;31mZeroDivisionError\u001b[0m: float division"
     ]
    },
    {
     "name": "stderr",
     "output_type": "stream",
     "text": [
      "Exception ignored in: '_cython_magic_d33e5aada1040c975bde92b13d65fed9.simple_fit'\n",
      "Traceback (most recent call last):\n",
      "  File \"<magic-timeit>\", line 1, in inner\n",
      "ZeroDivisionError: float division\n"
     ]
    },
    {
     "ename": "ZeroDivisionError",
     "evalue": "float division",
     "output_type": "error",
     "traceback": [
      "\u001b[0;31m---------------------------------------------------------------------------\u001b[0m",
      "\u001b[0;31mZeroDivisionError\u001b[0m                         Traceback (most recent call last)",
      "\u001b[0;31mZeroDivisionError\u001b[0m: float division"
     ]
    },
    {
     "name": "stderr",
     "output_type": "stream",
     "text": [
      "Exception ignored in: '_cython_magic_d33e5aada1040c975bde92b13d65fed9.simple_fit'\n",
      "Traceback (most recent call last):\n",
      "  File \"<magic-timeit>\", line 1, in inner\n",
      "ZeroDivisionError: float division\n"
     ]
    },
    {
     "ename": "ZeroDivisionError",
     "evalue": "float division",
     "output_type": "error",
     "traceback": [
      "\u001b[0;31m---------------------------------------------------------------------------\u001b[0m",
      "\u001b[0;31mZeroDivisionError\u001b[0m                         Traceback (most recent call last)",
      "\u001b[0;31mZeroDivisionError\u001b[0m: float division"
     ]
    },
    {
     "name": "stderr",
     "output_type": "stream",
     "text": [
      "Exception ignored in: '_cython_magic_d33e5aada1040c975bde92b13d65fed9.simple_fit'\n",
      "Traceback (most recent call last):\n",
      "  File \"<magic-timeit>\", line 1, in inner\n",
      "ZeroDivisionError: float division\n"
     ]
    },
    {
     "ename": "ZeroDivisionError",
     "evalue": "float division",
     "output_type": "error",
     "traceback": [
      "\u001b[0;31m---------------------------------------------------------------------------\u001b[0m",
      "\u001b[0;31mZeroDivisionError\u001b[0m                         Traceback (most recent call last)",
      "\u001b[0;31mZeroDivisionError\u001b[0m: float division"
     ]
    },
    {
     "name": "stderr",
     "output_type": "stream",
     "text": [
      "Exception ignored in: '_cython_magic_d33e5aada1040c975bde92b13d65fed9.simple_fit'\n",
      "Traceback (most recent call last):\n",
      "  File \"<magic-timeit>\", line 1, in inner\n",
      "ZeroDivisionError: float division\n"
     ]
    },
    {
     "ename": "ZeroDivisionError",
     "evalue": "float division",
     "output_type": "error",
     "traceback": [
      "\u001b[0;31m---------------------------------------------------------------------------\u001b[0m",
      "\u001b[0;31mZeroDivisionError\u001b[0m                         Traceback (most recent call last)",
      "\u001b[0;31mZeroDivisionError\u001b[0m: float division"
     ]
    },
    {
     "name": "stderr",
     "output_type": "stream",
     "text": [
      "Exception ignored in: '_cython_magic_d33e5aada1040c975bde92b13d65fed9.simple_fit'\n",
      "Traceback (most recent call last):\n",
      "  File \"<magic-timeit>\", line 1, in inner\n",
      "ZeroDivisionError: float division\n"
     ]
    },
    {
     "ename": "ZeroDivisionError",
     "evalue": "float division",
     "output_type": "error",
     "traceback": [
      "\u001b[0;31m---------------------------------------------------------------------------\u001b[0m",
      "\u001b[0;31mZeroDivisionError\u001b[0m                         Traceback (most recent call last)",
      "\u001b[0;31mZeroDivisionError\u001b[0m: float division"
     ]
    },
    {
     "name": "stderr",
     "output_type": "stream",
     "text": [
      "Exception ignored in: '_cython_magic_d33e5aada1040c975bde92b13d65fed9.simple_fit'\n",
      "Traceback (most recent call last):\n",
      "  File \"<magic-timeit>\", line 1, in inner\n",
      "ZeroDivisionError: float division\n"
     ]
    },
    {
     "ename": "ZeroDivisionError",
     "evalue": "float division",
     "output_type": "error",
     "traceback": [
      "\u001b[0;31m---------------------------------------------------------------------------\u001b[0m",
      "\u001b[0;31mZeroDivisionError\u001b[0m                         Traceback (most recent call last)",
      "\u001b[0;31mZeroDivisionError\u001b[0m: float division"
     ]
    },
    {
     "name": "stderr",
     "output_type": "stream",
     "text": [
      "Exception ignored in: '_cython_magic_d33e5aada1040c975bde92b13d65fed9.simple_fit'\n",
      "Traceback (most recent call last):\n",
      "  File \"<magic-timeit>\", line 1, in inner\n",
      "ZeroDivisionError: float division\n"
     ]
    },
    {
     "ename": "ZeroDivisionError",
     "evalue": "float division",
     "output_type": "error",
     "traceback": [
      "\u001b[0;31m---------------------------------------------------------------------------\u001b[0m",
      "\u001b[0;31mZeroDivisionError\u001b[0m                         Traceback (most recent call last)",
      "\u001b[0;31mZeroDivisionError\u001b[0m: float division"
     ]
    },
    {
     "name": "stderr",
     "output_type": "stream",
     "text": [
      "Exception ignored in: '_cython_magic_d33e5aada1040c975bde92b13d65fed9.simple_fit'\n",
      "Traceback (most recent call last):\n",
      "  File \"<magic-timeit>\", line 1, in inner\n",
      "ZeroDivisionError: float division\n"
     ]
    },
    {
     "ename": "ZeroDivisionError",
     "evalue": "float division",
     "output_type": "error",
     "traceback": [
      "\u001b[0;31m---------------------------------------------------------------------------\u001b[0m",
      "\u001b[0;31mZeroDivisionError\u001b[0m                         Traceback (most recent call last)",
      "\u001b[0;31mZeroDivisionError\u001b[0m: float division"
     ]
    },
    {
     "name": "stderr",
     "output_type": "stream",
     "text": [
      "Exception ignored in: '_cython_magic_d33e5aada1040c975bde92b13d65fed9.simple_fit'\n",
      "Traceback (most recent call last):\n",
      "  File \"<magic-timeit>\", line 1, in inner\n",
      "ZeroDivisionError: float division\n"
     ]
    },
    {
     "ename": "ZeroDivisionError",
     "evalue": "float division",
     "output_type": "error",
     "traceback": [
      "\u001b[0;31m---------------------------------------------------------------------------\u001b[0m",
      "\u001b[0;31mZeroDivisionError\u001b[0m                         Traceback (most recent call last)",
      "\u001b[0;31mZeroDivisionError\u001b[0m: float division"
     ]
    },
    {
     "name": "stderr",
     "output_type": "stream",
     "text": [
      "Exception ignored in: '_cython_magic_d33e5aada1040c975bde92b13d65fed9.simple_fit'\n",
      "Traceback (most recent call last):\n",
      "  File \"<magic-timeit>\", line 1, in inner\n",
      "ZeroDivisionError: float division\n"
     ]
    },
    {
     "ename": "ZeroDivisionError",
     "evalue": "float division",
     "output_type": "error",
     "traceback": [
      "\u001b[0;31m---------------------------------------------------------------------------\u001b[0m",
      "\u001b[0;31mZeroDivisionError\u001b[0m                         Traceback (most recent call last)",
      "\u001b[0;31mZeroDivisionError\u001b[0m: float division"
     ]
    },
    {
     "name": "stderr",
     "output_type": "stream",
     "text": [
      "Exception ignored in: '_cython_magic_d33e5aada1040c975bde92b13d65fed9.simple_fit'\n",
      "Traceback (most recent call last):\n",
      "  File \"<magic-timeit>\", line 1, in inner\n",
      "ZeroDivisionError: float division\n"
     ]
    },
    {
     "ename": "ZeroDivisionError",
     "evalue": "float division",
     "output_type": "error",
     "traceback": [
      "\u001b[0;31m---------------------------------------------------------------------------\u001b[0m",
      "\u001b[0;31mZeroDivisionError\u001b[0m                         Traceback (most recent call last)",
      "\u001b[0;31mZeroDivisionError\u001b[0m: float division"
     ]
    },
    {
     "name": "stderr",
     "output_type": "stream",
     "text": [
      "Exception ignored in: '_cython_magic_d33e5aada1040c975bde92b13d65fed9.simple_fit'\n",
      "Traceback (most recent call last):\n",
      "  File \"<magic-timeit>\", line 1, in inner\n",
      "ZeroDivisionError: float division\n"
     ]
    },
    {
     "ename": "ZeroDivisionError",
     "evalue": "float division",
     "output_type": "error",
     "traceback": [
      "\u001b[0;31m---------------------------------------------------------------------------\u001b[0m",
      "\u001b[0;31mZeroDivisionError\u001b[0m                         Traceback (most recent call last)",
      "\u001b[0;31mZeroDivisionError\u001b[0m: float division"
     ]
    },
    {
     "name": "stderr",
     "output_type": "stream",
     "text": [
      "Exception ignored in: '_cython_magic_d33e5aada1040c975bde92b13d65fed9.simple_fit'\n",
      "Traceback (most recent call last):\n",
      "  File \"<magic-timeit>\", line 1, in inner\n",
      "ZeroDivisionError: float division\n"
     ]
    },
    {
     "ename": "ZeroDivisionError",
     "evalue": "float division",
     "output_type": "error",
     "traceback": [
      "\u001b[0;31m---------------------------------------------------------------------------\u001b[0m",
      "\u001b[0;31mZeroDivisionError\u001b[0m                         Traceback (most recent call last)",
      "\u001b[0;31mZeroDivisionError\u001b[0m: float division"
     ]
    },
    {
     "name": "stderr",
     "output_type": "stream",
     "text": [
      "Exception ignored in: '_cython_magic_d33e5aada1040c975bde92b13d65fed9.simple_fit'\n",
      "Traceback (most recent call last):\n",
      "  File \"<magic-timeit>\", line 1, in inner\n",
      "ZeroDivisionError: float division\n"
     ]
    },
    {
     "ename": "ZeroDivisionError",
     "evalue": "float division",
     "output_type": "error",
     "traceback": [
      "\u001b[0;31m---------------------------------------------------------------------------\u001b[0m",
      "\u001b[0;31mZeroDivisionError\u001b[0m                         Traceback (most recent call last)",
      "\u001b[0;31mZeroDivisionError\u001b[0m: float division"
     ]
    },
    {
     "name": "stderr",
     "output_type": "stream",
     "text": [
      "Exception ignored in: '_cython_magic_d33e5aada1040c975bde92b13d65fed9.simple_fit'\n",
      "Traceback (most recent call last):\n",
      "  File \"<magic-timeit>\", line 1, in inner\n",
      "ZeroDivisionError: float division\n"
     ]
    },
    {
     "ename": "ZeroDivisionError",
     "evalue": "float division",
     "output_type": "error",
     "traceback": [
      "\u001b[0;31m---------------------------------------------------------------------------\u001b[0m",
      "\u001b[0;31mZeroDivisionError\u001b[0m                         Traceback (most recent call last)",
      "\u001b[0;31mZeroDivisionError\u001b[0m: float division"
     ]
    },
    {
     "name": "stderr",
     "output_type": "stream",
     "text": [
      "Exception ignored in: '_cython_magic_d33e5aada1040c975bde92b13d65fed9.simple_fit'\n",
      "Traceback (most recent call last):\n",
      "  File \"<magic-timeit>\", line 1, in inner\n",
      "ZeroDivisionError: float division\n"
     ]
    },
    {
     "ename": "ZeroDivisionError",
     "evalue": "float division",
     "output_type": "error",
     "traceback": [
      "\u001b[0;31m---------------------------------------------------------------------------\u001b[0m",
      "\u001b[0;31mZeroDivisionError\u001b[0m                         Traceback (most recent call last)",
      "\u001b[0;31mZeroDivisionError\u001b[0m: float division"
     ]
    },
    {
     "name": "stderr",
     "output_type": "stream",
     "text": [
      "Exception ignored in: '_cython_magic_d33e5aada1040c975bde92b13d65fed9.simple_fit'\n",
      "Traceback (most recent call last):\n",
      "  File \"<magic-timeit>\", line 1, in inner\n",
      "ZeroDivisionError: float division\n"
     ]
    },
    {
     "ename": "ZeroDivisionError",
     "evalue": "float division",
     "output_type": "error",
     "traceback": [
      "\u001b[0;31m---------------------------------------------------------------------------\u001b[0m",
      "\u001b[0;31mZeroDivisionError\u001b[0m                         Traceback (most recent call last)",
      "\u001b[0;31mZeroDivisionError\u001b[0m: float division"
     ]
    },
    {
     "name": "stderr",
     "output_type": "stream",
     "text": [
      "Exception ignored in: '_cython_magic_d33e5aada1040c975bde92b13d65fed9.simple_fit'\n",
      "Traceback (most recent call last):\n",
      "  File \"<magic-timeit>\", line 1, in inner\n",
      "ZeroDivisionError: float division\n"
     ]
    },
    {
     "ename": "ZeroDivisionError",
     "evalue": "float division",
     "output_type": "error",
     "traceback": [
      "\u001b[0;31m---------------------------------------------------------------------------\u001b[0m",
      "\u001b[0;31mZeroDivisionError\u001b[0m                         Traceback (most recent call last)",
      "\u001b[0;31mZeroDivisionError\u001b[0m: float division"
     ]
    },
    {
     "name": "stderr",
     "output_type": "stream",
     "text": [
      "Exception ignored in: '_cython_magic_d33e5aada1040c975bde92b13d65fed9.simple_fit'\n",
      "Traceback (most recent call last):\n",
      "  File \"<magic-timeit>\", line 1, in inner\n",
      "ZeroDivisionError: float division\n"
     ]
    },
    {
     "ename": "ZeroDivisionError",
     "evalue": "float division",
     "output_type": "error",
     "traceback": [
      "\u001b[0;31m---------------------------------------------------------------------------\u001b[0m",
      "\u001b[0;31mZeroDivisionError\u001b[0m                         Traceback (most recent call last)",
      "\u001b[0;31mZeroDivisionError\u001b[0m: float division"
     ]
    },
    {
     "name": "stderr",
     "output_type": "stream",
     "text": [
      "Exception ignored in: '_cython_magic_d33e5aada1040c975bde92b13d65fed9.simple_fit'\n",
      "Traceback (most recent call last):\n",
      "  File \"<magic-timeit>\", line 1, in inner\n",
      "ZeroDivisionError: float division\n"
     ]
    },
    {
     "ename": "ZeroDivisionError",
     "evalue": "float division",
     "output_type": "error",
     "traceback": [
      "\u001b[0;31m---------------------------------------------------------------------------\u001b[0m",
      "\u001b[0;31mZeroDivisionError\u001b[0m                         Traceback (most recent call last)",
      "\u001b[0;31mZeroDivisionError\u001b[0m: float division"
     ]
    },
    {
     "name": "stderr",
     "output_type": "stream",
     "text": [
      "Exception ignored in: '_cython_magic_d33e5aada1040c975bde92b13d65fed9.simple_fit'\n",
      "Traceback (most recent call last):\n",
      "  File \"<magic-timeit>\", line 1, in inner\n",
      "ZeroDivisionError: float division\n"
     ]
    },
    {
     "ename": "ZeroDivisionError",
     "evalue": "float division",
     "output_type": "error",
     "traceback": [
      "\u001b[0;31m---------------------------------------------------------------------------\u001b[0m",
      "\u001b[0;31mZeroDivisionError\u001b[0m                         Traceback (most recent call last)",
      "\u001b[0;31mZeroDivisionError\u001b[0m: float division"
     ]
    },
    {
     "name": "stderr",
     "output_type": "stream",
     "text": [
      "Exception ignored in: '_cython_magic_d33e5aada1040c975bde92b13d65fed9.simple_fit'\n",
      "Traceback (most recent call last):\n",
      "  File \"<magic-timeit>\", line 1, in inner\n",
      "ZeroDivisionError: float division\n"
     ]
    },
    {
     "ename": "ZeroDivisionError",
     "evalue": "float division",
     "output_type": "error",
     "traceback": [
      "\u001b[0;31m---------------------------------------------------------------------------\u001b[0m",
      "\u001b[0;31mZeroDivisionError\u001b[0m                         Traceback (most recent call last)",
      "\u001b[0;31mZeroDivisionError\u001b[0m: float division"
     ]
    },
    {
     "name": "stderr",
     "output_type": "stream",
     "text": [
      "Exception ignored in: '_cython_magic_d33e5aada1040c975bde92b13d65fed9.simple_fit'\n",
      "Traceback (most recent call last):\n",
      "  File \"<magic-timeit>\", line 1, in inner\n",
      "ZeroDivisionError: float division\n"
     ]
    },
    {
     "ename": "ZeroDivisionError",
     "evalue": "float division",
     "output_type": "error",
     "traceback": [
      "\u001b[0;31m---------------------------------------------------------------------------\u001b[0m",
      "\u001b[0;31mZeroDivisionError\u001b[0m                         Traceback (most recent call last)",
      "\u001b[0;31mZeroDivisionError\u001b[0m: float division"
     ]
    },
    {
     "name": "stderr",
     "output_type": "stream",
     "text": [
      "Exception ignored in: '_cython_magic_d33e5aada1040c975bde92b13d65fed9.simple_fit'\n",
      "Traceback (most recent call last):\n",
      "  File \"<magic-timeit>\", line 1, in inner\n",
      "ZeroDivisionError: float division\n"
     ]
    },
    {
     "ename": "ZeroDivisionError",
     "evalue": "float division",
     "output_type": "error",
     "traceback": [
      "\u001b[0;31m---------------------------------------------------------------------------\u001b[0m",
      "\u001b[0;31mZeroDivisionError\u001b[0m                         Traceback (most recent call last)",
      "\u001b[0;31mZeroDivisionError\u001b[0m: float division"
     ]
    },
    {
     "name": "stderr",
     "output_type": "stream",
     "text": [
      "Exception ignored in: '_cython_magic_d33e5aada1040c975bde92b13d65fed9.simple_fit'\n",
      "Traceback (most recent call last):\n",
      "  File \"<magic-timeit>\", line 1, in inner\n",
      "ZeroDivisionError: float division\n"
     ]
    },
    {
     "ename": "ZeroDivisionError",
     "evalue": "float division",
     "output_type": "error",
     "traceback": [
      "\u001b[0;31m---------------------------------------------------------------------------\u001b[0m",
      "\u001b[0;31mZeroDivisionError\u001b[0m                         Traceback (most recent call last)",
      "\u001b[0;31mZeroDivisionError\u001b[0m: float division"
     ]
    },
    {
     "name": "stderr",
     "output_type": "stream",
     "text": [
      "Exception ignored in: '_cython_magic_d33e5aada1040c975bde92b13d65fed9.simple_fit'\n",
      "Traceback (most recent call last):\n",
      "  File \"<magic-timeit>\", line 1, in inner\n",
      "ZeroDivisionError: float division\n"
     ]
    },
    {
     "ename": "ZeroDivisionError",
     "evalue": "float division",
     "output_type": "error",
     "traceback": [
      "\u001b[0;31m---------------------------------------------------------------------------\u001b[0m",
      "\u001b[0;31mZeroDivisionError\u001b[0m                         Traceback (most recent call last)",
      "\u001b[0;31mZeroDivisionError\u001b[0m: float division"
     ]
    },
    {
     "name": "stderr",
     "output_type": "stream",
     "text": [
      "Exception ignored in: '_cython_magic_d33e5aada1040c975bde92b13d65fed9.simple_fit'\n",
      "Traceback (most recent call last):\n",
      "  File \"<magic-timeit>\", line 1, in inner\n",
      "ZeroDivisionError: float division\n"
     ]
    },
    {
     "ename": "ZeroDivisionError",
     "evalue": "float division",
     "output_type": "error",
     "traceback": [
      "\u001b[0;31m---------------------------------------------------------------------------\u001b[0m",
      "\u001b[0;31mZeroDivisionError\u001b[0m                         Traceback (most recent call last)",
      "\u001b[0;31mZeroDivisionError\u001b[0m: float division"
     ]
    },
    {
     "name": "stderr",
     "output_type": "stream",
     "text": [
      "Exception ignored in: '_cython_magic_d33e5aada1040c975bde92b13d65fed9.simple_fit'\n",
      "Traceback (most recent call last):\n",
      "  File \"<magic-timeit>\", line 1, in inner\n",
      "ZeroDivisionError: float division\n"
     ]
    },
    {
     "ename": "ZeroDivisionError",
     "evalue": "float division",
     "output_type": "error",
     "traceback": [
      "\u001b[0;31m---------------------------------------------------------------------------\u001b[0m",
      "\u001b[0;31mZeroDivisionError\u001b[0m                         Traceback (most recent call last)",
      "\u001b[0;31mZeroDivisionError\u001b[0m: float division"
     ]
    },
    {
     "name": "stderr",
     "output_type": "stream",
     "text": [
      "Exception ignored in: '_cython_magic_d33e5aada1040c975bde92b13d65fed9.simple_fit'\n",
      "Traceback (most recent call last):\n",
      "  File \"<magic-timeit>\", line 1, in inner\n",
      "ZeroDivisionError: float division\n"
     ]
    },
    {
     "ename": "ZeroDivisionError",
     "evalue": "float division",
     "output_type": "error",
     "traceback": [
      "\u001b[0;31m---------------------------------------------------------------------------\u001b[0m",
      "\u001b[0;31mZeroDivisionError\u001b[0m                         Traceback (most recent call last)",
      "\u001b[0;31mZeroDivisionError\u001b[0m: float division"
     ]
    },
    {
     "name": "stderr",
     "output_type": "stream",
     "text": [
      "Exception ignored in: '_cython_magic_d33e5aada1040c975bde92b13d65fed9.simple_fit'\n",
      "Traceback (most recent call last):\n",
      "  File \"<magic-timeit>\", line 1, in inner\n",
      "ZeroDivisionError: float division\n"
     ]
    },
    {
     "ename": "ZeroDivisionError",
     "evalue": "float division",
     "output_type": "error",
     "traceback": [
      "\u001b[0;31m---------------------------------------------------------------------------\u001b[0m",
      "\u001b[0;31mZeroDivisionError\u001b[0m                         Traceback (most recent call last)",
      "\u001b[0;31mZeroDivisionError\u001b[0m: float division"
     ]
    },
    {
     "name": "stderr",
     "output_type": "stream",
     "text": [
      "Exception ignored in: '_cython_magic_d33e5aada1040c975bde92b13d65fed9.simple_fit'\n",
      "Traceback (most recent call last):\n",
      "  File \"<magic-timeit>\", line 1, in inner\n",
      "ZeroDivisionError: float division\n"
     ]
    },
    {
     "ename": "ZeroDivisionError",
     "evalue": "float division",
     "output_type": "error",
     "traceback": [
      "\u001b[0;31m---------------------------------------------------------------------------\u001b[0m",
      "\u001b[0;31mZeroDivisionError\u001b[0m                         Traceback (most recent call last)",
      "\u001b[0;31mZeroDivisionError\u001b[0m: float division"
     ]
    },
    {
     "name": "stderr",
     "output_type": "stream",
     "text": [
      "Exception ignored in: '_cython_magic_d33e5aada1040c975bde92b13d65fed9.simple_fit'\n",
      "Traceback (most recent call last):\n",
      "  File \"<magic-timeit>\", line 1, in inner\n",
      "ZeroDivisionError: float division\n"
     ]
    },
    {
     "ename": "ZeroDivisionError",
     "evalue": "float division",
     "output_type": "error",
     "traceback": [
      "\u001b[0;31m---------------------------------------------------------------------------\u001b[0m",
      "\u001b[0;31mZeroDivisionError\u001b[0m                         Traceback (most recent call last)",
      "\u001b[0;31mZeroDivisionError\u001b[0m: float division"
     ]
    },
    {
     "name": "stderr",
     "output_type": "stream",
     "text": [
      "Exception ignored in: '_cython_magic_d33e5aada1040c975bde92b13d65fed9.simple_fit'\n",
      "Traceback (most recent call last):\n",
      "  File \"<magic-timeit>\", line 1, in inner\n",
      "ZeroDivisionError: float division\n"
     ]
    },
    {
     "ename": "ZeroDivisionError",
     "evalue": "float division",
     "output_type": "error",
     "traceback": [
      "\u001b[0;31m---------------------------------------------------------------------------\u001b[0m",
      "\u001b[0;31mZeroDivisionError\u001b[0m                         Traceback (most recent call last)",
      "\u001b[0;31mZeroDivisionError\u001b[0m: float division"
     ]
    },
    {
     "name": "stderr",
     "output_type": "stream",
     "text": [
      "Exception ignored in: '_cython_magic_d33e5aada1040c975bde92b13d65fed9.simple_fit'\n",
      "Traceback (most recent call last):\n",
      "  File \"<magic-timeit>\", line 1, in inner\n",
      "ZeroDivisionError: float division\n"
     ]
    },
    {
     "ename": "ZeroDivisionError",
     "evalue": "float division",
     "output_type": "error",
     "traceback": [
      "\u001b[0;31m---------------------------------------------------------------------------\u001b[0m",
      "\u001b[0;31mZeroDivisionError\u001b[0m                         Traceback (most recent call last)",
      "\u001b[0;31mZeroDivisionError\u001b[0m: float division"
     ]
    },
    {
     "name": "stderr",
     "output_type": "stream",
     "text": [
      "Exception ignored in: '_cython_magic_d33e5aada1040c975bde92b13d65fed9.simple_fit'\n",
      "Traceback (most recent call last):\n",
      "  File \"<magic-timeit>\", line 1, in inner\n",
      "ZeroDivisionError: float division\n"
     ]
    },
    {
     "ename": "ZeroDivisionError",
     "evalue": "float division",
     "output_type": "error",
     "traceback": [
      "\u001b[0;31m---------------------------------------------------------------------------\u001b[0m",
      "\u001b[0;31mZeroDivisionError\u001b[0m                         Traceback (most recent call last)",
      "\u001b[0;31mZeroDivisionError\u001b[0m: float division"
     ]
    },
    {
     "name": "stderr",
     "output_type": "stream",
     "text": [
      "Exception ignored in: '_cython_magic_d33e5aada1040c975bde92b13d65fed9.simple_fit'\n",
      "Traceback (most recent call last):\n",
      "  File \"<magic-timeit>\", line 1, in inner\n",
      "ZeroDivisionError: float division\n"
     ]
    },
    {
     "ename": "ZeroDivisionError",
     "evalue": "float division",
     "output_type": "error",
     "traceback": [
      "\u001b[0;31m---------------------------------------------------------------------------\u001b[0m",
      "\u001b[0;31mZeroDivisionError\u001b[0m                         Traceback (most recent call last)",
      "\u001b[0;31mZeroDivisionError\u001b[0m: float division"
     ]
    },
    {
     "name": "stderr",
     "output_type": "stream",
     "text": [
      "Exception ignored in: '_cython_magic_d33e5aada1040c975bde92b13d65fed9.simple_fit'\n",
      "Traceback (most recent call last):\n",
      "  File \"<magic-timeit>\", line 1, in inner\n",
      "ZeroDivisionError: float division\n"
     ]
    },
    {
     "ename": "ZeroDivisionError",
     "evalue": "float division",
     "output_type": "error",
     "traceback": [
      "\u001b[0;31m---------------------------------------------------------------------------\u001b[0m",
      "\u001b[0;31mZeroDivisionError\u001b[0m                         Traceback (most recent call last)",
      "\u001b[0;31mZeroDivisionError\u001b[0m: float division"
     ]
    },
    {
     "name": "stderr",
     "output_type": "stream",
     "text": [
      "Exception ignored in: '_cython_magic_d33e5aada1040c975bde92b13d65fed9.simple_fit'\n",
      "Traceback (most recent call last):\n",
      "  File \"<magic-timeit>\", line 1, in inner\n",
      "ZeroDivisionError: float division\n"
     ]
    },
    {
     "ename": "ZeroDivisionError",
     "evalue": "float division",
     "output_type": "error",
     "traceback": [
      "\u001b[0;31m---------------------------------------------------------------------------\u001b[0m",
      "\u001b[0;31mZeroDivisionError\u001b[0m                         Traceback (most recent call last)",
      "\u001b[0;31mZeroDivisionError\u001b[0m: float division"
     ]
    },
    {
     "name": "stderr",
     "output_type": "stream",
     "text": [
      "Exception ignored in: '_cython_magic_d33e5aada1040c975bde92b13d65fed9.simple_fit'\n",
      "Traceback (most recent call last):\n",
      "  File \"<magic-timeit>\", line 1, in inner\n",
      "ZeroDivisionError: float division\n"
     ]
    },
    {
     "ename": "ZeroDivisionError",
     "evalue": "float division",
     "output_type": "error",
     "traceback": [
      "\u001b[0;31m---------------------------------------------------------------------------\u001b[0m",
      "\u001b[0;31mZeroDivisionError\u001b[0m                         Traceback (most recent call last)",
      "\u001b[0;31mZeroDivisionError\u001b[0m: float division"
     ]
    },
    {
     "name": "stderr",
     "output_type": "stream",
     "text": [
      "Exception ignored in: '_cython_magic_d33e5aada1040c975bde92b13d65fed9.simple_fit'\n",
      "Traceback (most recent call last):\n",
      "  File \"<magic-timeit>\", line 1, in inner\n",
      "ZeroDivisionError: float division\n"
     ]
    },
    {
     "ename": "ZeroDivisionError",
     "evalue": "float division",
     "output_type": "error",
     "traceback": [
      "\u001b[0;31m---------------------------------------------------------------------------\u001b[0m",
      "\u001b[0;31mZeroDivisionError\u001b[0m                         Traceback (most recent call last)",
      "\u001b[0;31mZeroDivisionError\u001b[0m: float division"
     ]
    },
    {
     "name": "stderr",
     "output_type": "stream",
     "text": [
      "Exception ignored in: '_cython_magic_d33e5aada1040c975bde92b13d65fed9.simple_fit'\n",
      "Traceback (most recent call last):\n",
      "  File \"<magic-timeit>\", line 1, in inner\n",
      "ZeroDivisionError: float division\n"
     ]
    },
    {
     "ename": "ZeroDivisionError",
     "evalue": "float division",
     "output_type": "error",
     "traceback": [
      "\u001b[0;31m---------------------------------------------------------------------------\u001b[0m",
      "\u001b[0;31mZeroDivisionError\u001b[0m                         Traceback (most recent call last)",
      "\u001b[0;31mZeroDivisionError\u001b[0m: float division"
     ]
    },
    {
     "name": "stderr",
     "output_type": "stream",
     "text": [
      "Exception ignored in: '_cython_magic_d33e5aada1040c975bde92b13d65fed9.simple_fit'\n",
      "Traceback (most recent call last):\n",
      "  File \"<magic-timeit>\", line 1, in inner\n",
      "ZeroDivisionError: float division\n"
     ]
    },
    {
     "ename": "ZeroDivisionError",
     "evalue": "float division",
     "output_type": "error",
     "traceback": [
      "\u001b[0;31m---------------------------------------------------------------------------\u001b[0m",
      "\u001b[0;31mZeroDivisionError\u001b[0m                         Traceback (most recent call last)",
      "\u001b[0;31mZeroDivisionError\u001b[0m: float division"
     ]
    },
    {
     "name": "stderr",
     "output_type": "stream",
     "text": [
      "Exception ignored in: '_cython_magic_d33e5aada1040c975bde92b13d65fed9.simple_fit'\n",
      "Traceback (most recent call last):\n",
      "  File \"<magic-timeit>\", line 1, in inner\n",
      "ZeroDivisionError: float division\n"
     ]
    },
    {
     "ename": "ZeroDivisionError",
     "evalue": "float division",
     "output_type": "error",
     "traceback": [
      "\u001b[0;31m---------------------------------------------------------------------------\u001b[0m",
      "\u001b[0;31mZeroDivisionError\u001b[0m                         Traceback (most recent call last)",
      "\u001b[0;31mZeroDivisionError\u001b[0m: float division"
     ]
    },
    {
     "name": "stderr",
     "output_type": "stream",
     "text": [
      "Exception ignored in: '_cython_magic_d33e5aada1040c975bde92b13d65fed9.simple_fit'\n",
      "Traceback (most recent call last):\n",
      "  File \"<magic-timeit>\", line 1, in inner\n",
      "ZeroDivisionError: float division\n"
     ]
    },
    {
     "ename": "ZeroDivisionError",
     "evalue": "float division",
     "output_type": "error",
     "traceback": [
      "\u001b[0;31m---------------------------------------------------------------------------\u001b[0m",
      "\u001b[0;31mZeroDivisionError\u001b[0m                         Traceback (most recent call last)",
      "\u001b[0;31mZeroDivisionError\u001b[0m: float division"
     ]
    },
    {
     "name": "stderr",
     "output_type": "stream",
     "text": [
      "Exception ignored in: '_cython_magic_d33e5aada1040c975bde92b13d65fed9.simple_fit'\n",
      "Traceback (most recent call last):\n",
      "  File \"<magic-timeit>\", line 1, in inner\n",
      "ZeroDivisionError: float division\n"
     ]
    },
    {
     "ename": "ZeroDivisionError",
     "evalue": "float division",
     "output_type": "error",
     "traceback": [
      "\u001b[0;31m---------------------------------------------------------------------------\u001b[0m",
      "\u001b[0;31mZeroDivisionError\u001b[0m                         Traceback (most recent call last)",
      "\u001b[0;31mZeroDivisionError\u001b[0m: float division"
     ]
    },
    {
     "name": "stderr",
     "output_type": "stream",
     "text": [
      "Exception ignored in: '_cython_magic_d33e5aada1040c975bde92b13d65fed9.simple_fit'\n",
      "Traceback (most recent call last):\n",
      "  File \"<magic-timeit>\", line 1, in inner\n",
      "ZeroDivisionError: float division\n"
     ]
    },
    {
     "ename": "ZeroDivisionError",
     "evalue": "float division",
     "output_type": "error",
     "traceback": [
      "\u001b[0;31m---------------------------------------------------------------------------\u001b[0m",
      "\u001b[0;31mZeroDivisionError\u001b[0m                         Traceback (most recent call last)",
      "\u001b[0;31mZeroDivisionError\u001b[0m: float division"
     ]
    },
    {
     "name": "stderr",
     "output_type": "stream",
     "text": [
      "Exception ignored in: '_cython_magic_d33e5aada1040c975bde92b13d65fed9.simple_fit'\n",
      "Traceback (most recent call last):\n",
      "  File \"<magic-timeit>\", line 1, in inner\n",
      "ZeroDivisionError: float division\n"
     ]
    },
    {
     "ename": "ZeroDivisionError",
     "evalue": "float division",
     "output_type": "error",
     "traceback": [
      "\u001b[0;31m---------------------------------------------------------------------------\u001b[0m",
      "\u001b[0;31mZeroDivisionError\u001b[0m                         Traceback (most recent call last)",
      "\u001b[0;31mZeroDivisionError\u001b[0m: float division"
     ]
    },
    {
     "name": "stderr",
     "output_type": "stream",
     "text": [
      "Exception ignored in: '_cython_magic_d33e5aada1040c975bde92b13d65fed9.simple_fit'\n",
      "Traceback (most recent call last):\n",
      "  File \"<magic-timeit>\", line 1, in inner\n",
      "ZeroDivisionError: float division\n"
     ]
    },
    {
     "ename": "ZeroDivisionError",
     "evalue": "float division",
     "output_type": "error",
     "traceback": [
      "\u001b[0;31m---------------------------------------------------------------------------\u001b[0m",
      "\u001b[0;31mZeroDivisionError\u001b[0m                         Traceback (most recent call last)",
      "\u001b[0;31mZeroDivisionError\u001b[0m: float division"
     ]
    },
    {
     "name": "stderr",
     "output_type": "stream",
     "text": [
      "Exception ignored in: '_cython_magic_d33e5aada1040c975bde92b13d65fed9.simple_fit'\n",
      "Traceback (most recent call last):\n",
      "  File \"<magic-timeit>\", line 1, in inner\n",
      "ZeroDivisionError: float division\n"
     ]
    },
    {
     "ename": "ZeroDivisionError",
     "evalue": "float division",
     "output_type": "error",
     "traceback": [
      "\u001b[0;31m---------------------------------------------------------------------------\u001b[0m",
      "\u001b[0;31mZeroDivisionError\u001b[0m                         Traceback (most recent call last)",
      "\u001b[0;31mZeroDivisionError\u001b[0m: float division"
     ]
    },
    {
     "name": "stderr",
     "output_type": "stream",
     "text": [
      "Exception ignored in: '_cython_magic_d33e5aada1040c975bde92b13d65fed9.simple_fit'\n",
      "Traceback (most recent call last):\n",
      "  File \"<magic-timeit>\", line 1, in inner\n",
      "ZeroDivisionError: float division\n"
     ]
    },
    {
     "ename": "ZeroDivisionError",
     "evalue": "float division",
     "output_type": "error",
     "traceback": [
      "\u001b[0;31m---------------------------------------------------------------------------\u001b[0m",
      "\u001b[0;31mZeroDivisionError\u001b[0m                         Traceback (most recent call last)",
      "\u001b[0;31mZeroDivisionError\u001b[0m: float division"
     ]
    },
    {
     "name": "stderr",
     "output_type": "stream",
     "text": [
      "Exception ignored in: '_cython_magic_d33e5aada1040c975bde92b13d65fed9.simple_fit'\n",
      "Traceback (most recent call last):\n",
      "  File \"<magic-timeit>\", line 1, in inner\n",
      "ZeroDivisionError: float division\n"
     ]
    },
    {
     "ename": "ZeroDivisionError",
     "evalue": "float division",
     "output_type": "error",
     "traceback": [
      "\u001b[0;31m---------------------------------------------------------------------------\u001b[0m",
      "\u001b[0;31mZeroDivisionError\u001b[0m                         Traceback (most recent call last)",
      "\u001b[0;31mZeroDivisionError\u001b[0m: float division"
     ]
    },
    {
     "name": "stderr",
     "output_type": "stream",
     "text": [
      "Exception ignored in: '_cython_magic_d33e5aada1040c975bde92b13d65fed9.simple_fit'\n",
      "Traceback (most recent call last):\n",
      "  File \"<magic-timeit>\", line 1, in inner\n",
      "ZeroDivisionError: float division\n"
     ]
    },
    {
     "ename": "ZeroDivisionError",
     "evalue": "float division",
     "output_type": "error",
     "traceback": [
      "\u001b[0;31m---------------------------------------------------------------------------\u001b[0m",
      "\u001b[0;31mZeroDivisionError\u001b[0m                         Traceback (most recent call last)",
      "\u001b[0;31mZeroDivisionError\u001b[0m: float division"
     ]
    },
    {
     "name": "stderr",
     "output_type": "stream",
     "text": [
      "Exception ignored in: '_cython_magic_d33e5aada1040c975bde92b13d65fed9.simple_fit'\n",
      "Traceback (most recent call last):\n",
      "  File \"<magic-timeit>\", line 1, in inner\n",
      "ZeroDivisionError: float division\n"
     ]
    },
    {
     "ename": "ZeroDivisionError",
     "evalue": "float division",
     "output_type": "error",
     "traceback": [
      "\u001b[0;31m---------------------------------------------------------------------------\u001b[0m",
      "\u001b[0;31mZeroDivisionError\u001b[0m                         Traceback (most recent call last)",
      "\u001b[0;31mZeroDivisionError\u001b[0m: float division"
     ]
    },
    {
     "name": "stderr",
     "output_type": "stream",
     "text": [
      "Exception ignored in: '_cython_magic_d33e5aada1040c975bde92b13d65fed9.simple_fit'\n",
      "Traceback (most recent call last):\n",
      "  File \"<magic-timeit>\", line 1, in inner\n",
      "ZeroDivisionError: float division\n"
     ]
    },
    {
     "ename": "ZeroDivisionError",
     "evalue": "float division",
     "output_type": "error",
     "traceback": [
      "\u001b[0;31m---------------------------------------------------------------------------\u001b[0m",
      "\u001b[0;31mZeroDivisionError\u001b[0m                         Traceback (most recent call last)",
      "\u001b[0;31mZeroDivisionError\u001b[0m: float division"
     ]
    },
    {
     "name": "stderr",
     "output_type": "stream",
     "text": [
      "Exception ignored in: '_cython_magic_d33e5aada1040c975bde92b13d65fed9.simple_fit'\n",
      "Traceback (most recent call last):\n",
      "  File \"<magic-timeit>\", line 1, in inner\n",
      "ZeroDivisionError: float division\n"
     ]
    },
    {
     "ename": "ZeroDivisionError",
     "evalue": "float division",
     "output_type": "error",
     "traceback": [
      "\u001b[0;31m---------------------------------------------------------------------------\u001b[0m",
      "\u001b[0;31mZeroDivisionError\u001b[0m                         Traceback (most recent call last)",
      "\u001b[0;31mZeroDivisionError\u001b[0m: float division"
     ]
    },
    {
     "name": "stderr",
     "output_type": "stream",
     "text": [
      "Exception ignored in: '_cython_magic_d33e5aada1040c975bde92b13d65fed9.simple_fit'\n",
      "Traceback (most recent call last):\n",
      "  File \"<magic-timeit>\", line 1, in inner\n",
      "ZeroDivisionError: float division\n"
     ]
    },
    {
     "ename": "ZeroDivisionError",
     "evalue": "float division",
     "output_type": "error",
     "traceback": [
      "\u001b[0;31m---------------------------------------------------------------------------\u001b[0m",
      "\u001b[0;31mZeroDivisionError\u001b[0m                         Traceback (most recent call last)",
      "\u001b[0;31mZeroDivisionError\u001b[0m: float division"
     ]
    },
    {
     "name": "stderr",
     "output_type": "stream",
     "text": [
      "Exception ignored in: '_cython_magic_d33e5aada1040c975bde92b13d65fed9.simple_fit'\n",
      "Traceback (most recent call last):\n",
      "  File \"<magic-timeit>\", line 1, in inner\n",
      "ZeroDivisionError: float division\n"
     ]
    },
    {
     "ename": "ZeroDivisionError",
     "evalue": "float division",
     "output_type": "error",
     "traceback": [
      "\u001b[0;31m---------------------------------------------------------------------------\u001b[0m",
      "\u001b[0;31mZeroDivisionError\u001b[0m                         Traceback (most recent call last)",
      "\u001b[0;31mZeroDivisionError\u001b[0m: float division"
     ]
    },
    {
     "name": "stderr",
     "output_type": "stream",
     "text": [
      "Exception ignored in: '_cython_magic_d33e5aada1040c975bde92b13d65fed9.simple_fit'\n",
      "Traceback (most recent call last):\n",
      "  File \"<magic-timeit>\", line 1, in inner\n",
      "ZeroDivisionError: float division\n"
     ]
    },
    {
     "ename": "ZeroDivisionError",
     "evalue": "float division",
     "output_type": "error",
     "traceback": [
      "\u001b[0;31m---------------------------------------------------------------------------\u001b[0m",
      "\u001b[0;31mZeroDivisionError\u001b[0m                         Traceback (most recent call last)",
      "\u001b[0;31mZeroDivisionError\u001b[0m: float division"
     ]
    },
    {
     "name": "stderr",
     "output_type": "stream",
     "text": [
      "Exception ignored in: '_cython_magic_d33e5aada1040c975bde92b13d65fed9.simple_fit'\n",
      "Traceback (most recent call last):\n",
      "  File \"<magic-timeit>\", line 1, in inner\n",
      "ZeroDivisionError: float division\n"
     ]
    },
    {
     "ename": "ZeroDivisionError",
     "evalue": "float division",
     "output_type": "error",
     "traceback": [
      "\u001b[0;31m---------------------------------------------------------------------------\u001b[0m",
      "\u001b[0;31mZeroDivisionError\u001b[0m                         Traceback (most recent call last)",
      "\u001b[0;31mZeroDivisionError\u001b[0m: float division"
     ]
    },
    {
     "name": "stderr",
     "output_type": "stream",
     "text": [
      "Exception ignored in: '_cython_magic_d33e5aada1040c975bde92b13d65fed9.simple_fit'\n",
      "Traceback (most recent call last):\n",
      "  File \"<magic-timeit>\", line 1, in inner\n",
      "ZeroDivisionError: float division\n"
     ]
    },
    {
     "ename": "ZeroDivisionError",
     "evalue": "float division",
     "output_type": "error",
     "traceback": [
      "\u001b[0;31m---------------------------------------------------------------------------\u001b[0m",
      "\u001b[0;31mZeroDivisionError\u001b[0m                         Traceback (most recent call last)",
      "\u001b[0;31mZeroDivisionError\u001b[0m: float division"
     ]
    },
    {
     "name": "stderr",
     "output_type": "stream",
     "text": [
      "Exception ignored in: '_cython_magic_d33e5aada1040c975bde92b13d65fed9.simple_fit'\n",
      "Traceback (most recent call last):\n",
      "  File \"<magic-timeit>\", line 1, in inner\n",
      "ZeroDivisionError: float division\n"
     ]
    },
    {
     "ename": "ZeroDivisionError",
     "evalue": "float division",
     "output_type": "error",
     "traceback": [
      "\u001b[0;31m---------------------------------------------------------------------------\u001b[0m",
      "\u001b[0;31mZeroDivisionError\u001b[0m                         Traceback (most recent call last)",
      "\u001b[0;31mZeroDivisionError\u001b[0m: float division"
     ]
    },
    {
     "name": "stderr",
     "output_type": "stream",
     "text": [
      "Exception ignored in: '_cython_magic_d33e5aada1040c975bde92b13d65fed9.simple_fit'\n",
      "Traceback (most recent call last):\n",
      "  File \"<magic-timeit>\", line 1, in inner\n",
      "ZeroDivisionError: float division\n"
     ]
    },
    {
     "ename": "ZeroDivisionError",
     "evalue": "float division",
     "output_type": "error",
     "traceback": [
      "\u001b[0;31m---------------------------------------------------------------------------\u001b[0m",
      "\u001b[0;31mZeroDivisionError\u001b[0m                         Traceback (most recent call last)",
      "\u001b[0;31mZeroDivisionError\u001b[0m: float division"
     ]
    },
    {
     "name": "stderr",
     "output_type": "stream",
     "text": [
      "Exception ignored in: '_cython_magic_d33e5aada1040c975bde92b13d65fed9.simple_fit'\n",
      "Traceback (most recent call last):\n",
      "  File \"<magic-timeit>\", line 1, in inner\n",
      "ZeroDivisionError: float division\n"
     ]
    },
    {
     "ename": "ZeroDivisionError",
     "evalue": "float division",
     "output_type": "error",
     "traceback": [
      "\u001b[0;31m---------------------------------------------------------------------------\u001b[0m",
      "\u001b[0;31mZeroDivisionError\u001b[0m                         Traceback (most recent call last)",
      "\u001b[0;31mZeroDivisionError\u001b[0m: float division"
     ]
    },
    {
     "name": "stderr",
     "output_type": "stream",
     "text": [
      "Exception ignored in: '_cython_magic_d33e5aada1040c975bde92b13d65fed9.simple_fit'\n",
      "Traceback (most recent call last):\n",
      "  File \"<magic-timeit>\", line 1, in inner\n",
      "ZeroDivisionError: float division\n"
     ]
    },
    {
     "ename": "ZeroDivisionError",
     "evalue": "float division",
     "output_type": "error",
     "traceback": [
      "\u001b[0;31m---------------------------------------------------------------------------\u001b[0m",
      "\u001b[0;31mZeroDivisionError\u001b[0m                         Traceback (most recent call last)",
      "\u001b[0;31mZeroDivisionError\u001b[0m: float division"
     ]
    },
    {
     "name": "stderr",
     "output_type": "stream",
     "text": [
      "Exception ignored in: '_cython_magic_d33e5aada1040c975bde92b13d65fed9.simple_fit'\n",
      "Traceback (most recent call last):\n",
      "  File \"<magic-timeit>\", line 1, in inner\n",
      "ZeroDivisionError: float division\n"
     ]
    },
    {
     "ename": "ZeroDivisionError",
     "evalue": "float division",
     "output_type": "error",
     "traceback": [
      "\u001b[0;31m---------------------------------------------------------------------------\u001b[0m",
      "\u001b[0;31mZeroDivisionError\u001b[0m                         Traceback (most recent call last)",
      "\u001b[0;31mZeroDivisionError\u001b[0m: float division"
     ]
    },
    {
     "name": "stderr",
     "output_type": "stream",
     "text": [
      "Exception ignored in: '_cython_magic_d33e5aada1040c975bde92b13d65fed9.simple_fit'\n",
      "Traceback (most recent call last):\n",
      "  File \"<magic-timeit>\", line 1, in inner\n",
      "ZeroDivisionError: float division\n"
     ]
    },
    {
     "ename": "ZeroDivisionError",
     "evalue": "float division",
     "output_type": "error",
     "traceback": [
      "\u001b[0;31m---------------------------------------------------------------------------\u001b[0m",
      "\u001b[0;31mZeroDivisionError\u001b[0m                         Traceback (most recent call last)",
      "\u001b[0;31mZeroDivisionError\u001b[0m: float division"
     ]
    },
    {
     "name": "stderr",
     "output_type": "stream",
     "text": [
      "Exception ignored in: '_cython_magic_d33e5aada1040c975bde92b13d65fed9.simple_fit'\n",
      "Traceback (most recent call last):\n",
      "  File \"<magic-timeit>\", line 1, in inner\n",
      "ZeroDivisionError: float division\n"
     ]
    },
    {
     "ename": "ZeroDivisionError",
     "evalue": "float division",
     "output_type": "error",
     "traceback": [
      "\u001b[0;31m---------------------------------------------------------------------------\u001b[0m",
      "\u001b[0;31mZeroDivisionError\u001b[0m                         Traceback (most recent call last)",
      "\u001b[0;31mZeroDivisionError\u001b[0m: float division"
     ]
    },
    {
     "name": "stderr",
     "output_type": "stream",
     "text": [
      "Exception ignored in: '_cython_magic_d33e5aada1040c975bde92b13d65fed9.simple_fit'\n",
      "Traceback (most recent call last):\n",
      "  File \"<magic-timeit>\", line 1, in inner\n",
      "ZeroDivisionError: float division\n"
     ]
    },
    {
     "ename": "ZeroDivisionError",
     "evalue": "float division",
     "output_type": "error",
     "traceback": [
      "\u001b[0;31m---------------------------------------------------------------------------\u001b[0m",
      "\u001b[0;31mZeroDivisionError\u001b[0m                         Traceback (most recent call last)",
      "\u001b[0;31mZeroDivisionError\u001b[0m: float division"
     ]
    },
    {
     "name": "stderr",
     "output_type": "stream",
     "text": [
      "Exception ignored in: '_cython_magic_d33e5aada1040c975bde92b13d65fed9.simple_fit'\n",
      "Traceback (most recent call last):\n",
      "  File \"<magic-timeit>\", line 1, in inner\n",
      "ZeroDivisionError: float division\n"
     ]
    },
    {
     "ename": "ZeroDivisionError",
     "evalue": "float division",
     "output_type": "error",
     "traceback": [
      "\u001b[0;31m---------------------------------------------------------------------------\u001b[0m",
      "\u001b[0;31mZeroDivisionError\u001b[0m                         Traceback (most recent call last)",
      "\u001b[0;31mZeroDivisionError\u001b[0m: float division"
     ]
    },
    {
     "name": "stderr",
     "output_type": "stream",
     "text": [
      "Exception ignored in: '_cython_magic_d33e5aada1040c975bde92b13d65fed9.simple_fit'\n",
      "Traceback (most recent call last):\n",
      "  File \"<magic-timeit>\", line 1, in inner\n",
      "ZeroDivisionError: float division\n"
     ]
    },
    {
     "ename": "ZeroDivisionError",
     "evalue": "float division",
     "output_type": "error",
     "traceback": [
      "\u001b[0;31m---------------------------------------------------------------------------\u001b[0m",
      "\u001b[0;31mZeroDivisionError\u001b[0m                         Traceback (most recent call last)",
      "\u001b[0;31mZeroDivisionError\u001b[0m: float division"
     ]
    },
    {
     "name": "stderr",
     "output_type": "stream",
     "text": [
      "Exception ignored in: '_cython_magic_d33e5aada1040c975bde92b13d65fed9.simple_fit'\n",
      "Traceback (most recent call last):\n",
      "  File \"<magic-timeit>\", line 1, in inner\n",
      "ZeroDivisionError: float division\n"
     ]
    },
    {
     "ename": "ZeroDivisionError",
     "evalue": "float division",
     "output_type": "error",
     "traceback": [
      "\u001b[0;31m---------------------------------------------------------------------------\u001b[0m",
      "\u001b[0;31mZeroDivisionError\u001b[0m                         Traceback (most recent call last)",
      "\u001b[0;31mZeroDivisionError\u001b[0m: float division"
     ]
    },
    {
     "name": "stderr",
     "output_type": "stream",
     "text": [
      "Exception ignored in: '_cython_magic_d33e5aada1040c975bde92b13d65fed9.simple_fit'\n",
      "Traceback (most recent call last):\n",
      "  File \"<magic-timeit>\", line 1, in inner\n",
      "ZeroDivisionError: float division\n"
     ]
    },
    {
     "ename": "ZeroDivisionError",
     "evalue": "float division",
     "output_type": "error",
     "traceback": [
      "\u001b[0;31m---------------------------------------------------------------------------\u001b[0m",
      "\u001b[0;31mZeroDivisionError\u001b[0m                         Traceback (most recent call last)",
      "\u001b[0;31mZeroDivisionError\u001b[0m: float division"
     ]
    },
    {
     "name": "stderr",
     "output_type": "stream",
     "text": [
      "Exception ignored in: '_cython_magic_d33e5aada1040c975bde92b13d65fed9.simple_fit'\n",
      "Traceback (most recent call last):\n",
      "  File \"<magic-timeit>\", line 1, in inner\n",
      "ZeroDivisionError: float division\n"
     ]
    },
    {
     "ename": "ZeroDivisionError",
     "evalue": "float division",
     "output_type": "error",
     "traceback": [
      "\u001b[0;31m---------------------------------------------------------------------------\u001b[0m",
      "\u001b[0;31mZeroDivisionError\u001b[0m                         Traceback (most recent call last)",
      "\u001b[0;31mZeroDivisionError\u001b[0m: float division"
     ]
    },
    {
     "name": "stderr",
     "output_type": "stream",
     "text": [
      "Exception ignored in: '_cython_magic_d33e5aada1040c975bde92b13d65fed9.simple_fit'\n",
      "Traceback (most recent call last):\n",
      "  File \"<magic-timeit>\", line 1, in inner\n",
      "ZeroDivisionError: float division\n"
     ]
    },
    {
     "ename": "ZeroDivisionError",
     "evalue": "float division",
     "output_type": "error",
     "traceback": [
      "\u001b[0;31m---------------------------------------------------------------------------\u001b[0m",
      "\u001b[0;31mZeroDivisionError\u001b[0m                         Traceback (most recent call last)",
      "\u001b[0;31mZeroDivisionError\u001b[0m: float division"
     ]
    },
    {
     "name": "stderr",
     "output_type": "stream",
     "text": [
      "Exception ignored in: '_cython_magic_d33e5aada1040c975bde92b13d65fed9.simple_fit'\n",
      "Traceback (most recent call last):\n",
      "  File \"<magic-timeit>\", line 1, in inner\n",
      "ZeroDivisionError: float division\n"
     ]
    },
    {
     "ename": "ZeroDivisionError",
     "evalue": "float division",
     "output_type": "error",
     "traceback": [
      "\u001b[0;31m---------------------------------------------------------------------------\u001b[0m",
      "\u001b[0;31mZeroDivisionError\u001b[0m                         Traceback (most recent call last)",
      "\u001b[0;31mZeroDivisionError\u001b[0m: float division"
     ]
    },
    {
     "name": "stderr",
     "output_type": "stream",
     "text": [
      "Exception ignored in: '_cython_magic_d33e5aada1040c975bde92b13d65fed9.simple_fit'\n",
      "Traceback (most recent call last):\n",
      "  File \"<magic-timeit>\", line 1, in inner\n",
      "ZeroDivisionError: float division\n"
     ]
    },
    {
     "ename": "ZeroDivisionError",
     "evalue": "float division",
     "output_type": "error",
     "traceback": [
      "\u001b[0;31m---------------------------------------------------------------------------\u001b[0m",
      "\u001b[0;31mZeroDivisionError\u001b[0m                         Traceback (most recent call last)",
      "\u001b[0;31mZeroDivisionError\u001b[0m: float division"
     ]
    },
    {
     "name": "stderr",
     "output_type": "stream",
     "text": [
      "Exception ignored in: '_cython_magic_d33e5aada1040c975bde92b13d65fed9.simple_fit'\n",
      "Traceback (most recent call last):\n",
      "  File \"<magic-timeit>\", line 1, in inner\n",
      "ZeroDivisionError: float division\n"
     ]
    },
    {
     "ename": "ZeroDivisionError",
     "evalue": "float division",
     "output_type": "error",
     "traceback": [
      "\u001b[0;31m---------------------------------------------------------------------------\u001b[0m",
      "\u001b[0;31mZeroDivisionError\u001b[0m                         Traceback (most recent call last)",
      "\u001b[0;31mZeroDivisionError\u001b[0m: float division"
     ]
    },
    {
     "name": "stderr",
     "output_type": "stream",
     "text": [
      "Exception ignored in: '_cython_magic_d33e5aada1040c975bde92b13d65fed9.simple_fit'\n",
      "Traceback (most recent call last):\n",
      "  File \"<magic-timeit>\", line 1, in inner\n",
      "ZeroDivisionError: float division\n"
     ]
    },
    {
     "ename": "ZeroDivisionError",
     "evalue": "float division",
     "output_type": "error",
     "traceback": [
      "\u001b[0;31m---------------------------------------------------------------------------\u001b[0m",
      "\u001b[0;31mZeroDivisionError\u001b[0m                         Traceback (most recent call last)",
      "\u001b[0;31mZeroDivisionError\u001b[0m: float division"
     ]
    },
    {
     "name": "stderr",
     "output_type": "stream",
     "text": [
      "Exception ignored in: '_cython_magic_d33e5aada1040c975bde92b13d65fed9.simple_fit'\n",
      "Traceback (most recent call last):\n",
      "  File \"<magic-timeit>\", line 1, in inner\n",
      "ZeroDivisionError: float division\n"
     ]
    },
    {
     "ename": "ZeroDivisionError",
     "evalue": "float division",
     "output_type": "error",
     "traceback": [
      "\u001b[0;31m---------------------------------------------------------------------------\u001b[0m",
      "\u001b[0;31mZeroDivisionError\u001b[0m                         Traceback (most recent call last)",
      "\u001b[0;31mZeroDivisionError\u001b[0m: float division"
     ]
    },
    {
     "name": "stderr",
     "output_type": "stream",
     "text": [
      "Exception ignored in: '_cython_magic_d33e5aada1040c975bde92b13d65fed9.simple_fit'\n",
      "Traceback (most recent call last):\n",
      "  File \"<magic-timeit>\", line 1, in inner\n",
      "ZeroDivisionError: float division\n"
     ]
    },
    {
     "ename": "ZeroDivisionError",
     "evalue": "float division",
     "output_type": "error",
     "traceback": [
      "\u001b[0;31m---------------------------------------------------------------------------\u001b[0m",
      "\u001b[0;31mZeroDivisionError\u001b[0m                         Traceback (most recent call last)",
      "\u001b[0;31mZeroDivisionError\u001b[0m: float division"
     ]
    },
    {
     "name": "stderr",
     "output_type": "stream",
     "text": [
      "Exception ignored in: '_cython_magic_d33e5aada1040c975bde92b13d65fed9.simple_fit'\n",
      "Traceback (most recent call last):\n",
      "  File \"<magic-timeit>\", line 1, in inner\n",
      "ZeroDivisionError: float division\n"
     ]
    },
    {
     "ename": "ZeroDivisionError",
     "evalue": "float division",
     "output_type": "error",
     "traceback": [
      "\u001b[0;31m---------------------------------------------------------------------------\u001b[0m",
      "\u001b[0;31mZeroDivisionError\u001b[0m                         Traceback (most recent call last)",
      "\u001b[0;31mZeroDivisionError\u001b[0m: float division"
     ]
    },
    {
     "name": "stderr",
     "output_type": "stream",
     "text": [
      "Exception ignored in: '_cython_magic_d33e5aada1040c975bde92b13d65fed9.simple_fit'\n",
      "Traceback (most recent call last):\n",
      "  File \"<magic-timeit>\", line 1, in inner\n",
      "ZeroDivisionError: float division\n"
     ]
    },
    {
     "ename": "ZeroDivisionError",
     "evalue": "float division",
     "output_type": "error",
     "traceback": [
      "\u001b[0;31m---------------------------------------------------------------------------\u001b[0m",
      "\u001b[0;31mZeroDivisionError\u001b[0m                         Traceback (most recent call last)",
      "\u001b[0;31mZeroDivisionError\u001b[0m: float division"
     ]
    },
    {
     "name": "stderr",
     "output_type": "stream",
     "text": [
      "Exception ignored in: '_cython_magic_d33e5aada1040c975bde92b13d65fed9.simple_fit'\n",
      "Traceback (most recent call last):\n",
      "  File \"<magic-timeit>\", line 1, in inner\n",
      "ZeroDivisionError: float division\n"
     ]
    },
    {
     "ename": "ZeroDivisionError",
     "evalue": "float division",
     "output_type": "error",
     "traceback": [
      "\u001b[0;31m---------------------------------------------------------------------------\u001b[0m",
      "\u001b[0;31mZeroDivisionError\u001b[0m                         Traceback (most recent call last)",
      "\u001b[0;31mZeroDivisionError\u001b[0m: float division"
     ]
    },
    {
     "name": "stderr",
     "output_type": "stream",
     "text": [
      "Exception ignored in: '_cython_magic_d33e5aada1040c975bde92b13d65fed9.simple_fit'\n",
      "Traceback (most recent call last):\n",
      "  File \"<magic-timeit>\", line 1, in inner\n",
      "ZeroDivisionError: float division\n"
     ]
    },
    {
     "ename": "ZeroDivisionError",
     "evalue": "float division",
     "output_type": "error",
     "traceback": [
      "\u001b[0;31m---------------------------------------------------------------------------\u001b[0m",
      "\u001b[0;31mZeroDivisionError\u001b[0m                         Traceback (most recent call last)",
      "\u001b[0;31mZeroDivisionError\u001b[0m: float division"
     ]
    },
    {
     "name": "stderr",
     "output_type": "stream",
     "text": [
      "Exception ignored in: '_cython_magic_d33e5aada1040c975bde92b13d65fed9.simple_fit'\n",
      "Traceback (most recent call last):\n",
      "  File \"<magic-timeit>\", line 1, in inner\n",
      "ZeroDivisionError: float division\n"
     ]
    },
    {
     "ename": "ZeroDivisionError",
     "evalue": "float division",
     "output_type": "error",
     "traceback": [
      "\u001b[0;31m---------------------------------------------------------------------------\u001b[0m",
      "\u001b[0;31mZeroDivisionError\u001b[0m                         Traceback (most recent call last)",
      "\u001b[0;31mZeroDivisionError\u001b[0m: float division"
     ]
    },
    {
     "name": "stderr",
     "output_type": "stream",
     "text": [
      "Exception ignored in: '_cython_magic_d33e5aada1040c975bde92b13d65fed9.simple_fit'\n",
      "Traceback (most recent call last):\n",
      "  File \"<magic-timeit>\", line 1, in inner\n",
      "ZeroDivisionError: float division\n"
     ]
    },
    {
     "ename": "ZeroDivisionError",
     "evalue": "float division",
     "output_type": "error",
     "traceback": [
      "\u001b[0;31m---------------------------------------------------------------------------\u001b[0m",
      "\u001b[0;31mZeroDivisionError\u001b[0m                         Traceback (most recent call last)",
      "\u001b[0;31mZeroDivisionError\u001b[0m: float division"
     ]
    },
    {
     "name": "stderr",
     "output_type": "stream",
     "text": [
      "Exception ignored in: '_cython_magic_d33e5aada1040c975bde92b13d65fed9.simple_fit'\n",
      "Traceback (most recent call last):\n",
      "  File \"<magic-timeit>\", line 1, in inner\n",
      "ZeroDivisionError: float division\n"
     ]
    },
    {
     "ename": "ZeroDivisionError",
     "evalue": "float division",
     "output_type": "error",
     "traceback": [
      "\u001b[0;31m---------------------------------------------------------------------------\u001b[0m",
      "\u001b[0;31mZeroDivisionError\u001b[0m                         Traceback (most recent call last)",
      "\u001b[0;31mZeroDivisionError\u001b[0m: float division"
     ]
    },
    {
     "name": "stderr",
     "output_type": "stream",
     "text": [
      "Exception ignored in: '_cython_magic_d33e5aada1040c975bde92b13d65fed9.simple_fit'\n",
      "Traceback (most recent call last):\n",
      "  File \"<magic-timeit>\", line 1, in inner\n",
      "ZeroDivisionError: float division\n"
     ]
    },
    {
     "ename": "ZeroDivisionError",
     "evalue": "float division",
     "output_type": "error",
     "traceback": [
      "\u001b[0;31m---------------------------------------------------------------------------\u001b[0m",
      "\u001b[0;31mZeroDivisionError\u001b[0m                         Traceback (most recent call last)",
      "\u001b[0;31mZeroDivisionError\u001b[0m: float division"
     ]
    },
    {
     "name": "stderr",
     "output_type": "stream",
     "text": [
      "Exception ignored in: '_cython_magic_d33e5aada1040c975bde92b13d65fed9.simple_fit'\n",
      "Traceback (most recent call last):\n",
      "  File \"<magic-timeit>\", line 1, in inner\n",
      "ZeroDivisionError: float division\n"
     ]
    },
    {
     "ename": "ZeroDivisionError",
     "evalue": "float division",
     "output_type": "error",
     "traceback": [
      "\u001b[0;31m---------------------------------------------------------------------------\u001b[0m",
      "\u001b[0;31mZeroDivisionError\u001b[0m                         Traceback (most recent call last)",
      "\u001b[0;31mZeroDivisionError\u001b[0m: float division"
     ]
    },
    {
     "name": "stderr",
     "output_type": "stream",
     "text": [
      "Exception ignored in: '_cython_magic_d33e5aada1040c975bde92b13d65fed9.simple_fit'\n",
      "Traceback (most recent call last):\n",
      "  File \"<magic-timeit>\", line 1, in inner\n",
      "ZeroDivisionError: float division\n"
     ]
    },
    {
     "ename": "ZeroDivisionError",
     "evalue": "float division",
     "output_type": "error",
     "traceback": [
      "\u001b[0;31m---------------------------------------------------------------------------\u001b[0m",
      "\u001b[0;31mZeroDivisionError\u001b[0m                         Traceback (most recent call last)",
      "\u001b[0;31mZeroDivisionError\u001b[0m: float division"
     ]
    },
    {
     "name": "stderr",
     "output_type": "stream",
     "text": [
      "Exception ignored in: '_cython_magic_d33e5aada1040c975bde92b13d65fed9.simple_fit'\n",
      "Traceback (most recent call last):\n",
      "  File \"<magic-timeit>\", line 1, in inner\n",
      "ZeroDivisionError: float division\n"
     ]
    },
    {
     "ename": "ZeroDivisionError",
     "evalue": "float division",
     "output_type": "error",
     "traceback": [
      "\u001b[0;31m---------------------------------------------------------------------------\u001b[0m",
      "\u001b[0;31mZeroDivisionError\u001b[0m                         Traceback (most recent call last)",
      "\u001b[0;31mZeroDivisionError\u001b[0m: float division"
     ]
    },
    {
     "name": "stderr",
     "output_type": "stream",
     "text": [
      "Exception ignored in: '_cython_magic_d33e5aada1040c975bde92b13d65fed9.simple_fit'\n",
      "Traceback (most recent call last):\n",
      "  File \"<magic-timeit>\", line 1, in inner\n",
      "ZeroDivisionError: float division\n"
     ]
    },
    {
     "ename": "ZeroDivisionError",
     "evalue": "float division",
     "output_type": "error",
     "traceback": [
      "\u001b[0;31m---------------------------------------------------------------------------\u001b[0m",
      "\u001b[0;31mZeroDivisionError\u001b[0m                         Traceback (most recent call last)",
      "\u001b[0;31mZeroDivisionError\u001b[0m: float division"
     ]
    },
    {
     "name": "stderr",
     "output_type": "stream",
     "text": [
      "Exception ignored in: '_cython_magic_d33e5aada1040c975bde92b13d65fed9.simple_fit'\n",
      "Traceback (most recent call last):\n",
      "  File \"<magic-timeit>\", line 1, in inner\n",
      "ZeroDivisionError: float division\n"
     ]
    },
    {
     "ename": "ZeroDivisionError",
     "evalue": "float division",
     "output_type": "error",
     "traceback": [
      "\u001b[0;31m---------------------------------------------------------------------------\u001b[0m",
      "\u001b[0;31mZeroDivisionError\u001b[0m                         Traceback (most recent call last)",
      "\u001b[0;31mZeroDivisionError\u001b[0m: float division"
     ]
    },
    {
     "name": "stderr",
     "output_type": "stream",
     "text": [
      "Exception ignored in: '_cython_magic_d33e5aada1040c975bde92b13d65fed9.simple_fit'\n",
      "Traceback (most recent call last):\n",
      "  File \"<magic-timeit>\", line 1, in inner\n",
      "ZeroDivisionError: float division\n"
     ]
    },
    {
     "ename": "ZeroDivisionError",
     "evalue": "float division",
     "output_type": "error",
     "traceback": [
      "\u001b[0;31m---------------------------------------------------------------------------\u001b[0m",
      "\u001b[0;31mZeroDivisionError\u001b[0m                         Traceback (most recent call last)",
      "\u001b[0;31mZeroDivisionError\u001b[0m: float division"
     ]
    },
    {
     "name": "stderr",
     "output_type": "stream",
     "text": [
      "Exception ignored in: '_cython_magic_d33e5aada1040c975bde92b13d65fed9.simple_fit'\n",
      "Traceback (most recent call last):\n",
      "  File \"<magic-timeit>\", line 1, in inner\n",
      "ZeroDivisionError: float division\n"
     ]
    },
    {
     "ename": "ZeroDivisionError",
     "evalue": "float division",
     "output_type": "error",
     "traceback": [
      "\u001b[0;31m---------------------------------------------------------------------------\u001b[0m",
      "\u001b[0;31mZeroDivisionError\u001b[0m                         Traceback (most recent call last)",
      "\u001b[0;31mZeroDivisionError\u001b[0m: float division"
     ]
    },
    {
     "name": "stderr",
     "output_type": "stream",
     "text": [
      "Exception ignored in: '_cython_magic_d33e5aada1040c975bde92b13d65fed9.simple_fit'\n",
      "Traceback (most recent call last):\n",
      "  File \"<magic-timeit>\", line 1, in inner\n",
      "ZeroDivisionError: float division\n"
     ]
    },
    {
     "ename": "ZeroDivisionError",
     "evalue": "float division",
     "output_type": "error",
     "traceback": [
      "\u001b[0;31m---------------------------------------------------------------------------\u001b[0m",
      "\u001b[0;31mZeroDivisionError\u001b[0m                         Traceback (most recent call last)",
      "\u001b[0;31mZeroDivisionError\u001b[0m: float division"
     ]
    },
    {
     "name": "stderr",
     "output_type": "stream",
     "text": [
      "Exception ignored in: '_cython_magic_d33e5aada1040c975bde92b13d65fed9.simple_fit'\n",
      "Traceback (most recent call last):\n",
      "  File \"<magic-timeit>\", line 1, in inner\n",
      "ZeroDivisionError: float division\n"
     ]
    },
    {
     "ename": "ZeroDivisionError",
     "evalue": "float division",
     "output_type": "error",
     "traceback": [
      "\u001b[0;31m---------------------------------------------------------------------------\u001b[0m",
      "\u001b[0;31mZeroDivisionError\u001b[0m                         Traceback (most recent call last)",
      "\u001b[0;31mZeroDivisionError\u001b[0m: float division"
     ]
    },
    {
     "name": "stderr",
     "output_type": "stream",
     "text": [
      "Exception ignored in: '_cython_magic_d33e5aada1040c975bde92b13d65fed9.simple_fit'\n",
      "Traceback (most recent call last):\n",
      "  File \"<magic-timeit>\", line 1, in inner\n",
      "ZeroDivisionError: float division\n"
     ]
    },
    {
     "ename": "ZeroDivisionError",
     "evalue": "float division",
     "output_type": "error",
     "traceback": [
      "\u001b[0;31m---------------------------------------------------------------------------\u001b[0m",
      "\u001b[0;31mZeroDivisionError\u001b[0m                         Traceback (most recent call last)",
      "\u001b[0;31mZeroDivisionError\u001b[0m: float division"
     ]
    },
    {
     "name": "stderr",
     "output_type": "stream",
     "text": [
      "Exception ignored in: '_cython_magic_d33e5aada1040c975bde92b13d65fed9.simple_fit'\n",
      "Traceback (most recent call last):\n",
      "  File \"<magic-timeit>\", line 1, in inner\n",
      "ZeroDivisionError: float division\n"
     ]
    },
    {
     "ename": "ZeroDivisionError",
     "evalue": "float division",
     "output_type": "error",
     "traceback": [
      "\u001b[0;31m---------------------------------------------------------------------------\u001b[0m",
      "\u001b[0;31mZeroDivisionError\u001b[0m                         Traceback (most recent call last)",
      "\u001b[0;31mZeroDivisionError\u001b[0m: float division"
     ]
    },
    {
     "name": "stderr",
     "output_type": "stream",
     "text": [
      "Exception ignored in: '_cython_magic_d33e5aada1040c975bde92b13d65fed9.simple_fit'\n",
      "Traceback (most recent call last):\n",
      "  File \"<magic-timeit>\", line 1, in inner\n",
      "ZeroDivisionError: float division\n"
     ]
    },
    {
     "ename": "ZeroDivisionError",
     "evalue": "float division",
     "output_type": "error",
     "traceback": [
      "\u001b[0;31m---------------------------------------------------------------------------\u001b[0m",
      "\u001b[0;31mZeroDivisionError\u001b[0m                         Traceback (most recent call last)",
      "\u001b[0;31mZeroDivisionError\u001b[0m: float division"
     ]
    },
    {
     "name": "stderr",
     "output_type": "stream",
     "text": [
      "Exception ignored in: '_cython_magic_d33e5aada1040c975bde92b13d65fed9.simple_fit'\n",
      "Traceback (most recent call last):\n",
      "  File \"<magic-timeit>\", line 1, in inner\n",
      "ZeroDivisionError: float division\n"
     ]
    },
    {
     "ename": "ZeroDivisionError",
     "evalue": "float division",
     "output_type": "error",
     "traceback": [
      "\u001b[0;31m---------------------------------------------------------------------------\u001b[0m",
      "\u001b[0;31mZeroDivisionError\u001b[0m                         Traceback (most recent call last)",
      "\u001b[0;31mZeroDivisionError\u001b[0m: float division"
     ]
    },
    {
     "name": "stderr",
     "output_type": "stream",
     "text": [
      "Exception ignored in: '_cython_magic_d33e5aada1040c975bde92b13d65fed9.simple_fit'\n",
      "Traceback (most recent call last):\n",
      "  File \"<magic-timeit>\", line 1, in inner\n",
      "ZeroDivisionError: float division\n"
     ]
    },
    {
     "ename": "ZeroDivisionError",
     "evalue": "float division",
     "output_type": "error",
     "traceback": [
      "\u001b[0;31m---------------------------------------------------------------------------\u001b[0m",
      "\u001b[0;31mZeroDivisionError\u001b[0m                         Traceback (most recent call last)",
      "\u001b[0;31mZeroDivisionError\u001b[0m: float division"
     ]
    },
    {
     "name": "stderr",
     "output_type": "stream",
     "text": [
      "Exception ignored in: '_cython_magic_d33e5aada1040c975bde92b13d65fed9.simple_fit'\n",
      "Traceback (most recent call last):\n",
      "  File \"<magic-timeit>\", line 1, in inner\n",
      "ZeroDivisionError: float division\n"
     ]
    },
    {
     "ename": "ZeroDivisionError",
     "evalue": "float division",
     "output_type": "error",
     "traceback": [
      "\u001b[0;31m---------------------------------------------------------------------------\u001b[0m",
      "\u001b[0;31mZeroDivisionError\u001b[0m                         Traceback (most recent call last)",
      "\u001b[0;31mZeroDivisionError\u001b[0m: float division"
     ]
    },
    {
     "name": "stderr",
     "output_type": "stream",
     "text": [
      "Exception ignored in: '_cython_magic_d33e5aada1040c975bde92b13d65fed9.simple_fit'\n",
      "Traceback (most recent call last):\n",
      "  File \"<magic-timeit>\", line 1, in inner\n",
      "ZeroDivisionError: float division\n"
     ]
    },
    {
     "ename": "ZeroDivisionError",
     "evalue": "float division",
     "output_type": "error",
     "traceback": [
      "\u001b[0;31m---------------------------------------------------------------------------\u001b[0m",
      "\u001b[0;31mZeroDivisionError\u001b[0m                         Traceback (most recent call last)",
      "\u001b[0;31mZeroDivisionError\u001b[0m: float division"
     ]
    },
    {
     "name": "stderr",
     "output_type": "stream",
     "text": [
      "Exception ignored in: '_cython_magic_d33e5aada1040c975bde92b13d65fed9.simple_fit'\n",
      "Traceback (most recent call last):\n",
      "  File \"<magic-timeit>\", line 1, in inner\n",
      "ZeroDivisionError: float division\n"
     ]
    },
    {
     "ename": "ZeroDivisionError",
     "evalue": "float division",
     "output_type": "error",
     "traceback": [
      "\u001b[0;31m---------------------------------------------------------------------------\u001b[0m",
      "\u001b[0;31mZeroDivisionError\u001b[0m                         Traceback (most recent call last)",
      "\u001b[0;31mZeroDivisionError\u001b[0m: float division"
     ]
    },
    {
     "name": "stderr",
     "output_type": "stream",
     "text": [
      "Exception ignored in: '_cython_magic_d33e5aada1040c975bde92b13d65fed9.simple_fit'\n",
      "Traceback (most recent call last):\n",
      "  File \"<magic-timeit>\", line 1, in inner\n",
      "ZeroDivisionError: float division\n"
     ]
    },
    {
     "ename": "ZeroDivisionError",
     "evalue": "float division",
     "output_type": "error",
     "traceback": [
      "\u001b[0;31m---------------------------------------------------------------------------\u001b[0m",
      "\u001b[0;31mZeroDivisionError\u001b[0m                         Traceback (most recent call last)",
      "\u001b[0;31mZeroDivisionError\u001b[0m: float division"
     ]
    },
    {
     "name": "stderr",
     "output_type": "stream",
     "text": [
      "Exception ignored in: '_cython_magic_d33e5aada1040c975bde92b13d65fed9.simple_fit'\n",
      "Traceback (most recent call last):\n",
      "  File \"<magic-timeit>\", line 1, in inner\n",
      "ZeroDivisionError: float division\n"
     ]
    },
    {
     "ename": "ZeroDivisionError",
     "evalue": "float division",
     "output_type": "error",
     "traceback": [
      "\u001b[0;31m---------------------------------------------------------------------------\u001b[0m",
      "\u001b[0;31mZeroDivisionError\u001b[0m                         Traceback (most recent call last)",
      "\u001b[0;31mZeroDivisionError\u001b[0m: float division"
     ]
    },
    {
     "name": "stderr",
     "output_type": "stream",
     "text": [
      "Exception ignored in: '_cython_magic_d33e5aada1040c975bde92b13d65fed9.simple_fit'\n",
      "Traceback (most recent call last):\n",
      "  File \"<magic-timeit>\", line 1, in inner\n",
      "ZeroDivisionError: float division\n"
     ]
    },
    {
     "ename": "ZeroDivisionError",
     "evalue": "float division",
     "output_type": "error",
     "traceback": [
      "\u001b[0;31m---------------------------------------------------------------------------\u001b[0m",
      "\u001b[0;31mZeroDivisionError\u001b[0m                         Traceback (most recent call last)",
      "\u001b[0;31mZeroDivisionError\u001b[0m: float division"
     ]
    },
    {
     "name": "stderr",
     "output_type": "stream",
     "text": [
      "Exception ignored in: '_cython_magic_d33e5aada1040c975bde92b13d65fed9.simple_fit'\n",
      "Traceback (most recent call last):\n",
      "  File \"<magic-timeit>\", line 1, in inner\n",
      "ZeroDivisionError: float division\n"
     ]
    },
    {
     "ename": "ZeroDivisionError",
     "evalue": "float division",
     "output_type": "error",
     "traceback": [
      "\u001b[0;31m---------------------------------------------------------------------------\u001b[0m",
      "\u001b[0;31mZeroDivisionError\u001b[0m                         Traceback (most recent call last)",
      "\u001b[0;31mZeroDivisionError\u001b[0m: float division"
     ]
    },
    {
     "name": "stderr",
     "output_type": "stream",
     "text": [
      "Exception ignored in: '_cython_magic_d33e5aada1040c975bde92b13d65fed9.simple_fit'\n",
      "Traceback (most recent call last):\n",
      "  File \"<magic-timeit>\", line 1, in inner\n",
      "ZeroDivisionError: float division\n"
     ]
    },
    {
     "ename": "ZeroDivisionError",
     "evalue": "float division",
     "output_type": "error",
     "traceback": [
      "\u001b[0;31m---------------------------------------------------------------------------\u001b[0m",
      "\u001b[0;31mZeroDivisionError\u001b[0m                         Traceback (most recent call last)",
      "\u001b[0;31mZeroDivisionError\u001b[0m: float division"
     ]
    },
    {
     "name": "stderr",
     "output_type": "stream",
     "text": [
      "Exception ignored in: '_cython_magic_d33e5aada1040c975bde92b13d65fed9.simple_fit'\n",
      "Traceback (most recent call last):\n",
      "  File \"<magic-timeit>\", line 1, in inner\n",
      "ZeroDivisionError: float division\n"
     ]
    },
    {
     "ename": "ZeroDivisionError",
     "evalue": "float division",
     "output_type": "error",
     "traceback": [
      "\u001b[0;31m---------------------------------------------------------------------------\u001b[0m",
      "\u001b[0;31mZeroDivisionError\u001b[0m                         Traceback (most recent call last)",
      "\u001b[0;31mZeroDivisionError\u001b[0m: float division"
     ]
    },
    {
     "name": "stderr",
     "output_type": "stream",
     "text": [
      "Exception ignored in: '_cython_magic_d33e5aada1040c975bde92b13d65fed9.simple_fit'\n",
      "Traceback (most recent call last):\n",
      "  File \"<magic-timeit>\", line 1, in inner\n",
      "ZeroDivisionError: float division\n"
     ]
    },
    {
     "ename": "ZeroDivisionError",
     "evalue": "float division",
     "output_type": "error",
     "traceback": [
      "\u001b[0;31m---------------------------------------------------------------------------\u001b[0m",
      "\u001b[0;31mZeroDivisionError\u001b[0m                         Traceback (most recent call last)",
      "\u001b[0;31mZeroDivisionError\u001b[0m: float division"
     ]
    },
    {
     "name": "stderr",
     "output_type": "stream",
     "text": [
      "Exception ignored in: '_cython_magic_d33e5aada1040c975bde92b13d65fed9.simple_fit'\n",
      "Traceback (most recent call last):\n",
      "  File \"<magic-timeit>\", line 1, in inner\n",
      "ZeroDivisionError: float division\n"
     ]
    },
    {
     "ename": "ZeroDivisionError",
     "evalue": "float division",
     "output_type": "error",
     "traceback": [
      "\u001b[0;31m---------------------------------------------------------------------------\u001b[0m",
      "\u001b[0;31mZeroDivisionError\u001b[0m                         Traceback (most recent call last)",
      "\u001b[0;31mZeroDivisionError\u001b[0m: float division"
     ]
    },
    {
     "name": "stderr",
     "output_type": "stream",
     "text": [
      "Exception ignored in: '_cython_magic_d33e5aada1040c975bde92b13d65fed9.simple_fit'\n",
      "Traceback (most recent call last):\n",
      "  File \"<magic-timeit>\", line 1, in inner\n",
      "ZeroDivisionError: float division\n"
     ]
    },
    {
     "ename": "ZeroDivisionError",
     "evalue": "float division",
     "output_type": "error",
     "traceback": [
      "\u001b[0;31m---------------------------------------------------------------------------\u001b[0m",
      "\u001b[0;31mZeroDivisionError\u001b[0m                         Traceback (most recent call last)",
      "\u001b[0;31mZeroDivisionError\u001b[0m: float division"
     ]
    },
    {
     "name": "stderr",
     "output_type": "stream",
     "text": [
      "Exception ignored in: '_cython_magic_d33e5aada1040c975bde92b13d65fed9.simple_fit'\n",
      "Traceback (most recent call last):\n",
      "  File \"<magic-timeit>\", line 1, in inner\n",
      "ZeroDivisionError: float division\n"
     ]
    },
    {
     "ename": "ZeroDivisionError",
     "evalue": "float division",
     "output_type": "error",
     "traceback": [
      "\u001b[0;31m---------------------------------------------------------------------------\u001b[0m",
      "\u001b[0;31mZeroDivisionError\u001b[0m                         Traceback (most recent call last)",
      "\u001b[0;31mZeroDivisionError\u001b[0m: float division"
     ]
    },
    {
     "name": "stderr",
     "output_type": "stream",
     "text": [
      "Exception ignored in: '_cython_magic_d33e5aada1040c975bde92b13d65fed9.simple_fit'\n",
      "Traceback (most recent call last):\n",
      "  File \"<magic-timeit>\", line 1, in inner\n",
      "ZeroDivisionError: float division\n"
     ]
    },
    {
     "ename": "ZeroDivisionError",
     "evalue": "float division",
     "output_type": "error",
     "traceback": [
      "\u001b[0;31m---------------------------------------------------------------------------\u001b[0m",
      "\u001b[0;31mZeroDivisionError\u001b[0m                         Traceback (most recent call last)",
      "\u001b[0;31mZeroDivisionError\u001b[0m: float division"
     ]
    },
    {
     "name": "stderr",
     "output_type": "stream",
     "text": [
      "Exception ignored in: '_cython_magic_d33e5aada1040c975bde92b13d65fed9.simple_fit'\n",
      "Traceback (most recent call last):\n",
      "  File \"<magic-timeit>\", line 1, in inner\n",
      "ZeroDivisionError: float division\n"
     ]
    },
    {
     "ename": "ZeroDivisionError",
     "evalue": "float division",
     "output_type": "error",
     "traceback": [
      "\u001b[0;31m---------------------------------------------------------------------------\u001b[0m",
      "\u001b[0;31mZeroDivisionError\u001b[0m                         Traceback (most recent call last)",
      "\u001b[0;31mZeroDivisionError\u001b[0m: float division"
     ]
    },
    {
     "name": "stderr",
     "output_type": "stream",
     "text": [
      "Exception ignored in: '_cython_magic_d33e5aada1040c975bde92b13d65fed9.simple_fit'\n",
      "Traceback (most recent call last):\n",
      "  File \"<magic-timeit>\", line 1, in inner\n",
      "ZeroDivisionError: float division\n"
     ]
    },
    {
     "ename": "ZeroDivisionError",
     "evalue": "float division",
     "output_type": "error",
     "traceback": [
      "\u001b[0;31m---------------------------------------------------------------------------\u001b[0m",
      "\u001b[0;31mZeroDivisionError\u001b[0m                         Traceback (most recent call last)",
      "\u001b[0;31mZeroDivisionError\u001b[0m: float division"
     ]
    },
    {
     "name": "stderr",
     "output_type": "stream",
     "text": [
      "Exception ignored in: '_cython_magic_d33e5aada1040c975bde92b13d65fed9.simple_fit'\n",
      "Traceback (most recent call last):\n",
      "  File \"<magic-timeit>\", line 1, in inner\n",
      "ZeroDivisionError: float division\n"
     ]
    },
    {
     "ename": "ZeroDivisionError",
     "evalue": "float division",
     "output_type": "error",
     "traceback": [
      "\u001b[0;31m---------------------------------------------------------------------------\u001b[0m",
      "\u001b[0;31mZeroDivisionError\u001b[0m                         Traceback (most recent call last)",
      "\u001b[0;31mZeroDivisionError\u001b[0m: float division"
     ]
    },
    {
     "name": "stderr",
     "output_type": "stream",
     "text": [
      "Exception ignored in: '_cython_magic_d33e5aada1040c975bde92b13d65fed9.simple_fit'\n",
      "Traceback (most recent call last):\n",
      "  File \"<magic-timeit>\", line 1, in inner\n",
      "ZeroDivisionError: float division\n"
     ]
    },
    {
     "ename": "ZeroDivisionError",
     "evalue": "float division",
     "output_type": "error",
     "traceback": [
      "\u001b[0;31m---------------------------------------------------------------------------\u001b[0m",
      "\u001b[0;31mZeroDivisionError\u001b[0m                         Traceback (most recent call last)",
      "\u001b[0;31mZeroDivisionError\u001b[0m: float division"
     ]
    },
    {
     "name": "stderr",
     "output_type": "stream",
     "text": [
      "Exception ignored in: '_cython_magic_d33e5aada1040c975bde92b13d65fed9.simple_fit'\n",
      "Traceback (most recent call last):\n",
      "  File \"<magic-timeit>\", line 1, in inner\n",
      "ZeroDivisionError: float division\n"
     ]
    },
    {
     "ename": "ZeroDivisionError",
     "evalue": "float division",
     "output_type": "error",
     "traceback": [
      "\u001b[0;31m---------------------------------------------------------------------------\u001b[0m",
      "\u001b[0;31mZeroDivisionError\u001b[0m                         Traceback (most recent call last)",
      "\u001b[0;31mZeroDivisionError\u001b[0m: float division"
     ]
    },
    {
     "name": "stderr",
     "output_type": "stream",
     "text": [
      "Exception ignored in: '_cython_magic_d33e5aada1040c975bde92b13d65fed9.simple_fit'\n",
      "Traceback (most recent call last):\n",
      "  File \"<magic-timeit>\", line 1, in inner\n",
      "ZeroDivisionError: float division\n"
     ]
    },
    {
     "ename": "ZeroDivisionError",
     "evalue": "float division",
     "output_type": "error",
     "traceback": [
      "\u001b[0;31m---------------------------------------------------------------------------\u001b[0m",
      "\u001b[0;31mZeroDivisionError\u001b[0m                         Traceback (most recent call last)",
      "\u001b[0;31mZeroDivisionError\u001b[0m: float division"
     ]
    },
    {
     "name": "stderr",
     "output_type": "stream",
     "text": [
      "Exception ignored in: '_cython_magic_d33e5aada1040c975bde92b13d65fed9.simple_fit'\n",
      "Traceback (most recent call last):\n",
      "  File \"<magic-timeit>\", line 1, in inner\n",
      "ZeroDivisionError: float division\n"
     ]
    },
    {
     "ename": "ZeroDivisionError",
     "evalue": "float division",
     "output_type": "error",
     "traceback": [
      "\u001b[0;31m---------------------------------------------------------------------------\u001b[0m",
      "\u001b[0;31mZeroDivisionError\u001b[0m                         Traceback (most recent call last)",
      "\u001b[0;31mZeroDivisionError\u001b[0m: float division"
     ]
    },
    {
     "name": "stderr",
     "output_type": "stream",
     "text": [
      "Exception ignored in: '_cython_magic_d33e5aada1040c975bde92b13d65fed9.simple_fit'\n",
      "Traceback (most recent call last):\n",
      "  File \"<magic-timeit>\", line 1, in inner\n",
      "ZeroDivisionError: float division\n"
     ]
    },
    {
     "ename": "ZeroDivisionError",
     "evalue": "float division",
     "output_type": "error",
     "traceback": [
      "\u001b[0;31m---------------------------------------------------------------------------\u001b[0m",
      "\u001b[0;31mZeroDivisionError\u001b[0m                         Traceback (most recent call last)",
      "\u001b[0;31mZeroDivisionError\u001b[0m: float division"
     ]
    },
    {
     "name": "stderr",
     "output_type": "stream",
     "text": [
      "Exception ignored in: '_cython_magic_d33e5aada1040c975bde92b13d65fed9.simple_fit'\n",
      "Traceback (most recent call last):\n",
      "  File \"<magic-timeit>\", line 1, in inner\n",
      "ZeroDivisionError: float division\n"
     ]
    },
    {
     "ename": "ZeroDivisionError",
     "evalue": "float division",
     "output_type": "error",
     "traceback": [
      "\u001b[0;31m---------------------------------------------------------------------------\u001b[0m",
      "\u001b[0;31mZeroDivisionError\u001b[0m                         Traceback (most recent call last)",
      "\u001b[0;31mZeroDivisionError\u001b[0m: float division"
     ]
    },
    {
     "name": "stderr",
     "output_type": "stream",
     "text": [
      "Exception ignored in: '_cython_magic_d33e5aada1040c975bde92b13d65fed9.simple_fit'\n",
      "Traceback (most recent call last):\n",
      "  File \"<magic-timeit>\", line 1, in inner\n",
      "ZeroDivisionError: float division\n"
     ]
    },
    {
     "ename": "ZeroDivisionError",
     "evalue": "float division",
     "output_type": "error",
     "traceback": [
      "\u001b[0;31m---------------------------------------------------------------------------\u001b[0m",
      "\u001b[0;31mZeroDivisionError\u001b[0m                         Traceback (most recent call last)",
      "\u001b[0;31mZeroDivisionError\u001b[0m: float division"
     ]
    },
    {
     "name": "stderr",
     "output_type": "stream",
     "text": [
      "Exception ignored in: '_cython_magic_d33e5aada1040c975bde92b13d65fed9.simple_fit'\n",
      "Traceback (most recent call last):\n",
      "  File \"<magic-timeit>\", line 1, in inner\n",
      "ZeroDivisionError: float division\n"
     ]
    },
    {
     "ename": "ZeroDivisionError",
     "evalue": "float division",
     "output_type": "error",
     "traceback": [
      "\u001b[0;31m---------------------------------------------------------------------------\u001b[0m",
      "\u001b[0;31mZeroDivisionError\u001b[0m                         Traceback (most recent call last)",
      "\u001b[0;31mZeroDivisionError\u001b[0m: float division"
     ]
    },
    {
     "name": "stderr",
     "output_type": "stream",
     "text": [
      "Exception ignored in: '_cython_magic_d33e5aada1040c975bde92b13d65fed9.simple_fit'\n",
      "Traceback (most recent call last):\n",
      "  File \"<magic-timeit>\", line 1, in inner\n",
      "ZeroDivisionError: float division\n"
     ]
    },
    {
     "ename": "ZeroDivisionError",
     "evalue": "float division",
     "output_type": "error",
     "traceback": [
      "\u001b[0;31m---------------------------------------------------------------------------\u001b[0m",
      "\u001b[0;31mZeroDivisionError\u001b[0m                         Traceback (most recent call last)",
      "\u001b[0;31mZeroDivisionError\u001b[0m: float division"
     ]
    },
    {
     "name": "stderr",
     "output_type": "stream",
     "text": [
      "Exception ignored in: '_cython_magic_d33e5aada1040c975bde92b13d65fed9.simple_fit'\n",
      "Traceback (most recent call last):\n",
      "  File \"<magic-timeit>\", line 1, in inner\n",
      "ZeroDivisionError: float division\n"
     ]
    },
    {
     "ename": "ZeroDivisionError",
     "evalue": "float division",
     "output_type": "error",
     "traceback": [
      "\u001b[0;31m---------------------------------------------------------------------------\u001b[0m",
      "\u001b[0;31mZeroDivisionError\u001b[0m                         Traceback (most recent call last)",
      "\u001b[0;31mZeroDivisionError\u001b[0m: float division"
     ]
    },
    {
     "name": "stderr",
     "output_type": "stream",
     "text": [
      "Exception ignored in: '_cython_magic_d33e5aada1040c975bde92b13d65fed9.simple_fit'\n",
      "Traceback (most recent call last):\n",
      "  File \"<magic-timeit>\", line 1, in inner\n",
      "ZeroDivisionError: float division\n"
     ]
    },
    {
     "ename": "ZeroDivisionError",
     "evalue": "float division",
     "output_type": "error",
     "traceback": [
      "\u001b[0;31m---------------------------------------------------------------------------\u001b[0m",
      "\u001b[0;31mZeroDivisionError\u001b[0m                         Traceback (most recent call last)",
      "\u001b[0;31mZeroDivisionError\u001b[0m: float division"
     ]
    },
    {
     "name": "stderr",
     "output_type": "stream",
     "text": [
      "Exception ignored in: '_cython_magic_d33e5aada1040c975bde92b13d65fed9.simple_fit'\n",
      "Traceback (most recent call last):\n",
      "  File \"<magic-timeit>\", line 1, in inner\n",
      "ZeroDivisionError: float division\n"
     ]
    },
    {
     "ename": "ZeroDivisionError",
     "evalue": "float division",
     "output_type": "error",
     "traceback": [
      "\u001b[0;31m---------------------------------------------------------------------------\u001b[0m",
      "\u001b[0;31mZeroDivisionError\u001b[0m                         Traceback (most recent call last)",
      "\u001b[0;31mZeroDivisionError\u001b[0m: float division"
     ]
    },
    {
     "name": "stderr",
     "output_type": "stream",
     "text": [
      "Exception ignored in: '_cython_magic_d33e5aada1040c975bde92b13d65fed9.simple_fit'\n",
      "Traceback (most recent call last):\n",
      "  File \"<magic-timeit>\", line 1, in inner\n",
      "ZeroDivisionError: float division\n"
     ]
    },
    {
     "ename": "ZeroDivisionError",
     "evalue": "float division",
     "output_type": "error",
     "traceback": [
      "\u001b[0;31m---------------------------------------------------------------------------\u001b[0m",
      "\u001b[0;31mZeroDivisionError\u001b[0m                         Traceback (most recent call last)",
      "\u001b[0;31mZeroDivisionError\u001b[0m: float division"
     ]
    },
    {
     "name": "stderr",
     "output_type": "stream",
     "text": [
      "Exception ignored in: '_cython_magic_d33e5aada1040c975bde92b13d65fed9.simple_fit'\n",
      "Traceback (most recent call last):\n",
      "  File \"<magic-timeit>\", line 1, in inner\n",
      "ZeroDivisionError: float division\n"
     ]
    },
    {
     "ename": "ZeroDivisionError",
     "evalue": "float division",
     "output_type": "error",
     "traceback": [
      "\u001b[0;31m---------------------------------------------------------------------------\u001b[0m",
      "\u001b[0;31mZeroDivisionError\u001b[0m                         Traceback (most recent call last)",
      "\u001b[0;31mZeroDivisionError\u001b[0m: float division"
     ]
    },
    {
     "name": "stderr",
     "output_type": "stream",
     "text": [
      "Exception ignored in: '_cython_magic_d33e5aada1040c975bde92b13d65fed9.simple_fit'\n",
      "Traceback (most recent call last):\n",
      "  File \"<magic-timeit>\", line 1, in inner\n",
      "ZeroDivisionError: float division\n"
     ]
    },
    {
     "ename": "ZeroDivisionError",
     "evalue": "float division",
     "output_type": "error",
     "traceback": [
      "\u001b[0;31m---------------------------------------------------------------------------\u001b[0m",
      "\u001b[0;31mZeroDivisionError\u001b[0m                         Traceback (most recent call last)",
      "\u001b[0;31mZeroDivisionError\u001b[0m: float division"
     ]
    },
    {
     "name": "stderr",
     "output_type": "stream",
     "text": [
      "Exception ignored in: '_cython_magic_d33e5aada1040c975bde92b13d65fed9.simple_fit'\n",
      "Traceback (most recent call last):\n",
      "  File \"<magic-timeit>\", line 1, in inner\n",
      "ZeroDivisionError: float division\n"
     ]
    },
    {
     "ename": "ZeroDivisionError",
     "evalue": "float division",
     "output_type": "error",
     "traceback": [
      "\u001b[0;31m---------------------------------------------------------------------------\u001b[0m",
      "\u001b[0;31mZeroDivisionError\u001b[0m                         Traceback (most recent call last)",
      "\u001b[0;31mZeroDivisionError\u001b[0m: float division"
     ]
    },
    {
     "name": "stderr",
     "output_type": "stream",
     "text": [
      "Exception ignored in: '_cython_magic_d33e5aada1040c975bde92b13d65fed9.simple_fit'\n",
      "Traceback (most recent call last):\n",
      "  File \"<magic-timeit>\", line 1, in inner\n",
      "ZeroDivisionError: float division\n"
     ]
    },
    {
     "ename": "ZeroDivisionError",
     "evalue": "float division",
     "output_type": "error",
     "traceback": [
      "\u001b[0;31m---------------------------------------------------------------------------\u001b[0m",
      "\u001b[0;31mZeroDivisionError\u001b[0m                         Traceback (most recent call last)",
      "\u001b[0;31mZeroDivisionError\u001b[0m: float division"
     ]
    },
    {
     "name": "stderr",
     "output_type": "stream",
     "text": [
      "Exception ignored in: '_cython_magic_d33e5aada1040c975bde92b13d65fed9.simple_fit'\n",
      "Traceback (most recent call last):\n",
      "  File \"<magic-timeit>\", line 1, in inner\n",
      "ZeroDivisionError: float division\n"
     ]
    },
    {
     "ename": "ZeroDivisionError",
     "evalue": "float division",
     "output_type": "error",
     "traceback": [
      "\u001b[0;31m---------------------------------------------------------------------------\u001b[0m",
      "\u001b[0;31mZeroDivisionError\u001b[0m                         Traceback (most recent call last)",
      "\u001b[0;31mZeroDivisionError\u001b[0m: float division"
     ]
    },
    {
     "name": "stderr",
     "output_type": "stream",
     "text": [
      "Exception ignored in: '_cython_magic_d33e5aada1040c975bde92b13d65fed9.simple_fit'\n",
      "Traceback (most recent call last):\n",
      "  File \"<magic-timeit>\", line 1, in inner\n",
      "ZeroDivisionError: float division\n"
     ]
    },
    {
     "ename": "ZeroDivisionError",
     "evalue": "float division",
     "output_type": "error",
     "traceback": [
      "\u001b[0;31m---------------------------------------------------------------------------\u001b[0m",
      "\u001b[0;31mZeroDivisionError\u001b[0m                         Traceback (most recent call last)",
      "\u001b[0;31mZeroDivisionError\u001b[0m: float division"
     ]
    },
    {
     "name": "stderr",
     "output_type": "stream",
     "text": [
      "Exception ignored in: '_cython_magic_d33e5aada1040c975bde92b13d65fed9.simple_fit'\n",
      "Traceback (most recent call last):\n",
      "  File \"<magic-timeit>\", line 1, in inner\n",
      "ZeroDivisionError: float division\n"
     ]
    },
    {
     "ename": "ZeroDivisionError",
     "evalue": "float division",
     "output_type": "error",
     "traceback": [
      "\u001b[0;31m---------------------------------------------------------------------------\u001b[0m",
      "\u001b[0;31mZeroDivisionError\u001b[0m                         Traceback (most recent call last)",
      "\u001b[0;31mZeroDivisionError\u001b[0m: float division"
     ]
    },
    {
     "name": "stderr",
     "output_type": "stream",
     "text": [
      "Exception ignored in: '_cython_magic_d33e5aada1040c975bde92b13d65fed9.simple_fit'\n",
      "Traceback (most recent call last):\n",
      "  File \"<magic-timeit>\", line 1, in inner\n",
      "ZeroDivisionError: float division\n"
     ]
    },
    {
     "ename": "ZeroDivisionError",
     "evalue": "float division",
     "output_type": "error",
     "traceback": [
      "\u001b[0;31m---------------------------------------------------------------------------\u001b[0m",
      "\u001b[0;31mZeroDivisionError\u001b[0m                         Traceback (most recent call last)",
      "\u001b[0;31mZeroDivisionError\u001b[0m: float division"
     ]
    },
    {
     "name": "stderr",
     "output_type": "stream",
     "text": [
      "Exception ignored in: '_cython_magic_d33e5aada1040c975bde92b13d65fed9.simple_fit'\n",
      "Traceback (most recent call last):\n",
      "  File \"<magic-timeit>\", line 1, in inner\n",
      "ZeroDivisionError: float division\n"
     ]
    },
    {
     "ename": "ZeroDivisionError",
     "evalue": "float division",
     "output_type": "error",
     "traceback": [
      "\u001b[0;31m---------------------------------------------------------------------------\u001b[0m",
      "\u001b[0;31mZeroDivisionError\u001b[0m                         Traceback (most recent call last)",
      "\u001b[0;31mZeroDivisionError\u001b[0m: float division"
     ]
    },
    {
     "name": "stderr",
     "output_type": "stream",
     "text": [
      "Exception ignored in: '_cython_magic_d33e5aada1040c975bde92b13d65fed9.simple_fit'\n",
      "Traceback (most recent call last):\n",
      "  File \"<magic-timeit>\", line 1, in inner\n",
      "ZeroDivisionError: float division\n"
     ]
    },
    {
     "ename": "ZeroDivisionError",
     "evalue": "float division",
     "output_type": "error",
     "traceback": [
      "\u001b[0;31m---------------------------------------------------------------------------\u001b[0m",
      "\u001b[0;31mZeroDivisionError\u001b[0m                         Traceback (most recent call last)",
      "\u001b[0;31mZeroDivisionError\u001b[0m: float division"
     ]
    },
    {
     "name": "stderr",
     "output_type": "stream",
     "text": [
      "Exception ignored in: '_cython_magic_d33e5aada1040c975bde92b13d65fed9.simple_fit'\n",
      "Traceback (most recent call last):\n",
      "  File \"<magic-timeit>\", line 1, in inner\n",
      "ZeroDivisionError: float division\n"
     ]
    },
    {
     "ename": "ZeroDivisionError",
     "evalue": "float division",
     "output_type": "error",
     "traceback": [
      "\u001b[0;31m---------------------------------------------------------------------------\u001b[0m",
      "\u001b[0;31mZeroDivisionError\u001b[0m                         Traceback (most recent call last)",
      "\u001b[0;31mZeroDivisionError\u001b[0m: float division"
     ]
    },
    {
     "name": "stderr",
     "output_type": "stream",
     "text": [
      "Exception ignored in: '_cython_magic_d33e5aada1040c975bde92b13d65fed9.simple_fit'\n",
      "Traceback (most recent call last):\n",
      "  File \"<magic-timeit>\", line 1, in inner\n",
      "ZeroDivisionError: float division\n"
     ]
    },
    {
     "ename": "ZeroDivisionError",
     "evalue": "float division",
     "output_type": "error",
     "traceback": [
      "\u001b[0;31m---------------------------------------------------------------------------\u001b[0m",
      "\u001b[0;31mZeroDivisionError\u001b[0m                         Traceback (most recent call last)",
      "\u001b[0;31mZeroDivisionError\u001b[0m: float division"
     ]
    },
    {
     "name": "stderr",
     "output_type": "stream",
     "text": [
      "Exception ignored in: '_cython_magic_d33e5aada1040c975bde92b13d65fed9.simple_fit'\n",
      "Traceback (most recent call last):\n",
      "  File \"<magic-timeit>\", line 1, in inner\n",
      "ZeroDivisionError: float division\n"
     ]
    },
    {
     "ename": "ZeroDivisionError",
     "evalue": "float division",
     "output_type": "error",
     "traceback": [
      "\u001b[0;31m---------------------------------------------------------------------------\u001b[0m",
      "\u001b[0;31mZeroDivisionError\u001b[0m                         Traceback (most recent call last)",
      "\u001b[0;31mZeroDivisionError\u001b[0m: float division"
     ]
    },
    {
     "name": "stderr",
     "output_type": "stream",
     "text": [
      "Exception ignored in: '_cython_magic_d33e5aada1040c975bde92b13d65fed9.simple_fit'\n",
      "Traceback (most recent call last):\n",
      "  File \"<magic-timeit>\", line 1, in inner\n",
      "ZeroDivisionError: float division\n"
     ]
    },
    {
     "ename": "ZeroDivisionError",
     "evalue": "float division",
     "output_type": "error",
     "traceback": [
      "\u001b[0;31m---------------------------------------------------------------------------\u001b[0m",
      "\u001b[0;31mZeroDivisionError\u001b[0m                         Traceback (most recent call last)",
      "\u001b[0;31mZeroDivisionError\u001b[0m: float division"
     ]
    },
    {
     "name": "stderr",
     "output_type": "stream",
     "text": [
      "Exception ignored in: '_cython_magic_d33e5aada1040c975bde92b13d65fed9.simple_fit'\n",
      "Traceback (most recent call last):\n",
      "  File \"<magic-timeit>\", line 1, in inner\n",
      "ZeroDivisionError: float division\n"
     ]
    },
    {
     "ename": "ZeroDivisionError",
     "evalue": "float division",
     "output_type": "error",
     "traceback": [
      "\u001b[0;31m---------------------------------------------------------------------------\u001b[0m",
      "\u001b[0;31mZeroDivisionError\u001b[0m                         Traceback (most recent call last)",
      "\u001b[0;31mZeroDivisionError\u001b[0m: float division"
     ]
    },
    {
     "name": "stderr",
     "output_type": "stream",
     "text": [
      "Exception ignored in: '_cython_magic_d33e5aada1040c975bde92b13d65fed9.simple_fit'\n",
      "Traceback (most recent call last):\n",
      "  File \"<magic-timeit>\", line 1, in inner\n",
      "ZeroDivisionError: float division\n"
     ]
    },
    {
     "ename": "ZeroDivisionError",
     "evalue": "float division",
     "output_type": "error",
     "traceback": [
      "\u001b[0;31m---------------------------------------------------------------------------\u001b[0m",
      "\u001b[0;31mZeroDivisionError\u001b[0m                         Traceback (most recent call last)",
      "\u001b[0;31mZeroDivisionError\u001b[0m: float division"
     ]
    },
    {
     "name": "stderr",
     "output_type": "stream",
     "text": [
      "Exception ignored in: '_cython_magic_d33e5aada1040c975bde92b13d65fed9.simple_fit'\n",
      "Traceback (most recent call last):\n",
      "  File \"<magic-timeit>\", line 1, in inner\n",
      "ZeroDivisionError: float division\n"
     ]
    },
    {
     "ename": "ZeroDivisionError",
     "evalue": "float division",
     "output_type": "error",
     "traceback": [
      "\u001b[0;31m---------------------------------------------------------------------------\u001b[0m",
      "\u001b[0;31mZeroDivisionError\u001b[0m                         Traceback (most recent call last)",
      "\u001b[0;31mZeroDivisionError\u001b[0m: float division"
     ]
    },
    {
     "name": "stderr",
     "output_type": "stream",
     "text": [
      "Exception ignored in: '_cython_magic_d33e5aada1040c975bde92b13d65fed9.simple_fit'\n",
      "Traceback (most recent call last):\n",
      "  File \"<magic-timeit>\", line 1, in inner\n",
      "ZeroDivisionError: float division\n"
     ]
    },
    {
     "ename": "ZeroDivisionError",
     "evalue": "float division",
     "output_type": "error",
     "traceback": [
      "\u001b[0;31m---------------------------------------------------------------------------\u001b[0m",
      "\u001b[0;31mZeroDivisionError\u001b[0m                         Traceback (most recent call last)",
      "\u001b[0;31mZeroDivisionError\u001b[0m: float division"
     ]
    },
    {
     "name": "stderr",
     "output_type": "stream",
     "text": [
      "Exception ignored in: '_cython_magic_d33e5aada1040c975bde92b13d65fed9.simple_fit'\n",
      "Traceback (most recent call last):\n",
      "  File \"<magic-timeit>\", line 1, in inner\n",
      "ZeroDivisionError: float division\n"
     ]
    },
    {
     "ename": "ZeroDivisionError",
     "evalue": "float division",
     "output_type": "error",
     "traceback": [
      "\u001b[0;31m---------------------------------------------------------------------------\u001b[0m",
      "\u001b[0;31mZeroDivisionError\u001b[0m                         Traceback (most recent call last)",
      "\u001b[0;31mZeroDivisionError\u001b[0m: float division"
     ]
    },
    {
     "name": "stderr",
     "output_type": "stream",
     "text": [
      "Exception ignored in: '_cython_magic_d33e5aada1040c975bde92b13d65fed9.simple_fit'\n",
      "Traceback (most recent call last):\n",
      "  File \"<magic-timeit>\", line 1, in inner\n",
      "ZeroDivisionError: float division\n"
     ]
    },
    {
     "ename": "ZeroDivisionError",
     "evalue": "float division",
     "output_type": "error",
     "traceback": [
      "\u001b[0;31m---------------------------------------------------------------------------\u001b[0m",
      "\u001b[0;31mZeroDivisionError\u001b[0m                         Traceback (most recent call last)",
      "\u001b[0;31mZeroDivisionError\u001b[0m: float division"
     ]
    },
    {
     "name": "stderr",
     "output_type": "stream",
     "text": [
      "Exception ignored in: '_cython_magic_d33e5aada1040c975bde92b13d65fed9.simple_fit'\n",
      "Traceback (most recent call last):\n",
      "  File \"<magic-timeit>\", line 1, in inner\n",
      "ZeroDivisionError: float division\n"
     ]
    },
    {
     "ename": "ZeroDivisionError",
     "evalue": "float division",
     "output_type": "error",
     "traceback": [
      "\u001b[0;31m---------------------------------------------------------------------------\u001b[0m",
      "\u001b[0;31mZeroDivisionError\u001b[0m                         Traceback (most recent call last)",
      "\u001b[0;31mZeroDivisionError\u001b[0m: float division"
     ]
    },
    {
     "name": "stderr",
     "output_type": "stream",
     "text": [
      "Exception ignored in: '_cython_magic_d33e5aada1040c975bde92b13d65fed9.simple_fit'\n",
      "Traceback (most recent call last):\n",
      "  File \"<magic-timeit>\", line 1, in inner\n",
      "ZeroDivisionError: float division\n"
     ]
    },
    {
     "ename": "ZeroDivisionError",
     "evalue": "float division",
     "output_type": "error",
     "traceback": [
      "\u001b[0;31m---------------------------------------------------------------------------\u001b[0m",
      "\u001b[0;31mZeroDivisionError\u001b[0m                         Traceback (most recent call last)",
      "\u001b[0;31mZeroDivisionError\u001b[0m: float division"
     ]
    },
    {
     "name": "stderr",
     "output_type": "stream",
     "text": [
      "Exception ignored in: '_cython_magic_d33e5aada1040c975bde92b13d65fed9.simple_fit'\n",
      "Traceback (most recent call last):\n",
      "  File \"<magic-timeit>\", line 1, in inner\n",
      "ZeroDivisionError: float division\n"
     ]
    },
    {
     "ename": "ZeroDivisionError",
     "evalue": "float division",
     "output_type": "error",
     "traceback": [
      "\u001b[0;31m---------------------------------------------------------------------------\u001b[0m",
      "\u001b[0;31mZeroDivisionError\u001b[0m                         Traceback (most recent call last)",
      "\u001b[0;31mZeroDivisionError\u001b[0m: float division"
     ]
    },
    {
     "name": "stderr",
     "output_type": "stream",
     "text": [
      "Exception ignored in: '_cython_magic_d33e5aada1040c975bde92b13d65fed9.simple_fit'\n",
      "Traceback (most recent call last):\n",
      "  File \"<magic-timeit>\", line 1, in inner\n",
      "ZeroDivisionError: float division\n"
     ]
    },
    {
     "ename": "ZeroDivisionError",
     "evalue": "float division",
     "output_type": "error",
     "traceback": [
      "\u001b[0;31m---------------------------------------------------------------------------\u001b[0m",
      "\u001b[0;31mZeroDivisionError\u001b[0m                         Traceback (most recent call last)",
      "\u001b[0;31mZeroDivisionError\u001b[0m: float division"
     ]
    },
    {
     "name": "stderr",
     "output_type": "stream",
     "text": [
      "Exception ignored in: '_cython_magic_d33e5aada1040c975bde92b13d65fed9.simple_fit'\n",
      "Traceback (most recent call last):\n",
      "  File \"<magic-timeit>\", line 1, in inner\n",
      "ZeroDivisionError: float division\n"
     ]
    },
    {
     "ename": "ZeroDivisionError",
     "evalue": "float division",
     "output_type": "error",
     "traceback": [
      "\u001b[0;31m---------------------------------------------------------------------------\u001b[0m",
      "\u001b[0;31mZeroDivisionError\u001b[0m                         Traceback (most recent call last)",
      "\u001b[0;31mZeroDivisionError\u001b[0m: float division"
     ]
    },
    {
     "name": "stderr",
     "output_type": "stream",
     "text": [
      "Exception ignored in: '_cython_magic_d33e5aada1040c975bde92b13d65fed9.simple_fit'\n",
      "Traceback (most recent call last):\n",
      "  File \"<magic-timeit>\", line 1, in inner\n",
      "ZeroDivisionError: float division\n"
     ]
    },
    {
     "ename": "ZeroDivisionError",
     "evalue": "float division",
     "output_type": "error",
     "traceback": [
      "\u001b[0;31m---------------------------------------------------------------------------\u001b[0m",
      "\u001b[0;31mZeroDivisionError\u001b[0m                         Traceback (most recent call last)",
      "\u001b[0;31mZeroDivisionError\u001b[0m: float division"
     ]
    },
    {
     "name": "stderr",
     "output_type": "stream",
     "text": [
      "Exception ignored in: '_cython_magic_d33e5aada1040c975bde92b13d65fed9.simple_fit'\n",
      "Traceback (most recent call last):\n",
      "  File \"<magic-timeit>\", line 1, in inner\n",
      "ZeroDivisionError: float division\n"
     ]
    },
    {
     "ename": "ZeroDivisionError",
     "evalue": "float division",
     "output_type": "error",
     "traceback": [
      "\u001b[0;31m---------------------------------------------------------------------------\u001b[0m",
      "\u001b[0;31mZeroDivisionError\u001b[0m                         Traceback (most recent call last)",
      "\u001b[0;31mZeroDivisionError\u001b[0m: float division"
     ]
    },
    {
     "name": "stderr",
     "output_type": "stream",
     "text": [
      "Exception ignored in: '_cython_magic_d33e5aada1040c975bde92b13d65fed9.simple_fit'\n",
      "Traceback (most recent call last):\n",
      "  File \"<magic-timeit>\", line 1, in inner\n",
      "ZeroDivisionError: float division\n"
     ]
    },
    {
     "ename": "ZeroDivisionError",
     "evalue": "float division",
     "output_type": "error",
     "traceback": [
      "\u001b[0;31m---------------------------------------------------------------------------\u001b[0m",
      "\u001b[0;31mZeroDivisionError\u001b[0m                         Traceback (most recent call last)",
      "\u001b[0;31mZeroDivisionError\u001b[0m: float division"
     ]
    },
    {
     "name": "stderr",
     "output_type": "stream",
     "text": [
      "Exception ignored in: '_cython_magic_d33e5aada1040c975bde92b13d65fed9.simple_fit'\n",
      "Traceback (most recent call last):\n",
      "  File \"<magic-timeit>\", line 1, in inner\n",
      "ZeroDivisionError: float division\n"
     ]
    },
    {
     "ename": "ZeroDivisionError",
     "evalue": "float division",
     "output_type": "error",
     "traceback": [
      "\u001b[0;31m---------------------------------------------------------------------------\u001b[0m",
      "\u001b[0;31mZeroDivisionError\u001b[0m                         Traceback (most recent call last)",
      "\u001b[0;31mZeroDivisionError\u001b[0m: float division"
     ]
    },
    {
     "name": "stderr",
     "output_type": "stream",
     "text": [
      "Exception ignored in: '_cython_magic_d33e5aada1040c975bde92b13d65fed9.simple_fit'\n",
      "Traceback (most recent call last):\n",
      "  File \"<magic-timeit>\", line 1, in inner\n",
      "ZeroDivisionError: float division\n"
     ]
    },
    {
     "ename": "ZeroDivisionError",
     "evalue": "float division",
     "output_type": "error",
     "traceback": [
      "\u001b[0;31m---------------------------------------------------------------------------\u001b[0m",
      "\u001b[0;31mZeroDivisionError\u001b[0m                         Traceback (most recent call last)",
      "\u001b[0;31mZeroDivisionError\u001b[0m: float division"
     ]
    },
    {
     "name": "stderr",
     "output_type": "stream",
     "text": [
      "Exception ignored in: '_cython_magic_d33e5aada1040c975bde92b13d65fed9.simple_fit'\n",
      "Traceback (most recent call last):\n",
      "  File \"<magic-timeit>\", line 1, in inner\n",
      "ZeroDivisionError: float division\n"
     ]
    },
    {
     "ename": "ZeroDivisionError",
     "evalue": "float division",
     "output_type": "error",
     "traceback": [
      "\u001b[0;31m---------------------------------------------------------------------------\u001b[0m",
      "\u001b[0;31mZeroDivisionError\u001b[0m                         Traceback (most recent call last)",
      "\u001b[0;31mZeroDivisionError\u001b[0m: float division"
     ]
    },
    {
     "name": "stderr",
     "output_type": "stream",
     "text": [
      "Exception ignored in: '_cython_magic_d33e5aada1040c975bde92b13d65fed9.simple_fit'\n",
      "Traceback (most recent call last):\n",
      "  File \"<magic-timeit>\", line 1, in inner\n",
      "ZeroDivisionError: float division\n"
     ]
    },
    {
     "ename": "ZeroDivisionError",
     "evalue": "float division",
     "output_type": "error",
     "traceback": [
      "\u001b[0;31m---------------------------------------------------------------------------\u001b[0m",
      "\u001b[0;31mZeroDivisionError\u001b[0m                         Traceback (most recent call last)",
      "\u001b[0;31mZeroDivisionError\u001b[0m: float division"
     ]
    },
    {
     "name": "stderr",
     "output_type": "stream",
     "text": [
      "Exception ignored in: '_cython_magic_d33e5aada1040c975bde92b13d65fed9.simple_fit'\n",
      "Traceback (most recent call last):\n",
      "  File \"<magic-timeit>\", line 1, in inner\n",
      "ZeroDivisionError: float division\n"
     ]
    },
    {
     "ename": "ZeroDivisionError",
     "evalue": "float division",
     "output_type": "error",
     "traceback": [
      "\u001b[0;31m---------------------------------------------------------------------------\u001b[0m",
      "\u001b[0;31mZeroDivisionError\u001b[0m                         Traceback (most recent call last)",
      "\u001b[0;31mZeroDivisionError\u001b[0m: float division"
     ]
    },
    {
     "name": "stderr",
     "output_type": "stream",
     "text": [
      "Exception ignored in: '_cython_magic_d33e5aada1040c975bde92b13d65fed9.simple_fit'\n",
      "Traceback (most recent call last):\n",
      "  File \"<magic-timeit>\", line 1, in inner\n",
      "ZeroDivisionError: float division\n"
     ]
    },
    {
     "ename": "ZeroDivisionError",
     "evalue": "float division",
     "output_type": "error",
     "traceback": [
      "\u001b[0;31m---------------------------------------------------------------------------\u001b[0m",
      "\u001b[0;31mZeroDivisionError\u001b[0m                         Traceback (most recent call last)",
      "\u001b[0;31mZeroDivisionError\u001b[0m: float division"
     ]
    },
    {
     "name": "stderr",
     "output_type": "stream",
     "text": [
      "Exception ignored in: '_cython_magic_d33e5aada1040c975bde92b13d65fed9.simple_fit'\n",
      "Traceback (most recent call last):\n",
      "  File \"<magic-timeit>\", line 1, in inner\n",
      "ZeroDivisionError: float division\n"
     ]
    },
    {
     "ename": "ZeroDivisionError",
     "evalue": "float division",
     "output_type": "error",
     "traceback": [
      "\u001b[0;31m---------------------------------------------------------------------------\u001b[0m",
      "\u001b[0;31mZeroDivisionError\u001b[0m                         Traceback (most recent call last)",
      "\u001b[0;31mZeroDivisionError\u001b[0m: float division"
     ]
    },
    {
     "name": "stderr",
     "output_type": "stream",
     "text": [
      "Exception ignored in: '_cython_magic_d33e5aada1040c975bde92b13d65fed9.simple_fit'\n",
      "Traceback (most recent call last):\n",
      "  File \"<magic-timeit>\", line 1, in inner\n",
      "ZeroDivisionError: float division\n"
     ]
    },
    {
     "ename": "ZeroDivisionError",
     "evalue": "float division",
     "output_type": "error",
     "traceback": [
      "\u001b[0;31m---------------------------------------------------------------------------\u001b[0m",
      "\u001b[0;31mZeroDivisionError\u001b[0m                         Traceback (most recent call last)",
      "\u001b[0;31mZeroDivisionError\u001b[0m: float division"
     ]
    },
    {
     "name": "stderr",
     "output_type": "stream",
     "text": [
      "Exception ignored in: '_cython_magic_d33e5aada1040c975bde92b13d65fed9.simple_fit'\n",
      "Traceback (most recent call last):\n",
      "  File \"<magic-timeit>\", line 1, in inner\n",
      "ZeroDivisionError: float division\n"
     ]
    },
    {
     "ename": "ZeroDivisionError",
     "evalue": "float division",
     "output_type": "error",
     "traceback": [
      "\u001b[0;31m---------------------------------------------------------------------------\u001b[0m",
      "\u001b[0;31mZeroDivisionError\u001b[0m                         Traceback (most recent call last)",
      "\u001b[0;31mZeroDivisionError\u001b[0m: float division"
     ]
    },
    {
     "name": "stderr",
     "output_type": "stream",
     "text": [
      "Exception ignored in: '_cython_magic_d33e5aada1040c975bde92b13d65fed9.simple_fit'\n",
      "Traceback (most recent call last):\n",
      "  File \"<magic-timeit>\", line 1, in inner\n",
      "ZeroDivisionError: float division\n"
     ]
    },
    {
     "ename": "ZeroDivisionError",
     "evalue": "float division",
     "output_type": "error",
     "traceback": [
      "\u001b[0;31m---------------------------------------------------------------------------\u001b[0m",
      "\u001b[0;31mZeroDivisionError\u001b[0m                         Traceback (most recent call last)",
      "\u001b[0;31mZeroDivisionError\u001b[0m: float division"
     ]
    },
    {
     "name": "stderr",
     "output_type": "stream",
     "text": [
      "Exception ignored in: '_cython_magic_d33e5aada1040c975bde92b13d65fed9.simple_fit'\n",
      "Traceback (most recent call last):\n",
      "  File \"<magic-timeit>\", line 1, in inner\n",
      "ZeroDivisionError: float division\n"
     ]
    },
    {
     "ename": "ZeroDivisionError",
     "evalue": "float division",
     "output_type": "error",
     "traceback": [
      "\u001b[0;31m---------------------------------------------------------------------------\u001b[0m",
      "\u001b[0;31mZeroDivisionError\u001b[0m                         Traceback (most recent call last)",
      "\u001b[0;31mZeroDivisionError\u001b[0m: float division"
     ]
    },
    {
     "name": "stderr",
     "output_type": "stream",
     "text": [
      "Exception ignored in: '_cython_magic_d33e5aada1040c975bde92b13d65fed9.simple_fit'\n",
      "Traceback (most recent call last):\n",
      "  File \"<magic-timeit>\", line 1, in inner\n",
      "ZeroDivisionError: float division\n"
     ]
    },
    {
     "ename": "ZeroDivisionError",
     "evalue": "float division",
     "output_type": "error",
     "traceback": [
      "\u001b[0;31m---------------------------------------------------------------------------\u001b[0m",
      "\u001b[0;31mZeroDivisionError\u001b[0m                         Traceback (most recent call last)",
      "\u001b[0;31mZeroDivisionError\u001b[0m: float division"
     ]
    },
    {
     "name": "stderr",
     "output_type": "stream",
     "text": [
      "Exception ignored in: '_cython_magic_d33e5aada1040c975bde92b13d65fed9.simple_fit'\n",
      "Traceback (most recent call last):\n",
      "  File \"<magic-timeit>\", line 1, in inner\n",
      "ZeroDivisionError: float division\n"
     ]
    },
    {
     "ename": "ZeroDivisionError",
     "evalue": "float division",
     "output_type": "error",
     "traceback": [
      "\u001b[0;31m---------------------------------------------------------------------------\u001b[0m",
      "\u001b[0;31mZeroDivisionError\u001b[0m                         Traceback (most recent call last)",
      "\u001b[0;31mZeroDivisionError\u001b[0m: float division"
     ]
    },
    {
     "name": "stderr",
     "output_type": "stream",
     "text": [
      "Exception ignored in: '_cython_magic_d33e5aada1040c975bde92b13d65fed9.simple_fit'\n",
      "Traceback (most recent call last):\n",
      "  File \"<magic-timeit>\", line 1, in inner\n",
      "ZeroDivisionError: float division\n"
     ]
    },
    {
     "ename": "ZeroDivisionError",
     "evalue": "float division",
     "output_type": "error",
     "traceback": [
      "\u001b[0;31m---------------------------------------------------------------------------\u001b[0m",
      "\u001b[0;31mZeroDivisionError\u001b[0m                         Traceback (most recent call last)",
      "\u001b[0;31mZeroDivisionError\u001b[0m: float division"
     ]
    },
    {
     "name": "stderr",
     "output_type": "stream",
     "text": [
      "Exception ignored in: '_cython_magic_d33e5aada1040c975bde92b13d65fed9.simple_fit'\n",
      "Traceback (most recent call last):\n",
      "  File \"<magic-timeit>\", line 1, in inner\n",
      "ZeroDivisionError: float division\n"
     ]
    },
    {
     "ename": "ZeroDivisionError",
     "evalue": "float division",
     "output_type": "error",
     "traceback": [
      "\u001b[0;31m---------------------------------------------------------------------------\u001b[0m",
      "\u001b[0;31mZeroDivisionError\u001b[0m                         Traceback (most recent call last)",
      "\u001b[0;31mZeroDivisionError\u001b[0m: float division"
     ]
    },
    {
     "name": "stderr",
     "output_type": "stream",
     "text": [
      "Exception ignored in: '_cython_magic_d33e5aada1040c975bde92b13d65fed9.simple_fit'\n",
      "Traceback (most recent call last):\n",
      "  File \"<magic-timeit>\", line 1, in inner\n",
      "ZeroDivisionError: float division\n"
     ]
    },
    {
     "ename": "ZeroDivisionError",
     "evalue": "float division",
     "output_type": "error",
     "traceback": [
      "\u001b[0;31m---------------------------------------------------------------------------\u001b[0m",
      "\u001b[0;31mZeroDivisionError\u001b[0m                         Traceback (most recent call last)",
      "\u001b[0;31mZeroDivisionError\u001b[0m: float division"
     ]
    },
    {
     "name": "stderr",
     "output_type": "stream",
     "text": [
      "Exception ignored in: '_cython_magic_d33e5aada1040c975bde92b13d65fed9.simple_fit'\n",
      "Traceback (most recent call last):\n",
      "  File \"<magic-timeit>\", line 1, in inner\n",
      "ZeroDivisionError: float division\n"
     ]
    },
    {
     "ename": "ZeroDivisionError",
     "evalue": "float division",
     "output_type": "error",
     "traceback": [
      "\u001b[0;31m---------------------------------------------------------------------------\u001b[0m",
      "\u001b[0;31mZeroDivisionError\u001b[0m                         Traceback (most recent call last)",
      "\u001b[0;31mZeroDivisionError\u001b[0m: float division"
     ]
    },
    {
     "name": "stderr",
     "output_type": "stream",
     "text": [
      "Exception ignored in: '_cython_magic_d33e5aada1040c975bde92b13d65fed9.simple_fit'\n",
      "Traceback (most recent call last):\n",
      "  File \"<magic-timeit>\", line 1, in inner\n",
      "ZeroDivisionError: float division\n"
     ]
    },
    {
     "ename": "ZeroDivisionError",
     "evalue": "float division",
     "output_type": "error",
     "traceback": [
      "\u001b[0;31m---------------------------------------------------------------------------\u001b[0m",
      "\u001b[0;31mZeroDivisionError\u001b[0m                         Traceback (most recent call last)",
      "\u001b[0;31mZeroDivisionError\u001b[0m: float division"
     ]
    },
    {
     "name": "stderr",
     "output_type": "stream",
     "text": [
      "Exception ignored in: '_cython_magic_d33e5aada1040c975bde92b13d65fed9.simple_fit'\n",
      "Traceback (most recent call last):\n",
      "  File \"<magic-timeit>\", line 1, in inner\n",
      "ZeroDivisionError: float division\n"
     ]
    },
    {
     "ename": "ZeroDivisionError",
     "evalue": "float division",
     "output_type": "error",
     "traceback": [
      "\u001b[0;31m---------------------------------------------------------------------------\u001b[0m",
      "\u001b[0;31mZeroDivisionError\u001b[0m                         Traceback (most recent call last)",
      "\u001b[0;31mZeroDivisionError\u001b[0m: float division"
     ]
    },
    {
     "name": "stderr",
     "output_type": "stream",
     "text": [
      "Exception ignored in: '_cython_magic_d33e5aada1040c975bde92b13d65fed9.simple_fit'\n",
      "Traceback (most recent call last):\n",
      "  File \"<magic-timeit>\", line 1, in inner\n",
      "ZeroDivisionError: float division\n"
     ]
    },
    {
     "ename": "ZeroDivisionError",
     "evalue": "float division",
     "output_type": "error",
     "traceback": [
      "\u001b[0;31m---------------------------------------------------------------------------\u001b[0m",
      "\u001b[0;31mZeroDivisionError\u001b[0m                         Traceback (most recent call last)",
      "\u001b[0;31mZeroDivisionError\u001b[0m: float division"
     ]
    },
    {
     "name": "stderr",
     "output_type": "stream",
     "text": [
      "Exception ignored in: '_cython_magic_d33e5aada1040c975bde92b13d65fed9.simple_fit'\n",
      "Traceback (most recent call last):\n",
      "  File \"<magic-timeit>\", line 1, in inner\n",
      "ZeroDivisionError: float division\n"
     ]
    },
    {
     "ename": "ZeroDivisionError",
     "evalue": "float division",
     "output_type": "error",
     "traceback": [
      "\u001b[0;31m---------------------------------------------------------------------------\u001b[0m",
      "\u001b[0;31mZeroDivisionError\u001b[0m                         Traceback (most recent call last)",
      "\u001b[0;31mZeroDivisionError\u001b[0m: float division"
     ]
    },
    {
     "name": "stderr",
     "output_type": "stream",
     "text": [
      "Exception ignored in: '_cython_magic_d33e5aada1040c975bde92b13d65fed9.simple_fit'\n",
      "Traceback (most recent call last):\n",
      "  File \"<magic-timeit>\", line 1, in inner\n",
      "ZeroDivisionError: float division\n"
     ]
    },
    {
     "ename": "ZeroDivisionError",
     "evalue": "float division",
     "output_type": "error",
     "traceback": [
      "\u001b[0;31m---------------------------------------------------------------------------\u001b[0m",
      "\u001b[0;31mZeroDivisionError\u001b[0m                         Traceback (most recent call last)",
      "\u001b[0;31mZeroDivisionError\u001b[0m: float division"
     ]
    },
    {
     "name": "stderr",
     "output_type": "stream",
     "text": [
      "Exception ignored in: '_cython_magic_d33e5aada1040c975bde92b13d65fed9.simple_fit'\n",
      "Traceback (most recent call last):\n",
      "  File \"<magic-timeit>\", line 1, in inner\n",
      "ZeroDivisionError: float division\n"
     ]
    },
    {
     "ename": "ZeroDivisionError",
     "evalue": "float division",
     "output_type": "error",
     "traceback": [
      "\u001b[0;31m---------------------------------------------------------------------------\u001b[0m",
      "\u001b[0;31mZeroDivisionError\u001b[0m                         Traceback (most recent call last)",
      "\u001b[0;31mZeroDivisionError\u001b[0m: float division"
     ]
    },
    {
     "name": "stderr",
     "output_type": "stream",
     "text": [
      "Exception ignored in: '_cython_magic_d33e5aada1040c975bde92b13d65fed9.simple_fit'\n",
      "Traceback (most recent call last):\n",
      "  File \"<magic-timeit>\", line 1, in inner\n",
      "ZeroDivisionError: float division\n"
     ]
    },
    {
     "ename": "ZeroDivisionError",
     "evalue": "float division",
     "output_type": "error",
     "traceback": [
      "\u001b[0;31m---------------------------------------------------------------------------\u001b[0m",
      "\u001b[0;31mZeroDivisionError\u001b[0m                         Traceback (most recent call last)",
      "\u001b[0;31mZeroDivisionError\u001b[0m: float division"
     ]
    },
    {
     "name": "stderr",
     "output_type": "stream",
     "text": [
      "Exception ignored in: '_cython_magic_d33e5aada1040c975bde92b13d65fed9.simple_fit'\n",
      "Traceback (most recent call last):\n",
      "  File \"<magic-timeit>\", line 1, in inner\n",
      "ZeroDivisionError: float division\n"
     ]
    },
    {
     "ename": "ZeroDivisionError",
     "evalue": "float division",
     "output_type": "error",
     "traceback": [
      "\u001b[0;31m---------------------------------------------------------------------------\u001b[0m",
      "\u001b[0;31mZeroDivisionError\u001b[0m                         Traceback (most recent call last)",
      "\u001b[0;31mZeroDivisionError\u001b[0m: float division"
     ]
    },
    {
     "name": "stderr",
     "output_type": "stream",
     "text": [
      "Exception ignored in: '_cython_magic_d33e5aada1040c975bde92b13d65fed9.simple_fit'\n",
      "Traceback (most recent call last):\n",
      "  File \"<magic-timeit>\", line 1, in inner\n",
      "ZeroDivisionError: float division\n"
     ]
    },
    {
     "ename": "ZeroDivisionError",
     "evalue": "float division",
     "output_type": "error",
     "traceback": [
      "\u001b[0;31m---------------------------------------------------------------------------\u001b[0m",
      "\u001b[0;31mZeroDivisionError\u001b[0m                         Traceback (most recent call last)",
      "\u001b[0;31mZeroDivisionError\u001b[0m: float division"
     ]
    },
    {
     "name": "stderr",
     "output_type": "stream",
     "text": [
      "Exception ignored in: '_cython_magic_d33e5aada1040c975bde92b13d65fed9.simple_fit'\n",
      "Traceback (most recent call last):\n",
      "  File \"<magic-timeit>\", line 1, in inner\n",
      "ZeroDivisionError: float division\n"
     ]
    },
    {
     "ename": "ZeroDivisionError",
     "evalue": "float division",
     "output_type": "error",
     "traceback": [
      "\u001b[0;31m---------------------------------------------------------------------------\u001b[0m",
      "\u001b[0;31mZeroDivisionError\u001b[0m                         Traceback (most recent call last)",
      "\u001b[0;31mZeroDivisionError\u001b[0m: float division"
     ]
    },
    {
     "name": "stderr",
     "output_type": "stream",
     "text": [
      "Exception ignored in: '_cython_magic_d33e5aada1040c975bde92b13d65fed9.simple_fit'\n",
      "Traceback (most recent call last):\n",
      "  File \"<magic-timeit>\", line 1, in inner\n",
      "ZeroDivisionError: float division\n"
     ]
    },
    {
     "ename": "ZeroDivisionError",
     "evalue": "float division",
     "output_type": "error",
     "traceback": [
      "\u001b[0;31m---------------------------------------------------------------------------\u001b[0m",
      "\u001b[0;31mZeroDivisionError\u001b[0m                         Traceback (most recent call last)",
      "\u001b[0;31mZeroDivisionError\u001b[0m: float division"
     ]
    },
    {
     "name": "stderr",
     "output_type": "stream",
     "text": [
      "Exception ignored in: '_cython_magic_d33e5aada1040c975bde92b13d65fed9.simple_fit'\n",
      "Traceback (most recent call last):\n",
      "  File \"<magic-timeit>\", line 1, in inner\n",
      "ZeroDivisionError: float division\n"
     ]
    },
    {
     "ename": "ZeroDivisionError",
     "evalue": "float division",
     "output_type": "error",
     "traceback": [
      "\u001b[0;31m---------------------------------------------------------------------------\u001b[0m",
      "\u001b[0;31mZeroDivisionError\u001b[0m                         Traceback (most recent call last)",
      "\u001b[0;31mZeroDivisionError\u001b[0m: float division"
     ]
    },
    {
     "name": "stderr",
     "output_type": "stream",
     "text": [
      "Exception ignored in: '_cython_magic_d33e5aada1040c975bde92b13d65fed9.simple_fit'\n",
      "Traceback (most recent call last):\n",
      "  File \"<magic-timeit>\", line 1, in inner\n",
      "ZeroDivisionError: float division\n"
     ]
    },
    {
     "ename": "ZeroDivisionError",
     "evalue": "float division",
     "output_type": "error",
     "traceback": [
      "\u001b[0;31m---------------------------------------------------------------------------\u001b[0m",
      "\u001b[0;31mZeroDivisionError\u001b[0m                         Traceback (most recent call last)",
      "\u001b[0;31mZeroDivisionError\u001b[0m: float division"
     ]
    },
    {
     "name": "stderr",
     "output_type": "stream",
     "text": [
      "Exception ignored in: '_cython_magic_d33e5aada1040c975bde92b13d65fed9.simple_fit'\n",
      "Traceback (most recent call last):\n",
      "  File \"<magic-timeit>\", line 1, in inner\n",
      "ZeroDivisionError: float division\n"
     ]
    },
    {
     "ename": "ZeroDivisionError",
     "evalue": "float division",
     "output_type": "error",
     "traceback": [
      "\u001b[0;31m---------------------------------------------------------------------------\u001b[0m",
      "\u001b[0;31mZeroDivisionError\u001b[0m                         Traceback (most recent call last)",
      "\u001b[0;31mZeroDivisionError\u001b[0m: float division"
     ]
    },
    {
     "name": "stderr",
     "output_type": "stream",
     "text": [
      "Exception ignored in: '_cython_magic_d33e5aada1040c975bde92b13d65fed9.simple_fit'\n",
      "Traceback (most recent call last):\n",
      "  File \"<magic-timeit>\", line 1, in inner\n",
      "ZeroDivisionError: float division\n"
     ]
    },
    {
     "ename": "ZeroDivisionError",
     "evalue": "float division",
     "output_type": "error",
     "traceback": [
      "\u001b[0;31m---------------------------------------------------------------------------\u001b[0m",
      "\u001b[0;31mZeroDivisionError\u001b[0m                         Traceback (most recent call last)",
      "\u001b[0;31mZeroDivisionError\u001b[0m: float division"
     ]
    },
    {
     "name": "stderr",
     "output_type": "stream",
     "text": [
      "Exception ignored in: '_cython_magic_d33e5aada1040c975bde92b13d65fed9.simple_fit'\n",
      "Traceback (most recent call last):\n",
      "  File \"<magic-timeit>\", line 1, in inner\n",
      "ZeroDivisionError: float division\n"
     ]
    },
    {
     "ename": "ZeroDivisionError",
     "evalue": "float division",
     "output_type": "error",
     "traceback": [
      "\u001b[0;31m---------------------------------------------------------------------------\u001b[0m",
      "\u001b[0;31mZeroDivisionError\u001b[0m                         Traceback (most recent call last)",
      "\u001b[0;31mZeroDivisionError\u001b[0m: float division"
     ]
    },
    {
     "name": "stderr",
     "output_type": "stream",
     "text": [
      "Exception ignored in: '_cython_magic_d33e5aada1040c975bde92b13d65fed9.simple_fit'\n",
      "Traceback (most recent call last):\n",
      "  File \"<magic-timeit>\", line 1, in inner\n",
      "ZeroDivisionError: float division\n"
     ]
    },
    {
     "ename": "ZeroDivisionError",
     "evalue": "float division",
     "output_type": "error",
     "traceback": [
      "\u001b[0;31m---------------------------------------------------------------------------\u001b[0m",
      "\u001b[0;31mZeroDivisionError\u001b[0m                         Traceback (most recent call last)",
      "\u001b[0;31mZeroDivisionError\u001b[0m: float division"
     ]
    },
    {
     "name": "stderr",
     "output_type": "stream",
     "text": [
      "Exception ignored in: '_cython_magic_d33e5aada1040c975bde92b13d65fed9.simple_fit'\n",
      "Traceback (most recent call last):\n",
      "  File \"<magic-timeit>\", line 1, in inner\n",
      "ZeroDivisionError: float division\n"
     ]
    },
    {
     "ename": "ZeroDivisionError",
     "evalue": "float division",
     "output_type": "error",
     "traceback": [
      "\u001b[0;31m---------------------------------------------------------------------------\u001b[0m",
      "\u001b[0;31mZeroDivisionError\u001b[0m                         Traceback (most recent call last)",
      "\u001b[0;31mZeroDivisionError\u001b[0m: float division"
     ]
    },
    {
     "name": "stderr",
     "output_type": "stream",
     "text": [
      "Exception ignored in: '_cython_magic_d33e5aada1040c975bde92b13d65fed9.simple_fit'\n",
      "Traceback (most recent call last):\n",
      "  File \"<magic-timeit>\", line 1, in inner\n",
      "ZeroDivisionError: float division\n"
     ]
    },
    {
     "ename": "ZeroDivisionError",
     "evalue": "float division",
     "output_type": "error",
     "traceback": [
      "\u001b[0;31m---------------------------------------------------------------------------\u001b[0m",
      "\u001b[0;31mZeroDivisionError\u001b[0m                         Traceback (most recent call last)",
      "\u001b[0;31mZeroDivisionError\u001b[0m: float division"
     ]
    },
    {
     "name": "stderr",
     "output_type": "stream",
     "text": [
      "Exception ignored in: '_cython_magic_d33e5aada1040c975bde92b13d65fed9.simple_fit'\n",
      "Traceback (most recent call last):\n",
      "  File \"<magic-timeit>\", line 1, in inner\n",
      "ZeroDivisionError: float division\n"
     ]
    },
    {
     "ename": "ZeroDivisionError",
     "evalue": "float division",
     "output_type": "error",
     "traceback": [
      "\u001b[0;31m---------------------------------------------------------------------------\u001b[0m",
      "\u001b[0;31mZeroDivisionError\u001b[0m                         Traceback (most recent call last)",
      "\u001b[0;31mZeroDivisionError\u001b[0m: float division"
     ]
    },
    {
     "name": "stderr",
     "output_type": "stream",
     "text": [
      "Exception ignored in: '_cython_magic_d33e5aada1040c975bde92b13d65fed9.simple_fit'\n",
      "Traceback (most recent call last):\n",
      "  File \"<magic-timeit>\", line 1, in inner\n",
      "ZeroDivisionError: float division\n"
     ]
    },
    {
     "ename": "ZeroDivisionError",
     "evalue": "float division",
     "output_type": "error",
     "traceback": [
      "\u001b[0;31m---------------------------------------------------------------------------\u001b[0m",
      "\u001b[0;31mZeroDivisionError\u001b[0m                         Traceback (most recent call last)",
      "\u001b[0;31mZeroDivisionError\u001b[0m: float division"
     ]
    },
    {
     "name": "stderr",
     "output_type": "stream",
     "text": [
      "Exception ignored in: '_cython_magic_d33e5aada1040c975bde92b13d65fed9.simple_fit'\n",
      "Traceback (most recent call last):\n",
      "  File \"<magic-timeit>\", line 1, in inner\n",
      "ZeroDivisionError: float division\n"
     ]
    },
    {
     "ename": "ZeroDivisionError",
     "evalue": "float division",
     "output_type": "error",
     "traceback": [
      "\u001b[0;31m---------------------------------------------------------------------------\u001b[0m",
      "\u001b[0;31mZeroDivisionError\u001b[0m                         Traceback (most recent call last)",
      "\u001b[0;31mZeroDivisionError\u001b[0m: float division"
     ]
    },
    {
     "name": "stderr",
     "output_type": "stream",
     "text": [
      "Exception ignored in: '_cython_magic_d33e5aada1040c975bde92b13d65fed9.simple_fit'\n",
      "Traceback (most recent call last):\n",
      "  File \"<magic-timeit>\", line 1, in inner\n",
      "ZeroDivisionError: float division\n"
     ]
    },
    {
     "ename": "ZeroDivisionError",
     "evalue": "float division",
     "output_type": "error",
     "traceback": [
      "\u001b[0;31m---------------------------------------------------------------------------\u001b[0m",
      "\u001b[0;31mZeroDivisionError\u001b[0m                         Traceback (most recent call last)",
      "\u001b[0;31mZeroDivisionError\u001b[0m: float division"
     ]
    },
    {
     "name": "stderr",
     "output_type": "stream",
     "text": [
      "Exception ignored in: '_cython_magic_d33e5aada1040c975bde92b13d65fed9.simple_fit'\n",
      "Traceback (most recent call last):\n",
      "  File \"<magic-timeit>\", line 1, in inner\n",
      "ZeroDivisionError: float division\n"
     ]
    },
    {
     "ename": "ZeroDivisionError",
     "evalue": "float division",
     "output_type": "error",
     "traceback": [
      "\u001b[0;31m---------------------------------------------------------------------------\u001b[0m",
      "\u001b[0;31mZeroDivisionError\u001b[0m                         Traceback (most recent call last)",
      "\u001b[0;31mZeroDivisionError\u001b[0m: float division"
     ]
    },
    {
     "name": "stderr",
     "output_type": "stream",
     "text": [
      "Exception ignored in: '_cython_magic_d33e5aada1040c975bde92b13d65fed9.simple_fit'\n",
      "Traceback (most recent call last):\n",
      "  File \"<magic-timeit>\", line 1, in inner\n",
      "ZeroDivisionError: float division\n"
     ]
    },
    {
     "ename": "ZeroDivisionError",
     "evalue": "float division",
     "output_type": "error",
     "traceback": [
      "\u001b[0;31m---------------------------------------------------------------------------\u001b[0m",
      "\u001b[0;31mZeroDivisionError\u001b[0m                         Traceback (most recent call last)",
      "\u001b[0;31mZeroDivisionError\u001b[0m: float division"
     ]
    },
    {
     "name": "stderr",
     "output_type": "stream",
     "text": [
      "Exception ignored in: '_cython_magic_d33e5aada1040c975bde92b13d65fed9.simple_fit'\n",
      "Traceback (most recent call last):\n",
      "  File \"<magic-timeit>\", line 1, in inner\n",
      "ZeroDivisionError: float division\n"
     ]
    },
    {
     "ename": "ZeroDivisionError",
     "evalue": "float division",
     "output_type": "error",
     "traceback": [
      "\u001b[0;31m---------------------------------------------------------------------------\u001b[0m",
      "\u001b[0;31mZeroDivisionError\u001b[0m                         Traceback (most recent call last)",
      "\u001b[0;31mZeroDivisionError\u001b[0m: float division"
     ]
    },
    {
     "name": "stderr",
     "output_type": "stream",
     "text": [
      "Exception ignored in: '_cython_magic_d33e5aada1040c975bde92b13d65fed9.simple_fit'\n",
      "Traceback (most recent call last):\n",
      "  File \"<magic-timeit>\", line 1, in inner\n",
      "ZeroDivisionError: float division\n"
     ]
    },
    {
     "ename": "ZeroDivisionError",
     "evalue": "float division",
     "output_type": "error",
     "traceback": [
      "\u001b[0;31m---------------------------------------------------------------------------\u001b[0m",
      "\u001b[0;31mZeroDivisionError\u001b[0m                         Traceback (most recent call last)",
      "\u001b[0;31mZeroDivisionError\u001b[0m: float division"
     ]
    },
    {
     "name": "stderr",
     "output_type": "stream",
     "text": [
      "Exception ignored in: '_cython_magic_d33e5aada1040c975bde92b13d65fed9.simple_fit'\n",
      "Traceback (most recent call last):\n",
      "  File \"<magic-timeit>\", line 1, in inner\n",
      "ZeroDivisionError: float division\n"
     ]
    },
    {
     "ename": "ZeroDivisionError",
     "evalue": "float division",
     "output_type": "error",
     "traceback": [
      "\u001b[0;31m---------------------------------------------------------------------------\u001b[0m",
      "\u001b[0;31mZeroDivisionError\u001b[0m                         Traceback (most recent call last)",
      "\u001b[0;31mZeroDivisionError\u001b[0m: float division"
     ]
    },
    {
     "name": "stderr",
     "output_type": "stream",
     "text": [
      "Exception ignored in: '_cython_magic_d33e5aada1040c975bde92b13d65fed9.simple_fit'\n",
      "Traceback (most recent call last):\n",
      "  File \"<magic-timeit>\", line 1, in inner\n",
      "ZeroDivisionError: float division\n"
     ]
    },
    {
     "ename": "ZeroDivisionError",
     "evalue": "float division",
     "output_type": "error",
     "traceback": [
      "\u001b[0;31m---------------------------------------------------------------------------\u001b[0m",
      "\u001b[0;31mZeroDivisionError\u001b[0m                         Traceback (most recent call last)",
      "\u001b[0;31mZeroDivisionError\u001b[0m: float division"
     ]
    },
    {
     "name": "stderr",
     "output_type": "stream",
     "text": [
      "Exception ignored in: '_cython_magic_d33e5aada1040c975bde92b13d65fed9.simple_fit'\n",
      "Traceback (most recent call last):\n",
      "  File \"<magic-timeit>\", line 1, in inner\n",
      "ZeroDivisionError: float division\n"
     ]
    },
    {
     "ename": "ZeroDivisionError",
     "evalue": "float division",
     "output_type": "error",
     "traceback": [
      "\u001b[0;31m---------------------------------------------------------------------------\u001b[0m",
      "\u001b[0;31mZeroDivisionError\u001b[0m                         Traceback (most recent call last)",
      "\u001b[0;31mZeroDivisionError\u001b[0m: float division"
     ]
    },
    {
     "name": "stderr",
     "output_type": "stream",
     "text": [
      "Exception ignored in: '_cython_magic_d33e5aada1040c975bde92b13d65fed9.simple_fit'\n",
      "Traceback (most recent call last):\n",
      "  File \"<magic-timeit>\", line 1, in inner\n",
      "ZeroDivisionError: float division\n"
     ]
    },
    {
     "ename": "ZeroDivisionError",
     "evalue": "float division",
     "output_type": "error",
     "traceback": [
      "\u001b[0;31m---------------------------------------------------------------------------\u001b[0m",
      "\u001b[0;31mZeroDivisionError\u001b[0m                         Traceback (most recent call last)",
      "\u001b[0;31mZeroDivisionError\u001b[0m: float division"
     ]
    },
    {
     "name": "stderr",
     "output_type": "stream",
     "text": [
      "Exception ignored in: '_cython_magic_d33e5aada1040c975bde92b13d65fed9.simple_fit'\n",
      "Traceback (most recent call last):\n",
      "  File \"<magic-timeit>\", line 1, in inner\n",
      "ZeroDivisionError: float division\n"
     ]
    },
    {
     "ename": "ZeroDivisionError",
     "evalue": "float division",
     "output_type": "error",
     "traceback": [
      "\u001b[0;31m---------------------------------------------------------------------------\u001b[0m",
      "\u001b[0;31mZeroDivisionError\u001b[0m                         Traceback (most recent call last)",
      "\u001b[0;31mZeroDivisionError\u001b[0m: float division"
     ]
    },
    {
     "name": "stderr",
     "output_type": "stream",
     "text": [
      "Exception ignored in: '_cython_magic_d33e5aada1040c975bde92b13d65fed9.simple_fit'\n",
      "Traceback (most recent call last):\n",
      "  File \"<magic-timeit>\", line 1, in inner\n",
      "ZeroDivisionError: float division\n"
     ]
    },
    {
     "ename": "ZeroDivisionError",
     "evalue": "float division",
     "output_type": "error",
     "traceback": [
      "\u001b[0;31m---------------------------------------------------------------------------\u001b[0m",
      "\u001b[0;31mZeroDivisionError\u001b[0m                         Traceback (most recent call last)",
      "\u001b[0;31mZeroDivisionError\u001b[0m: float division"
     ]
    },
    {
     "name": "stderr",
     "output_type": "stream",
     "text": [
      "Exception ignored in: '_cython_magic_d33e5aada1040c975bde92b13d65fed9.simple_fit'\n",
      "Traceback (most recent call last):\n",
      "  File \"<magic-timeit>\", line 1, in inner\n",
      "ZeroDivisionError: float division\n"
     ]
    },
    {
     "ename": "ZeroDivisionError",
     "evalue": "float division",
     "output_type": "error",
     "traceback": [
      "\u001b[0;31m---------------------------------------------------------------------------\u001b[0m",
      "\u001b[0;31mZeroDivisionError\u001b[0m                         Traceback (most recent call last)",
      "\u001b[0;31mZeroDivisionError\u001b[0m: float division"
     ]
    },
    {
     "name": "stderr",
     "output_type": "stream",
     "text": [
      "Exception ignored in: '_cython_magic_d33e5aada1040c975bde92b13d65fed9.simple_fit'\n",
      "Traceback (most recent call last):\n",
      "  File \"<magic-timeit>\", line 1, in inner\n",
      "ZeroDivisionError: float division\n"
     ]
    },
    {
     "ename": "ZeroDivisionError",
     "evalue": "float division",
     "output_type": "error",
     "traceback": [
      "\u001b[0;31m---------------------------------------------------------------------------\u001b[0m",
      "\u001b[0;31mZeroDivisionError\u001b[0m                         Traceback (most recent call last)",
      "\u001b[0;31mZeroDivisionError\u001b[0m: float division"
     ]
    },
    {
     "name": "stderr",
     "output_type": "stream",
     "text": [
      "Exception ignored in: '_cython_magic_d33e5aada1040c975bde92b13d65fed9.simple_fit'\n",
      "Traceback (most recent call last):\n",
      "  File \"<magic-timeit>\", line 1, in inner\n",
      "ZeroDivisionError: float division\n"
     ]
    },
    {
     "ename": "ZeroDivisionError",
     "evalue": "float division",
     "output_type": "error",
     "traceback": [
      "\u001b[0;31m---------------------------------------------------------------------------\u001b[0m",
      "\u001b[0;31mZeroDivisionError\u001b[0m                         Traceback (most recent call last)",
      "\u001b[0;31mZeroDivisionError\u001b[0m: float division"
     ]
    },
    {
     "name": "stderr",
     "output_type": "stream",
     "text": [
      "Exception ignored in: '_cython_magic_d33e5aada1040c975bde92b13d65fed9.simple_fit'\n",
      "Traceback (most recent call last):\n",
      "  File \"<magic-timeit>\", line 1, in inner\n",
      "ZeroDivisionError: float division\n"
     ]
    },
    {
     "ename": "ZeroDivisionError",
     "evalue": "float division",
     "output_type": "error",
     "traceback": [
      "\u001b[0;31m---------------------------------------------------------------------------\u001b[0m",
      "\u001b[0;31mZeroDivisionError\u001b[0m                         Traceback (most recent call last)",
      "\u001b[0;31mZeroDivisionError\u001b[0m: float division"
     ]
    },
    {
     "name": "stderr",
     "output_type": "stream",
     "text": [
      "Exception ignored in: '_cython_magic_d33e5aada1040c975bde92b13d65fed9.simple_fit'\n",
      "Traceback (most recent call last):\n",
      "  File \"<magic-timeit>\", line 1, in inner\n",
      "ZeroDivisionError: float division\n"
     ]
    },
    {
     "ename": "ZeroDivisionError",
     "evalue": "float division",
     "output_type": "error",
     "traceback": [
      "\u001b[0;31m---------------------------------------------------------------------------\u001b[0m",
      "\u001b[0;31mZeroDivisionError\u001b[0m                         Traceback (most recent call last)",
      "\u001b[0;31mZeroDivisionError\u001b[0m: float division"
     ]
    },
    {
     "name": "stderr",
     "output_type": "stream",
     "text": [
      "Exception ignored in: '_cython_magic_d33e5aada1040c975bde92b13d65fed9.simple_fit'\n",
      "Traceback (most recent call last):\n",
      "  File \"<magic-timeit>\", line 1, in inner\n",
      "ZeroDivisionError: float division\n"
     ]
    },
    {
     "ename": "ZeroDivisionError",
     "evalue": "float division",
     "output_type": "error",
     "traceback": [
      "\u001b[0;31m---------------------------------------------------------------------------\u001b[0m",
      "\u001b[0;31mZeroDivisionError\u001b[0m                         Traceback (most recent call last)",
      "\u001b[0;31mZeroDivisionError\u001b[0m: float division"
     ]
    },
    {
     "name": "stderr",
     "output_type": "stream",
     "text": [
      "Exception ignored in: '_cython_magic_d33e5aada1040c975bde92b13d65fed9.simple_fit'\n",
      "Traceback (most recent call last):\n",
      "  File \"<magic-timeit>\", line 1, in inner\n",
      "ZeroDivisionError: float division\n"
     ]
    },
    {
     "ename": "ZeroDivisionError",
     "evalue": "float division",
     "output_type": "error",
     "traceback": [
      "\u001b[0;31m---------------------------------------------------------------------------\u001b[0m",
      "\u001b[0;31mZeroDivisionError\u001b[0m                         Traceback (most recent call last)",
      "\u001b[0;31mZeroDivisionError\u001b[0m: float division"
     ]
    },
    {
     "name": "stderr",
     "output_type": "stream",
     "text": [
      "Exception ignored in: '_cython_magic_d33e5aada1040c975bde92b13d65fed9.simple_fit'\n",
      "Traceback (most recent call last):\n",
      "  File \"<magic-timeit>\", line 1, in inner\n",
      "ZeroDivisionError: float division\n"
     ]
    },
    {
     "ename": "ZeroDivisionError",
     "evalue": "float division",
     "output_type": "error",
     "traceback": [
      "\u001b[0;31m---------------------------------------------------------------------------\u001b[0m",
      "\u001b[0;31mZeroDivisionError\u001b[0m                         Traceback (most recent call last)",
      "\u001b[0;31mZeroDivisionError\u001b[0m: float division"
     ]
    },
    {
     "name": "stderr",
     "output_type": "stream",
     "text": [
      "Exception ignored in: '_cython_magic_d33e5aada1040c975bde92b13d65fed9.simple_fit'\n",
      "Traceback (most recent call last):\n",
      "  File \"<magic-timeit>\", line 1, in inner\n",
      "ZeroDivisionError: float division\n"
     ]
    },
    {
     "ename": "ZeroDivisionError",
     "evalue": "float division",
     "output_type": "error",
     "traceback": [
      "\u001b[0;31m---------------------------------------------------------------------------\u001b[0m",
      "\u001b[0;31mZeroDivisionError\u001b[0m                         Traceback (most recent call last)",
      "\u001b[0;31mZeroDivisionError\u001b[0m: float division"
     ]
    },
    {
     "name": "stderr",
     "output_type": "stream",
     "text": [
      "Exception ignored in: '_cython_magic_d33e5aada1040c975bde92b13d65fed9.simple_fit'\n",
      "Traceback (most recent call last):\n",
      "  File \"<magic-timeit>\", line 1, in inner\n",
      "ZeroDivisionError: float division\n"
     ]
    },
    {
     "ename": "ZeroDivisionError",
     "evalue": "float division",
     "output_type": "error",
     "traceback": [
      "\u001b[0;31m---------------------------------------------------------------------------\u001b[0m",
      "\u001b[0;31mZeroDivisionError\u001b[0m                         Traceback (most recent call last)",
      "\u001b[0;31mZeroDivisionError\u001b[0m: float division"
     ]
    },
    {
     "name": "stderr",
     "output_type": "stream",
     "text": [
      "Exception ignored in: '_cython_magic_d33e5aada1040c975bde92b13d65fed9.simple_fit'\n",
      "Traceback (most recent call last):\n",
      "  File \"<magic-timeit>\", line 1, in inner\n",
      "ZeroDivisionError: float division\n"
     ]
    },
    {
     "ename": "ZeroDivisionError",
     "evalue": "float division",
     "output_type": "error",
     "traceback": [
      "\u001b[0;31m---------------------------------------------------------------------------\u001b[0m",
      "\u001b[0;31mZeroDivisionError\u001b[0m                         Traceback (most recent call last)",
      "\u001b[0;31mZeroDivisionError\u001b[0m: float division"
     ]
    },
    {
     "name": "stderr",
     "output_type": "stream",
     "text": [
      "Exception ignored in: '_cython_magic_d33e5aada1040c975bde92b13d65fed9.simple_fit'\n",
      "Traceback (most recent call last):\n",
      "  File \"<magic-timeit>\", line 1, in inner\n",
      "ZeroDivisionError: float division\n"
     ]
    },
    {
     "ename": "ZeroDivisionError",
     "evalue": "float division",
     "output_type": "error",
     "traceback": [
      "\u001b[0;31m---------------------------------------------------------------------------\u001b[0m",
      "\u001b[0;31mZeroDivisionError\u001b[0m                         Traceback (most recent call last)",
      "\u001b[0;31mZeroDivisionError\u001b[0m: float division"
     ]
    },
    {
     "name": "stderr",
     "output_type": "stream",
     "text": [
      "Exception ignored in: '_cython_magic_d33e5aada1040c975bde92b13d65fed9.simple_fit'\n",
      "Traceback (most recent call last):\n",
      "  File \"<magic-timeit>\", line 1, in inner\n",
      "ZeroDivisionError: float division\n"
     ]
    },
    {
     "ename": "ZeroDivisionError",
     "evalue": "float division",
     "output_type": "error",
     "traceback": [
      "\u001b[0;31m---------------------------------------------------------------------------\u001b[0m",
      "\u001b[0;31mZeroDivisionError\u001b[0m                         Traceback (most recent call last)",
      "\u001b[0;31mZeroDivisionError\u001b[0m: float division"
     ]
    },
    {
     "name": "stderr",
     "output_type": "stream",
     "text": [
      "Exception ignored in: '_cython_magic_d33e5aada1040c975bde92b13d65fed9.simple_fit'\n",
      "Traceback (most recent call last):\n",
      "  File \"<magic-timeit>\", line 1, in inner\n",
      "ZeroDivisionError: float division\n"
     ]
    },
    {
     "ename": "ZeroDivisionError",
     "evalue": "float division",
     "output_type": "error",
     "traceback": [
      "\u001b[0;31m---------------------------------------------------------------------------\u001b[0m",
      "\u001b[0;31mZeroDivisionError\u001b[0m                         Traceback (most recent call last)",
      "\u001b[0;31mZeroDivisionError\u001b[0m: float division"
     ]
    },
    {
     "name": "stderr",
     "output_type": "stream",
     "text": [
      "Exception ignored in: '_cython_magic_d33e5aada1040c975bde92b13d65fed9.simple_fit'\n",
      "Traceback (most recent call last):\n",
      "  File \"<magic-timeit>\", line 1, in inner\n",
      "ZeroDivisionError: float division\n"
     ]
    },
    {
     "ename": "ZeroDivisionError",
     "evalue": "float division",
     "output_type": "error",
     "traceback": [
      "\u001b[0;31m---------------------------------------------------------------------------\u001b[0m",
      "\u001b[0;31mZeroDivisionError\u001b[0m                         Traceback (most recent call last)",
      "\u001b[0;31mZeroDivisionError\u001b[0m: float division"
     ]
    },
    {
     "name": "stderr",
     "output_type": "stream",
     "text": [
      "Exception ignored in: '_cython_magic_d33e5aada1040c975bde92b13d65fed9.simple_fit'\n",
      "Traceback (most recent call last):\n",
      "  File \"<magic-timeit>\", line 1, in inner\n",
      "ZeroDivisionError: float division\n"
     ]
    },
    {
     "ename": "ZeroDivisionError",
     "evalue": "float division",
     "output_type": "error",
     "traceback": [
      "\u001b[0;31m---------------------------------------------------------------------------\u001b[0m",
      "\u001b[0;31mZeroDivisionError\u001b[0m                         Traceback (most recent call last)",
      "\u001b[0;31mZeroDivisionError\u001b[0m: float division"
     ]
    },
    {
     "name": "stderr",
     "output_type": "stream",
     "text": [
      "Exception ignored in: '_cython_magic_d33e5aada1040c975bde92b13d65fed9.simple_fit'\n",
      "Traceback (most recent call last):\n",
      "  File \"<magic-timeit>\", line 1, in inner\n",
      "ZeroDivisionError: float division\n"
     ]
    },
    {
     "ename": "ZeroDivisionError",
     "evalue": "float division",
     "output_type": "error",
     "traceback": [
      "\u001b[0;31m---------------------------------------------------------------------------\u001b[0m",
      "\u001b[0;31mZeroDivisionError\u001b[0m                         Traceback (most recent call last)",
      "\u001b[0;31mZeroDivisionError\u001b[0m: float division"
     ]
    },
    {
     "name": "stderr",
     "output_type": "stream",
     "text": [
      "Exception ignored in: '_cython_magic_d33e5aada1040c975bde92b13d65fed9.simple_fit'\n",
      "Traceback (most recent call last):\n",
      "  File \"<magic-timeit>\", line 1, in inner\n",
      "ZeroDivisionError: float division\n"
     ]
    },
    {
     "ename": "ZeroDivisionError",
     "evalue": "float division",
     "output_type": "error",
     "traceback": [
      "\u001b[0;31m---------------------------------------------------------------------------\u001b[0m",
      "\u001b[0;31mZeroDivisionError\u001b[0m                         Traceback (most recent call last)",
      "\u001b[0;31mZeroDivisionError\u001b[0m: float division"
     ]
    },
    {
     "name": "stderr",
     "output_type": "stream",
     "text": [
      "Exception ignored in: '_cython_magic_d33e5aada1040c975bde92b13d65fed9.simple_fit'\n",
      "Traceback (most recent call last):\n",
      "  File \"<magic-timeit>\", line 1, in inner\n",
      "ZeroDivisionError: float division\n"
     ]
    },
    {
     "ename": "ZeroDivisionError",
     "evalue": "float division",
     "output_type": "error",
     "traceback": [
      "\u001b[0;31m---------------------------------------------------------------------------\u001b[0m",
      "\u001b[0;31mZeroDivisionError\u001b[0m                         Traceback (most recent call last)",
      "\u001b[0;31mZeroDivisionError\u001b[0m: float division"
     ]
    },
    {
     "name": "stderr",
     "output_type": "stream",
     "text": [
      "Exception ignored in: '_cython_magic_d33e5aada1040c975bde92b13d65fed9.simple_fit'\n",
      "Traceback (most recent call last):\n",
      "  File \"<magic-timeit>\", line 1, in inner\n",
      "ZeroDivisionError: float division\n"
     ]
    },
    {
     "ename": "ZeroDivisionError",
     "evalue": "float division",
     "output_type": "error",
     "traceback": [
      "\u001b[0;31m---------------------------------------------------------------------------\u001b[0m",
      "\u001b[0;31mZeroDivisionError\u001b[0m                         Traceback (most recent call last)",
      "\u001b[0;31mZeroDivisionError\u001b[0m: float division"
     ]
    },
    {
     "name": "stderr",
     "output_type": "stream",
     "text": [
      "Exception ignored in: '_cython_magic_d33e5aada1040c975bde92b13d65fed9.simple_fit'\n",
      "Traceback (most recent call last):\n",
      "  File \"<magic-timeit>\", line 1, in inner\n",
      "ZeroDivisionError: float division\n"
     ]
    },
    {
     "ename": "ZeroDivisionError",
     "evalue": "float division",
     "output_type": "error",
     "traceback": [
      "\u001b[0;31m---------------------------------------------------------------------------\u001b[0m",
      "\u001b[0;31mZeroDivisionError\u001b[0m                         Traceback (most recent call last)",
      "\u001b[0;31mZeroDivisionError\u001b[0m: float division"
     ]
    },
    {
     "name": "stderr",
     "output_type": "stream",
     "text": [
      "Exception ignored in: '_cython_magic_d33e5aada1040c975bde92b13d65fed9.simple_fit'\n",
      "Traceback (most recent call last):\n",
      "  File \"<magic-timeit>\", line 1, in inner\n",
      "ZeroDivisionError: float division\n"
     ]
    },
    {
     "ename": "ZeroDivisionError",
     "evalue": "float division",
     "output_type": "error",
     "traceback": [
      "\u001b[0;31m---------------------------------------------------------------------------\u001b[0m",
      "\u001b[0;31mZeroDivisionError\u001b[0m                         Traceback (most recent call last)",
      "\u001b[0;31mZeroDivisionError\u001b[0m: float division"
     ]
    },
    {
     "name": "stderr",
     "output_type": "stream",
     "text": [
      "Exception ignored in: '_cython_magic_d33e5aada1040c975bde92b13d65fed9.simple_fit'\n",
      "Traceback (most recent call last):\n",
      "  File \"<magic-timeit>\", line 1, in inner\n",
      "ZeroDivisionError: float division\n"
     ]
    },
    {
     "ename": "ZeroDivisionError",
     "evalue": "float division",
     "output_type": "error",
     "traceback": [
      "\u001b[0;31m---------------------------------------------------------------------------\u001b[0m",
      "\u001b[0;31mZeroDivisionError\u001b[0m                         Traceback (most recent call last)",
      "\u001b[0;31mZeroDivisionError\u001b[0m: float division"
     ]
    },
    {
     "name": "stderr",
     "output_type": "stream",
     "text": [
      "Exception ignored in: '_cython_magic_d33e5aada1040c975bde92b13d65fed9.simple_fit'\n",
      "Traceback (most recent call last):\n",
      "  File \"<magic-timeit>\", line 1, in inner\n",
      "ZeroDivisionError: float division\n"
     ]
    },
    {
     "ename": "ZeroDivisionError",
     "evalue": "float division",
     "output_type": "error",
     "traceback": [
      "\u001b[0;31m---------------------------------------------------------------------------\u001b[0m",
      "\u001b[0;31mZeroDivisionError\u001b[0m                         Traceback (most recent call last)",
      "\u001b[0;31mZeroDivisionError\u001b[0m: float division"
     ]
    },
    {
     "name": "stderr",
     "output_type": "stream",
     "text": [
      "Exception ignored in: '_cython_magic_d33e5aada1040c975bde92b13d65fed9.simple_fit'\n",
      "Traceback (most recent call last):\n",
      "  File \"<magic-timeit>\", line 1, in inner\n",
      "ZeroDivisionError: float division\n"
     ]
    },
    {
     "ename": "ZeroDivisionError",
     "evalue": "float division",
     "output_type": "error",
     "traceback": [
      "\u001b[0;31m---------------------------------------------------------------------------\u001b[0m",
      "\u001b[0;31mZeroDivisionError\u001b[0m                         Traceback (most recent call last)",
      "\u001b[0;31mZeroDivisionError\u001b[0m: float division"
     ]
    },
    {
     "name": "stderr",
     "output_type": "stream",
     "text": [
      "Exception ignored in: '_cython_magic_d33e5aada1040c975bde92b13d65fed9.simple_fit'\n",
      "Traceback (most recent call last):\n",
      "  File \"<magic-timeit>\", line 1, in inner\n",
      "ZeroDivisionError: float division\n"
     ]
    },
    {
     "ename": "ZeroDivisionError",
     "evalue": "float division",
     "output_type": "error",
     "traceback": [
      "\u001b[0;31m---------------------------------------------------------------------------\u001b[0m",
      "\u001b[0;31mZeroDivisionError\u001b[0m                         Traceback (most recent call last)",
      "\u001b[0;31mZeroDivisionError\u001b[0m: float division"
     ]
    },
    {
     "name": "stderr",
     "output_type": "stream",
     "text": [
      "Exception ignored in: '_cython_magic_d33e5aada1040c975bde92b13d65fed9.simple_fit'\n",
      "Traceback (most recent call last):\n",
      "  File \"<magic-timeit>\", line 1, in inner\n",
      "ZeroDivisionError: float division\n"
     ]
    },
    {
     "ename": "ZeroDivisionError",
     "evalue": "float division",
     "output_type": "error",
     "traceback": [
      "\u001b[0;31m---------------------------------------------------------------------------\u001b[0m",
      "\u001b[0;31mZeroDivisionError\u001b[0m                         Traceback (most recent call last)",
      "\u001b[0;31mZeroDivisionError\u001b[0m: float division"
     ]
    },
    {
     "name": "stderr",
     "output_type": "stream",
     "text": [
      "Exception ignored in: '_cython_magic_d33e5aada1040c975bde92b13d65fed9.simple_fit'\n",
      "Traceback (most recent call last):\n",
      "  File \"<magic-timeit>\", line 1, in inner\n",
      "ZeroDivisionError: float division\n"
     ]
    },
    {
     "ename": "ZeroDivisionError",
     "evalue": "float division",
     "output_type": "error",
     "traceback": [
      "\u001b[0;31m---------------------------------------------------------------------------\u001b[0m",
      "\u001b[0;31mZeroDivisionError\u001b[0m                         Traceback (most recent call last)",
      "\u001b[0;31mZeroDivisionError\u001b[0m: float division"
     ]
    },
    {
     "name": "stderr",
     "output_type": "stream",
     "text": [
      "Exception ignored in: '_cython_magic_d33e5aada1040c975bde92b13d65fed9.simple_fit'\n",
      "Traceback (most recent call last):\n",
      "  File \"<magic-timeit>\", line 1, in inner\n",
      "ZeroDivisionError: float division\n"
     ]
    },
    {
     "ename": "ZeroDivisionError",
     "evalue": "float division",
     "output_type": "error",
     "traceback": [
      "\u001b[0;31m---------------------------------------------------------------------------\u001b[0m",
      "\u001b[0;31mZeroDivisionError\u001b[0m                         Traceback (most recent call last)",
      "\u001b[0;31mZeroDivisionError\u001b[0m: float division"
     ]
    },
    {
     "name": "stderr",
     "output_type": "stream",
     "text": [
      "Exception ignored in: '_cython_magic_d33e5aada1040c975bde92b13d65fed9.simple_fit'\n",
      "Traceback (most recent call last):\n",
      "  File \"<magic-timeit>\", line 1, in inner\n",
      "ZeroDivisionError: float division\n"
     ]
    },
    {
     "ename": "ZeroDivisionError",
     "evalue": "float division",
     "output_type": "error",
     "traceback": [
      "\u001b[0;31m---------------------------------------------------------------------------\u001b[0m",
      "\u001b[0;31mZeroDivisionError\u001b[0m                         Traceback (most recent call last)",
      "\u001b[0;31mZeroDivisionError\u001b[0m: float division"
     ]
    },
    {
     "name": "stderr",
     "output_type": "stream",
     "text": [
      "Exception ignored in: '_cython_magic_d33e5aada1040c975bde92b13d65fed9.simple_fit'\n",
      "Traceback (most recent call last):\n",
      "  File \"<magic-timeit>\", line 1, in inner\n",
      "ZeroDivisionError: float division\n"
     ]
    },
    {
     "ename": "ZeroDivisionError",
     "evalue": "float division",
     "output_type": "error",
     "traceback": [
      "\u001b[0;31m---------------------------------------------------------------------------\u001b[0m",
      "\u001b[0;31mZeroDivisionError\u001b[0m                         Traceback (most recent call last)",
      "\u001b[0;31mZeroDivisionError\u001b[0m: float division"
     ]
    },
    {
     "name": "stderr",
     "output_type": "stream",
     "text": [
      "Exception ignored in: '_cython_magic_d33e5aada1040c975bde92b13d65fed9.simple_fit'\n",
      "Traceback (most recent call last):\n",
      "  File \"<magic-timeit>\", line 1, in inner\n",
      "ZeroDivisionError: float division\n"
     ]
    },
    {
     "ename": "ZeroDivisionError",
     "evalue": "float division",
     "output_type": "error",
     "traceback": [
      "\u001b[0;31m---------------------------------------------------------------------------\u001b[0m",
      "\u001b[0;31mZeroDivisionError\u001b[0m                         Traceback (most recent call last)",
      "\u001b[0;31mZeroDivisionError\u001b[0m: float division"
     ]
    },
    {
     "name": "stderr",
     "output_type": "stream",
     "text": [
      "Exception ignored in: '_cython_magic_d33e5aada1040c975bde92b13d65fed9.simple_fit'\n",
      "Traceback (most recent call last):\n",
      "  File \"<magic-timeit>\", line 1, in inner\n",
      "ZeroDivisionError: float division\n"
     ]
    },
    {
     "ename": "ZeroDivisionError",
     "evalue": "float division",
     "output_type": "error",
     "traceback": [
      "\u001b[0;31m---------------------------------------------------------------------------\u001b[0m",
      "\u001b[0;31mZeroDivisionError\u001b[0m                         Traceback (most recent call last)",
      "\u001b[0;31mZeroDivisionError\u001b[0m: float division"
     ]
    },
    {
     "name": "stderr",
     "output_type": "stream",
     "text": [
      "Exception ignored in: '_cython_magic_d33e5aada1040c975bde92b13d65fed9.simple_fit'\n",
      "Traceback (most recent call last):\n",
      "  File \"<magic-timeit>\", line 1, in inner\n",
      "ZeroDivisionError: float division\n"
     ]
    },
    {
     "ename": "ZeroDivisionError",
     "evalue": "float division",
     "output_type": "error",
     "traceback": [
      "\u001b[0;31m---------------------------------------------------------------------------\u001b[0m",
      "\u001b[0;31mZeroDivisionError\u001b[0m                         Traceback (most recent call last)",
      "\u001b[0;31mZeroDivisionError\u001b[0m: float division"
     ]
    },
    {
     "name": "stderr",
     "output_type": "stream",
     "text": [
      "Exception ignored in: '_cython_magic_d33e5aada1040c975bde92b13d65fed9.simple_fit'\n",
      "Traceback (most recent call last):\n",
      "  File \"<magic-timeit>\", line 1, in inner\n",
      "ZeroDivisionError: float division\n"
     ]
    },
    {
     "ename": "ZeroDivisionError",
     "evalue": "float division",
     "output_type": "error",
     "traceback": [
      "\u001b[0;31m---------------------------------------------------------------------------\u001b[0m",
      "\u001b[0;31mZeroDivisionError\u001b[0m                         Traceback (most recent call last)",
      "\u001b[0;31mZeroDivisionError\u001b[0m: float division"
     ]
    },
    {
     "name": "stderr",
     "output_type": "stream",
     "text": [
      "Exception ignored in: '_cython_magic_d33e5aada1040c975bde92b13d65fed9.simple_fit'\n",
      "Traceback (most recent call last):\n",
      "  File \"<magic-timeit>\", line 1, in inner\n",
      "ZeroDivisionError: float division\n"
     ]
    },
    {
     "ename": "ZeroDivisionError",
     "evalue": "float division",
     "output_type": "error",
     "traceback": [
      "\u001b[0;31m---------------------------------------------------------------------------\u001b[0m",
      "\u001b[0;31mZeroDivisionError\u001b[0m                         Traceback (most recent call last)",
      "\u001b[0;31mZeroDivisionError\u001b[0m: float division"
     ]
    },
    {
     "name": "stderr",
     "output_type": "stream",
     "text": [
      "Exception ignored in: '_cython_magic_d33e5aada1040c975bde92b13d65fed9.simple_fit'\n",
      "Traceback (most recent call last):\n",
      "  File \"<magic-timeit>\", line 1, in inner\n",
      "ZeroDivisionError: float division\n"
     ]
    },
    {
     "ename": "ZeroDivisionError",
     "evalue": "float division",
     "output_type": "error",
     "traceback": [
      "\u001b[0;31m---------------------------------------------------------------------------\u001b[0m",
      "\u001b[0;31mZeroDivisionError\u001b[0m                         Traceback (most recent call last)",
      "\u001b[0;31mZeroDivisionError\u001b[0m: float division"
     ]
    },
    {
     "name": "stderr",
     "output_type": "stream",
     "text": [
      "Exception ignored in: '_cython_magic_d33e5aada1040c975bde92b13d65fed9.simple_fit'\n",
      "Traceback (most recent call last):\n",
      "  File \"<magic-timeit>\", line 1, in inner\n",
      "ZeroDivisionError: float division\n"
     ]
    },
    {
     "ename": "ZeroDivisionError",
     "evalue": "float division",
     "output_type": "error",
     "traceback": [
      "\u001b[0;31m---------------------------------------------------------------------------\u001b[0m",
      "\u001b[0;31mZeroDivisionError\u001b[0m                         Traceback (most recent call last)",
      "\u001b[0;31mZeroDivisionError\u001b[0m: float division"
     ]
    },
    {
     "name": "stderr",
     "output_type": "stream",
     "text": [
      "Exception ignored in: '_cython_magic_d33e5aada1040c975bde92b13d65fed9.simple_fit'\n",
      "Traceback (most recent call last):\n",
      "  File \"<magic-timeit>\", line 1, in inner\n",
      "ZeroDivisionError: float division\n"
     ]
    },
    {
     "ename": "ZeroDivisionError",
     "evalue": "float division",
     "output_type": "error",
     "traceback": [
      "\u001b[0;31m---------------------------------------------------------------------------\u001b[0m",
      "\u001b[0;31mZeroDivisionError\u001b[0m                         Traceback (most recent call last)",
      "\u001b[0;31mZeroDivisionError\u001b[0m: float division"
     ]
    },
    {
     "name": "stderr",
     "output_type": "stream",
     "text": [
      "Exception ignored in: '_cython_magic_d33e5aada1040c975bde92b13d65fed9.simple_fit'\n",
      "Traceback (most recent call last):\n",
      "  File \"<magic-timeit>\", line 1, in inner\n",
      "ZeroDivisionError: float division\n"
     ]
    },
    {
     "ename": "ZeroDivisionError",
     "evalue": "float division",
     "output_type": "error",
     "traceback": [
      "\u001b[0;31m---------------------------------------------------------------------------\u001b[0m",
      "\u001b[0;31mZeroDivisionError\u001b[0m                         Traceback (most recent call last)",
      "\u001b[0;31mZeroDivisionError\u001b[0m: float division"
     ]
    },
    {
     "name": "stderr",
     "output_type": "stream",
     "text": [
      "Exception ignored in: '_cython_magic_d33e5aada1040c975bde92b13d65fed9.simple_fit'\n",
      "Traceback (most recent call last):\n",
      "  File \"<magic-timeit>\", line 1, in inner\n",
      "ZeroDivisionError: float division\n"
     ]
    },
    {
     "ename": "ZeroDivisionError",
     "evalue": "float division",
     "output_type": "error",
     "traceback": [
      "\u001b[0;31m---------------------------------------------------------------------------\u001b[0m",
      "\u001b[0;31mZeroDivisionError\u001b[0m                         Traceback (most recent call last)",
      "\u001b[0;31mZeroDivisionError\u001b[0m: float division"
     ]
    },
    {
     "name": "stderr",
     "output_type": "stream",
     "text": [
      "Exception ignored in: '_cython_magic_d33e5aada1040c975bde92b13d65fed9.simple_fit'\n",
      "Traceback (most recent call last):\n",
      "  File \"<magic-timeit>\", line 1, in inner\n",
      "ZeroDivisionError: float division\n"
     ]
    },
    {
     "ename": "ZeroDivisionError",
     "evalue": "float division",
     "output_type": "error",
     "traceback": [
      "\u001b[0;31m---------------------------------------------------------------------------\u001b[0m",
      "\u001b[0;31mZeroDivisionError\u001b[0m                         Traceback (most recent call last)",
      "\u001b[0;31mZeroDivisionError\u001b[0m: float division"
     ]
    },
    {
     "name": "stderr",
     "output_type": "stream",
     "text": [
      "Exception ignored in: '_cython_magic_d33e5aada1040c975bde92b13d65fed9.simple_fit'\n",
      "Traceback (most recent call last):\n",
      "  File \"<magic-timeit>\", line 1, in inner\n",
      "ZeroDivisionError: float division\n"
     ]
    },
    {
     "ename": "ZeroDivisionError",
     "evalue": "float division",
     "output_type": "error",
     "traceback": [
      "\u001b[0;31m---------------------------------------------------------------------------\u001b[0m",
      "\u001b[0;31mZeroDivisionError\u001b[0m                         Traceback (most recent call last)",
      "\u001b[0;31mZeroDivisionError\u001b[0m: float division"
     ]
    },
    {
     "name": "stderr",
     "output_type": "stream",
     "text": [
      "Exception ignored in: '_cython_magic_d33e5aada1040c975bde92b13d65fed9.simple_fit'\n",
      "Traceback (most recent call last):\n",
      "  File \"<magic-timeit>\", line 1, in inner\n",
      "ZeroDivisionError: float division\n"
     ]
    },
    {
     "ename": "ZeroDivisionError",
     "evalue": "float division",
     "output_type": "error",
     "traceback": [
      "\u001b[0;31m---------------------------------------------------------------------------\u001b[0m",
      "\u001b[0;31mZeroDivisionError\u001b[0m                         Traceback (most recent call last)",
      "\u001b[0;31mZeroDivisionError\u001b[0m: float division"
     ]
    },
    {
     "name": "stderr",
     "output_type": "stream",
     "text": [
      "Exception ignored in: '_cython_magic_d33e5aada1040c975bde92b13d65fed9.simple_fit'\n",
      "Traceback (most recent call last):\n",
      "  File \"<magic-timeit>\", line 1, in inner\n",
      "ZeroDivisionError: float division\n"
     ]
    },
    {
     "ename": "ZeroDivisionError",
     "evalue": "float division",
     "output_type": "error",
     "traceback": [
      "\u001b[0;31m---------------------------------------------------------------------------\u001b[0m",
      "\u001b[0;31mZeroDivisionError\u001b[0m                         Traceback (most recent call last)",
      "\u001b[0;31mZeroDivisionError\u001b[0m: float division"
     ]
    },
    {
     "name": "stderr",
     "output_type": "stream",
     "text": [
      "Exception ignored in: '_cython_magic_d33e5aada1040c975bde92b13d65fed9.simple_fit'\n",
      "Traceback (most recent call last):\n",
      "  File \"<magic-timeit>\", line 1, in inner\n",
      "ZeroDivisionError: float division\n"
     ]
    },
    {
     "ename": "ZeroDivisionError",
     "evalue": "float division",
     "output_type": "error",
     "traceback": [
      "\u001b[0;31m---------------------------------------------------------------------------\u001b[0m",
      "\u001b[0;31mZeroDivisionError\u001b[0m                         Traceback (most recent call last)",
      "\u001b[0;31mZeroDivisionError\u001b[0m: float division"
     ]
    },
    {
     "name": "stderr",
     "output_type": "stream",
     "text": [
      "Exception ignored in: '_cython_magic_d33e5aada1040c975bde92b13d65fed9.simple_fit'\n",
      "Traceback (most recent call last):\n",
      "  File \"<magic-timeit>\", line 1, in inner\n",
      "ZeroDivisionError: float division\n"
     ]
    },
    {
     "ename": "ZeroDivisionError",
     "evalue": "float division",
     "output_type": "error",
     "traceback": [
      "\u001b[0;31m---------------------------------------------------------------------------\u001b[0m",
      "\u001b[0;31mZeroDivisionError\u001b[0m                         Traceback (most recent call last)",
      "\u001b[0;31mZeroDivisionError\u001b[0m: float division"
     ]
    },
    {
     "name": "stderr",
     "output_type": "stream",
     "text": [
      "Exception ignored in: '_cython_magic_d33e5aada1040c975bde92b13d65fed9.simple_fit'\n",
      "Traceback (most recent call last):\n",
      "  File \"<magic-timeit>\", line 1, in inner\n",
      "ZeroDivisionError: float division\n"
     ]
    },
    {
     "ename": "ZeroDivisionError",
     "evalue": "float division",
     "output_type": "error",
     "traceback": [
      "\u001b[0;31m---------------------------------------------------------------------------\u001b[0m",
      "\u001b[0;31mZeroDivisionError\u001b[0m                         Traceback (most recent call last)",
      "\u001b[0;31mZeroDivisionError\u001b[0m: float division"
     ]
    },
    {
     "name": "stderr",
     "output_type": "stream",
     "text": [
      "Exception ignored in: '_cython_magic_d33e5aada1040c975bde92b13d65fed9.simple_fit'\n",
      "Traceback (most recent call last):\n",
      "  File \"<magic-timeit>\", line 1, in inner\n",
      "ZeroDivisionError: float division\n"
     ]
    },
    {
     "ename": "ZeroDivisionError",
     "evalue": "float division",
     "output_type": "error",
     "traceback": [
      "\u001b[0;31m---------------------------------------------------------------------------\u001b[0m",
      "\u001b[0;31mZeroDivisionError\u001b[0m                         Traceback (most recent call last)",
      "\u001b[0;31mZeroDivisionError\u001b[0m: float division"
     ]
    },
    {
     "name": "stderr",
     "output_type": "stream",
     "text": [
      "Exception ignored in: '_cython_magic_d33e5aada1040c975bde92b13d65fed9.simple_fit'\n",
      "Traceback (most recent call last):\n",
      "  File \"<magic-timeit>\", line 1, in inner\n",
      "ZeroDivisionError: float division\n"
     ]
    },
    {
     "ename": "ZeroDivisionError",
     "evalue": "float division",
     "output_type": "error",
     "traceback": [
      "\u001b[0;31m---------------------------------------------------------------------------\u001b[0m",
      "\u001b[0;31mZeroDivisionError\u001b[0m                         Traceback (most recent call last)",
      "\u001b[0;31mZeroDivisionError\u001b[0m: float division"
     ]
    },
    {
     "name": "stderr",
     "output_type": "stream",
     "text": [
      "Exception ignored in: '_cython_magic_d33e5aada1040c975bde92b13d65fed9.simple_fit'\n",
      "Traceback (most recent call last):\n",
      "  File \"<magic-timeit>\", line 1, in inner\n",
      "ZeroDivisionError: float division\n"
     ]
    },
    {
     "ename": "ZeroDivisionError",
     "evalue": "float division",
     "output_type": "error",
     "traceback": [
      "\u001b[0;31m---------------------------------------------------------------------------\u001b[0m",
      "\u001b[0;31mZeroDivisionError\u001b[0m                         Traceback (most recent call last)",
      "\u001b[0;31mZeroDivisionError\u001b[0m: float division"
     ]
    },
    {
     "name": "stderr",
     "output_type": "stream",
     "text": [
      "Exception ignored in: '_cython_magic_d33e5aada1040c975bde92b13d65fed9.simple_fit'\n",
      "Traceback (most recent call last):\n",
      "  File \"<magic-timeit>\", line 1, in inner\n",
      "ZeroDivisionError: float division\n"
     ]
    },
    {
     "ename": "ZeroDivisionError",
     "evalue": "float division",
     "output_type": "error",
     "traceback": [
      "\u001b[0;31m---------------------------------------------------------------------------\u001b[0m",
      "\u001b[0;31mZeroDivisionError\u001b[0m                         Traceback (most recent call last)",
      "\u001b[0;31mZeroDivisionError\u001b[0m: float division"
     ]
    },
    {
     "name": "stderr",
     "output_type": "stream",
     "text": [
      "Exception ignored in: '_cython_magic_d33e5aada1040c975bde92b13d65fed9.simple_fit'\n",
      "Traceback (most recent call last):\n",
      "  File \"<magic-timeit>\", line 1, in inner\n",
      "ZeroDivisionError: float division\n"
     ]
    },
    {
     "ename": "ZeroDivisionError",
     "evalue": "float division",
     "output_type": "error",
     "traceback": [
      "\u001b[0;31m---------------------------------------------------------------------------\u001b[0m",
      "\u001b[0;31mZeroDivisionError\u001b[0m                         Traceback (most recent call last)",
      "\u001b[0;31mZeroDivisionError\u001b[0m: float division"
     ]
    },
    {
     "name": "stderr",
     "output_type": "stream",
     "text": [
      "Exception ignored in: '_cython_magic_d33e5aada1040c975bde92b13d65fed9.simple_fit'\n",
      "Traceback (most recent call last):\n",
      "  File \"<magic-timeit>\", line 1, in inner\n",
      "ZeroDivisionError: float division\n"
     ]
    },
    {
     "ename": "ZeroDivisionError",
     "evalue": "float division",
     "output_type": "error",
     "traceback": [
      "\u001b[0;31m---------------------------------------------------------------------------\u001b[0m",
      "\u001b[0;31mZeroDivisionError\u001b[0m                         Traceback (most recent call last)",
      "\u001b[0;31mZeroDivisionError\u001b[0m: float division"
     ]
    },
    {
     "name": "stderr",
     "output_type": "stream",
     "text": [
      "Exception ignored in: '_cython_magic_d33e5aada1040c975bde92b13d65fed9.simple_fit'\n",
      "Traceback (most recent call last):\n",
      "  File \"<magic-timeit>\", line 1, in inner\n",
      "ZeroDivisionError: float division\n"
     ]
    },
    {
     "ename": "ZeroDivisionError",
     "evalue": "float division",
     "output_type": "error",
     "traceback": [
      "\u001b[0;31m---------------------------------------------------------------------------\u001b[0m",
      "\u001b[0;31mZeroDivisionError\u001b[0m                         Traceback (most recent call last)",
      "\u001b[0;31mZeroDivisionError\u001b[0m: float division"
     ]
    },
    {
     "name": "stderr",
     "output_type": "stream",
     "text": [
      "Exception ignored in: '_cython_magic_d33e5aada1040c975bde92b13d65fed9.simple_fit'\n",
      "Traceback (most recent call last):\n",
      "  File \"<magic-timeit>\", line 1, in inner\n",
      "ZeroDivisionError: float division\n"
     ]
    },
    {
     "ename": "ZeroDivisionError",
     "evalue": "float division",
     "output_type": "error",
     "traceback": [
      "\u001b[0;31m---------------------------------------------------------------------------\u001b[0m",
      "\u001b[0;31mZeroDivisionError\u001b[0m                         Traceback (most recent call last)",
      "\u001b[0;31mZeroDivisionError\u001b[0m: float division"
     ]
    },
    {
     "name": "stderr",
     "output_type": "stream",
     "text": [
      "Exception ignored in: '_cython_magic_d33e5aada1040c975bde92b13d65fed9.simple_fit'\n",
      "Traceback (most recent call last):\n",
      "  File \"<magic-timeit>\", line 1, in inner\n",
      "ZeroDivisionError: float division\n"
     ]
    },
    {
     "ename": "ZeroDivisionError",
     "evalue": "float division",
     "output_type": "error",
     "traceback": [
      "\u001b[0;31m---------------------------------------------------------------------------\u001b[0m",
      "\u001b[0;31mZeroDivisionError\u001b[0m                         Traceback (most recent call last)",
      "\u001b[0;31mZeroDivisionError\u001b[0m: float division"
     ]
    },
    {
     "name": "stderr",
     "output_type": "stream",
     "text": [
      "Exception ignored in: '_cython_magic_d33e5aada1040c975bde92b13d65fed9.simple_fit'\n",
      "Traceback (most recent call last):\n",
      "  File \"<magic-timeit>\", line 1, in inner\n",
      "ZeroDivisionError: float division\n"
     ]
    },
    {
     "ename": "ZeroDivisionError",
     "evalue": "float division",
     "output_type": "error",
     "traceback": [
      "\u001b[0;31m---------------------------------------------------------------------------\u001b[0m",
      "\u001b[0;31mZeroDivisionError\u001b[0m                         Traceback (most recent call last)",
      "\u001b[0;31mZeroDivisionError\u001b[0m: float division"
     ]
    },
    {
     "name": "stderr",
     "output_type": "stream",
     "text": [
      "Exception ignored in: '_cython_magic_d33e5aada1040c975bde92b13d65fed9.simple_fit'\n",
      "Traceback (most recent call last):\n",
      "  File \"<magic-timeit>\", line 1, in inner\n",
      "ZeroDivisionError: float division\n"
     ]
    },
    {
     "ename": "ZeroDivisionError",
     "evalue": "float division",
     "output_type": "error",
     "traceback": [
      "\u001b[0;31m---------------------------------------------------------------------------\u001b[0m",
      "\u001b[0;31mZeroDivisionError\u001b[0m                         Traceback (most recent call last)",
      "\u001b[0;31mZeroDivisionError\u001b[0m: float division"
     ]
    },
    {
     "name": "stderr",
     "output_type": "stream",
     "text": [
      "Exception ignored in: '_cython_magic_d33e5aada1040c975bde92b13d65fed9.simple_fit'\n",
      "Traceback (most recent call last):\n",
      "  File \"<magic-timeit>\", line 1, in inner\n",
      "ZeroDivisionError: float division\n"
     ]
    },
    {
     "ename": "ZeroDivisionError",
     "evalue": "float division",
     "output_type": "error",
     "traceback": [
      "\u001b[0;31m---------------------------------------------------------------------------\u001b[0m",
      "\u001b[0;31mZeroDivisionError\u001b[0m                         Traceback (most recent call last)",
      "\u001b[0;31mZeroDivisionError\u001b[0m: float division"
     ]
    },
    {
     "name": "stderr",
     "output_type": "stream",
     "text": [
      "Exception ignored in: '_cython_magic_d33e5aada1040c975bde92b13d65fed9.simple_fit'\n",
      "Traceback (most recent call last):\n",
      "  File \"<magic-timeit>\", line 1, in inner\n",
      "ZeroDivisionError: float division\n"
     ]
    },
    {
     "ename": "ZeroDivisionError",
     "evalue": "float division",
     "output_type": "error",
     "traceback": [
      "\u001b[0;31m---------------------------------------------------------------------------\u001b[0m",
      "\u001b[0;31mZeroDivisionError\u001b[0m                         Traceback (most recent call last)",
      "\u001b[0;31mZeroDivisionError\u001b[0m: float division"
     ]
    },
    {
     "name": "stderr",
     "output_type": "stream",
     "text": [
      "Exception ignored in: '_cython_magic_d33e5aada1040c975bde92b13d65fed9.simple_fit'\n",
      "Traceback (most recent call last):\n",
      "  File \"<magic-timeit>\", line 1, in inner\n",
      "ZeroDivisionError: float division\n"
     ]
    },
    {
     "ename": "ZeroDivisionError",
     "evalue": "float division",
     "output_type": "error",
     "traceback": [
      "\u001b[0;31m---------------------------------------------------------------------------\u001b[0m",
      "\u001b[0;31mZeroDivisionError\u001b[0m                         Traceback (most recent call last)",
      "\u001b[0;31mZeroDivisionError\u001b[0m: float division"
     ]
    },
    {
     "name": "stderr",
     "output_type": "stream",
     "text": [
      "Exception ignored in: '_cython_magic_d33e5aada1040c975bde92b13d65fed9.simple_fit'\n",
      "Traceback (most recent call last):\n",
      "  File \"<magic-timeit>\", line 1, in inner\n",
      "ZeroDivisionError: float division\n"
     ]
    },
    {
     "ename": "ZeroDivisionError",
     "evalue": "float division",
     "output_type": "error",
     "traceback": [
      "\u001b[0;31m---------------------------------------------------------------------------\u001b[0m",
      "\u001b[0;31mZeroDivisionError\u001b[0m                         Traceback (most recent call last)",
      "\u001b[0;31mZeroDivisionError\u001b[0m: float division"
     ]
    },
    {
     "name": "stderr",
     "output_type": "stream",
     "text": [
      "Exception ignored in: '_cython_magic_d33e5aada1040c975bde92b13d65fed9.simple_fit'\n",
      "Traceback (most recent call last):\n",
      "  File \"<magic-timeit>\", line 1, in inner\n",
      "ZeroDivisionError: float division\n"
     ]
    },
    {
     "ename": "ZeroDivisionError",
     "evalue": "float division",
     "output_type": "error",
     "traceback": [
      "\u001b[0;31m---------------------------------------------------------------------------\u001b[0m",
      "\u001b[0;31mZeroDivisionError\u001b[0m                         Traceback (most recent call last)",
      "\u001b[0;31mZeroDivisionError\u001b[0m: float division"
     ]
    },
    {
     "name": "stderr",
     "output_type": "stream",
     "text": [
      "Exception ignored in: '_cython_magic_d33e5aada1040c975bde92b13d65fed9.simple_fit'\n",
      "Traceback (most recent call last):\n",
      "  File \"<magic-timeit>\", line 1, in inner\n",
      "ZeroDivisionError: float division\n"
     ]
    },
    {
     "ename": "ZeroDivisionError",
     "evalue": "float division",
     "output_type": "error",
     "traceback": [
      "\u001b[0;31m---------------------------------------------------------------------------\u001b[0m",
      "\u001b[0;31mZeroDivisionError\u001b[0m                         Traceback (most recent call last)",
      "\u001b[0;31mZeroDivisionError\u001b[0m: float division"
     ]
    },
    {
     "name": "stderr",
     "output_type": "stream",
     "text": [
      "Exception ignored in: '_cython_magic_d33e5aada1040c975bde92b13d65fed9.simple_fit'\n",
      "Traceback (most recent call last):\n",
      "  File \"<magic-timeit>\", line 1, in inner\n",
      "ZeroDivisionError: float division\n"
     ]
    },
    {
     "ename": "ZeroDivisionError",
     "evalue": "float division",
     "output_type": "error",
     "traceback": [
      "\u001b[0;31m---------------------------------------------------------------------------\u001b[0m",
      "\u001b[0;31mZeroDivisionError\u001b[0m                         Traceback (most recent call last)",
      "\u001b[0;31mZeroDivisionError\u001b[0m: float division"
     ]
    },
    {
     "name": "stderr",
     "output_type": "stream",
     "text": [
      "Exception ignored in: '_cython_magic_d33e5aada1040c975bde92b13d65fed9.simple_fit'\n",
      "Traceback (most recent call last):\n",
      "  File \"<magic-timeit>\", line 1, in inner\n",
      "ZeroDivisionError: float division\n"
     ]
    },
    {
     "ename": "ZeroDivisionError",
     "evalue": "float division",
     "output_type": "error",
     "traceback": [
      "\u001b[0;31m---------------------------------------------------------------------------\u001b[0m",
      "\u001b[0;31mZeroDivisionError\u001b[0m                         Traceback (most recent call last)",
      "\u001b[0;31mZeroDivisionError\u001b[0m: float division"
     ]
    },
    {
     "name": "stderr",
     "output_type": "stream",
     "text": [
      "Exception ignored in: '_cython_magic_d33e5aada1040c975bde92b13d65fed9.simple_fit'\n",
      "Traceback (most recent call last):\n",
      "  File \"<magic-timeit>\", line 1, in inner\n",
      "ZeroDivisionError: float division\n"
     ]
    },
    {
     "ename": "ZeroDivisionError",
     "evalue": "float division",
     "output_type": "error",
     "traceback": [
      "\u001b[0;31m---------------------------------------------------------------------------\u001b[0m",
      "\u001b[0;31mZeroDivisionError\u001b[0m                         Traceback (most recent call last)",
      "\u001b[0;31mZeroDivisionError\u001b[0m: float division"
     ]
    },
    {
     "name": "stderr",
     "output_type": "stream",
     "text": [
      "Exception ignored in: '_cython_magic_d33e5aada1040c975bde92b13d65fed9.simple_fit'\n",
      "Traceback (most recent call last):\n",
      "  File \"<magic-timeit>\", line 1, in inner\n",
      "ZeroDivisionError: float division\n"
     ]
    },
    {
     "ename": "ZeroDivisionError",
     "evalue": "float division",
     "output_type": "error",
     "traceback": [
      "\u001b[0;31m---------------------------------------------------------------------------\u001b[0m",
      "\u001b[0;31mZeroDivisionError\u001b[0m                         Traceback (most recent call last)",
      "\u001b[0;31mZeroDivisionError\u001b[0m: float division"
     ]
    },
    {
     "name": "stderr",
     "output_type": "stream",
     "text": [
      "Exception ignored in: '_cython_magic_d33e5aada1040c975bde92b13d65fed9.simple_fit'\n",
      "Traceback (most recent call last):\n",
      "  File \"<magic-timeit>\", line 1, in inner\n",
      "ZeroDivisionError: float division\n"
     ]
    },
    {
     "ename": "ZeroDivisionError",
     "evalue": "float division",
     "output_type": "error",
     "traceback": [
      "\u001b[0;31m---------------------------------------------------------------------------\u001b[0m",
      "\u001b[0;31mZeroDivisionError\u001b[0m                         Traceback (most recent call last)",
      "\u001b[0;31mZeroDivisionError\u001b[0m: float division"
     ]
    },
    {
     "name": "stderr",
     "output_type": "stream",
     "text": [
      "Exception ignored in: '_cython_magic_d33e5aada1040c975bde92b13d65fed9.simple_fit'\n",
      "Traceback (most recent call last):\n",
      "  File \"<magic-timeit>\", line 1, in inner\n",
      "ZeroDivisionError: float division\n"
     ]
    },
    {
     "ename": "ZeroDivisionError",
     "evalue": "float division",
     "output_type": "error",
     "traceback": [
      "\u001b[0;31m---------------------------------------------------------------------------\u001b[0m",
      "\u001b[0;31mZeroDivisionError\u001b[0m                         Traceback (most recent call last)",
      "\u001b[0;31mZeroDivisionError\u001b[0m: float division"
     ]
    },
    {
     "name": "stderr",
     "output_type": "stream",
     "text": [
      "Exception ignored in: '_cython_magic_d33e5aada1040c975bde92b13d65fed9.simple_fit'\n",
      "Traceback (most recent call last):\n",
      "  File \"<magic-timeit>\", line 1, in inner\n",
      "ZeroDivisionError: float division\n"
     ]
    },
    {
     "ename": "ZeroDivisionError",
     "evalue": "float division",
     "output_type": "error",
     "traceback": [
      "\u001b[0;31m---------------------------------------------------------------------------\u001b[0m",
      "\u001b[0;31mZeroDivisionError\u001b[0m                         Traceback (most recent call last)",
      "\u001b[0;31mZeroDivisionError\u001b[0m: float division"
     ]
    },
    {
     "name": "stderr",
     "output_type": "stream",
     "text": [
      "Exception ignored in: '_cython_magic_d33e5aada1040c975bde92b13d65fed9.simple_fit'\n",
      "Traceback (most recent call last):\n",
      "  File \"<magic-timeit>\", line 1, in inner\n",
      "ZeroDivisionError: float division\n"
     ]
    },
    {
     "ename": "ZeroDivisionError",
     "evalue": "float division",
     "output_type": "error",
     "traceback": [
      "\u001b[0;31m---------------------------------------------------------------------------\u001b[0m",
      "\u001b[0;31mZeroDivisionError\u001b[0m                         Traceback (most recent call last)",
      "\u001b[0;31mZeroDivisionError\u001b[0m: float division"
     ]
    },
    {
     "name": "stderr",
     "output_type": "stream",
     "text": [
      "Exception ignored in: '_cython_magic_d33e5aada1040c975bde92b13d65fed9.simple_fit'\n",
      "Traceback (most recent call last):\n",
      "  File \"<magic-timeit>\", line 1, in inner\n",
      "ZeroDivisionError: float division\n"
     ]
    },
    {
     "ename": "ZeroDivisionError",
     "evalue": "float division",
     "output_type": "error",
     "traceback": [
      "\u001b[0;31m---------------------------------------------------------------------------\u001b[0m",
      "\u001b[0;31mZeroDivisionError\u001b[0m                         Traceback (most recent call last)",
      "\u001b[0;31mZeroDivisionError\u001b[0m: float division"
     ]
    },
    {
     "name": "stderr",
     "output_type": "stream",
     "text": [
      "Exception ignored in: '_cython_magic_d33e5aada1040c975bde92b13d65fed9.simple_fit'\n",
      "Traceback (most recent call last):\n",
      "  File \"<magic-timeit>\", line 1, in inner\n",
      "ZeroDivisionError: float division\n"
     ]
    },
    {
     "ename": "ZeroDivisionError",
     "evalue": "float division",
     "output_type": "error",
     "traceback": [
      "\u001b[0;31m---------------------------------------------------------------------------\u001b[0m",
      "\u001b[0;31mZeroDivisionError\u001b[0m                         Traceback (most recent call last)",
      "\u001b[0;31mZeroDivisionError\u001b[0m: float division"
     ]
    },
    {
     "name": "stderr",
     "output_type": "stream",
     "text": [
      "Exception ignored in: '_cython_magic_d33e5aada1040c975bde92b13d65fed9.simple_fit'\n",
      "Traceback (most recent call last):\n",
      "  File \"<magic-timeit>\", line 1, in inner\n",
      "ZeroDivisionError: float division\n"
     ]
    },
    {
     "ename": "ZeroDivisionError",
     "evalue": "float division",
     "output_type": "error",
     "traceback": [
      "\u001b[0;31m---------------------------------------------------------------------------\u001b[0m",
      "\u001b[0;31mZeroDivisionError\u001b[0m                         Traceback (most recent call last)",
      "\u001b[0;31mZeroDivisionError\u001b[0m: float division"
     ]
    },
    {
     "name": "stderr",
     "output_type": "stream",
     "text": [
      "Exception ignored in: '_cython_magic_d33e5aada1040c975bde92b13d65fed9.simple_fit'\n",
      "Traceback (most recent call last):\n",
      "  File \"<magic-timeit>\", line 1, in inner\n",
      "ZeroDivisionError: float division\n"
     ]
    },
    {
     "ename": "ZeroDivisionError",
     "evalue": "float division",
     "output_type": "error",
     "traceback": [
      "\u001b[0;31m---------------------------------------------------------------------------\u001b[0m",
      "\u001b[0;31mZeroDivisionError\u001b[0m                         Traceback (most recent call last)",
      "\u001b[0;31mZeroDivisionError\u001b[0m: float division"
     ]
    },
    {
     "name": "stderr",
     "output_type": "stream",
     "text": [
      "Exception ignored in: '_cython_magic_d33e5aada1040c975bde92b13d65fed9.simple_fit'\n",
      "Traceback (most recent call last):\n",
      "  File \"<magic-timeit>\", line 1, in inner\n",
      "ZeroDivisionError: float division\n"
     ]
    },
    {
     "ename": "ZeroDivisionError",
     "evalue": "float division",
     "output_type": "error",
     "traceback": [
      "\u001b[0;31m---------------------------------------------------------------------------\u001b[0m",
      "\u001b[0;31mZeroDivisionError\u001b[0m                         Traceback (most recent call last)",
      "\u001b[0;31mZeroDivisionError\u001b[0m: float division"
     ]
    },
    {
     "name": "stderr",
     "output_type": "stream",
     "text": [
      "Exception ignored in: '_cython_magic_d33e5aada1040c975bde92b13d65fed9.simple_fit'\n",
      "Traceback (most recent call last):\n",
      "  File \"<magic-timeit>\", line 1, in inner\n",
      "ZeroDivisionError: float division\n"
     ]
    },
    {
     "ename": "ZeroDivisionError",
     "evalue": "float division",
     "output_type": "error",
     "traceback": [
      "\u001b[0;31m---------------------------------------------------------------------------\u001b[0m",
      "\u001b[0;31mZeroDivisionError\u001b[0m                         Traceback (most recent call last)",
      "\u001b[0;31mZeroDivisionError\u001b[0m: float division"
     ]
    },
    {
     "name": "stderr",
     "output_type": "stream",
     "text": [
      "Exception ignored in: '_cython_magic_d33e5aada1040c975bde92b13d65fed9.simple_fit'\n",
      "Traceback (most recent call last):\n",
      "  File \"<magic-timeit>\", line 1, in inner\n",
      "ZeroDivisionError: float division\n"
     ]
    },
    {
     "ename": "ZeroDivisionError",
     "evalue": "float division",
     "output_type": "error",
     "traceback": [
      "\u001b[0;31m---------------------------------------------------------------------------\u001b[0m",
      "\u001b[0;31mZeroDivisionError\u001b[0m                         Traceback (most recent call last)",
      "\u001b[0;31mZeroDivisionError\u001b[0m: float division"
     ]
    },
    {
     "name": "stderr",
     "output_type": "stream",
     "text": [
      "Exception ignored in: '_cython_magic_d33e5aada1040c975bde92b13d65fed9.simple_fit'\n",
      "Traceback (most recent call last):\n",
      "  File \"<magic-timeit>\", line 1, in inner\n",
      "ZeroDivisionError: float division\n"
     ]
    },
    {
     "ename": "ZeroDivisionError",
     "evalue": "float division",
     "output_type": "error",
     "traceback": [
      "\u001b[0;31m---------------------------------------------------------------------------\u001b[0m",
      "\u001b[0;31mZeroDivisionError\u001b[0m                         Traceback (most recent call last)",
      "\u001b[0;31mZeroDivisionError\u001b[0m: float division"
     ]
    },
    {
     "name": "stderr",
     "output_type": "stream",
     "text": [
      "Exception ignored in: '_cython_magic_d33e5aada1040c975bde92b13d65fed9.simple_fit'\n",
      "Traceback (most recent call last):\n",
      "  File \"<magic-timeit>\", line 1, in inner\n",
      "ZeroDivisionError: float division\n"
     ]
    },
    {
     "ename": "ZeroDivisionError",
     "evalue": "float division",
     "output_type": "error",
     "traceback": [
      "\u001b[0;31m---------------------------------------------------------------------------\u001b[0m",
      "\u001b[0;31mZeroDivisionError\u001b[0m                         Traceback (most recent call last)",
      "\u001b[0;31mZeroDivisionError\u001b[0m: float division"
     ]
    },
    {
     "name": "stderr",
     "output_type": "stream",
     "text": [
      "Exception ignored in: '_cython_magic_d33e5aada1040c975bde92b13d65fed9.simple_fit'\n",
      "Traceback (most recent call last):\n",
      "  File \"<magic-timeit>\", line 1, in inner\n",
      "ZeroDivisionError: float division\n"
     ]
    },
    {
     "ename": "ZeroDivisionError",
     "evalue": "float division",
     "output_type": "error",
     "traceback": [
      "\u001b[0;31m---------------------------------------------------------------------------\u001b[0m",
      "\u001b[0;31mZeroDivisionError\u001b[0m                         Traceback (most recent call last)",
      "\u001b[0;31mZeroDivisionError\u001b[0m: float division"
     ]
    },
    {
     "name": "stderr",
     "output_type": "stream",
     "text": [
      "Exception ignored in: '_cython_magic_d33e5aada1040c975bde92b13d65fed9.simple_fit'\n",
      "Traceback (most recent call last):\n",
      "  File \"<magic-timeit>\", line 1, in inner\n",
      "ZeroDivisionError: float division\n"
     ]
    },
    {
     "ename": "ZeroDivisionError",
     "evalue": "float division",
     "output_type": "error",
     "traceback": [
      "\u001b[0;31m---------------------------------------------------------------------------\u001b[0m",
      "\u001b[0;31mZeroDivisionError\u001b[0m                         Traceback (most recent call last)",
      "\u001b[0;31mZeroDivisionError\u001b[0m: float division"
     ]
    },
    {
     "name": "stderr",
     "output_type": "stream",
     "text": [
      "Exception ignored in: '_cython_magic_d33e5aada1040c975bde92b13d65fed9.simple_fit'\n",
      "Traceback (most recent call last):\n",
      "  File \"<magic-timeit>\", line 1, in inner\n",
      "ZeroDivisionError: float division\n"
     ]
    },
    {
     "ename": "ZeroDivisionError",
     "evalue": "float division",
     "output_type": "error",
     "traceback": [
      "\u001b[0;31m---------------------------------------------------------------------------\u001b[0m",
      "\u001b[0;31mZeroDivisionError\u001b[0m                         Traceback (most recent call last)",
      "\u001b[0;31mZeroDivisionError\u001b[0m: float division"
     ]
    },
    {
     "name": "stderr",
     "output_type": "stream",
     "text": [
      "Exception ignored in: '_cython_magic_d33e5aada1040c975bde92b13d65fed9.simple_fit'\n",
      "Traceback (most recent call last):\n",
      "  File \"<magic-timeit>\", line 1, in inner\n",
      "ZeroDivisionError: float division\n"
     ]
    },
    {
     "ename": "ZeroDivisionError",
     "evalue": "float division",
     "output_type": "error",
     "traceback": [
      "\u001b[0;31m---------------------------------------------------------------------------\u001b[0m",
      "\u001b[0;31mZeroDivisionError\u001b[0m                         Traceback (most recent call last)",
      "\u001b[0;31mZeroDivisionError\u001b[0m: float division"
     ]
    },
    {
     "name": "stderr",
     "output_type": "stream",
     "text": [
      "Exception ignored in: '_cython_magic_d33e5aada1040c975bde92b13d65fed9.simple_fit'\n",
      "Traceback (most recent call last):\n",
      "  File \"<magic-timeit>\", line 1, in inner\n",
      "ZeroDivisionError: float division\n"
     ]
    },
    {
     "ename": "ZeroDivisionError",
     "evalue": "float division",
     "output_type": "error",
     "traceback": [
      "\u001b[0;31m---------------------------------------------------------------------------\u001b[0m",
      "\u001b[0;31mZeroDivisionError\u001b[0m                         Traceback (most recent call last)",
      "\u001b[0;31mZeroDivisionError\u001b[0m: float division"
     ]
    },
    {
     "name": "stderr",
     "output_type": "stream",
     "text": [
      "Exception ignored in: '_cython_magic_d33e5aada1040c975bde92b13d65fed9.simple_fit'\n",
      "Traceback (most recent call last):\n",
      "  File \"<magic-timeit>\", line 1, in inner\n",
      "ZeroDivisionError: float division\n"
     ]
    },
    {
     "ename": "ZeroDivisionError",
     "evalue": "float division",
     "output_type": "error",
     "traceback": [
      "\u001b[0;31m---------------------------------------------------------------------------\u001b[0m",
      "\u001b[0;31mZeroDivisionError\u001b[0m                         Traceback (most recent call last)",
      "\u001b[0;31mZeroDivisionError\u001b[0m: float division"
     ]
    },
    {
     "name": "stderr",
     "output_type": "stream",
     "text": [
      "Exception ignored in: '_cython_magic_d33e5aada1040c975bde92b13d65fed9.simple_fit'\n",
      "Traceback (most recent call last):\n",
      "  File \"<magic-timeit>\", line 1, in inner\n",
      "ZeroDivisionError: float division\n"
     ]
    },
    {
     "ename": "ZeroDivisionError",
     "evalue": "float division",
     "output_type": "error",
     "traceback": [
      "\u001b[0;31m---------------------------------------------------------------------------\u001b[0m",
      "\u001b[0;31mZeroDivisionError\u001b[0m                         Traceback (most recent call last)",
      "\u001b[0;31mZeroDivisionError\u001b[0m: float division"
     ]
    },
    {
     "name": "stderr",
     "output_type": "stream",
     "text": [
      "Exception ignored in: '_cython_magic_d33e5aada1040c975bde92b13d65fed9.simple_fit'\n",
      "Traceback (most recent call last):\n",
      "  File \"<magic-timeit>\", line 1, in inner\n",
      "ZeroDivisionError: float division\n"
     ]
    },
    {
     "ename": "ZeroDivisionError",
     "evalue": "float division",
     "output_type": "error",
     "traceback": [
      "\u001b[0;31m---------------------------------------------------------------------------\u001b[0m",
      "\u001b[0;31mZeroDivisionError\u001b[0m                         Traceback (most recent call last)",
      "\u001b[0;31mZeroDivisionError\u001b[0m: float division"
     ]
    },
    {
     "name": "stderr",
     "output_type": "stream",
     "text": [
      "Exception ignored in: '_cython_magic_d33e5aada1040c975bde92b13d65fed9.simple_fit'\n",
      "Traceback (most recent call last):\n",
      "  File \"<magic-timeit>\", line 1, in inner\n",
      "ZeroDivisionError: float division\n"
     ]
    },
    {
     "ename": "ZeroDivisionError",
     "evalue": "float division",
     "output_type": "error",
     "traceback": [
      "\u001b[0;31m---------------------------------------------------------------------------\u001b[0m",
      "\u001b[0;31mZeroDivisionError\u001b[0m                         Traceback (most recent call last)",
      "\u001b[0;31mZeroDivisionError\u001b[0m: float division"
     ]
    },
    {
     "name": "stderr",
     "output_type": "stream",
     "text": [
      "Exception ignored in: '_cython_magic_d33e5aada1040c975bde92b13d65fed9.simple_fit'\n",
      "Traceback (most recent call last):\n",
      "  File \"<magic-timeit>\", line 1, in inner\n",
      "ZeroDivisionError: float division\n"
     ]
    },
    {
     "ename": "ZeroDivisionError",
     "evalue": "float division",
     "output_type": "error",
     "traceback": [
      "\u001b[0;31m---------------------------------------------------------------------------\u001b[0m",
      "\u001b[0;31mZeroDivisionError\u001b[0m                         Traceback (most recent call last)",
      "\u001b[0;31mZeroDivisionError\u001b[0m: float division"
     ]
    },
    {
     "name": "stderr",
     "output_type": "stream",
     "text": [
      "Exception ignored in: '_cython_magic_d33e5aada1040c975bde92b13d65fed9.simple_fit'\n",
      "Traceback (most recent call last):\n",
      "  File \"<magic-timeit>\", line 1, in inner\n",
      "ZeroDivisionError: float division\n"
     ]
    },
    {
     "ename": "ZeroDivisionError",
     "evalue": "float division",
     "output_type": "error",
     "traceback": [
      "\u001b[0;31m---------------------------------------------------------------------------\u001b[0m",
      "\u001b[0;31mZeroDivisionError\u001b[0m                         Traceback (most recent call last)",
      "\u001b[0;31mZeroDivisionError\u001b[0m: float division"
     ]
    },
    {
     "name": "stderr",
     "output_type": "stream",
     "text": [
      "Exception ignored in: '_cython_magic_d33e5aada1040c975bde92b13d65fed9.simple_fit'\n",
      "Traceback (most recent call last):\n",
      "  File \"<magic-timeit>\", line 1, in inner\n",
      "ZeroDivisionError: float division\n"
     ]
    },
    {
     "ename": "ZeroDivisionError",
     "evalue": "float division",
     "output_type": "error",
     "traceback": [
      "\u001b[0;31m---------------------------------------------------------------------------\u001b[0m",
      "\u001b[0;31mZeroDivisionError\u001b[0m                         Traceback (most recent call last)",
      "\u001b[0;31mZeroDivisionError\u001b[0m: float division"
     ]
    },
    {
     "name": "stderr",
     "output_type": "stream",
     "text": [
      "Exception ignored in: '_cython_magic_d33e5aada1040c975bde92b13d65fed9.simple_fit'\n",
      "Traceback (most recent call last):\n",
      "  File \"<magic-timeit>\", line 1, in inner\n",
      "ZeroDivisionError: float division\n"
     ]
    },
    {
     "ename": "ZeroDivisionError",
     "evalue": "float division",
     "output_type": "error",
     "traceback": [
      "\u001b[0;31m---------------------------------------------------------------------------\u001b[0m",
      "\u001b[0;31mZeroDivisionError\u001b[0m                         Traceback (most recent call last)",
      "\u001b[0;31mZeroDivisionError\u001b[0m: float division"
     ]
    },
    {
     "name": "stderr",
     "output_type": "stream",
     "text": [
      "Exception ignored in: '_cython_magic_d33e5aada1040c975bde92b13d65fed9.simple_fit'\n",
      "Traceback (most recent call last):\n",
      "  File \"<magic-timeit>\", line 1, in inner\n",
      "ZeroDivisionError: float division\n"
     ]
    },
    {
     "ename": "ZeroDivisionError",
     "evalue": "float division",
     "output_type": "error",
     "traceback": [
      "\u001b[0;31m---------------------------------------------------------------------------\u001b[0m",
      "\u001b[0;31mZeroDivisionError\u001b[0m                         Traceback (most recent call last)",
      "\u001b[0;31mZeroDivisionError\u001b[0m: float division"
     ]
    },
    {
     "name": "stderr",
     "output_type": "stream",
     "text": [
      "Exception ignored in: '_cython_magic_d33e5aada1040c975bde92b13d65fed9.simple_fit'\n",
      "Traceback (most recent call last):\n",
      "  File \"<magic-timeit>\", line 1, in inner\n",
      "ZeroDivisionError: float division\n"
     ]
    },
    {
     "ename": "ZeroDivisionError",
     "evalue": "float division",
     "output_type": "error",
     "traceback": [
      "\u001b[0;31m---------------------------------------------------------------------------\u001b[0m",
      "\u001b[0;31mZeroDivisionError\u001b[0m                         Traceback (most recent call last)",
      "\u001b[0;31mZeroDivisionError\u001b[0m: float division"
     ]
    },
    {
     "name": "stderr",
     "output_type": "stream",
     "text": [
      "Exception ignored in: '_cython_magic_d33e5aada1040c975bde92b13d65fed9.simple_fit'\n",
      "Traceback (most recent call last):\n",
      "  File \"<magic-timeit>\", line 1, in inner\n",
      "ZeroDivisionError: float division\n"
     ]
    },
    {
     "ename": "ZeroDivisionError",
     "evalue": "float division",
     "output_type": "error",
     "traceback": [
      "\u001b[0;31m---------------------------------------------------------------------------\u001b[0m",
      "\u001b[0;31mZeroDivisionError\u001b[0m                         Traceback (most recent call last)",
      "\u001b[0;31mZeroDivisionError\u001b[0m: float division"
     ]
    },
    {
     "name": "stderr",
     "output_type": "stream",
     "text": [
      "Exception ignored in: '_cython_magic_d33e5aada1040c975bde92b13d65fed9.simple_fit'\n",
      "Traceback (most recent call last):\n",
      "  File \"<magic-timeit>\", line 1, in inner\n",
      "ZeroDivisionError: float division\n"
     ]
    },
    {
     "ename": "ZeroDivisionError",
     "evalue": "float division",
     "output_type": "error",
     "traceback": [
      "\u001b[0;31m---------------------------------------------------------------------------\u001b[0m",
      "\u001b[0;31mZeroDivisionError\u001b[0m                         Traceback (most recent call last)",
      "\u001b[0;31mZeroDivisionError\u001b[0m: float division"
     ]
    },
    {
     "name": "stderr",
     "output_type": "stream",
     "text": [
      "Exception ignored in: '_cython_magic_d33e5aada1040c975bde92b13d65fed9.simple_fit'\n",
      "Traceback (most recent call last):\n",
      "  File \"<magic-timeit>\", line 1, in inner\n",
      "ZeroDivisionError: float division\n"
     ]
    },
    {
     "ename": "ZeroDivisionError",
     "evalue": "float division",
     "output_type": "error",
     "traceback": [
      "\u001b[0;31m---------------------------------------------------------------------------\u001b[0m",
      "\u001b[0;31mZeroDivisionError\u001b[0m                         Traceback (most recent call last)",
      "\u001b[0;31mZeroDivisionError\u001b[0m: float division"
     ]
    },
    {
     "name": "stderr",
     "output_type": "stream",
     "text": [
      "Exception ignored in: '_cython_magic_d33e5aada1040c975bde92b13d65fed9.simple_fit'\n",
      "Traceback (most recent call last):\n",
      "  File \"<magic-timeit>\", line 1, in inner\n",
      "ZeroDivisionError: float division\n"
     ]
    },
    {
     "ename": "ZeroDivisionError",
     "evalue": "float division",
     "output_type": "error",
     "traceback": [
      "\u001b[0;31m---------------------------------------------------------------------------\u001b[0m",
      "\u001b[0;31mZeroDivisionError\u001b[0m                         Traceback (most recent call last)",
      "\u001b[0;31mZeroDivisionError\u001b[0m: float division"
     ]
    },
    {
     "name": "stderr",
     "output_type": "stream",
     "text": [
      "Exception ignored in: '_cython_magic_d33e5aada1040c975bde92b13d65fed9.simple_fit'\n",
      "Traceback (most recent call last):\n",
      "  File \"<magic-timeit>\", line 1, in inner\n",
      "ZeroDivisionError: float division\n"
     ]
    },
    {
     "ename": "ZeroDivisionError",
     "evalue": "float division",
     "output_type": "error",
     "traceback": [
      "\u001b[0;31m---------------------------------------------------------------------------\u001b[0m",
      "\u001b[0;31mZeroDivisionError\u001b[0m                         Traceback (most recent call last)",
      "\u001b[0;31mZeroDivisionError\u001b[0m: float division"
     ]
    },
    {
     "name": "stderr",
     "output_type": "stream",
     "text": [
      "Exception ignored in: '_cython_magic_d33e5aada1040c975bde92b13d65fed9.simple_fit'\n",
      "Traceback (most recent call last):\n",
      "  File \"<magic-timeit>\", line 1, in inner\n",
      "ZeroDivisionError: float division\n"
     ]
    },
    {
     "ename": "ZeroDivisionError",
     "evalue": "float division",
     "output_type": "error",
     "traceback": [
      "\u001b[0;31m---------------------------------------------------------------------------\u001b[0m",
      "\u001b[0;31mZeroDivisionError\u001b[0m                         Traceback (most recent call last)",
      "\u001b[0;31mZeroDivisionError\u001b[0m: float division"
     ]
    },
    {
     "name": "stderr",
     "output_type": "stream",
     "text": [
      "Exception ignored in: '_cython_magic_d33e5aada1040c975bde92b13d65fed9.simple_fit'\n",
      "Traceback (most recent call last):\n",
      "  File \"<magic-timeit>\", line 1, in inner\n",
      "ZeroDivisionError: float division\n"
     ]
    },
    {
     "ename": "ZeroDivisionError",
     "evalue": "float division",
     "output_type": "error",
     "traceback": [
      "\u001b[0;31m---------------------------------------------------------------------------\u001b[0m",
      "\u001b[0;31mZeroDivisionError\u001b[0m                         Traceback (most recent call last)",
      "\u001b[0;31mZeroDivisionError\u001b[0m: float division"
     ]
    },
    {
     "name": "stderr",
     "output_type": "stream",
     "text": [
      "Exception ignored in: '_cython_magic_d33e5aada1040c975bde92b13d65fed9.simple_fit'\n",
      "Traceback (most recent call last):\n",
      "  File \"<magic-timeit>\", line 1, in inner\n",
      "ZeroDivisionError: float division\n"
     ]
    },
    {
     "ename": "ZeroDivisionError",
     "evalue": "float division",
     "output_type": "error",
     "traceback": [
      "\u001b[0;31m---------------------------------------------------------------------------\u001b[0m",
      "\u001b[0;31mZeroDivisionError\u001b[0m                         Traceback (most recent call last)",
      "\u001b[0;31mZeroDivisionError\u001b[0m: float division"
     ]
    },
    {
     "name": "stderr",
     "output_type": "stream",
     "text": [
      "Exception ignored in: '_cython_magic_d33e5aada1040c975bde92b13d65fed9.simple_fit'\n",
      "Traceback (most recent call last):\n",
      "  File \"<magic-timeit>\", line 1, in inner\n",
      "ZeroDivisionError: float division\n"
     ]
    },
    {
     "ename": "ZeroDivisionError",
     "evalue": "float division",
     "output_type": "error",
     "traceback": [
      "\u001b[0;31m---------------------------------------------------------------------------\u001b[0m",
      "\u001b[0;31mZeroDivisionError\u001b[0m                         Traceback (most recent call last)",
      "\u001b[0;31mZeroDivisionError\u001b[0m: float division"
     ]
    },
    {
     "name": "stderr",
     "output_type": "stream",
     "text": [
      "Exception ignored in: '_cython_magic_d33e5aada1040c975bde92b13d65fed9.simple_fit'\n",
      "Traceback (most recent call last):\n",
      "  File \"<magic-timeit>\", line 1, in inner\n",
      "ZeroDivisionError: float division\n"
     ]
    },
    {
     "ename": "ZeroDivisionError",
     "evalue": "float division",
     "output_type": "error",
     "traceback": [
      "\u001b[0;31m---------------------------------------------------------------------------\u001b[0m",
      "\u001b[0;31mZeroDivisionError\u001b[0m                         Traceback (most recent call last)",
      "\u001b[0;31mZeroDivisionError\u001b[0m: float division"
     ]
    },
    {
     "name": "stderr",
     "output_type": "stream",
     "text": [
      "Exception ignored in: '_cython_magic_d33e5aada1040c975bde92b13d65fed9.simple_fit'\n",
      "Traceback (most recent call last):\n",
      "  File \"<magic-timeit>\", line 1, in inner\n",
      "ZeroDivisionError: float division\n"
     ]
    },
    {
     "ename": "ZeroDivisionError",
     "evalue": "float division",
     "output_type": "error",
     "traceback": [
      "\u001b[0;31m---------------------------------------------------------------------------\u001b[0m",
      "\u001b[0;31mZeroDivisionError\u001b[0m                         Traceback (most recent call last)",
      "\u001b[0;31mZeroDivisionError\u001b[0m: float division"
     ]
    },
    {
     "name": "stderr",
     "output_type": "stream",
     "text": [
      "Exception ignored in: '_cython_magic_d33e5aada1040c975bde92b13d65fed9.simple_fit'\n",
      "Traceback (most recent call last):\n",
      "  File \"<magic-timeit>\", line 1, in inner\n",
      "ZeroDivisionError: float division\n"
     ]
    },
    {
     "ename": "ZeroDivisionError",
     "evalue": "float division",
     "output_type": "error",
     "traceback": [
      "\u001b[0;31m---------------------------------------------------------------------------\u001b[0m",
      "\u001b[0;31mZeroDivisionError\u001b[0m                         Traceback (most recent call last)",
      "\u001b[0;31mZeroDivisionError\u001b[0m: float division"
     ]
    },
    {
     "name": "stderr",
     "output_type": "stream",
     "text": [
      "Exception ignored in: '_cython_magic_d33e5aada1040c975bde92b13d65fed9.simple_fit'\n",
      "Traceback (most recent call last):\n",
      "  File \"<magic-timeit>\", line 1, in inner\n",
      "ZeroDivisionError: float division\n"
     ]
    },
    {
     "ename": "ZeroDivisionError",
     "evalue": "float division",
     "output_type": "error",
     "traceback": [
      "\u001b[0;31m---------------------------------------------------------------------------\u001b[0m",
      "\u001b[0;31mZeroDivisionError\u001b[0m                         Traceback (most recent call last)",
      "\u001b[0;31mZeroDivisionError\u001b[0m: float division"
     ]
    },
    {
     "name": "stderr",
     "output_type": "stream",
     "text": [
      "Exception ignored in: '_cython_magic_d33e5aada1040c975bde92b13d65fed9.simple_fit'\n",
      "Traceback (most recent call last):\n",
      "  File \"<magic-timeit>\", line 1, in inner\n",
      "ZeroDivisionError: float division\n"
     ]
    },
    {
     "ename": "ZeroDivisionError",
     "evalue": "float division",
     "output_type": "error",
     "traceback": [
      "\u001b[0;31m---------------------------------------------------------------------------\u001b[0m",
      "\u001b[0;31mZeroDivisionError\u001b[0m                         Traceback (most recent call last)",
      "\u001b[0;31mZeroDivisionError\u001b[0m: float division"
     ]
    },
    {
     "name": "stderr",
     "output_type": "stream",
     "text": [
      "Exception ignored in: '_cython_magic_d33e5aada1040c975bde92b13d65fed9.simple_fit'\n",
      "Traceback (most recent call last):\n",
      "  File \"<magic-timeit>\", line 1, in inner\n",
      "ZeroDivisionError: float division\n"
     ]
    },
    {
     "ename": "ZeroDivisionError",
     "evalue": "float division",
     "output_type": "error",
     "traceback": [
      "\u001b[0;31m---------------------------------------------------------------------------\u001b[0m",
      "\u001b[0;31mZeroDivisionError\u001b[0m                         Traceback (most recent call last)",
      "\u001b[0;31mZeroDivisionError\u001b[0m: float division"
     ]
    },
    {
     "name": "stderr",
     "output_type": "stream",
     "text": [
      "Exception ignored in: '_cython_magic_d33e5aada1040c975bde92b13d65fed9.simple_fit'\n",
      "Traceback (most recent call last):\n",
      "  File \"<magic-timeit>\", line 1, in inner\n",
      "ZeroDivisionError: float division\n"
     ]
    },
    {
     "ename": "ZeroDivisionError",
     "evalue": "float division",
     "output_type": "error",
     "traceback": [
      "\u001b[0;31m---------------------------------------------------------------------------\u001b[0m",
      "\u001b[0;31mZeroDivisionError\u001b[0m                         Traceback (most recent call last)",
      "\u001b[0;31mZeroDivisionError\u001b[0m: float division"
     ]
    },
    {
     "name": "stderr",
     "output_type": "stream",
     "text": [
      "Exception ignored in: '_cython_magic_d33e5aada1040c975bde92b13d65fed9.simple_fit'\n",
      "Traceback (most recent call last):\n",
      "  File \"<magic-timeit>\", line 1, in inner\n",
      "ZeroDivisionError: float division\n"
     ]
    },
    {
     "ename": "ZeroDivisionError",
     "evalue": "float division",
     "output_type": "error",
     "traceback": [
      "\u001b[0;31m---------------------------------------------------------------------------\u001b[0m",
      "\u001b[0;31mZeroDivisionError\u001b[0m                         Traceback (most recent call last)",
      "\u001b[0;31mZeroDivisionError\u001b[0m: float division"
     ]
    },
    {
     "name": "stderr",
     "output_type": "stream",
     "text": [
      "Exception ignored in: '_cython_magic_d33e5aada1040c975bde92b13d65fed9.simple_fit'\n",
      "Traceback (most recent call last):\n",
      "  File \"<magic-timeit>\", line 1, in inner\n",
      "ZeroDivisionError: float division\n"
     ]
    },
    {
     "ename": "ZeroDivisionError",
     "evalue": "float division",
     "output_type": "error",
     "traceback": [
      "\u001b[0;31m---------------------------------------------------------------------------\u001b[0m",
      "\u001b[0;31mZeroDivisionError\u001b[0m                         Traceback (most recent call last)",
      "\u001b[0;31mZeroDivisionError\u001b[0m: float division"
     ]
    },
    {
     "name": "stderr",
     "output_type": "stream",
     "text": [
      "Exception ignored in: '_cython_magic_d33e5aada1040c975bde92b13d65fed9.simple_fit'\n",
      "Traceback (most recent call last):\n",
      "  File \"<magic-timeit>\", line 1, in inner\n",
      "ZeroDivisionError: float division\n"
     ]
    },
    {
     "ename": "ZeroDivisionError",
     "evalue": "float division",
     "output_type": "error",
     "traceback": [
      "\u001b[0;31m---------------------------------------------------------------------------\u001b[0m",
      "\u001b[0;31mZeroDivisionError\u001b[0m                         Traceback (most recent call last)",
      "\u001b[0;31mZeroDivisionError\u001b[0m: float division"
     ]
    },
    {
     "name": "stderr",
     "output_type": "stream",
     "text": [
      "Exception ignored in: '_cython_magic_d33e5aada1040c975bde92b13d65fed9.simple_fit'\n",
      "Traceback (most recent call last):\n",
      "  File \"<magic-timeit>\", line 1, in inner\n",
      "ZeroDivisionError: float division\n"
     ]
    },
    {
     "ename": "ZeroDivisionError",
     "evalue": "float division",
     "output_type": "error",
     "traceback": [
      "\u001b[0;31m---------------------------------------------------------------------------\u001b[0m",
      "\u001b[0;31mZeroDivisionError\u001b[0m                         Traceback (most recent call last)",
      "\u001b[0;31mZeroDivisionError\u001b[0m: float division"
     ]
    },
    {
     "name": "stderr",
     "output_type": "stream",
     "text": [
      "Exception ignored in: '_cython_magic_d33e5aada1040c975bde92b13d65fed9.simple_fit'\n",
      "Traceback (most recent call last):\n",
      "  File \"<magic-timeit>\", line 1, in inner\n",
      "ZeroDivisionError: float division\n"
     ]
    },
    {
     "ename": "ZeroDivisionError",
     "evalue": "float division",
     "output_type": "error",
     "traceback": [
      "\u001b[0;31m---------------------------------------------------------------------------\u001b[0m",
      "\u001b[0;31mZeroDivisionError\u001b[0m                         Traceback (most recent call last)",
      "\u001b[0;31mZeroDivisionError\u001b[0m: float division"
     ]
    },
    {
     "name": "stderr",
     "output_type": "stream",
     "text": [
      "Exception ignored in: '_cython_magic_d33e5aada1040c975bde92b13d65fed9.simple_fit'\n",
      "Traceback (most recent call last):\n",
      "  File \"<magic-timeit>\", line 1, in inner\n",
      "ZeroDivisionError: float division\n"
     ]
    },
    {
     "ename": "ZeroDivisionError",
     "evalue": "float division",
     "output_type": "error",
     "traceback": [
      "\u001b[0;31m---------------------------------------------------------------------------\u001b[0m",
      "\u001b[0;31mZeroDivisionError\u001b[0m                         Traceback (most recent call last)",
      "\u001b[0;31mZeroDivisionError\u001b[0m: float division"
     ]
    },
    {
     "name": "stderr",
     "output_type": "stream",
     "text": [
      "Exception ignored in: '_cython_magic_d33e5aada1040c975bde92b13d65fed9.simple_fit'\n",
      "Traceback (most recent call last):\n",
      "  File \"<magic-timeit>\", line 1, in inner\n",
      "ZeroDivisionError: float division\n"
     ]
    },
    {
     "ename": "ZeroDivisionError",
     "evalue": "float division",
     "output_type": "error",
     "traceback": [
      "\u001b[0;31m---------------------------------------------------------------------------\u001b[0m",
      "\u001b[0;31mZeroDivisionError\u001b[0m                         Traceback (most recent call last)",
      "\u001b[0;31mZeroDivisionError\u001b[0m: float division"
     ]
    },
    {
     "name": "stderr",
     "output_type": "stream",
     "text": [
      "Exception ignored in: '_cython_magic_d33e5aada1040c975bde92b13d65fed9.simple_fit'\n",
      "Traceback (most recent call last):\n",
      "  File \"<magic-timeit>\", line 1, in inner\n",
      "ZeroDivisionError: float division\n"
     ]
    },
    {
     "ename": "ZeroDivisionError",
     "evalue": "float division",
     "output_type": "error",
     "traceback": [
      "\u001b[0;31m---------------------------------------------------------------------------\u001b[0m",
      "\u001b[0;31mZeroDivisionError\u001b[0m                         Traceback (most recent call last)",
      "\u001b[0;31mZeroDivisionError\u001b[0m: float division"
     ]
    },
    {
     "name": "stderr",
     "output_type": "stream",
     "text": [
      "Exception ignored in: '_cython_magic_d33e5aada1040c975bde92b13d65fed9.simple_fit'\n",
      "Traceback (most recent call last):\n",
      "  File \"<magic-timeit>\", line 1, in inner\n",
      "ZeroDivisionError: float division\n"
     ]
    },
    {
     "ename": "ZeroDivisionError",
     "evalue": "float division",
     "output_type": "error",
     "traceback": [
      "\u001b[0;31m---------------------------------------------------------------------------\u001b[0m",
      "\u001b[0;31mZeroDivisionError\u001b[0m                         Traceback (most recent call last)",
      "\u001b[0;31mZeroDivisionError\u001b[0m: float division"
     ]
    },
    {
     "name": "stderr",
     "output_type": "stream",
     "text": [
      "Exception ignored in: '_cython_magic_d33e5aada1040c975bde92b13d65fed9.simple_fit'\n",
      "Traceback (most recent call last):\n",
      "  File \"<magic-timeit>\", line 1, in inner\n",
      "ZeroDivisionError: float division\n"
     ]
    },
    {
     "ename": "ZeroDivisionError",
     "evalue": "float division",
     "output_type": "error",
     "traceback": [
      "\u001b[0;31m---------------------------------------------------------------------------\u001b[0m",
      "\u001b[0;31mZeroDivisionError\u001b[0m                         Traceback (most recent call last)",
      "\u001b[0;31mZeroDivisionError\u001b[0m: float division"
     ]
    },
    {
     "name": "stderr",
     "output_type": "stream",
     "text": [
      "Exception ignored in: '_cython_magic_d33e5aada1040c975bde92b13d65fed9.simple_fit'\n",
      "Traceback (most recent call last):\n",
      "  File \"<magic-timeit>\", line 1, in inner\n",
      "ZeroDivisionError: float division\n"
     ]
    },
    {
     "ename": "ZeroDivisionError",
     "evalue": "float division",
     "output_type": "error",
     "traceback": [
      "\u001b[0;31m---------------------------------------------------------------------------\u001b[0m",
      "\u001b[0;31mZeroDivisionError\u001b[0m                         Traceback (most recent call last)",
      "\u001b[0;31mZeroDivisionError\u001b[0m: float division"
     ]
    },
    {
     "name": "stderr",
     "output_type": "stream",
     "text": [
      "Exception ignored in: '_cython_magic_d33e5aada1040c975bde92b13d65fed9.simple_fit'\n",
      "Traceback (most recent call last):\n",
      "  File \"<magic-timeit>\", line 1, in inner\n",
      "ZeroDivisionError: float division\n"
     ]
    },
    {
     "ename": "ZeroDivisionError",
     "evalue": "float division",
     "output_type": "error",
     "traceback": [
      "\u001b[0;31m---------------------------------------------------------------------------\u001b[0m",
      "\u001b[0;31mZeroDivisionError\u001b[0m                         Traceback (most recent call last)",
      "\u001b[0;31mZeroDivisionError\u001b[0m: float division"
     ]
    },
    {
     "name": "stderr",
     "output_type": "stream",
     "text": [
      "Exception ignored in: '_cython_magic_d33e5aada1040c975bde92b13d65fed9.simple_fit'\n",
      "Traceback (most recent call last):\n",
      "  File \"<magic-timeit>\", line 1, in inner\n",
      "ZeroDivisionError: float division\n"
     ]
    },
    {
     "ename": "ZeroDivisionError",
     "evalue": "float division",
     "output_type": "error",
     "traceback": [
      "\u001b[0;31m---------------------------------------------------------------------------\u001b[0m",
      "\u001b[0;31mZeroDivisionError\u001b[0m                         Traceback (most recent call last)",
      "\u001b[0;31mZeroDivisionError\u001b[0m: float division"
     ]
    },
    {
     "name": "stderr",
     "output_type": "stream",
     "text": [
      "Exception ignored in: '_cython_magic_d33e5aada1040c975bde92b13d65fed9.simple_fit'\n",
      "Traceback (most recent call last):\n",
      "  File \"<magic-timeit>\", line 1, in inner\n",
      "ZeroDivisionError: float division\n"
     ]
    },
    {
     "ename": "ZeroDivisionError",
     "evalue": "float division",
     "output_type": "error",
     "traceback": [
      "\u001b[0;31m---------------------------------------------------------------------------\u001b[0m",
      "\u001b[0;31mZeroDivisionError\u001b[0m                         Traceback (most recent call last)",
      "\u001b[0;31mZeroDivisionError\u001b[0m: float division"
     ]
    },
    {
     "name": "stderr",
     "output_type": "stream",
     "text": [
      "Exception ignored in: '_cython_magic_d33e5aada1040c975bde92b13d65fed9.simple_fit'\n",
      "Traceback (most recent call last):\n",
      "  File \"<magic-timeit>\", line 1, in inner\n",
      "ZeroDivisionError: float division\n"
     ]
    },
    {
     "ename": "ZeroDivisionError",
     "evalue": "float division",
     "output_type": "error",
     "traceback": [
      "\u001b[0;31m---------------------------------------------------------------------------\u001b[0m",
      "\u001b[0;31mZeroDivisionError\u001b[0m                         Traceback (most recent call last)",
      "\u001b[0;31mZeroDivisionError\u001b[0m: float division"
     ]
    },
    {
     "name": "stderr",
     "output_type": "stream",
     "text": [
      "Exception ignored in: '_cython_magic_d33e5aada1040c975bde92b13d65fed9.simple_fit'\n",
      "Traceback (most recent call last):\n",
      "  File \"<magic-timeit>\", line 1, in inner\n",
      "ZeroDivisionError: float division\n"
     ]
    },
    {
     "ename": "ZeroDivisionError",
     "evalue": "float division",
     "output_type": "error",
     "traceback": [
      "\u001b[0;31m---------------------------------------------------------------------------\u001b[0m",
      "\u001b[0;31mZeroDivisionError\u001b[0m                         Traceback (most recent call last)",
      "\u001b[0;31mZeroDivisionError\u001b[0m: float division"
     ]
    },
    {
     "name": "stderr",
     "output_type": "stream",
     "text": [
      "Exception ignored in: '_cython_magic_d33e5aada1040c975bde92b13d65fed9.simple_fit'\n",
      "Traceback (most recent call last):\n",
      "  File \"<magic-timeit>\", line 1, in inner\n",
      "ZeroDivisionError: float division\n"
     ]
    },
    {
     "ename": "ZeroDivisionError",
     "evalue": "float division",
     "output_type": "error",
     "traceback": [
      "\u001b[0;31m---------------------------------------------------------------------------\u001b[0m",
      "\u001b[0;31mZeroDivisionError\u001b[0m                         Traceback (most recent call last)",
      "\u001b[0;31mZeroDivisionError\u001b[0m: float division"
     ]
    },
    {
     "name": "stderr",
     "output_type": "stream",
     "text": [
      "Exception ignored in: '_cython_magic_d33e5aada1040c975bde92b13d65fed9.simple_fit'\n",
      "Traceback (most recent call last):\n",
      "  File \"<magic-timeit>\", line 1, in inner\n",
      "ZeroDivisionError: float division\n"
     ]
    },
    {
     "ename": "ZeroDivisionError",
     "evalue": "float division",
     "output_type": "error",
     "traceback": [
      "\u001b[0;31m---------------------------------------------------------------------------\u001b[0m",
      "\u001b[0;31mZeroDivisionError\u001b[0m                         Traceback (most recent call last)",
      "\u001b[0;31mZeroDivisionError\u001b[0m: float division"
     ]
    },
    {
     "name": "stderr",
     "output_type": "stream",
     "text": [
      "Exception ignored in: '_cython_magic_d33e5aada1040c975bde92b13d65fed9.simple_fit'\n",
      "Traceback (most recent call last):\n",
      "  File \"<magic-timeit>\", line 1, in inner\n",
      "ZeroDivisionError: float division\n"
     ]
    },
    {
     "ename": "ZeroDivisionError",
     "evalue": "float division",
     "output_type": "error",
     "traceback": [
      "\u001b[0;31m---------------------------------------------------------------------------\u001b[0m",
      "\u001b[0;31mZeroDivisionError\u001b[0m                         Traceback (most recent call last)",
      "\u001b[0;31mZeroDivisionError\u001b[0m: float division"
     ]
    },
    {
     "name": "stderr",
     "output_type": "stream",
     "text": [
      "Exception ignored in: '_cython_magic_d33e5aada1040c975bde92b13d65fed9.simple_fit'\n",
      "Traceback (most recent call last):\n",
      "  File \"<magic-timeit>\", line 1, in inner\n",
      "ZeroDivisionError: float division\n"
     ]
    },
    {
     "ename": "ZeroDivisionError",
     "evalue": "float division",
     "output_type": "error",
     "traceback": [
      "\u001b[0;31m---------------------------------------------------------------------------\u001b[0m",
      "\u001b[0;31mZeroDivisionError\u001b[0m                         Traceback (most recent call last)",
      "\u001b[0;31mZeroDivisionError\u001b[0m: float division"
     ]
    },
    {
     "name": "stderr",
     "output_type": "stream",
     "text": [
      "Exception ignored in: '_cython_magic_d33e5aada1040c975bde92b13d65fed9.simple_fit'\n",
      "Traceback (most recent call last):\n",
      "  File \"<magic-timeit>\", line 1, in inner\n",
      "ZeroDivisionError: float division\n"
     ]
    },
    {
     "ename": "ZeroDivisionError",
     "evalue": "float division",
     "output_type": "error",
     "traceback": [
      "\u001b[0;31m---------------------------------------------------------------------------\u001b[0m",
      "\u001b[0;31mZeroDivisionError\u001b[0m                         Traceback (most recent call last)",
      "\u001b[0;31mZeroDivisionError\u001b[0m: float division"
     ]
    },
    {
     "name": "stderr",
     "output_type": "stream",
     "text": [
      "Exception ignored in: '_cython_magic_d33e5aada1040c975bde92b13d65fed9.simple_fit'\n",
      "Traceback (most recent call last):\n",
      "  File \"<magic-timeit>\", line 1, in inner\n",
      "ZeroDivisionError: float division\n"
     ]
    },
    {
     "ename": "ZeroDivisionError",
     "evalue": "float division",
     "output_type": "error",
     "traceback": [
      "\u001b[0;31m---------------------------------------------------------------------------\u001b[0m",
      "\u001b[0;31mZeroDivisionError\u001b[0m                         Traceback (most recent call last)",
      "\u001b[0;31mZeroDivisionError\u001b[0m: float division"
     ]
    },
    {
     "name": "stderr",
     "output_type": "stream",
     "text": [
      "Exception ignored in: '_cython_magic_d33e5aada1040c975bde92b13d65fed9.simple_fit'\n",
      "Traceback (most recent call last):\n",
      "  File \"<magic-timeit>\", line 1, in inner\n",
      "ZeroDivisionError: float division\n"
     ]
    },
    {
     "ename": "ZeroDivisionError",
     "evalue": "float division",
     "output_type": "error",
     "traceback": [
      "\u001b[0;31m---------------------------------------------------------------------------\u001b[0m",
      "\u001b[0;31mZeroDivisionError\u001b[0m                         Traceback (most recent call last)",
      "\u001b[0;31mZeroDivisionError\u001b[0m: float division"
     ]
    },
    {
     "name": "stderr",
     "output_type": "stream",
     "text": [
      "Exception ignored in: '_cython_magic_d33e5aada1040c975bde92b13d65fed9.simple_fit'\n",
      "Traceback (most recent call last):\n",
      "  File \"<magic-timeit>\", line 1, in inner\n",
      "ZeroDivisionError: float division\n"
     ]
    },
    {
     "ename": "ZeroDivisionError",
     "evalue": "float division",
     "output_type": "error",
     "traceback": [
      "\u001b[0;31m---------------------------------------------------------------------------\u001b[0m",
      "\u001b[0;31mZeroDivisionError\u001b[0m                         Traceback (most recent call last)",
      "\u001b[0;31mZeroDivisionError\u001b[0m: float division"
     ]
    },
    {
     "name": "stderr",
     "output_type": "stream",
     "text": [
      "Exception ignored in: '_cython_magic_d33e5aada1040c975bde92b13d65fed9.simple_fit'\n",
      "Traceback (most recent call last):\n",
      "  File \"<magic-timeit>\", line 1, in inner\n",
      "ZeroDivisionError: float division\n"
     ]
    },
    {
     "ename": "ZeroDivisionError",
     "evalue": "float division",
     "output_type": "error",
     "traceback": [
      "\u001b[0;31m---------------------------------------------------------------------------\u001b[0m",
      "\u001b[0;31mZeroDivisionError\u001b[0m                         Traceback (most recent call last)",
      "\u001b[0;31mZeroDivisionError\u001b[0m: float division"
     ]
    },
    {
     "name": "stderr",
     "output_type": "stream",
     "text": [
      "Exception ignored in: '_cython_magic_d33e5aada1040c975bde92b13d65fed9.simple_fit'\n",
      "Traceback (most recent call last):\n",
      "  File \"<magic-timeit>\", line 1, in inner\n",
      "ZeroDivisionError: float division\n"
     ]
    },
    {
     "ename": "ZeroDivisionError",
     "evalue": "float division",
     "output_type": "error",
     "traceback": [
      "\u001b[0;31m---------------------------------------------------------------------------\u001b[0m",
      "\u001b[0;31mZeroDivisionError\u001b[0m                         Traceback (most recent call last)",
      "\u001b[0;31mZeroDivisionError\u001b[0m: float division"
     ]
    },
    {
     "name": "stderr",
     "output_type": "stream",
     "text": [
      "Exception ignored in: '_cython_magic_d33e5aada1040c975bde92b13d65fed9.simple_fit'\n",
      "Traceback (most recent call last):\n",
      "  File \"<magic-timeit>\", line 1, in inner\n",
      "ZeroDivisionError: float division\n"
     ]
    },
    {
     "ename": "ZeroDivisionError",
     "evalue": "float division",
     "output_type": "error",
     "traceback": [
      "\u001b[0;31m---------------------------------------------------------------------------\u001b[0m",
      "\u001b[0;31mZeroDivisionError\u001b[0m                         Traceback (most recent call last)",
      "\u001b[0;31mZeroDivisionError\u001b[0m: float division"
     ]
    },
    {
     "name": "stderr",
     "output_type": "stream",
     "text": [
      "Exception ignored in: '_cython_magic_d33e5aada1040c975bde92b13d65fed9.simple_fit'\n",
      "Traceback (most recent call last):\n",
      "  File \"<magic-timeit>\", line 1, in inner\n",
      "ZeroDivisionError: float division\n"
     ]
    },
    {
     "ename": "ZeroDivisionError",
     "evalue": "float division",
     "output_type": "error",
     "traceback": [
      "\u001b[0;31m---------------------------------------------------------------------------\u001b[0m",
      "\u001b[0;31mZeroDivisionError\u001b[0m                         Traceback (most recent call last)",
      "\u001b[0;31mZeroDivisionError\u001b[0m: float division"
     ]
    },
    {
     "name": "stderr",
     "output_type": "stream",
     "text": [
      "Exception ignored in: '_cython_magic_d33e5aada1040c975bde92b13d65fed9.simple_fit'\n",
      "Traceback (most recent call last):\n",
      "  File \"<magic-timeit>\", line 1, in inner\n",
      "ZeroDivisionError: float division\n"
     ]
    },
    {
     "ename": "ZeroDivisionError",
     "evalue": "float division",
     "output_type": "error",
     "traceback": [
      "\u001b[0;31m---------------------------------------------------------------------------\u001b[0m",
      "\u001b[0;31mZeroDivisionError\u001b[0m                         Traceback (most recent call last)",
      "\u001b[0;31mZeroDivisionError\u001b[0m: float division"
     ]
    },
    {
     "name": "stderr",
     "output_type": "stream",
     "text": [
      "Exception ignored in: '_cython_magic_d33e5aada1040c975bde92b13d65fed9.simple_fit'\n",
      "Traceback (most recent call last):\n",
      "  File \"<magic-timeit>\", line 1, in inner\n",
      "ZeroDivisionError: float division\n"
     ]
    },
    {
     "ename": "ZeroDivisionError",
     "evalue": "float division",
     "output_type": "error",
     "traceback": [
      "\u001b[0;31m---------------------------------------------------------------------------\u001b[0m",
      "\u001b[0;31mZeroDivisionError\u001b[0m                         Traceback (most recent call last)",
      "\u001b[0;31mZeroDivisionError\u001b[0m: float division"
     ]
    },
    {
     "name": "stderr",
     "output_type": "stream",
     "text": [
      "Exception ignored in: '_cython_magic_d33e5aada1040c975bde92b13d65fed9.simple_fit'\n",
      "Traceback (most recent call last):\n",
      "  File \"<magic-timeit>\", line 1, in inner\n",
      "ZeroDivisionError: float division\n"
     ]
    },
    {
     "ename": "ZeroDivisionError",
     "evalue": "float division",
     "output_type": "error",
     "traceback": [
      "\u001b[0;31m---------------------------------------------------------------------------\u001b[0m",
      "\u001b[0;31mZeroDivisionError\u001b[0m                         Traceback (most recent call last)",
      "\u001b[0;31mZeroDivisionError\u001b[0m: float division"
     ]
    },
    {
     "name": "stderr",
     "output_type": "stream",
     "text": [
      "Exception ignored in: '_cython_magic_d33e5aada1040c975bde92b13d65fed9.simple_fit'\n",
      "Traceback (most recent call last):\n",
      "  File \"<magic-timeit>\", line 1, in inner\n",
      "ZeroDivisionError: float division\n"
     ]
    },
    {
     "ename": "ZeroDivisionError",
     "evalue": "float division",
     "output_type": "error",
     "traceback": [
      "\u001b[0;31m---------------------------------------------------------------------------\u001b[0m",
      "\u001b[0;31mZeroDivisionError\u001b[0m                         Traceback (most recent call last)",
      "\u001b[0;31mZeroDivisionError\u001b[0m: float division"
     ]
    },
    {
     "name": "stderr",
     "output_type": "stream",
     "text": [
      "Exception ignored in: '_cython_magic_d33e5aada1040c975bde92b13d65fed9.simple_fit'\n",
      "Traceback (most recent call last):\n",
      "  File \"<magic-timeit>\", line 1, in inner\n",
      "ZeroDivisionError: float division\n"
     ]
    },
    {
     "ename": "ZeroDivisionError",
     "evalue": "float division",
     "output_type": "error",
     "traceback": [
      "\u001b[0;31m---------------------------------------------------------------------------\u001b[0m",
      "\u001b[0;31mZeroDivisionError\u001b[0m                         Traceback (most recent call last)",
      "\u001b[0;31mZeroDivisionError\u001b[0m: float division"
     ]
    },
    {
     "name": "stderr",
     "output_type": "stream",
     "text": [
      "Exception ignored in: '_cython_magic_d33e5aada1040c975bde92b13d65fed9.simple_fit'\n",
      "Traceback (most recent call last):\n",
      "  File \"<magic-timeit>\", line 1, in inner\n",
      "ZeroDivisionError: float division\n"
     ]
    },
    {
     "ename": "ZeroDivisionError",
     "evalue": "float division",
     "output_type": "error",
     "traceback": [
      "\u001b[0;31m---------------------------------------------------------------------------\u001b[0m",
      "\u001b[0;31mZeroDivisionError\u001b[0m                         Traceback (most recent call last)",
      "\u001b[0;31mZeroDivisionError\u001b[0m: float division"
     ]
    },
    {
     "name": "stderr",
     "output_type": "stream",
     "text": [
      "Exception ignored in: '_cython_magic_d33e5aada1040c975bde92b13d65fed9.simple_fit'\n",
      "Traceback (most recent call last):\n",
      "  File \"<magic-timeit>\", line 1, in inner\n",
      "ZeroDivisionError: float division\n"
     ]
    },
    {
     "ename": "ZeroDivisionError",
     "evalue": "float division",
     "output_type": "error",
     "traceback": [
      "\u001b[0;31m---------------------------------------------------------------------------\u001b[0m",
      "\u001b[0;31mZeroDivisionError\u001b[0m                         Traceback (most recent call last)",
      "\u001b[0;31mZeroDivisionError\u001b[0m: float division"
     ]
    },
    {
     "name": "stderr",
     "output_type": "stream",
     "text": [
      "Exception ignored in: '_cython_magic_d33e5aada1040c975bde92b13d65fed9.simple_fit'\n",
      "Traceback (most recent call last):\n",
      "  File \"<magic-timeit>\", line 1, in inner\n",
      "ZeroDivisionError: float division\n"
     ]
    },
    {
     "ename": "ZeroDivisionError",
     "evalue": "float division",
     "output_type": "error",
     "traceback": [
      "\u001b[0;31m---------------------------------------------------------------------------\u001b[0m",
      "\u001b[0;31mZeroDivisionError\u001b[0m                         Traceback (most recent call last)",
      "\u001b[0;31mZeroDivisionError\u001b[0m: float division"
     ]
    },
    {
     "name": "stderr",
     "output_type": "stream",
     "text": [
      "Exception ignored in: '_cython_magic_d33e5aada1040c975bde92b13d65fed9.simple_fit'\n",
      "Traceback (most recent call last):\n",
      "  File \"<magic-timeit>\", line 1, in inner\n",
      "ZeroDivisionError: float division\n"
     ]
    },
    {
     "ename": "ZeroDivisionError",
     "evalue": "float division",
     "output_type": "error",
     "traceback": [
      "\u001b[0;31m---------------------------------------------------------------------------\u001b[0m",
      "\u001b[0;31mZeroDivisionError\u001b[0m                         Traceback (most recent call last)",
      "\u001b[0;31mZeroDivisionError\u001b[0m: float division"
     ]
    },
    {
     "name": "stderr",
     "output_type": "stream",
     "text": [
      "Exception ignored in: '_cython_magic_d33e5aada1040c975bde92b13d65fed9.simple_fit'\n",
      "Traceback (most recent call last):\n",
      "  File \"<magic-timeit>\", line 1, in inner\n",
      "ZeroDivisionError: float division\n"
     ]
    },
    {
     "ename": "ZeroDivisionError",
     "evalue": "float division",
     "output_type": "error",
     "traceback": [
      "\u001b[0;31m---------------------------------------------------------------------------\u001b[0m",
      "\u001b[0;31mZeroDivisionError\u001b[0m                         Traceback (most recent call last)",
      "\u001b[0;31mZeroDivisionError\u001b[0m: float division"
     ]
    },
    {
     "name": "stderr",
     "output_type": "stream",
     "text": [
      "Exception ignored in: '_cython_magic_d33e5aada1040c975bde92b13d65fed9.simple_fit'\n",
      "Traceback (most recent call last):\n",
      "  File \"<magic-timeit>\", line 1, in inner\n",
      "ZeroDivisionError: float division\n"
     ]
    },
    {
     "ename": "ZeroDivisionError",
     "evalue": "float division",
     "output_type": "error",
     "traceback": [
      "\u001b[0;31m---------------------------------------------------------------------------\u001b[0m",
      "\u001b[0;31mZeroDivisionError\u001b[0m                         Traceback (most recent call last)",
      "\u001b[0;31mZeroDivisionError\u001b[0m: float division"
     ]
    },
    {
     "name": "stderr",
     "output_type": "stream",
     "text": [
      "Exception ignored in: '_cython_magic_d33e5aada1040c975bde92b13d65fed9.simple_fit'\n",
      "Traceback (most recent call last):\n",
      "  File \"<magic-timeit>\", line 1, in inner\n",
      "ZeroDivisionError: float division\n"
     ]
    },
    {
     "ename": "ZeroDivisionError",
     "evalue": "float division",
     "output_type": "error",
     "traceback": [
      "\u001b[0;31m---------------------------------------------------------------------------\u001b[0m",
      "\u001b[0;31mZeroDivisionError\u001b[0m                         Traceback (most recent call last)",
      "\u001b[0;31mZeroDivisionError\u001b[0m: float division"
     ]
    },
    {
     "name": "stderr",
     "output_type": "stream",
     "text": [
      "Exception ignored in: '_cython_magic_d33e5aada1040c975bde92b13d65fed9.simple_fit'\n",
      "Traceback (most recent call last):\n",
      "  File \"<magic-timeit>\", line 1, in inner\n",
      "ZeroDivisionError: float division\n"
     ]
    },
    {
     "ename": "ZeroDivisionError",
     "evalue": "float division",
     "output_type": "error",
     "traceback": [
      "\u001b[0;31m---------------------------------------------------------------------------\u001b[0m",
      "\u001b[0;31mZeroDivisionError\u001b[0m                         Traceback (most recent call last)",
      "\u001b[0;31mZeroDivisionError\u001b[0m: float division"
     ]
    },
    {
     "name": "stderr",
     "output_type": "stream",
     "text": [
      "Exception ignored in: '_cython_magic_d33e5aada1040c975bde92b13d65fed9.simple_fit'\n",
      "Traceback (most recent call last):\n",
      "  File \"<magic-timeit>\", line 1, in inner\n",
      "ZeroDivisionError: float division\n"
     ]
    },
    {
     "ename": "ZeroDivisionError",
     "evalue": "float division",
     "output_type": "error",
     "traceback": [
      "\u001b[0;31m---------------------------------------------------------------------------\u001b[0m",
      "\u001b[0;31mZeroDivisionError\u001b[0m                         Traceback (most recent call last)",
      "\u001b[0;31mZeroDivisionError\u001b[0m: float division"
     ]
    },
    {
     "name": "stderr",
     "output_type": "stream",
     "text": [
      "Exception ignored in: '_cython_magic_d33e5aada1040c975bde92b13d65fed9.simple_fit'\n",
      "Traceback (most recent call last):\n",
      "  File \"<magic-timeit>\", line 1, in inner\n",
      "ZeroDivisionError: float division\n"
     ]
    },
    {
     "ename": "ZeroDivisionError",
     "evalue": "float division",
     "output_type": "error",
     "traceback": [
      "\u001b[0;31m---------------------------------------------------------------------------\u001b[0m",
      "\u001b[0;31mZeroDivisionError\u001b[0m                         Traceback (most recent call last)",
      "\u001b[0;31mZeroDivisionError\u001b[0m: float division"
     ]
    },
    {
     "name": "stderr",
     "output_type": "stream",
     "text": [
      "Exception ignored in: '_cython_magic_d33e5aada1040c975bde92b13d65fed9.simple_fit'\n",
      "Traceback (most recent call last):\n",
      "  File \"<magic-timeit>\", line 1, in inner\n",
      "ZeroDivisionError: float division\n"
     ]
    },
    {
     "ename": "ZeroDivisionError",
     "evalue": "float division",
     "output_type": "error",
     "traceback": [
      "\u001b[0;31m---------------------------------------------------------------------------\u001b[0m",
      "\u001b[0;31mZeroDivisionError\u001b[0m                         Traceback (most recent call last)",
      "\u001b[0;31mZeroDivisionError\u001b[0m: float division"
     ]
    },
    {
     "name": "stderr",
     "output_type": "stream",
     "text": [
      "Exception ignored in: '_cython_magic_d33e5aada1040c975bde92b13d65fed9.simple_fit'\n",
      "Traceback (most recent call last):\n",
      "  File \"<magic-timeit>\", line 1, in inner\n",
      "ZeroDivisionError: float division\n"
     ]
    },
    {
     "ename": "ZeroDivisionError",
     "evalue": "float division",
     "output_type": "error",
     "traceback": [
      "\u001b[0;31m---------------------------------------------------------------------------\u001b[0m",
      "\u001b[0;31mZeroDivisionError\u001b[0m                         Traceback (most recent call last)",
      "\u001b[0;31mZeroDivisionError\u001b[0m: float division"
     ]
    },
    {
     "name": "stderr",
     "output_type": "stream",
     "text": [
      "Exception ignored in: '_cython_magic_d33e5aada1040c975bde92b13d65fed9.simple_fit'\n",
      "Traceback (most recent call last):\n",
      "  File \"<magic-timeit>\", line 1, in inner\n",
      "ZeroDivisionError: float division\n"
     ]
    },
    {
     "ename": "ZeroDivisionError",
     "evalue": "float division",
     "output_type": "error",
     "traceback": [
      "\u001b[0;31m---------------------------------------------------------------------------\u001b[0m",
      "\u001b[0;31mZeroDivisionError\u001b[0m                         Traceback (most recent call last)",
      "\u001b[0;31mZeroDivisionError\u001b[0m: float division"
     ]
    },
    {
     "name": "stderr",
     "output_type": "stream",
     "text": [
      "Exception ignored in: '_cython_magic_d33e5aada1040c975bde92b13d65fed9.simple_fit'\n",
      "Traceback (most recent call last):\n",
      "  File \"<magic-timeit>\", line 1, in inner\n",
      "ZeroDivisionError: float division\n"
     ]
    },
    {
     "ename": "ZeroDivisionError",
     "evalue": "float division",
     "output_type": "error",
     "traceback": [
      "\u001b[0;31m---------------------------------------------------------------------------\u001b[0m",
      "\u001b[0;31mZeroDivisionError\u001b[0m                         Traceback (most recent call last)",
      "\u001b[0;31mZeroDivisionError\u001b[0m: float division"
     ]
    },
    {
     "name": "stderr",
     "output_type": "stream",
     "text": [
      "Exception ignored in: '_cython_magic_d33e5aada1040c975bde92b13d65fed9.simple_fit'\n",
      "Traceback (most recent call last):\n",
      "  File \"<magic-timeit>\", line 1, in inner\n",
      "ZeroDivisionError: float division\n"
     ]
    },
    {
     "ename": "ZeroDivisionError",
     "evalue": "float division",
     "output_type": "error",
     "traceback": [
      "\u001b[0;31m---------------------------------------------------------------------------\u001b[0m",
      "\u001b[0;31mZeroDivisionError\u001b[0m                         Traceback (most recent call last)",
      "\u001b[0;31mZeroDivisionError\u001b[0m: float division"
     ]
    },
    {
     "name": "stderr",
     "output_type": "stream",
     "text": [
      "Exception ignored in: '_cython_magic_d33e5aada1040c975bde92b13d65fed9.simple_fit'\n",
      "Traceback (most recent call last):\n",
      "  File \"<magic-timeit>\", line 1, in inner\n",
      "ZeroDivisionError: float division\n"
     ]
    },
    {
     "ename": "ZeroDivisionError",
     "evalue": "float division",
     "output_type": "error",
     "traceback": [
      "\u001b[0;31m---------------------------------------------------------------------------\u001b[0m",
      "\u001b[0;31mZeroDivisionError\u001b[0m                         Traceback (most recent call last)",
      "\u001b[0;31mZeroDivisionError\u001b[0m: float division"
     ]
    },
    {
     "name": "stderr",
     "output_type": "stream",
     "text": [
      "Exception ignored in: '_cython_magic_d33e5aada1040c975bde92b13d65fed9.simple_fit'\n",
      "Traceback (most recent call last):\n",
      "  File \"<magic-timeit>\", line 1, in inner\n",
      "ZeroDivisionError: float division\n"
     ]
    },
    {
     "ename": "ZeroDivisionError",
     "evalue": "float division",
     "output_type": "error",
     "traceback": [
      "\u001b[0;31m---------------------------------------------------------------------------\u001b[0m",
      "\u001b[0;31mZeroDivisionError\u001b[0m                         Traceback (most recent call last)",
      "\u001b[0;31mZeroDivisionError\u001b[0m: float division"
     ]
    },
    {
     "name": "stderr",
     "output_type": "stream",
     "text": [
      "Exception ignored in: '_cython_magic_d33e5aada1040c975bde92b13d65fed9.simple_fit'\n",
      "Traceback (most recent call last):\n",
      "  File \"<magic-timeit>\", line 1, in inner\n",
      "ZeroDivisionError: float division\n"
     ]
    },
    {
     "ename": "ZeroDivisionError",
     "evalue": "float division",
     "output_type": "error",
     "traceback": [
      "\u001b[0;31m---------------------------------------------------------------------------\u001b[0m",
      "\u001b[0;31mZeroDivisionError\u001b[0m                         Traceback (most recent call last)",
      "\u001b[0;31mZeroDivisionError\u001b[0m: float division"
     ]
    },
    {
     "name": "stderr",
     "output_type": "stream",
     "text": [
      "Exception ignored in: '_cython_magic_d33e5aada1040c975bde92b13d65fed9.simple_fit'\n",
      "Traceback (most recent call last):\n",
      "  File \"<magic-timeit>\", line 1, in inner\n",
      "ZeroDivisionError: float division\n"
     ]
    },
    {
     "ename": "ZeroDivisionError",
     "evalue": "float division",
     "output_type": "error",
     "traceback": [
      "\u001b[0;31m---------------------------------------------------------------------------\u001b[0m",
      "\u001b[0;31mZeroDivisionError\u001b[0m                         Traceback (most recent call last)",
      "\u001b[0;31mZeroDivisionError\u001b[0m: float division"
     ]
    },
    {
     "name": "stderr",
     "output_type": "stream",
     "text": [
      "Exception ignored in: '_cython_magic_d33e5aada1040c975bde92b13d65fed9.simple_fit'\n",
      "Traceback (most recent call last):\n",
      "  File \"<magic-timeit>\", line 1, in inner\n",
      "ZeroDivisionError: float division\n"
     ]
    },
    {
     "ename": "ZeroDivisionError",
     "evalue": "float division",
     "output_type": "error",
     "traceback": [
      "\u001b[0;31m---------------------------------------------------------------------------\u001b[0m",
      "\u001b[0;31mZeroDivisionError\u001b[0m                         Traceback (most recent call last)",
      "\u001b[0;31mZeroDivisionError\u001b[0m: float division"
     ]
    },
    {
     "name": "stderr",
     "output_type": "stream",
     "text": [
      "Exception ignored in: '_cython_magic_d33e5aada1040c975bde92b13d65fed9.simple_fit'\n",
      "Traceback (most recent call last):\n",
      "  File \"<magic-timeit>\", line 1, in inner\n",
      "ZeroDivisionError: float division\n"
     ]
    },
    {
     "ename": "ZeroDivisionError",
     "evalue": "float division",
     "output_type": "error",
     "traceback": [
      "\u001b[0;31m---------------------------------------------------------------------------\u001b[0m",
      "\u001b[0;31mZeroDivisionError\u001b[0m                         Traceback (most recent call last)",
      "\u001b[0;31mZeroDivisionError\u001b[0m: float division"
     ]
    },
    {
     "name": "stderr",
     "output_type": "stream",
     "text": [
      "Exception ignored in: '_cython_magic_d33e5aada1040c975bde92b13d65fed9.simple_fit'\n",
      "Traceback (most recent call last):\n",
      "  File \"<magic-timeit>\", line 1, in inner\n",
      "ZeroDivisionError: float division\n"
     ]
    },
    {
     "ename": "ZeroDivisionError",
     "evalue": "float division",
     "output_type": "error",
     "traceback": [
      "\u001b[0;31m---------------------------------------------------------------------------\u001b[0m",
      "\u001b[0;31mZeroDivisionError\u001b[0m                         Traceback (most recent call last)",
      "\u001b[0;31mZeroDivisionError\u001b[0m: float division"
     ]
    },
    {
     "name": "stderr",
     "output_type": "stream",
     "text": [
      "Exception ignored in: '_cython_magic_d33e5aada1040c975bde92b13d65fed9.simple_fit'\n",
      "Traceback (most recent call last):\n",
      "  File \"<magic-timeit>\", line 1, in inner\n",
      "ZeroDivisionError: float division\n"
     ]
    },
    {
     "ename": "ZeroDivisionError",
     "evalue": "float division",
     "output_type": "error",
     "traceback": [
      "\u001b[0;31m---------------------------------------------------------------------------\u001b[0m",
      "\u001b[0;31mZeroDivisionError\u001b[0m                         Traceback (most recent call last)",
      "\u001b[0;31mZeroDivisionError\u001b[0m: float division"
     ]
    },
    {
     "name": "stderr",
     "output_type": "stream",
     "text": [
      "Exception ignored in: '_cython_magic_d33e5aada1040c975bde92b13d65fed9.simple_fit'\n",
      "Traceback (most recent call last):\n",
      "  File \"<magic-timeit>\", line 1, in inner\n",
      "ZeroDivisionError: float division\n"
     ]
    },
    {
     "ename": "ZeroDivisionError",
     "evalue": "float division",
     "output_type": "error",
     "traceback": [
      "\u001b[0;31m---------------------------------------------------------------------------\u001b[0m",
      "\u001b[0;31mZeroDivisionError\u001b[0m                         Traceback (most recent call last)",
      "\u001b[0;31mZeroDivisionError\u001b[0m: float division"
     ]
    },
    {
     "name": "stderr",
     "output_type": "stream",
     "text": [
      "Exception ignored in: '_cython_magic_d33e5aada1040c975bde92b13d65fed9.simple_fit'\n",
      "Traceback (most recent call last):\n",
      "  File \"<magic-timeit>\", line 1, in inner\n",
      "ZeroDivisionError: float division\n"
     ]
    },
    {
     "ename": "ZeroDivisionError",
     "evalue": "float division",
     "output_type": "error",
     "traceback": [
      "\u001b[0;31m---------------------------------------------------------------------------\u001b[0m",
      "\u001b[0;31mZeroDivisionError\u001b[0m                         Traceback (most recent call last)",
      "\u001b[0;31mZeroDivisionError\u001b[0m: float division"
     ]
    },
    {
     "name": "stderr",
     "output_type": "stream",
     "text": [
      "Exception ignored in: '_cython_magic_d33e5aada1040c975bde92b13d65fed9.simple_fit'\n",
      "Traceback (most recent call last):\n",
      "  File \"<magic-timeit>\", line 1, in inner\n",
      "ZeroDivisionError: float division\n"
     ]
    },
    {
     "ename": "ZeroDivisionError",
     "evalue": "float division",
     "output_type": "error",
     "traceback": [
      "\u001b[0;31m---------------------------------------------------------------------------\u001b[0m",
      "\u001b[0;31mZeroDivisionError\u001b[0m                         Traceback (most recent call last)",
      "\u001b[0;31mZeroDivisionError\u001b[0m: float division"
     ]
    },
    {
     "name": "stderr",
     "output_type": "stream",
     "text": [
      "Exception ignored in: '_cython_magic_d33e5aada1040c975bde92b13d65fed9.simple_fit'\n",
      "Traceback (most recent call last):\n",
      "  File \"<magic-timeit>\", line 1, in inner\n",
      "ZeroDivisionError: float division\n"
     ]
    },
    {
     "ename": "ZeroDivisionError",
     "evalue": "float division",
     "output_type": "error",
     "traceback": [
      "\u001b[0;31m---------------------------------------------------------------------------\u001b[0m",
      "\u001b[0;31mZeroDivisionError\u001b[0m                         Traceback (most recent call last)",
      "\u001b[0;31mZeroDivisionError\u001b[0m: float division"
     ]
    },
    {
     "name": "stderr",
     "output_type": "stream",
     "text": [
      "Exception ignored in: '_cython_magic_d33e5aada1040c975bde92b13d65fed9.simple_fit'\n",
      "Traceback (most recent call last):\n",
      "  File \"<magic-timeit>\", line 1, in inner\n",
      "ZeroDivisionError: float division\n"
     ]
    },
    {
     "ename": "ZeroDivisionError",
     "evalue": "float division",
     "output_type": "error",
     "traceback": [
      "\u001b[0;31m---------------------------------------------------------------------------\u001b[0m",
      "\u001b[0;31mZeroDivisionError\u001b[0m                         Traceback (most recent call last)",
      "\u001b[0;31mZeroDivisionError\u001b[0m: float division"
     ]
    },
    {
     "name": "stderr",
     "output_type": "stream",
     "text": [
      "Exception ignored in: '_cython_magic_d33e5aada1040c975bde92b13d65fed9.simple_fit'\n",
      "Traceback (most recent call last):\n",
      "  File \"<magic-timeit>\", line 1, in inner\n",
      "ZeroDivisionError: float division\n"
     ]
    },
    {
     "ename": "ZeroDivisionError",
     "evalue": "float division",
     "output_type": "error",
     "traceback": [
      "\u001b[0;31m---------------------------------------------------------------------------\u001b[0m",
      "\u001b[0;31mZeroDivisionError\u001b[0m                         Traceback (most recent call last)",
      "\u001b[0;31mZeroDivisionError\u001b[0m: float division"
     ]
    },
    {
     "name": "stderr",
     "output_type": "stream",
     "text": [
      "Exception ignored in: '_cython_magic_d33e5aada1040c975bde92b13d65fed9.simple_fit'\n",
      "Traceback (most recent call last):\n",
      "  File \"<magic-timeit>\", line 1, in inner\n",
      "ZeroDivisionError: float division\n"
     ]
    },
    {
     "ename": "ZeroDivisionError",
     "evalue": "float division",
     "output_type": "error",
     "traceback": [
      "\u001b[0;31m---------------------------------------------------------------------------\u001b[0m",
      "\u001b[0;31mZeroDivisionError\u001b[0m                         Traceback (most recent call last)",
      "\u001b[0;31mZeroDivisionError\u001b[0m: float division"
     ]
    },
    {
     "name": "stderr",
     "output_type": "stream",
     "text": [
      "Exception ignored in: '_cython_magic_d33e5aada1040c975bde92b13d65fed9.simple_fit'\n",
      "Traceback (most recent call last):\n",
      "  File \"<magic-timeit>\", line 1, in inner\n",
      "ZeroDivisionError: float division\n"
     ]
    },
    {
     "ename": "ZeroDivisionError",
     "evalue": "float division",
     "output_type": "error",
     "traceback": [
      "\u001b[0;31m---------------------------------------------------------------------------\u001b[0m",
      "\u001b[0;31mZeroDivisionError\u001b[0m                         Traceback (most recent call last)",
      "\u001b[0;31mZeroDivisionError\u001b[0m: float division"
     ]
    },
    {
     "name": "stderr",
     "output_type": "stream",
     "text": [
      "Exception ignored in: '_cython_magic_d33e5aada1040c975bde92b13d65fed9.simple_fit'\n",
      "Traceback (most recent call last):\n",
      "  File \"<magic-timeit>\", line 1, in inner\n",
      "ZeroDivisionError: float division\n"
     ]
    },
    {
     "ename": "ZeroDivisionError",
     "evalue": "float division",
     "output_type": "error",
     "traceback": [
      "\u001b[0;31m---------------------------------------------------------------------------\u001b[0m",
      "\u001b[0;31mZeroDivisionError\u001b[0m                         Traceback (most recent call last)",
      "\u001b[0;31mZeroDivisionError\u001b[0m: float division"
     ]
    },
    {
     "name": "stderr",
     "output_type": "stream",
     "text": [
      "Exception ignored in: '_cython_magic_d33e5aada1040c975bde92b13d65fed9.simple_fit'\n",
      "Traceback (most recent call last):\n",
      "  File \"<magic-timeit>\", line 1, in inner\n",
      "ZeroDivisionError: float division\n"
     ]
    },
    {
     "ename": "ZeroDivisionError",
     "evalue": "float division",
     "output_type": "error",
     "traceback": [
      "\u001b[0;31m---------------------------------------------------------------------------\u001b[0m",
      "\u001b[0;31mZeroDivisionError\u001b[0m                         Traceback (most recent call last)",
      "\u001b[0;31mZeroDivisionError\u001b[0m: float division"
     ]
    },
    {
     "name": "stderr",
     "output_type": "stream",
     "text": [
      "Exception ignored in: '_cython_magic_d33e5aada1040c975bde92b13d65fed9.simple_fit'\n",
      "Traceback (most recent call last):\n",
      "  File \"<magic-timeit>\", line 1, in inner\n",
      "ZeroDivisionError: float division\n"
     ]
    },
    {
     "ename": "ZeroDivisionError",
     "evalue": "float division",
     "output_type": "error",
     "traceback": [
      "\u001b[0;31m---------------------------------------------------------------------------\u001b[0m",
      "\u001b[0;31mZeroDivisionError\u001b[0m                         Traceback (most recent call last)",
      "\u001b[0;31mZeroDivisionError\u001b[0m: float division"
     ]
    },
    {
     "name": "stderr",
     "output_type": "stream",
     "text": [
      "Exception ignored in: '_cython_magic_d33e5aada1040c975bde92b13d65fed9.simple_fit'\n",
      "Traceback (most recent call last):\n",
      "  File \"<magic-timeit>\", line 1, in inner\n",
      "ZeroDivisionError: float division\n"
     ]
    },
    {
     "ename": "ZeroDivisionError",
     "evalue": "float division",
     "output_type": "error",
     "traceback": [
      "\u001b[0;31m---------------------------------------------------------------------------\u001b[0m",
      "\u001b[0;31mZeroDivisionError\u001b[0m                         Traceback (most recent call last)",
      "\u001b[0;31mZeroDivisionError\u001b[0m: float division"
     ]
    },
    {
     "name": "stderr",
     "output_type": "stream",
     "text": [
      "Exception ignored in: '_cython_magic_d33e5aada1040c975bde92b13d65fed9.simple_fit'\n",
      "Traceback (most recent call last):\n",
      "  File \"<magic-timeit>\", line 1, in inner\n",
      "ZeroDivisionError: float division\n"
     ]
    },
    {
     "ename": "ZeroDivisionError",
     "evalue": "float division",
     "output_type": "error",
     "traceback": [
      "\u001b[0;31m---------------------------------------------------------------------------\u001b[0m",
      "\u001b[0;31mZeroDivisionError\u001b[0m                         Traceback (most recent call last)",
      "\u001b[0;31mZeroDivisionError\u001b[0m: float division"
     ]
    },
    {
     "name": "stderr",
     "output_type": "stream",
     "text": [
      "Exception ignored in: '_cython_magic_d33e5aada1040c975bde92b13d65fed9.simple_fit'\n",
      "Traceback (most recent call last):\n",
      "  File \"<magic-timeit>\", line 1, in inner\n",
      "ZeroDivisionError: float division\n"
     ]
    },
    {
     "ename": "ZeroDivisionError",
     "evalue": "float division",
     "output_type": "error",
     "traceback": [
      "\u001b[0;31m---------------------------------------------------------------------------\u001b[0m",
      "\u001b[0;31mZeroDivisionError\u001b[0m                         Traceback (most recent call last)",
      "\u001b[0;31mZeroDivisionError\u001b[0m: float division"
     ]
    },
    {
     "name": "stderr",
     "output_type": "stream",
     "text": [
      "Exception ignored in: '_cython_magic_d33e5aada1040c975bde92b13d65fed9.simple_fit'\n",
      "Traceback (most recent call last):\n",
      "  File \"<magic-timeit>\", line 1, in inner\n",
      "ZeroDivisionError: float division\n"
     ]
    },
    {
     "ename": "ZeroDivisionError",
     "evalue": "float division",
     "output_type": "error",
     "traceback": [
      "\u001b[0;31m---------------------------------------------------------------------------\u001b[0m",
      "\u001b[0;31mZeroDivisionError\u001b[0m                         Traceback (most recent call last)",
      "\u001b[0;31mZeroDivisionError\u001b[0m: float division"
     ]
    },
    {
     "name": "stderr",
     "output_type": "stream",
     "text": [
      "Exception ignored in: '_cython_magic_d33e5aada1040c975bde92b13d65fed9.simple_fit'\n",
      "Traceback (most recent call last):\n",
      "  File \"<magic-timeit>\", line 1, in inner\n",
      "ZeroDivisionError: float division\n"
     ]
    },
    {
     "ename": "ZeroDivisionError",
     "evalue": "float division",
     "output_type": "error",
     "traceback": [
      "\u001b[0;31m---------------------------------------------------------------------------\u001b[0m",
      "\u001b[0;31mZeroDivisionError\u001b[0m                         Traceback (most recent call last)",
      "\u001b[0;31mZeroDivisionError\u001b[0m: float division"
     ]
    },
    {
     "name": "stderr",
     "output_type": "stream",
     "text": [
      "Exception ignored in: '_cython_magic_d33e5aada1040c975bde92b13d65fed9.simple_fit'\n",
      "Traceback (most recent call last):\n",
      "  File \"<magic-timeit>\", line 1, in inner\n",
      "ZeroDivisionError: float division\n"
     ]
    },
    {
     "ename": "ZeroDivisionError",
     "evalue": "float division",
     "output_type": "error",
     "traceback": [
      "\u001b[0;31m---------------------------------------------------------------------------\u001b[0m",
      "\u001b[0;31mZeroDivisionError\u001b[0m                         Traceback (most recent call last)",
      "\u001b[0;31mZeroDivisionError\u001b[0m: float division"
     ]
    },
    {
     "name": "stderr",
     "output_type": "stream",
     "text": [
      "Exception ignored in: '_cython_magic_d33e5aada1040c975bde92b13d65fed9.simple_fit'\n",
      "Traceback (most recent call last):\n",
      "  File \"<magic-timeit>\", line 1, in inner\n",
      "ZeroDivisionError: float division\n"
     ]
    },
    {
     "ename": "ZeroDivisionError",
     "evalue": "float division",
     "output_type": "error",
     "traceback": [
      "\u001b[0;31m---------------------------------------------------------------------------\u001b[0m",
      "\u001b[0;31mZeroDivisionError\u001b[0m                         Traceback (most recent call last)",
      "\u001b[0;31mZeroDivisionError\u001b[0m: float division"
     ]
    },
    {
     "name": "stderr",
     "output_type": "stream",
     "text": [
      "Exception ignored in: '_cython_magic_d33e5aada1040c975bde92b13d65fed9.simple_fit'\n",
      "Traceback (most recent call last):\n",
      "  File \"<magic-timeit>\", line 1, in inner\n",
      "ZeroDivisionError: float division\n"
     ]
    },
    {
     "ename": "ZeroDivisionError",
     "evalue": "float division",
     "output_type": "error",
     "traceback": [
      "\u001b[0;31m---------------------------------------------------------------------------\u001b[0m",
      "\u001b[0;31mZeroDivisionError\u001b[0m                         Traceback (most recent call last)",
      "\u001b[0;31mZeroDivisionError\u001b[0m: float division"
     ]
    },
    {
     "name": "stderr",
     "output_type": "stream",
     "text": [
      "Exception ignored in: '_cython_magic_d33e5aada1040c975bde92b13d65fed9.simple_fit'\n",
      "Traceback (most recent call last):\n",
      "  File \"<magic-timeit>\", line 1, in inner\n",
      "ZeroDivisionError: float division\n"
     ]
    },
    {
     "ename": "ZeroDivisionError",
     "evalue": "float division",
     "output_type": "error",
     "traceback": [
      "\u001b[0;31m---------------------------------------------------------------------------\u001b[0m",
      "\u001b[0;31mZeroDivisionError\u001b[0m                         Traceback (most recent call last)",
      "\u001b[0;31mZeroDivisionError\u001b[0m: float division"
     ]
    },
    {
     "name": "stderr",
     "output_type": "stream",
     "text": [
      "Exception ignored in: '_cython_magic_d33e5aada1040c975bde92b13d65fed9.simple_fit'\n",
      "Traceback (most recent call last):\n",
      "  File \"<magic-timeit>\", line 1, in inner\n",
      "ZeroDivisionError: float division\n"
     ]
    },
    {
     "ename": "ZeroDivisionError",
     "evalue": "float division",
     "output_type": "error",
     "traceback": [
      "\u001b[0;31m---------------------------------------------------------------------------\u001b[0m",
      "\u001b[0;31mZeroDivisionError\u001b[0m                         Traceback (most recent call last)",
      "\u001b[0;31mZeroDivisionError\u001b[0m: float division"
     ]
    },
    {
     "name": "stderr",
     "output_type": "stream",
     "text": [
      "Exception ignored in: '_cython_magic_d33e5aada1040c975bde92b13d65fed9.simple_fit'\n",
      "Traceback (most recent call last):\n",
      "  File \"<magic-timeit>\", line 1, in inner\n",
      "ZeroDivisionError: float division\n"
     ]
    },
    {
     "ename": "ZeroDivisionError",
     "evalue": "float division",
     "output_type": "error",
     "traceback": [
      "\u001b[0;31m---------------------------------------------------------------------------\u001b[0m",
      "\u001b[0;31mZeroDivisionError\u001b[0m                         Traceback (most recent call last)",
      "\u001b[0;31mZeroDivisionError\u001b[0m: float division"
     ]
    },
    {
     "name": "stderr",
     "output_type": "stream",
     "text": [
      "Exception ignored in: '_cython_magic_d33e5aada1040c975bde92b13d65fed9.simple_fit'\n",
      "Traceback (most recent call last):\n",
      "  File \"<magic-timeit>\", line 1, in inner\n",
      "ZeroDivisionError: float division\n"
     ]
    },
    {
     "ename": "ZeroDivisionError",
     "evalue": "float division",
     "output_type": "error",
     "traceback": [
      "\u001b[0;31m---------------------------------------------------------------------------\u001b[0m",
      "\u001b[0;31mZeroDivisionError\u001b[0m                         Traceback (most recent call last)",
      "\u001b[0;31mZeroDivisionError\u001b[0m: float division"
     ]
    },
    {
     "name": "stderr",
     "output_type": "stream",
     "text": [
      "Exception ignored in: '_cython_magic_d33e5aada1040c975bde92b13d65fed9.simple_fit'\n",
      "Traceback (most recent call last):\n",
      "  File \"<magic-timeit>\", line 1, in inner\n",
      "ZeroDivisionError: float division\n"
     ]
    },
    {
     "ename": "ZeroDivisionError",
     "evalue": "float division",
     "output_type": "error",
     "traceback": [
      "\u001b[0;31m---------------------------------------------------------------------------\u001b[0m",
      "\u001b[0;31mZeroDivisionError\u001b[0m                         Traceback (most recent call last)",
      "\u001b[0;31mZeroDivisionError\u001b[0m: float division"
     ]
    },
    {
     "name": "stderr",
     "output_type": "stream",
     "text": [
      "Exception ignored in: '_cython_magic_d33e5aada1040c975bde92b13d65fed9.simple_fit'\n",
      "Traceback (most recent call last):\n",
      "  File \"<magic-timeit>\", line 1, in inner\n",
      "ZeroDivisionError: float division\n"
     ]
    },
    {
     "ename": "ZeroDivisionError",
     "evalue": "float division",
     "output_type": "error",
     "traceback": [
      "\u001b[0;31m---------------------------------------------------------------------------\u001b[0m",
      "\u001b[0;31mZeroDivisionError\u001b[0m                         Traceback (most recent call last)",
      "\u001b[0;31mZeroDivisionError\u001b[0m: float division"
     ]
    },
    {
     "name": "stderr",
     "output_type": "stream",
     "text": [
      "Exception ignored in: '_cython_magic_d33e5aada1040c975bde92b13d65fed9.simple_fit'\n",
      "Traceback (most recent call last):\n",
      "  File \"<magic-timeit>\", line 1, in inner\n",
      "ZeroDivisionError: float division\n"
     ]
    },
    {
     "ename": "ZeroDivisionError",
     "evalue": "float division",
     "output_type": "error",
     "traceback": [
      "\u001b[0;31m---------------------------------------------------------------------------\u001b[0m",
      "\u001b[0;31mZeroDivisionError\u001b[0m                         Traceback (most recent call last)",
      "\u001b[0;31mZeroDivisionError\u001b[0m: float division"
     ]
    },
    {
     "name": "stderr",
     "output_type": "stream",
     "text": [
      "Exception ignored in: '_cython_magic_d33e5aada1040c975bde92b13d65fed9.simple_fit'\n",
      "Traceback (most recent call last):\n",
      "  File \"<magic-timeit>\", line 1, in inner\n",
      "ZeroDivisionError: float division\n"
     ]
    },
    {
     "ename": "ZeroDivisionError",
     "evalue": "float division",
     "output_type": "error",
     "traceback": [
      "\u001b[0;31m---------------------------------------------------------------------------\u001b[0m",
      "\u001b[0;31mZeroDivisionError\u001b[0m                         Traceback (most recent call last)",
      "\u001b[0;31mZeroDivisionError\u001b[0m: float division"
     ]
    },
    {
     "name": "stderr",
     "output_type": "stream",
     "text": [
      "Exception ignored in: '_cython_magic_d33e5aada1040c975bde92b13d65fed9.simple_fit'\n",
      "Traceback (most recent call last):\n",
      "  File \"<magic-timeit>\", line 1, in inner\n",
      "ZeroDivisionError: float division\n"
     ]
    },
    {
     "ename": "ZeroDivisionError",
     "evalue": "float division",
     "output_type": "error",
     "traceback": [
      "\u001b[0;31m---------------------------------------------------------------------------\u001b[0m",
      "\u001b[0;31mZeroDivisionError\u001b[0m                         Traceback (most recent call last)",
      "\u001b[0;31mZeroDivisionError\u001b[0m: float division"
     ]
    },
    {
     "name": "stderr",
     "output_type": "stream",
     "text": [
      "Exception ignored in: '_cython_magic_d33e5aada1040c975bde92b13d65fed9.simple_fit'\n",
      "Traceback (most recent call last):\n",
      "  File \"<magic-timeit>\", line 1, in inner\n",
      "ZeroDivisionError: float division\n"
     ]
    },
    {
     "ename": "ZeroDivisionError",
     "evalue": "float division",
     "output_type": "error",
     "traceback": [
      "\u001b[0;31m---------------------------------------------------------------------------\u001b[0m",
      "\u001b[0;31mZeroDivisionError\u001b[0m                         Traceback (most recent call last)",
      "\u001b[0;31mZeroDivisionError\u001b[0m: float division"
     ]
    },
    {
     "name": "stderr",
     "output_type": "stream",
     "text": [
      "Exception ignored in: '_cython_magic_d33e5aada1040c975bde92b13d65fed9.simple_fit'\n",
      "Traceback (most recent call last):\n",
      "  File \"<magic-timeit>\", line 1, in inner\n",
      "ZeroDivisionError: float division\n"
     ]
    },
    {
     "ename": "ZeroDivisionError",
     "evalue": "float division",
     "output_type": "error",
     "traceback": [
      "\u001b[0;31m---------------------------------------------------------------------------\u001b[0m",
      "\u001b[0;31mZeroDivisionError\u001b[0m                         Traceback (most recent call last)",
      "\u001b[0;31mZeroDivisionError\u001b[0m: float division"
     ]
    },
    {
     "name": "stderr",
     "output_type": "stream",
     "text": [
      "Exception ignored in: '_cython_magic_d33e5aada1040c975bde92b13d65fed9.simple_fit'\n",
      "Traceback (most recent call last):\n",
      "  File \"<magic-timeit>\", line 1, in inner\n",
      "ZeroDivisionError: float division\n"
     ]
    },
    {
     "ename": "ZeroDivisionError",
     "evalue": "float division",
     "output_type": "error",
     "traceback": [
      "\u001b[0;31m---------------------------------------------------------------------------\u001b[0m",
      "\u001b[0;31mZeroDivisionError\u001b[0m                         Traceback (most recent call last)",
      "\u001b[0;31mZeroDivisionError\u001b[0m: float division"
     ]
    },
    {
     "name": "stderr",
     "output_type": "stream",
     "text": [
      "Exception ignored in: '_cython_magic_d33e5aada1040c975bde92b13d65fed9.simple_fit'\n",
      "Traceback (most recent call last):\n",
      "  File \"<magic-timeit>\", line 1, in inner\n",
      "ZeroDivisionError: float division\n"
     ]
    },
    {
     "ename": "ZeroDivisionError",
     "evalue": "float division",
     "output_type": "error",
     "traceback": [
      "\u001b[0;31m---------------------------------------------------------------------------\u001b[0m",
      "\u001b[0;31mZeroDivisionError\u001b[0m                         Traceback (most recent call last)",
      "\u001b[0;31mZeroDivisionError\u001b[0m: float division"
     ]
    },
    {
     "name": "stderr",
     "output_type": "stream",
     "text": [
      "Exception ignored in: '_cython_magic_d33e5aada1040c975bde92b13d65fed9.simple_fit'\n",
      "Traceback (most recent call last):\n",
      "  File \"<magic-timeit>\", line 1, in inner\n",
      "ZeroDivisionError: float division\n"
     ]
    },
    {
     "ename": "ZeroDivisionError",
     "evalue": "float division",
     "output_type": "error",
     "traceback": [
      "\u001b[0;31m---------------------------------------------------------------------------\u001b[0m",
      "\u001b[0;31mZeroDivisionError\u001b[0m                         Traceback (most recent call last)",
      "\u001b[0;31mZeroDivisionError\u001b[0m: float division"
     ]
    },
    {
     "name": "stderr",
     "output_type": "stream",
     "text": [
      "Exception ignored in: '_cython_magic_d33e5aada1040c975bde92b13d65fed9.simple_fit'\n",
      "Traceback (most recent call last):\n",
      "  File \"<magic-timeit>\", line 1, in inner\n",
      "ZeroDivisionError: float division\n"
     ]
    },
    {
     "ename": "ZeroDivisionError",
     "evalue": "float division",
     "output_type": "error",
     "traceback": [
      "\u001b[0;31m---------------------------------------------------------------------------\u001b[0m",
      "\u001b[0;31mZeroDivisionError\u001b[0m                         Traceback (most recent call last)",
      "\u001b[0;31mZeroDivisionError\u001b[0m: float division"
     ]
    },
    {
     "name": "stderr",
     "output_type": "stream",
     "text": [
      "Exception ignored in: '_cython_magic_d33e5aada1040c975bde92b13d65fed9.simple_fit'\n",
      "Traceback (most recent call last):\n",
      "  File \"<magic-timeit>\", line 1, in inner\n",
      "ZeroDivisionError: float division\n"
     ]
    },
    {
     "ename": "ZeroDivisionError",
     "evalue": "float division",
     "output_type": "error",
     "traceback": [
      "\u001b[0;31m---------------------------------------------------------------------------\u001b[0m",
      "\u001b[0;31mZeroDivisionError\u001b[0m                         Traceback (most recent call last)",
      "\u001b[0;31mZeroDivisionError\u001b[0m: float division"
     ]
    },
    {
     "name": "stderr",
     "output_type": "stream",
     "text": [
      "Exception ignored in: '_cython_magic_d33e5aada1040c975bde92b13d65fed9.simple_fit'\n",
      "Traceback (most recent call last):\n",
      "  File \"<magic-timeit>\", line 1, in inner\n",
      "ZeroDivisionError: float division\n"
     ]
    },
    {
     "ename": "ZeroDivisionError",
     "evalue": "float division",
     "output_type": "error",
     "traceback": [
      "\u001b[0;31m---------------------------------------------------------------------------\u001b[0m",
      "\u001b[0;31mZeroDivisionError\u001b[0m                         Traceback (most recent call last)",
      "\u001b[0;31mZeroDivisionError\u001b[0m: float division"
     ]
    },
    {
     "name": "stderr",
     "output_type": "stream",
     "text": [
      "Exception ignored in: '_cython_magic_d33e5aada1040c975bde92b13d65fed9.simple_fit'\n",
      "Traceback (most recent call last):\n",
      "  File \"<magic-timeit>\", line 1, in inner\n",
      "ZeroDivisionError: float division\n"
     ]
    },
    {
     "ename": "ZeroDivisionError",
     "evalue": "float division",
     "output_type": "error",
     "traceback": [
      "\u001b[0;31m---------------------------------------------------------------------------\u001b[0m",
      "\u001b[0;31mZeroDivisionError\u001b[0m                         Traceback (most recent call last)",
      "\u001b[0;31mZeroDivisionError\u001b[0m: float division"
     ]
    },
    {
     "name": "stderr",
     "output_type": "stream",
     "text": [
      "Exception ignored in: '_cython_magic_d33e5aada1040c975bde92b13d65fed9.simple_fit'\n",
      "Traceback (most recent call last):\n",
      "  File \"<magic-timeit>\", line 1, in inner\n",
      "ZeroDivisionError: float division\n"
     ]
    },
    {
     "ename": "ZeroDivisionError",
     "evalue": "float division",
     "output_type": "error",
     "traceback": [
      "\u001b[0;31m---------------------------------------------------------------------------\u001b[0m",
      "\u001b[0;31mZeroDivisionError\u001b[0m                         Traceback (most recent call last)",
      "\u001b[0;31mZeroDivisionError\u001b[0m: float division"
     ]
    },
    {
     "name": "stderr",
     "output_type": "stream",
     "text": [
      "Exception ignored in: '_cython_magic_d33e5aada1040c975bde92b13d65fed9.simple_fit'\n",
      "Traceback (most recent call last):\n",
      "  File \"<magic-timeit>\", line 1, in inner\n",
      "ZeroDivisionError: float division\n"
     ]
    },
    {
     "ename": "ZeroDivisionError",
     "evalue": "float division",
     "output_type": "error",
     "traceback": [
      "\u001b[0;31m---------------------------------------------------------------------------\u001b[0m",
      "\u001b[0;31mZeroDivisionError\u001b[0m                         Traceback (most recent call last)",
      "\u001b[0;31mZeroDivisionError\u001b[0m: float division"
     ]
    },
    {
     "name": "stderr",
     "output_type": "stream",
     "text": [
      "Exception ignored in: '_cython_magic_d33e5aada1040c975bde92b13d65fed9.simple_fit'\n",
      "Traceback (most recent call last):\n",
      "  File \"<magic-timeit>\", line 1, in inner\n",
      "ZeroDivisionError: float division\n"
     ]
    },
    {
     "ename": "ZeroDivisionError",
     "evalue": "float division",
     "output_type": "error",
     "traceback": [
      "\u001b[0;31m---------------------------------------------------------------------------\u001b[0m",
      "\u001b[0;31mZeroDivisionError\u001b[0m                         Traceback (most recent call last)",
      "\u001b[0;31mZeroDivisionError\u001b[0m: float division"
     ]
    },
    {
     "name": "stderr",
     "output_type": "stream",
     "text": [
      "Exception ignored in: '_cython_magic_d33e5aada1040c975bde92b13d65fed9.simple_fit'\n",
      "Traceback (most recent call last):\n",
      "  File \"<magic-timeit>\", line 1, in inner\n",
      "ZeroDivisionError: float division\n"
     ]
    },
    {
     "ename": "ZeroDivisionError",
     "evalue": "float division",
     "output_type": "error",
     "traceback": [
      "\u001b[0;31m---------------------------------------------------------------------------\u001b[0m",
      "\u001b[0;31mZeroDivisionError\u001b[0m                         Traceback (most recent call last)",
      "\u001b[0;31mZeroDivisionError\u001b[0m: float division"
     ]
    },
    {
     "name": "stderr",
     "output_type": "stream",
     "text": [
      "Exception ignored in: '_cython_magic_d33e5aada1040c975bde92b13d65fed9.simple_fit'\n",
      "Traceback (most recent call last):\n",
      "  File \"<magic-timeit>\", line 1, in inner\n",
      "ZeroDivisionError: float division\n"
     ]
    },
    {
     "ename": "ZeroDivisionError",
     "evalue": "float division",
     "output_type": "error",
     "traceback": [
      "\u001b[0;31m---------------------------------------------------------------------------\u001b[0m",
      "\u001b[0;31mZeroDivisionError\u001b[0m                         Traceback (most recent call last)",
      "\u001b[0;31mZeroDivisionError\u001b[0m: float division"
     ]
    },
    {
     "name": "stderr",
     "output_type": "stream",
     "text": [
      "Exception ignored in: '_cython_magic_d33e5aada1040c975bde92b13d65fed9.simple_fit'\n",
      "Traceback (most recent call last):\n",
      "  File \"<magic-timeit>\", line 1, in inner\n",
      "ZeroDivisionError: float division\n"
     ]
    },
    {
     "ename": "ZeroDivisionError",
     "evalue": "float division",
     "output_type": "error",
     "traceback": [
      "\u001b[0;31m---------------------------------------------------------------------------\u001b[0m",
      "\u001b[0;31mZeroDivisionError\u001b[0m                         Traceback (most recent call last)",
      "\u001b[0;31mZeroDivisionError\u001b[0m: float division"
     ]
    },
    {
     "name": "stderr",
     "output_type": "stream",
     "text": [
      "Exception ignored in: '_cython_magic_d33e5aada1040c975bde92b13d65fed9.simple_fit'\n",
      "Traceback (most recent call last):\n",
      "  File \"<magic-timeit>\", line 1, in inner\n",
      "ZeroDivisionError: float division\n"
     ]
    },
    {
     "ename": "ZeroDivisionError",
     "evalue": "float division",
     "output_type": "error",
     "traceback": [
      "\u001b[0;31m---------------------------------------------------------------------------\u001b[0m",
      "\u001b[0;31mZeroDivisionError\u001b[0m                         Traceback (most recent call last)",
      "\u001b[0;31mZeroDivisionError\u001b[0m: float division"
     ]
    },
    {
     "name": "stderr",
     "output_type": "stream",
     "text": [
      "Exception ignored in: '_cython_magic_d33e5aada1040c975bde92b13d65fed9.simple_fit'\n",
      "Traceback (most recent call last):\n",
      "  File \"<magic-timeit>\", line 1, in inner\n",
      "ZeroDivisionError: float division\n"
     ]
    },
    {
     "ename": "ZeroDivisionError",
     "evalue": "float division",
     "output_type": "error",
     "traceback": [
      "\u001b[0;31m---------------------------------------------------------------------------\u001b[0m",
      "\u001b[0;31mZeroDivisionError\u001b[0m                         Traceback (most recent call last)",
      "\u001b[0;31mZeroDivisionError\u001b[0m: float division"
     ]
    },
    {
     "name": "stderr",
     "output_type": "stream",
     "text": [
      "Exception ignored in: '_cython_magic_d33e5aada1040c975bde92b13d65fed9.simple_fit'\n",
      "Traceback (most recent call last):\n",
      "  File \"<magic-timeit>\", line 1, in inner\n",
      "ZeroDivisionError: float division\n"
     ]
    },
    {
     "ename": "ZeroDivisionError",
     "evalue": "float division",
     "output_type": "error",
     "traceback": [
      "\u001b[0;31m---------------------------------------------------------------------------\u001b[0m",
      "\u001b[0;31mZeroDivisionError\u001b[0m                         Traceback (most recent call last)",
      "\u001b[0;31mZeroDivisionError\u001b[0m: float division"
     ]
    },
    {
     "name": "stderr",
     "output_type": "stream",
     "text": [
      "Exception ignored in: '_cython_magic_d33e5aada1040c975bde92b13d65fed9.simple_fit'\n",
      "Traceback (most recent call last):\n",
      "  File \"<magic-timeit>\", line 1, in inner\n",
      "ZeroDivisionError: float division\n"
     ]
    },
    {
     "ename": "ZeroDivisionError",
     "evalue": "float division",
     "output_type": "error",
     "traceback": [
      "\u001b[0;31m---------------------------------------------------------------------------\u001b[0m",
      "\u001b[0;31mZeroDivisionError\u001b[0m                         Traceback (most recent call last)",
      "\u001b[0;31mZeroDivisionError\u001b[0m: float division"
     ]
    },
    {
     "name": "stderr",
     "output_type": "stream",
     "text": [
      "Exception ignored in: '_cython_magic_d33e5aada1040c975bde92b13d65fed9.simple_fit'\n",
      "Traceback (most recent call last):\n",
      "  File \"<magic-timeit>\", line 1, in inner\n",
      "ZeroDivisionError: float division\n"
     ]
    },
    {
     "ename": "ZeroDivisionError",
     "evalue": "float division",
     "output_type": "error",
     "traceback": [
      "\u001b[0;31m---------------------------------------------------------------------------\u001b[0m",
      "\u001b[0;31mZeroDivisionError\u001b[0m                         Traceback (most recent call last)",
      "\u001b[0;31mZeroDivisionError\u001b[0m: float division"
     ]
    },
    {
     "name": "stderr",
     "output_type": "stream",
     "text": [
      "Exception ignored in: '_cython_magic_d33e5aada1040c975bde92b13d65fed9.simple_fit'\n",
      "Traceback (most recent call last):\n",
      "  File \"<magic-timeit>\", line 1, in inner\n",
      "ZeroDivisionError: float division\n"
     ]
    },
    {
     "ename": "ZeroDivisionError",
     "evalue": "float division",
     "output_type": "error",
     "traceback": [
      "\u001b[0;31m---------------------------------------------------------------------------\u001b[0m",
      "\u001b[0;31mZeroDivisionError\u001b[0m                         Traceback (most recent call last)",
      "\u001b[0;31mZeroDivisionError\u001b[0m: float division"
     ]
    },
    {
     "name": "stderr",
     "output_type": "stream",
     "text": [
      "Exception ignored in: '_cython_magic_d33e5aada1040c975bde92b13d65fed9.simple_fit'\n",
      "Traceback (most recent call last):\n",
      "  File \"<magic-timeit>\", line 1, in inner\n",
      "ZeroDivisionError: float division\n"
     ]
    },
    {
     "ename": "ZeroDivisionError",
     "evalue": "float division",
     "output_type": "error",
     "traceback": [
      "\u001b[0;31m---------------------------------------------------------------------------\u001b[0m",
      "\u001b[0;31mZeroDivisionError\u001b[0m                         Traceback (most recent call last)",
      "\u001b[0;31mZeroDivisionError\u001b[0m: float division"
     ]
    },
    {
     "name": "stderr",
     "output_type": "stream",
     "text": [
      "Exception ignored in: '_cython_magic_d33e5aada1040c975bde92b13d65fed9.simple_fit'\n",
      "Traceback (most recent call last):\n",
      "  File \"<magic-timeit>\", line 1, in inner\n",
      "ZeroDivisionError: float division\n"
     ]
    },
    {
     "ename": "ZeroDivisionError",
     "evalue": "float division",
     "output_type": "error",
     "traceback": [
      "\u001b[0;31m---------------------------------------------------------------------------\u001b[0m",
      "\u001b[0;31mZeroDivisionError\u001b[0m                         Traceback (most recent call last)",
      "\u001b[0;31mZeroDivisionError\u001b[0m: float division"
     ]
    },
    {
     "name": "stderr",
     "output_type": "stream",
     "text": [
      "Exception ignored in: '_cython_magic_d33e5aada1040c975bde92b13d65fed9.simple_fit'\n",
      "Traceback (most recent call last):\n",
      "  File \"<magic-timeit>\", line 1, in inner\n",
      "ZeroDivisionError: float division\n"
     ]
    },
    {
     "ename": "ZeroDivisionError",
     "evalue": "float division",
     "output_type": "error",
     "traceback": [
      "\u001b[0;31m---------------------------------------------------------------------------\u001b[0m",
      "\u001b[0;31mZeroDivisionError\u001b[0m                         Traceback (most recent call last)",
      "\u001b[0;31mZeroDivisionError\u001b[0m: float division"
     ]
    },
    {
     "name": "stderr",
     "output_type": "stream",
     "text": [
      "Exception ignored in: '_cython_magic_d33e5aada1040c975bde92b13d65fed9.simple_fit'\n",
      "Traceback (most recent call last):\n",
      "  File \"<magic-timeit>\", line 1, in inner\n",
      "ZeroDivisionError: float division\n"
     ]
    },
    {
     "ename": "ZeroDivisionError",
     "evalue": "float division",
     "output_type": "error",
     "traceback": [
      "\u001b[0;31m---------------------------------------------------------------------------\u001b[0m",
      "\u001b[0;31mZeroDivisionError\u001b[0m                         Traceback (most recent call last)",
      "\u001b[0;31mZeroDivisionError\u001b[0m: float division"
     ]
    },
    {
     "name": "stderr",
     "output_type": "stream",
     "text": [
      "Exception ignored in: '_cython_magic_d33e5aada1040c975bde92b13d65fed9.simple_fit'\n",
      "Traceback (most recent call last):\n",
      "  File \"<magic-timeit>\", line 1, in inner\n",
      "ZeroDivisionError: float division\n"
     ]
    },
    {
     "ename": "ZeroDivisionError",
     "evalue": "float division",
     "output_type": "error",
     "traceback": [
      "\u001b[0;31m---------------------------------------------------------------------------\u001b[0m",
      "\u001b[0;31mZeroDivisionError\u001b[0m                         Traceback (most recent call last)",
      "\u001b[0;31mZeroDivisionError\u001b[0m: float division"
     ]
    },
    {
     "name": "stderr",
     "output_type": "stream",
     "text": [
      "Exception ignored in: '_cython_magic_d33e5aada1040c975bde92b13d65fed9.simple_fit'\n",
      "Traceback (most recent call last):\n",
      "  File \"<magic-timeit>\", line 1, in inner\n",
      "ZeroDivisionError: float division\n"
     ]
    },
    {
     "ename": "ZeroDivisionError",
     "evalue": "float division",
     "output_type": "error",
     "traceback": [
      "\u001b[0;31m---------------------------------------------------------------------------\u001b[0m",
      "\u001b[0;31mZeroDivisionError\u001b[0m                         Traceback (most recent call last)",
      "\u001b[0;31mZeroDivisionError\u001b[0m: float division"
     ]
    },
    {
     "name": "stderr",
     "output_type": "stream",
     "text": [
      "Exception ignored in: '_cython_magic_d33e5aada1040c975bde92b13d65fed9.simple_fit'\n",
      "Traceback (most recent call last):\n",
      "  File \"<magic-timeit>\", line 1, in inner\n",
      "ZeroDivisionError: float division\n"
     ]
    },
    {
     "ename": "ZeroDivisionError",
     "evalue": "float division",
     "output_type": "error",
     "traceback": [
      "\u001b[0;31m---------------------------------------------------------------------------\u001b[0m",
      "\u001b[0;31mZeroDivisionError\u001b[0m                         Traceback (most recent call last)",
      "\u001b[0;31mZeroDivisionError\u001b[0m: float division"
     ]
    },
    {
     "name": "stderr",
     "output_type": "stream",
     "text": [
      "Exception ignored in: '_cython_magic_d33e5aada1040c975bde92b13d65fed9.simple_fit'\n",
      "Traceback (most recent call last):\n",
      "  File \"<magic-timeit>\", line 1, in inner\n",
      "ZeroDivisionError: float division\n"
     ]
    },
    {
     "ename": "ZeroDivisionError",
     "evalue": "float division",
     "output_type": "error",
     "traceback": [
      "\u001b[0;31m---------------------------------------------------------------------------\u001b[0m",
      "\u001b[0;31mZeroDivisionError\u001b[0m                         Traceback (most recent call last)",
      "\u001b[0;31mZeroDivisionError\u001b[0m: float division"
     ]
    },
    {
     "name": "stderr",
     "output_type": "stream",
     "text": [
      "Exception ignored in: '_cython_magic_d33e5aada1040c975bde92b13d65fed9.simple_fit'\n",
      "Traceback (most recent call last):\n",
      "  File \"<magic-timeit>\", line 1, in inner\n",
      "ZeroDivisionError: float division\n"
     ]
    },
    {
     "ename": "ZeroDivisionError",
     "evalue": "float division",
     "output_type": "error",
     "traceback": [
      "\u001b[0;31m---------------------------------------------------------------------------\u001b[0m",
      "\u001b[0;31mZeroDivisionError\u001b[0m                         Traceback (most recent call last)",
      "\u001b[0;31mZeroDivisionError\u001b[0m: float division"
     ]
    },
    {
     "name": "stderr",
     "output_type": "stream",
     "text": [
      "Exception ignored in: '_cython_magic_d33e5aada1040c975bde92b13d65fed9.simple_fit'\n",
      "Traceback (most recent call last):\n",
      "  File \"<magic-timeit>\", line 1, in inner\n",
      "ZeroDivisionError: float division\n"
     ]
    },
    {
     "ename": "ZeroDivisionError",
     "evalue": "float division",
     "output_type": "error",
     "traceback": [
      "\u001b[0;31m---------------------------------------------------------------------------\u001b[0m",
      "\u001b[0;31mZeroDivisionError\u001b[0m                         Traceback (most recent call last)",
      "\u001b[0;31mZeroDivisionError\u001b[0m: float division"
     ]
    },
    {
     "name": "stderr",
     "output_type": "stream",
     "text": [
      "Exception ignored in: '_cython_magic_d33e5aada1040c975bde92b13d65fed9.simple_fit'\n",
      "Traceback (most recent call last):\n",
      "  File \"<magic-timeit>\", line 1, in inner\n",
      "ZeroDivisionError: float division\n"
     ]
    },
    {
     "ename": "ZeroDivisionError",
     "evalue": "float division",
     "output_type": "error",
     "traceback": [
      "\u001b[0;31m---------------------------------------------------------------------------\u001b[0m",
      "\u001b[0;31mZeroDivisionError\u001b[0m                         Traceback (most recent call last)",
      "\u001b[0;31mZeroDivisionError\u001b[0m: float division"
     ]
    },
    {
     "name": "stderr",
     "output_type": "stream",
     "text": [
      "Exception ignored in: '_cython_magic_d33e5aada1040c975bde92b13d65fed9.simple_fit'\n",
      "Traceback (most recent call last):\n",
      "  File \"<magic-timeit>\", line 1, in inner\n",
      "ZeroDivisionError: float division\n"
     ]
    },
    {
     "ename": "ZeroDivisionError",
     "evalue": "float division",
     "output_type": "error",
     "traceback": [
      "\u001b[0;31m---------------------------------------------------------------------------\u001b[0m",
      "\u001b[0;31mZeroDivisionError\u001b[0m                         Traceback (most recent call last)",
      "\u001b[0;31mZeroDivisionError\u001b[0m: float division"
     ]
    },
    {
     "name": "stderr",
     "output_type": "stream",
     "text": [
      "Exception ignored in: '_cython_magic_d33e5aada1040c975bde92b13d65fed9.simple_fit'\n",
      "Traceback (most recent call last):\n",
      "  File \"<magic-timeit>\", line 1, in inner\n",
      "ZeroDivisionError: float division\n"
     ]
    },
    {
     "ename": "ZeroDivisionError",
     "evalue": "float division",
     "output_type": "error",
     "traceback": [
      "\u001b[0;31m---------------------------------------------------------------------------\u001b[0m",
      "\u001b[0;31mZeroDivisionError\u001b[0m                         Traceback (most recent call last)",
      "\u001b[0;31mZeroDivisionError\u001b[0m: float division"
     ]
    },
    {
     "name": "stderr",
     "output_type": "stream",
     "text": [
      "Exception ignored in: '_cython_magic_d33e5aada1040c975bde92b13d65fed9.simple_fit'\n",
      "Traceback (most recent call last):\n",
      "  File \"<magic-timeit>\", line 1, in inner\n",
      "ZeroDivisionError: float division\n"
     ]
    },
    {
     "ename": "ZeroDivisionError",
     "evalue": "float division",
     "output_type": "error",
     "traceback": [
      "\u001b[0;31m---------------------------------------------------------------------------\u001b[0m",
      "\u001b[0;31mZeroDivisionError\u001b[0m                         Traceback (most recent call last)",
      "\u001b[0;31mZeroDivisionError\u001b[0m: float division"
     ]
    },
    {
     "name": "stderr",
     "output_type": "stream",
     "text": [
      "Exception ignored in: '_cython_magic_d33e5aada1040c975bde92b13d65fed9.simple_fit'\n",
      "Traceback (most recent call last):\n",
      "  File \"<magic-timeit>\", line 1, in inner\n",
      "ZeroDivisionError: float division\n"
     ]
    },
    {
     "ename": "ZeroDivisionError",
     "evalue": "float division",
     "output_type": "error",
     "traceback": [
      "\u001b[0;31m---------------------------------------------------------------------------\u001b[0m",
      "\u001b[0;31mZeroDivisionError\u001b[0m                         Traceback (most recent call last)",
      "\u001b[0;31mZeroDivisionError\u001b[0m: float division"
     ]
    },
    {
     "name": "stderr",
     "output_type": "stream",
     "text": [
      "Exception ignored in: '_cython_magic_d33e5aada1040c975bde92b13d65fed9.simple_fit'\n",
      "Traceback (most recent call last):\n",
      "  File \"<magic-timeit>\", line 1, in inner\n",
      "ZeroDivisionError: float division\n"
     ]
    },
    {
     "ename": "ZeroDivisionError",
     "evalue": "float division",
     "output_type": "error",
     "traceback": [
      "\u001b[0;31m---------------------------------------------------------------------------\u001b[0m",
      "\u001b[0;31mZeroDivisionError\u001b[0m                         Traceback (most recent call last)",
      "\u001b[0;31mZeroDivisionError\u001b[0m: float division"
     ]
    },
    {
     "name": "stderr",
     "output_type": "stream",
     "text": [
      "Exception ignored in: '_cython_magic_d33e5aada1040c975bde92b13d65fed9.simple_fit'\n",
      "Traceback (most recent call last):\n",
      "  File \"<magic-timeit>\", line 1, in inner\n",
      "ZeroDivisionError: float division\n"
     ]
    },
    {
     "ename": "ZeroDivisionError",
     "evalue": "float division",
     "output_type": "error",
     "traceback": [
      "\u001b[0;31m---------------------------------------------------------------------------\u001b[0m",
      "\u001b[0;31mZeroDivisionError\u001b[0m                         Traceback (most recent call last)",
      "\u001b[0;31mZeroDivisionError\u001b[0m: float division"
     ]
    },
    {
     "name": "stderr",
     "output_type": "stream",
     "text": [
      "Exception ignored in: '_cython_magic_d33e5aada1040c975bde92b13d65fed9.simple_fit'\n",
      "Traceback (most recent call last):\n",
      "  File \"<magic-timeit>\", line 1, in inner\n",
      "ZeroDivisionError: float division\n"
     ]
    },
    {
     "ename": "ZeroDivisionError",
     "evalue": "float division",
     "output_type": "error",
     "traceback": [
      "\u001b[0;31m---------------------------------------------------------------------------\u001b[0m",
      "\u001b[0;31mZeroDivisionError\u001b[0m                         Traceback (most recent call last)",
      "\u001b[0;31mZeroDivisionError\u001b[0m: float division"
     ]
    },
    {
     "name": "stderr",
     "output_type": "stream",
     "text": [
      "Exception ignored in: '_cython_magic_d33e5aada1040c975bde92b13d65fed9.simple_fit'\n",
      "Traceback (most recent call last):\n",
      "  File \"<magic-timeit>\", line 1, in inner\n",
      "ZeroDivisionError: float division\n"
     ]
    },
    {
     "ename": "ZeroDivisionError",
     "evalue": "float division",
     "output_type": "error",
     "traceback": [
      "\u001b[0;31m---------------------------------------------------------------------------\u001b[0m",
      "\u001b[0;31mZeroDivisionError\u001b[0m                         Traceback (most recent call last)",
      "\u001b[0;31mZeroDivisionError\u001b[0m: float division"
     ]
    },
    {
     "name": "stderr",
     "output_type": "stream",
     "text": [
      "Exception ignored in: '_cython_magic_d33e5aada1040c975bde92b13d65fed9.simple_fit'\n",
      "Traceback (most recent call last):\n",
      "  File \"<magic-timeit>\", line 1, in inner\n",
      "ZeroDivisionError: float division\n"
     ]
    },
    {
     "ename": "ZeroDivisionError",
     "evalue": "float division",
     "output_type": "error",
     "traceback": [
      "\u001b[0;31m---------------------------------------------------------------------------\u001b[0m",
      "\u001b[0;31mZeroDivisionError\u001b[0m                         Traceback (most recent call last)",
      "\u001b[0;31mZeroDivisionError\u001b[0m: float division"
     ]
    },
    {
     "name": "stderr",
     "output_type": "stream",
     "text": [
      "Exception ignored in: '_cython_magic_d33e5aada1040c975bde92b13d65fed9.simple_fit'\n",
      "Traceback (most recent call last):\n",
      "  File \"<magic-timeit>\", line 1, in inner\n",
      "ZeroDivisionError: float division\n"
     ]
    },
    {
     "ename": "ZeroDivisionError",
     "evalue": "float division",
     "output_type": "error",
     "traceback": [
      "\u001b[0;31m---------------------------------------------------------------------------\u001b[0m",
      "\u001b[0;31mZeroDivisionError\u001b[0m                         Traceback (most recent call last)",
      "\u001b[0;31mZeroDivisionError\u001b[0m: float division"
     ]
    },
    {
     "name": "stderr",
     "output_type": "stream",
     "text": [
      "Exception ignored in: '_cython_magic_d33e5aada1040c975bde92b13d65fed9.simple_fit'\n",
      "Traceback (most recent call last):\n",
      "  File \"<magic-timeit>\", line 1, in inner\n",
      "ZeroDivisionError: float division\n"
     ]
    },
    {
     "ename": "ZeroDivisionError",
     "evalue": "float division",
     "output_type": "error",
     "traceback": [
      "\u001b[0;31m---------------------------------------------------------------------------\u001b[0m",
      "\u001b[0;31mZeroDivisionError\u001b[0m                         Traceback (most recent call last)",
      "\u001b[0;31mZeroDivisionError\u001b[0m: float division"
     ]
    },
    {
     "name": "stderr",
     "output_type": "stream",
     "text": [
      "Exception ignored in: '_cython_magic_d33e5aada1040c975bde92b13d65fed9.simple_fit'\n",
      "Traceback (most recent call last):\n",
      "  File \"<magic-timeit>\", line 1, in inner\n",
      "ZeroDivisionError: float division\n"
     ]
    },
    {
     "ename": "ZeroDivisionError",
     "evalue": "float division",
     "output_type": "error",
     "traceback": [
      "\u001b[0;31m---------------------------------------------------------------------------\u001b[0m",
      "\u001b[0;31mZeroDivisionError\u001b[0m                         Traceback (most recent call last)",
      "\u001b[0;31mZeroDivisionError\u001b[0m: float division"
     ]
    },
    {
     "name": "stderr",
     "output_type": "stream",
     "text": [
      "Exception ignored in: '_cython_magic_d33e5aada1040c975bde92b13d65fed9.simple_fit'\n",
      "Traceback (most recent call last):\n",
      "  File \"<magic-timeit>\", line 1, in inner\n",
      "ZeroDivisionError: float division\n"
     ]
    },
    {
     "ename": "ZeroDivisionError",
     "evalue": "float division",
     "output_type": "error",
     "traceback": [
      "\u001b[0;31m---------------------------------------------------------------------------\u001b[0m",
      "\u001b[0;31mZeroDivisionError\u001b[0m                         Traceback (most recent call last)",
      "\u001b[0;31mZeroDivisionError\u001b[0m: float division"
     ]
    },
    {
     "name": "stderr",
     "output_type": "stream",
     "text": [
      "Exception ignored in: '_cython_magic_d33e5aada1040c975bde92b13d65fed9.simple_fit'\n",
      "Traceback (most recent call last):\n",
      "  File \"<magic-timeit>\", line 1, in inner\n",
      "ZeroDivisionError: float division\n"
     ]
    },
    {
     "ename": "ZeroDivisionError",
     "evalue": "float division",
     "output_type": "error",
     "traceback": [
      "\u001b[0;31m---------------------------------------------------------------------------\u001b[0m",
      "\u001b[0;31mZeroDivisionError\u001b[0m                         Traceback (most recent call last)",
      "\u001b[0;31mZeroDivisionError\u001b[0m: float division"
     ]
    },
    {
     "name": "stderr",
     "output_type": "stream",
     "text": [
      "Exception ignored in: '_cython_magic_d33e5aada1040c975bde92b13d65fed9.simple_fit'\n",
      "Traceback (most recent call last):\n",
      "  File \"<magic-timeit>\", line 1, in inner\n",
      "ZeroDivisionError: float division\n"
     ]
    },
    {
     "ename": "ZeroDivisionError",
     "evalue": "float division",
     "output_type": "error",
     "traceback": [
      "\u001b[0;31m---------------------------------------------------------------------------\u001b[0m",
      "\u001b[0;31mZeroDivisionError\u001b[0m                         Traceback (most recent call last)",
      "\u001b[0;31mZeroDivisionError\u001b[0m: float division"
     ]
    },
    {
     "name": "stderr",
     "output_type": "stream",
     "text": [
      "Exception ignored in: '_cython_magic_d33e5aada1040c975bde92b13d65fed9.simple_fit'\n",
      "Traceback (most recent call last):\n",
      "  File \"<magic-timeit>\", line 1, in inner\n",
      "ZeroDivisionError: float division\n"
     ]
    },
    {
     "ename": "ZeroDivisionError",
     "evalue": "float division",
     "output_type": "error",
     "traceback": [
      "\u001b[0;31m---------------------------------------------------------------------------\u001b[0m",
      "\u001b[0;31mZeroDivisionError\u001b[0m                         Traceback (most recent call last)",
      "\u001b[0;31mZeroDivisionError\u001b[0m: float division"
     ]
    },
    {
     "name": "stderr",
     "output_type": "stream",
     "text": [
      "Exception ignored in: '_cython_magic_d33e5aada1040c975bde92b13d65fed9.simple_fit'\n",
      "Traceback (most recent call last):\n",
      "  File \"<magic-timeit>\", line 1, in inner\n",
      "ZeroDivisionError: float division\n"
     ]
    },
    {
     "ename": "ZeroDivisionError",
     "evalue": "float division",
     "output_type": "error",
     "traceback": [
      "\u001b[0;31m---------------------------------------------------------------------------\u001b[0m",
      "\u001b[0;31mZeroDivisionError\u001b[0m                         Traceback (most recent call last)",
      "\u001b[0;31mZeroDivisionError\u001b[0m: float division"
     ]
    },
    {
     "name": "stderr",
     "output_type": "stream",
     "text": [
      "Exception ignored in: '_cython_magic_d33e5aada1040c975bde92b13d65fed9.simple_fit'\n",
      "Traceback (most recent call last):\n",
      "  File \"<magic-timeit>\", line 1, in inner\n",
      "ZeroDivisionError: float division\n"
     ]
    },
    {
     "ename": "ZeroDivisionError",
     "evalue": "float division",
     "output_type": "error",
     "traceback": [
      "\u001b[0;31m---------------------------------------------------------------------------\u001b[0m",
      "\u001b[0;31mZeroDivisionError\u001b[0m                         Traceback (most recent call last)",
      "\u001b[0;31mZeroDivisionError\u001b[0m: float division"
     ]
    },
    {
     "name": "stderr",
     "output_type": "stream",
     "text": [
      "Exception ignored in: '_cython_magic_d33e5aada1040c975bde92b13d65fed9.simple_fit'\n",
      "Traceback (most recent call last):\n",
      "  File \"<magic-timeit>\", line 1, in inner\n",
      "ZeroDivisionError: float division\n"
     ]
    },
    {
     "ename": "ZeroDivisionError",
     "evalue": "float division",
     "output_type": "error",
     "traceback": [
      "\u001b[0;31m---------------------------------------------------------------------------\u001b[0m",
      "\u001b[0;31mZeroDivisionError\u001b[0m                         Traceback (most recent call last)",
      "\u001b[0;31mZeroDivisionError\u001b[0m: float division"
     ]
    },
    {
     "name": "stderr",
     "output_type": "stream",
     "text": [
      "Exception ignored in: '_cython_magic_d33e5aada1040c975bde92b13d65fed9.simple_fit'\n",
      "Traceback (most recent call last):\n",
      "  File \"<magic-timeit>\", line 1, in inner\n",
      "ZeroDivisionError: float division\n"
     ]
    },
    {
     "ename": "ZeroDivisionError",
     "evalue": "float division",
     "output_type": "error",
     "traceback": [
      "\u001b[0;31m---------------------------------------------------------------------------\u001b[0m",
      "\u001b[0;31mZeroDivisionError\u001b[0m                         Traceback (most recent call last)",
      "\u001b[0;31mZeroDivisionError\u001b[0m: float division"
     ]
    },
    {
     "name": "stderr",
     "output_type": "stream",
     "text": [
      "Exception ignored in: '_cython_magic_d33e5aada1040c975bde92b13d65fed9.simple_fit'\n",
      "Traceback (most recent call last):\n",
      "  File \"<magic-timeit>\", line 1, in inner\n",
      "ZeroDivisionError: float division\n"
     ]
    },
    {
     "ename": "ZeroDivisionError",
     "evalue": "float division",
     "output_type": "error",
     "traceback": [
      "\u001b[0;31m---------------------------------------------------------------------------\u001b[0m",
      "\u001b[0;31mZeroDivisionError\u001b[0m                         Traceback (most recent call last)",
      "\u001b[0;31mZeroDivisionError\u001b[0m: float division"
     ]
    },
    {
     "name": "stderr",
     "output_type": "stream",
     "text": [
      "Exception ignored in: '_cython_magic_d33e5aada1040c975bde92b13d65fed9.simple_fit'\n",
      "Traceback (most recent call last):\n",
      "  File \"<magic-timeit>\", line 1, in inner\n",
      "ZeroDivisionError: float division\n"
     ]
    },
    {
     "ename": "ZeroDivisionError",
     "evalue": "float division",
     "output_type": "error",
     "traceback": [
      "\u001b[0;31m---------------------------------------------------------------------------\u001b[0m",
      "\u001b[0;31mZeroDivisionError\u001b[0m                         Traceback (most recent call last)",
      "\u001b[0;31mZeroDivisionError\u001b[0m: float division"
     ]
    },
    {
     "name": "stderr",
     "output_type": "stream",
     "text": [
      "Exception ignored in: '_cython_magic_d33e5aada1040c975bde92b13d65fed9.simple_fit'\n",
      "Traceback (most recent call last):\n",
      "  File \"<magic-timeit>\", line 1, in inner\n",
      "ZeroDivisionError: float division\n"
     ]
    },
    {
     "ename": "ZeroDivisionError",
     "evalue": "float division",
     "output_type": "error",
     "traceback": [
      "\u001b[0;31m---------------------------------------------------------------------------\u001b[0m",
      "\u001b[0;31mZeroDivisionError\u001b[0m                         Traceback (most recent call last)",
      "\u001b[0;31mZeroDivisionError\u001b[0m: float division"
     ]
    },
    {
     "name": "stderr",
     "output_type": "stream",
     "text": [
      "Exception ignored in: '_cython_magic_d33e5aada1040c975bde92b13d65fed9.simple_fit'\n",
      "Traceback (most recent call last):\n",
      "  File \"<magic-timeit>\", line 1, in inner\n",
      "ZeroDivisionError: float division\n"
     ]
    },
    {
     "ename": "ZeroDivisionError",
     "evalue": "float division",
     "output_type": "error",
     "traceback": [
      "\u001b[0;31m---------------------------------------------------------------------------\u001b[0m",
      "\u001b[0;31mZeroDivisionError\u001b[0m                         Traceback (most recent call last)",
      "\u001b[0;31mZeroDivisionError\u001b[0m: float division"
     ]
    },
    {
     "name": "stderr",
     "output_type": "stream",
     "text": [
      "Exception ignored in: '_cython_magic_d33e5aada1040c975bde92b13d65fed9.simple_fit'\n",
      "Traceback (most recent call last):\n",
      "  File \"<magic-timeit>\", line 1, in inner\n",
      "ZeroDivisionError: float division\n"
     ]
    },
    {
     "ename": "ZeroDivisionError",
     "evalue": "float division",
     "output_type": "error",
     "traceback": [
      "\u001b[0;31m---------------------------------------------------------------------------\u001b[0m",
      "\u001b[0;31mZeroDivisionError\u001b[0m                         Traceback (most recent call last)",
      "\u001b[0;31mZeroDivisionError\u001b[0m: float division"
     ]
    },
    {
     "name": "stderr",
     "output_type": "stream",
     "text": [
      "Exception ignored in: '_cython_magic_d33e5aada1040c975bde92b13d65fed9.simple_fit'\n",
      "Traceback (most recent call last):\n",
      "  File \"<magic-timeit>\", line 1, in inner\n",
      "ZeroDivisionError: float division\n"
     ]
    },
    {
     "ename": "ZeroDivisionError",
     "evalue": "float division",
     "output_type": "error",
     "traceback": [
      "\u001b[0;31m---------------------------------------------------------------------------\u001b[0m",
      "\u001b[0;31mZeroDivisionError\u001b[0m                         Traceback (most recent call last)",
      "\u001b[0;31mZeroDivisionError\u001b[0m: float division"
     ]
    },
    {
     "name": "stderr",
     "output_type": "stream",
     "text": [
      "Exception ignored in: '_cython_magic_d33e5aada1040c975bde92b13d65fed9.simple_fit'\n",
      "Traceback (most recent call last):\n",
      "  File \"<magic-timeit>\", line 1, in inner\n",
      "ZeroDivisionError: float division\n"
     ]
    },
    {
     "ename": "ZeroDivisionError",
     "evalue": "float division",
     "output_type": "error",
     "traceback": [
      "\u001b[0;31m---------------------------------------------------------------------------\u001b[0m",
      "\u001b[0;31mZeroDivisionError\u001b[0m                         Traceback (most recent call last)",
      "\u001b[0;31mZeroDivisionError\u001b[0m: float division"
     ]
    },
    {
     "name": "stderr",
     "output_type": "stream",
     "text": [
      "Exception ignored in: '_cython_magic_d33e5aada1040c975bde92b13d65fed9.simple_fit'\n",
      "Traceback (most recent call last):\n",
      "  File \"<magic-timeit>\", line 1, in inner\n",
      "ZeroDivisionError: float division\n"
     ]
    },
    {
     "ename": "ZeroDivisionError",
     "evalue": "float division",
     "output_type": "error",
     "traceback": [
      "\u001b[0;31m---------------------------------------------------------------------------\u001b[0m",
      "\u001b[0;31mZeroDivisionError\u001b[0m                         Traceback (most recent call last)",
      "\u001b[0;31mZeroDivisionError\u001b[0m: float division"
     ]
    },
    {
     "name": "stderr",
     "output_type": "stream",
     "text": [
      "Exception ignored in: '_cython_magic_d33e5aada1040c975bde92b13d65fed9.simple_fit'\n",
      "Traceback (most recent call last):\n",
      "  File \"<magic-timeit>\", line 1, in inner\n",
      "ZeroDivisionError: float division\n"
     ]
    },
    {
     "ename": "ZeroDivisionError",
     "evalue": "float division",
     "output_type": "error",
     "traceback": [
      "\u001b[0;31m---------------------------------------------------------------------------\u001b[0m",
      "\u001b[0;31mZeroDivisionError\u001b[0m                         Traceback (most recent call last)",
      "\u001b[0;31mZeroDivisionError\u001b[0m: float division"
     ]
    },
    {
     "name": "stderr",
     "output_type": "stream",
     "text": [
      "Exception ignored in: '_cython_magic_d33e5aada1040c975bde92b13d65fed9.simple_fit'\n",
      "Traceback (most recent call last):\n",
      "  File \"<magic-timeit>\", line 1, in inner\n",
      "ZeroDivisionError: float division\n"
     ]
    },
    {
     "ename": "ZeroDivisionError",
     "evalue": "float division",
     "output_type": "error",
     "traceback": [
      "\u001b[0;31m---------------------------------------------------------------------------\u001b[0m",
      "\u001b[0;31mZeroDivisionError\u001b[0m                         Traceback (most recent call last)",
      "\u001b[0;31mZeroDivisionError\u001b[0m: float division"
     ]
    },
    {
     "name": "stderr",
     "output_type": "stream",
     "text": [
      "Exception ignored in: '_cython_magic_d33e5aada1040c975bde92b13d65fed9.simple_fit'\n",
      "Traceback (most recent call last):\n",
      "  File \"<magic-timeit>\", line 1, in inner\n",
      "ZeroDivisionError: float division\n"
     ]
    },
    {
     "ename": "ZeroDivisionError",
     "evalue": "float division",
     "output_type": "error",
     "traceback": [
      "\u001b[0;31m---------------------------------------------------------------------------\u001b[0m",
      "\u001b[0;31mZeroDivisionError\u001b[0m                         Traceback (most recent call last)",
      "\u001b[0;31mZeroDivisionError\u001b[0m: float division"
     ]
    },
    {
     "name": "stderr",
     "output_type": "stream",
     "text": [
      "Exception ignored in: '_cython_magic_d33e5aada1040c975bde92b13d65fed9.simple_fit'\n",
      "Traceback (most recent call last):\n",
      "  File \"<magic-timeit>\", line 1, in inner\n",
      "ZeroDivisionError: float division\n"
     ]
    },
    {
     "ename": "ZeroDivisionError",
     "evalue": "float division",
     "output_type": "error",
     "traceback": [
      "\u001b[0;31m---------------------------------------------------------------------------\u001b[0m",
      "\u001b[0;31mZeroDivisionError\u001b[0m                         Traceback (most recent call last)",
      "\u001b[0;31mZeroDivisionError\u001b[0m: float division"
     ]
    },
    {
     "name": "stderr",
     "output_type": "stream",
     "text": [
      "Exception ignored in: '_cython_magic_d33e5aada1040c975bde92b13d65fed9.simple_fit'\n",
      "Traceback (most recent call last):\n",
      "  File \"<magic-timeit>\", line 1, in inner\n",
      "ZeroDivisionError: float division\n"
     ]
    },
    {
     "ename": "ZeroDivisionError",
     "evalue": "float division",
     "output_type": "error",
     "traceback": [
      "\u001b[0;31m---------------------------------------------------------------------------\u001b[0m",
      "\u001b[0;31mZeroDivisionError\u001b[0m                         Traceback (most recent call last)",
      "\u001b[0;31mZeroDivisionError\u001b[0m: float division"
     ]
    },
    {
     "name": "stderr",
     "output_type": "stream",
     "text": [
      "Exception ignored in: '_cython_magic_d33e5aada1040c975bde92b13d65fed9.simple_fit'\n",
      "Traceback (most recent call last):\n",
      "  File \"<magic-timeit>\", line 1, in inner\n",
      "ZeroDivisionError: float division\n"
     ]
    },
    {
     "ename": "ZeroDivisionError",
     "evalue": "float division",
     "output_type": "error",
     "traceback": [
      "\u001b[0;31m---------------------------------------------------------------------------\u001b[0m",
      "\u001b[0;31mZeroDivisionError\u001b[0m                         Traceback (most recent call last)",
      "\u001b[0;31mZeroDivisionError\u001b[0m: float division"
     ]
    },
    {
     "name": "stderr",
     "output_type": "stream",
     "text": [
      "Exception ignored in: '_cython_magic_d33e5aada1040c975bde92b13d65fed9.simple_fit'\n",
      "Traceback (most recent call last):\n",
      "  File \"<magic-timeit>\", line 1, in inner\n",
      "ZeroDivisionError: float division\n"
     ]
    },
    {
     "ename": "ZeroDivisionError",
     "evalue": "float division",
     "output_type": "error",
     "traceback": [
      "\u001b[0;31m---------------------------------------------------------------------------\u001b[0m",
      "\u001b[0;31mZeroDivisionError\u001b[0m                         Traceback (most recent call last)",
      "\u001b[0;31mZeroDivisionError\u001b[0m: float division"
     ]
    },
    {
     "name": "stderr",
     "output_type": "stream",
     "text": [
      "Exception ignored in: '_cython_magic_d33e5aada1040c975bde92b13d65fed9.simple_fit'\n",
      "Traceback (most recent call last):\n",
      "  File \"<magic-timeit>\", line 1, in inner\n",
      "ZeroDivisionError: float division\n"
     ]
    },
    {
     "ename": "ZeroDivisionError",
     "evalue": "float division",
     "output_type": "error",
     "traceback": [
      "\u001b[0;31m---------------------------------------------------------------------------\u001b[0m",
      "\u001b[0;31mZeroDivisionError\u001b[0m                         Traceback (most recent call last)",
      "\u001b[0;31mZeroDivisionError\u001b[0m: float division"
     ]
    },
    {
     "name": "stderr",
     "output_type": "stream",
     "text": [
      "Exception ignored in: '_cython_magic_d33e5aada1040c975bde92b13d65fed9.simple_fit'\n",
      "Traceback (most recent call last):\n",
      "  File \"<magic-timeit>\", line 1, in inner\n",
      "ZeroDivisionError: float division\n"
     ]
    },
    {
     "ename": "ZeroDivisionError",
     "evalue": "float division",
     "output_type": "error",
     "traceback": [
      "\u001b[0;31m---------------------------------------------------------------------------\u001b[0m",
      "\u001b[0;31mZeroDivisionError\u001b[0m                         Traceback (most recent call last)",
      "\u001b[0;31mZeroDivisionError\u001b[0m: float division"
     ]
    },
    {
     "name": "stderr",
     "output_type": "stream",
     "text": [
      "Exception ignored in: '_cython_magic_d33e5aada1040c975bde92b13d65fed9.simple_fit'\n",
      "Traceback (most recent call last):\n",
      "  File \"<magic-timeit>\", line 1, in inner\n",
      "ZeroDivisionError: float division\n"
     ]
    },
    {
     "ename": "ZeroDivisionError",
     "evalue": "float division",
     "output_type": "error",
     "traceback": [
      "\u001b[0;31m---------------------------------------------------------------------------\u001b[0m",
      "\u001b[0;31mZeroDivisionError\u001b[0m                         Traceback (most recent call last)",
      "\u001b[0;31mZeroDivisionError\u001b[0m: float division"
     ]
    },
    {
     "name": "stderr",
     "output_type": "stream",
     "text": [
      "Exception ignored in: '_cython_magic_d33e5aada1040c975bde92b13d65fed9.simple_fit'\n",
      "Traceback (most recent call last):\n",
      "  File \"<magic-timeit>\", line 1, in inner\n",
      "ZeroDivisionError: float division\n"
     ]
    },
    {
     "ename": "ZeroDivisionError",
     "evalue": "float division",
     "output_type": "error",
     "traceback": [
      "\u001b[0;31m---------------------------------------------------------------------------\u001b[0m",
      "\u001b[0;31mZeroDivisionError\u001b[0m                         Traceback (most recent call last)",
      "\u001b[0;31mZeroDivisionError\u001b[0m: float division"
     ]
    },
    {
     "name": "stderr",
     "output_type": "stream",
     "text": [
      "Exception ignored in: '_cython_magic_d33e5aada1040c975bde92b13d65fed9.simple_fit'\n",
      "Traceback (most recent call last):\n",
      "  File \"<magic-timeit>\", line 1, in inner\n",
      "ZeroDivisionError: float division\n"
     ]
    },
    {
     "ename": "ZeroDivisionError",
     "evalue": "float division",
     "output_type": "error",
     "traceback": [
      "\u001b[0;31m---------------------------------------------------------------------------\u001b[0m",
      "\u001b[0;31mZeroDivisionError\u001b[0m                         Traceback (most recent call last)",
      "\u001b[0;31mZeroDivisionError\u001b[0m: float division"
     ]
    },
    {
     "name": "stderr",
     "output_type": "stream",
     "text": [
      "Exception ignored in: '_cython_magic_d33e5aada1040c975bde92b13d65fed9.simple_fit'\n",
      "Traceback (most recent call last):\n",
      "  File \"<magic-timeit>\", line 1, in inner\n",
      "ZeroDivisionError: float division\n"
     ]
    },
    {
     "ename": "ZeroDivisionError",
     "evalue": "float division",
     "output_type": "error",
     "traceback": [
      "\u001b[0;31m---------------------------------------------------------------------------\u001b[0m",
      "\u001b[0;31mZeroDivisionError\u001b[0m                         Traceback (most recent call last)",
      "\u001b[0;31mZeroDivisionError\u001b[0m: float division"
     ]
    },
    {
     "name": "stderr",
     "output_type": "stream",
     "text": [
      "Exception ignored in: '_cython_magic_d33e5aada1040c975bde92b13d65fed9.simple_fit'\n",
      "Traceback (most recent call last):\n",
      "  File \"<magic-timeit>\", line 1, in inner\n",
      "ZeroDivisionError: float division\n"
     ]
    },
    {
     "ename": "ZeroDivisionError",
     "evalue": "float division",
     "output_type": "error",
     "traceback": [
      "\u001b[0;31m---------------------------------------------------------------------------\u001b[0m",
      "\u001b[0;31mZeroDivisionError\u001b[0m                         Traceback (most recent call last)",
      "\u001b[0;31mZeroDivisionError\u001b[0m: float division"
     ]
    },
    {
     "name": "stderr",
     "output_type": "stream",
     "text": [
      "Exception ignored in: '_cython_magic_d33e5aada1040c975bde92b13d65fed9.simple_fit'\n",
      "Traceback (most recent call last):\n",
      "  File \"<magic-timeit>\", line 1, in inner\n",
      "ZeroDivisionError: float division\n"
     ]
    },
    {
     "ename": "ZeroDivisionError",
     "evalue": "float division",
     "output_type": "error",
     "traceback": [
      "\u001b[0;31m---------------------------------------------------------------------------\u001b[0m",
      "\u001b[0;31mZeroDivisionError\u001b[0m                         Traceback (most recent call last)",
      "\u001b[0;31mZeroDivisionError\u001b[0m: float division"
     ]
    },
    {
     "name": "stderr",
     "output_type": "stream",
     "text": [
      "Exception ignored in: '_cython_magic_d33e5aada1040c975bde92b13d65fed9.simple_fit'\n",
      "Traceback (most recent call last):\n",
      "  File \"<magic-timeit>\", line 1, in inner\n",
      "ZeroDivisionError: float division\n"
     ]
    },
    {
     "ename": "ZeroDivisionError",
     "evalue": "float division",
     "output_type": "error",
     "traceback": [
      "\u001b[0;31m---------------------------------------------------------------------------\u001b[0m",
      "\u001b[0;31mZeroDivisionError\u001b[0m                         Traceback (most recent call last)",
      "\u001b[0;31mZeroDivisionError\u001b[0m: float division"
     ]
    },
    {
     "name": "stderr",
     "output_type": "stream",
     "text": [
      "Exception ignored in: '_cython_magic_d33e5aada1040c975bde92b13d65fed9.simple_fit'\n",
      "Traceback (most recent call last):\n",
      "  File \"<magic-timeit>\", line 1, in inner\n",
      "ZeroDivisionError: float division\n"
     ]
    },
    {
     "ename": "ZeroDivisionError",
     "evalue": "float division",
     "output_type": "error",
     "traceback": [
      "\u001b[0;31m---------------------------------------------------------------------------\u001b[0m",
      "\u001b[0;31mZeroDivisionError\u001b[0m                         Traceback (most recent call last)",
      "\u001b[0;31mZeroDivisionError\u001b[0m: float division"
     ]
    },
    {
     "name": "stderr",
     "output_type": "stream",
     "text": [
      "Exception ignored in: '_cython_magic_d33e5aada1040c975bde92b13d65fed9.simple_fit'\n",
      "Traceback (most recent call last):\n",
      "  File \"<magic-timeit>\", line 1, in inner\n",
      "ZeroDivisionError: float division\n"
     ]
    },
    {
     "ename": "ZeroDivisionError",
     "evalue": "float division",
     "output_type": "error",
     "traceback": [
      "\u001b[0;31m---------------------------------------------------------------------------\u001b[0m",
      "\u001b[0;31mZeroDivisionError\u001b[0m                         Traceback (most recent call last)",
      "\u001b[0;31mZeroDivisionError\u001b[0m: float division"
     ]
    },
    {
     "name": "stderr",
     "output_type": "stream",
     "text": [
      "Exception ignored in: '_cython_magic_d33e5aada1040c975bde92b13d65fed9.simple_fit'\n",
      "Traceback (most recent call last):\n",
      "  File \"<magic-timeit>\", line 1, in inner\n",
      "ZeroDivisionError: float division\n"
     ]
    },
    {
     "ename": "ZeroDivisionError",
     "evalue": "float division",
     "output_type": "error",
     "traceback": [
      "\u001b[0;31m---------------------------------------------------------------------------\u001b[0m",
      "\u001b[0;31mZeroDivisionError\u001b[0m                         Traceback (most recent call last)",
      "\u001b[0;31mZeroDivisionError\u001b[0m: float division"
     ]
    },
    {
     "name": "stderr",
     "output_type": "stream",
     "text": [
      "Exception ignored in: '_cython_magic_d33e5aada1040c975bde92b13d65fed9.simple_fit'\n",
      "Traceback (most recent call last):\n",
      "  File \"<magic-timeit>\", line 1, in inner\n",
      "ZeroDivisionError: float division\n"
     ]
    },
    {
     "ename": "ZeroDivisionError",
     "evalue": "float division",
     "output_type": "error",
     "traceback": [
      "\u001b[0;31m---------------------------------------------------------------------------\u001b[0m",
      "\u001b[0;31mZeroDivisionError\u001b[0m                         Traceback (most recent call last)",
      "\u001b[0;31mZeroDivisionError\u001b[0m: float division"
     ]
    },
    {
     "name": "stderr",
     "output_type": "stream",
     "text": [
      "Exception ignored in: '_cython_magic_d33e5aada1040c975bde92b13d65fed9.simple_fit'\n",
      "Traceback (most recent call last):\n",
      "  File \"<magic-timeit>\", line 1, in inner\n",
      "ZeroDivisionError: float division\n"
     ]
    },
    {
     "ename": "ZeroDivisionError",
     "evalue": "float division",
     "output_type": "error",
     "traceback": [
      "\u001b[0;31m---------------------------------------------------------------------------\u001b[0m",
      "\u001b[0;31mZeroDivisionError\u001b[0m                         Traceback (most recent call last)",
      "\u001b[0;31mZeroDivisionError\u001b[0m: float division"
     ]
    },
    {
     "name": "stderr",
     "output_type": "stream",
     "text": [
      "Exception ignored in: '_cython_magic_d33e5aada1040c975bde92b13d65fed9.simple_fit'\n",
      "Traceback (most recent call last):\n",
      "  File \"<magic-timeit>\", line 1, in inner\n",
      "ZeroDivisionError: float division\n"
     ]
    },
    {
     "ename": "ZeroDivisionError",
     "evalue": "float division",
     "output_type": "error",
     "traceback": [
      "\u001b[0;31m---------------------------------------------------------------------------\u001b[0m",
      "\u001b[0;31mZeroDivisionError\u001b[0m                         Traceback (most recent call last)",
      "\u001b[0;31mZeroDivisionError\u001b[0m: float division"
     ]
    },
    {
     "name": "stderr",
     "output_type": "stream",
     "text": [
      "Exception ignored in: '_cython_magic_d33e5aada1040c975bde92b13d65fed9.simple_fit'\n",
      "Traceback (most recent call last):\n",
      "  File \"<magic-timeit>\", line 1, in inner\n",
      "ZeroDivisionError: float division\n"
     ]
    },
    {
     "ename": "ZeroDivisionError",
     "evalue": "float division",
     "output_type": "error",
     "traceback": [
      "\u001b[0;31m---------------------------------------------------------------------------\u001b[0m",
      "\u001b[0;31mZeroDivisionError\u001b[0m                         Traceback (most recent call last)",
      "\u001b[0;31mZeroDivisionError\u001b[0m: float division"
     ]
    },
    {
     "name": "stderr",
     "output_type": "stream",
     "text": [
      "Exception ignored in: '_cython_magic_d33e5aada1040c975bde92b13d65fed9.simple_fit'\n",
      "Traceback (most recent call last):\n",
      "  File \"<magic-timeit>\", line 1, in inner\n",
      "ZeroDivisionError: float division\n"
     ]
    },
    {
     "ename": "ZeroDivisionError",
     "evalue": "float division",
     "output_type": "error",
     "traceback": [
      "\u001b[0;31m---------------------------------------------------------------------------\u001b[0m",
      "\u001b[0;31mZeroDivisionError\u001b[0m                         Traceback (most recent call last)",
      "\u001b[0;31mZeroDivisionError\u001b[0m: float division"
     ]
    },
    {
     "name": "stderr",
     "output_type": "stream",
     "text": [
      "Exception ignored in: '_cython_magic_d33e5aada1040c975bde92b13d65fed9.simple_fit'\n",
      "Traceback (most recent call last):\n",
      "  File \"<magic-timeit>\", line 1, in inner\n",
      "ZeroDivisionError: float division\n"
     ]
    },
    {
     "ename": "ZeroDivisionError",
     "evalue": "float division",
     "output_type": "error",
     "traceback": [
      "\u001b[0;31m---------------------------------------------------------------------------\u001b[0m",
      "\u001b[0;31mZeroDivisionError\u001b[0m                         Traceback (most recent call last)",
      "\u001b[0;31mZeroDivisionError\u001b[0m: float division"
     ]
    },
    {
     "name": "stderr",
     "output_type": "stream",
     "text": [
      "Exception ignored in: '_cython_magic_d33e5aada1040c975bde92b13d65fed9.simple_fit'\n",
      "Traceback (most recent call last):\n",
      "  File \"<magic-timeit>\", line 1, in inner\n",
      "ZeroDivisionError: float division\n"
     ]
    },
    {
     "ename": "ZeroDivisionError",
     "evalue": "float division",
     "output_type": "error",
     "traceback": [
      "\u001b[0;31m---------------------------------------------------------------------------\u001b[0m",
      "\u001b[0;31mZeroDivisionError\u001b[0m                         Traceback (most recent call last)",
      "\u001b[0;31mZeroDivisionError\u001b[0m: float division"
     ]
    },
    {
     "name": "stderr",
     "output_type": "stream",
     "text": [
      "Exception ignored in: '_cython_magic_d33e5aada1040c975bde92b13d65fed9.simple_fit'\n",
      "Traceback (most recent call last):\n",
      "  File \"<magic-timeit>\", line 1, in inner\n",
      "ZeroDivisionError: float division\n"
     ]
    },
    {
     "ename": "ZeroDivisionError",
     "evalue": "float division",
     "output_type": "error",
     "traceback": [
      "\u001b[0;31m---------------------------------------------------------------------------\u001b[0m",
      "\u001b[0;31mZeroDivisionError\u001b[0m                         Traceback (most recent call last)",
      "\u001b[0;31mZeroDivisionError\u001b[0m: float division"
     ]
    },
    {
     "name": "stderr",
     "output_type": "stream",
     "text": [
      "Exception ignored in: '_cython_magic_d33e5aada1040c975bde92b13d65fed9.simple_fit'\n",
      "Traceback (most recent call last):\n",
      "  File \"<magic-timeit>\", line 1, in inner\n",
      "ZeroDivisionError: float division\n"
     ]
    },
    {
     "ename": "ZeroDivisionError",
     "evalue": "float division",
     "output_type": "error",
     "traceback": [
      "\u001b[0;31m---------------------------------------------------------------------------\u001b[0m",
      "\u001b[0;31mZeroDivisionError\u001b[0m                         Traceback (most recent call last)",
      "\u001b[0;31mZeroDivisionError\u001b[0m: float division"
     ]
    },
    {
     "name": "stderr",
     "output_type": "stream",
     "text": [
      "Exception ignored in: '_cython_magic_d33e5aada1040c975bde92b13d65fed9.simple_fit'\n",
      "Traceback (most recent call last):\n",
      "  File \"<magic-timeit>\", line 1, in inner\n",
      "ZeroDivisionError: float division\n"
     ]
    },
    {
     "ename": "ZeroDivisionError",
     "evalue": "float division",
     "output_type": "error",
     "traceback": [
      "\u001b[0;31m---------------------------------------------------------------------------\u001b[0m",
      "\u001b[0;31mZeroDivisionError\u001b[0m                         Traceback (most recent call last)",
      "\u001b[0;31mZeroDivisionError\u001b[0m: float division"
     ]
    },
    {
     "name": "stderr",
     "output_type": "stream",
     "text": [
      "Exception ignored in: '_cython_magic_d33e5aada1040c975bde92b13d65fed9.simple_fit'\n",
      "Traceback (most recent call last):\n",
      "  File \"<magic-timeit>\", line 1, in inner\n",
      "ZeroDivisionError: float division\n"
     ]
    },
    {
     "ename": "ZeroDivisionError",
     "evalue": "float division",
     "output_type": "error",
     "traceback": [
      "\u001b[0;31m---------------------------------------------------------------------------\u001b[0m",
      "\u001b[0;31mZeroDivisionError\u001b[0m                         Traceback (most recent call last)",
      "\u001b[0;31mZeroDivisionError\u001b[0m: float division"
     ]
    },
    {
     "name": "stderr",
     "output_type": "stream",
     "text": [
      "Exception ignored in: '_cython_magic_d33e5aada1040c975bde92b13d65fed9.simple_fit'\n",
      "Traceback (most recent call last):\n",
      "  File \"<magic-timeit>\", line 1, in inner\n",
      "ZeroDivisionError: float division\n"
     ]
    },
    {
     "ename": "ZeroDivisionError",
     "evalue": "float division",
     "output_type": "error",
     "traceback": [
      "\u001b[0;31m---------------------------------------------------------------------------\u001b[0m",
      "\u001b[0;31mZeroDivisionError\u001b[0m                         Traceback (most recent call last)",
      "\u001b[0;31mZeroDivisionError\u001b[0m: float division"
     ]
    },
    {
     "name": "stderr",
     "output_type": "stream",
     "text": [
      "Exception ignored in: '_cython_magic_d33e5aada1040c975bde92b13d65fed9.simple_fit'\n",
      "Traceback (most recent call last):\n",
      "  File \"<magic-timeit>\", line 1, in inner\n",
      "ZeroDivisionError: float division\n"
     ]
    },
    {
     "ename": "ZeroDivisionError",
     "evalue": "float division",
     "output_type": "error",
     "traceback": [
      "\u001b[0;31m---------------------------------------------------------------------------\u001b[0m",
      "\u001b[0;31mZeroDivisionError\u001b[0m                         Traceback (most recent call last)",
      "\u001b[0;31mZeroDivisionError\u001b[0m: float division"
     ]
    },
    {
     "name": "stderr",
     "output_type": "stream",
     "text": [
      "Exception ignored in: '_cython_magic_d33e5aada1040c975bde92b13d65fed9.simple_fit'\n",
      "Traceback (most recent call last):\n",
      "  File \"<magic-timeit>\", line 1, in inner\n",
      "ZeroDivisionError: float division\n"
     ]
    },
    {
     "ename": "ZeroDivisionError",
     "evalue": "float division",
     "output_type": "error",
     "traceback": [
      "\u001b[0;31m---------------------------------------------------------------------------\u001b[0m",
      "\u001b[0;31mZeroDivisionError\u001b[0m                         Traceback (most recent call last)",
      "\u001b[0;31mZeroDivisionError\u001b[0m: float division"
     ]
    },
    {
     "name": "stderr",
     "output_type": "stream",
     "text": [
      "Exception ignored in: '_cython_magic_d33e5aada1040c975bde92b13d65fed9.simple_fit'\n",
      "Traceback (most recent call last):\n",
      "  File \"<magic-timeit>\", line 1, in inner\n",
      "ZeroDivisionError: float division\n"
     ]
    },
    {
     "ename": "ZeroDivisionError",
     "evalue": "float division",
     "output_type": "error",
     "traceback": [
      "\u001b[0;31m---------------------------------------------------------------------------\u001b[0m",
      "\u001b[0;31mZeroDivisionError\u001b[0m                         Traceback (most recent call last)",
      "\u001b[0;31mZeroDivisionError\u001b[0m: float division"
     ]
    },
    {
     "name": "stderr",
     "output_type": "stream",
     "text": [
      "Exception ignored in: '_cython_magic_d33e5aada1040c975bde92b13d65fed9.simple_fit'\n",
      "Traceback (most recent call last):\n",
      "  File \"<magic-timeit>\", line 1, in inner\n",
      "ZeroDivisionError: float division\n"
     ]
    },
    {
     "ename": "ZeroDivisionError",
     "evalue": "float division",
     "output_type": "error",
     "traceback": [
      "\u001b[0;31m---------------------------------------------------------------------------\u001b[0m",
      "\u001b[0;31mZeroDivisionError\u001b[0m                         Traceback (most recent call last)",
      "\u001b[0;31mZeroDivisionError\u001b[0m: float division"
     ]
    },
    {
     "name": "stderr",
     "output_type": "stream",
     "text": [
      "Exception ignored in: '_cython_magic_d33e5aada1040c975bde92b13d65fed9.simple_fit'\n",
      "Traceback (most recent call last):\n",
      "  File \"<magic-timeit>\", line 1, in inner\n",
      "ZeroDivisionError: float division\n"
     ]
    },
    {
     "ename": "ZeroDivisionError",
     "evalue": "float division",
     "output_type": "error",
     "traceback": [
      "\u001b[0;31m---------------------------------------------------------------------------\u001b[0m",
      "\u001b[0;31mZeroDivisionError\u001b[0m                         Traceback (most recent call last)",
      "\u001b[0;31mZeroDivisionError\u001b[0m: float division"
     ]
    },
    {
     "name": "stderr",
     "output_type": "stream",
     "text": [
      "Exception ignored in: '_cython_magic_d33e5aada1040c975bde92b13d65fed9.simple_fit'\n",
      "Traceback (most recent call last):\n",
      "  File \"<magic-timeit>\", line 1, in inner\n",
      "ZeroDivisionError: float division\n"
     ]
    },
    {
     "ename": "ZeroDivisionError",
     "evalue": "float division",
     "output_type": "error",
     "traceback": [
      "\u001b[0;31m---------------------------------------------------------------------------\u001b[0m",
      "\u001b[0;31mZeroDivisionError\u001b[0m                         Traceback (most recent call last)",
      "\u001b[0;31mZeroDivisionError\u001b[0m: float division"
     ]
    },
    {
     "name": "stderr",
     "output_type": "stream",
     "text": [
      "Exception ignored in: '_cython_magic_d33e5aada1040c975bde92b13d65fed9.simple_fit'\n",
      "Traceback (most recent call last):\n",
      "  File \"<magic-timeit>\", line 1, in inner\n",
      "ZeroDivisionError: float division\n"
     ]
    },
    {
     "ename": "ZeroDivisionError",
     "evalue": "float division",
     "output_type": "error",
     "traceback": [
      "\u001b[0;31m---------------------------------------------------------------------------\u001b[0m",
      "\u001b[0;31mZeroDivisionError\u001b[0m                         Traceback (most recent call last)",
      "\u001b[0;31mZeroDivisionError\u001b[0m: float division"
     ]
    },
    {
     "name": "stderr",
     "output_type": "stream",
     "text": [
      "Exception ignored in: '_cython_magic_d33e5aada1040c975bde92b13d65fed9.simple_fit'\n",
      "Traceback (most recent call last):\n",
      "  File \"<magic-timeit>\", line 1, in inner\n",
      "ZeroDivisionError: float division\n"
     ]
    },
    {
     "ename": "ZeroDivisionError",
     "evalue": "float division",
     "output_type": "error",
     "traceback": [
      "\u001b[0;31m---------------------------------------------------------------------------\u001b[0m",
      "\u001b[0;31mZeroDivisionError\u001b[0m                         Traceback (most recent call last)",
      "\u001b[0;31mZeroDivisionError\u001b[0m: float division"
     ]
    },
    {
     "name": "stderr",
     "output_type": "stream",
     "text": [
      "Exception ignored in: '_cython_magic_d33e5aada1040c975bde92b13d65fed9.simple_fit'\n",
      "Traceback (most recent call last):\n",
      "  File \"<magic-timeit>\", line 1, in inner\n",
      "ZeroDivisionError: float division\n"
     ]
    },
    {
     "ename": "ZeroDivisionError",
     "evalue": "float division",
     "output_type": "error",
     "traceback": [
      "\u001b[0;31m---------------------------------------------------------------------------\u001b[0m",
      "\u001b[0;31mZeroDivisionError\u001b[0m                         Traceback (most recent call last)",
      "\u001b[0;31mZeroDivisionError\u001b[0m: float division"
     ]
    },
    {
     "name": "stderr",
     "output_type": "stream",
     "text": [
      "Exception ignored in: '_cython_magic_d33e5aada1040c975bde92b13d65fed9.simple_fit'\n",
      "Traceback (most recent call last):\n",
      "  File \"<magic-timeit>\", line 1, in inner\n",
      "ZeroDivisionError: float division\n"
     ]
    },
    {
     "ename": "ZeroDivisionError",
     "evalue": "float division",
     "output_type": "error",
     "traceback": [
      "\u001b[0;31m---------------------------------------------------------------------------\u001b[0m",
      "\u001b[0;31mZeroDivisionError\u001b[0m                         Traceback (most recent call last)",
      "\u001b[0;31mZeroDivisionError\u001b[0m: float division"
     ]
    },
    {
     "name": "stderr",
     "output_type": "stream",
     "text": [
      "Exception ignored in: '_cython_magic_d33e5aada1040c975bde92b13d65fed9.simple_fit'\n",
      "Traceback (most recent call last):\n",
      "  File \"<magic-timeit>\", line 1, in inner\n",
      "ZeroDivisionError: float division\n"
     ]
    },
    {
     "ename": "ZeroDivisionError",
     "evalue": "float division",
     "output_type": "error",
     "traceback": [
      "\u001b[0;31m---------------------------------------------------------------------------\u001b[0m",
      "\u001b[0;31mZeroDivisionError\u001b[0m                         Traceback (most recent call last)",
      "\u001b[0;31mZeroDivisionError\u001b[0m: float division"
     ]
    },
    {
     "name": "stderr",
     "output_type": "stream",
     "text": [
      "Exception ignored in: '_cython_magic_d33e5aada1040c975bde92b13d65fed9.simple_fit'\n",
      "Traceback (most recent call last):\n",
      "  File \"<magic-timeit>\", line 1, in inner\n",
      "ZeroDivisionError: float division\n"
     ]
    },
    {
     "ename": "ZeroDivisionError",
     "evalue": "float division",
     "output_type": "error",
     "traceback": [
      "\u001b[0;31m---------------------------------------------------------------------------\u001b[0m",
      "\u001b[0;31mZeroDivisionError\u001b[0m                         Traceback (most recent call last)",
      "\u001b[0;31mZeroDivisionError\u001b[0m: float division"
     ]
    },
    {
     "name": "stderr",
     "output_type": "stream",
     "text": [
      "Exception ignored in: '_cython_magic_d33e5aada1040c975bde92b13d65fed9.simple_fit'\n",
      "Traceback (most recent call last):\n",
      "  File \"<magic-timeit>\", line 1, in inner\n",
      "ZeroDivisionError: float division\n"
     ]
    },
    {
     "ename": "ZeroDivisionError",
     "evalue": "float division",
     "output_type": "error",
     "traceback": [
      "\u001b[0;31m---------------------------------------------------------------------------\u001b[0m",
      "\u001b[0;31mZeroDivisionError\u001b[0m                         Traceback (most recent call last)",
      "\u001b[0;31mZeroDivisionError\u001b[0m: float division"
     ]
    },
    {
     "name": "stderr",
     "output_type": "stream",
     "text": [
      "Exception ignored in: '_cython_magic_d33e5aada1040c975bde92b13d65fed9.simple_fit'\n",
      "Traceback (most recent call last):\n",
      "  File \"<magic-timeit>\", line 1, in inner\n",
      "ZeroDivisionError: float division\n"
     ]
    },
    {
     "ename": "ZeroDivisionError",
     "evalue": "float division",
     "output_type": "error",
     "traceback": [
      "\u001b[0;31m---------------------------------------------------------------------------\u001b[0m",
      "\u001b[0;31mZeroDivisionError\u001b[0m                         Traceback (most recent call last)",
      "\u001b[0;31mZeroDivisionError\u001b[0m: float division"
     ]
    },
    {
     "name": "stderr",
     "output_type": "stream",
     "text": [
      "Exception ignored in: '_cython_magic_d33e5aada1040c975bde92b13d65fed9.simple_fit'\n",
      "Traceback (most recent call last):\n",
      "  File \"<magic-timeit>\", line 1, in inner\n",
      "ZeroDivisionError: float division\n"
     ]
    },
    {
     "ename": "ZeroDivisionError",
     "evalue": "float division",
     "output_type": "error",
     "traceback": [
      "\u001b[0;31m---------------------------------------------------------------------------\u001b[0m",
      "\u001b[0;31mZeroDivisionError\u001b[0m                         Traceback (most recent call last)",
      "\u001b[0;31mZeroDivisionError\u001b[0m: float division"
     ]
    },
    {
     "name": "stderr",
     "output_type": "stream",
     "text": [
      "Exception ignored in: '_cython_magic_d33e5aada1040c975bde92b13d65fed9.simple_fit'\n",
      "Traceback (most recent call last):\n",
      "  File \"<magic-timeit>\", line 1, in inner\n",
      "ZeroDivisionError: float division\n"
     ]
    },
    {
     "ename": "ZeroDivisionError",
     "evalue": "float division",
     "output_type": "error",
     "traceback": [
      "\u001b[0;31m---------------------------------------------------------------------------\u001b[0m",
      "\u001b[0;31mZeroDivisionError\u001b[0m                         Traceback (most recent call last)",
      "\u001b[0;31mZeroDivisionError\u001b[0m: float division"
     ]
    },
    {
     "name": "stderr",
     "output_type": "stream",
     "text": [
      "Exception ignored in: '_cython_magic_d33e5aada1040c975bde92b13d65fed9.simple_fit'\n",
      "Traceback (most recent call last):\n",
      "  File \"<magic-timeit>\", line 1, in inner\n",
      "ZeroDivisionError: float division\n"
     ]
    },
    {
     "ename": "ZeroDivisionError",
     "evalue": "float division",
     "output_type": "error",
     "traceback": [
      "\u001b[0;31m---------------------------------------------------------------------------\u001b[0m",
      "\u001b[0;31mZeroDivisionError\u001b[0m                         Traceback (most recent call last)",
      "\u001b[0;31mZeroDivisionError\u001b[0m: float division"
     ]
    },
    {
     "name": "stderr",
     "output_type": "stream",
     "text": [
      "Exception ignored in: '_cython_magic_d33e5aada1040c975bde92b13d65fed9.simple_fit'\n",
      "Traceback (most recent call last):\n",
      "  File \"<magic-timeit>\", line 1, in inner\n",
      "ZeroDivisionError: float division\n"
     ]
    },
    {
     "ename": "ZeroDivisionError",
     "evalue": "float division",
     "output_type": "error",
     "traceback": [
      "\u001b[0;31m---------------------------------------------------------------------------\u001b[0m",
      "\u001b[0;31mZeroDivisionError\u001b[0m                         Traceback (most recent call last)",
      "\u001b[0;31mZeroDivisionError\u001b[0m: float division"
     ]
    },
    {
     "name": "stderr",
     "output_type": "stream",
     "text": [
      "Exception ignored in: '_cython_magic_d33e5aada1040c975bde92b13d65fed9.simple_fit'\n",
      "Traceback (most recent call last):\n",
      "  File \"<magic-timeit>\", line 1, in inner\n",
      "ZeroDivisionError: float division\n"
     ]
    },
    {
     "ename": "ZeroDivisionError",
     "evalue": "float division",
     "output_type": "error",
     "traceback": [
      "\u001b[0;31m---------------------------------------------------------------------------\u001b[0m",
      "\u001b[0;31mZeroDivisionError\u001b[0m                         Traceback (most recent call last)",
      "\u001b[0;31mZeroDivisionError\u001b[0m: float division"
     ]
    },
    {
     "name": "stderr",
     "output_type": "stream",
     "text": [
      "Exception ignored in: '_cython_magic_d33e5aada1040c975bde92b13d65fed9.simple_fit'\n",
      "Traceback (most recent call last):\n",
      "  File \"<magic-timeit>\", line 1, in inner\n",
      "ZeroDivisionError: float division\n"
     ]
    },
    {
     "ename": "ZeroDivisionError",
     "evalue": "float division",
     "output_type": "error",
     "traceback": [
      "\u001b[0;31m---------------------------------------------------------------------------\u001b[0m",
      "\u001b[0;31mZeroDivisionError\u001b[0m                         Traceback (most recent call last)",
      "\u001b[0;31mZeroDivisionError\u001b[0m: float division"
     ]
    },
    {
     "name": "stderr",
     "output_type": "stream",
     "text": [
      "Exception ignored in: '_cython_magic_d33e5aada1040c975bde92b13d65fed9.simple_fit'\n",
      "Traceback (most recent call last):\n",
      "  File \"<magic-timeit>\", line 1, in inner\n",
      "ZeroDivisionError: float division\n"
     ]
    },
    {
     "name": "stdout",
     "output_type": "stream",
     "text": [
      "4.87 ms ± 907 µs per loop (mean ± std. dev. of 7 runs, 100 loops each)\n"
     ]
    }
   ],
   "source": [
    "%timeit simple_fit(-13.55)"
   ]
  },
  {
   "cell_type": "code",
   "execution_count": null,
   "metadata": {},
   "outputs": [],
   "source": []
  }
 ],
 "metadata": {
  "kernelspec": {
   "display_name": "phd_mask",
   "language": "python",
   "name": "python3"
  },
  "language_info": {
   "codemirror_mode": {
    "name": "ipython",
    "version": 3
   },
   "file_extension": ".py",
   "mimetype": "text/x-python",
   "name": "python",
   "nbconvert_exporter": "python",
   "pygments_lexer": "ipython3",
   "version": "3.10.11"
  },
  "orig_nbformat": 4
 },
 "nbformat": 4,
 "nbformat_minor": 2
}
